{
 "cells": [
  {
   "cell_type": "code",
   "execution_count": 1,
   "metadata": {
    "collapsed": true
   },
   "outputs": [],
   "source": [
    "%matplotlib inline\n",
    "\n",
    "import os, sys, gc\n",
    "from tqdm import tqdm, tqdm_notebook, tqdm_pandas\n",
    "from tqdm import trange\n",
    "import time\n",
    "from scipy import stats\n",
    "from scipy.stats import shapiro\n",
    "\n",
    "import pandas as pd\n",
    "import numpy as np\n",
    "import networkx as nx\n",
    "import seaborn as sns\n",
    "import matplotlib.pyplot as plt\n",
    "\n",
    "from multiprocessing import Pool, Process\n",
    "\n",
    "import itertools\n",
    "from modules.kidera import score_positions, score_sequence\n",
    "\n",
    "import warnings\n",
    "warnings.filterwarnings('ignore')"
   ]
  },
  {
   "cell_type": "code",
   "execution_count": 36,
   "metadata": {
    "collapsed": true
   },
   "outputs": [],
   "source": [
    "from sklearn.ensemble import RandomForestClassifier, GradientBoostingClassifier, ExtraTreesClassifier\n",
    "from sklearn.svm import SVC\n",
    "from sklearn.model_selection import train_test_split, cross_val_score, StratifiedKFold\n",
    "from sklearn.metrics import roc_curve, auc"
   ]
  },
  {
   "cell_type": "code",
   "execution_count": null,
   "metadata": {
    "collapsed": true
   },
   "outputs": [],
   "source": [
    "# Let's try and train an immunogenicity predicting model on masked peptides"
   ]
  },
  {
   "cell_type": "code",
   "execution_count": 2,
   "metadata": {
    "collapsed": true
   },
   "outputs": [],
   "source": [
    "idf1 = pd.read_csv('data/immunogenic_peptides.csv')\n",
    "anchorpos = pd.read_csv('output/anchorpos.csv')"
   ]
  },
  {
   "cell_type": "code",
   "execution_count": 15,
   "metadata": {
    "collapsed": false
   },
   "outputs": [],
   "source": [
    "iedb_mhc = idf1[idf1[' MHC Allele'].str.startswith(\"HLA\")][' MHC Allele'].unique()"
   ]
  },
  {
   "cell_type": "code",
   "execution_count": 20,
   "metadata": {
    "collapsed": false
   },
   "outputs": [
    {
     "data": {
      "text/plain": [
       "94"
      ]
     },
     "execution_count": 20,
     "metadata": {},
     "output_type": "execute_result"
    }
   ],
   "source": [
    "sum([x[:4] == 'HLA-' and x[5:][:1] == '*' and x[8:][:1] == ':' for x in iedb_mhc])"
   ]
  },
  {
   "cell_type": "code",
   "execution_count": 25,
   "metadata": {
    "collapsed": false
   },
   "outputs": [
    {
     "data": {
      "text/html": [
       "<div>\n",
       "<style scoped>\n",
       "    .dataframe tbody tr th:only-of-type {\n",
       "        vertical-align: middle;\n",
       "    }\n",
       "\n",
       "    .dataframe tbody tr th {\n",
       "        vertical-align: top;\n",
       "    }\n",
       "\n",
       "    .dataframe thead th {\n",
       "        text-align: right;\n",
       "    }\n",
       "</style>\n",
       "<table border=\"1\" class=\"dataframe\">\n",
       "  <thead>\n",
       "    <tr style=\"text-align: right;\">\n",
       "      <th></th>\n",
       "      <th>Peptide</th>\n",
       "      <th>MHC</th>\n",
       "      <th>Immunogenicity</th>\n",
       "    </tr>\n",
       "  </thead>\n",
       "  <tbody>\n",
       "    <tr>\n",
       "      <th>0</th>\n",
       "      <td>KLEDLERDL</td>\n",
       "      <td>HLA-A*02:01</td>\n",
       "      <td>1</td>\n",
       "    </tr>\n",
       "    <tr>\n",
       "      <th>1</th>\n",
       "      <td>DLMGYIPLV</td>\n",
       "      <td>HLA-A*02:01</td>\n",
       "      <td>1</td>\n",
       "    </tr>\n",
       "    <tr>\n",
       "      <th>2</th>\n",
       "      <td>QTVTSTPVQGR</td>\n",
       "      <td>HLA-A*68:01</td>\n",
       "      <td>1</td>\n",
       "    </tr>\n",
       "    <tr>\n",
       "      <th>3</th>\n",
       "      <td>TTVYPPSSTAK</td>\n",
       "      <td>HLA-A*03:01</td>\n",
       "      <td>1</td>\n",
       "    </tr>\n",
       "    <tr>\n",
       "      <th>4</th>\n",
       "      <td>LITGRLQSL</td>\n",
       "      <td>HLA-A2</td>\n",
       "      <td>1</td>\n",
       "    </tr>\n",
       "  </tbody>\n",
       "</table>\n",
       "</div>"
      ],
      "text/plain": [
       "       Peptide          MHC  Immunogenicity\n",
       "0    KLEDLERDL  HLA-A*02:01               1\n",
       "1    DLMGYIPLV  HLA-A*02:01               1\n",
       "2  QTVTSTPVQGR  HLA-A*68:01               1\n",
       "3  TTVYPPSSTAK  HLA-A*03:01               1\n",
       "4    LITGRLQSL       HLA-A2               1"
      ]
     },
     "execution_count": 25,
     "metadata": {},
     "output_type": "execute_result"
    }
   ],
   "source": [
    "idf1 = pd.read_csv('data/immunogenic_peptides.csv')\n",
    "idf2 = pd.read_csv('data/immunogenic_peptides.txt', sep='\\t')\n",
    "idf2 = idf2[idf2['Species']=='Homo']\n",
    "\n",
    "idf1 = idf1.drop(['Epitope Start', 'Epitope End', ' Epitope Source Organism Name', 'Length'], axis=1)\n",
    "idf1.columns = ['Peptide', 'MHC', 'Immunogenicity']\n",
    "\n",
    "# idf2[\"Species\"] = idf2.Peptide.str.len()\n",
    "idf2 = idf2.drop('Species', axis=1)\n",
    "idf2.columns = ['Peptide', 'MHC', 'Immunogenicity']\n",
    "\n",
    "idf1 = idf1.reset_index(drop=True)\n",
    "idf2 = idf2.reset_index(drop=True)\n",
    "idf = pd.concat([idf1, idf2], axis=0)\n",
    "idf.Immunogenicity = idf.Immunogenicity.map({'immunogenic': 1, 'non-immunogenic': 0,\n",
    "                                             'Positive': 1, 'Negative': 0})\n",
    "idf.head()"
   ]
  },
  {
   "cell_type": "code",
   "execution_count": 26,
   "metadata": {
    "collapsed": false
   },
   "outputs": [
    {
     "data": {
      "text/html": [
       "<div>\n",
       "<style scoped>\n",
       "    .dataframe tbody tr th:only-of-type {\n",
       "        vertical-align: middle;\n",
       "    }\n",
       "\n",
       "    .dataframe tbody tr th {\n",
       "        vertical-align: top;\n",
       "    }\n",
       "\n",
       "    .dataframe thead th {\n",
       "        text-align: right;\n",
       "    }\n",
       "</style>\n",
       "<table border=\"1\" class=\"dataframe\">\n",
       "  <thead>\n",
       "    <tr style=\"text-align: right;\">\n",
       "      <th></th>\n",
       "      <th>Peptide</th>\n",
       "      <th>Immunogenicity</th>\n",
       "    </tr>\n",
       "  </thead>\n",
       "  <tbody>\n",
       "    <tr>\n",
       "      <th>0</th>\n",
       "      <td>KLEDLERDL</td>\n",
       "      <td>1</td>\n",
       "    </tr>\n",
       "    <tr>\n",
       "      <th>1</th>\n",
       "      <td>DLMGYIPLV</td>\n",
       "      <td>1</td>\n",
       "    </tr>\n",
       "    <tr>\n",
       "      <th>4</th>\n",
       "      <td>LITGRLQSL</td>\n",
       "      <td>1</td>\n",
       "    </tr>\n",
       "    <tr>\n",
       "      <th>7</th>\n",
       "      <td>AVAKAGKPL</td>\n",
       "      <td>1</td>\n",
       "    </tr>\n",
       "    <tr>\n",
       "      <th>8</th>\n",
       "      <td>AMLQDIATL</td>\n",
       "      <td>1</td>\n",
       "    </tr>\n",
       "  </tbody>\n",
       "</table>\n",
       "</div>"
      ],
      "text/plain": [
       "     Peptide  Immunogenicity\n",
       "0  KLEDLERDL               1\n",
       "1  DLMGYIPLV               1\n",
       "4  LITGRLQSL               1\n",
       "7  AVAKAGKPL               1\n",
       "8  AMLQDIATL               1"
      ]
     },
     "execution_count": 26,
     "metadata": {},
     "output_type": "execute_result"
    }
   ],
   "source": [
    "maskdf = idf[idf['Peptide'].str.len()==9]\n",
    "maskdf = maskdf.drop('MHC', axis=1)\n",
    "maskdf.head()"
   ]
  },
  {
   "cell_type": "code",
   "execution_count": 27,
   "metadata": {
    "collapsed": false
   },
   "outputs": [
    {
     "data": {
      "text/html": [
       "<div>\n",
       "<style scoped>\n",
       "    .dataframe tbody tr th:only-of-type {\n",
       "        vertical-align: middle;\n",
       "    }\n",
       "\n",
       "    .dataframe tbody tr th {\n",
       "        vertical-align: top;\n",
       "    }\n",
       "\n",
       "    .dataframe thead th {\n",
       "        text-align: right;\n",
       "    }\n",
       "</style>\n",
       "<table border=\"1\" class=\"dataframe\">\n",
       "  <thead>\n",
       "    <tr style=\"text-align: right;\">\n",
       "      <th></th>\n",
       "      <th>Peptide</th>\n",
       "      <th>Immunogenicity</th>\n",
       "      <th>Masked</th>\n",
       "    </tr>\n",
       "  </thead>\n",
       "  <tbody>\n",
       "    <tr>\n",
       "      <th>0</th>\n",
       "      <td>KLEDLERDL</td>\n",
       "      <td>1</td>\n",
       "      <td>KEDLERD</td>\n",
       "    </tr>\n",
       "    <tr>\n",
       "      <th>1</th>\n",
       "      <td>DLMGYIPLV</td>\n",
       "      <td>1</td>\n",
       "      <td>DMGYIPL</td>\n",
       "    </tr>\n",
       "    <tr>\n",
       "      <th>4</th>\n",
       "      <td>LITGRLQSL</td>\n",
       "      <td>1</td>\n",
       "      <td>LTGRLQS</td>\n",
       "    </tr>\n",
       "    <tr>\n",
       "      <th>7</th>\n",
       "      <td>AVAKAGKPL</td>\n",
       "      <td>1</td>\n",
       "      <td>AAKAGKP</td>\n",
       "    </tr>\n",
       "    <tr>\n",
       "      <th>8</th>\n",
       "      <td>AMLQDIATL</td>\n",
       "      <td>1</td>\n",
       "      <td>ALQDIAT</td>\n",
       "    </tr>\n",
       "  </tbody>\n",
       "</table>\n",
       "</div>"
      ],
      "text/plain": [
       "     Peptide  Immunogenicity   Masked\n",
       "0  KLEDLERDL               1  KEDLERD\n",
       "1  DLMGYIPLV               1  DMGYIPL\n",
       "4  LITGRLQSL               1  LTGRLQS\n",
       "7  AVAKAGKPL               1  AAKAGKP\n",
       "8  AMLQDIATL               1  ALQDIAT"
      ]
     },
     "execution_count": 27,
     "metadata": {},
     "output_type": "execute_result"
    }
   ],
   "source": [
    "masked = maskdf['Peptide'].apply(lambda x: x[:1] + x[2:8])\n",
    "maskdf['Masked'] = masked\n",
    "maskdf.head()"
   ]
  },
  {
   "cell_type": "code",
   "execution_count": 28,
   "metadata": {
    "collapsed": false
   },
   "outputs": [
    {
     "data": {
      "text/html": [
       "<div>\n",
       "<style scoped>\n",
       "    .dataframe tbody tr th:only-of-type {\n",
       "        vertical-align: middle;\n",
       "    }\n",
       "\n",
       "    .dataframe tbody tr th {\n",
       "        vertical-align: top;\n",
       "    }\n",
       "\n",
       "    .dataframe thead th {\n",
       "        text-align: right;\n",
       "    }\n",
       "</style>\n",
       "<table border=\"1\" class=\"dataframe\">\n",
       "  <thead>\n",
       "    <tr style=\"text-align: right;\">\n",
       "      <th></th>\n",
       "      <th>Peptide</th>\n",
       "      <th>Immunogenicity</th>\n",
       "      <th>Masked</th>\n",
       "      <th>1</th>\n",
       "      <th>2</th>\n",
       "      <th>3</th>\n",
       "      <th>4</th>\n",
       "      <th>5</th>\n",
       "      <th>6</th>\n",
       "      <th>7</th>\n",
       "      <th>8</th>\n",
       "      <th>9</th>\n",
       "      <th>10</th>\n",
       "    </tr>\n",
       "  </thead>\n",
       "  <tbody>\n",
       "    <tr>\n",
       "      <th>0</th>\n",
       "      <td>KLEDLERDL</td>\n",
       "      <td>1</td>\n",
       "      <td>KEDLERD</td>\n",
       "      <td>-2.90</td>\n",
       "      <td>2.03</td>\n",
       "      <td>-5.48</td>\n",
       "      <td>6.43</td>\n",
       "      <td>-5.17</td>\n",
       "      <td>-2.11</td>\n",
       "      <td>0.07</td>\n",
       "      <td>0.47</td>\n",
       "      <td>1.02</td>\n",
       "      <td>3.62</td>\n",
       "    </tr>\n",
       "    <tr>\n",
       "      <th>1</th>\n",
       "      <td>DLMGYIPLV</td>\n",
       "      <td>1</td>\n",
       "      <td>DMGYIPL</td>\n",
       "      <td>2.31</td>\n",
       "      <td>-1.01</td>\n",
       "      <td>-1.03</td>\n",
       "      <td>-3.26</td>\n",
       "      <td>0.97</td>\n",
       "      <td>-1.59</td>\n",
       "      <td>0.18</td>\n",
       "      <td>1.42</td>\n",
       "      <td>-0.37</td>\n",
       "      <td>0.83</td>\n",
       "    </tr>\n",
       "    <tr>\n",
       "      <th>4</th>\n",
       "      <td>LITGRLQSL</td>\n",
       "      <td>1</td>\n",
       "      <td>LTGRLQS</td>\n",
       "      <td>0.20</td>\n",
       "      <td>-2.23</td>\n",
       "      <td>2.10</td>\n",
       "      <td>1.66</td>\n",
       "      <td>-1.91</td>\n",
       "      <td>-3.38</td>\n",
       "      <td>3.35</td>\n",
       "      <td>-2.56</td>\n",
       "      <td>-2.09</td>\n",
       "      <td>0.88</td>\n",
       "    </tr>\n",
       "    <tr>\n",
       "      <th>7</th>\n",
       "      <td>AVAKAGKPL</td>\n",
       "      <td>1</td>\n",
       "      <td>AAKAGKP</td>\n",
       "      <td>-1.84</td>\n",
       "      <td>-5.66</td>\n",
       "      <td>-4.75</td>\n",
       "      <td>1.68</td>\n",
       "      <td>1.27</td>\n",
       "      <td>-6.14</td>\n",
       "      <td>3.32</td>\n",
       "      <td>-0.34</td>\n",
       "      <td>-1.25</td>\n",
       "      <td>-0.06</td>\n",
       "    </tr>\n",
       "    <tr>\n",
       "      <th>8</th>\n",
       "      <td>AMLQDIATL</td>\n",
       "      <td>1</td>\n",
       "      <td>ALQDIAT</td>\n",
       "      <td>-4.52</td>\n",
       "      <td>-4.18</td>\n",
       "      <td>-0.69</td>\n",
       "      <td>0.13</td>\n",
       "      <td>-2.87</td>\n",
       "      <td>-2.63</td>\n",
       "      <td>-0.71</td>\n",
       "      <td>-1.80</td>\n",
       "      <td>1.70</td>\n",
       "      <td>-3.25</td>\n",
       "    </tr>\n",
       "  </tbody>\n",
       "</table>\n",
       "</div>"
      ],
      "text/plain": [
       "     Peptide  Immunogenicity   Masked     1     2     3     4     5     6  \\\n",
       "0  KLEDLERDL               1  KEDLERD -2.90  2.03 -5.48  6.43 -5.17 -2.11   \n",
       "1  DLMGYIPLV               1  DMGYIPL  2.31 -1.01 -1.03 -3.26  0.97 -1.59   \n",
       "4  LITGRLQSL               1  LTGRLQS  0.20 -2.23  2.10  1.66 -1.91 -3.38   \n",
       "7  AVAKAGKPL               1  AAKAGKP -1.84 -5.66 -4.75  1.68  1.27 -6.14   \n",
       "8  AMLQDIATL               1  ALQDIAT -4.52 -4.18 -0.69  0.13 -2.87 -2.63   \n",
       "\n",
       "      7     8     9    10  \n",
       "0  0.07  0.47  1.02  3.62  \n",
       "1  0.18  1.42 -0.37  0.83  \n",
       "4  3.35 -2.56 -2.09  0.88  \n",
       "7  3.32 -0.34 -1.25 -0.06  \n",
       "8 -0.71 -1.80  1.70 -3.25  "
      ]
     },
     "execution_count": 28,
     "metadata": {},
     "output_type": "execute_result"
    }
   ],
   "source": [
    "kidera = maskdf.Masked.apply(lambda s: score_sequence(s))\n",
    "maskdf = pd.concat([maskdf, kidera], axis=1)\n",
    "maskdf.head()"
   ]
  },
  {
   "cell_type": "code",
   "execution_count": 24,
   "metadata": {
    "collapsed": false
   },
   "outputs": [
    {
     "data": {
      "text/html": [
       "<div>\n",
       "<style scoped>\n",
       "    .dataframe tbody tr th:only-of-type {\n",
       "        vertical-align: middle;\n",
       "    }\n",
       "\n",
       "    .dataframe tbody tr th {\n",
       "        vertical-align: top;\n",
       "    }\n",
       "\n",
       "    .dataframe thead th {\n",
       "        text-align: right;\n",
       "    }\n",
       "</style>\n",
       "<table border=\"1\" class=\"dataframe\">\n",
       "  <thead>\n",
       "    <tr style=\"text-align: right;\">\n",
       "      <th></th>\n",
       "      <th>Peptide</th>\n",
       "      <th>Immunogenicity</th>\n",
       "      <th>1</th>\n",
       "      <th>2</th>\n",
       "      <th>3</th>\n",
       "      <th>4</th>\n",
       "      <th>5</th>\n",
       "      <th>6</th>\n",
       "      <th>7</th>\n",
       "      <th>8</th>\n",
       "      <th>9</th>\n",
       "      <th>10</th>\n",
       "    </tr>\n",
       "  </thead>\n",
       "  <tbody>\n",
       "    <tr>\n",
       "      <th>0</th>\n",
       "      <td>KLEDLERDL</td>\n",
       "      <td>1</td>\n",
       "      <td>-4.98</td>\n",
       "      <td>2.03</td>\n",
       "      <td>-5.96</td>\n",
       "      <td>4.23</td>\n",
       "      <td>-6.27</td>\n",
       "      <td>-6.21</td>\n",
       "      <td>1.99</td>\n",
       "      <td>-1.05</td>\n",
       "      <td>1.92</td>\n",
       "      <td>5.48</td>\n",
       "    </tr>\n",
       "    <tr>\n",
       "      <th>1</th>\n",
       "      <td>DLMGYIPLV</td>\n",
       "      <td>1</td>\n",
       "      <td>0.53</td>\n",
       "      <td>-1.72</td>\n",
       "      <td>0.77</td>\n",
       "      <td>-4.76</td>\n",
       "      <td>0.92</td>\n",
       "      <td>-4.45</td>\n",
       "      <td>0.07</td>\n",
       "      <td>0.72</td>\n",
       "      <td>-0.38</td>\n",
       "      <td>2.41</td>\n",
       "    </tr>\n",
       "    <tr>\n",
       "      <th>4</th>\n",
       "      <td>LITGRLQSL</td>\n",
       "      <td>1</td>\n",
       "      <td>-1.57</td>\n",
       "      <td>-2.39</td>\n",
       "      <td>3.65</td>\n",
       "      <td>-0.21</td>\n",
       "      <td>-3.00</td>\n",
       "      <td>-5.40</td>\n",
       "      <td>3.48</td>\n",
       "      <td>-2.81</td>\n",
       "      <td>-0.98</td>\n",
       "      <td>0.03</td>\n",
       "    </tr>\n",
       "    <tr>\n",
       "      <th>7</th>\n",
       "      <td>AVAKAGKPL</td>\n",
       "      <td>1</td>\n",
       "      <td>-3.62</td>\n",
       "      <td>-6.37</td>\n",
       "      <td>-2.95</td>\n",
       "      <td>0.18</td>\n",
       "      <td>1.22</td>\n",
       "      <td>-9.00</td>\n",
       "      <td>3.21</td>\n",
       "      <td>-1.04</td>\n",
       "      <td>-1.26</td>\n",
       "      <td>1.52</td>\n",
       "    </tr>\n",
       "    <tr>\n",
       "      <th>8</th>\n",
       "      <td>AMLQDIATL</td>\n",
       "      <td>1</td>\n",
       "      <td>-6.96</td>\n",
       "      <td>-4.00</td>\n",
       "      <td>-1.35</td>\n",
       "      <td>-1.70</td>\n",
       "      <td>-1.42</td>\n",
       "      <td>-3.16</td>\n",
       "      <td>0.51</td>\n",
       "      <td>-2.45</td>\n",
       "      <td>0.88</td>\n",
       "      <td>-2.05</td>\n",
       "    </tr>\n",
       "  </tbody>\n",
       "</table>\n",
       "</div>"
      ],
      "text/plain": [
       "     Peptide  Immunogenicity     1     2     3     4     5     6     7     8  \\\n",
       "0  KLEDLERDL               1 -4.98  2.03 -5.96  4.23 -6.27 -6.21  1.99 -1.05   \n",
       "1  DLMGYIPLV               1  0.53 -1.72  0.77 -4.76  0.92 -4.45  0.07  0.72   \n",
       "4  LITGRLQSL               1 -1.57 -2.39  3.65 -0.21 -3.00 -5.40  3.48 -2.81   \n",
       "7  AVAKAGKPL               1 -3.62 -6.37 -2.95  0.18  1.22 -9.00  3.21 -1.04   \n",
       "8  AMLQDIATL               1 -6.96 -4.00 -1.35 -1.70 -1.42 -3.16  0.51 -2.45   \n",
       "\n",
       "      9    10  \n",
       "0  1.92  5.48  \n",
       "1 -0.38  2.41  \n",
       "4 -0.98  0.03  \n",
       "7 -1.26  1.52  \n",
       "8  0.88 -2.05  "
      ]
     },
     "execution_count": 24,
     "metadata": {},
     "output_type": "execute_result"
    }
   ],
   "source": [
    "idf1 = idf.Peptide.apply(lambda s: score_sequence(s))\n",
    "idf = pd.concat([idf, idf1], axis=1)\n",
    "features = [\"helix.bend.pref\", \"side.chain.size\",\\\n",
    "        \"extended.str.pref\", \"hydrophobicity\", \"double.bend.pref\", \"partial.spec.vol\",\\\n",
    "        \"flat.ext.pref\", \"occurrence.alpha.reg\", \"pK.C\", \"surrounding.hydrop\"]\n",
    "idf.head()"
   ]
  },
  {
   "cell_type": "code",
   "execution_count": 31,
   "metadata": {
    "collapsed": false
   },
   "outputs": [],
   "source": [
    "X = maskdf[[1, 2, 3, 4, 5, 6, 7, 8, 9, 10]].values\n",
    "y = maskdf['Immunogenicity'].values\n",
    "X_train, X_test, y_train, y_test = train_test_split(X, y, test_size=0.2, random_state=42)"
   ]
  },
  {
   "cell_type": "code",
   "execution_count": 34,
   "metadata": {
    "collapsed": false
   },
   "outputs": [
    {
     "data": {
      "text/html": [
       "<div>\n",
       "<style scoped>\n",
       "    .dataframe tbody tr th:only-of-type {\n",
       "        vertical-align: middle;\n",
       "    }\n",
       "\n",
       "    .dataframe tbody tr th {\n",
       "        vertical-align: top;\n",
       "    }\n",
       "\n",
       "    .dataframe thead th {\n",
       "        text-align: right;\n",
       "    }\n",
       "</style>\n",
       "<table border=\"1\" class=\"dataframe\">\n",
       "  <thead>\n",
       "    <tr style=\"text-align: right;\">\n",
       "      <th></th>\n",
       "      <th>Importance</th>\n",
       "    </tr>\n",
       "  </thead>\n",
       "  <tbody>\n",
       "    <tr>\n",
       "      <th>hydrophobicity</th>\n",
       "      <td>0.253192</td>\n",
       "    </tr>\n",
       "    <tr>\n",
       "      <th>double.bend.pref</th>\n",
       "      <td>0.101203</td>\n",
       "    </tr>\n",
       "    <tr>\n",
       "      <th>partial.spec.vol</th>\n",
       "      <td>0.099756</td>\n",
       "    </tr>\n",
       "    <tr>\n",
       "      <th>flat.ext.pref</th>\n",
       "      <td>0.087437</td>\n",
       "    </tr>\n",
       "    <tr>\n",
       "      <th>helix.bend.pref</th>\n",
       "      <td>0.085595</td>\n",
       "    </tr>\n",
       "    <tr>\n",
       "      <th>pK.C</th>\n",
       "      <td>0.078596</td>\n",
       "    </tr>\n",
       "    <tr>\n",
       "      <th>side.chain.size</th>\n",
       "      <td>0.074663</td>\n",
       "    </tr>\n",
       "    <tr>\n",
       "      <th>occurrence.alpha.reg</th>\n",
       "      <td>0.073729</td>\n",
       "    </tr>\n",
       "    <tr>\n",
       "      <th>extended.str.pref</th>\n",
       "      <td>0.073219</td>\n",
       "    </tr>\n",
       "    <tr>\n",
       "      <th>surrounding.hydrop</th>\n",
       "      <td>0.072612</td>\n",
       "    </tr>\n",
       "  </tbody>\n",
       "</table>\n",
       "</div>"
      ],
      "text/plain": [
       "                      Importance\n",
       "hydrophobicity          0.253192\n",
       "double.bend.pref        0.101203\n",
       "partial.spec.vol        0.099756\n",
       "flat.ext.pref           0.087437\n",
       "helix.bend.pref         0.085595\n",
       "pK.C                    0.078596\n",
       "side.chain.size         0.074663\n",
       "occurrence.alpha.reg    0.073729\n",
       "extended.str.pref       0.073219\n",
       "surrounding.hydrop      0.072612"
      ]
     },
     "execution_count": 34,
     "metadata": {},
     "output_type": "execute_result"
    }
   ],
   "source": [
    "forest = RandomForestClassifier(100, max_features=None, min_samples_split=3, min_samples_leaf=3,\\\n",
    "                                random_state=42, n_jobs=-1, oob_score=True)\n",
    "forest.fit(X_train, y_train)\n",
    "feats_imp = pd.DataFrame(forest.feature_importances_,\n",
    "                        index=features, \n",
    "                        columns=['Importance']).sort_values(['Importance'], \n",
    "                                                     ascending=False)\n",
    "feats_imp"
   ]
  },
  {
   "cell_type": "code",
   "execution_count": 48,
   "metadata": {
    "collapsed": false
   },
   "outputs": [
    {
     "name": "stdout",
     "output_type": "stream",
     "text": [
      "RandomForestClassifier 0.809618297563\n",
      "GradientBoostingClassifier 0.738245766053\n",
      "SVC 0.78697745837\n",
      "ExtraTreesClassifier 0.800847215714\n"
     ]
    }
   ],
   "source": [
    "clfs = [\n",
    "    RandomForestClassifier(100, max_features=None, min_samples_split=3, min_samples_leaf=3,\n",
    "                                random_state=42, n_jobs=-1, oob_score=True),\n",
    "    GradientBoostingClassifier(n_estimators=10, learning_rate=1.0, max_depth=1),\n",
    "    SVC(random_state=42, probability=True),\n",
    "    ExtraTreesClassifier(bootstrap=True, max_features=6, min_samples_leaf=4, \n",
    "                                min_samples_split=3, n_estimators=100, n_jobs=-1, oob_score=True, random_state=42)\n",
    "]\n",
    "\n",
    "cv = StratifiedKFold(n_splits=10)\n",
    "\n",
    "for clf in clfs:\n",
    "    print(type(clf).__name__, np.mean(cross_val_score(clf, X_train, y_train, cv=cv, scoring=\"roc_auc\", n_jobs=-1)))"
   ]
  },
  {
   "cell_type": "code",
   "execution_count": 49,
   "metadata": {
    "collapsed": true
   },
   "outputs": [],
   "source": [
    "for clf in clfs:\n",
    "    clf.fit(X=X_train, y=y_train)"
   ]
  },
  {
   "cell_type": "code",
   "execution_count": 65,
   "metadata": {
    "collapsed": false
   },
   "outputs": [
    {
     "data": {
      "image/png": "[encoded data removed]",
      "text/plain": [
       "<matplotlib.figure.Figure at 0x7f2a344db400>"
      ]
     },
     "metadata": {},
     "output_type": "display_data"
    },
    {
     "data": {
      "image/png": "[encoded data removed]",
      "text/plain": [
       "<matplotlib.figure.Figure at 0x7f2a341be048>"
      ]
     },
     "metadata": {},
     "output_type": "display_data"
    },
    {
     "data": {
      "image/png": "[encoded data removed]",
      "text/plain": [
       "<matplotlib.figure.Figure at 0x7f2a340ceef0>"
      ]
     },
     "metadata": {},
     "output_type": "display_data"
    },
    {
     "data": {
      "image/png": "[encoded data removed]",
      "text/plain": [
       "<matplotlib.figure.Figure at 0x7f2a341a2940>"
      ]
     },
     "metadata": {},
     "output_type": "display_data"
    }
   ],
   "source": [
    "def plot_roc_auc(clf, title):\n",
    "    y_score = clf.predict_proba(X_test)\n",
    "    fpr, tpr, _ = roc_curve(y_test, y_score[:, 1])\n",
    "    roc_auc = auc(fpr, tpr)\n",
    "    lw = 2\n",
    "    plt.plot(fpr, tpr, color='darkorange',\n",
    "             lw=lw, label='ROC curve (area = %0.2f)' % roc_auc)\n",
    "    plt.plot([0, 1], [0, 1], color='navy', lw=lw, linestyle='--')\n",
    "    plt.xlim([0.0, 1.0])\n",
    "    plt.ylim([0.0, 1.05])\n",
    "    plt.xlabel('False Positive Rate')\n",
    "    plt.ylabel('True Positive Rate')\n",
    "    plt.title(title)\n",
    "    plt.legend(loc=\"lower right\")\n",
    "    \n",
    "names = [\"RandomForestClassifier\",\n",
    "         \"GradientBoostingClassifier\",\n",
    "         \"SVC\",\n",
    "         \"ExtraTreesClassifier\"]\n",
    "    \n",
    "for i in range(len(clfs)):\n",
    "    plt.figure(figsize=(6, 4))\n",
    "    plot_roc_auc(clfs[i], names[i])\n",
    "plt.tight_layout()"
   ]
  },
  {
   "cell_type": "code",
   "execution_count": null,
   "metadata": {
    "collapsed": true
   },
   "outputs": [],
   "source": []
  }
 ],
 "metadata": {
  "anaconda-cloud": {},
  "kernelspec": {
   "display_name": "Python [default]",
   "language": "python",
   "name": "python3"
  },
  "language_info": {
   "codemirror_mode": {
    "name": "ipython",
    "version": 3
   },
   "file_extension": ".py",
   "mimetype": "text/x-python",
   "name": "python",
   "nbconvert_exporter": "python",
   "pygments_lexer": "ipython3",
   "version": "3.5.4"
  }
 },
 "nbformat": 4,
 "nbformat_minor": 1
}
