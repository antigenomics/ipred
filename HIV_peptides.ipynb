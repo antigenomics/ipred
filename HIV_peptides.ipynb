{
 "cells": [
  {
   "cell_type": "code",
   "execution_count": 1,
   "metadata": {
    "collapsed": false
   },
   "outputs": [
    {
     "name": "stdout",
     "output_type": "stream",
     "text": [
      "Populating the interactive namespace from numpy and matplotlib\n"
     ]
    },
    {
     "name": "stderr",
     "output_type": "stream",
     "text": [
      "Using Theano backend.\n",
      "/home/vts/anaconda3/envs/python2/lib/python2.7/site-packages/sklearn/cross_validation.py:44: DeprecationWarning: This module was deprecated in version 0.18 in favor of the model_selection module into which all the refactored classes and functions are moved. Also note that the interface of the new CV iterators are different from that of this module. This module will be removed in 0.20.\n",
      "  \"This module will be removed in 0.20.\", DeprecationWarning)\n",
      "WARNING:root:You will probably get deadlocks on Python earlier than 3.4 if you set n_jobs to anything other than 1.\n"
     ]
    }
   ],
   "source": [
    "%matplotlib inline\n",
    "%pylab inline\n",
    "import os\n",
    "import pandas as pd\n",
    "import numpy as np\n",
    "import matplotlib.pyplot as plt\n",
    "import pylab as pl\n",
    "from __future__ import division\n",
    "from mhcflurry import predict\n",
    "from mhcflurry import class1_allele_specific\n",
    "from sklearn.metrics import confusion_matrix, accuracy_score, roc_auc_score, roc_curve\n",
    "from modules.utils import coding, make_predictions"
   ]
  },
  {
   "cell_type": "code",
   "execution_count": 2,
   "metadata": {
    "collapsed": false
   },
   "outputs": [
    {
     "name": "stdout",
     "output_type": "stream",
     "text": [
      "Reading HIV_peptides.csv\n"
     ]
    }
   ],
   "source": [
    "filepath = \"./data/HIV_peptides.csv\"\n",
    "if os.path.isfile(filepath):\n",
    "    df = pd.read_csv(filepath, sep=\",\")\n",
    "    print(\"Reading {}\".format(os.path.basename(filepath)))\n",
    "else:\n",
    "    print(\"File path is wrong\")"
   ]
  },
  {
   "cell_type": "code",
   "execution_count": 3,
   "metadata": {
    "collapsed": false
   },
   "outputs": [
    {
     "name": "stdout",
     "output_type": "stream",
     "text": [
      "1610\n"
     ]
    },
    {
     "data": {
      "text/html": [
       "<div>\n",
       "<table border=\"1\" class=\"dataframe\">\n",
       "  <thead>\n",
       "    <tr style=\"text-align: right;\">\n",
       "      <th></th>\n",
       "      <th>binder</th>\n",
       "      <th>non_binder</th>\n",
       "      <th>mhc</th>\n",
       "    </tr>\n",
       "  </thead>\n",
       "  <tbody>\n",
       "    <tr>\n",
       "      <th>1</th>\n",
       "      <td>GELDRWEKI</td>\n",
       "      <td>GELDRWkKI</td>\n",
       "      <td>B40</td>\n",
       "    </tr>\n",
       "    <tr>\n",
       "      <th>2</th>\n",
       "      <td>KIRLRPGGK</td>\n",
       "      <td>KIRLRPGGq</td>\n",
       "      <td>A3</td>\n",
       "    </tr>\n",
       "  </tbody>\n",
       "</table>\n",
       "</div>"
      ],
      "text/plain": [
       "      binder non_binder  mhc\n",
       "1  GELDRWEKI  GELDRWkKI  B40\n",
       "2  KIRLRPGGK  KIRLRPGGq   A3"
      ]
     },
     "execution_count": 3,
     "metadata": {},
     "output_type": "execute_result"
    }
   ],
   "source": [
    "df = df.dropna()\n",
    "df = df.drop('Unnamed: 0', 1)\n",
    "df.index = range(1,len(df) + 1)\n",
    "print(len(df))\n",
    "df.head(2)"
   ]
  },
  {
   "cell_type": "code",
   "execution_count": 4,
   "metadata": {
    "collapsed": false
   },
   "outputs": [
    {
     "data": {
      "text/plain": [
       "'GELDRWkKI'"
      ]
     },
     "execution_count": 4,
     "metadata": {},
     "output_type": "execute_result"
    }
   ],
   "source": [
    "df[\"non_binder\"].iloc[0]"
   ]
  },
  {
   "cell_type": "code",
   "execution_count": 5,
   "metadata": {
    "collapsed": false
   },
   "outputs": [
    {
     "name": "stdout",
     "output_type": "stream",
     "text": [
      "3220\n"
     ]
    },
    {
     "data": {
      "text/html": [
       "<div>\n",
       "<table border=\"1\" class=\"dataframe\">\n",
       "  <thead>\n",
       "    <tr style=\"text-align: right;\">\n",
       "      <th></th>\n",
       "      <th>Binding</th>\n",
       "      <th>MHC</th>\n",
       "      <th>Peptide</th>\n",
       "    </tr>\n",
       "  </thead>\n",
       "  <tbody>\n",
       "    <tr>\n",
       "      <th>0</th>\n",
       "      <td>Binder</td>\n",
       "      <td>B40</td>\n",
       "      <td>GELDRWEKI</td>\n",
       "    </tr>\n",
       "    <tr>\n",
       "      <th>1</th>\n",
       "      <td>Non_binder</td>\n",
       "      <td>B40</td>\n",
       "      <td>GELDRWKKI</td>\n",
       "    </tr>\n",
       "    <tr>\n",
       "      <th>2</th>\n",
       "      <td>Binder</td>\n",
       "      <td>A3</td>\n",
       "      <td>KIRLRPGGK</td>\n",
       "    </tr>\n",
       "    <tr>\n",
       "      <th>3</th>\n",
       "      <td>Non_binder</td>\n",
       "      <td>A3</td>\n",
       "      <td>KIRLRPGGQ</td>\n",
       "    </tr>\n",
       "    <tr>\n",
       "      <th>4</th>\n",
       "      <td>Binder</td>\n",
       "      <td>A3</td>\n",
       "      <td>KIRLRPGGK</td>\n",
       "    </tr>\n",
       "  </tbody>\n",
       "</table>\n",
       "</div>"
      ],
      "text/plain": [
       "      Binding  MHC    Peptide\n",
       "0      Binder  B40  GELDRWEKI\n",
       "1  Non_binder  B40  GELDRWKKI\n",
       "2      Binder   A3  KIRLRPGGK\n",
       "3  Non_binder   A3  KIRLRPGGQ\n",
       "4      Binder   A3  KIRLRPGGK"
      ]
     },
     "execution_count": 5,
     "metadata": {},
     "output_type": "execute_result"
    }
   ],
   "source": [
    "#wdf = pd.DataFrame(columns=(\"Peptides\", \"MHC\", \"Binding\"))\n",
    "rows_list = []\n",
    "for i in range(len(df)):\n",
    "    dict1 = {}\n",
    "    dict2 = {}\n",
    "    dict1.update({'Peptide' : df['binder'].iloc[i], 'MHC' : df['mhc'].iloc[i], 'Binding' : 'Binder'})\n",
    "    dict2.update({'Peptide' : df['non_binder'].iloc[i], 'MHC' : df['mhc'].iloc[i], 'Binding' : 'Non_binder'})\n",
    "    rows_list.append(dict1)\n",
    "    rows_list.append(dict2)\n",
    "wdf = pd.DataFrame(rows_list)\n",
    "print(len(wdf))\n",
    "wdf['Peptide'] = wdf['Peptide'].str.upper()\n",
    "wdf.head()"
   ]
  },
  {
   "cell_type": "code",
   "execution_count": 6,
   "metadata": {
    "collapsed": false
   },
   "outputs": [
    {
     "name": "stdout",
     "output_type": "stream",
     "text": [
      "['A*01' 'A*0101' 'A*02' 'A*02, A*03' 'A*0201' 'A*0201, A*3002' 'A*0201, A2'\n",
      " 'A*0202, A2' 'A*0205' 'A*0207' 'A*03' 'A*03, A*11' 'A*0301' 'A*0301, A*11'\n",
      " 'A*0301, A*1101, A3, A*6801' 'A*0301, A*6801' 'A*11' 'A*1101' 'A*23'\n",
      " 'A*23, A*2402, B*0801' 'A*23, A24' 'A*24' 'A*2402' 'A*2501' 'A*2601'\n",
      " 'A*2601, A*2603' 'A*2603' 'A*2902' 'A*3002' 'A*31' 'A*3101' 'A*3201'\n",
      " 'A*33' 'A*6801' 'A*6802' 'A1' 'A11' 'A11, A3' 'A2' 'A2, A3' 'A2, B62'\n",
      " 'A2, B8' 'A2.1' 'A24' 'A24, B*5101' 'A24, B35' 'A25' 'A26' 'A26, B70'\n",
      " 'A29' 'A3' 'A3 supertype, A*6801' 'A3, A30, B42, B62' 'A3, B7' 'A3, Cw3'\n",
      " 'A30' 'A32, B14' 'A3?' 'B*07' 'B*0702' 'B*08' 'B*0801' 'B*13' 'B*1401'\n",
      " 'B*1402' 'B*15' 'B*1501' 'B*1503' 'B*1510' 'B*1510, B70' 'B*1801' 'B*27'\n",
      " 'B*2705' 'B*35' 'B*3501' 'B*37' 'B*3801' 'B*40' 'B*4001' 'B*4001, B50'\n",
      " 'B*4201' 'B*4201, B*4202' 'B*4202' 'B*4402' 'B*4402, B*4403' 'B*4403'\n",
      " 'B*4501' 'B*4801' 'B*51' 'B*5101' 'B*5401' 'B*57' 'B*57, B*58'\n",
      " 'B*57, B*5801' 'B*5701' 'B*5701, B*5703' 'B*5701, B*58' 'B*5701, B*5801'\n",
      " 'B*5702, B*5703, B*5801' 'B*5703' 'B*5703, B*5801' 'B*5801'\n",
      " 'B*5801, B*5802' 'B*81' 'B*8101' 'B13' 'B14' 'B14, B*1402' 'B15'\n",
      " 'B15, B*1516, B63' 'B18' 'B18, B35' 'B18, B35, B49, B53, B7'\n",
      " 'B18, B40, B44' 'B18, B49' 'B18, B53, B7' 'B27' 'B27, B*2705' 'B35' 'B40'\n",
      " 'B42' 'B42, B7' 'B42, B7, B81' 'B44' 'B45' 'B49' 'B51' 'B52' 'B53'\n",
      " 'B53, B58' 'B53, Cw4' 'B55' 'B55, B*5501' 'B57' 'B57, B*5801' 'B57, B58'\n",
      " 'B58' 'B60' 'B62' 'B62, Cw8' 'B7' 'B7 supertype' 'B7, B8' 'B70' 'B8' 'B81'\n",
      " 'Cw*0102' 'Cw*03' 'Cw*0303' 'Cw*0304' 'Cw*0401' 'Cw*05' 'Cw*0701'\n",
      " 'Cw*0702' 'Cw*08' 'Cw*0802' 'Cw*12' 'Cw*1202' 'Cw*1203' 'Cw1' 'Cw3' 'Cw4'\n",
      " 'Cw5' 'Cw7' 'Cw8' 'H-2<sup>d</sup>' 'H-2D<sup>d</sup>' 'H-2K<sup>d</sup>'\n",
      " 'Mamu A*01' 'Mamu-A*01']\n"
     ]
    }
   ],
   "source": [
    "print(unique(wdf['MHC']))"
   ]
  },
  {
   "cell_type": "code",
   "execution_count": 7,
   "metadata": {
    "collapsed": false
   },
   "outputs": [],
   "source": [
    "def f(row):\n",
    "    if len(row['MHC']) == 6 and ',' not in row['MHC']:\n",
    "        return 'HLA-{}'.format(row['MHC'])\n",
    "#     if len(row['MHC']) == 4 and ',' not in row['MHC']:\n",
    "#         return 'HLA-{}01'.format(row['MHC'])\n",
    "\n",
    "wdf['MHC'] = wdf.apply(f, axis=1)"
   ]
  },
  {
   "cell_type": "code",
   "execution_count": 8,
   "metadata": {
    "collapsed": false,
    "scrolled": true
   },
   "outputs": [
    {
     "data": {
      "text/html": [
       "<div>\n",
       "<table border=\"1\" class=\"dataframe\">\n",
       "  <thead>\n",
       "    <tr style=\"text-align: right;\">\n",
       "      <th></th>\n",
       "      <th>Binding</th>\n",
       "      <th>MHC</th>\n",
       "      <th>Peptide</th>\n",
       "    </tr>\n",
       "  </thead>\n",
       "  <tbody>\n",
       "    <tr>\n",
       "      <th>8</th>\n",
       "      <td>Binder</td>\n",
       "      <td>HLA-A*0301</td>\n",
       "      <td>KIRLRPGGK</td>\n",
       "    </tr>\n",
       "    <tr>\n",
       "      <th>9</th>\n",
       "      <td>Non_binder</td>\n",
       "      <td>HLA-A*0301</td>\n",
       "      <td>KIRLRPGGR</td>\n",
       "    </tr>\n",
       "    <tr>\n",
       "      <th>26</th>\n",
       "      <td>Binder</td>\n",
       "      <td>HLA-A*0301</td>\n",
       "      <td>RLRPGGKKK</td>\n",
       "    </tr>\n",
       "    <tr>\n",
       "      <th>27</th>\n",
       "      <td>Non_binder</td>\n",
       "      <td>HLA-A*0301</td>\n",
       "      <td>RLRPGGKKQ</td>\n",
       "    </tr>\n",
       "    <tr>\n",
       "      <th>42</th>\n",
       "      <td>Binder</td>\n",
       "      <td>HLA-A*0301</td>\n",
       "      <td>RLRPGGKKK</td>\n",
       "    </tr>\n",
       "  </tbody>\n",
       "</table>\n",
       "</div>"
      ],
      "text/plain": [
       "       Binding         MHC    Peptide\n",
       "8       Binder  HLA-A*0301  KIRLRPGGK\n",
       "9   Non_binder  HLA-A*0301  KIRLRPGGR\n",
       "26      Binder  HLA-A*0301  RLRPGGKKK\n",
       "27  Non_binder  HLA-A*0301  RLRPGGKKQ\n",
       "42      Binder  HLA-A*0301  RLRPGGKKK"
      ]
     },
     "execution_count": 8,
     "metadata": {},
     "output_type": "execute_result"
    }
   ],
   "source": [
    "wdf = wdf.dropna()\n",
    "wdf.head(5)"
   ]
  },
  {
   "cell_type": "code",
   "execution_count": 9,
   "metadata": {
    "collapsed": false
   },
   "outputs": [
    {
     "data": {
      "text/plain": [
       "array(['HLA-A*0101', 'HLA-A*0201', 'HLA-A*0205', 'HLA-A*0207',\n",
       "       'HLA-A*0301', 'HLA-A*1101', 'HLA-A*2402', 'HLA-A*2501',\n",
       "       'HLA-A*2601', 'HLA-A*2603', 'HLA-A*2902', 'HLA-A*3002',\n",
       "       'HLA-A*3101', 'HLA-A*3201', 'HLA-A*6801', 'HLA-A*6802',\n",
       "       'HLA-B*0702', 'HLA-B*0801', 'HLA-B*1401', 'HLA-B*1402',\n",
       "       'HLA-B*1501', 'HLA-B*1503', 'HLA-B*1510', 'HLA-B*1801',\n",
       "       'HLA-B*2705', 'HLA-B*3501', 'HLA-B*3801', 'HLA-B*4001',\n",
       "       'HLA-B*4201', 'HLA-B*4202', 'HLA-B*4402', 'HLA-B*4403',\n",
       "       'HLA-B*4501', 'HLA-B*4801', 'HLA-B*5101', 'HLA-B*5401',\n",
       "       'HLA-B*5701', 'HLA-B*5703', 'HLA-B*5801', 'HLA-B*8101'], dtype=object)"
      ]
     },
     "execution_count": 9,
     "metadata": {},
     "output_type": "execute_result"
    }
   ],
   "source": [
    "unique(wdf['MHC'])"
   ]
  },
  {
   "cell_type": "code",
   "execution_count": 10,
   "metadata": {
    "collapsed": false
   },
   "outputs": [
    {
     "data": {
      "text/html": [
       "<div>\n",
       "<table border=\"1\" class=\"dataframe\">\n",
       "  <thead>\n",
       "    <tr style=\"text-align: right;\">\n",
       "      <th></th>\n",
       "      <th>Binding</th>\n",
       "      <th>MHC</th>\n",
       "      <th>Peptide</th>\n",
       "    </tr>\n",
       "  </thead>\n",
       "  <tbody>\n",
       "    <tr>\n",
       "      <th>8</th>\n",
       "      <td>Binder</td>\n",
       "      <td>HLA-A0301</td>\n",
       "      <td>KIRLRPGGK</td>\n",
       "    </tr>\n",
       "    <tr>\n",
       "      <th>9</th>\n",
       "      <td>Non_binder</td>\n",
       "      <td>HLA-A0301</td>\n",
       "      <td>KIRLRPGGR</td>\n",
       "    </tr>\n",
       "    <tr>\n",
       "      <th>26</th>\n",
       "      <td>Binder</td>\n",
       "      <td>HLA-A0301</td>\n",
       "      <td>RLRPGGKKK</td>\n",
       "    </tr>\n",
       "    <tr>\n",
       "      <th>27</th>\n",
       "      <td>Non_binder</td>\n",
       "      <td>HLA-A0301</td>\n",
       "      <td>RLRPGGKKQ</td>\n",
       "    </tr>\n",
       "    <tr>\n",
       "      <th>43</th>\n",
       "      <td>Non_binder</td>\n",
       "      <td>HLA-A0301</td>\n",
       "      <td>RLRPGGRKK</td>\n",
       "    </tr>\n",
       "    <tr>\n",
       "      <th>58</th>\n",
       "      <td>Binder</td>\n",
       "      <td>HLA-B4201</td>\n",
       "      <td>RLRPGGKKHY</td>\n",
       "    </tr>\n",
       "    <tr>\n",
       "      <th>59</th>\n",
       "      <td>Non_binder</td>\n",
       "      <td>HLA-B4201</td>\n",
       "      <td>KLRPGGKKHY</td>\n",
       "    </tr>\n",
       "    <tr>\n",
       "      <th>61</th>\n",
       "      <td>Non_binder</td>\n",
       "      <td>HLA-B4201</td>\n",
       "      <td>RLRPGGKKRY</td>\n",
       "    </tr>\n",
       "    <tr>\n",
       "      <th>63</th>\n",
       "      <td>Non_binder</td>\n",
       "      <td>HLA-B4201</td>\n",
       "      <td>RLRPGGKKQY</td>\n",
       "    </tr>\n",
       "    <tr>\n",
       "      <th>92</th>\n",
       "      <td>Binder</td>\n",
       "      <td>HLA-B0801</td>\n",
       "      <td>GGKKKYKL</td>\n",
       "    </tr>\n",
       "  </tbody>\n",
       "</table>\n",
       "</div>"
      ],
      "text/plain": [
       "       Binding        MHC     Peptide\n",
       "8       Binder  HLA-A0301   KIRLRPGGK\n",
       "9   Non_binder  HLA-A0301   KIRLRPGGR\n",
       "26      Binder  HLA-A0301   RLRPGGKKK\n",
       "27  Non_binder  HLA-A0301   RLRPGGKKQ\n",
       "43  Non_binder  HLA-A0301   RLRPGGRKK\n",
       "58      Binder  HLA-B4201  RLRPGGKKHY\n",
       "59  Non_binder  HLA-B4201  KLRPGGKKHY\n",
       "61  Non_binder  HLA-B4201  RLRPGGKKRY\n",
       "63  Non_binder  HLA-B4201  RLRPGGKKQY\n",
       "92      Binder  HLA-B0801    GGKKKYKL"
      ]
     },
     "execution_count": 10,
     "metadata": {},
     "output_type": "execute_result"
    }
   ],
   "source": [
    "wdf = wdf.drop_duplicates()\n",
    "wdf['MHC'] = wdf['MHC'].str.replace('*', '')\n",
    "wdf.head(10)"
   ]
  },
  {
   "cell_type": "code",
   "execution_count": 11,
   "metadata": {
    "collapsed": false
   },
   "outputs": [
    {
     "name": "stdout",
     "output_type": "stream",
     "text": [
      "Predictions made\n",
      "Number of warnings is 44\n",
      "                   0\n",
      "Binding       Binder\n",
      "MHC        HLA-B5703\n",
      "Peptide  KAFSPEVIPMF\n",
      "Binding   Non_binder\n",
      "MHC        HLA-B5703\n",
      "Peptide  KNFSPEVIPMF\n",
      "Binding   Non_binder\n",
      "MHC        HLA-B5703\n",
      "Peptide  RAFSPEVIPMF\n",
      "Binding       Binder\n",
      "MHC        HLA-B4202\n",
      "Peptide    TPQDLNMML\n",
      "Binding   Non_binder\n",
      "MHC        HLA-B4202\n",
      "Peptide    TPQDLNTML\n",
      "Binding       Binder\n",
      "MHC        HLA-B8101\n",
      "Peptide    TPQDLNTML\n",
      "Binding   Non_binder\n",
      "MHC        HLA-B8101\n",
      "Peptide    TPEDLNTML\n",
      "Binding   Non_binder\n",
      "MHC        HLA-B8101\n",
      "Peptide    TPQDLNMML\n",
      "Binding   Non_binder\n",
      "MHC        HLA-B8101\n",
      "Peptide    TPQDLNAML\n",
      "Binding   Non_binder\n",
      "MHC        HLA-B8101\n",
      "Peptide    TPADLNTML\n",
      "...              ...\n",
      "Binding       Binder\n",
      "MHC        HLA-A0205\n",
      "Peptide    RIRQGLERA\n",
      "Binding   Non_binder\n",
      "MHC        HLA-A0205\n",
      "Peptide    RIRQGFERA\n",
      "Binding   Non_binder\n",
      "MHC        HLA-A0205\n",
      "Peptide    RIRQGLEAA\n",
      "Binding   Non_binder\n",
      "MHC        HLA-A0205\n",
      "Peptide    RIRQGLFRA\n",
      "Binding       Binder\n",
      "MHC        HLA-B8101\n",
      "Peptide    RPQVPLRPM\n",
      "Binding   Non_binder\n",
      "MHC        HLA-B8101\n",
      "Peptide    RPQVPVRPM\n",
      "Binding   Non_binder\n",
      "MHC        HLA-B8101\n",
      "Peptide    RPQVPTRPM\n",
      "Binding   Non_binder\n",
      "MHC        HLA-B8101\n",
      "Peptide    RPQVPMRPM\n",
      "Binding   Non_binder\n",
      "MHC        HLA-B8101\n",
      "Peptide    RPQMPLRPM\n",
      "Binding   Non_binder\n",
      "MHC        HLA-B8101\n",
      "Peptide    RPQVPIRPM\n",
      "\n",
      "[132 rows x 1 columns]\n"
     ]
    }
   ],
   "source": [
    "predictions, warning_loc = make_predictions(wdf);"
   ]
  },
  {
   "cell_type": "code",
   "execution_count": 12,
   "metadata": {
    "collapsed": false
   },
   "outputs": [
    {
     "data": {
      "text/html": [
       "<div>\n",
       "<table border=\"1\" class=\"dataframe\">\n",
       "  <thead>\n",
       "    <tr style=\"text-align: right;\">\n",
       "      <th></th>\n",
       "      <th>Allele</th>\n",
       "      <th>Peptide</th>\n",
       "      <th>Prediction</th>\n",
       "    </tr>\n",
       "  </thead>\n",
       "  <tbody>\n",
       "    <tr>\n",
       "      <th>0</th>\n",
       "      <td>HLA-A0301</td>\n",
       "      <td>KIRLRPGGK</td>\n",
       "      <td>44.690437</td>\n",
       "    </tr>\n",
       "    <tr>\n",
       "      <th>0</th>\n",
       "      <td>HLA-A0301</td>\n",
       "      <td>KIRLRPGGR</td>\n",
       "      <td>542.003174</td>\n",
       "    </tr>\n",
       "    <tr>\n",
       "      <th>0</th>\n",
       "      <td>HLA-A0301</td>\n",
       "      <td>RLRPGGKKK</td>\n",
       "      <td>26.093128</td>\n",
       "    </tr>\n",
       "    <tr>\n",
       "      <th>0</th>\n",
       "      <td>HLA-A0301</td>\n",
       "      <td>RLRPGGKKQ</td>\n",
       "      <td>1990.704102</td>\n",
       "    </tr>\n",
       "    <tr>\n",
       "      <th>0</th>\n",
       "      <td>HLA-A0301</td>\n",
       "      <td>RLRPGGRKK</td>\n",
       "      <td>47.910667</td>\n",
       "    </tr>\n",
       "  </tbody>\n",
       "</table>\n",
       "</div>"
      ],
      "text/plain": [
       "      Allele    Peptide   Prediction\n",
       "0  HLA-A0301  KIRLRPGGK    44.690437\n",
       "0  HLA-A0301  KIRLRPGGR   542.003174\n",
       "0  HLA-A0301  RLRPGGKKK    26.093128\n",
       "0  HLA-A0301  RLRPGGKKQ  1990.704102\n",
       "0  HLA-A0301  RLRPGGRKK    47.910667"
      ]
     },
     "execution_count": 12,
     "metadata": {},
     "output_type": "execute_result"
    }
   ],
   "source": [
    "predictions.head(5)"
   ]
  },
  {
   "cell_type": "code",
   "execution_count": 13,
   "metadata": {
    "collapsed": false
   },
   "outputs": [
    {
     "data": {
      "text/plain": [
       "0    449\n",
       "1    155\n",
       "Name: Binding, dtype: int64"
      ]
     },
     "execution_count": 13,
     "metadata": {},
     "output_type": "execute_result"
    }
   ],
   "source": [
    "true_values = coding(wdf[\"Binding\"], {\"Binder\":1, \"Non_binder\":0})\n",
    "true_values = pd.DataFrame(true_values)\n",
    "true_values.index = range(1,len(true_values) + 1)\n",
    "true_values.drop(true_values.index[warning_loc], inplace=True)\n",
    "true_values[\"Binding\"].value_counts()"
   ]
  },
  {
   "cell_type": "code",
   "execution_count": 14,
   "metadata": {
    "collapsed": false
   },
   "outputs": [
    {
     "data": {
      "text/plain": [
       "1    361\n",
       "0    243\n",
       "Name: Prediction, dtype: int64"
      ]
     },
     "execution_count": 14,
     "metadata": {},
     "output_type": "execute_result"
    }
   ],
   "source": [
    "predicted_values = predictions[\"Prediction\"]\n",
    "predicted_values.index = range(1,len(predicted_values) + 1)\n",
    "predicted_values.columns = [\"Prediction\"]\n",
    "predicted_values = pd.DataFrame(predicted_values)\n",
    "predicted_values[\"Prediction\"] = np.where(predicted_values[\"Prediction\"] <= 500, 1, 0)\n",
    "predicted_values[\"Prediction\"].value_counts()"
   ]
  },
  {
   "cell_type": "code",
   "execution_count": 15,
   "metadata": {
    "collapsed": false
   },
   "outputs": [
    {
     "data": {
      "text/plain": [
       "0.46688741721854304"
      ]
     },
     "execution_count": 15,
     "metadata": {},
     "output_type": "execute_result"
    }
   ],
   "source": [
    "accuracy_score(true_values, predicted_values)"
   ]
  },
  {
   "cell_type": "code",
   "execution_count": 16,
   "metadata": {
    "collapsed": false
   },
   "outputs": [
    {
     "data": {
      "text/plain": [
       "0.51891658883540481"
      ]
     },
     "execution_count": 16,
     "metadata": {},
     "output_type": "execute_result"
    }
   ],
   "source": [
    "roc_auc_score(true_values, predicted_values)"
   ]
  },
  {
   "cell_type": "code",
   "execution_count": 17,
   "metadata": {
    "collapsed": false
   },
   "outputs": [
    {
     "data": {
      "text/plain": [
       "array([[185, 264],\n",
       "       [ 58,  97]])"
      ]
     },
     "execution_count": 17,
     "metadata": {},
     "output_type": "execute_result"
    }
   ],
   "source": [
    "confusion_matrix(true_values, predicted_values, labels=[0,1])"
   ]
  },
  {
   "cell_type": "code",
   "execution_count": 18,
   "metadata": {
    "collapsed": false
   },
   "outputs": [
    {
     "name": "stdout",
     "output_type": "stream",
     "text": [
      " true negative   0.31 \n",
      " false positive  0.44 \n",
      " false negative  0.096 \n",
      " true positive   0.16\n"
     ]
    }
   ],
   "source": [
    "tn, fp, fn, tp = confusion_matrix(true_values, predicted_values, labels=[0,1]).ravel()\n",
    "ln = len(true_values)\n",
    "print(' true negative   {0:.2} \\n \\\n",
    "false positive  {1:.2} \\n \\\n",
    "false negative  {2:.2} \\n \\\n",
    "true positive   {3:.2}'.format(tn/ln, fp/ln, fn/ln, tp/ln))"
   ]
  },
  {
   "cell_type": "code",
   "execution_count": 19,
   "metadata": {
    "collapsed": false
   },
   "outputs": [
    {
     "data": {
      "text/plain": [
       "<matplotlib.axes._subplots.AxesSubplot at 0x7f8b54ecf310>"
      ]
     },
     "execution_count": 19,
     "metadata": {},
     "output_type": "execute_result"
    },
    {
     "data": {
      "image/png": "[encoded data removed]",
      "text/plain": [
       "<matplotlib.figure.Figure at 0x7f8b54ecc990>"
      ]
     },
     "metadata": {},
     "output_type": "display_data"
    }
   ],
   "source": [
    "predictions.index = range(1,len(predictions) + 1)\n",
    "predictions['Allele'].value_counts().hist()"
   ]
  },
  {
   "cell_type": "code",
   "execution_count": 20,
   "metadata": {
    "collapsed": false
   },
   "outputs": [
    {
     "data": {
      "text/html": [
       "<div>\n",
       "<table border=\"1\" class=\"dataframe\">\n",
       "  <thead>\n",
       "    <tr style=\"text-align: right;\">\n",
       "      <th></th>\n",
       "      <th>Allele</th>\n",
       "      <th>Peptide</th>\n",
       "      <th>Prediction</th>\n",
       "      <th>Binding</th>\n",
       "    </tr>\n",
       "  </thead>\n",
       "  <tbody>\n",
       "    <tr>\n",
       "      <th>1</th>\n",
       "      <td>HLA-A0301</td>\n",
       "      <td>KIRLRPGGK</td>\n",
       "      <td>44.690437</td>\n",
       "      <td>Binder</td>\n",
       "    </tr>\n",
       "    <tr>\n",
       "      <th>2</th>\n",
       "      <td>HLA-A0301</td>\n",
       "      <td>KIRLRPGGR</td>\n",
       "      <td>542.003174</td>\n",
       "      <td>Non_binder</td>\n",
       "    </tr>\n",
       "    <tr>\n",
       "      <th>3</th>\n",
       "      <td>HLA-A0301</td>\n",
       "      <td>RLRPGGKKK</td>\n",
       "      <td>26.093128</td>\n",
       "      <td>Binder</td>\n",
       "    </tr>\n",
       "    <tr>\n",
       "      <th>4</th>\n",
       "      <td>HLA-A0301</td>\n",
       "      <td>RLRPGGKKQ</td>\n",
       "      <td>1990.704102</td>\n",
       "      <td>Non_binder</td>\n",
       "    </tr>\n",
       "    <tr>\n",
       "      <th>5</th>\n",
       "      <td>HLA-A0301</td>\n",
       "      <td>RLRPGGRKK</td>\n",
       "      <td>47.910667</td>\n",
       "      <td>Non_binder</td>\n",
       "    </tr>\n",
       "  </tbody>\n",
       "</table>\n",
       "</div>"
      ],
      "text/plain": [
       "      Allele    Peptide   Prediction     Binding\n",
       "1  HLA-A0301  KIRLRPGGK    44.690437      Binder\n",
       "2  HLA-A0301  KIRLRPGGR   542.003174  Non_binder\n",
       "3  HLA-A0301  RLRPGGKKK    26.093128      Binder\n",
       "4  HLA-A0301  RLRPGGKKQ  1990.704102  Non_binder\n",
       "5  HLA-A0301  RLRPGGRKK    47.910667  Non_binder"
      ]
     },
     "execution_count": 20,
     "metadata": {},
     "output_type": "execute_result"
    }
   ],
   "source": [
    "wdf.index = range(1,len(wdf) + 1)\n",
    "predictions['Binding'] = wdf['Binding']\n",
    "predictions.head(5)"
   ]
  },
  {
   "cell_type": "code",
   "execution_count": 21,
   "metadata": {
    "collapsed": false
   },
   "outputs": [
    {
     "data": {
      "image/png": "[encoded data removed]",
      "text/plain": [
       "<matplotlib.figure.Figure at 0x7f8b551bf090>"
      ]
     },
     "metadata": {},
     "output_type": "display_data"
    }
   ],
   "source": [
    "predictions[predictions['Binding'] == 'Non_binder']['Prediction'].hist()\n",
    "predictions[predictions['Binding'] == 'Binder']['Prediction'].hist()\n",
    "show()"
   ]
  },
  {
   "cell_type": "code",
   "execution_count": 22,
   "metadata": {
    "collapsed": false
   },
   "outputs": [
    {
     "data": {
      "text/plain": [
       "(count      449.000000\n",
       " mean      2786.964426\n",
       " std       5609.838833\n",
       " min          1.765331\n",
       " 25%         60.221264\n",
       " 50%        238.945648\n",
       " 75%       1763.565674\n",
       " max      33852.546875\n",
       " Name: Prediction, dtype: float64, count      155.000000\n",
       " mean      3198.328030\n",
       " std       6605.754669\n",
       " min          2.240298\n",
       " 25%         60.961735\n",
       " 50%        212.539337\n",
       " 75%       1920.807190\n",
       " max      31023.105469\n",
       " Name: Prediction, dtype: float64)"
      ]
     },
     "execution_count": 22,
     "metadata": {},
     "output_type": "execute_result"
    }
   ],
   "source": [
    "predictions[predictions['Binding'] == 'Non_binder']['Prediction'].describe(), \\\n",
    "predictions[predictions['Binding'] == 'Binder']['Prediction'].describe()"
   ]
  },
  {
   "cell_type": "code",
   "execution_count": 23,
   "metadata": {
    "collapsed": false
   },
   "outputs": [
    {
     "name": "stderr",
     "output_type": "stream",
     "text": [
      "/home/vts/anaconda3/envs/python2/lib/python2.7/site-packages/ipykernel/__main__.py:5: UserWarning: Boolean Series key will be reindexed to match DataFrame index.\n",
      "/home/vts/anaconda3/envs/python2/lib/python2.7/site-packages/ipykernel/__main__.py:6: UserWarning: Boolean Series key will be reindexed to match DataFrame index.\n"
     ]
    },
    {
     "data": {
      "text/html": [
       "<div>\n",
       "<table border=\"1\" class=\"dataframe\">\n",
       "  <thead>\n",
       "    <tr style=\"text-align: right;\">\n",
       "      <th></th>\n",
       "      <th>Binder</th>\n",
       "      <th>Non_binder</th>\n",
       "    </tr>\n",
       "  </thead>\n",
       "  <tbody>\n",
       "    <tr>\n",
       "      <th>HLA-A0101</th>\n",
       "      <td>7712.343651</td>\n",
       "      <td>16426.972137</td>\n",
       "    </tr>\n",
       "    <tr>\n",
       "      <th>HLA-A0201</th>\n",
       "      <td>447.334083</td>\n",
       "      <td>1345.005417</td>\n",
       "    </tr>\n",
       "    <tr>\n",
       "      <th>HLA-A0301</th>\n",
       "      <td>166.857512</td>\n",
       "      <td>1378.233449</td>\n",
       "    </tr>\n",
       "    <tr>\n",
       "      <th>HLA-A1101</th>\n",
       "      <td>979.970254</td>\n",
       "      <td>1756.022771</td>\n",
       "    </tr>\n",
       "    <tr>\n",
       "      <th>HLA-A2402</th>\n",
       "      <td>5116.964351</td>\n",
       "      <td>2300.239229</td>\n",
       "    </tr>\n",
       "    <tr>\n",
       "      <th>HLA-A2501</th>\n",
       "      <td>15532.725427</td>\n",
       "      <td>10032.677700</td>\n",
       "    </tr>\n",
       "    <tr>\n",
       "      <th>HLA-A2603</th>\n",
       "      <td>5926.089071</td>\n",
       "      <td>3747.200307</td>\n",
       "    </tr>\n",
       "    <tr>\n",
       "      <th>HLA-A2902</th>\n",
       "      <td>16268.048340</td>\n",
       "      <td>4101.293345</td>\n",
       "    </tr>\n",
       "    <tr>\n",
       "      <th>HLA-A3002</th>\n",
       "      <td>10.063603</td>\n",
       "      <td>426.370066</td>\n",
       "    </tr>\n",
       "    <tr>\n",
       "      <th>HLA-A3101</th>\n",
       "      <td>2182.255350</td>\n",
       "      <td>5029.118079</td>\n",
       "    </tr>\n",
       "    <tr>\n",
       "      <th>HLA-A3201</th>\n",
       "      <td>5377.680176</td>\n",
       "      <td>4827.687988</td>\n",
       "    </tr>\n",
       "    <tr>\n",
       "      <th>HLA-A6801</th>\n",
       "      <td>97.897781</td>\n",
       "      <td>139.085007</td>\n",
       "    </tr>\n",
       "    <tr>\n",
       "      <th>HLA-A6802</th>\n",
       "      <td>8555.627865</td>\n",
       "      <td>8458.648894</td>\n",
       "    </tr>\n",
       "    <tr>\n",
       "      <th>HLA-B0702</th>\n",
       "      <td>519.231209</td>\n",
       "      <td>1666.853378</td>\n",
       "    </tr>\n",
       "    <tr>\n",
       "      <th>HLA-B0801</th>\n",
       "      <td>5096.705235</td>\n",
       "      <td>3497.859593</td>\n",
       "    </tr>\n",
       "    <tr>\n",
       "      <th>HLA-B1402</th>\n",
       "      <td>782.608871</td>\n",
       "      <td>865.278404</td>\n",
       "    </tr>\n",
       "    <tr>\n",
       "      <th>HLA-B1501</th>\n",
       "      <td>6685.076073</td>\n",
       "      <td>1212.383278</td>\n",
       "    </tr>\n",
       "    <tr>\n",
       "      <th>HLA-B1503</th>\n",
       "      <td>43.265229</td>\n",
       "      <td>51.772526</td>\n",
       "    </tr>\n",
       "    <tr>\n",
       "      <th>HLA-B1801</th>\n",
       "      <td>9924.113358</td>\n",
       "      <td>11863.020274</td>\n",
       "    </tr>\n",
       "    <tr>\n",
       "      <th>HLA-B2705</th>\n",
       "      <td>210.859762</td>\n",
       "      <td>3158.504463</td>\n",
       "    </tr>\n",
       "    <tr>\n",
       "      <th>HLA-B3501</th>\n",
       "      <td>1244.531357</td>\n",
       "      <td>3369.083920</td>\n",
       "    </tr>\n",
       "    <tr>\n",
       "      <th>HLA-B3801</th>\n",
       "      <td>12413.021484</td>\n",
       "      <td>11330.174805</td>\n",
       "    </tr>\n",
       "    <tr>\n",
       "      <th>HLA-B4001</th>\n",
       "      <td>1324.117188</td>\n",
       "      <td>3483.062906</td>\n",
       "    </tr>\n",
       "    <tr>\n",
       "      <th>HLA-B4201</th>\n",
       "      <td>8977.645874</td>\n",
       "      <td>8818.356354</td>\n",
       "    </tr>\n",
       "    <tr>\n",
       "      <th>HLA-B4402</th>\n",
       "      <td>194.487686</td>\n",
       "      <td>92.603087</td>\n",
       "    </tr>\n",
       "    <tr>\n",
       "      <th>HLA-B4403</th>\n",
       "      <td>1907.801739</td>\n",
       "      <td>486.384410</td>\n",
       "    </tr>\n",
       "    <tr>\n",
       "      <th>HLA-B4801</th>\n",
       "      <td>1984.365723</td>\n",
       "      <td>1770.745483</td>\n",
       "    </tr>\n",
       "    <tr>\n",
       "      <th>HLA-B5101</th>\n",
       "      <td>7461.303692</td>\n",
       "      <td>6542.441473</td>\n",
       "    </tr>\n",
       "    <tr>\n",
       "      <th>HLA-B5701</th>\n",
       "      <td>1966.025529</td>\n",
       "      <td>2646.401882</td>\n",
       "    </tr>\n",
       "    <tr>\n",
       "      <th>HLA-B5801</th>\n",
       "      <td>107.609645</td>\n",
       "      <td>1334.224089</td>\n",
       "    </tr>\n",
       "  </tbody>\n",
       "</table>\n",
       "</div>"
      ],
      "text/plain": [
       "                 Binder    Non_binder\n",
       "HLA-A0101   7712.343651  16426.972137\n",
       "HLA-A0201    447.334083   1345.005417\n",
       "HLA-A0301    166.857512   1378.233449\n",
       "HLA-A1101    979.970254   1756.022771\n",
       "HLA-A2402   5116.964351   2300.239229\n",
       "HLA-A2501  15532.725427  10032.677700\n",
       "HLA-A2603   5926.089071   3747.200307\n",
       "HLA-A2902  16268.048340   4101.293345\n",
       "HLA-A3002     10.063603    426.370066\n",
       "HLA-A3101   2182.255350   5029.118079\n",
       "HLA-A3201   5377.680176   4827.687988\n",
       "HLA-A6801     97.897781    139.085007\n",
       "HLA-A6802   8555.627865   8458.648894\n",
       "HLA-B0702    519.231209   1666.853378\n",
       "HLA-B0801   5096.705235   3497.859593\n",
       "HLA-B1402    782.608871    865.278404\n",
       "HLA-B1501   6685.076073   1212.383278\n",
       "HLA-B1503     43.265229     51.772526\n",
       "HLA-B1801   9924.113358  11863.020274\n",
       "HLA-B2705    210.859762   3158.504463\n",
       "HLA-B3501   1244.531357   3369.083920\n",
       "HLA-B3801  12413.021484  11330.174805\n",
       "HLA-B4001   1324.117188   3483.062906\n",
       "HLA-B4201   8977.645874   8818.356354\n",
       "HLA-B4402    194.487686     92.603087\n",
       "HLA-B4403   1907.801739    486.384410\n",
       "HLA-B4801   1984.365723   1770.745483\n",
       "HLA-B5101   7461.303692   6542.441473\n",
       "HLA-B5701   1966.025529   2646.401882\n",
       "HLA-B5801    107.609645   1334.224089"
      ]
     },
     "execution_count": 23,
     "metadata": {},
     "output_type": "execute_result"
    }
   ],
   "source": [
    "b_list = []\n",
    "nb_list = []\n",
    "alleles = []\n",
    "for allele in unique(predictions['Allele']):\n",
    "    b_list.append(predictions[predictions['Allele'] == allele][predictions['Binding']=='Binder']['Prediction'].mean())\n",
    "    nb_list.append(predictions[predictions['Allele'] == allele][predictions['Binding']=='Non_binder']['Prediction'].mean())\n",
    "    alleles.append(allele)\n",
    "tdf = pd.DataFrame({'Binder' : b_list, 'Non_binder' : nb_list})\n",
    "tdf.index = alleles\n",
    "tdf = tdf.dropna()\n",
    "tdf"
   ]
  },
  {
   "cell_type": "code",
   "execution_count": 24,
   "metadata": {
    "collapsed": false
   },
   "outputs": [
    {
     "data": {
      "image/png": "[encoded data removed]",
      "text/plain": [
       "<matplotlib.figure.Figure at 0x7f8b54d7c4d0>"
      ]
     },
     "metadata": {},
     "output_type": "display_data"
    }
   ],
   "source": [
    "tdf['Non_binder'].hist()\n",
    "tdf['Binder'].hist()\n",
    "show()"
   ]
  },
  {
   "cell_type": "code",
   "execution_count": 25,
   "metadata": {
    "collapsed": false
   },
   "outputs": [
    {
     "data": {
      "text/plain": [
       "(4307.220903901186, 4071.9234905137846)"
      ]
     },
     "execution_count": 25,
     "metadata": {},
     "output_type": "execute_result"
    }
   ],
   "source": [
    "tdf['Binder'].mean(), tdf['Non_binder'].mean()"
   ]
  },
  {
   "cell_type": "code",
   "execution_count": 26,
   "metadata": {
    "collapsed": false
   },
   "outputs": [
    {
     "data": {
      "text/plain": [
       "(22532431.41998718, 16858817.72982233)"
      ]
     },
     "execution_count": 26,
     "metadata": {},
     "output_type": "execute_result"
    }
   ],
   "source": [
    "tdf['Binder'].var(), tdf['Non_binder'].var()"
   ]
  },
  {
   "cell_type": "code",
   "execution_count": 27,
   "metadata": {
    "collapsed": false
   },
   "outputs": [
    {
     "data": {
      "text/plain": [
       "Ttest_indResult(statistic=0.20534205492673502, pvalue=0.83803876318804904)"
      ]
     },
     "execution_count": 27,
     "metadata": {},
     "output_type": "execute_result"
    }
   ],
   "source": [
    "import scipy\n",
    "\n",
    "scipy.stats.ttest_ind(tdf['Binder'], tdf['Non_binder'], equal_var=False)"
   ]
  },
  {
   "cell_type": "code",
   "execution_count": 28,
   "metadata": {
    "collapsed": false
   },
   "outputs": [
    {
     "data": {
      "text/plain": [
       "Ttest_indResult(statistic=-2.2047663720255581, pvalue=0.06207270291943099)"
      ]
     },
     "execution_count": 28,
     "metadata": {},
     "output_type": "execute_result"
    }
   ],
   "source": [
    "c = tdf[tdf['Binder'] <= 500]\n",
    "\n",
    "scipy.stats.ttest_ind(c['Binder'], c['Non_binder'], equal_var=False)"
   ]
  },
  {
   "cell_type": "code",
   "execution_count": 39,
   "metadata": {
    "collapsed": false
   },
   "outputs": [
    {
     "name": "stdout",
     "output_type": "stream",
     "text": [
      "('HLA-A0201', 'pep', NormaltestResult(statistic=3.0530839630508786, pvalue=0.21728574780262896))\n",
      "('HLA-A0201', 'mut', NormaltestResult(statistic=6.8989063963415669, pvalue=0.031762999696823731))\n",
      "('HLA-A0301', 'pep', NormaltestResult(statistic=2.0368092101768811, pvalue=0.36117069065834101))\n",
      "('HLA-A0301', 'mut', NormaltestResult(statistic=3.3472208468032916, pvalue=0.18756863946748514))\n",
      "('HLA-A1101', 'pep', NormaltestResult(statistic=0.63491503370655777, pvalue=0.72799760774655198))\n",
      "('HLA-A1101', 'mut', NormaltestResult(statistic=2.789748636556753, pvalue=0.2478641864073689))\n",
      "('HLA-A2402', 'mut', NormaltestResult(statistic=1.8545247004025103, pvalue=0.39563534014361479))\n",
      "('HLA-A2501', 'mut', NormaltestResult(statistic=0.90070716994210187, pvalue=0.63740273574442274))\n",
      "('HLA-A2603', 'mut', NormaltestResult(statistic=5.9033888847564517, pvalue=0.052251094427369041))\n",
      "('HLA-A2902', 'mut', NormaltestResult(statistic=4.9231027983322599, pvalue=0.085302510016586133))\n",
      "('HLA-B0702', 'pep', NormaltestResult(statistic=1.1339308839704747, pvalue=0.56724416492039587))\n",
      "('HLA-B0702', 'mut', NormaltestResult(statistic=6.8148337362293425, pvalue=0.033126660483952575))\n",
      "('HLA-B0801', 'mut', NormaltestResult(statistic=5.1715973423304789, pvalue=0.075335886966638635))\n",
      "('HLA-B1402', 'mut', NormaltestResult(statistic=2.0858440338771413, pvalue=0.35242338885282221))\n",
      "('HLA-B1501', 'mut', NormaltestResult(statistic=29.93943942082236, pvalue=3.1530679793630478e-07))\n",
      "('HLA-B1503', 'pep', NormaltestResult(statistic=0.67958060226499017, pvalue=0.71191959584386755))\n",
      "('HLA-B1503', 'mut', NormaltestResult(statistic=2.3677804380558567, pvalue=0.30608567914128032))\n",
      "('HLA-B2705', 'mut', NormaltestResult(statistic=2.1862464211258947, pvalue=0.33516805689885087))\n",
      "('HLA-B3501', 'mut', NormaltestResult(statistic=2.4827837119857574, pvalue=0.28898171695774816))\n",
      "('HLA-B4001', 'mut', NormaltestResult(statistic=1.0460922148939051, pvalue=0.59271232991307066))\n",
      "('HLA-B4403', 'mut', NormaltestResult(statistic=7.8714904247436381, pvalue=0.019531139056440938))\n",
      "('HLA-B5101', 'mut', NormaltestResult(statistic=5.7898216062271555, pvalue=0.055303957815540407))\n",
      "('HLA-B5701', 'pep', NormaltestResult(statistic=2.6645670082211734, pvalue=0.2638740154058582))\n",
      "('HLA-B5701', 'mut', NormaltestResult(statistic=6.3196125479768828, pvalue=0.042433960846283834))\n",
      "('HLA-B5801', 'mut', NormaltestResult(statistic=21.793632503931303, pvalue=1.8517094009991139e-05))\n"
     ]
    },
    {
     "name": "stderr",
     "output_type": "stream",
     "text": [
      "/home/vts/anaconda3/envs/python2/lib/python2.7/site-packages/ipykernel/__main__.py:6: UserWarning: Boolean Series key will be reindexed to match DataFrame index.\n",
      "/home/vts/anaconda3/envs/python2/lib/python2.7/site-packages/ipykernel/__main__.py:7: UserWarning: Boolean Series key will be reindexed to match DataFrame index.\n"
     ]
    },
    {
     "data": {
      "text/plain": [
       "(33, 3)"
      ]
     },
     "execution_count": 39,
     "metadata": {},
     "output_type": "execute_result"
    }
   ],
   "source": [
    "from scipy.stats import normaltest\n",
    "t_list = []\n",
    "p_list = []\n",
    "allele_list = []\n",
    "for allele in unique(predictions['Allele']):\n",
    "    a = predictions[predictions['Allele'] == allele][predictions['Binding']=='Binder']['Prediction']\n",
    "    b = predictions[predictions['Allele'] == allele][predictions['Binding']=='Non_binder']['Prediction']\n",
    "    a = np.log10(a)\n",
    "    b = np.log10(b)\n",
    "    c = scipy.stats.ttest_ind(a, b, equal_var=False)\n",
    "    if len(a) >= 8:\n",
    "        print(allele, 'pep', normaltest(a))\n",
    "    if len(b) >= 8:\n",
    "        print(allele, 'mut', normaltest(b))\n",
    "    t_list.append(c[0])\n",
    "    p_list.append(c[1])\n",
    "    allele_list.append(allele)\n",
    "stats_df = pd.DataFrame({'t_test': t_list,\n",
    "                         'p_value': p_list,\n",
    "                         'allele': allele_list})\n",
    "stats_df.shape"
   ]
  },
  {
   "cell_type": "code",
   "execution_count": 30,
   "metadata": {
    "collapsed": false
   },
   "outputs": [
    {
     "data": {
      "text/plain": [
       "(24, 3)"
      ]
     },
     "execution_count": 30,
     "metadata": {},
     "output_type": "execute_result"
    }
   ],
   "source": [
    "stats_df = stats_df.dropna()\n",
    "stats_df.shape"
   ]
  },
  {
   "cell_type": "code",
   "execution_count": 37,
   "metadata": {
    "collapsed": false
   },
   "outputs": [
    {
     "data": {
      "text/html": [
       "<div>\n",
       "<table border=\"1\" class=\"dataframe\">\n",
       "  <thead>\n",
       "    <tr style=\"text-align: right;\">\n",
       "      <th></th>\n",
       "      <th>allele</th>\n",
       "      <th>p_value</th>\n",
       "      <th>t_test</th>\n",
       "    </tr>\n",
       "  </thead>\n",
       "  <tbody>\n",
       "    <tr>\n",
       "      <th>0</th>\n",
       "      <td>HLA-A0101</td>\n",
       "      <td>0.568742</td>\n",
       "      <td>-0.772940</td>\n",
       "    </tr>\n",
       "    <tr>\n",
       "      <th>1</th>\n",
       "      <td>HLA-A0201</td>\n",
       "      <td>0.317087</td>\n",
       "      <td>-1.007890</td>\n",
       "    </tr>\n",
       "    <tr>\n",
       "      <th>3</th>\n",
       "      <td>HLA-A1101</td>\n",
       "      <td>0.760968</td>\n",
       "      <td>0.308055</td>\n",
       "    </tr>\n",
       "    <tr>\n",
       "      <th>4</th>\n",
       "      <td>HLA-A2402</td>\n",
       "      <td>0.648405</td>\n",
       "      <td>0.484157</td>\n",
       "    </tr>\n",
       "    <tr>\n",
       "      <th>5</th>\n",
       "      <td>HLA-A2501</td>\n",
       "      <td>0.287612</td>\n",
       "      <td>1.126925</td>\n",
       "    </tr>\n",
       "    <tr>\n",
       "      <th>7</th>\n",
       "      <td>HLA-A2603</td>\n",
       "      <td>0.529409</td>\n",
       "      <td>0.726352</td>\n",
       "    </tr>\n",
       "    <tr>\n",
       "      <th>10</th>\n",
       "      <td>HLA-A3101</td>\n",
       "      <td>0.310533</td>\n",
       "      <td>-1.078447</td>\n",
       "    </tr>\n",
       "    <tr>\n",
       "      <th>12</th>\n",
       "      <td>HLA-A6801</td>\n",
       "      <td>0.568871</td>\n",
       "      <td>-0.647945</td>\n",
       "    </tr>\n",
       "    <tr>\n",
       "      <th>13</th>\n",
       "      <td>HLA-A6802</td>\n",
       "      <td>0.844196</td>\n",
       "      <td>-0.210585</td>\n",
       "    </tr>\n",
       "    <tr>\n",
       "      <th>14</th>\n",
       "      <td>HLA-B0702</td>\n",
       "      <td>0.699080</td>\n",
       "      <td>-0.395277</td>\n",
       "    </tr>\n",
       "    <tr>\n",
       "      <th>15</th>\n",
       "      <td>HLA-B0801</td>\n",
       "      <td>0.702828</td>\n",
       "      <td>0.395203</td>\n",
       "    </tr>\n",
       "    <tr>\n",
       "      <th>16</th>\n",
       "      <td>HLA-B1402</td>\n",
       "      <td>0.708643</td>\n",
       "      <td>0.424422</td>\n",
       "    </tr>\n",
       "    <tr>\n",
       "      <th>17</th>\n",
       "      <td>HLA-B1501</td>\n",
       "      <td>0.131923</td>\n",
       "      <td>1.815882</td>\n",
       "    </tr>\n",
       "    <tr>\n",
       "      <th>18</th>\n",
       "      <td>HLA-B1503</td>\n",
       "      <td>0.656988</td>\n",
       "      <td>0.452933</td>\n",
       "    </tr>\n",
       "    <tr>\n",
       "      <th>19</th>\n",
       "      <td>HLA-B1801</td>\n",
       "      <td>0.951335</td>\n",
       "      <td>0.062758</td>\n",
       "    </tr>\n",
       "    <tr>\n",
       "      <th>20</th>\n",
       "      <td>HLA-B2705</td>\n",
       "      <td>0.127953</td>\n",
       "      <td>-1.637332</td>\n",
       "    </tr>\n",
       "    <tr>\n",
       "      <th>21</th>\n",
       "      <td>HLA-B3501</td>\n",
       "      <td>0.475494</td>\n",
       "      <td>-0.758970</td>\n",
       "    </tr>\n",
       "    <tr>\n",
       "      <th>24</th>\n",
       "      <td>HLA-B4201</td>\n",
       "      <td>0.950088</td>\n",
       "      <td>0.070756</td>\n",
       "    </tr>\n",
       "    <tr>\n",
       "      <th>26</th>\n",
       "      <td>HLA-B4403</td>\n",
       "      <td>0.677140</td>\n",
       "      <td>0.544264</td>\n",
       "    </tr>\n",
       "    <tr>\n",
       "      <th>29</th>\n",
       "      <td>HLA-B5101</td>\n",
       "      <td>0.540264</td>\n",
       "      <td>-0.640711</td>\n",
       "    </tr>\n",
       "    <tr>\n",
       "      <th>31</th>\n",
       "      <td>HLA-B5701</td>\n",
       "      <td>0.700479</td>\n",
       "      <td>-0.389659</td>\n",
       "    </tr>\n",
       "    <tr>\n",
       "      <th>32</th>\n",
       "      <td>HLA-B5801</td>\n",
       "      <td>0.407434</td>\n",
       "      <td>-0.875910</td>\n",
       "    </tr>\n",
       "  </tbody>\n",
       "</table>\n",
       "</div>"
      ],
      "text/plain": [
       "       allele   p_value    t_test\n",
       "0   HLA-A0101  0.568742 -0.772940\n",
       "1   HLA-A0201  0.317087 -1.007890\n",
       "3   HLA-A1101  0.760968  0.308055\n",
       "4   HLA-A2402  0.648405  0.484157\n",
       "5   HLA-A2501  0.287612  1.126925\n",
       "7   HLA-A2603  0.529409  0.726352\n",
       "10  HLA-A3101  0.310533 -1.078447\n",
       "12  HLA-A6801  0.568871 -0.647945\n",
       "13  HLA-A6802  0.844196 -0.210585\n",
       "14  HLA-B0702  0.699080 -0.395277\n",
       "15  HLA-B0801  0.702828  0.395203\n",
       "16  HLA-B1402  0.708643  0.424422\n",
       "17  HLA-B1501  0.131923  1.815882\n",
       "18  HLA-B1503  0.656988  0.452933\n",
       "19  HLA-B1801  0.951335  0.062758\n",
       "20  HLA-B2705  0.127953 -1.637332\n",
       "21  HLA-B3501  0.475494 -0.758970\n",
       "24  HLA-B4201  0.950088  0.070756\n",
       "26  HLA-B4403  0.677140  0.544264\n",
       "29  HLA-B5101  0.540264 -0.640711\n",
       "31  HLA-B5701  0.700479 -0.389659\n",
       "32  HLA-B5801  0.407434 -0.875910"
      ]
     },
     "execution_count": 37,
     "metadata": {},
     "output_type": "execute_result"
    }
   ],
   "source": [
    "stats_df[stats_df['p_value']>=0.05]"
   ]
  },
  {
   "cell_type": "code",
   "execution_count": 33,
   "metadata": {
    "collapsed": false
   },
   "outputs": [
    {
     "name": "stdout",
     "output_type": "stream",
     "text": [
      "Reading bdata.csv\n"
     ]
    }
   ],
   "source": [
    "filepath = \"./data/bdata.csv\"\n",
    "if os.path.isfile(filepath):\n",
    "    bdf = pd.read_csv(filepath, sep=\",\")\n",
    "    print(\"Reading {}\".format(os.path.basename(filepath)))\n",
    "else:\n",
    "    print(\"File path is wrong\")"
   ]
  },
  {
   "cell_type": "code",
   "execution_count": 41,
   "metadata": {
    "collapsed": false
   },
   "outputs": [
    {
     "data": {
      "text/html": [
       "<div>\n",
       "<table border=\"1\" class=\"dataframe\">\n",
       "  <thead>\n",
       "    <tr style=\"text-align: right;\">\n",
       "      <th></th>\n",
       "      <th>species</th>\n",
       "      <th>mhc</th>\n",
       "      <th>peptide_length</th>\n",
       "      <th>cv</th>\n",
       "      <th>sequence</th>\n",
       "      <th>inequality</th>\n",
       "      <th>meas</th>\n",
       "    </tr>\n",
       "  </thead>\n",
       "  <tbody>\n",
       "    <tr>\n",
       "      <th>0</th>\n",
       "      <td>cow</td>\n",
       "      <td>BoLAHD6</td>\n",
       "      <td>9</td>\n",
       "      <td>TBD</td>\n",
       "      <td>ALFYKDGKL</td>\n",
       "      <td>=</td>\n",
       "      <td>1.000000</td>\n",
       "    </tr>\n",
       "    <tr>\n",
       "      <th>1</th>\n",
       "      <td>cow</td>\n",
       "      <td>BoLAHD6</td>\n",
       "      <td>9</td>\n",
       "      <td>TBD</td>\n",
       "      <td>ALYEKKLAL</td>\n",
       "      <td>=</td>\n",
       "      <td>1.000000</td>\n",
       "    </tr>\n",
       "    <tr>\n",
       "      <th>2</th>\n",
       "      <td>cow</td>\n",
       "      <td>BoLAHD6</td>\n",
       "      <td>9</td>\n",
       "      <td>TBD</td>\n",
       "      <td>AMKDRFQPL</td>\n",
       "      <td>=</td>\n",
       "      <td>4.521706</td>\n",
       "    </tr>\n",
       "    <tr>\n",
       "      <th>3</th>\n",
       "      <td>cow</td>\n",
       "      <td>BoLAHD6</td>\n",
       "      <td>9</td>\n",
       "      <td>TBD</td>\n",
       "      <td>AQRELFFTL</td>\n",
       "      <td>=</td>\n",
       "      <td>1.000000</td>\n",
       "    </tr>\n",
       "    <tr>\n",
       "      <th>4</th>\n",
       "      <td>cow</td>\n",
       "      <td>BoLAHD6</td>\n",
       "      <td>9</td>\n",
       "      <td>TBD</td>\n",
       "      <td>FMKVKFEAL</td>\n",
       "      <td>=</td>\n",
       "      <td>1.576747</td>\n",
       "    </tr>\n",
       "  </tbody>\n",
       "</table>\n",
       "</div>"
      ],
      "text/plain": [
       "  species      mhc  peptide_length   cv   sequence inequality      meas\n",
       "0     cow  BoLAHD6               9  TBD  ALFYKDGKL          =  1.000000\n",
       "1     cow  BoLAHD6               9  TBD  ALYEKKLAL          =  1.000000\n",
       "2     cow  BoLAHD6               9  TBD  AMKDRFQPL          =  4.521706\n",
       "3     cow  BoLAHD6               9  TBD  AQRELFFTL          =  1.000000\n",
       "4     cow  BoLAHD6               9  TBD  FMKVKFEAL          =  1.576747"
      ]
     },
     "execution_count": 41,
     "metadata": {},
     "output_type": "execute_result"
    }
   ],
   "source": [
    "bdf.head()"
   ]
  },
  {
   "cell_type": "code",
   "execution_count": 34,
   "metadata": {
    "collapsed": false
   },
   "outputs": [
    {
     "data": {
      "text/plain": [
       "HLAA0201    11920\n",
       "HLAA0301     7089\n",
       "HLAA0203     6302\n",
       "HLAA1101     6255\n",
       "HLAA3101     5628\n",
       "HLAA0206     5627\n",
       "HLAA6802     5545\n",
       "HLAA0101     4558\n",
       "HLAB0702     4379\n",
       "HLAA2601     4326\n",
       "HLAA0202     4155\n",
       "HLAB1501     4135\n",
       "HLAA6801     3795\n",
       "HLAA3301     3597\n",
       "HLAB2705     3443\n",
       "HLAB0801     3326\n",
       "HLAA2402     3230\n",
       "HLAB4001     3226\n",
       "HLAB5801     3121\n",
       "HLAB3501     3060\n",
       "HLAA3001     2778\n",
       "HLAB5701     2776\n",
       "HLAB1801     2705\n",
       "HLAB5101     2691\n",
       "HLAA2902     2658\n",
       "HLAA6901     2564\n",
       "HLAA2301     2508\n",
       "HLAB4402     2205\n",
       "HLAA3002     1927\n",
       "HLAB4601     1803\n",
       "            ...  \n",
       "HLAB5703       34\n",
       "HLAA0319       30\n",
       "HLAA0302       26\n",
       "HLAB8101       26\n",
       "HLAA0210       18\n",
       "HLAB4202       18\n",
       "HLAB5702       18\n",
       "HLAB5201       15\n",
       "HLAA1102       14\n",
       "HLAA7401        9\n",
       "HLAB2702        8\n",
       "HLAB2706        7\n",
       "HLAA3           6\n",
       "HLAB44          5\n",
       "HLAB60          5\n",
       "HLAA0204        4\n",
       "HLAB2704        4\n",
       "HLACw1          4\n",
       "HLAA26          4\n",
       "HLAB2701        4\n",
       "HLAB51          3\n",
       "HLAB27          2\n",
       "HLACw4          2\n",
       "HLAB2710        2\n",
       "HLAA3/11        2\n",
       "HLAA24          2\n",
       "HLAB8           1\n",
       "HLAB3508        1\n",
       "HLAA1           1\n",
       "HLAE0101        1\n",
       "Name: mhc, dtype: int64"
      ]
     },
     "execution_count": 34,
     "metadata": {},
     "output_type": "execute_result"
    }
   ],
   "source": [
    "bdf[bdf.species == 'human']['mhc'].value_counts()"
   ]
  },
  {
   "cell_type": "code",
   "execution_count": 40,
   "metadata": {
    "collapsed": false
   },
   "outputs": [
    {
     "data": {
      "text/html": [
       "<div>\n",
       "<table border=\"1\" class=\"dataframe\">\n",
       "  <thead>\n",
       "    <tr style=\"text-align: right;\">\n",
       "      <th></th>\n",
       "      <th>allele</th>\n",
       "      <th>p_value</th>\n",
       "      <th>t_test</th>\n",
       "    </tr>\n",
       "  </thead>\n",
       "  <tbody>\n",
       "    <tr>\n",
       "      <th>0</th>\n",
       "      <td>HLAA0101</td>\n",
       "      <td>0.568742</td>\n",
       "      <td>-0.772940</td>\n",
       "    </tr>\n",
       "    <tr>\n",
       "      <th>1</th>\n",
       "      <td>HLAA0201</td>\n",
       "      <td>0.317087</td>\n",
       "      <td>-1.007890</td>\n",
       "    </tr>\n",
       "    <tr>\n",
       "      <th>2</th>\n",
       "      <td>HLAA0301</td>\n",
       "      <td>0.009546</td>\n",
       "      <td>-2.828402</td>\n",
       "    </tr>\n",
       "    <tr>\n",
       "      <th>3</th>\n",
       "      <td>HLAA1101</td>\n",
       "      <td>0.760968</td>\n",
       "      <td>0.308055</td>\n",
       "    </tr>\n",
       "    <tr>\n",
       "      <th>4</th>\n",
       "      <td>HLAA2402</td>\n",
       "      <td>0.648405</td>\n",
       "      <td>0.484157</td>\n",
       "    </tr>\n",
       "  </tbody>\n",
       "</table>\n",
       "</div>"
      ],
      "text/plain": [
       "     allele   p_value    t_test\n",
       "0  HLAA0101  0.568742 -0.772940\n",
       "1  HLAA0201  0.317087 -1.007890\n",
       "2  HLAA0301  0.009546 -2.828402\n",
       "3  HLAA1101  0.760968  0.308055\n",
       "4  HLAA2402  0.648405  0.484157"
      ]
     },
     "execution_count": 40,
     "metadata": {},
     "output_type": "execute_result"
    }
   ],
   "source": [
    "stats_df.allele = stats_df.allele.str.replace('-', '')\n",
    "stats_df.head()"
   ]
  },
  {
   "cell_type": "code",
   "execution_count": 44,
   "metadata": {
    "collapsed": false
   },
   "outputs": [
    {
     "data": {
      "text/html": [
       "<div>\n",
       "<table border=\"1\" class=\"dataframe\">\n",
       "  <thead>\n",
       "    <tr style=\"text-align: right;\">\n",
       "      <th></th>\n",
       "      <th>allele</th>\n",
       "      <th>counts</th>\n",
       "    </tr>\n",
       "  </thead>\n",
       "  <tbody>\n",
       "    <tr>\n",
       "      <th>0</th>\n",
       "      <td>HLAA0101</td>\n",
       "      <td>4558</td>\n",
       "    </tr>\n",
       "    <tr>\n",
       "      <th>1</th>\n",
       "      <td>HLAA0201</td>\n",
       "      <td>11920</td>\n",
       "    </tr>\n",
       "    <tr>\n",
       "      <th>2</th>\n",
       "      <td>HLAA0301</td>\n",
       "      <td>7089</td>\n",
       "    </tr>\n",
       "    <tr>\n",
       "      <th>3</th>\n",
       "      <td>HLAA1101</td>\n",
       "      <td>6255</td>\n",
       "    </tr>\n",
       "    <tr>\n",
       "      <th>4</th>\n",
       "      <td>HLAA2402</td>\n",
       "      <td>3230</td>\n",
       "    </tr>\n",
       "  </tbody>\n",
       "</table>\n",
       "</div>"
      ],
      "text/plain": [
       "     allele  counts\n",
       "0  HLAA0101    4558\n",
       "1  HLAA0201   11920\n",
       "2  HLAA0301    7089\n",
       "3  HLAA1101    6255\n",
       "4  HLAA2402    3230"
      ]
     },
     "execution_count": 44,
     "metadata": {},
     "output_type": "execute_result"
    }
   ],
   "source": [
    "count_list = []\n",
    "for allele in stats_df.allele:\n",
    "    count_list.append(len(bdf[bdf['mhc']==allele]))\n",
    "\n",
    "top_hla = pd.DataFrame({'allele': stats_df.allele,\n",
    "                        'counts': count_list})\n",
    "top_hla.head()"
   ]
  },
  {
   "cell_type": "code",
   "execution_count": 45,
   "metadata": {
    "collapsed": false
   },
   "outputs": [
    {
     "data": {
      "text/plain": [
       "<matplotlib.axes._subplots.AxesSubplot at 0x7f8b54b27510>"
      ]
     },
     "execution_count": 45,
     "metadata": {},
     "output_type": "execute_result"
    },
    {
     "data": {
      "image/png": "[encoded data removed]",
      "text/plain": [
       "<matplotlib.figure.Figure at 0x7f8b54ac6610>"
      ]
     },
     "metadata": {},
     "output_type": "display_data"
    }
   ],
   "source": [
    "top_hla.counts.hist()"
   ]
  },
  {
   "cell_type": "code",
   "execution_count": 46,
   "metadata": {
    "collapsed": false
   },
   "outputs": [
    {
     "data": {
      "text/plain": [
       "203"
      ]
     },
     "execution_count": 46,
     "metadata": {},
     "output_type": "execute_result"
    }
   ],
   "source": [
    "top_hla.counts.min()"
   ]
  }
 ],
 "metadata": {
  "anaconda-cloud": {},
  "kernelspec": {
   "display_name": "Python 2",
   "language": "python",
   "name": "python2"
  },
  "language_info": {
   "codemirror_mode": {
    "name": "ipython",
    "version": 2
   },
   "file_extension": ".py",
   "mimetype": "text/x-python",
   "name": "python",
   "nbconvert_exporter": "python",
   "pygments_lexer": "ipython2",
   "version": "2.7.13"
  }
 },
 "nbformat": 4,
 "nbformat_minor": 1
}
