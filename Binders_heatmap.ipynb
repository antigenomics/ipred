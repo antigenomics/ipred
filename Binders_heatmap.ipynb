{
 "cells": [
  {
   "cell_type": "markdown",
   "metadata": {},
   "source": [
    "In this notebook I am going to compare the intersection of predicted HLA binders of different alleles"
   ]
  },
  {
   "cell_type": "code",
   "execution_count": 2,
   "metadata": {
    "collapsed": true
   },
   "outputs": [],
   "source": [
    "%matplotlib inline\n",
    "\n",
    "import os\n",
    "from tqdm import tqdm, tqdm_notebook\n",
    "from tqdm import trange\n",
    "from scipy import stats\n",
    "\n",
    "import pandas as pd\n",
    "import numpy as np\n",
    "import networkx as nx\n",
    "import seaborn as sns\n",
    "import matplotlib.pyplot as plt\n",
    "\n",
    "import itertools"
   ]
  },
  {
   "cell_type": "code",
   "execution_count": 4,
   "metadata": {
    "collapsed": false
   },
   "outputs": [
    {
     "name": "stdout",
     "output_type": "stream",
     "text": [
      "[('output/HLA-A02:11_NMP_9mer_proc.txt', 'output/HLA-A30:01_NMP_9mer_proc.txt'), ('output/HLA-A02:11_NMP_9mer_proc.txt', 'output/HLA-A24:03_NMP_9mer_proc.txt'), ('output/HLA-A02:11_NMP_9mer_proc.txt', 'output/HLA-B15:03_NMP_9mer_proc.txt'), ('output/HLA-A30:01_NMP_9mer_proc.txt', 'output/HLA-A24:03_NMP_9mer_proc.txt'), ('output/HLA-A30:01_NMP_9mer_proc.txt', 'output/HLA-B15:03_NMP_9mer_proc.txt'), ('output/HLA-A24:03_NMP_9mer_proc.txt', 'output/HLA-B15:03_NMP_9mer_proc.txt')]\n"
     ]
    }
   ],
   "source": [
    "file_list = [\"output/HLA-A02:11_NMP_9mer_proc.txt\",\n",
    "             \"output/HLA-A30:01_NMP_9mer_proc.txt\",\n",
    "             \"output/HLA-A24:03_NMP_9mer_proc.txt\",\n",
    "             \"output/HLA-B15:03_NMP_9mer_proc.txt\"]\n",
    "comb = itertools.combinations(file_list, 2)\n",
    "print(list(comb))"
   ]
  },
  {
   "cell_type": "code",
   "execution_count": 7,
   "metadata": {
    "collapsed": false
   },
   "outputs": [
    {
     "data": {
      "text/html": [
       "<div>\n",
       "<table border=\"1\" class=\"dataframe\">\n",
       "  <thead>\n",
       "    <tr style=\"text-align: right;\">\n",
       "      <th></th>\n",
       "      <th>HLA</th>\n",
       "      <th>Peptide</th>\n",
       "      <th>Aff(nM)</th>\n",
       "    </tr>\n",
       "  </thead>\n",
       "  <tbody>\n",
       "    <tr>\n",
       "      <th>0</th>\n",
       "      <td>HLA-B*15:03</td>\n",
       "      <td>AAIAPFQGR</td>\n",
       "      <td>13353.7</td>\n",
       "    </tr>\n",
       "    <tr>\n",
       "      <th>1</th>\n",
       "      <td>HLA-B*15:03</td>\n",
       "      <td>AAIAPFQSA</td>\n",
       "      <td>488.6</td>\n",
       "    </tr>\n",
       "    <tr>\n",
       "      <th>2</th>\n",
       "      <td>HLA-B*15:03</td>\n",
       "      <td>AAIAPGEGD</td>\n",
       "      <td>30097.3</td>\n",
       "    </tr>\n",
       "    <tr>\n",
       "      <th>3</th>\n",
       "      <td>HLA-B*15:03</td>\n",
       "      <td>AAIAPIIAA</td>\n",
       "      <td>848.6</td>\n",
       "    </tr>\n",
       "    <tr>\n",
       "      <th>4</th>\n",
       "      <td>HLA-B*15:03</td>\n",
       "      <td>AAIAPKDDL</td>\n",
       "      <td>6584.0</td>\n",
       "    </tr>\n",
       "  </tbody>\n",
       "</table>\n",
       "</div>"
      ],
      "text/plain": [
       "           HLA    Peptide  Aff(nM)\n",
       "0  HLA-B*15:03  AAIAPFQGR  13353.7\n",
       "1  HLA-B*15:03  AAIAPFQSA    488.6\n",
       "2  HLA-B*15:03  AAIAPGEGD  30097.3\n",
       "3  HLA-B*15:03  AAIAPIIAA    848.6\n",
       "4  HLA-B*15:03  AAIAPKDDL   6584.0"
      ]
     },
     "execution_count": 7,
     "metadata": {},
     "output_type": "execute_result"
    }
   ],
   "source": [
    "df1 = pd.read_csv(\"output/HLA-B15:03_NMP_9mer_proc.txt\", sep=' ')\n",
    "df2 = pd.read_csv(\"output/HLA-A24:03_NMP_9mer_proc.txt\", sep=' ')\n",
    "df.head()"
   ]
  },
  {
   "cell_type": "code",
   "execution_count": 9,
   "metadata": {
    "collapsed": false
   },
   "outputs": [
    {
     "data": {
      "text/plain": [
       "(74936, 0    AVAVWYFPF\n",
       " 1    GFWITDQLF\n",
       " 2    FSPVPSSTF\n",
       " 3    MTLYAAFCF\n",
       " 4    CMSKFTVLF\n",
       " dtype: object)"
      ]
     },
     "execution_count": 9,
     "metadata": {},
     "output_type": "execute_result"
    }
   ],
   "source": [
    "\"\"\"\n",
    "pd.Series(list(set(s1).intersection(set(s2))))\n",
    "\"\"\"\n",
    "df1b = df1[df1['Aff(nM)']<=500]\n",
    "df2b = df2[df2['Aff(nM)']<=500]\n",
    "df1bs = set(df1b.Peptide)\n",
    "df2bs = set(df2b.Peptide)\n",
    "inter = pd.Series(list(df1bs.intersection(df2bs)))\n",
    "len(inter), inter.head()"
   ]
  },
  {
   "cell_type": "code",
   "execution_count": 7,
   "metadata": {
    "collapsed": false
   },
   "outputs": [],
   "source": [
    "file_list = []\n",
    "for name in os.listdir(\"output/\"):\n",
    "    if \"NMP\" in name:\n",
    "        file_list.append(name)\n",
    "for i, s in enumerate(file_list):\n",
    "    file_list[i] = s.replace(\"_NMP_9mer_proc.txt\", \"\")\n",
    "file_list.sort()"
   ]
  },
  {
   "cell_type": "code",
   "execution_count": 8,
   "metadata": {
    "collapsed": false
   },
   "outputs": [
    {
     "name": "stdout",
     "output_type": "stream",
     "text": [
      "\n"
     ]
    }
   ],
   "source": [
    "file_dict = {}\n",
    "for file in tqdm_notebook(file_list):\n",
    "    df = pd.read_csv(\"output/\" + file + \"_NMP_9mer_proc.txt\", sep=\" \")\n",
    "    dfb = df[df['Aff(nM)']<=500]\n",
    "    dfp = dfb.Peptide\n",
    "    file_dict[file] = dfp"
   ]
  },
  {
   "cell_type": "code",
   "execution_count": 9,
   "metadata": {
    "collapsed": false
   },
   "outputs": [
    {
     "name": "stdout",
     "output_type": "stream",
     "text": [
      "\n"
     ]
    }
   ],
   "source": [
    "df = pd.DataFrame(index=file_list, columns=file_list)\n",
    "for file1, file2 in tqdm_notebook(itertools.combinations(file_list, 2)):\n",
    "    inter = np.intersect1d(file_dict[file1], file_dict[file2])\n",
    "#     inter = pd.Series(list(set(file_dict[file1]).intersection(set(file_dict[file2]))))\n",
    "    df.loc[file1, file2] = inter.size"
   ]
  },
  {
   "cell_type": "code",
   "execution_count": 1,
   "metadata": {
    "collapsed": false
   },
   "outputs": [
    {
     "ename": "NameError",
     "evalue": "name 'df' is not defined",
     "output_type": "error",
     "traceback": [
      "\u001b[0;31m---------------------------------------------------------------------------\u001b[0m",
      "\u001b[0;31mNameError\u001b[0m                                 Traceback (most recent call last)",
      "\u001b[0;32m<ipython-input-1-a8ba6b635a69>\u001b[0m in \u001b[0;36m<module>\u001b[0;34m()\u001b[0m\n\u001b[0;32m----> 1\u001b[0;31m \u001b[0mdf\u001b[0m\u001b[0;34m.\u001b[0m\u001b[0mto_csv\u001b[0m\u001b[0;34m(\u001b[0m\u001b[0;34m\"output/intersections.csv\"\u001b[0m\u001b[0;34m)\u001b[0m\u001b[0;34m\u001b[0m\u001b[0m\n\u001b[0m",
      "\u001b[0;31mNameError\u001b[0m: name 'df' is not defined"
     ]
    }
   ],
   "source": [
    "df.to_csv(\"output/intersections.csv\")"
   ]
  },
  {
   "cell_type": "code",
   "execution_count": 52,
   "metadata": {
    "collapsed": false
   },
   "outputs": [
    {
     "data": {
      "text/html": [
       "<div>\n",
       "<table border=\"1\" class=\"dataframe\">\n",
       "  <thead>\n",
       "    <tr style=\"text-align: right;\">\n",
       "      <th></th>\n",
       "      <th>HLA-A02:01</th>\n",
       "      <th>HLA-A02:02</th>\n",
       "      <th>HLA-A02:03</th>\n",
       "      <th>HLA-A02:05</th>\n",
       "    </tr>\n",
       "  </thead>\n",
       "  <tbody>\n",
       "    <tr>\n",
       "      <th>HLA-A02:01</th>\n",
       "      <td>0</td>\n",
       "      <td>325433</td>\n",
       "      <td>297791</td>\n",
       "      <td>273239</td>\n",
       "    </tr>\n",
       "    <tr>\n",
       "      <th>HLA-A02:02</th>\n",
       "      <td>0</td>\n",
       "      <td>0</td>\n",
       "      <td>420181</td>\n",
       "      <td>366204</td>\n",
       "    </tr>\n",
       "    <tr>\n",
       "      <th>HLA-A02:03</th>\n",
       "      <td>0</td>\n",
       "      <td>0</td>\n",
       "      <td>0</td>\n",
       "      <td>340426</td>\n",
       "    </tr>\n",
       "    <tr>\n",
       "      <th>HLA-A02:05</th>\n",
       "      <td>0</td>\n",
       "      <td>0</td>\n",
       "      <td>0</td>\n",
       "      <td>0</td>\n",
       "    </tr>\n",
       "  </tbody>\n",
       "</table>\n",
       "</div>"
      ],
      "text/plain": [
       "           HLA-A02:01 HLA-A02:02 HLA-A02:03 HLA-A02:05\n",
       "HLA-A02:01          0     325433     297791     273239\n",
       "HLA-A02:02          0          0     420181     366204\n",
       "HLA-A02:03          0          0          0     340426\n",
       "HLA-A02:05          0          0          0          0"
      ]
     },
     "execution_count": 52,
     "metadata": {},
     "output_type": "execute_result"
    }
   ],
   "source": [
    "df1 = df\n",
    "df1[df.isnull()] = 0\n",
    "df1.iloc[1:5,1:5]"
   ]
  },
  {
   "cell_type": "code",
   "execution_count": 87,
   "metadata": {
    "collapsed": false
   },
   "outputs": [
    {
     "data": {
      "text/html": [
       "<div>\n",
       "<table border=\"1\" class=\"dataframe\">\n",
       "  <thead>\n",
       "    <tr style=\"text-align: right;\">\n",
       "      <th></th>\n",
       "      <th>HLA-A02:01</th>\n",
       "      <th>HLA-A02:02</th>\n",
       "      <th>HLA-A02:03</th>\n",
       "      <th>HLA-A02:05</th>\n",
       "    </tr>\n",
       "  </thead>\n",
       "  <tbody>\n",
       "    <tr>\n",
       "      <th>HLA-A02:01</th>\n",
       "      <td>0.0</td>\n",
       "      <td>325433.0</td>\n",
       "      <td>297791.0</td>\n",
       "      <td>273239.0</td>\n",
       "    </tr>\n",
       "    <tr>\n",
       "      <th>HLA-A02:02</th>\n",
       "      <td>0.0</td>\n",
       "      <td>0.0</td>\n",
       "      <td>420181.0</td>\n",
       "      <td>366204.0</td>\n",
       "    </tr>\n",
       "    <tr>\n",
       "      <th>HLA-A02:03</th>\n",
       "      <td>0.0</td>\n",
       "      <td>0.0</td>\n",
       "      <td>0.0</td>\n",
       "      <td>340426.0</td>\n",
       "    </tr>\n",
       "    <tr>\n",
       "      <th>HLA-A02:05</th>\n",
       "      <td>0.0</td>\n",
       "      <td>0.0</td>\n",
       "      <td>0.0</td>\n",
       "      <td>0.0</td>\n",
       "    </tr>\n",
       "  </tbody>\n",
       "</table>\n",
       "</div>"
      ],
      "text/plain": [
       "            HLA-A02:01  HLA-A02:02  HLA-A02:03  HLA-A02:05\n",
       "HLA-A02:01         0.0    325433.0    297791.0    273239.0\n",
       "HLA-A02:02         0.0         0.0    420181.0    366204.0\n",
       "HLA-A02:03         0.0         0.0         0.0    340426.0\n",
       "HLA-A02:05         0.0         0.0         0.0         0.0"
      ]
     },
     "execution_count": 87,
     "metadata": {},
     "output_type": "execute_result"
    }
   ],
   "source": [
    "df2 = pd.read_csv(\"output/intersections.csv\")\n",
    "df3 = df2['Unnamed: 0']\n",
    "df2 = df2.drop(\"Unnamed: 0\", axis=1)\n",
    "df2.index = df3\n",
    "# df2 = df2.drop(\"Unnamed: 0\", axis=0)\n",
    "del df2.index.name\n",
    "df2 = df2.fillna(0)\n",
    "df2.iloc[1:5,1:5]"
   ]
  },
  {
   "cell_type": "code",
   "execution_count": 6,
   "metadata": {
    "collapsed": false
   },
   "outputs": [
    {
     "data": {
      "text/plain": [
       "(82, 82)"
      ]
     },
     "execution_count": 6,
     "metadata": {},
     "output_type": "execute_result"
    }
   ],
   "source": [
    "df2.shape"
   ]
  },
  {
   "cell_type": "code",
   "execution_count": 21,
   "metadata": {
    "collapsed": false
   },
   "outputs": [],
   "source": [
    "df1 = df.fillna(0)\n",
    "df_add = df1.add(df1.T, fill_value=0)\n",
    "# df_add.head()"
   ]
  },
  {
   "cell_type": "code",
   "execution_count": 22,
   "metadata": {
    "collapsed": false
   },
   "outputs": [
    {
     "data": {
      "image/png": "[encoded data removed]",
      "text/plain": [
       "<matplotlib.figure.Figure at 0x7f3ae9dfa7f0>"
      ]
     },
     "metadata": {},
     "output_type": "display_data"
    }
   ],
   "source": [
    "g = sns.heatmap(df_add.iloc[0:70, 0:70].T)"
   ]
  },
  {
   "cell_type": "code",
   "execution_count": 26,
   "metadata": {
    "collapsed": false
   },
   "outputs": [
    {
     "data": {
      "text/html": [
       "<div>\n",
       "<table border=\"1\" class=\"dataframe\">\n",
       "  <thead>\n",
       "    <tr style=\"text-align: right;\">\n",
       "      <th></th>\n",
       "      <th>HLA-A02:01</th>\n",
       "      <th>HLA-A02:02</th>\n",
       "      <th>HLA-A02:03</th>\n",
       "      <th>HLA-A02:05</th>\n",
       "    </tr>\n",
       "  </thead>\n",
       "  <tbody>\n",
       "    <tr>\n",
       "      <th>HLA-A02:01</th>\n",
       "      <td>0.0</td>\n",
       "      <td>0.0</td>\n",
       "      <td>0.0</td>\n",
       "      <td>0.0</td>\n",
       "    </tr>\n",
       "    <tr>\n",
       "      <th>HLA-A02:02</th>\n",
       "      <td>325433.0</td>\n",
       "      <td>0.0</td>\n",
       "      <td>0.0</td>\n",
       "      <td>0.0</td>\n",
       "    </tr>\n",
       "    <tr>\n",
       "      <th>HLA-A02:03</th>\n",
       "      <td>297791.0</td>\n",
       "      <td>420181.0</td>\n",
       "      <td>0.0</td>\n",
       "      <td>0.0</td>\n",
       "    </tr>\n",
       "    <tr>\n",
       "      <th>HLA-A02:05</th>\n",
       "      <td>273239.0</td>\n",
       "      <td>366204.0</td>\n",
       "      <td>340426.0</td>\n",
       "      <td>0.0</td>\n",
       "    </tr>\n",
       "  </tbody>\n",
       "</table>\n",
       "</div>"
      ],
      "text/plain": [
       "            HLA-A02:01  HLA-A02:02  HLA-A02:03  HLA-A02:05\n",
       "HLA-A02:01         0.0         0.0         0.0         0.0\n",
       "HLA-A02:02    325433.0         0.0         0.0         0.0\n",
       "HLA-A02:03    297791.0    420181.0         0.0         0.0\n",
       "HLA-A02:05    273239.0    366204.0    340426.0         0.0"
      ]
     },
     "execution_count": 26,
     "metadata": {},
     "output_type": "execute_result"
    }
   ],
   "source": [
    "df2.transpose().iloc[1:5,1:5]"
   ]
  },
  {
   "cell_type": "code",
   "execution_count": 38,
   "metadata": {
    "collapsed": false
   },
   "outputs": [
    {
     "name": "stdout",
     "output_type": "stream",
     "text": [
      "HLA-A01:01 "
     ]
    }
   ],
   "source": [
    "for col in df2:\n",
    "    if len(df2[col].unique()) == 1:\n",
    "        print(df2[col].name, end=\" \")"
   ]
  },
  {
   "cell_type": "code",
   "execution_count": 3,
   "metadata": {
    "collapsed": false
   },
   "outputs": [
    {
     "data": {
      "text/html": [
       "<div>\n",
       "<table border=\"1\" class=\"dataframe\">\n",
       "  <thead>\n",
       "    <tr style=\"text-align: right;\">\n",
       "      <th></th>\n",
       "      <th>mhc</th>\n",
       "      <th>sequence</th>\n",
       "      <th>pseudo</th>\n",
       "    </tr>\n",
       "  </thead>\n",
       "  <tbody>\n",
       "    <tr>\n",
       "      <th>0</th>\n",
       "      <td>HLAA0201</td>\n",
       "      <td>SHSMRYFFTSVSRPGRGEPRFIAVGYVDDTQFVRFDSDAASQRMEP...</td>\n",
       "      <td>YFAMYGEKVAHTHVDTLYYRYHYYTWAVLAYTWY</td>\n",
       "    </tr>\n",
       "    <tr>\n",
       "      <th>1</th>\n",
       "      <td>HLAA0211</td>\n",
       "      <td>SHSMRYFFTSVSRPGRGEPRFIAVGYVDDTQFVRFDSDAASQRMEP...</td>\n",
       "      <td>YFAMYGEKVAHIDVDTLYYRYHYYTWAVLAYTWY</td>\n",
       "    </tr>\n",
       "    <tr>\n",
       "      <th>2</th>\n",
       "      <td>HLAA2402</td>\n",
       "      <td>SHSMRYFSTSVSRPGRGEPRFIAVGYVDDTQFVRFDSDAASQRMEP...</td>\n",
       "      <td>YSAMYEEKVAHTDENIAYYMFHYYTWAVQAYTGY</td>\n",
       "    </tr>\n",
       "    <tr>\n",
       "      <th>3</th>\n",
       "      <td>HLAA8001</td>\n",
       "      <td>SHSMRYFFTSVSRPGRGEPRFIAVGYVDDSQFVQFDSDAASQRMEP...</td>\n",
       "      <td>YFAMYEENVAHTNANTLYYIYRDYTWARLAYEGY</td>\n",
       "    </tr>\n",
       "    <tr>\n",
       "      <th>4</th>\n",
       "      <td>HLAA3001</td>\n",
       "      <td>SHSMRYFSTSVSRPGSGEPRFIAVGYVDDTQFVRFDSDAASQRMEP...</td>\n",
       "      <td>YSAMYQENVAQTDVDTLYYIYEHYTWAWLAYTWY</td>\n",
       "    </tr>\n",
       "  </tbody>\n",
       "</table>\n",
       "</div>"
      ],
      "text/plain": [
       "        mhc                                           sequence  \\\n",
       "0  HLAA0201  SHSMRYFFTSVSRPGRGEPRFIAVGYVDDTQFVRFDSDAASQRMEP...   \n",
       "1  HLAA0211  SHSMRYFFTSVSRPGRGEPRFIAVGYVDDTQFVRFDSDAASQRMEP...   \n",
       "2  HLAA2402  SHSMRYFSTSVSRPGRGEPRFIAVGYVDDTQFVRFDSDAASQRMEP...   \n",
       "3  HLAA8001  SHSMRYFFTSVSRPGRGEPRFIAVGYVDDSQFVQFDSDAASQRMEP...   \n",
       "4  HLAA3001  SHSMRYFSTSVSRPGSGEPRFIAVGYVDDTQFVRFDSDAASQRMEP...   \n",
       "\n",
       "                               pseudo  \n",
       "0  YFAMYGEKVAHTHVDTLYYRYHYYTWAVLAYTWY  \n",
       "1  YFAMYGEKVAHIDVDTLYYRYHYYTWAVLAYTWY  \n",
       "2  YSAMYEEKVAHTDENIAYYMFHYYTWAVQAYTGY  \n",
       "3  YFAMYEENVAHTNANTLYYIYRDYTWARLAYEGY  \n",
       "4  YSAMYQENVAQTDVDTLYYIYEHYTWAWLAYTWY  "
      ]
     },
     "execution_count": 3,
     "metadata": {},
     "output_type": "execute_result"
    }
   ],
   "source": [
    "data = pd.read_csv(\"data/mhc_seq_imghtla.csv\")\n",
    "data.head()"
   ]
  },
  {
   "cell_type": "code",
   "execution_count": 6,
   "metadata": {
    "collapsed": false
   },
   "outputs": [
    {
     "data": {
      "text/html": [
       "<div>\n",
       "<table border=\"1\" class=\"dataframe\">\n",
       "  <thead>\n",
       "    <tr style=\"text-align: right;\">\n",
       "      <th></th>\n",
       "      <th>mhc</th>\n",
       "      <th>sequence</th>\n",
       "      <th>pseudo</th>\n",
       "    </tr>\n",
       "  </thead>\n",
       "  <tbody>\n",
       "    <tr>\n",
       "      <th>count</th>\n",
       "      <td>103</td>\n",
       "      <td>103</td>\n",
       "      <td>103</td>\n",
       "    </tr>\n",
       "    <tr>\n",
       "      <th>unique</th>\n",
       "      <td>103</td>\n",
       "      <td>103</td>\n",
       "      <td>100</td>\n",
       "    </tr>\n",
       "    <tr>\n",
       "      <th>top</th>\n",
       "      <td>HLAB4013</td>\n",
       "      <td>SHSMRYFYTSVSRPGRGEPRFIAVGYVDDTQFVRFDSDAASQRMEP...</td>\n",
       "      <td>YYSEYRNICTNTDESNLYYWYNFYTWAELAYTWH</td>\n",
       "    </tr>\n",
       "    <tr>\n",
       "      <th>freq</th>\n",
       "      <td>1</td>\n",
       "      <td>1</td>\n",
       "      <td>2</td>\n",
       "    </tr>\n",
       "  </tbody>\n",
       "</table>\n",
       "</div>"
      ],
      "text/plain": [
       "             mhc                                           sequence  \\\n",
       "count        103                                                103   \n",
       "unique       103                                                103   \n",
       "top     HLAB4013  SHSMRYFYTSVSRPGRGEPRFIAVGYVDDTQFVRFDSDAASQRMEP...   \n",
       "freq           1                                                  1   \n",
       "\n",
       "                                    pseudo  \n",
       "count                                  103  \n",
       "unique                                 100  \n",
       "top     YYSEYRNICTNTDESNLYYWYNFYTWAELAYTWH  \n",
       "freq                                     2  "
      ]
     },
     "execution_count": 6,
     "metadata": {},
     "output_type": "execute_result"
    }
   ],
   "source": [
    "data.describe()"
   ]
  },
  {
   "cell_type": "code",
   "execution_count": 64,
   "metadata": {
    "collapsed": true
   },
   "outputs": [],
   "source": [
    "from Levenshtein import hamming\n",
    "def ham_dist_dict(data, dist, line_n):\n",
    "    df_chunks = []\n",
    "    for i, s_line in enumerate(data['pseudo']):\n",
    "        result = hamming(data['pseudo'].iloc[line_n], s_line)\n",
    "        if result <= dist:\n",
    "            dict_ = {\"mhc1\" : data['mhc'].iloc[line_n], \"mhc2\" : data['mhc'].iloc[i], \"dist\": result}\n",
    "            df_chunks.append(pd.DataFrame(dict_, index=[0]))\n",
    "    df_ = pd.concat(df_chunks)\n",
    "    return df_"
   ]
  },
  {
   "cell_type": "code",
   "execution_count": 35,
   "metadata": {
    "collapsed": false
   },
   "outputs": [
    {
     "data": {
      "text/plain": [
       "'HLAA0217'"
      ]
     },
     "execution_count": 35,
     "metadata": {},
     "output_type": "execute_result"
    }
   ],
   "source": [
    "mhc_list = [i.replace(':','') for i in file_list]\n",
    "mhc_list = [i.replace('-','') for i in mhc_list]\n",
    "mhc_list[10]"
   ]
  },
  {
   "cell_type": "code",
   "execution_count": 43,
   "metadata": {
    "collapsed": false
   },
   "outputs": [],
   "source": [
    "d = data[data['mhc'].isin(mhc_list)]\n",
    "d.index = range(d.shape[0])"
   ]
  },
  {
   "cell_type": "code",
   "execution_count": 68,
   "metadata": {
    "collapsed": false
   },
   "outputs": [
    {
     "name": "stdout",
     "output_type": "stream",
     "text": [
      "\n",
      "\n"
     ]
    },
    {
     "data": {
      "text/html": [
       "<div>\n",
       "<table border=\"1\" class=\"dataframe\">\n",
       "  <thead>\n",
       "    <tr style=\"text-align: right;\">\n",
       "      <th></th>\n",
       "      <th>dist</th>\n",
       "      <th>mhc1</th>\n",
       "      <th>mhc2</th>\n",
       "    </tr>\n",
       "  </thead>\n",
       "  <tbody>\n",
       "    <tr>\n",
       "      <th>0</th>\n",
       "      <td>0</td>\n",
       "      <td>HLAA0201</td>\n",
       "      <td>HLAA0201</td>\n",
       "    </tr>\n",
       "    <tr>\n",
       "      <th>1</th>\n",
       "      <td>2</td>\n",
       "      <td>HLAA0201</td>\n",
       "      <td>HLAA0211</td>\n",
       "    </tr>\n",
       "    <tr>\n",
       "      <th>2</th>\n",
       "      <td>11</td>\n",
       "      <td>HLAA0201</td>\n",
       "      <td>HLAA2402</td>\n",
       "    </tr>\n",
       "    <tr>\n",
       "      <th>3</th>\n",
       "      <td>11</td>\n",
       "      <td>HLAA0201</td>\n",
       "      <td>HLAA8001</td>\n",
       "    </tr>\n",
       "    <tr>\n",
       "      <th>4</th>\n",
       "      <td>9</td>\n",
       "      <td>HLAA0201</td>\n",
       "      <td>HLAA3001</td>\n",
       "    </tr>\n",
       "  </tbody>\n",
       "</table>\n",
       "</div>"
      ],
      "text/plain": [
       "   dist      mhc1      mhc2\n",
       "0     0  HLAA0201  HLAA0201\n",
       "1     2  HLAA0201  HLAA0211\n",
       "2    11  HLAA0201  HLAA2402\n",
       "3    11  HLAA0201  HLAA8001\n",
       "4     9  HLAA0201  HLAA3001"
      ]
     },
     "execution_count": 68,
     "metadata": {},
     "output_type": "execute_result"
    }
   ],
   "source": [
    "df_chunks = []\n",
    "for i in tqdm_notebook(d.index):\n",
    "    df_ = ham_dist_dict(d, dist=100, line_n=i)\n",
    "    df_chunks.append(df_)\n",
    "mhc_dist = pd.concat(df_chunks)\n",
    "mhc_dist.index = range(len(mhc_dist))\n",
    "mhc_dist.head()"
   ]
  },
  {
   "cell_type": "code",
   "execution_count": 85,
   "metadata": {
    "collapsed": false
   },
   "outputs": [
    {
     "data": {
      "text/plain": [
       "<matplotlib.axes._subplots.AxesSubplot at 0x7f3ae010af28>"
      ]
     },
     "execution_count": 85,
     "metadata": {},
     "output_type": "execute_result"
    },
    {
     "data": {
      "image/png": "[encoded data removed]",
      "text/plain": [
       "<matplotlib.figure.Figure at 0x7f3ae4d426a0>"
      ]
     },
     "metadata": {},
     "output_type": "display_data"
    }
   ],
   "source": [
    "mhc_dist.dist.value_counts().sort_index().plot.barh()"
   ]
  },
  {
   "cell_type": "code",
   "execution_count": null,
   "metadata": {
    "collapsed": false
   },
   "outputs": [],
   "source": [
    "mhc_dist.mhc1 = mhc_dist.mhc1.apply(lambda x: x[0:3]+'-'+x[3:6]+':'+x[6:len(x)])"
   ]
  },
  {
   "cell_type": "code",
   "execution_count": 101,
   "metadata": {
    "collapsed": false
   },
   "outputs": [
    {
     "data": {
      "text/html": [
       "<div>\n",
       "<table border=\"1\" class=\"dataframe\">\n",
       "  <thead>\n",
       "    <tr style=\"text-align: right;\">\n",
       "      <th></th>\n",
       "      <th>dist</th>\n",
       "      <th>mhc1</th>\n",
       "      <th>mhc2</th>\n",
       "    </tr>\n",
       "  </thead>\n",
       "  <tbody>\n",
       "    <tr>\n",
       "      <th>0</th>\n",
       "      <td>0</td>\n",
       "      <td>HLA-A02:01</td>\n",
       "      <td>HLA-A02:01</td>\n",
       "    </tr>\n",
       "    <tr>\n",
       "      <th>1</th>\n",
       "      <td>2</td>\n",
       "      <td>HLA-A02:01</td>\n",
       "      <td>HLA-A02:11</td>\n",
       "    </tr>\n",
       "    <tr>\n",
       "      <th>2</th>\n",
       "      <td>11</td>\n",
       "      <td>HLA-A02:01</td>\n",
       "      <td>HLA-A24:02</td>\n",
       "    </tr>\n",
       "    <tr>\n",
       "      <th>3</th>\n",
       "      <td>11</td>\n",
       "      <td>HLA-A02:01</td>\n",
       "      <td>HLA-A80:01</td>\n",
       "    </tr>\n",
       "    <tr>\n",
       "      <th>4</th>\n",
       "      <td>9</td>\n",
       "      <td>HLA-A02:01</td>\n",
       "      <td>HLA-A30:01</td>\n",
       "    </tr>\n",
       "  </tbody>\n",
       "</table>\n",
       "</div>"
      ],
      "text/plain": [
       "   dist        mhc1        mhc2\n",
       "0     0  HLA-A02:01  HLA-A02:01\n",
       "1     2  HLA-A02:01  HLA-A02:11\n",
       "2    11  HLA-A02:01  HLA-A24:02\n",
       "3    11  HLA-A02:01  HLA-A80:01\n",
       "4     9  HLA-A02:01  HLA-A30:01"
      ]
     },
     "execution_count": 101,
     "metadata": {},
     "output_type": "execute_result"
    }
   ],
   "source": [
    "mhc_dist.mhc2 = mhc_dist.mhc2.apply(lambda x: x[0:3]+'-'+x[3:6]+':'+x[6:len(x)])\n",
    "mhc_dist.head()"
   ]
  },
  {
   "cell_type": "code",
   "execution_count": null,
   "metadata": {
    "collapsed": true
   },
   "outputs": [],
   "source": [
    "mhc_df1 = pd.DataFrame(index=file_list, columns=file_list)\n",
    "for file1, file2 in tqdm_notebook(itertools.combinations(file_list, 2)):\n",
    "    df.loc[file1, file2] = inter.size"
   ]
  },
  {
   "cell_type": "code",
   "execution_count": 114,
   "metadata": {
    "collapsed": false
   },
   "outputs": [
    {
     "ename": "SyntaxError",
     "evalue": "positional argument follows keyword argument (<ipython-input-114-6dbe12c8677c>, line 1)",
     "output_type": "error",
     "traceback": [
      "\u001b[0;36m  File \u001b[0;32m\"<ipython-input-114-6dbe12c8677c>\"\u001b[0;36m, line \u001b[0;32m1\u001b[0m\n\u001b[0;31m    not any(level=0, df2.index.isin(mhc_dist.mhc1))\u001b[0m\n\u001b[0m                    ^\u001b[0m\n\u001b[0;31mSyntaxError\u001b[0m\u001b[0;31m:\u001b[0m positional argument follows keyword argument\n"
     ]
    }
   ],
   "source": [
    "not any(df2.index.isin(mhc_dist.mhc1))"
   ]
  },
  {
   "cell_type": "code",
   "execution_count": null,
   "metadata": {
    "collapsed": true
   },
   "outputs": [],
   "source": []
  }
 ],
 "metadata": {
  "anaconda-cloud": {},
  "kernelspec": {
   "display_name": "Python [conda root]",
   "language": "python",
   "name": "conda-root-py"
  },
  "language_info": {
   "codemirror_mode": {
    "name": "ipython",
    "version": 3
   },
   "file_extension": ".py",
   "mimetype": "text/x-python",
   "name": "python",
   "nbconvert_exporter": "python",
   "pygments_lexer": "ipython3",
   "version": "3.5.2"
  },
  "widgets": {
   "state": {
    "4722d532cbbf44ee884e3ca0441504c1": {
     "views": [
      {
       "cell_index": 21
      }
     ]
    },
    "4b24a98fc3fa4634a27fcecd117bf9aa": {
     "views": [
      {
       "cell_index": 6
      }
     ]
    },
    "8fb4f3806685441dac943737c88484b5": {
     "views": [
      {
       "cell_index": 7
      }
     ]
    }
   },
   "version": "1.2.0"
  }
 },
 "nbformat": 4,
 "nbformat_minor": 1
}
