{
 "cells": [
  {
   "cell_type": "code",
   "execution_count": 99,
   "metadata": {
    "collapsed": true
   },
   "outputs": [],
   "source": [
    "%matplotlib inline\n",
    "\n",
    "import os, sys, gc\n",
    "from tqdm import tqdm, tqdm_notebook, tqdm_pandas\n",
    "from tqdm import trange\n",
    "import time\n",
    "from scipy import stats\n",
    "from scipy.stats import shapiro\n",
    "\n",
    "import pandas as pd\n",
    "import numpy as np\n",
    "import networkx as nx\n",
    "import seaborn as sns\n",
    "import matplotlib.pyplot as plt\n",
    "\n",
    "from multiprocessing import Pool, Process\n",
    "\n",
    "import itertools\n",
    "from modules.kidera import score_positions, score_sequence\n",
    "\n",
    "from sklearn.ensemble import RandomForestClassifier, GradientBoostingClassifier, ExtraTreesClassifier\n",
    "from sklearn.ensemble import AdaBoostClassifier\n",
    "from sklearn.svm import SVC\n",
    "from sklearn.model_selection import train_test_split, cross_val_score, StratifiedKFold\n",
    "from sklearn.metrics import roc_curve, auc, classification_report, roc_auc_score\n",
    "from sklearn.model_selection import RandomizedSearchCV\n",
    "\n",
    "from joblib import dump, load\n",
    "\n",
    "import warnings\n",
    "warnings.filterwarnings('ignore')"
   ]
  },
  {
   "cell_type": "code",
   "execution_count": 2,
   "metadata": {
    "collapsed": true
   },
   "outputs": [],
   "source": [
    "idf1 = pd.read_csv('data/immunogenic_peptides.csv')\n",
    "anchorpos = pd.read_csv('output/anchorpos.csv')"
   ]
  },
  {
   "cell_type": "code",
   "execution_count": 4,
   "metadata": {
    "collapsed": false
   },
   "outputs": [
    {
     "data": {
      "text/plain": [
       "Index(['Epitope', 'Epitope Start', 'Epitope End', ' MHC Allele',\n",
       "       ' Epitope Source Organism Name', 'Length', 'Immunogenicity'],\n",
       "      dtype='object')"
      ]
     },
     "execution_count": 4,
     "metadata": {},
     "output_type": "execute_result"
    }
   ],
   "source": [
    "idf1.columns"
   ]
  },
  {
   "cell_type": "code",
   "execution_count": 20,
   "metadata": {
    "collapsed": false
   },
   "outputs": [],
   "source": [
    "cho_mhc = idf1[idf1[' MHC Allele'].str.startswith(\"HLA\")][' MHC Allele'].unique()"
   ]
  },
  {
   "cell_type": "code",
   "execution_count": 27,
   "metadata": {
    "collapsed": false
   },
   "outputs": [
    {
     "data": {
      "text/plain": [
       "(143,)"
      ]
     },
     "execution_count": 27,
     "metadata": {},
     "output_type": "execute_result"
    }
   ],
   "source": [
    "cho_mhc.shape"
   ]
  },
  {
   "cell_type": "code",
   "execution_count": 43,
   "metadata": {
    "collapsed": false
   },
   "outputs": [],
   "source": [
    "ind = [x[:4] == 'HLA-' and x[5:][:1] == '*' and x[8:][:1] == ':' and len(x) == 11 for x in cho_mhc]\n",
    "ind = np.array(ind)"
   ]
  },
  {
   "cell_type": "code",
   "execution_count": 46,
   "metadata": {
    "collapsed": false
   },
   "outputs": [],
   "source": [
    "cho_hla = cho_mhc[ind]"
   ]
  },
  {
   "cell_type": "code",
   "execution_count": 47,
   "metadata": {
    "collapsed": false
   },
   "outputs": [],
   "source": [
    "anchorpos.columns = ['HLA', 0, 1, 2]\n",
    "predicted_hla = anchorpos.HLA.unique()"
   ]
  },
  {
   "cell_type": "code",
   "execution_count": 48,
   "metadata": {
    "collapsed": false
   },
   "outputs": [
    {
     "data": {
      "text/plain": [
       "(60,)"
      ]
     },
     "execution_count": 48,
     "metadata": {},
     "output_type": "execute_result"
    }
   ],
   "source": [
    "overlap_hla = np.intersect1d(cho_hla, predicted_hla)\n",
    "overlap_hla.shape"
   ]
  },
  {
   "cell_type": "code",
   "execution_count": 49,
   "metadata": {
    "collapsed": false
   },
   "outputs": [
    {
     "data": {
      "text/plain": [
       "array(['HLA-A*01:01', 'HLA-A*02:01', 'HLA-A*02:02', 'HLA-A*02:03',\n",
       "       'HLA-A*02:05', 'HLA-A*02:06', 'HLA-A*02:07', 'HLA-A*03:01',\n",
       "       'HLA-A*11:01', 'HLA-A*23:01', 'HLA-A*24:02', 'HLA-A*24:03',\n",
       "       'HLA-A*25:01', 'HLA-A*26:01', 'HLA-A*29:02', 'HLA-A*30:01',\n",
       "       'HLA-A*30:02', 'HLA-A*31:01', 'HLA-A*33:01', 'HLA-A*68:01',\n",
       "       'HLA-A*68:02', 'HLA-B*07:02', 'HLA-B*08:01', 'HLA-B*14:02',\n",
       "       'HLA-B*15:01', 'HLA-B*15:03', 'HLA-B*27:02', 'HLA-B*27:05',\n",
       "       'HLA-B*35:01', 'HLA-B*35:02', 'HLA-B*35:03', 'HLA-B*35:14',\n",
       "       'HLA-B*37:01', 'HLA-B*38:01', 'HLA-B*39:01', 'HLA-B*39:06',\n",
       "       'HLA-B*40:01', 'HLA-B*40:02', 'HLA-B*40:06', 'HLA-B*41:02',\n",
       "       'HLA-B*44:02', 'HLA-B*44:03', 'HLA-B*45:01', 'HLA-B*48:01',\n",
       "       'HLA-B*50:01', 'HLA-B*51:01', 'HLA-B*52:01', 'HLA-B*53:01',\n",
       "       'HLA-B*55:01', 'HLA-B*55:02', 'HLA-B*57:01', 'HLA-B*57:03',\n",
       "       'HLA-B*58:01', 'HLA-C*03:03', 'HLA-C*03:04', 'HLA-C*04:01',\n",
       "       'HLA-C*06:02', 'HLA-C*07:01', 'HLA-C*08:01', 'HLA-C*08:02'], dtype=object)"
      ]
     },
     "execution_count": 49,
     "metadata": {},
     "output_type": "execute_result"
    }
   ],
   "source": [
    "overlap_hla"
   ]
  },
  {
   "cell_type": "code",
   "execution_count": 92,
   "metadata": {
    "collapsed": false
   },
   "outputs": [
    {
     "data": {
      "text/plain": [
       "(3516, 7)"
      ]
     },
     "execution_count": 92,
     "metadata": {},
     "output_type": "execute_result"
    }
   ],
   "source": [
    "idf1[(idf1[' MHC Allele'].isin(overlap_hla)) & (idf1.Epitope.str.len()==9)].shape"
   ]
  },
  {
   "cell_type": "code",
   "execution_count": 87,
   "metadata": {
    "collapsed": true
   },
   "outputs": [],
   "source": [
    "def mask_pos(epitope, lu):\n",
    "    return \"\".join([k for i,k in enumerate([i for i in epitope]) if i not in lu])"
   ]
  },
  {
   "cell_type": "code",
   "execution_count": 94,
   "metadata": {
    "collapsed": false
   },
   "outputs": [
    {
     "data": {
      "text/html": [
       "<div>\n",
       "<style scoped>\n",
       "    .dataframe tbody tr th:only-of-type {\n",
       "        vertical-align: middle;\n",
       "    }\n",
       "\n",
       "    .dataframe tbody tr th {\n",
       "        vertical-align: top;\n",
       "    }\n",
       "\n",
       "    .dataframe thead th {\n",
       "        text-align: right;\n",
       "    }\n",
       "</style>\n",
       "<table border=\"1\" class=\"dataframe\">\n",
       "  <thead>\n",
       "    <tr style=\"text-align: right;\">\n",
       "      <th></th>\n",
       "      <th>Epitope</th>\n",
       "      <th>Epitope Start</th>\n",
       "      <th>Epitope End</th>\n",
       "      <th>MHC Allele</th>\n",
       "      <th>Epitope Source Organism Name</th>\n",
       "      <th>Length</th>\n",
       "      <th>Immunogenicity</th>\n",
       "    </tr>\n",
       "  </thead>\n",
       "  <tbody>\n",
       "    <tr>\n",
       "      <th>0</th>\n",
       "      <td>ITFNIDTY</td>\n",
       "      <td>278</td>\n",
       "      <td>286</td>\n",
       "      <td>HLA-A*01:01</td>\n",
       "      <td>Vaccinia virus NYCBH - Dryvax</td>\n",
       "      <td>9</td>\n",
       "      <td>Positive</td>\n",
       "    </tr>\n",
       "    <tr>\n",
       "      <th>1</th>\n",
       "      <td>ATALMTGF</td>\n",
       "      <td>1436</td>\n",
       "      <td>1444</td>\n",
       "      <td>HLA-A*01:01</td>\n",
       "      <td>Hepatitis C virus</td>\n",
       "      <td>9</td>\n",
       "      <td>Positive</td>\n",
       "    </tr>\n",
       "    <tr>\n",
       "      <th>2</th>\n",
       "      <td>SSIMSESY</td>\n",
       "      <td>420</td>\n",
       "      <td>428</td>\n",
       "      <td>HLA-A*01:01</td>\n",
       "      <td>Vaccinia virus</td>\n",
       "      <td>9</td>\n",
       "      <td>Positive</td>\n",
       "    </tr>\n",
       "    <tr>\n",
       "      <th>3</th>\n",
       "      <td>VSKYTDMY</td>\n",
       "      <td>842</td>\n",
       "      <td>850</td>\n",
       "      <td>HLA-A*01:01</td>\n",
       "      <td>Vaccinia virus</td>\n",
       "      <td>9</td>\n",
       "      <td>Positive</td>\n",
       "    </tr>\n",
       "    <tr>\n",
       "      <th>4</th>\n",
       "      <td>FTWANKQY</td>\n",
       "      <td>575</td>\n",
       "      <td>583</td>\n",
       "      <td>HLA-A*01:01</td>\n",
       "      <td>Vaccinia virus</td>\n",
       "      <td>9</td>\n",
       "      <td>Positive</td>\n",
       "    </tr>\n",
       "  </tbody>\n",
       "</table>\n",
       "</div>"
      ],
      "text/plain": [
       "    Epitope  Epitope Start  Epitope End   MHC Allele  \\\n",
       "0  ITFNIDTY            278          286  HLA-A*01:01   \n",
       "1  ATALMTGF           1436         1444  HLA-A*01:01   \n",
       "2  SSIMSESY            420          428  HLA-A*01:01   \n",
       "3  VSKYTDMY            842          850  HLA-A*01:01   \n",
       "4  FTWANKQY            575          583  HLA-A*01:01   \n",
       "\n",
       "    Epitope Source Organism Name  Length Immunogenicity  \n",
       "0  Vaccinia virus NYCBH - Dryvax       9       Positive  \n",
       "1              Hepatitis C virus       9       Positive  \n",
       "2                 Vaccinia virus       9       Positive  \n",
       "3                 Vaccinia virus       9       Positive  \n",
       "4                 Vaccinia virus       9       Positive  "
      ]
     },
     "execution_count": 94,
     "metadata": {},
     "output_type": "execute_result"
    }
   ],
   "source": [
    "pos = anchorpos.set_index('HLA')\n",
    "ndf = idf1[(idf1[' MHC Allele'].isin(overlap_hla)) & (idf1.Epitope.str.len()==9)]\n",
    "ndf = ndf.reset_index(drop=True)\n",
    "grouped = ndf.groupby(' MHC Allele')\n",
    "groups = []\n",
    "for name, group in grouped:\n",
    "    lu = [int(i) for i in pos.loc[hla] if i==i]\n",
    "    group.Epitope = group.Epitope.apply(lambda x: mask_pos(x, lu))\n",
    "    groups.append(group)\n",
    "mask_df = pd.concat(groups)\n",
    "mask_df = mask_df.reset_index(drop=True)\n",
    "mask_df.head()"
   ]
  },
  {
   "cell_type": "code",
   "execution_count": 120,
   "metadata": {
    "collapsed": false
   },
   "outputs": [],
   "source": [
    "features = [\"helix.bend.pref\", \"side.chain.size\",\\\n",
    "        \"extended.str.pref\", \"hydrophobicity\", \"double.bend.pref\", \"partial.spec.vol\",\\\n",
    "        \"flat.ext.pref\", \"occurrence.alpha.reg\", \"pK.C\", \"surrounding.hydrop\"]\n",
    "\n",
    "n_estimators = [int(x) for x in np.linspace(start = 20, stop = 600, num = 15)]\n",
    "max_features = ['auto', 'sqrt']\n",
    "max_depth = [int(x) for x in np.linspace(10, 110, num = 11)]\n",
    "max_depth.append(None)\n",
    "min_samples_split = [2, 5, 10]\n",
    "min_samples_leaf = [1, 2, 4]\n",
    "\n",
    "\n",
    "random_grid = {'n_estimators': n_estimators,\n",
    "               'max_features': max_features,\n",
    "               'max_depth': max_depth,\n",
    "               'min_samples_split': min_samples_split,\n",
    "               'min_samples_leaf': min_samples_leaf}\n",
    "\n",
    "def add_kidera(idf1):\n",
    "    idf1 = idf1[['Epitope', 'Immunogenicity']]\n",
    "    idf2 = idf1.Epitope.apply(lambda s: score_sequence(s))\n",
    "    idf = pd.concat([idf1, idf2], axis=1)\n",
    "    idf.columns = ['Epitope', 'Immunogenicity'] + features\n",
    "    idf.Immunogenicity = idf.Immunogenicity.map({'immunogenic': 1, 'non-immunogenic': 0,\n",
    "                                             'Positive': 1, 'Negative': 0})\n",
    "    return idf\n",
    "\n",
    "def preprocess(df):\n",
    "    idf = add_kidera(df)\n",
    "    X = idf[features].values\n",
    "    y = idf['Immunogenicity'].values\n",
    "    return train_test_split(X, y, test_size=0.25, stratify=y, random_state=42)\n",
    "\n",
    "def train_classifier(data):\n",
    "    X_train, X_test, y_train, y_test = preprocess(data)\n",
    "    rf_random = RandomizedSearchCV(estimator = RandomForestClassifier(), param_distributions = random_grid,\n",
    "                               n_iter = 100, cv = 3, verbose=0, random_state=42, n_jobs = -1)\n",
    "\n",
    "    rf_random.fit(X_train, y_train)\n",
    "    \n",
    "    print(\"roc auc score is {:.3}\".format(roc_auc_score(y_test, rf_random.predict(X_test))))\n",
    "    print(classification_report(y_test, rf_random.predict(X_test)))\n",
    "    return rf_random"
   ]
  },
  {
   "cell_type": "code",
   "execution_count": 118,
   "metadata": {
    "collapsed": false
   },
   "outputs": [
    {
     "name": "stdout",
     "output_type": "stream",
     "text": [
      "roc auc score is 0.731\n",
      "             precision    recall  f1-score   support\n",
      "\n",
      "          0       0.75      0.86      0.80       508\n",
      "          1       0.76      0.60      0.67       371\n",
      "\n",
      "avg / total       0.75      0.75      0.75       879\n",
      "\n"
     ]
    }
   ],
   "source": [
    "train_classifier(ndf) # These are the original Chowell data"
   ]
  },
  {
   "cell_type": "code",
   "execution_count": 121,
   "metadata": {
    "collapsed": false
   },
   "outputs": [
    {
     "name": "stdout",
     "output_type": "stream",
     "text": [
      "roc auc score is 0.734\n",
      "             precision    recall  f1-score   support\n",
      "\n",
      "          0       0.76      0.82      0.79       508\n",
      "          1       0.72      0.65      0.68       371\n",
      "\n",
      "avg / total       0.75      0.75      0.75       879\n",
      "\n"
     ]
    }
   ],
   "source": [
    "clf = train_classifier(mask_df) # These are the HLA binding position masked data"
   ]
  }
 ],
 "metadata": {
  "kernelspec": {
   "display_name": "Python [default]",
   "language": "python",
   "name": "python3"
  },
  "language_info": {
   "codemirror_mode": {
    "name": "ipython",
    "version": 3
   },
   "file_extension": ".py",
   "mimetype": "text/x-python",
   "name": "python",
   "nbconvert_exporter": "python",
   "pygments_lexer": "ipython3",
   "version": "3.5.4"
  }
 },
 "nbformat": 4,
 "nbformat_minor": 1
}
