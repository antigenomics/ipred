{
 "cells": [
  {
   "cell_type": "code",
   "execution_count": 1,
   "metadata": {
    "collapsed": true
   },
   "outputs": [],
   "source": [
    "import pysam\n",
    "import shutil\n",
    "import os\n",
    "import urllib3\n",
    "import certifi"
   ]
  },
  {
   "cell_type": "code",
   "execution_count": 2,
   "metadata": {
    "collapsed": false
   },
   "outputs": [],
   "source": [
    "http = urllib3.PoolManager(cert_reqs='CERT_REQUIRED',\n",
    "                           ca_certs=certifi.where())\n",
    "\n",
    "url = \"https://hiv.biozentrum.unibas.ch/download/reads_p1_1_F1.bam\"\n",
    "folder = \"data/hivevo/\"\n",
    "\n",
    "if not os.path.isdir(folder):\n",
    "    os.mkdir(folder)\n",
    "    \n",
    "file_name = folder + url.split(\"/\")[-1]\n",
    "\n",
    "with http.request('GET', url, preload_content=False) as res, open(file_name, 'wb') as out_file:\n",
    " \n",
    "    shutil.copyfileobj(res, out_file)"
   ]
  },
  {
   "cell_type": "code",
   "execution_count": 3,
   "metadata": {
    "collapsed": false
   },
   "outputs": [],
   "source": [
    "samfile = pysam.AlignmentFile(file_name, \"rb\")"
   ]
  },
  {
   "cell_type": "code",
   "execution_count": 4,
   "metadata": {
    "collapsed": false
   },
   "outputs": [
    {
     "name": "stdout",
     "output_type": "stream",
     "text": [
      "@HWI-M02823:16:000000000-A8J4M:1:1101:1790:14263/1\n",
      "TCTGTGATAGGACTCTGGTAACTAGAGATCCCTCAGACCACTCTAGACTGAGTAAAAATCTCTAGCAGTGGCGCCCGAACAGGGACTTGAAAGCGAAAGTTAATAGGGACTCGAAAGCGAAAGTTCCAGAGAAGTTCTCTCGACGCAGGACTCGGCTTGCTGAGGTGCACACAGCAAGAGGCGAGAGCGGCGACTGGTGAGTACGCCAAAATTTTTGACTAGCGGAGGCTAGAAGGAGAGAGATGGGTGCGAGAGCGTCAGTATTAAGTGGGGGAAAATTAGATGCATGG\n",
      "+\n",
      "CCCCCGGGGGGGGGGGGGGGGGGGGGGGGGGGGGGGGGGGGGGGGGGGGGGGGGGGGGGGGGGGGGGGGGGGGGGGGGGGGGGGGGGGGGGGGGGGGGGGGGGGGGGGGGGGGGGGGGGGGGGGGGGGGGGGGGGGGGGGGGGGGGGGGGGGGGGGGGGGGGGGGGGGGGGGGGGGGGGGGGGGGGGGGGGGGGGGGDGFGGGGGGGDGG:FGGFFGGGGGGGGGDEGFGFFGFFFFFFFFFFFFFFFFBFBFBFFF3<BB4>A9AAA<9?BF>>18<A(<?AAF>B2<<\n",
      "@HWI-M02823:16:000000000-A8J4M:1:1101:1790:14263/2\n",
      "GTATTATATAATGATTTAAGTTCTTCTGATCCTGTCTTGAGAGCTGATTGTAACTGTTCCATTAGTTGTTGACACCCTTCTGCTGTTTCTAAAAGGCCAGGGTTAAGTGCGAATCTTTCTAGCTCTCTGCTTGCCCATACTAAATGTTTCATTCTATATTGTTTCTTTCCCCCTGGCCGTAACCGAATCTTCTCCCATGCATCTAATTTTCCCCCACTTAATACTGACGCCCTCGCACCCATCTCTCTCCTTCTA\n",
      "+\n",
      "CCCCCGGGGGGGGFGGGGGGFFGGGGGGGGGGGGGGGGGGGGGGCFFGGAFGFFGG\n"
     ]
    }
   ],
   "source": [
    "print(pysam.bam2fq(file_name)[:1000])"
   ]
  },
  {
   "cell_type": "code",
   "execution_count": null,
   "metadata": {
    "collapsed": true
   },
   "outputs": [],
   "source": []
  },
  {
   "cell_type": "code",
   "execution_count": null,
   "metadata": {
    "collapsed": true
   },
   "outputs": [],
   "source": []
  }
 ],
 "metadata": {
  "anaconda-cloud": {},
  "kernelspec": {
   "display_name": "Python [conda root]",
   "language": "python",
   "name": "conda-root-py"
  },
  "language_info": {
   "codemirror_mode": {
    "name": "ipython",
    "version": 3
   },
   "file_extension": ".py",
   "mimetype": "text/x-python",
   "name": "python",
   "nbconvert_exporter": "python",
   "pygments_lexer": "ipython3",
   "version": "3.5.5"
  }
 },
 "nbformat": 4,
 "nbformat_minor": 1
}
