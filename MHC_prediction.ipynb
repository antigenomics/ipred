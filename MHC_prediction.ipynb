{
 "cells": [
  {
   "cell_type": "code",
   "execution_count": 64,
   "metadata": {
    "collapsed": false
   },
   "outputs": [],
   "source": [
    "%matplotlib inline\n",
    "import os\n",
    "import pandas as pd\n",
    "from pandas.util.testing import assert_frame_equal\n",
    "import numpy as np\n",
    "import itertools \n",
    "import matplotlib.pyplot as plt\n",
    "from mhcflurry import predict"
   ]
  },
  {
   "cell_type": "code",
   "execution_count": 3,
   "metadata": {
    "collapsed": false
   },
   "outputs": [
    {
     "name": "stdout",
     "output_type": "stream",
     "text": [
      "Reading immunogenic_peptides.txt\n"
     ]
    }
   ],
   "source": [
    "filepath = \"./data/immunogenic_peptides.txt\"\n",
    "if os.path.isfile(filepath):\n",
    "    df = pd.read_csv(filepath, sep=\"\\t\")\n",
    "    print(\"Reading {}\".format(os.path.basename(filepath)))\n",
    "else:\n",
    "    print(\"File path is wrong\")"
   ]
  },
  {
   "cell_type": "code",
   "execution_count": 8,
   "metadata": {
    "collapsed": false
   },
   "outputs": [
    {
     "data": {
      "text/html": [
       "<div>\n",
       "<table border=\"1\" class=\"dataframe\">\n",
       "  <thead>\n",
       "    <tr style=\"text-align: right;\">\n",
       "      <th></th>\n",
       "      <th>Peptide</th>\n",
       "      <th>MHC</th>\n",
       "      <th>Species</th>\n",
       "      <th>Immunogenicity</th>\n",
       "    </tr>\n",
       "  </thead>\n",
       "  <tbody>\n",
       "    <tr>\n",
       "      <th>0</th>\n",
       "      <td>AAFDRKSDAK</td>\n",
       "      <td>HLA-A1101</td>\n",
       "      <td>Homo</td>\n",
       "      <td>immunogenic</td>\n",
       "    </tr>\n",
       "    <tr>\n",
       "      <th>1</th>\n",
       "      <td>AAFEFINSL</td>\n",
       "      <td>H-2-Kb</td>\n",
       "      <td>Mus</td>\n",
       "      <td>immunogenic</td>\n",
       "    </tr>\n",
       "  </tbody>\n",
       "</table>\n",
       "</div>"
      ],
      "text/plain": [
       "      Peptide        MHC Species Immunogenicity\n",
       "0  AAFDRKSDAK  HLA-A1101    Homo    immunogenic\n",
       "1   AAFEFINSL     H-2-Kb     Mus    immunogenic"
      ]
     },
     "execution_count": 8,
     "metadata": {},
     "output_type": "execute_result"
    }
   ],
   "source": [
    "df.head(2)"
   ]
  },
  {
   "cell_type": "code",
   "execution_count": 14,
   "metadata": {
    "collapsed": false
   },
   "outputs": [
    {
     "data": {
      "text/plain": [
       "((1114, 4), (1891, 4))"
      ]
     },
     "execution_count": 14,
     "metadata": {},
     "output_type": "execute_result"
    }
   ],
   "source": [
    "human_df = df[df[\"MHC\"].str.contains(\"HLA-*\")]\n",
    "mouse_df = df[df[\"MHC\"].str.contains(\"H-2*\")]\n",
    "df[df[\"Species\"]==\"Homo\"].shape, human_df.shape\n",
    "# Why are they different?"
   ]
  },
  {
   "cell_type": "code",
   "execution_count": 18,
   "metadata": {
    "collapsed": false
   },
   "outputs": [
    {
     "data": {
      "text/html": [
       "<div>\n",
       "<table border=\"1\" class=\"dataframe\">\n",
       "  <thead>\n",
       "    <tr style=\"text-align: right;\">\n",
       "      <th></th>\n",
       "      <th>Peptide</th>\n",
       "      <th>MHC</th>\n",
       "      <th>Species</th>\n",
       "      <th>Immunogenicity</th>\n",
       "    </tr>\n",
       "  </thead>\n",
       "  <tbody>\n",
       "    <tr>\n",
       "      <th>1</th>\n",
       "      <td>AAFDRKSDAK</td>\n",
       "      <td>HLA-A1101</td>\n",
       "      <td>Homo</td>\n",
       "      <td>immunogenic</td>\n",
       "    </tr>\n",
       "    <tr>\n",
       "      <th>2</th>\n",
       "      <td>AAHARFVAA</td>\n",
       "      <td>HLA-B0801</td>\n",
       "      <td>Homo</td>\n",
       "      <td>immunogenic</td>\n",
       "    </tr>\n",
       "  </tbody>\n",
       "</table>\n",
       "</div>"
      ],
      "text/plain": [
       "      Peptide        MHC Species Immunogenicity\n",
       "1  AAFDRKSDAK  HLA-A1101    Homo    immunogenic\n",
       "2   AAHARFVAA  HLA-B0801    Homo    immunogenic"
      ]
     },
     "execution_count": 18,
     "metadata": {},
     "output_type": "execute_result"
    }
   ],
   "source": [
    "human_df.index = range(1,len(human_df) + 1)\n",
    "human_df.head(2)"
   ]
  },
  {
   "cell_type": "code",
   "execution_count": 19,
   "metadata": {
    "collapsed": false
   },
   "outputs": [
    {
     "name": "stdout",
     "output_type": "stream",
     "text": [
      "Predictions made\n",
      "Number of warnings is 1\n",
      "                              0\n",
      "Peptide               LIYKGTYEL\n",
      "MHC                   HLA-A0201\n",
      "Species                     Mus\n",
      "Immunogenicity  non-immunogenic\n"
     ]
    }
   ],
   "source": [
    "predictions = pd.DataFrame()\n",
    "warning = pd.DataFrame()\n",
    "warnings = 0\n",
    "warning_loc = []\n",
    "for i in range(len(df)):\n",
    "    try:\n",
    "        prediction = predict(alleles=human_df[\"MHC\"].iloc[i:i+1].reset_index(drop=True),\n",
    "                                   peptides=human_df[\"Peptide\"].iloc[0:1].reset_index(drop=True))\n",
    "        frame = [predictions, prediction]\n",
    "        predictions = pd.concat(frame)\n",
    "    except ValueError:\n",
    "        warnings += 1\n",
    "        frame = [warning, df.iloc[i]]\n",
    "        warning = pd.concat(frame)\n",
    "        warning_loc.append(i)\n",
    "if len(predictions):\n",
    "    print(\"Predictions made\")\n",
    "else:\n",
    "    print(\"Something went wrong\")\n",
    "print(\"Number of warnings is {}\".format(warnings))\n",
    "print(warning)"
   ]
  },
  {
   "cell_type": "code",
   "execution_count": 20,
   "metadata": {
    "collapsed": false
   },
   "outputs": [
    {
     "data": {
      "text/plain": [
       "array(['HLA-A0101', 'HLA-A0201', 'HLA-A0202', 'HLA-A0203', 'HLA-A0206',\n",
       "       'HLA-A0211', 'HLA-A0301', 'HLA-A1101', 'HLA-A2301', 'HLA-A2402',\n",
       "       'HLA-A2601', 'HLA-A2902', 'HLA-A3001', 'HLA-A3002', 'HLA-A3101',\n",
       "       'HLA-A6801', 'HLA-A6802', 'HLA-A6901', 'HLA-B0702', 'HLA-B0801',\n",
       "       'HLA-B1801', 'HLA-B2705', 'HLA-B3501', 'HLA-B3901', 'HLA-B4001',\n",
       "       'HLA-B4002', 'HLA-B4402', 'HLA-B4403', 'HLA-B4501', 'HLA-B5101',\n",
       "       'HLA-B5301', 'HLA-B5701', 'HLA-B5801'], dtype=object)"
      ]
     },
     "execution_count": 20,
     "metadata": {},
     "output_type": "execute_result"
    }
   ],
   "source": [
    "\"\"\"\n",
    "'HLA-B1502' allele causes an error in mhcflurry\n",
    "\"\"\"\n",
    "HLA_alleles = np.unique(human_df[\"MHC\"])\n",
    "idxs = np.where(HLA_alleles == 'HLA-B1502')\n",
    "HLA_alleles = np.delete(HLA_alleles, idxs)\n",
    "HLA_alleles"
   ]
  },
  {
   "cell_type": "code",
   "execution_count": 140,
   "metadata": {
    "collapsed": false
   },
   "outputs": [
    {
     "name": "stderr",
     "output_type": "stream",
     "text": [
      "/home/vasily/anaconda2/lib/python2.7/site-packages/ipykernel/__main__.py:8: FutureWarning: sort(columns=....) is deprecated, use sort_values(by=.....)\n"
     ]
    },
    {
     "name": "stdout",
     "output_type": "stream",
     "text": [
      "Everything is fine\n"
     ]
    }
   ],
   "source": [
    "ids = []\n",
    "for peptide in human_df[\"Peptide\"]:\n",
    "    peptide1 = peptide\n",
    "    peptide = list(peptide)\n",
    "    while len(peptide) != 1:\n",
    "        letter = iter(peptide)\n",
    "        peptide = map(''.join, itertools.izip(letter, letter))\n",
    "    predictions = predict(alleles=HLA_alleles, peptides=peptide).sort(\"Prediction\", ascending=False)\n",
    "    allele = human_df[human_df[\"Peptide\"]==peptide1][\"MHC\"].values[0]\n",
    "    position = np.where(predictions[\"Allele\"]==allele)\n",
    "    #position = str(position[0]).strip(\"['']\")\n",
    "    position = position[0]\n",
    "    ids.append(position)\n",
    "if ids:\n",
    "    print(\"Everything is fine\")\n",
    "else:\n",
    "    print(\"Something went wrong\")"
   ]
  },
  {
   "cell_type": "code",
   "execution_count": 150,
   "metadata": {
    "collapsed": false
   },
   "outputs": [
    {
     "data": {
      "text/plain": [
       "array([[<matplotlib.axes._subplots.AxesSubplot object at 0x7f50c9905850>]], dtype=object)"
      ]
     },
     "execution_count": 150,
     "metadata": {},
     "output_type": "execute_result"
    },
    {
     "data": {
      "image/png": "[encoded data removed]",
      "text/plain": [
       "<matplotlib.figure.Figure at 0x7f50c75acd50>"
      ]
     },
     "metadata": {},
     "output_type": "display_data"
    }
   ],
   "source": [
    "# Alleles indexes in predicted allele ranks\n",
    "inds = pd.DataFrame(ids)\n",
    "inds.hist()"
   ]
  },
  {
   "cell_type": "code",
   "execution_count": null,
   "metadata": {
    "collapsed": true
   },
   "outputs": [],
   "source": [
    "len(in)"
   ]
  }
 ],
 "metadata": {
  "anaconda-cloud": {},
  "kernelspec": {
   "display_name": "Python [conda root]",
   "language": "python",
   "name": "conda-root-py"
  },
  "language_info": {
   "codemirror_mode": {
    "name": "ipython",
    "version": 2
   },
   "file_extension": ".py",
   "mimetype": "text/x-python",
   "name": "python",
   "nbconvert_exporter": "python",
   "pygments_lexer": "ipython2",
   "version": "2.7.12"
  }
 },
 "nbformat": 4,
 "nbformat_minor": 1
}
