{
 "cells": [
  {
   "cell_type": "code",
   "execution_count": 1,
   "metadata": {
    "collapsed": false
   },
   "outputs": [
    {
     "name": "stderr",
     "output_type": "stream",
     "text": [
      "Using TensorFlow backend.\n",
      "/home/vasily/anaconda2/lib/python2.7/site-packages/sklearn/cross_validation.py:44: DeprecationWarning: This module was deprecated in version 0.18 in favor of the model_selection module into which all the refactored classes and functions are moved. Also note that the interface of the new CV iterators are different from that of this module. This module will be removed in 0.20.\n",
      "  \"This module will be removed in 0.20.\", DeprecationWarning)\n",
      "WARNING:root:You will probably get deadlocks on Python earlier than 3.4 if you set n_jobs to anything other than 1.\n"
     ]
    }
   ],
   "source": [
    "%matplotlib inline\n",
    "import os\n",
    "import pandas as pd\n",
    "import numpy as np\n",
    "import matplotlib.pyplot as plt\n",
    "from mhcflurry import predict"
   ]
  },
  {
   "cell_type": "code",
   "execution_count": 2,
   "metadata": {
    "collapsed": false
   },
   "outputs": [
    {
     "name": "stdout",
     "output_type": "stream",
     "text": [
      "Reading immunogenic_peptides.txt\n"
     ]
    }
   ],
   "source": [
    "filepath = \"./data/immunogenic_peptides.txt\"\n",
    "if os.path.isfile(filepath):\n",
    "    df = pd.read_csv(filepath, sep=\"\\t\")\n",
    "    print(\"Reading {}\".format(os.path.basename(filepath)))\n",
    "else:\n",
    "    print(\"File path is wrong\")"
   ]
  },
  {
   "cell_type": "code",
   "execution_count": 3,
   "metadata": {
    "collapsed": false
   },
   "outputs": [
    {
     "data": {
      "text/html": [
       "<div>\n",
       "<table border=\"1\" class=\"dataframe\">\n",
       "  <thead>\n",
       "    <tr style=\"text-align: right;\">\n",
       "      <th></th>\n",
       "      <th>Peptide</th>\n",
       "      <th>MHC</th>\n",
       "      <th>Species</th>\n",
       "      <th>Immunogenicity</th>\n",
       "    </tr>\n",
       "  </thead>\n",
       "  <tbody>\n",
       "    <tr>\n",
       "      <th>0</th>\n",
       "      <td>AAFDRKSDAK</td>\n",
       "      <td>HLA-A1101</td>\n",
       "      <td>Homo</td>\n",
       "      <td>immunogenic</td>\n",
       "    </tr>\n",
       "    <tr>\n",
       "      <th>1</th>\n",
       "      <td>AAFEFINSL</td>\n",
       "      <td>H-2-Kb</td>\n",
       "      <td>Mus</td>\n",
       "      <td>immunogenic</td>\n",
       "    </tr>\n",
       "  </tbody>\n",
       "</table>\n",
       "</div>"
      ],
      "text/plain": [
       "      Peptide        MHC Species Immunogenicity\n",
       "0  AAFDRKSDAK  HLA-A1101    Homo    immunogenic\n",
       "1   AAFEFINSL     H-2-Kb     Mus    immunogenic"
      ]
     },
     "execution_count": 3,
     "metadata": {},
     "output_type": "execute_result"
    }
   ],
   "source": [
    "df.head(2)"
   ]
  },
  {
   "cell_type": "code",
   "execution_count": 4,
   "metadata": {
    "collapsed": false
   },
   "outputs": [
    {
     "name": "stdout",
     "output_type": "stream",
     "text": [
      "Reading production.csv\n"
     ]
    }
   ],
   "source": [
    "allelespath = \"/home/vasily/.local/share/mhcflurry/4/0.0.8/models_class1_allele_specific_single/production.csv\"\n",
    "if os.path.isfile(allelespath):\n",
    "    alleles_df = pd.read_csv(allelespath)\n",
    "    print(\"Reading {}\".format(os.path.basename(allelespath)))\n",
    "else:\n",
    "    print(\"File path is wrong\")"
   ]
  },
  {
   "cell_type": "code",
   "execution_count": 5,
   "metadata": {
    "collapsed": false
   },
   "outputs": [
    {
     "data": {
      "text/plain": [
       "0    HLA-A0301\n",
       "1    HLA-B3501\n",
       "2     Mamu-B01\n",
       "3    HLA-B4201\n",
       "4    HLA-A0203\n",
       "Name: allele, dtype: object"
      ]
     },
     "execution_count": 5,
     "metadata": {},
     "output_type": "execute_result"
    }
   ],
   "source": [
    "alleles_df[\"allele\"].head()"
   ]
  },
  {
   "cell_type": "code",
   "execution_count": 7,
   "metadata": {
    "collapsed": false
   },
   "outputs": [
    {
     "name": "stdout",
     "output_type": "stream",
     "text": [
      "Predictions made\n",
      "Number of warnings is 1\n",
      "                          0\n",
      "Peptide           NIRQAGVQY\n",
      "MHC               HLA-B1502\n",
      "Species                Homo\n",
      "Immunogenicity  immunogenic\n"
     ]
    }
   ],
   "source": [
    "predictions = pd.DataFrame()\n",
    "warning = pd.DataFrame()\n",
    "warnings = 0\n",
    "warning_loc = []\n",
    "for i in range(len(df)):\n",
    "    try:\n",
    "        prediction = predict(alleles=df[\"MHC\"].iloc[i:i+1].reset_index(drop=True),\n",
    "                                   peptides=df[\"Peptide\"].iloc[0:1].reset_index(drop=True))\n",
    "        frame = [predictions, prediction]\n",
    "        predictions = pd.concat(frame)\n",
    "    except ValueError:\n",
    "        warnings += 1\n",
    "        frame = [warning, df.iloc[i]]\n",
    "        warning = pd.concat(frame)\n",
    "        warning_loc.append(i)\n",
    "if len(predictions):\n",
    "    print(\"Predictions made\")\n",
    "else:\n",
    "    print(\"Something went wrong\")\n",
    "print(\"Number of warnings is {}\".format(warnings))\n",
    "print(warning)"
   ]
  },
  {
   "cell_type": "code",
   "execution_count": 29,
   "metadata": {
    "collapsed": false
   },
   "outputs": [
    {
     "name": "stderr",
     "output_type": "stream",
     "text": [
      "/home/vasily/anaconda2/lib/python2.7/site-packages/ipykernel/__main__.py:5: FutureWarning: sort(columns=....) is deprecated, use sort_values(by=.....)\n"
     ]
    },
    {
     "data": {
      "text/html": [
       "<div>\n",
       "<table border=\"1\" class=\"dataframe\">\n",
       "  <thead>\n",
       "    <tr style=\"text-align: right;\">\n",
       "      <th></th>\n",
       "      <th>Allele</th>\n",
       "      <th>Peptide</th>\n",
       "      <th>Prediction</th>\n",
       "    </tr>\n",
       "  </thead>\n",
       "  <tbody>\n",
       "    <tr>\n",
       "      <th>5</th>\n",
       "      <td>H-2-LD</td>\n",
       "      <td>AAFDRKSDAK</td>\n",
       "      <td>47724.140625</td>\n",
       "    </tr>\n",
       "    <tr>\n",
       "      <th>14</th>\n",
       "      <td>HLA-A2301</td>\n",
       "      <td>AAFDRKSDAK</td>\n",
       "      <td>38429.570312</td>\n",
       "    </tr>\n",
       "    <tr>\n",
       "      <th>34</th>\n",
       "      <td>HLA-B4501</td>\n",
       "      <td>AAFDRKSDAK</td>\n",
       "      <td>32892.187500</td>\n",
       "    </tr>\n",
       "    <tr>\n",
       "      <th>22</th>\n",
       "      <td>HLA-A6802</td>\n",
       "      <td>AAFDRKSDAK</td>\n",
       "      <td>32481.492188</td>\n",
       "    </tr>\n",
       "    <tr>\n",
       "      <th>31</th>\n",
       "      <td>HLA-B4002</td>\n",
       "      <td>AAFDRKSDAK</td>\n",
       "      <td>32466.308594</td>\n",
       "    </tr>\n",
       "    <tr>\n",
       "      <th>36</th>\n",
       "      <td>HLA-B5301</td>\n",
       "      <td>AAFDRKSDAK</td>\n",
       "      <td>32118.978516</td>\n",
       "    </tr>\n",
       "    <tr>\n",
       "      <th>15</th>\n",
       "      <td>HLA-A2402</td>\n",
       "      <td>AAFDRKSDAK</td>\n",
       "      <td>31825.773438</td>\n",
       "    </tr>\n",
       "    <tr>\n",
       "      <th>29</th>\n",
       "      <td>HLA-B3901</td>\n",
       "      <td>AAFDRKSDAK</td>\n",
       "      <td>31604.509766</td>\n",
       "    </tr>\n",
       "    <tr>\n",
       "      <th>0</th>\n",
       "      <td>H-2-DB</td>\n",
       "      <td>AAFDRKSDAK</td>\n",
       "      <td>30770.351562</td>\n",
       "    </tr>\n",
       "    <tr>\n",
       "      <th>16</th>\n",
       "      <td>HLA-A2601</td>\n",
       "      <td>AAFDRKSDAK</td>\n",
       "      <td>30111.015625</td>\n",
       "    </tr>\n",
       "    <tr>\n",
       "      <th>35</th>\n",
       "      <td>HLA-B5101</td>\n",
       "      <td>AAFDRKSDAK</td>\n",
       "      <td>27918.466797</td>\n",
       "    </tr>\n",
       "    <tr>\n",
       "      <th>26</th>\n",
       "      <td>HLA-B1801</td>\n",
       "      <td>AAFDRKSDAK</td>\n",
       "      <td>26655.998047</td>\n",
       "    </tr>\n",
       "    <tr>\n",
       "      <th>8</th>\n",
       "      <td>HLA-A0202</td>\n",
       "      <td>AAFDRKSDAK</td>\n",
       "      <td>26074.292969</td>\n",
       "    </tr>\n",
       "    <tr>\n",
       "      <th>6</th>\n",
       "      <td>HLA-A0101</td>\n",
       "      <td>AAFDRKSDAK</td>\n",
       "      <td>25215.490234</td>\n",
       "    </tr>\n",
       "    <tr>\n",
       "      <th>32</th>\n",
       "      <td>HLA-B4402</td>\n",
       "      <td>AAFDRKSDAK</td>\n",
       "      <td>25061.105469</td>\n",
       "    </tr>\n",
       "    <tr>\n",
       "      <th>27</th>\n",
       "      <td>HLA-B2705</td>\n",
       "      <td>AAFDRKSDAK</td>\n",
       "      <td>24777.507812</td>\n",
       "    </tr>\n",
       "    <tr>\n",
       "      <th>9</th>\n",
       "      <td>HLA-A0203</td>\n",
       "      <td>AAFDRKSDAK</td>\n",
       "      <td>24624.550781</td>\n",
       "    </tr>\n",
       "    <tr>\n",
       "      <th>2</th>\n",
       "      <td>H-2-KB</td>\n",
       "      <td>AAFDRKSDAK</td>\n",
       "      <td>24316.253906</td>\n",
       "    </tr>\n",
       "    <tr>\n",
       "      <th>37</th>\n",
       "      <td>HLA-B5701</td>\n",
       "      <td>AAFDRKSDAK</td>\n",
       "      <td>23633.925781</td>\n",
       "    </tr>\n",
       "    <tr>\n",
       "      <th>33</th>\n",
       "      <td>HLA-B4403</td>\n",
       "      <td>AAFDRKSDAK</td>\n",
       "      <td>23189.335938</td>\n",
       "    </tr>\n",
       "    <tr>\n",
       "      <th>7</th>\n",
       "      <td>HLA-A0201</td>\n",
       "      <td>AAFDRKSDAK</td>\n",
       "      <td>21852.185547</td>\n",
       "    </tr>\n",
       "    <tr>\n",
       "      <th>23</th>\n",
       "      <td>HLA-A6901</td>\n",
       "      <td>AAFDRKSDAK</td>\n",
       "      <td>21754.574219</td>\n",
       "    </tr>\n",
       "    <tr>\n",
       "      <th>30</th>\n",
       "      <td>HLA-B4001</td>\n",
       "      <td>AAFDRKSDAK</td>\n",
       "      <td>21440.753906</td>\n",
       "    </tr>\n",
       "    <tr>\n",
       "      <th>38</th>\n",
       "      <td>HLA-B5801</td>\n",
       "      <td>AAFDRKSDAK</td>\n",
       "      <td>21400.748047</td>\n",
       "    </tr>\n",
       "    <tr>\n",
       "      <th>1</th>\n",
       "      <td>H-2-DD</td>\n",
       "      <td>AAFDRKSDAK</td>\n",
       "      <td>21104.226562</td>\n",
       "    </tr>\n",
       "    <tr>\n",
       "      <th>24</th>\n",
       "      <td>HLA-B0702</td>\n",
       "      <td>AAFDRKSDAK</td>\n",
       "      <td>20438.611328</td>\n",
       "    </tr>\n",
       "    <tr>\n",
       "      <th>11</th>\n",
       "      <td>HLA-A0211</td>\n",
       "      <td>AAFDRKSDAK</td>\n",
       "      <td>20019.359375</td>\n",
       "    </tr>\n",
       "    <tr>\n",
       "      <th>17</th>\n",
       "      <td>HLA-A2902</td>\n",
       "      <td>AAFDRKSDAK</td>\n",
       "      <td>18603.404297</td>\n",
       "    </tr>\n",
       "    <tr>\n",
       "      <th>4</th>\n",
       "      <td>H-2-KK</td>\n",
       "      <td>AAFDRKSDAK</td>\n",
       "      <td>18523.205078</td>\n",
       "    </tr>\n",
       "    <tr>\n",
       "      <th>25</th>\n",
       "      <td>HLA-B0801</td>\n",
       "      <td>AAFDRKSDAK</td>\n",
       "      <td>17350.291016</td>\n",
       "    </tr>\n",
       "    <tr>\n",
       "      <th>10</th>\n",
       "      <td>HLA-A0206</td>\n",
       "      <td>AAFDRKSDAK</td>\n",
       "      <td>17221.478516</td>\n",
       "    </tr>\n",
       "    <tr>\n",
       "      <th>3</th>\n",
       "      <td>H-2-KD</td>\n",
       "      <td>AAFDRKSDAK</td>\n",
       "      <td>17206.314453</td>\n",
       "    </tr>\n",
       "    <tr>\n",
       "      <th>19</th>\n",
       "      <td>HLA-A3002</td>\n",
       "      <td>AAFDRKSDAK</td>\n",
       "      <td>14051.201172</td>\n",
       "    </tr>\n",
       "    <tr>\n",
       "      <th>28</th>\n",
       "      <td>HLA-B3501</td>\n",
       "      <td>AAFDRKSDAK</td>\n",
       "      <td>13306.677734</td>\n",
       "    </tr>\n",
       "    <tr>\n",
       "      <th>20</th>\n",
       "      <td>HLA-A3101</td>\n",
       "      <td>AAFDRKSDAK</td>\n",
       "      <td>2940.410889</td>\n",
       "    </tr>\n",
       "    <tr>\n",
       "      <th>12</th>\n",
       "      <td>HLA-A0301</td>\n",
       "      <td>AAFDRKSDAK</td>\n",
       "      <td>2544.572510</td>\n",
       "    </tr>\n",
       "    <tr>\n",
       "      <th>21</th>\n",
       "      <td>HLA-A6801</td>\n",
       "      <td>AAFDRKSDAK</td>\n",
       "      <td>946.831726</td>\n",
       "    </tr>\n",
       "    <tr>\n",
       "      <th>18</th>\n",
       "      <td>HLA-A3001</td>\n",
       "      <td>AAFDRKSDAK</td>\n",
       "      <td>388.281311</td>\n",
       "    </tr>\n",
       "    <tr>\n",
       "      <th>13</th>\n",
       "      <td>HLA-A1101</td>\n",
       "      <td>AAFDRKSDAK</td>\n",
       "      <td>367.609009</td>\n",
       "    </tr>\n",
       "  </tbody>\n",
       "</table>\n",
       "</div>"
      ],
      "text/plain": [
       "       Allele     Peptide    Prediction\n",
       "5      H-2-LD  AAFDRKSDAK  47724.140625\n",
       "14  HLA-A2301  AAFDRKSDAK  38429.570312\n",
       "34  HLA-B4501  AAFDRKSDAK  32892.187500\n",
       "22  HLA-A6802  AAFDRKSDAK  32481.492188\n",
       "31  HLA-B4002  AAFDRKSDAK  32466.308594\n",
       "36  HLA-B5301  AAFDRKSDAK  32118.978516\n",
       "15  HLA-A2402  AAFDRKSDAK  31825.773438\n",
       "29  HLA-B3901  AAFDRKSDAK  31604.509766\n",
       "0      H-2-DB  AAFDRKSDAK  30770.351562\n",
       "16  HLA-A2601  AAFDRKSDAK  30111.015625\n",
       "35  HLA-B5101  AAFDRKSDAK  27918.466797\n",
       "26  HLA-B1801  AAFDRKSDAK  26655.998047\n",
       "8   HLA-A0202  AAFDRKSDAK  26074.292969\n",
       "6   HLA-A0101  AAFDRKSDAK  25215.490234\n",
       "32  HLA-B4402  AAFDRKSDAK  25061.105469\n",
       "27  HLA-B2705  AAFDRKSDAK  24777.507812\n",
       "9   HLA-A0203  AAFDRKSDAK  24624.550781\n",
       "2      H-2-KB  AAFDRKSDAK  24316.253906\n",
       "37  HLA-B5701  AAFDRKSDAK  23633.925781\n",
       "33  HLA-B4403  AAFDRKSDAK  23189.335938\n",
       "7   HLA-A0201  AAFDRKSDAK  21852.185547\n",
       "23  HLA-A6901  AAFDRKSDAK  21754.574219\n",
       "30  HLA-B4001  AAFDRKSDAK  21440.753906\n",
       "38  HLA-B5801  AAFDRKSDAK  21400.748047\n",
       "1      H-2-DD  AAFDRKSDAK  21104.226562\n",
       "24  HLA-B0702  AAFDRKSDAK  20438.611328\n",
       "11  HLA-A0211  AAFDRKSDAK  20019.359375\n",
       "17  HLA-A2902  AAFDRKSDAK  18603.404297\n",
       "4      H-2-KK  AAFDRKSDAK  18523.205078\n",
       "25  HLA-B0801  AAFDRKSDAK  17350.291016\n",
       "10  HLA-A0206  AAFDRKSDAK  17221.478516\n",
       "3      H-2-KD  AAFDRKSDAK  17206.314453\n",
       "19  HLA-A3002  AAFDRKSDAK  14051.201172\n",
       "28  HLA-B3501  AAFDRKSDAK  13306.677734\n",
       "20  HLA-A3101  AAFDRKSDAK   2940.410889\n",
       "12  HLA-A0301  AAFDRKSDAK   2544.572510\n",
       "21  HLA-A6801  AAFDRKSDAK    946.831726\n",
       "18  HLA-A3001  AAFDRKSDAK    388.281311\n",
       "13  HLA-A1101  AAFDRKSDAK    367.609009"
      ]
     },
     "execution_count": 29,
     "metadata": {},
     "output_type": "execute_result"
    }
   ],
   "source": [
    "\"\"\"\n",
    "'HLA-B1502' allele causes an error in mhcflurry\n",
    "\"\"\"\n",
    "MHC_alleles = np.unique(df[\"MHC\"])\n",
    "idxs = np.where(MHC_alleles == 'HLA-B1502')\n",
    "MHC_alleles = np.delete(MHC_alleles, idxs)\n",
    "predict(alleles=MHC_alleles, peptides=df[\"Peptide\"].iloc[0:1]).sort(\"Prediction\", ascending=False)"
   ]
  }
 ],
 "metadata": {
  "kernelspec": {
   "display_name": "Python [conda root]",
   "language": "python",
   "name": "conda-root-py"
  },
  "language_info": {
   "codemirror_mode": {
    "name": "ipython",
    "version": 2
   },
   "file_extension": ".py",
   "mimetype": "text/x-python",
   "name": "python",
   "nbconvert_exporter": "python",
   "pygments_lexer": "ipython2",
   "version": "2.7.12"
  }
 },
 "nbformat": 4,
 "nbformat_minor": 1
}
