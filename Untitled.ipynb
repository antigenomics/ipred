{
 "cells": [
  {
   "cell_type": "code",
   "execution_count": 1,
   "metadata": {
    "collapsed": false
   },
   "outputs": [],
   "source": [
    "%matplotlib inline\n",
    "\n",
    "import os\n",
    "from tqdm import tqdm, tqdm_notebook\n",
    "from tqdm import trange\n",
    "from scipy import stats\n",
    "from scipy.stats import shapiro\n",
    "\n",
    "import pandas as pd\n",
    "import numpy as np\n",
    "import networkx as nx\n",
    "import seaborn as sns\n",
    "import matplotlib.pyplot as plt\n",
    "\n",
    "import itertools\n",
    "from modules.kidera import score_positions, score_sequence\n",
    "\n",
    "import warnings\n",
    "warnings.filterwarnings('ignore')"
   ]
  },
  {
   "cell_type": "code",
   "execution_count": null,
   "metadata": {
    "collapsed": false
   },
   "outputs": [],
   "source": [
    "import dask\n",
    "import dask.dataframe as dd\n",
    "from dask.distributed import Client, progress\n",
    "import time\n",
    "client = Client()\n",
    "client"
   ]
  },
  {
   "cell_type": "code",
   "execution_count": 29,
   "metadata": {
    "collapsed": false
   },
   "outputs": [],
   "source": [
    "df = dd.read_csv('output/k-mers/human_peptides_9mers.txt', header=None)"
   ]
  },
  {
   "cell_type": "code",
   "execution_count": 12,
   "metadata": {
    "collapsed": false
   },
   "outputs": [
    {
     "data": {
      "text/plain": [
       "10379346"
      ]
     },
     "execution_count": 12,
     "metadata": {},
     "output_type": "execute_result"
    }
   ],
   "source": [
    "len(df)"
   ]
  },
  {
   "cell_type": "code",
   "execution_count": 15,
   "metadata": {
    "collapsed": false
   },
   "outputs": [
    {
     "data": {
      "text/html": [
       "<div>\n",
       "<style scoped>\n",
       "    .dataframe tbody tr th:only-of-type {\n",
       "        vertical-align: middle;\n",
       "    }\n",
       "\n",
       "    .dataframe tbody tr th {\n",
       "        vertical-align: top;\n",
       "    }\n",
       "\n",
       "    .dataframe thead th {\n",
       "        text-align: right;\n",
       "    }\n",
       "</style>\n",
       "<table border=\"1\" class=\"dataframe\">\n",
       "  <thead>\n",
       "    <tr style=\"text-align: right;\">\n",
       "      <th></th>\n",
       "      <th>Peptide</th>\n",
       "    </tr>\n",
       "  </thead>\n",
       "  <tbody>\n",
       "    <tr>\n",
       "      <th>0</th>\n",
       "      <td>AAAAAAAAA</td>\n",
       "    </tr>\n",
       "    <tr>\n",
       "      <th>1</th>\n",
       "      <td>AAAAAAAAC</td>\n",
       "    </tr>\n",
       "    <tr>\n",
       "      <th>2</th>\n",
       "      <td>AAAAAAAAD</td>\n",
       "    </tr>\n",
       "    <tr>\n",
       "      <th>3</th>\n",
       "      <td>AAAAAAAAE</td>\n",
       "    </tr>\n",
       "    <tr>\n",
       "      <th>4</th>\n",
       "      <td>AAAAAAAAF</td>\n",
       "    </tr>\n",
       "  </tbody>\n",
       "</table>\n",
       "</div>"
      ],
      "text/plain": [
       "     Peptide\n",
       "0  AAAAAAAAA\n",
       "1  AAAAAAAAC\n",
       "2  AAAAAAAAD\n",
       "3  AAAAAAAAE\n",
       "4  AAAAAAAAF"
      ]
     },
     "execution_count": 15,
     "metadata": {},
     "output_type": "execute_result"
    }
   ],
   "source": [
    "df.columns = ['Peptide']\n",
    "df.head()"
   ]
  },
  {
   "cell_type": "code",
   "execution_count": 66,
   "metadata": {
    "collapsed": true
   },
   "outputs": [],
   "source": [
    "cols = [\"helix.bend.pref\", \"side.chain.size\",\\\n",
    "        \"extended.str.pref\", \"hydrophobicity\", \"double.bend.pref\", \"partial.spec.vol\",\\\n",
    "        \"flat.ext.pref\", \"occurrence.alpha.reg\", \"pK.C\", \"surrounding.hydrop\"]"
   ]
  },
  {
   "cell_type": "code",
   "execution_count": 65,
   "metadata": {
    "collapsed": false
   },
   "outputs": [],
   "source": [
    "df = df.repartition(npartitions=160)"
   ]
  },
  {
   "cell_type": "code",
   "execution_count": 75,
   "metadata": {
    "collapsed": false
   },
   "outputs": [],
   "source": [
    "df1 = df.Peptide.apply(lambda s: score_sequence(s), \\\n",
    "                     meta=pd.DataFrame(np.random.rand(len(df), len(cols)), columns=cols, dtype=float))\n",
    "distributed = client.compute(df1)\n",
    "progress(distributed)"
   ]
  },
  {
   "cell_type": "code",
   "execution_count": 76,
   "metadata": {
    "collapsed": true
   },
   "outputs": [],
   "source": [
    "res = distributed.result()"
   ]
  },
  {
   "cell_type": "code",
   "execution_count": null,
   "metadata": {
    "collapsed": false
   },
   "outputs": [],
   "source": [
    "res.to_csv('output/kidera/hpeptides_9mers_kidera.csv', index=False)"
   ]
  },
  {
   "cell_type": "code",
   "execution_count": 79,
   "metadata": {
    "collapsed": false
   },
   "outputs": [
    {
     "data": {
      "text/html": [
       "<div>\n",
       "<style scoped>\n",
       "    .dataframe tbody tr th:only-of-type {\n",
       "        vertical-align: middle;\n",
       "    }\n",
       "\n",
       "    .dataframe tbody tr th {\n",
       "        vertical-align: top;\n",
       "    }\n",
       "\n",
       "    .dataframe thead th {\n",
       "        text-align: right;\n",
       "    }\n",
       "</style>\n",
       "<table border=\"1\" class=\"dataframe\">\n",
       "  <thead>\n",
       "    <tr style=\"text-align: right;\">\n",
       "      <th></th>\n",
       "      <th>helix.bend.pref</th>\n",
       "      <th>side.chain.size</th>\n",
       "      <th>extended.str.pref</th>\n",
       "      <th>hydrophobicity</th>\n",
       "      <th>double.bend.pref</th>\n",
       "      <th>partial.spec.vol</th>\n",
       "      <th>flat.ext.pref</th>\n",
       "      <th>occurrence.alpha.reg</th>\n",
       "      <th>pK.C</th>\n",
       "      <th>surrounding.hydrop</th>\n",
       "    </tr>\n",
       "  </thead>\n",
       "  <tbody>\n",
       "    <tr>\n",
       "      <th>0</th>\n",
       "      <td>-1.560000</td>\n",
       "      <td>-1.670000</td>\n",
       "      <td>-0.970000</td>\n",
       "      <td>-0.270000</td>\n",
       "      <td>-0.930000</td>\n",
       "      <td>-0.780000</td>\n",
       "      <td>-0.200000</td>\n",
       "      <td>-0.080000</td>\n",
       "      <td>0.210000</td>\n",
       "      <td>-0.480000</td>\n",
       "    </tr>\n",
       "    <tr>\n",
       "      <th>1</th>\n",
       "      <td>-1.373333</td>\n",
       "      <td>-1.583333</td>\n",
       "      <td>-0.812222</td>\n",
       "      <td>-0.356667</td>\n",
       "      <td>-0.905556</td>\n",
       "      <td>-0.425556</td>\n",
       "      <td>-0.008889</td>\n",
       "      <td>-0.147778</td>\n",
       "      <td>0.312222</td>\n",
       "      <td>-0.304444</td>\n",
       "    </tr>\n",
       "    <tr>\n",
       "      <th>2</th>\n",
       "      <td>-1.322222</td>\n",
       "      <td>-1.508889</td>\n",
       "      <td>-1.037778</td>\n",
       "      <td>-0.150000</td>\n",
       "      <td>-0.928889</td>\n",
       "      <td>-0.676667</td>\n",
       "      <td>-0.346667</td>\n",
       "      <td>-0.018889</td>\n",
       "      <td>0.271111</td>\n",
       "      <td>-0.348889</td>\n",
       "    </tr>\n",
       "    <tr>\n",
       "      <th>3</th>\n",
       "      <td>-1.547778</td>\n",
       "      <td>-1.463333</td>\n",
       "      <td>-1.041111</td>\n",
       "      <td>-0.110000</td>\n",
       "      <td>-0.972222</td>\n",
       "      <td>-0.648889</td>\n",
       "      <td>-0.173333</td>\n",
       "      <td>-0.028889</td>\n",
       "      <td>0.147778</td>\n",
       "      <td>-0.440000</td>\n",
       "    </tr>\n",
       "    <tr>\n",
       "      <th>4</th>\n",
       "      <td>-1.410000</td>\n",
       "      <td>-1.375556</td>\n",
       "      <td>-0.902222</td>\n",
       "      <td>-0.398889</td>\n",
       "      <td>-0.802222</td>\n",
       "      <td>-0.783333</td>\n",
       "      <td>-0.103333</td>\n",
       "      <td>0.051111</td>\n",
       "      <td>0.376667</td>\n",
       "      <td>-0.475556</td>\n",
       "    </tr>\n",
       "  </tbody>\n",
       "</table>\n",
       "</div>"
      ],
      "text/plain": [
       "   helix.bend.pref  side.chain.size  extended.str.pref  hydrophobicity  \\\n",
       "0        -1.560000        -1.670000          -0.970000       -0.270000   \n",
       "1        -1.373333        -1.583333          -0.812222       -0.356667   \n",
       "2        -1.322222        -1.508889          -1.037778       -0.150000   \n",
       "3        -1.547778        -1.463333          -1.041111       -0.110000   \n",
       "4        -1.410000        -1.375556          -0.902222       -0.398889   \n",
       "\n",
       "   double.bend.pref  partial.spec.vol  flat.ext.pref  occurrence.alpha.reg  \\\n",
       "0         -0.930000         -0.780000      -0.200000             -0.080000   \n",
       "1         -0.905556         -0.425556      -0.008889             -0.147778   \n",
       "2         -0.928889         -0.676667      -0.346667             -0.018889   \n",
       "3         -0.972222         -0.648889      -0.173333             -0.028889   \n",
       "4         -0.802222         -0.783333      -0.103333              0.051111   \n",
       "\n",
       "       pK.C  surrounding.hydrop  \n",
       "0  0.210000           -0.480000  \n",
       "1  0.312222           -0.304444  \n",
       "2  0.271111           -0.348889  \n",
       "3  0.147778           -0.440000  \n",
       "4  0.376667           -0.475556  "
      ]
     },
     "execution_count": 79,
     "metadata": {},
     "output_type": "execute_result"
    }
   ],
   "source": [
    "res.head()"
   ]
  },
  {
   "cell_type": "code",
   "execution_count": 82,
   "metadata": {
    "collapsed": false
   },
   "outputs": [
    {
     "data": {
      "text/html": [
       "<div>\n",
       "<style scoped>\n",
       "    .dataframe tbody tr th:only-of-type {\n",
       "        vertical-align: middle;\n",
       "    }\n",
       "\n",
       "    .dataframe tbody tr th {\n",
       "        vertical-align: top;\n",
       "    }\n",
       "\n",
       "    .dataframe thead th {\n",
       "        text-align: right;\n",
       "    }\n",
       "</style>\n",
       "<table border=\"1\" class=\"dataframe\">\n",
       "  <thead>\n",
       "    <tr style=\"text-align: right;\">\n",
       "      <th></th>\n",
       "      <th>helix.bend.pref</th>\n",
       "      <th>side.chain.size</th>\n",
       "      <th>extended.str.pref</th>\n",
       "      <th>hydrophobicity</th>\n",
       "      <th>double.bend.pref</th>\n",
       "      <th>partial.spec.vol</th>\n",
       "      <th>flat.ext.pref</th>\n",
       "      <th>occurrence.alpha.reg</th>\n",
       "      <th>pK.C</th>\n",
       "      <th>surrounding.hydrop</th>\n",
       "    </tr>\n",
       "  </thead>\n",
       "  <tbody>\n",
       "    <tr>\n",
       "      <th>0</th>\n",
       "      <td>-1.560000</td>\n",
       "      <td>-1.670000</td>\n",
       "      <td>-0.970000</td>\n",
       "      <td>-0.270000</td>\n",
       "      <td>-0.930000</td>\n",
       "      <td>-0.780000</td>\n",
       "      <td>-0.200000</td>\n",
       "      <td>-0.080000</td>\n",
       "      <td>0.210000</td>\n",
       "      <td>-0.480000</td>\n",
       "    </tr>\n",
       "    <tr>\n",
       "      <th>1</th>\n",
       "      <td>-1.373333</td>\n",
       "      <td>-1.583333</td>\n",
       "      <td>-0.812222</td>\n",
       "      <td>-0.356667</td>\n",
       "      <td>-0.905556</td>\n",
       "      <td>-0.425556</td>\n",
       "      <td>-0.008889</td>\n",
       "      <td>-0.147778</td>\n",
       "      <td>0.312222</td>\n",
       "      <td>-0.304444</td>\n",
       "    </tr>\n",
       "    <tr>\n",
       "      <th>2</th>\n",
       "      <td>-1.322222</td>\n",
       "      <td>-1.508889</td>\n",
       "      <td>-1.037778</td>\n",
       "      <td>-0.150000</td>\n",
       "      <td>-0.928889</td>\n",
       "      <td>-0.676667</td>\n",
       "      <td>-0.346667</td>\n",
       "      <td>-0.018889</td>\n",
       "      <td>0.271111</td>\n",
       "      <td>-0.348889</td>\n",
       "    </tr>\n",
       "    <tr>\n",
       "      <th>3</th>\n",
       "      <td>-1.547778</td>\n",
       "      <td>-1.463333</td>\n",
       "      <td>-1.041111</td>\n",
       "      <td>-0.110000</td>\n",
       "      <td>-0.972222</td>\n",
       "      <td>-0.648889</td>\n",
       "      <td>-0.173333</td>\n",
       "      <td>-0.028889</td>\n",
       "      <td>0.147778</td>\n",
       "      <td>-0.440000</td>\n",
       "    </tr>\n",
       "    <tr>\n",
       "      <th>4</th>\n",
       "      <td>-1.410000</td>\n",
       "      <td>-1.375556</td>\n",
       "      <td>-0.902222</td>\n",
       "      <td>-0.398889</td>\n",
       "      <td>-0.802222</td>\n",
       "      <td>-0.783333</td>\n",
       "      <td>-0.103333</td>\n",
       "      <td>0.051111</td>\n",
       "      <td>0.376667</td>\n",
       "      <td>-0.475556</td>\n",
       "    </tr>\n",
       "  </tbody>\n",
       "</table>\n",
       "</div>"
      ],
      "text/plain": [
       "   helix.bend.pref  side.chain.size  extended.str.pref  hydrophobicity  \\\n",
       "0        -1.560000        -1.670000          -0.970000       -0.270000   \n",
       "1        -1.373333        -1.583333          -0.812222       -0.356667   \n",
       "2        -1.322222        -1.508889          -1.037778       -0.150000   \n",
       "3        -1.547778        -1.463333          -1.041111       -0.110000   \n",
       "4        -1.410000        -1.375556          -0.902222       -0.398889   \n",
       "\n",
       "   double.bend.pref  partial.spec.vol  flat.ext.pref  occurrence.alpha.reg  \\\n",
       "0         -0.930000         -0.780000      -0.200000             -0.080000   \n",
       "1         -0.905556         -0.425556      -0.008889             -0.147778   \n",
       "2         -0.928889         -0.676667      -0.346667             -0.018889   \n",
       "3         -0.972222         -0.648889      -0.173333             -0.028889   \n",
       "4         -0.802222         -0.783333      -0.103333              0.051111   \n",
       "\n",
       "       pK.C  surrounding.hydrop  \n",
       "0  0.210000           -0.480000  \n",
       "1  0.312222           -0.304444  \n",
       "2  0.271111           -0.348889  \n",
       "3  0.147778           -0.440000  \n",
       "4  0.376667           -0.475556  "
      ]
     },
     "execution_count": 82,
     "metadata": {},
     "output_type": "execute_result"
    }
   ],
   "source": [
    "result = pd.read_csv('output/kidera/hpeptides_9mers_kidera.csv')\n",
    "result.head()"
   ]
  },
  {
   "cell_type": "code",
   "execution_count": 88,
   "metadata": {
    "collapsed": true
   },
   "outputs": [],
   "source": [
    "df = pd.read_csv('output/k-mers/human_peptides_9mers.txt', header=None)\n",
    "df.columns = ['Peptide']"
   ]
  },
  {
   "cell_type": "code",
   "execution_count": 89,
   "metadata": {
    "collapsed": false
   },
   "outputs": [
    {
     "data": {
      "text/html": [
       "<div>\n",
       "<style scoped>\n",
       "    .dataframe tbody tr th:only-of-type {\n",
       "        vertical-align: middle;\n",
       "    }\n",
       "\n",
       "    .dataframe tbody tr th {\n",
       "        vertical-align: top;\n",
       "    }\n",
       "\n",
       "    .dataframe thead th {\n",
       "        text-align: right;\n",
       "    }\n",
       "</style>\n",
       "<table border=\"1\" class=\"dataframe\">\n",
       "  <thead>\n",
       "    <tr style=\"text-align: right;\">\n",
       "      <th></th>\n",
       "      <th>Peptide</th>\n",
       "      <th>helix.bend.pref</th>\n",
       "      <th>side.chain.size</th>\n",
       "      <th>extended.str.pref</th>\n",
       "      <th>hydrophobicity</th>\n",
       "      <th>double.bend.pref</th>\n",
       "      <th>partial.spec.vol</th>\n",
       "      <th>flat.ext.pref</th>\n",
       "      <th>occurrence.alpha.reg</th>\n",
       "      <th>pK.C</th>\n",
       "      <th>surrounding.hydrop</th>\n",
       "    </tr>\n",
       "  </thead>\n",
       "  <tbody>\n",
       "    <tr>\n",
       "      <th>0</th>\n",
       "      <td>AAAAAAAAA</td>\n",
       "      <td>-1.560000</td>\n",
       "      <td>-1.670000</td>\n",
       "      <td>-0.970000</td>\n",
       "      <td>-0.270000</td>\n",
       "      <td>-0.930000</td>\n",
       "      <td>-0.780000</td>\n",
       "      <td>-0.200000</td>\n",
       "      <td>-0.080000</td>\n",
       "      <td>0.210000</td>\n",
       "      <td>-0.480000</td>\n",
       "    </tr>\n",
       "    <tr>\n",
       "      <th>1</th>\n",
       "      <td>AAAAAAAAC</td>\n",
       "      <td>-1.373333</td>\n",
       "      <td>-1.583333</td>\n",
       "      <td>-0.812222</td>\n",
       "      <td>-0.356667</td>\n",
       "      <td>-0.905556</td>\n",
       "      <td>-0.425556</td>\n",
       "      <td>-0.008889</td>\n",
       "      <td>-0.147778</td>\n",
       "      <td>0.312222</td>\n",
       "      <td>-0.304444</td>\n",
       "    </tr>\n",
       "    <tr>\n",
       "      <th>2</th>\n",
       "      <td>AAAAAAAAD</td>\n",
       "      <td>-1.322222</td>\n",
       "      <td>-1.508889</td>\n",
       "      <td>-1.037778</td>\n",
       "      <td>-0.150000</td>\n",
       "      <td>-0.928889</td>\n",
       "      <td>-0.676667</td>\n",
       "      <td>-0.346667</td>\n",
       "      <td>-0.018889</td>\n",
       "      <td>0.271111</td>\n",
       "      <td>-0.348889</td>\n",
       "    </tr>\n",
       "    <tr>\n",
       "      <th>3</th>\n",
       "      <td>AAAAAAAAE</td>\n",
       "      <td>-1.547778</td>\n",
       "      <td>-1.463333</td>\n",
       "      <td>-1.041111</td>\n",
       "      <td>-0.110000</td>\n",
       "      <td>-0.972222</td>\n",
       "      <td>-0.648889</td>\n",
       "      <td>-0.173333</td>\n",
       "      <td>-0.028889</td>\n",
       "      <td>0.147778</td>\n",
       "      <td>-0.440000</td>\n",
       "    </tr>\n",
       "    <tr>\n",
       "      <th>4</th>\n",
       "      <td>AAAAAAAAF</td>\n",
       "      <td>-1.410000</td>\n",
       "      <td>-1.375556</td>\n",
       "      <td>-0.902222</td>\n",
       "      <td>-0.398889</td>\n",
       "      <td>-0.802222</td>\n",
       "      <td>-0.783333</td>\n",
       "      <td>-0.103333</td>\n",
       "      <td>0.051111</td>\n",
       "      <td>0.376667</td>\n",
       "      <td>-0.475556</td>\n",
       "    </tr>\n",
       "  </tbody>\n",
       "</table>\n",
       "</div>"
      ],
      "text/plain": [
       "     Peptide  helix.bend.pref  side.chain.size  extended.str.pref  \\\n",
       "0  AAAAAAAAA        -1.560000        -1.670000          -0.970000   \n",
       "1  AAAAAAAAC        -1.373333        -1.583333          -0.812222   \n",
       "2  AAAAAAAAD        -1.322222        -1.508889          -1.037778   \n",
       "3  AAAAAAAAE        -1.547778        -1.463333          -1.041111   \n",
       "4  AAAAAAAAF        -1.410000        -1.375556          -0.902222   \n",
       "\n",
       "   hydrophobicity  double.bend.pref  partial.spec.vol  flat.ext.pref  \\\n",
       "0       -0.270000         -0.930000         -0.780000      -0.200000   \n",
       "1       -0.356667         -0.905556         -0.425556      -0.008889   \n",
       "2       -0.150000         -0.928889         -0.676667      -0.346667   \n",
       "3       -0.110000         -0.972222         -0.648889      -0.173333   \n",
       "4       -0.398889         -0.802222         -0.783333      -0.103333   \n",
       "\n",
       "   occurrence.alpha.reg      pK.C  surrounding.hydrop  \n",
       "0             -0.080000  0.210000           -0.480000  \n",
       "1             -0.147778  0.312222           -0.304444  \n",
       "2             -0.018889  0.271111           -0.348889  \n",
       "3             -0.028889  0.147778           -0.440000  \n",
       "4              0.051111  0.376667           -0.475556  "
      ]
     },
     "execution_count": 89,
     "metadata": {},
     "output_type": "execute_result"
    }
   ],
   "source": [
    "df = pd.concat([df, result], axis=1)\n",
    "df.head()"
   ]
  },
  {
   "cell_type": "code",
   "execution_count": 4,
   "metadata": {
    "collapsed": false
   },
   "outputs": [
    {
     "name": "stderr",
     "output_type": "stream",
     "text": [
      "Widget Javascript not detected.  It may not be installed properly. Did you enable the widgetsnbextension? If not, then run \"jupyter nbextension enable --py --sys-prefix widgetsnbextension\"\n"
     ]
    }
   ],
   "source": [
    "ddf = dd.read_csv('output/kidera/hpeptides_9mers_kidera.csv')\n",
    "ddf = ddf.repartition(npartitions=100)\n",
    "ddf = client.persist(ddf)\n",
    "progress(ddf)"
   ]
  },
  {
   "cell_type": "code",
   "execution_count": 11,
   "metadata": {
    "collapsed": false
   },
   "outputs": [
    {
     "data": {
      "text/html": [
       "<div>\n",
       "<style scoped>\n",
       "    .dataframe tbody tr th:only-of-type {\n",
       "        vertical-align: middle;\n",
       "    }\n",
       "\n",
       "    .dataframe tbody tr th {\n",
       "        vertical-align: top;\n",
       "    }\n",
       "\n",
       "    .dataframe thead th {\n",
       "        text-align: right;\n",
       "    }\n",
       "</style>\n",
       "<table border=\"1\" class=\"dataframe\">\n",
       "  <thead>\n",
       "    <tr style=\"text-align: right;\">\n",
       "      <th></th>\n",
       "      <th>Peptide</th>\n",
       "      <th>helix.bend.pref</th>\n",
       "      <th>side.chain.size</th>\n",
       "      <th>extended.str.pref</th>\n",
       "      <th>hydrophobicity</th>\n",
       "      <th>double.bend.pref</th>\n",
       "      <th>partial.spec.vol</th>\n",
       "      <th>flat.ext.pref</th>\n",
       "      <th>occurrence.alpha.reg</th>\n",
       "      <th>pK.C</th>\n",
       "      <th>surrounding.hydrop</th>\n",
       "    </tr>\n",
       "  </thead>\n",
       "  <tbody>\n",
       "    <tr>\n",
       "      <th>0</th>\n",
       "      <td>AAAAAAAAA</td>\n",
       "      <td>-1.560000</td>\n",
       "      <td>-1.670000</td>\n",
       "      <td>-0.970000</td>\n",
       "      <td>-0.270000</td>\n",
       "      <td>-0.930000</td>\n",
       "      <td>-0.780000</td>\n",
       "      <td>-0.200000</td>\n",
       "      <td>-0.080000</td>\n",
       "      <td>0.210000</td>\n",
       "      <td>-0.480000</td>\n",
       "    </tr>\n",
       "    <tr>\n",
       "      <th>1</th>\n",
       "      <td>AAAAAAAAC</td>\n",
       "      <td>-1.373333</td>\n",
       "      <td>-1.583333</td>\n",
       "      <td>-0.812222</td>\n",
       "      <td>-0.356667</td>\n",
       "      <td>-0.905556</td>\n",
       "      <td>-0.425556</td>\n",
       "      <td>-0.008889</td>\n",
       "      <td>-0.147778</td>\n",
       "      <td>0.312222</td>\n",
       "      <td>-0.304444</td>\n",
       "    </tr>\n",
       "    <tr>\n",
       "      <th>2</th>\n",
       "      <td>AAAAAAAAD</td>\n",
       "      <td>-1.322222</td>\n",
       "      <td>-1.508889</td>\n",
       "      <td>-1.037778</td>\n",
       "      <td>-0.150000</td>\n",
       "      <td>-0.928889</td>\n",
       "      <td>-0.676667</td>\n",
       "      <td>-0.346667</td>\n",
       "      <td>-0.018889</td>\n",
       "      <td>0.271111</td>\n",
       "      <td>-0.348889</td>\n",
       "    </tr>\n",
       "    <tr>\n",
       "      <th>3</th>\n",
       "      <td>AAAAAAAAE</td>\n",
       "      <td>-1.547778</td>\n",
       "      <td>-1.463333</td>\n",
       "      <td>-1.041111</td>\n",
       "      <td>-0.110000</td>\n",
       "      <td>-0.972222</td>\n",
       "      <td>-0.648889</td>\n",
       "      <td>-0.173333</td>\n",
       "      <td>-0.028889</td>\n",
       "      <td>0.147778</td>\n",
       "      <td>-0.440000</td>\n",
       "    </tr>\n",
       "    <tr>\n",
       "      <th>4</th>\n",
       "      <td>AAAAAAAAF</td>\n",
       "      <td>-1.410000</td>\n",
       "      <td>-1.375556</td>\n",
       "      <td>-0.902222</td>\n",
       "      <td>-0.398889</td>\n",
       "      <td>-0.802222</td>\n",
       "      <td>-0.783333</td>\n",
       "      <td>-0.103333</td>\n",
       "      <td>0.051111</td>\n",
       "      <td>0.376667</td>\n",
       "      <td>-0.475556</td>\n",
       "    </tr>\n",
       "  </tbody>\n",
       "</table>\n",
       "</div>"
      ],
      "text/plain": [
       "     Peptide  helix.bend.pref  side.chain.size  extended.str.pref  \\\n",
       "0  AAAAAAAAA        -1.560000        -1.670000          -0.970000   \n",
       "1  AAAAAAAAC        -1.373333        -1.583333          -0.812222   \n",
       "2  AAAAAAAAD        -1.322222        -1.508889          -1.037778   \n",
       "3  AAAAAAAAE        -1.547778        -1.463333          -1.041111   \n",
       "4  AAAAAAAAF        -1.410000        -1.375556          -0.902222   \n",
       "\n",
       "   hydrophobicity  double.bend.pref  partial.spec.vol  flat.ext.pref  \\\n",
       "0       -0.270000         -0.930000         -0.780000      -0.200000   \n",
       "1       -0.356667         -0.905556         -0.425556      -0.008889   \n",
       "2       -0.150000         -0.928889         -0.676667      -0.346667   \n",
       "3       -0.110000         -0.972222         -0.648889      -0.173333   \n",
       "4       -0.398889         -0.802222         -0.783333      -0.103333   \n",
       "\n",
       "   occurrence.alpha.reg      pK.C  surrounding.hydrop  \n",
       "0             -0.080000  0.210000           -0.480000  \n",
       "1             -0.147778  0.312222           -0.304444  \n",
       "2             -0.018889  0.271111           -0.348889  \n",
       "3             -0.028889  0.147778           -0.440000  \n",
       "4              0.051111  0.376667           -0.475556  "
      ]
     },
     "execution_count": 11,
     "metadata": {},
     "output_type": "execute_result"
    }
   ],
   "source": [
    "pdf = pd.read_csv('output/kidera/hpeptides_9mers_kidera.csv')\n",
    "pdf.head()"
   ]
  },
  {
   "cell_type": "code",
   "execution_count": null,
   "metadata": {
    "collapsed": false
   },
   "outputs": [
    {
     "data": {
      "text/html": [
       "<div>\n",
       "<style scoped>\n",
       "    .dataframe tbody tr th:only-of-type {\n",
       "        vertical-align: middle;\n",
       "    }\n",
       "\n",
       "    .dataframe tbody tr th {\n",
       "        vertical-align: top;\n",
       "    }\n",
       "\n",
       "    .dataframe thead th {\n",
       "        text-align: right;\n",
       "    }\n",
       "</style>\n",
       "<table border=\"1\" class=\"dataframe\">\n",
       "  <thead>\n",
       "    <tr style=\"text-align: right;\">\n",
       "      <th></th>\n",
       "      <th>helix.bend.pref</th>\n",
       "      <th>side.chain.size</th>\n",
       "      <th>extended.str.pref</th>\n",
       "      <th>hydrophobicity</th>\n",
       "      <th>double.bend.pref</th>\n",
       "      <th>partial.spec.vol</th>\n",
       "      <th>flat.ext.pref</th>\n",
       "      <th>occurrence.alpha.reg</th>\n",
       "      <th>pK.C</th>\n",
       "      <th>surrounding.hydrop</th>\n",
       "    </tr>\n",
       "  </thead>\n",
       "  <tbody>\n",
       "    <tr>\n",
       "      <th>count</th>\n",
       "      <td>1.037935e+07</td>\n",
       "      <td>1.037935e+07</td>\n",
       "      <td>1.037935e+07</td>\n",
       "      <td>1.037935e+07</td>\n",
       "      <td>1.037935e+07</td>\n",
       "      <td>1.037935e+07</td>\n",
       "      <td>1.037935e+07</td>\n",
       "      <td>1.037935e+07</td>\n",
       "      <td>1.037935e+07</td>\n",
       "      <td>1.037935e+07</td>\n",
       "    </tr>\n",
       "    <tr>\n",
       "      <th>mean</th>\n",
       "      <td>-4.935839e-02</td>\n",
       "      <td>-2.163736e-01</td>\n",
       "      <td>-3.445414e-02</td>\n",
       "      <td>1.129689e-01</td>\n",
       "      <td>-1.011847e-01</td>\n",
       "      <td>-2.874578e-01</td>\n",
       "      <td>2.783660e-02</td>\n",
       "      <td>-1.101329e-01</td>\n",
       "      <td>-1.376097e-02</td>\n",
       "      <td>2.526550e-02</td>\n",
       "    </tr>\n",
       "    <tr>\n",
       "      <th>std</th>\n",
       "      <td>4.021847e-01</td>\n",
       "      <td>3.518546e-01</td>\n",
       "      <td>3.675174e-01</td>\n",
       "      <td>3.555814e-01</td>\n",
       "      <td>3.266863e-01</td>\n",
       "      <td>3.265830e-01</td>\n",
       "      <td>3.630587e-01</td>\n",
       "      <td>3.891402e-01</td>\n",
       "      <td>2.983429e-01</td>\n",
       "      <td>3.232411e-01</td>\n",
       "    </tr>\n",
       "    <tr>\n",
       "      <th>min</th>\n",
       "      <td>-1.560000e+00</td>\n",
       "      <td>-1.960000e+00</td>\n",
       "      <td>-1.610000e+00</td>\n",
       "      <td>-1.351111e+00</td>\n",
       "      <td>-1.700000e+00</td>\n",
       "      <td>-2.050000e+00</td>\n",
       "      <td>-1.890000e+00</td>\n",
       "      <td>-2.300000e+00</td>\n",
       "      <td>-1.731111e+00</td>\n",
       "      <td>-2.330000e+00</td>\n",
       "    </tr>\n",
       "    <tr>\n",
       "      <th>25%</th>\n",
       "      <td>-3.277778e-01</td>\n",
       "      <td>-4.477778e-01</td>\n",
       "      <td>-2.833333e-01</td>\n",
       "      <td>-1.255556e-01</td>\n",
       "      <td>-3.211111e-01</td>\n",
       "      <td>-5.033333e-01</td>\n",
       "      <td>-2.100000e-01</td>\n",
       "      <td>-3.555556e-01</td>\n",
       "      <td>-2.088889e-01</td>\n",
       "      <td>-1.800000e-01</td>\n",
       "    </tr>\n",
       "    <tr>\n",
       "      <th>50%</th>\n",
       "      <td>-6.222222e-02</td>\n",
       "      <td>-2.077778e-01</td>\n",
       "      <td>-3.777778e-02</td>\n",
       "      <td>1.066667e-01</td>\n",
       "      <td>-1.055556e-01</td>\n",
       "      <td>-2.888889e-01</td>\n",
       "      <td>4.222222e-02</td>\n",
       "      <td>-1.044444e-01</td>\n",
       "      <td>-7.777778e-03</td>\n",
       "      <td>4.444444e-02</td>\n",
       "    </tr>\n",
       "    <tr>\n",
       "      <th>75%</th>\n",
       "      <td>2.133333e-01</td>\n",
       "      <td>2.444444e-02</td>\n",
       "      <td>2.122222e-01</td>\n",
       "      <td>3.444444e-01</td>\n",
       "      <td>1.144444e-01</td>\n",
       "      <td>-7.333333e-02</td>\n",
       "      <td>2.822222e-01</td>\n",
       "      <td>1.433333e-01</td>\n",
       "      <td>1.888889e-01</td>\n",
       "      <td>2.522222e-01</td>\n",
       "    </tr>\n",
       "    <tr>\n",
       "      <th>max</th>\n",
       "      <td>2.060000e+00</td>\n",
       "      <td>1.404444e+00</td>\n",
       "      <td>1.910000e+00</td>\n",
       "      <td>1.870000e+00</td>\n",
       "      <td>1.897778e+00</td>\n",
       "      <td>2.052222e+00</td>\n",
       "      <td>1.435556e+00</td>\n",
       "      <td>2.360000e+00</td>\n",
       "      <td>1.356667e+00</td>\n",
       "      <td>1.630000e+00</td>\n",
       "    </tr>\n",
       "  </tbody>\n",
       "</table>\n",
       "</div>"
      ],
      "text/plain": [
       "       helix.bend.pref  side.chain.size  extended.str.pref  hydrophobicity  \\\n",
       "count     1.037935e+07     1.037935e+07       1.037935e+07    1.037935e+07   \n",
       "mean     -4.935839e-02    -2.163736e-01      -3.445414e-02    1.129689e-01   \n",
       "std       4.021847e-01     3.518546e-01       3.675174e-01    3.555814e-01   \n",
       "min      -1.560000e+00    -1.960000e+00      -1.610000e+00   -1.351111e+00   \n",
       "25%      -3.277778e-01    -4.477778e-01      -2.833333e-01   -1.255556e-01   \n",
       "50%      -6.222222e-02    -2.077778e-01      -3.777778e-02    1.066667e-01   \n",
       "75%       2.133333e-01     2.444444e-02       2.122222e-01    3.444444e-01   \n",
       "max       2.060000e+00     1.404444e+00       1.910000e+00    1.870000e+00   \n",
       "\n",
       "       double.bend.pref  partial.spec.vol  flat.ext.pref  \\\n",
       "count      1.037935e+07      1.037935e+07   1.037935e+07   \n",
       "mean      -1.011847e-01     -2.874578e-01   2.783660e-02   \n",
       "std        3.266863e-01      3.265830e-01   3.630587e-01   \n",
       "min       -1.700000e+00     -2.050000e+00  -1.890000e+00   \n",
       "25%       -3.211111e-01     -5.033333e-01  -2.100000e-01   \n",
       "50%       -1.055556e-01     -2.888889e-01   4.222222e-02   \n",
       "75%        1.144444e-01     -7.333333e-02   2.822222e-01   \n",
       "max        1.897778e+00      2.052222e+00   1.435556e+00   \n",
       "\n",
       "       occurrence.alpha.reg          pK.C  surrounding.hydrop  \n",
       "count          1.037935e+07  1.037935e+07        1.037935e+07  \n",
       "mean          -1.101329e-01 -1.376097e-02        2.526550e-02  \n",
       "std            3.891402e-01  2.983429e-01        3.232411e-01  \n",
       "min           -2.300000e+00 -1.731111e+00       -2.330000e+00  \n",
       "25%           -3.555556e-01 -2.088889e-01       -1.800000e-01  \n",
       "50%           -1.044444e-01 -7.777778e-03        4.444444e-02  \n",
       "75%            1.433333e-01  1.888889e-01        2.522222e-01  \n",
       "max            2.360000e+00  1.356667e+00        1.630000e+00  "
      ]
     },
     "execution_count": 12,
     "metadata": {},
     "output_type": "execute_result"
    }
   ],
   "source": [
    "pdf.describe()"
   ]
  },
  {
   "cell_type": "code",
   "execution_count": null,
   "metadata": {
    "collapsed": true
   },
   "outputs": [],
   "source": [
    "shapiro(pdf)"
   ]
  },
  {
   "cell_type": "code",
   "execution_count": 2,
   "metadata": {
    "collapsed": false
   },
   "outputs": [],
   "source": [
    "import findspark\n",
    "findspark.init(spark_home=\"/home/vcvetkov/Tools/spark-2.2.1-bin-hadoop2.7/\")\n",
    "\n",
    "import pyspark\n",
    "import random"
   ]
  },
  {
   "cell_type": "code",
   "execution_count": 15,
   "metadata": {
    "collapsed": false
   },
   "outputs": [
    {
     "name": "stdout",
     "output_type": "stream",
     "text": [
      "3.1398848\n"
     ]
    }
   ],
   "source": [
    "sc = pyspark.SparkContext(appName=\"Pi\")\n",
    "num_samples = 100000000\n",
    "\n",
    "def inside(p):     \n",
    "  x, y = random.random(), random.random()\n",
    "  return x*x + y*y < 1\n",
    "\n",
    "count = sc.parallelize(range(0, num_samples)).filter(inside).count()\n",
    "\n",
    "pi = 4 * count / num_samples\n",
    "print(pi)\n",
    "\n",
    "sc.stop()"
   ]
  },
  {
   "cell_type": "code",
   "execution_count": null,
   "metadata": {
    "collapsed": false
   },
   "outputs": [],
   "source": [
    "sc = pyspark.SparkContext()"
   ]
  },
  {
   "cell_type": "code",
   "execution_count": 7,
   "metadata": {
    "collapsed": false
   },
   "outputs": [
    {
     "ename": "TypeError",
     "evalue": "'DataFrameReader' object is not callable",
     "output_type": "error",
     "traceback": [
      "\u001b[0;31m---------------------------------------------------------------------------\u001b[0m",
      "\u001b[0;31mTypeError\u001b[0m                                 Traceback (most recent call last)",
      "\u001b[0;32m<ipython-input-7-c78b0084dea9>\u001b[0m in \u001b[0;36m<module>\u001b[0;34m()\u001b[0m\n\u001b[1;32m      2\u001b[0m sdf = sqlContext.read(source=\"com.databricks.spark.csv\",\n\u001b[1;32m      3\u001b[0m                       \u001b[0mpath\u001b[0m \u001b[0;34m=\u001b[0m \u001b[0;34m'output/kidera/hpeptides_9mers_kidera.csv'\u001b[0m\u001b[0;34m,\u001b[0m\u001b[0;34m\u001b[0m\u001b[0m\n\u001b[0;32m----> 4\u001b[0;31m                       header = True,inferSchema = True)\n\u001b[0m",
      "\u001b[0;31mTypeError\u001b[0m: 'DataFrameReader' object is not callable"
     ]
    }
   ],
   "source": [
    "sqlContext = pyspark.SQLContext(sc)\n",
    "sdf = sqlContext.read(source=\"com.databricks.spark.csv\",\n",
    "                      path = 'output/kidera/hpeptides_9mers_kidera.csv',\n",
    "                      header = True,inferSchema = True)"
   ]
  },
  {
   "cell_type": "code",
   "execution_count": null,
   "metadata": {
    "collapsed": true
   },
   "outputs": [],
   "source": []
  }
 ],
 "metadata": {
  "anaconda-cloud": {},
  "kernelspec": {
   "display_name": "Python [conda env:anaconda3]",
   "language": "python",
   "name": "conda-env-anaconda3-py"
  },
  "language_info": {
   "codemirror_mode": {
    "name": "ipython",
    "version": 3
   },
   "file_extension": ".py",
   "mimetype": "text/x-python",
   "name": "python",
   "nbconvert_exporter": "python",
   "pygments_lexer": "ipython3",
   "version": "3.5.4"
  }
 },
 "nbformat": 4,
 "nbformat_minor": 1
}
