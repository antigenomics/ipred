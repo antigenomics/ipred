{
 "cells": [
  {
   "cell_type": "code",
   "execution_count": 1,
   "metadata": {
    "collapsed": false
   },
   "outputs": [],
   "source": [
    "%matplotlib inline\n",
    "\n",
    "#system and time\n",
    "import os\n",
    "import sys\n",
    "import multiprocessing as mp\n",
    "from tqdm import tqdm, tqdm_notebook, tqdm_pandas, trange\n",
    "import time\n",
    "\n",
    "#data manipulation\n",
    "import pandas as pd\n",
    "import numpy as np\n",
    "import networkx as nx\n",
    "import seaborn as sns\n",
    "import matplotlib.pyplot as plt\n",
    "\n",
    "#statistics\n",
    "import itertools\n",
    "from scipy import stats\n",
    "from scipy.stats import shapiro\n",
    "\n",
    "#local modules\n",
    "from modules.kidera import alprop_sequence\n",
    "\n",
    "#jupyter settings\n",
    "import warnings\n",
    "warnings.filterwarnings('ignore')"
   ]
  },
  {
   "cell_type": "code",
   "execution_count": 2,
   "metadata": {
    "collapsed": false
   },
   "outputs": [],
   "source": [
    "directory = 'bash_code/'\n",
    "ls = [i.replace('_8', '_08').replace('_9', '_09') for i in os.listdir(directory) if 'txt' in i]\n",
    "ls = np.sort(ls)\n",
    "ls = ls[ls != 'all_arguments.txt']"
   ]
  },
  {
   "cell_type": "code",
   "execution_count": 3,
   "metadata": {
    "collapsed": false
   },
   "outputs": [],
   "source": [
    "def unite_df(lst):\n",
    "    df = pd.DataFrame()\n",
    "\n",
    "    for filename in tqdm(lst):\n",
    "        filename = filename.replace('_08', '_8').replace('_09', '_9')\n",
    "        df1 = pd.read_csv(directory + \"/\" + filename)\n",
    "        if len(df1.columns) != 4:\n",
    "            print(len(df1.columns))\n",
    "            print(filename)\n",
    "            print(df1.head())\n",
    "            break\n",
    "        df = pd.concat([df, df1], ignore_index=True)\n",
    "\n",
    "    return df"
   ]
  },
  {
   "cell_type": "code",
   "execution_count": 4,
   "metadata": {
    "collapsed": false
   },
   "outputs": [
    {
     "name": "stderr",
     "output_type": "stream",
     "text": [
      "100%|██████████| 60/60 [00:43<00:00,  1.33s/it]\n"
     ]
    }
   ],
   "source": [
    "df = unite_df(ls)"
   ]
  },
  {
   "cell_type": "code",
   "execution_count": 5,
   "metadata": {
    "collapsed": false
   },
   "outputs": [
    {
     "data": {
      "text/html": [
       "<div>\n",
       "<style scoped>\n",
       "    .dataframe tbody tr th:only-of-type {\n",
       "        vertical-align: middle;\n",
       "    }\n",
       "\n",
       "    .dataframe tbody tr th {\n",
       "        vertical-align: top;\n",
       "    }\n",
       "\n",
       "    .dataframe thead th {\n",
       "        text-align: right;\n",
       "    }\n",
       "</style>\n",
       "<table border=\"1\" class=\"dataframe\">\n",
       "  <thead>\n",
       "    <tr style=\"text-align: right;\">\n",
       "      <th></th>\n",
       "      <th>HLA</th>\n",
       "      <th>Peptide</th>\n",
       "      <th>Aff(nM)</th>\n",
       "      <th>Origin_protein</th>\n",
       "    </tr>\n",
       "  </thead>\n",
       "  <tbody>\n",
       "    <tr>\n",
       "      <th>0</th>\n",
       "      <td>HLA-A*01:01</td>\n",
       "      <td>KLPYSITV</td>\n",
       "      <td>38855.4</td>\n",
       "      <td>UL107_HCMVA</td>\n",
       "    </tr>\n",
       "    <tr>\n",
       "      <th>1</th>\n",
       "      <td>HLA-A*01:01</td>\n",
       "      <td>LPYSITVT</td>\n",
       "      <td>41355.8</td>\n",
       "      <td>UL107_HCMVA</td>\n",
       "    </tr>\n",
       "    <tr>\n",
       "      <th>2</th>\n",
       "      <td>HLA-A*01:01</td>\n",
       "      <td>PYSITVTY</td>\n",
       "      <td>34020.0</td>\n",
       "      <td>UL107_HCMVA</td>\n",
       "    </tr>\n",
       "    <tr>\n",
       "      <th>3</th>\n",
       "      <td>HLA-A*01:01</td>\n",
       "      <td>YSITVTYD</td>\n",
       "      <td>29186.2</td>\n",
       "      <td>UL107_HCMVA</td>\n",
       "    </tr>\n",
       "    <tr>\n",
       "      <th>4</th>\n",
       "      <td>HLA-A*01:01</td>\n",
       "      <td>SITVTYDH</td>\n",
       "      <td>39723.4</td>\n",
       "      <td>UL107_HCMVA</td>\n",
       "    </tr>\n",
       "  </tbody>\n",
       "</table>\n",
       "</div>"
      ],
      "text/plain": [
       "           HLA   Peptide  Aff(nM) Origin_protein\n",
       "0  HLA-A*01:01  KLPYSITV  38855.4    UL107_HCMVA\n",
       "1  HLA-A*01:01  LPYSITVT  41355.8    UL107_HCMVA\n",
       "2  HLA-A*01:01  PYSITVTY  34020.0    UL107_HCMVA\n",
       "3  HLA-A*01:01  YSITVTYD  29186.2    UL107_HCMVA\n",
       "4  HLA-A*01:01  SITVTYDH  39723.4    UL107_HCMVA"
      ]
     },
     "execution_count": 5,
     "metadata": {},
     "output_type": "execute_result"
    }
   ],
   "source": [
    "df.head()"
   ]
  },
  {
   "cell_type": "code",
   "execution_count": 6,
   "metadata": {
    "collapsed": true
   },
   "outputs": [],
   "source": [
    "df.to_csv(\"output/iedb_data/predicted_new_alleles.csv\", index=False)"
   ]
  },
  {
   "cell_type": "code",
   "execution_count": 6,
   "metadata": {
    "collapsed": false
   },
   "outputs": [
    {
     "data": {
      "text/plain": [
       "(3802620, 4)"
      ]
     },
     "execution_count": 6,
     "metadata": {},
     "output_type": "execute_result"
    }
   ],
   "source": [
    "df.shape"
   ]
  },
  {
   "cell_type": "code",
   "execution_count": 7,
   "metadata": {
    "collapsed": false
   },
   "outputs": [
    {
     "name": "stdout",
     "output_type": "stream",
     "text": [
      "The number of epitopes taken for prediction 380262\n",
      "HLA                  bind count   bind fraction\n",
      "HLA-A*01:01                1027          0.0027\n",
      "HLA-A*02:01                9660          0.0254\n",
      "HLA-A*24:02                2483         0.00653\n",
      "HLA-A*31:01               11734          0.0309\n",
      "HLA-B*07:02                3991          0.0105\n",
      "HLA-B*08:01                3093         0.00813\n",
      "HLA-B*35:01                2849         0.00749\n",
      "HLA-B*35:02                 454         0.00119\n",
      "HLA-B*55:01                 747         0.00196\n",
      "HLA-C*06:02                 761           0.002\n"
     ]
    }
   ],
   "source": [
    "hlalst = df.HLA.unique()\n",
    "print(\"The number of epitopes taken for prediction {}\".format(int(df.shape[0]/10)))\n",
    "print(\"{:<15} {:>15} {:>15}\".format(\"HLA\", \"bind count\", \"bind fraction\"))\n",
    "for hla in hlalst:\n",
    "    tdf = df[df['HLA'] == hla]\n",
    "    print(\"{:<15} {:>15} {:>15.03}\".format(hla, len(tdf[tdf['Aff(nM)']<=500]), len(tdf[tdf['Aff(nM)']<=500])/380262))"
   ]
  },
  {
   "cell_type": "code",
   "execution_count": null,
   "metadata": {
    "collapsed": false
   },
   "outputs": [],
   "source": [
    "def plot_hla(hla, ax):\n",
    "    sns.distplot(df[df['HLA']==hla]['Aff(nM)'], ax=ax)\n",
    "    ax.set_xlabel(\"\")\n",
    "    ax.set_title(hla)\n",
    "\n",
    "fig, axs = plt.subplots(5, 2)\n",
    "fig.set_size_inches(7, 12.5)\n",
    "n = 0\n",
    "for ax1, ax2 in axs:\n",
    "    plot_hla(hlalst[n], ax1)\n",
    "    n+=1\n",
    "    plot_hla(hlalst[n], ax2)\n",
    "    n+=1\n",
    "plt.show()"
   ]
  },
  {
   "cell_type": "code",
   "execution_count": null,
   "metadata": {
    "collapsed": true
   },
   "outputs": [],
   "source": []
  },
  {
   "cell_type": "code",
   "execution_count": null,
   "metadata": {
    "collapsed": true
   },
   "outputs": [],
   "source": []
  },
  {
   "cell_type": "code",
   "execution_count": null,
   "metadata": {
    "collapsed": true
   },
   "outputs": [],
   "source": []
  },
  {
   "cell_type": "code",
   "execution_count": null,
   "metadata": {
    "collapsed": true
   },
   "outputs": [],
   "source": []
  }
 ],
 "metadata": {
  "anaconda-cloud": {},
  "kernelspec": {
   "display_name": "Python [default]",
   "language": "python",
   "name": "python3"
  },
  "language_info": {
   "codemirror_mode": {
    "name": "ipython",
    "version": 3
   },
   "file_extension": ".py",
   "mimetype": "text/x-python",
   "name": "python",
   "nbconvert_exporter": "python",
   "pygments_lexer": "ipython3",
   "version": "3.5.4"
  }
 },
 "nbformat": 4,
 "nbformat_minor": 2
}
