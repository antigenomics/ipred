{
 "cells": [
  {
   "cell_type": "code",
   "execution_count": 3,
   "metadata": {
    "collapsed": true
   },
   "outputs": [],
   "source": [
    "%matplotlib inline\n",
    "\n",
    "import os\n",
    "from tqdm import tqdm, tqdm_notebook\n",
    "from tqdm import trange\n",
    "from scipy import stats\n",
    "from scipy.stats import shapiro\n",
    "\n",
    "import pandas as pd\n",
    "import numpy as np\n",
    "import networkx as nx\n",
    "import seaborn as sns\n",
    "import matplotlib.pyplot as plt\n",
    "\n",
    "import itertools\n",
    "from modules.kidera import score_positions, score_sequence\n",
    "\n",
    "import warnings\n",
    "warnings.filterwarnings('ignore')"
   ]
  },
  {
   "cell_type": "code",
   "execution_count": null,
   "metadata": {
    "collapsed": true
   },
   "outputs": [],
   "source": [
    "import dask\n",
    "import dask.dataframe as dd\n",
    "from dask.distributed import Client, progress\n",
    "import time\n",
    "client = Client()\n",
    "client"
   ]
  },
  {
   "cell_type": "code",
   "execution_count": 3,
   "metadata": {
    "collapsed": true
   },
   "outputs": [],
   "source": [
    "df = dd.read_csv('output/k-mers/human_peptides_9mers.txt', header=None)"
   ]
  },
  {
   "cell_type": "code",
   "execution_count": 12,
   "metadata": {
    "collapsed": false
   },
   "outputs": [
    {
     "data": {
      "text/plain": [
       "10379346"
      ]
     },
     "execution_count": 12,
     "metadata": {},
     "output_type": "execute_result"
    }
   ],
   "source": [
    "len(df)"
   ]
  },
  {
   "cell_type": "code",
   "execution_count": 15,
   "metadata": {
    "collapsed": false
   },
   "outputs": [
    {
     "data": {
      "text/html": [
       "<div>\n",
       "<style scoped>\n",
       "    .dataframe tbody tr th:only-of-type {\n",
       "        vertical-align: middle;\n",
       "    }\n",
       "\n",
       "    .dataframe tbody tr th {\n",
       "        vertical-align: top;\n",
       "    }\n",
       "\n",
       "    .dataframe thead th {\n",
       "        text-align: right;\n",
       "    }\n",
       "</style>\n",
       "<table border=\"1\" class=\"dataframe\">\n",
       "  <thead>\n",
       "    <tr style=\"text-align: right;\">\n",
       "      <th></th>\n",
       "      <th>Peptide</th>\n",
       "    </tr>\n",
       "  </thead>\n",
       "  <tbody>\n",
       "    <tr>\n",
       "      <th>0</th>\n",
       "      <td>AAAAAAAAA</td>\n",
       "    </tr>\n",
       "    <tr>\n",
       "      <th>1</th>\n",
       "      <td>AAAAAAAAC</td>\n",
       "    </tr>\n",
       "    <tr>\n",
       "      <th>2</th>\n",
       "      <td>AAAAAAAAD</td>\n",
       "    </tr>\n",
       "    <tr>\n",
       "      <th>3</th>\n",
       "      <td>AAAAAAAAE</td>\n",
       "    </tr>\n",
       "    <tr>\n",
       "      <th>4</th>\n",
       "      <td>AAAAAAAAF</td>\n",
       "    </tr>\n",
       "  </tbody>\n",
       "</table>\n",
       "</div>"
      ],
      "text/plain": [
       "     Peptide\n",
       "0  AAAAAAAAA\n",
       "1  AAAAAAAAC\n",
       "2  AAAAAAAAD\n",
       "3  AAAAAAAAE\n",
       "4  AAAAAAAAF"
      ]
     },
     "execution_count": 15,
     "metadata": {},
     "output_type": "execute_result"
    }
   ],
   "source": [
    "df.columns = ['Peptide']\n",
    "df.head()"
   ]
  },
  {
   "cell_type": "code",
   "execution_count": 66,
   "metadata": {
    "collapsed": true
   },
   "outputs": [],
   "source": [
    "cols = [\"helix.bend.pref\", \"side.chain.size\",\\\n",
    "        \"extended.str.pref\", \"hydrophobicity\", \"double.bend.pref\", \"partial.spec.vol\",\\\n",
    "        \"flat.ext.pref\", \"occurrence.alpha.reg\", \"pK.C\", \"surrounding.hydrop\"]"
   ]
  },
  {
   "cell_type": "code",
   "execution_count": 65,
   "metadata": {
    "collapsed": false
   },
   "outputs": [],
   "source": [
    "df = df.repartition(npartitions=160)"
   ]
  },
  {
   "cell_type": "code",
   "execution_count": 75,
   "metadata": {
    "collapsed": false
   },
   "outputs": [],
   "source": [
    "df1 = df.Peptide.apply(lambda s: score_sequence(s), \\\n",
    "                     meta=pd.DataFrame(np.random.rand(len(df), len(cols)), columns=cols, dtype=float))\n",
    "distributed = client.compute(df1)\n",
    "progress(distributed)"
   ]
  },
  {
   "cell_type": "code",
   "execution_count": 76,
   "metadata": {
    "collapsed": true
   },
   "outputs": [],
   "source": [
    "res = distributed.result()"
   ]
  },
  {
   "cell_type": "code",
   "execution_count": null,
   "metadata": {
    "collapsed": false
   },
   "outputs": [],
   "source": [
    "res.to_csv('output/kidera/hpeptides_9mers_kidera.csv', index=False)"
   ]
  },
  {
   "cell_type": "code",
   "execution_count": 79,
   "metadata": {
    "collapsed": false
   },
   "outputs": [
    {
     "data": {
      "text/html": [
       "<div>\n",
       "<style scoped>\n",
       "    .dataframe tbody tr th:only-of-type {\n",
       "        vertical-align: middle;\n",
       "    }\n",
       "\n",
       "    .dataframe tbody tr th {\n",
       "        vertical-align: top;\n",
       "    }\n",
       "\n",
       "    .dataframe thead th {\n",
       "        text-align: right;\n",
       "    }\n",
       "</style>\n",
       "<table border=\"1\" class=\"dataframe\">\n",
       "  <thead>\n",
       "    <tr style=\"text-align: right;\">\n",
       "      <th></th>\n",
       "      <th>helix.bend.pref</th>\n",
       "      <th>side.chain.size</th>\n",
       "      <th>extended.str.pref</th>\n",
       "      <th>hydrophobicity</th>\n",
       "      <th>double.bend.pref</th>\n",
       "      <th>partial.spec.vol</th>\n",
       "      <th>flat.ext.pref</th>\n",
       "      <th>occurrence.alpha.reg</th>\n",
       "      <th>pK.C</th>\n",
       "      <th>surrounding.hydrop</th>\n",
       "    </tr>\n",
       "  </thead>\n",
       "  <tbody>\n",
       "    <tr>\n",
       "      <th>0</th>\n",
       "      <td>-1.560000</td>\n",
       "      <td>-1.670000</td>\n",
       "      <td>-0.970000</td>\n",
       "      <td>-0.270000</td>\n",
       "      <td>-0.930000</td>\n",
       "      <td>-0.780000</td>\n",
       "      <td>-0.200000</td>\n",
       "      <td>-0.080000</td>\n",
       "      <td>0.210000</td>\n",
       "      <td>-0.480000</td>\n",
       "    </tr>\n",
       "    <tr>\n",
       "      <th>1</th>\n",
       "      <td>-1.373333</td>\n",
       "      <td>-1.583333</td>\n",
       "      <td>-0.812222</td>\n",
       "      <td>-0.356667</td>\n",
       "      <td>-0.905556</td>\n",
       "      <td>-0.425556</td>\n",
       "      <td>-0.008889</td>\n",
       "      <td>-0.147778</td>\n",
       "      <td>0.312222</td>\n",
       "      <td>-0.304444</td>\n",
       "    </tr>\n",
       "    <tr>\n",
       "      <th>2</th>\n",
       "      <td>-1.322222</td>\n",
       "      <td>-1.508889</td>\n",
       "      <td>-1.037778</td>\n",
       "      <td>-0.150000</td>\n",
       "      <td>-0.928889</td>\n",
       "      <td>-0.676667</td>\n",
       "      <td>-0.346667</td>\n",
       "      <td>-0.018889</td>\n",
       "      <td>0.271111</td>\n",
       "      <td>-0.348889</td>\n",
       "    </tr>\n",
       "    <tr>\n",
       "      <th>3</th>\n",
       "      <td>-1.547778</td>\n",
       "      <td>-1.463333</td>\n",
       "      <td>-1.041111</td>\n",
       "      <td>-0.110000</td>\n",
       "      <td>-0.972222</td>\n",
       "      <td>-0.648889</td>\n",
       "      <td>-0.173333</td>\n",
       "      <td>-0.028889</td>\n",
       "      <td>0.147778</td>\n",
       "      <td>-0.440000</td>\n",
       "    </tr>\n",
       "    <tr>\n",
       "      <th>4</th>\n",
       "      <td>-1.410000</td>\n",
       "      <td>-1.375556</td>\n",
       "      <td>-0.902222</td>\n",
       "      <td>-0.398889</td>\n",
       "      <td>-0.802222</td>\n",
       "      <td>-0.783333</td>\n",
       "      <td>-0.103333</td>\n",
       "      <td>0.051111</td>\n",
       "      <td>0.376667</td>\n",
       "      <td>-0.475556</td>\n",
       "    </tr>\n",
       "  </tbody>\n",
       "</table>\n",
       "</div>"
      ],
      "text/plain": [
       "   helix.bend.pref  side.chain.size  extended.str.pref  hydrophobicity  \\\n",
       "0        -1.560000        -1.670000          -0.970000       -0.270000   \n",
       "1        -1.373333        -1.583333          -0.812222       -0.356667   \n",
       "2        -1.322222        -1.508889          -1.037778       -0.150000   \n",
       "3        -1.547778        -1.463333          -1.041111       -0.110000   \n",
       "4        -1.410000        -1.375556          -0.902222       -0.398889   \n",
       "\n",
       "   double.bend.pref  partial.spec.vol  flat.ext.pref  occurrence.alpha.reg  \\\n",
       "0         -0.930000         -0.780000      -0.200000             -0.080000   \n",
       "1         -0.905556         -0.425556      -0.008889             -0.147778   \n",
       "2         -0.928889         -0.676667      -0.346667             -0.018889   \n",
       "3         -0.972222         -0.648889      -0.173333             -0.028889   \n",
       "4         -0.802222         -0.783333      -0.103333              0.051111   \n",
       "\n",
       "       pK.C  surrounding.hydrop  \n",
       "0  0.210000           -0.480000  \n",
       "1  0.312222           -0.304444  \n",
       "2  0.271111           -0.348889  \n",
       "3  0.147778           -0.440000  \n",
       "4  0.376667           -0.475556  "
      ]
     },
     "execution_count": 79,
     "metadata": {},
     "output_type": "execute_result"
    }
   ],
   "source": [
    "res.head()"
   ]
  },
  {
   "cell_type": "code",
   "execution_count": 82,
   "metadata": {
    "collapsed": false
   },
   "outputs": [
    {
     "data": {
      "text/html": [
       "<div>\n",
       "<style scoped>\n",
       "    .dataframe tbody tr th:only-of-type {\n",
       "        vertical-align: middle;\n",
       "    }\n",
       "\n",
       "    .dataframe tbody tr th {\n",
       "        vertical-align: top;\n",
       "    }\n",
       "\n",
       "    .dataframe thead th {\n",
       "        text-align: right;\n",
       "    }\n",
       "</style>\n",
       "<table border=\"1\" class=\"dataframe\">\n",
       "  <thead>\n",
       "    <tr style=\"text-align: right;\">\n",
       "      <th></th>\n",
       "      <th>helix.bend.pref</th>\n",
       "      <th>side.chain.size</th>\n",
       "      <th>extended.str.pref</th>\n",
       "      <th>hydrophobicity</th>\n",
       "      <th>double.bend.pref</th>\n",
       "      <th>partial.spec.vol</th>\n",
       "      <th>flat.ext.pref</th>\n",
       "      <th>occurrence.alpha.reg</th>\n",
       "      <th>pK.C</th>\n",
       "      <th>surrounding.hydrop</th>\n",
       "    </tr>\n",
       "  </thead>\n",
       "  <tbody>\n",
       "    <tr>\n",
       "      <th>0</th>\n",
       "      <td>-1.560000</td>\n",
       "      <td>-1.670000</td>\n",
       "      <td>-0.970000</td>\n",
       "      <td>-0.270000</td>\n",
       "      <td>-0.930000</td>\n",
       "      <td>-0.780000</td>\n",
       "      <td>-0.200000</td>\n",
       "      <td>-0.080000</td>\n",
       "      <td>0.210000</td>\n",
       "      <td>-0.480000</td>\n",
       "    </tr>\n",
       "    <tr>\n",
       "      <th>1</th>\n",
       "      <td>-1.373333</td>\n",
       "      <td>-1.583333</td>\n",
       "      <td>-0.812222</td>\n",
       "      <td>-0.356667</td>\n",
       "      <td>-0.905556</td>\n",
       "      <td>-0.425556</td>\n",
       "      <td>-0.008889</td>\n",
       "      <td>-0.147778</td>\n",
       "      <td>0.312222</td>\n",
       "      <td>-0.304444</td>\n",
       "    </tr>\n",
       "    <tr>\n",
       "      <th>2</th>\n",
       "      <td>-1.322222</td>\n",
       "      <td>-1.508889</td>\n",
       "      <td>-1.037778</td>\n",
       "      <td>-0.150000</td>\n",
       "      <td>-0.928889</td>\n",
       "      <td>-0.676667</td>\n",
       "      <td>-0.346667</td>\n",
       "      <td>-0.018889</td>\n",
       "      <td>0.271111</td>\n",
       "      <td>-0.348889</td>\n",
       "    </tr>\n",
       "    <tr>\n",
       "      <th>3</th>\n",
       "      <td>-1.547778</td>\n",
       "      <td>-1.463333</td>\n",
       "      <td>-1.041111</td>\n",
       "      <td>-0.110000</td>\n",
       "      <td>-0.972222</td>\n",
       "      <td>-0.648889</td>\n",
       "      <td>-0.173333</td>\n",
       "      <td>-0.028889</td>\n",
       "      <td>0.147778</td>\n",
       "      <td>-0.440000</td>\n",
       "    </tr>\n",
       "    <tr>\n",
       "      <th>4</th>\n",
       "      <td>-1.410000</td>\n",
       "      <td>-1.375556</td>\n",
       "      <td>-0.902222</td>\n",
       "      <td>-0.398889</td>\n",
       "      <td>-0.802222</td>\n",
       "      <td>-0.783333</td>\n",
       "      <td>-0.103333</td>\n",
       "      <td>0.051111</td>\n",
       "      <td>0.376667</td>\n",
       "      <td>-0.475556</td>\n",
       "    </tr>\n",
       "  </tbody>\n",
       "</table>\n",
       "</div>"
      ],
      "text/plain": [
       "   helix.bend.pref  side.chain.size  extended.str.pref  hydrophobicity  \\\n",
       "0        -1.560000        -1.670000          -0.970000       -0.270000   \n",
       "1        -1.373333        -1.583333          -0.812222       -0.356667   \n",
       "2        -1.322222        -1.508889          -1.037778       -0.150000   \n",
       "3        -1.547778        -1.463333          -1.041111       -0.110000   \n",
       "4        -1.410000        -1.375556          -0.902222       -0.398889   \n",
       "\n",
       "   double.bend.pref  partial.spec.vol  flat.ext.pref  occurrence.alpha.reg  \\\n",
       "0         -0.930000         -0.780000      -0.200000             -0.080000   \n",
       "1         -0.905556         -0.425556      -0.008889             -0.147778   \n",
       "2         -0.928889         -0.676667      -0.346667             -0.018889   \n",
       "3         -0.972222         -0.648889      -0.173333             -0.028889   \n",
       "4         -0.802222         -0.783333      -0.103333              0.051111   \n",
       "\n",
       "       pK.C  surrounding.hydrop  \n",
       "0  0.210000           -0.480000  \n",
       "1  0.312222           -0.304444  \n",
       "2  0.271111           -0.348889  \n",
       "3  0.147778           -0.440000  \n",
       "4  0.376667           -0.475556  "
      ]
     },
     "execution_count": 82,
     "metadata": {},
     "output_type": "execute_result"
    }
   ],
   "source": [
    "result = pd.read_csv('output/kidera/hpeptides_9mers_kidera.csv')\n",
    "result.head()"
   ]
  },
  {
   "cell_type": "code",
   "execution_count": 88,
   "metadata": {
    "collapsed": true
   },
   "outputs": [],
   "source": [
    "df = pd.read_csv('output/k-mers/human_peptides_9mers.txt', header=None)\n",
    "df.columns = ['Peptide']"
   ]
  },
  {
   "cell_type": "code",
   "execution_count": 89,
   "metadata": {
    "collapsed": false
   },
   "outputs": [
    {
     "data": {
      "text/html": [
       "<div>\n",
       "<style scoped>\n",
       "    .dataframe tbody tr th:only-of-type {\n",
       "        vertical-align: middle;\n",
       "    }\n",
       "\n",
       "    .dataframe tbody tr th {\n",
       "        vertical-align: top;\n",
       "    }\n",
       "\n",
       "    .dataframe thead th {\n",
       "        text-align: right;\n",
       "    }\n",
       "</style>\n",
       "<table border=\"1\" class=\"dataframe\">\n",
       "  <thead>\n",
       "    <tr style=\"text-align: right;\">\n",
       "      <th></th>\n",
       "      <th>Peptide</th>\n",
       "      <th>helix.bend.pref</th>\n",
       "      <th>side.chain.size</th>\n",
       "      <th>extended.str.pref</th>\n",
       "      <th>hydrophobicity</th>\n",
       "      <th>double.bend.pref</th>\n",
       "      <th>partial.spec.vol</th>\n",
       "      <th>flat.ext.pref</th>\n",
       "      <th>occurrence.alpha.reg</th>\n",
       "      <th>pK.C</th>\n",
       "      <th>surrounding.hydrop</th>\n",
       "    </tr>\n",
       "  </thead>\n",
       "  <tbody>\n",
       "    <tr>\n",
       "      <th>0</th>\n",
       "      <td>AAAAAAAAA</td>\n",
       "      <td>-1.560000</td>\n",
       "      <td>-1.670000</td>\n",
       "      <td>-0.970000</td>\n",
       "      <td>-0.270000</td>\n",
       "      <td>-0.930000</td>\n",
       "      <td>-0.780000</td>\n",
       "      <td>-0.200000</td>\n",
       "      <td>-0.080000</td>\n",
       "      <td>0.210000</td>\n",
       "      <td>-0.480000</td>\n",
       "    </tr>\n",
       "    <tr>\n",
       "      <th>1</th>\n",
       "      <td>AAAAAAAAC</td>\n",
       "      <td>-1.373333</td>\n",
       "      <td>-1.583333</td>\n",
       "      <td>-0.812222</td>\n",
       "      <td>-0.356667</td>\n",
       "      <td>-0.905556</td>\n",
       "      <td>-0.425556</td>\n",
       "      <td>-0.008889</td>\n",
       "      <td>-0.147778</td>\n",
       "      <td>0.312222</td>\n",
       "      <td>-0.304444</td>\n",
       "    </tr>\n",
       "    <tr>\n",
       "      <th>2</th>\n",
       "      <td>AAAAAAAAD</td>\n",
       "      <td>-1.322222</td>\n",
       "      <td>-1.508889</td>\n",
       "      <td>-1.037778</td>\n",
       "      <td>-0.150000</td>\n",
       "      <td>-0.928889</td>\n",
       "      <td>-0.676667</td>\n",
       "      <td>-0.346667</td>\n",
       "      <td>-0.018889</td>\n",
       "      <td>0.271111</td>\n",
       "      <td>-0.348889</td>\n",
       "    </tr>\n",
       "    <tr>\n",
       "      <th>3</th>\n",
       "      <td>AAAAAAAAE</td>\n",
       "      <td>-1.547778</td>\n",
       "      <td>-1.463333</td>\n",
       "      <td>-1.041111</td>\n",
       "      <td>-0.110000</td>\n",
       "      <td>-0.972222</td>\n",
       "      <td>-0.648889</td>\n",
       "      <td>-0.173333</td>\n",
       "      <td>-0.028889</td>\n",
       "      <td>0.147778</td>\n",
       "      <td>-0.440000</td>\n",
       "    </tr>\n",
       "    <tr>\n",
       "      <th>4</th>\n",
       "      <td>AAAAAAAAF</td>\n",
       "      <td>-1.410000</td>\n",
       "      <td>-1.375556</td>\n",
       "      <td>-0.902222</td>\n",
       "      <td>-0.398889</td>\n",
       "      <td>-0.802222</td>\n",
       "      <td>-0.783333</td>\n",
       "      <td>-0.103333</td>\n",
       "      <td>0.051111</td>\n",
       "      <td>0.376667</td>\n",
       "      <td>-0.475556</td>\n",
       "    </tr>\n",
       "  </tbody>\n",
       "</table>\n",
       "</div>"
      ],
      "text/plain": [
       "     Peptide  helix.bend.pref  side.chain.size  extended.str.pref  \\\n",
       "0  AAAAAAAAA        -1.560000        -1.670000          -0.970000   \n",
       "1  AAAAAAAAC        -1.373333        -1.583333          -0.812222   \n",
       "2  AAAAAAAAD        -1.322222        -1.508889          -1.037778   \n",
       "3  AAAAAAAAE        -1.547778        -1.463333          -1.041111   \n",
       "4  AAAAAAAAF        -1.410000        -1.375556          -0.902222   \n",
       "\n",
       "   hydrophobicity  double.bend.pref  partial.spec.vol  flat.ext.pref  \\\n",
       "0       -0.270000         -0.930000         -0.780000      -0.200000   \n",
       "1       -0.356667         -0.905556         -0.425556      -0.008889   \n",
       "2       -0.150000         -0.928889         -0.676667      -0.346667   \n",
       "3       -0.110000         -0.972222         -0.648889      -0.173333   \n",
       "4       -0.398889         -0.802222         -0.783333      -0.103333   \n",
       "\n",
       "   occurrence.alpha.reg      pK.C  surrounding.hydrop  \n",
       "0             -0.080000  0.210000           -0.480000  \n",
       "1             -0.147778  0.312222           -0.304444  \n",
       "2             -0.018889  0.271111           -0.348889  \n",
       "3             -0.028889  0.147778           -0.440000  \n",
       "4              0.051111  0.376667           -0.475556  "
      ]
     },
     "execution_count": 89,
     "metadata": {},
     "output_type": "execute_result"
    }
   ],
   "source": [
    "df = pd.concat([df, result], axis=1)\n",
    "df.head()"
   ]
  },
  {
   "cell_type": "code",
   "execution_count": null,
   "metadata": {
    "collapsed": false
   },
   "outputs": [],
   "source": [
    "client.restart()"
   ]
  },
  {
   "cell_type": "code",
   "execution_count": 4,
   "metadata": {
    "collapsed": false
   },
   "outputs": [
    {
     "name": "stderr",
     "output_type": "stream",
     "text": [
      "Widget Javascript not detected.  It may not be installed properly. Did you enable the widgetsnbextension? If not, then run \"jupyter nbextension enable --py --sys-prefix widgetsnbextension\"\n"
     ]
    }
   ],
   "source": [
    "ddf = dd.read_csv('output/kidera/hpeptides_9mers_kidera.csv')\n",
    "ddf = ddf.repartition(npartitions=100)\n",
    "ddf = client.persist(ddf)\n",
    "progress(ddf)"
   ]
  },
  {
   "cell_type": "code",
   "execution_count": 6,
   "metadata": {
    "collapsed": false
   },
   "outputs": [
    {
     "ename": "ImportError",
     "evalue": "No module named '_gdbm'",
     "output_type": "error",
     "traceback": [
      "\u001b[0;31m---------------------------------------------------------------------------\u001b[0m",
      "\u001b[0;31mImportError\u001b[0m                               Traceback (most recent call last)",
      "\u001b[0;32m/home/vcvetkov/anaconda3/lib/python3.5/site-packages/distributed/protocol/pickle.py\u001b[0m in \u001b[0;36mdumps\u001b[0;34m(x)\u001b[0m\n\u001b[1;32m     37\u001b[0m     \u001b[0;32mtry\u001b[0m\u001b[0;34m:\u001b[0m\u001b[0;34m\u001b[0m\u001b[0m\n\u001b[0;32m---> 38\u001b[0;31m         \u001b[0mresult\u001b[0m \u001b[0;34m=\u001b[0m \u001b[0mpickle\u001b[0m\u001b[0;34m.\u001b[0m\u001b[0mdumps\u001b[0m\u001b[0;34m(\u001b[0m\u001b[0mx\u001b[0m\u001b[0;34m,\u001b[0m \u001b[0mprotocol\u001b[0m\u001b[0;34m=\u001b[0m\u001b[0mpickle\u001b[0m\u001b[0;34m.\u001b[0m\u001b[0mHIGHEST_PROTOCOL\u001b[0m\u001b[0;34m)\u001b[0m\u001b[0;34m\u001b[0m\u001b[0m\n\u001b[0m\u001b[1;32m     39\u001b[0m         \u001b[0;32mif\u001b[0m \u001b[0mlen\u001b[0m\u001b[0;34m(\u001b[0m\u001b[0mresult\u001b[0m\u001b[0;34m)\u001b[0m \u001b[0;34m<\u001b[0m \u001b[0;36m1000\u001b[0m\u001b[0;34m:\u001b[0m\u001b[0;34m\u001b[0m\u001b[0m\n",
      "\u001b[0;32m/home/vcvetkov/anaconda3/lib/python3.5/site-packages/numpy/core/__init__.py\u001b[0m in \u001b[0;36m_ufunc_reduce\u001b[0;34m(func)\u001b[0m\n\u001b[1;32m     76\u001b[0m     \u001b[0mname\u001b[0m \u001b[0;34m=\u001b[0m \u001b[0mfunc\u001b[0m\u001b[0;34m.\u001b[0m\u001b[0m__name__\u001b[0m\u001b[0;34m\u001b[0m\u001b[0m\n\u001b[0;32m---> 77\u001b[0;31m     \u001b[0;32mreturn\u001b[0m \u001b[0m_ufunc_reconstruct\u001b[0m\u001b[0;34m,\u001b[0m \u001b[0;34m(\u001b[0m\u001b[0mwhichmodule\u001b[0m\u001b[0;34m(\u001b[0m\u001b[0mfunc\u001b[0m\u001b[0;34m,\u001b[0m \u001b[0mname\u001b[0m\u001b[0;34m)\u001b[0m\u001b[0;34m,\u001b[0m \u001b[0mname\u001b[0m\u001b[0;34m)\u001b[0m\u001b[0;34m\u001b[0m\u001b[0m\n\u001b[0m\u001b[1;32m     78\u001b[0m \u001b[0;34m\u001b[0m\u001b[0m\n",
      "\u001b[0;32m/home/vcvetkov/anaconda3/lib/python3.5/pickle.py\u001b[0m in \u001b[0;36mwhichmodule\u001b[0;34m(obj, name)\u001b[0m\n\u001b[1;32m    284\u001b[0m         \u001b[0;32mtry\u001b[0m\u001b[0;34m:\u001b[0m\u001b[0;34m\u001b[0m\u001b[0m\n\u001b[0;32m--> 285\u001b[0;31m             \u001b[0;32mif\u001b[0m \u001b[0m_getattribute\u001b[0m\u001b[0;34m(\u001b[0m\u001b[0mmodule\u001b[0m\u001b[0;34m,\u001b[0m \u001b[0mname\u001b[0m\u001b[0;34m)\u001b[0m\u001b[0;34m[\u001b[0m\u001b[0;36m0\u001b[0m\u001b[0;34m]\u001b[0m \u001b[0;32mis\u001b[0m \u001b[0mobj\u001b[0m\u001b[0;34m:\u001b[0m\u001b[0;34m\u001b[0m\u001b[0m\n\u001b[0m\u001b[1;32m    286\u001b[0m                 \u001b[0;32mreturn\u001b[0m \u001b[0mmodule_name\u001b[0m\u001b[0;34m\u001b[0m\u001b[0m\n",
      "\u001b[0;32m/home/vcvetkov/anaconda3/lib/python3.5/pickle.py\u001b[0m in \u001b[0;36m_getattribute\u001b[0;34m(obj, name)\u001b[0m\n\u001b[1;32m    267\u001b[0m             \u001b[0mparent\u001b[0m \u001b[0;34m=\u001b[0m \u001b[0mobj\u001b[0m\u001b[0;34m\u001b[0m\u001b[0m\n\u001b[0;32m--> 268\u001b[0;31m             \u001b[0mobj\u001b[0m \u001b[0;34m=\u001b[0m \u001b[0mgetattr\u001b[0m\u001b[0;34m(\u001b[0m\u001b[0mobj\u001b[0m\u001b[0;34m,\u001b[0m \u001b[0msubpath\u001b[0m\u001b[0;34m)\u001b[0m\u001b[0;34m\u001b[0m\u001b[0m\n\u001b[0m\u001b[1;32m    269\u001b[0m         \u001b[0;32mexcept\u001b[0m \u001b[0mAttributeError\u001b[0m\u001b[0;34m:\u001b[0m\u001b[0;34m\u001b[0m\u001b[0m\n",
      "\u001b[0;32m/home/vcvetkov/anaconda3/lib/python3.5/site-packages/seaborn/external/six.py\u001b[0m in \u001b[0;36m__getattr__\u001b[0;34m(self, attr)\u001b[0m\n\u001b[1;32m    115\u001b[0m             \u001b[0;32mraise\u001b[0m \u001b[0mAttributeError\u001b[0m\u001b[0;34m\u001b[0m\u001b[0m\n\u001b[0;32m--> 116\u001b[0;31m         \u001b[0m_module\u001b[0m \u001b[0;34m=\u001b[0m \u001b[0mself\u001b[0m\u001b[0;34m.\u001b[0m\u001b[0m_resolve\u001b[0m\u001b[0;34m(\u001b[0m\u001b[0;34m)\u001b[0m\u001b[0;34m\u001b[0m\u001b[0m\n\u001b[0m\u001b[1;32m    117\u001b[0m         \u001b[0mvalue\u001b[0m \u001b[0;34m=\u001b[0m \u001b[0mgetattr\u001b[0m\u001b[0;34m(\u001b[0m\u001b[0m_module\u001b[0m\u001b[0;34m,\u001b[0m \u001b[0mattr\u001b[0m\u001b[0;34m)\u001b[0m\u001b[0;34m\u001b[0m\u001b[0m\n",
      "\u001b[0;32m/home/vcvetkov/anaconda3/lib/python3.5/site-packages/seaborn/external/six.py\u001b[0m in \u001b[0;36m_resolve\u001b[0;34m(self)\u001b[0m\n\u001b[1;32m    104\u001b[0m     \u001b[0;32mdef\u001b[0m \u001b[0m_resolve\u001b[0m\u001b[0;34m(\u001b[0m\u001b[0mself\u001b[0m\u001b[0;34m)\u001b[0m\u001b[0;34m:\u001b[0m\u001b[0;34m\u001b[0m\u001b[0m\n\u001b[0;32m--> 105\u001b[0;31m         \u001b[0;32mreturn\u001b[0m \u001b[0m_import_module\u001b[0m\u001b[0;34m(\u001b[0m\u001b[0mself\u001b[0m\u001b[0;34m.\u001b[0m\u001b[0mmod\u001b[0m\u001b[0;34m)\u001b[0m\u001b[0;34m\u001b[0m\u001b[0m\n\u001b[0m\u001b[1;32m    106\u001b[0m \u001b[0;34m\u001b[0m\u001b[0m\n",
      "\u001b[0;32m/home/vcvetkov/anaconda3/lib/python3.5/site-packages/seaborn/external/six.py\u001b[0m in \u001b[0;36m_import_module\u001b[0;34m(name)\u001b[0m\n\u001b[1;32m     75\u001b[0m     \u001b[0;34m\"\"\"Import module, returning the module after the last dot.\"\"\"\u001b[0m\u001b[0;34m\u001b[0m\u001b[0m\n\u001b[0;32m---> 76\u001b[0;31m     \u001b[0m__import__\u001b[0m\u001b[0;34m(\u001b[0m\u001b[0mname\u001b[0m\u001b[0;34m)\u001b[0m\u001b[0;34m\u001b[0m\u001b[0m\n\u001b[0m\u001b[1;32m     77\u001b[0m     \u001b[0;32mreturn\u001b[0m \u001b[0msys\u001b[0m\u001b[0;34m.\u001b[0m\u001b[0mmodules\u001b[0m\u001b[0;34m[\u001b[0m\u001b[0mname\u001b[0m\u001b[0;34m]\u001b[0m\u001b[0;34m\u001b[0m\u001b[0m\n",
      "\u001b[0;32m/home/vcvetkov/anaconda3/lib/python3.5/dbm/gnu.py\u001b[0m in \u001b[0;36m<module>\u001b[0;34m()\u001b[0m\n\u001b[1;32m      2\u001b[0m \u001b[0;34m\u001b[0m\u001b[0m\n\u001b[0;32m----> 3\u001b[0;31m \u001b[0;32mfrom\u001b[0m \u001b[0m_gdbm\u001b[0m \u001b[0;32mimport\u001b[0m \u001b[0;34m*\u001b[0m\u001b[0;34m\u001b[0m\u001b[0m\n\u001b[0m",
      "\u001b[0;31mImportError\u001b[0m: No module named '_gdbm'",
      "\nDuring handling of the above exception, another exception occurred:\n",
      "\u001b[0;31mImportError\u001b[0m                               Traceback (most recent call last)",
      "\u001b[0;32m<ipython-input-6-e82a385718d0>\u001b[0m in \u001b[0;36m<module>\u001b[0;34m()\u001b[0m\n\u001b[0;32m----> 1\u001b[0;31m \u001b[0mddf\u001b[0m\u001b[0;34m.\u001b[0m\u001b[0mdescribe\u001b[0m\u001b[0;34m(\u001b[0m\u001b[0;34m)\u001b[0m\u001b[0;34m.\u001b[0m\u001b[0mcompute\u001b[0m\u001b[0;34m(\u001b[0m\u001b[0;34m)\u001b[0m\u001b[0;34m\u001b[0m\u001b[0m\n\u001b[0m",
      "\u001b[0;32m/home/vcvetkov/anaconda3/lib/python3.5/site-packages/dask/base.py\u001b[0m in \u001b[0;36mcompute\u001b[0;34m(self, **kwargs)\u001b[0m\n\u001b[1;32m    141\u001b[0m         \u001b[0mdask\u001b[0m\u001b[0;34m.\u001b[0m\u001b[0mbase\u001b[0m\u001b[0;34m.\u001b[0m\u001b[0mcompute\u001b[0m\u001b[0;34m\u001b[0m\u001b[0m\n\u001b[1;32m    142\u001b[0m         \"\"\"\n\u001b[0;32m--> 143\u001b[0;31m         \u001b[0;34m(\u001b[0m\u001b[0mresult\u001b[0m\u001b[0;34m,\u001b[0m\u001b[0;34m)\u001b[0m \u001b[0;34m=\u001b[0m \u001b[0mcompute\u001b[0m\u001b[0;34m(\u001b[0m\u001b[0mself\u001b[0m\u001b[0;34m,\u001b[0m \u001b[0mtraverse\u001b[0m\u001b[0;34m=\u001b[0m\u001b[0;32mFalse\u001b[0m\u001b[0;34m,\u001b[0m \u001b[0;34m**\u001b[0m\u001b[0mkwargs\u001b[0m\u001b[0;34m)\u001b[0m\u001b[0;34m\u001b[0m\u001b[0m\n\u001b[0m\u001b[1;32m    144\u001b[0m         \u001b[0;32mreturn\u001b[0m \u001b[0mresult\u001b[0m\u001b[0;34m\u001b[0m\u001b[0m\n\u001b[1;32m    145\u001b[0m \u001b[0;34m\u001b[0m\u001b[0m\n",
      "\u001b[0;32m/home/vcvetkov/anaconda3/lib/python3.5/site-packages/dask/base.py\u001b[0m in \u001b[0;36mcompute\u001b[0;34m(*args, **kwargs)\u001b[0m\n\u001b[1;32m    390\u001b[0m     postcomputes = [a.__dask_postcompute__() if is_dask_collection(a)\n\u001b[1;32m    391\u001b[0m                     else (None, a) for a in args]\n\u001b[0;32m--> 392\u001b[0;31m     \u001b[0mresults\u001b[0m \u001b[0;34m=\u001b[0m \u001b[0mget\u001b[0m\u001b[0;34m(\u001b[0m\u001b[0mdsk\u001b[0m\u001b[0;34m,\u001b[0m \u001b[0mkeys\u001b[0m\u001b[0;34m,\u001b[0m \u001b[0;34m**\u001b[0m\u001b[0mkwargs\u001b[0m\u001b[0;34m)\u001b[0m\u001b[0;34m\u001b[0m\u001b[0m\n\u001b[0m\u001b[1;32m    393\u001b[0m     \u001b[0mresults_iter\u001b[0m \u001b[0;34m=\u001b[0m \u001b[0miter\u001b[0m\u001b[0;34m(\u001b[0m\u001b[0mresults\u001b[0m\u001b[0;34m)\u001b[0m\u001b[0;34m\u001b[0m\u001b[0m\n\u001b[1;32m    394\u001b[0m     return tuple(a if f is None else f(next(results_iter), *a)\n",
      "\u001b[0;32m/home/vcvetkov/anaconda3/lib/python3.5/site-packages/distributed/client.py\u001b[0m in \u001b[0;36mget\u001b[0;34m(self, dsk, keys, restrictions, loose_restrictions, resources, sync, asynchronous, **kwargs)\u001b[0m\n\u001b[1;32m   2033\u001b[0m         futures = self._graph_to_futures(dsk, set(flatten([keys])),\n\u001b[1;32m   2034\u001b[0m                                          \u001b[0mrestrictions\u001b[0m\u001b[0;34m,\u001b[0m \u001b[0mloose_restrictions\u001b[0m\u001b[0;34m,\u001b[0m\u001b[0;34m\u001b[0m\u001b[0m\n\u001b[0;32m-> 2035\u001b[0;31m                                          resources=resources)\n\u001b[0m\u001b[1;32m   2036\u001b[0m         \u001b[0mpacked\u001b[0m \u001b[0;34m=\u001b[0m \u001b[0mpack_data\u001b[0m\u001b[0;34m(\u001b[0m\u001b[0mkeys\u001b[0m\u001b[0;34m,\u001b[0m \u001b[0mfutures\u001b[0m\u001b[0;34m)\u001b[0m\u001b[0;34m\u001b[0m\u001b[0m\n\u001b[1;32m   2037\u001b[0m         \u001b[0;32mif\u001b[0m \u001b[0msync\u001b[0m\u001b[0;34m:\u001b[0m\u001b[0;34m\u001b[0m\u001b[0m\n",
      "\u001b[0;32m/home/vcvetkov/anaconda3/lib/python3.5/site-packages/distributed/client.py\u001b[0m in \u001b[0;36m_graph_to_futures\u001b[0;34m(self, dsk, keys, restrictions, loose_restrictions, priority, user_priority, resources, retries)\u001b[0m\n\u001b[1;32m   1993\u001b[0m \u001b[0;34m\u001b[0m\u001b[0m\n\u001b[1;32m   1994\u001b[0m             self._send_to_scheduler({'op': 'update-graph',\n\u001b[0;32m-> 1995\u001b[0;31m                                      \u001b[0;34m'tasks'\u001b[0m\u001b[0;34m:\u001b[0m \u001b[0mvalmap\u001b[0m\u001b[0;34m(\u001b[0m\u001b[0mdumps_task\u001b[0m\u001b[0;34m,\u001b[0m \u001b[0mdsk3\u001b[0m\u001b[0;34m)\u001b[0m\u001b[0;34m,\u001b[0m\u001b[0;34m\u001b[0m\u001b[0m\n\u001b[0m\u001b[1;32m   1996\u001b[0m                                      \u001b[0;34m'dependencies'\u001b[0m\u001b[0;34m:\u001b[0m \u001b[0mvalmap\u001b[0m\u001b[0;34m(\u001b[0m\u001b[0mlist\u001b[0m\u001b[0;34m,\u001b[0m \u001b[0mdependencies\u001b[0m\u001b[0;34m)\u001b[0m\u001b[0;34m,\u001b[0m\u001b[0;34m\u001b[0m\u001b[0m\n\u001b[1;32m   1997\u001b[0m                                      \u001b[0;34m'keys'\u001b[0m\u001b[0;34m:\u001b[0m \u001b[0mlist\u001b[0m\u001b[0;34m(\u001b[0m\u001b[0mflatkeys\u001b[0m\u001b[0;34m)\u001b[0m\u001b[0;34m,\u001b[0m\u001b[0;34m\u001b[0m\u001b[0m\n",
      "\u001b[0;32m/home/vcvetkov/anaconda3/lib/python3.5/site-packages/cytoolz/dicttoolz.pyx\u001b[0m in \u001b[0;36mcytoolz.dicttoolz.valmap (cytoolz/dicttoolz.c:2996)\u001b[0;34m()\u001b[0m\n",
      "\u001b[0;32m/home/vcvetkov/anaconda3/lib/python3.5/site-packages/cytoolz/dicttoolz.pyx\u001b[0m in \u001b[0;36mcytoolz.dicttoolz.valmap (cytoolz/dicttoolz.c:2862)\u001b[0;34m()\u001b[0m\n",
      "\u001b[0;32m/home/vcvetkov/anaconda3/lib/python3.5/site-packages/distributed/worker.py\u001b[0m in \u001b[0;36mdumps_task\u001b[0;34m(task)\u001b[0m\n\u001b[1;32m    716\u001b[0m         \u001b[0;32melif\u001b[0m \u001b[0;32mnot\u001b[0m \u001b[0many\u001b[0m\u001b[0;34m(\u001b[0m\u001b[0mmap\u001b[0m\u001b[0;34m(\u001b[0m\u001b[0m_maybe_complex\u001b[0m\u001b[0;34m,\u001b[0m \u001b[0mtask\u001b[0m\u001b[0;34m[\u001b[0m\u001b[0;36m1\u001b[0m\u001b[0;34m:\u001b[0m\u001b[0;34m]\u001b[0m\u001b[0;34m)\u001b[0m\u001b[0;34m)\u001b[0m\u001b[0;34m:\u001b[0m\u001b[0;34m\u001b[0m\u001b[0m\n\u001b[1;32m    717\u001b[0m             return {'function': dumps_function(task[0]),\n\u001b[0;32m--> 718\u001b[0;31m                     'args': warn_dumps(task[1:])}\n\u001b[0m\u001b[1;32m    719\u001b[0m     \u001b[0;32mreturn\u001b[0m \u001b[0mto_serialize\u001b[0m\u001b[0;34m(\u001b[0m\u001b[0mtask\u001b[0m\u001b[0;34m)\u001b[0m\u001b[0;34m\u001b[0m\u001b[0m\n\u001b[1;32m    720\u001b[0m \u001b[0;34m\u001b[0m\u001b[0m\n",
      "\u001b[0;32m/home/vcvetkov/anaconda3/lib/python3.5/site-packages/distributed/worker.py\u001b[0m in \u001b[0;36mwarn_dumps\u001b[0;34m(obj, dumps, limit)\u001b[0m\n\u001b[1;32m    725\u001b[0m \u001b[0;32mdef\u001b[0m \u001b[0mwarn_dumps\u001b[0m\u001b[0;34m(\u001b[0m\u001b[0mobj\u001b[0m\u001b[0;34m,\u001b[0m \u001b[0mdumps\u001b[0m\u001b[0;34m=\u001b[0m\u001b[0mpickle\u001b[0m\u001b[0;34m.\u001b[0m\u001b[0mdumps\u001b[0m\u001b[0;34m,\u001b[0m \u001b[0mlimit\u001b[0m\u001b[0;34m=\u001b[0m\u001b[0;36m1e6\u001b[0m\u001b[0;34m)\u001b[0m\u001b[0;34m:\u001b[0m\u001b[0;34m\u001b[0m\u001b[0m\n\u001b[1;32m    726\u001b[0m     \u001b[0;34m\"\"\" Dump an object to bytes, warn if those bytes are large \"\"\"\u001b[0m\u001b[0;34m\u001b[0m\u001b[0m\n\u001b[0;32m--> 727\u001b[0;31m     \u001b[0mb\u001b[0m \u001b[0;34m=\u001b[0m \u001b[0mdumps\u001b[0m\u001b[0;34m(\u001b[0m\u001b[0mobj\u001b[0m\u001b[0;34m)\u001b[0m\u001b[0;34m\u001b[0m\u001b[0m\n\u001b[0m\u001b[1;32m    728\u001b[0m     \u001b[0;32mif\u001b[0m \u001b[0;32mnot\u001b[0m \u001b[0m_warn_dumps_warned\u001b[0m\u001b[0;34m[\u001b[0m\u001b[0;36m0\u001b[0m\u001b[0;34m]\u001b[0m \u001b[0;32mand\u001b[0m \u001b[0mlen\u001b[0m\u001b[0;34m(\u001b[0m\u001b[0mb\u001b[0m\u001b[0;34m)\u001b[0m \u001b[0;34m>\u001b[0m \u001b[0mlimit\u001b[0m\u001b[0;34m:\u001b[0m\u001b[0;34m\u001b[0m\u001b[0m\n\u001b[1;32m    729\u001b[0m         \u001b[0m_warn_dumps_warned\u001b[0m\u001b[0;34m[\u001b[0m\u001b[0;36m0\u001b[0m\u001b[0;34m]\u001b[0m \u001b[0;34m=\u001b[0m \u001b[0;32mTrue\u001b[0m\u001b[0;34m\u001b[0m\u001b[0m\n",
      "\u001b[0;32m/home/vcvetkov/anaconda3/lib/python3.5/site-packages/distributed/protocol/pickle.py\u001b[0m in \u001b[0;36mdumps\u001b[0;34m(x)\u001b[0m\n\u001b[1;32m     49\u001b[0m     \u001b[0;32mexcept\u001b[0m \u001b[0mException\u001b[0m\u001b[0;34m:\u001b[0m\u001b[0;34m\u001b[0m\u001b[0m\n\u001b[1;32m     50\u001b[0m         \u001b[0;32mtry\u001b[0m\u001b[0;34m:\u001b[0m\u001b[0;34m\u001b[0m\u001b[0m\n\u001b[0;32m---> 51\u001b[0;31m             \u001b[0;32mreturn\u001b[0m \u001b[0mcloudpickle\u001b[0m\u001b[0;34m.\u001b[0m\u001b[0mdumps\u001b[0m\u001b[0;34m(\u001b[0m\u001b[0mx\u001b[0m\u001b[0;34m,\u001b[0m \u001b[0mprotocol\u001b[0m\u001b[0;34m=\u001b[0m\u001b[0mpickle\u001b[0m\u001b[0;34m.\u001b[0m\u001b[0mHIGHEST_PROTOCOL\u001b[0m\u001b[0;34m)\u001b[0m\u001b[0;34m\u001b[0m\u001b[0m\n\u001b[0m\u001b[1;32m     52\u001b[0m         \u001b[0;32mexcept\u001b[0m \u001b[0mException\u001b[0m \u001b[0;32mas\u001b[0m \u001b[0me\u001b[0m\u001b[0;34m:\u001b[0m\u001b[0;34m\u001b[0m\u001b[0m\n\u001b[1;32m     53\u001b[0m             \u001b[0mlogger\u001b[0m\u001b[0;34m.\u001b[0m\u001b[0minfo\u001b[0m\u001b[0;34m(\u001b[0m\u001b[0;34m\"Failed to serialize %s. Exception: %s\"\u001b[0m\u001b[0;34m,\u001b[0m \u001b[0mx\u001b[0m\u001b[0;34m,\u001b[0m \u001b[0me\u001b[0m\u001b[0;34m)\u001b[0m\u001b[0;34m\u001b[0m\u001b[0m\n",
      "\u001b[0;32m/home/vcvetkov/anaconda3/lib/python3.5/site-packages/cloudpickle/cloudpickle.py\u001b[0m in \u001b[0;36mdumps\u001b[0;34m(obj, protocol)\u001b[0m\n\u001b[1;32m    879\u001b[0m     \u001b[0;32mtry\u001b[0m\u001b[0;34m:\u001b[0m\u001b[0;34m\u001b[0m\u001b[0m\n\u001b[1;32m    880\u001b[0m         \u001b[0mcp\u001b[0m \u001b[0;34m=\u001b[0m \u001b[0mCloudPickler\u001b[0m\u001b[0;34m(\u001b[0m\u001b[0mfile\u001b[0m\u001b[0;34m,\u001b[0m \u001b[0mprotocol\u001b[0m\u001b[0;34m=\u001b[0m\u001b[0mprotocol\u001b[0m\u001b[0;34m)\u001b[0m\u001b[0;34m\u001b[0m\u001b[0m\n\u001b[0;32m--> 881\u001b[0;31m         \u001b[0mcp\u001b[0m\u001b[0;34m.\u001b[0m\u001b[0mdump\u001b[0m\u001b[0;34m(\u001b[0m\u001b[0mobj\u001b[0m\u001b[0;34m)\u001b[0m\u001b[0;34m\u001b[0m\u001b[0m\n\u001b[0m\u001b[1;32m    882\u001b[0m         \u001b[0;32mreturn\u001b[0m \u001b[0mfile\u001b[0m\u001b[0;34m.\u001b[0m\u001b[0mgetvalue\u001b[0m\u001b[0;34m(\u001b[0m\u001b[0;34m)\u001b[0m\u001b[0;34m\u001b[0m\u001b[0m\n\u001b[1;32m    883\u001b[0m     \u001b[0;32mfinally\u001b[0m\u001b[0;34m:\u001b[0m\u001b[0;34m\u001b[0m\u001b[0m\n",
      "\u001b[0;32m/home/vcvetkov/anaconda3/lib/python3.5/site-packages/cloudpickle/cloudpickle.py\u001b[0m in \u001b[0;36mdump\u001b[0;34m(self, obj)\u001b[0m\n\u001b[1;32m    266\u001b[0m         \u001b[0mself\u001b[0m\u001b[0;34m.\u001b[0m\u001b[0minject_addons\u001b[0m\u001b[0;34m(\u001b[0m\u001b[0;34m)\u001b[0m\u001b[0;34m\u001b[0m\u001b[0m\n\u001b[1;32m    267\u001b[0m         \u001b[0;32mtry\u001b[0m\u001b[0;34m:\u001b[0m\u001b[0;34m\u001b[0m\u001b[0m\n\u001b[0;32m--> 268\u001b[0;31m             \u001b[0;32mreturn\u001b[0m \u001b[0mPickler\u001b[0m\u001b[0;34m.\u001b[0m\u001b[0mdump\u001b[0m\u001b[0;34m(\u001b[0m\u001b[0mself\u001b[0m\u001b[0;34m,\u001b[0m \u001b[0mobj\u001b[0m\u001b[0;34m)\u001b[0m\u001b[0;34m\u001b[0m\u001b[0m\n\u001b[0m\u001b[1;32m    269\u001b[0m         \u001b[0;32mexcept\u001b[0m \u001b[0mRuntimeError\u001b[0m \u001b[0;32mas\u001b[0m \u001b[0me\u001b[0m\u001b[0;34m:\u001b[0m\u001b[0;34m\u001b[0m\u001b[0m\n\u001b[1;32m    270\u001b[0m             \u001b[0;32mif\u001b[0m \u001b[0;34m'recursion'\u001b[0m \u001b[0;32min\u001b[0m \u001b[0me\u001b[0m\u001b[0;34m.\u001b[0m\u001b[0margs\u001b[0m\u001b[0;34m[\u001b[0m\u001b[0;36m0\u001b[0m\u001b[0;34m]\u001b[0m\u001b[0;34m:\u001b[0m\u001b[0;34m\u001b[0m\u001b[0m\n",
      "\u001b[0;32m/home/vcvetkov/anaconda3/lib/python3.5/pickle.py\u001b[0m in \u001b[0;36mdump\u001b[0;34m(self, obj)\u001b[0m\n\u001b[1;32m    406\u001b[0m         \u001b[0;32mif\u001b[0m \u001b[0mself\u001b[0m\u001b[0;34m.\u001b[0m\u001b[0mproto\u001b[0m \u001b[0;34m>=\u001b[0m \u001b[0;36m4\u001b[0m\u001b[0;34m:\u001b[0m\u001b[0;34m\u001b[0m\u001b[0m\n\u001b[1;32m    407\u001b[0m             \u001b[0mself\u001b[0m\u001b[0;34m.\u001b[0m\u001b[0mframer\u001b[0m\u001b[0;34m.\u001b[0m\u001b[0mstart_framing\u001b[0m\u001b[0;34m(\u001b[0m\u001b[0;34m)\u001b[0m\u001b[0;34m\u001b[0m\u001b[0m\n\u001b[0;32m--> 408\u001b[0;31m         \u001b[0mself\u001b[0m\u001b[0;34m.\u001b[0m\u001b[0msave\u001b[0m\u001b[0;34m(\u001b[0m\u001b[0mobj\u001b[0m\u001b[0;34m)\u001b[0m\u001b[0;34m\u001b[0m\u001b[0m\n\u001b[0m\u001b[1;32m    409\u001b[0m         \u001b[0mself\u001b[0m\u001b[0;34m.\u001b[0m\u001b[0mwrite\u001b[0m\u001b[0;34m(\u001b[0m\u001b[0mSTOP\u001b[0m\u001b[0;34m)\u001b[0m\u001b[0;34m\u001b[0m\u001b[0m\n\u001b[1;32m    410\u001b[0m         \u001b[0mself\u001b[0m\u001b[0;34m.\u001b[0m\u001b[0mframer\u001b[0m\u001b[0;34m.\u001b[0m\u001b[0mend_framing\u001b[0m\u001b[0;34m(\u001b[0m\u001b[0;34m)\u001b[0m\u001b[0;34m\u001b[0m\u001b[0m\n",
      "\u001b[0;32m/home/vcvetkov/anaconda3/lib/python3.5/pickle.py\u001b[0m in \u001b[0;36msave\u001b[0;34m(self, obj, save_persistent_id)\u001b[0m\n\u001b[1;32m    473\u001b[0m         \u001b[0mf\u001b[0m \u001b[0;34m=\u001b[0m \u001b[0mself\u001b[0m\u001b[0;34m.\u001b[0m\u001b[0mdispatch\u001b[0m\u001b[0;34m.\u001b[0m\u001b[0mget\u001b[0m\u001b[0;34m(\u001b[0m\u001b[0mt\u001b[0m\u001b[0;34m)\u001b[0m\u001b[0;34m\u001b[0m\u001b[0m\n\u001b[1;32m    474\u001b[0m         \u001b[0;32mif\u001b[0m \u001b[0mf\u001b[0m \u001b[0;32mis\u001b[0m \u001b[0;32mnot\u001b[0m \u001b[0;32mNone\u001b[0m\u001b[0;34m:\u001b[0m\u001b[0;34m\u001b[0m\u001b[0m\n\u001b[0;32m--> 475\u001b[0;31m             \u001b[0mf\u001b[0m\u001b[0;34m(\u001b[0m\u001b[0mself\u001b[0m\u001b[0;34m,\u001b[0m \u001b[0mobj\u001b[0m\u001b[0;34m)\u001b[0m \u001b[0;31m# Call unbound method with explicit self\u001b[0m\u001b[0;34m\u001b[0m\u001b[0m\n\u001b[0m\u001b[1;32m    476\u001b[0m             \u001b[0;32mreturn\u001b[0m\u001b[0;34m\u001b[0m\u001b[0m\n\u001b[1;32m    477\u001b[0m \u001b[0;34m\u001b[0m\u001b[0m\n",
      "\u001b[0;32m/home/vcvetkov/anaconda3/lib/python3.5/pickle.py\u001b[0m in \u001b[0;36msave_tuple\u001b[0;34m(self, obj)\u001b[0m\n\u001b[1;32m    738\u001b[0m \u001b[0;34m\u001b[0m\u001b[0m\n\u001b[1;32m    739\u001b[0m         \u001b[0;31m# proto 0 or proto 1 and tuple isn't empty, or proto > 1 and tuple\u001b[0m\u001b[0;34m\u001b[0m\u001b[0;34m\u001b[0m\u001b[0m\n\u001b[0;32m--> 740\u001b[0;31m         \u001b[0;31m# has more than 3 elements.\u001b[0m\u001b[0;34m\u001b[0m\u001b[0;34m\u001b[0m\u001b[0m\n\u001b[0m\u001b[1;32m    741\u001b[0m         \u001b[0mwrite\u001b[0m \u001b[0;34m=\u001b[0m \u001b[0mself\u001b[0m\u001b[0;34m.\u001b[0m\u001b[0mwrite\u001b[0m\u001b[0;34m\u001b[0m\u001b[0m\n\u001b[1;32m    742\u001b[0m         \u001b[0mwrite\u001b[0m\u001b[0;34m(\u001b[0m\u001b[0mMARK\u001b[0m\u001b[0;34m)\u001b[0m\u001b[0;34m\u001b[0m\u001b[0m\n",
      "\u001b[0;32m/home/vcvetkov/anaconda3/lib/python3.5/pickle.py\u001b[0m in \u001b[0;36msave\u001b[0;34m(self, obj, save_persistent_id)\u001b[0m\n\u001b[1;32m    479\u001b[0m         \u001b[0mreduce\u001b[0m \u001b[0;34m=\u001b[0m \u001b[0mgetattr\u001b[0m\u001b[0;34m(\u001b[0m\u001b[0mself\u001b[0m\u001b[0;34m,\u001b[0m \u001b[0;34m'dispatch_table'\u001b[0m\u001b[0;34m,\u001b[0m \u001b[0mdispatch_table\u001b[0m\u001b[0;34m)\u001b[0m\u001b[0;34m.\u001b[0m\u001b[0mget\u001b[0m\u001b[0;34m(\u001b[0m\u001b[0mt\u001b[0m\u001b[0;34m)\u001b[0m\u001b[0;34m\u001b[0m\u001b[0m\n\u001b[1;32m    480\u001b[0m         \u001b[0;32mif\u001b[0m \u001b[0mreduce\u001b[0m \u001b[0;32mis\u001b[0m \u001b[0;32mnot\u001b[0m \u001b[0;32mNone\u001b[0m\u001b[0;34m:\u001b[0m\u001b[0;34m\u001b[0m\u001b[0m\n\u001b[0;32m--> 481\u001b[0;31m             \u001b[0mrv\u001b[0m \u001b[0;34m=\u001b[0m \u001b[0mreduce\u001b[0m\u001b[0;34m(\u001b[0m\u001b[0mobj\u001b[0m\u001b[0;34m)\u001b[0m\u001b[0;34m\u001b[0m\u001b[0m\n\u001b[0m\u001b[1;32m    482\u001b[0m         \u001b[0;32melse\u001b[0m\u001b[0;34m:\u001b[0m\u001b[0;34m\u001b[0m\u001b[0m\n\u001b[1;32m    483\u001b[0m             \u001b[0;31m# Check for a class with a custom metaclass; treat as regular class\u001b[0m\u001b[0;34m\u001b[0m\u001b[0;34m\u001b[0m\u001b[0m\n",
      "\u001b[0;32m/home/vcvetkov/anaconda3/lib/python3.5/site-packages/numpy/core/__init__.py\u001b[0m in \u001b[0;36m_ufunc_reduce\u001b[0;34m(func)\u001b[0m\n\u001b[1;32m     75\u001b[0m     \u001b[0;32mfrom\u001b[0m \u001b[0mpickle\u001b[0m \u001b[0;32mimport\u001b[0m \u001b[0mwhichmodule\u001b[0m\u001b[0;34m\u001b[0m\u001b[0m\n\u001b[1;32m     76\u001b[0m     \u001b[0mname\u001b[0m \u001b[0;34m=\u001b[0m \u001b[0mfunc\u001b[0m\u001b[0;34m.\u001b[0m\u001b[0m__name__\u001b[0m\u001b[0;34m\u001b[0m\u001b[0m\n\u001b[0;32m---> 77\u001b[0;31m     \u001b[0;32mreturn\u001b[0m \u001b[0m_ufunc_reconstruct\u001b[0m\u001b[0;34m,\u001b[0m \u001b[0;34m(\u001b[0m\u001b[0mwhichmodule\u001b[0m\u001b[0;34m(\u001b[0m\u001b[0mfunc\u001b[0m\u001b[0;34m,\u001b[0m \u001b[0mname\u001b[0m\u001b[0;34m)\u001b[0m\u001b[0;34m,\u001b[0m \u001b[0mname\u001b[0m\u001b[0;34m)\u001b[0m\u001b[0;34m\u001b[0m\u001b[0m\n\u001b[0m\u001b[1;32m     78\u001b[0m \u001b[0;34m\u001b[0m\u001b[0m\n\u001b[1;32m     79\u001b[0m \u001b[0;34m\u001b[0m\u001b[0m\n",
      "\u001b[0;32m/home/vcvetkov/anaconda3/lib/python3.5/pickle.py\u001b[0m in \u001b[0;36mwhichmodule\u001b[0;34m(obj, name)\u001b[0m\n\u001b[1;32m    283\u001b[0m             \u001b[0;32mcontinue\u001b[0m\u001b[0;34m\u001b[0m\u001b[0m\n\u001b[1;32m    284\u001b[0m         \u001b[0;32mtry\u001b[0m\u001b[0;34m:\u001b[0m\u001b[0;34m\u001b[0m\u001b[0m\n\u001b[0;32m--> 285\u001b[0;31m             \u001b[0;32mif\u001b[0m \u001b[0m_getattribute\u001b[0m\u001b[0;34m(\u001b[0m\u001b[0mmodule\u001b[0m\u001b[0;34m,\u001b[0m \u001b[0mname\u001b[0m\u001b[0;34m)\u001b[0m\u001b[0;34m[\u001b[0m\u001b[0;36m0\u001b[0m\u001b[0;34m]\u001b[0m \u001b[0;32mis\u001b[0m \u001b[0mobj\u001b[0m\u001b[0;34m:\u001b[0m\u001b[0;34m\u001b[0m\u001b[0m\n\u001b[0m\u001b[1;32m    286\u001b[0m                 \u001b[0;32mreturn\u001b[0m \u001b[0mmodule_name\u001b[0m\u001b[0;34m\u001b[0m\u001b[0m\n\u001b[1;32m    287\u001b[0m         \u001b[0;32mexcept\u001b[0m \u001b[0mAttributeError\u001b[0m\u001b[0;34m:\u001b[0m\u001b[0;34m\u001b[0m\u001b[0m\n",
      "\u001b[0;32m/home/vcvetkov/anaconda3/lib/python3.5/pickle.py\u001b[0m in \u001b[0;36m_getattribute\u001b[0;34m(obj, name)\u001b[0m\n\u001b[1;32m    266\u001b[0m         \u001b[0;32mtry\u001b[0m\u001b[0;34m:\u001b[0m\u001b[0;34m\u001b[0m\u001b[0m\n\u001b[1;32m    267\u001b[0m             \u001b[0mparent\u001b[0m \u001b[0;34m=\u001b[0m \u001b[0mobj\u001b[0m\u001b[0;34m\u001b[0m\u001b[0m\n\u001b[0;32m--> 268\u001b[0;31m             \u001b[0mobj\u001b[0m \u001b[0;34m=\u001b[0m \u001b[0mgetattr\u001b[0m\u001b[0;34m(\u001b[0m\u001b[0mobj\u001b[0m\u001b[0;34m,\u001b[0m \u001b[0msubpath\u001b[0m\u001b[0;34m)\u001b[0m\u001b[0;34m\u001b[0m\u001b[0m\n\u001b[0m\u001b[1;32m    269\u001b[0m         \u001b[0;32mexcept\u001b[0m \u001b[0mAttributeError\u001b[0m\u001b[0;34m:\u001b[0m\u001b[0;34m\u001b[0m\u001b[0m\n\u001b[1;32m    270\u001b[0m             raise AttributeError(\"Can't get attribute {!r} on {!r}\"\n",
      "\u001b[0;32m/home/vcvetkov/anaconda3/lib/python3.5/site-packages/seaborn/external/six.py\u001b[0m in \u001b[0;36m__getattr__\u001b[0;34m(self, attr)\u001b[0m\n\u001b[1;32m    114\u001b[0m         \u001b[0;32mif\u001b[0m \u001b[0mattr\u001b[0m \u001b[0;32min\u001b[0m \u001b[0;34m(\u001b[0m\u001b[0;34m\"__file__\"\u001b[0m\u001b[0;34m,\u001b[0m \u001b[0;34m\"__name__\"\u001b[0m\u001b[0;34m)\u001b[0m \u001b[0;32mand\u001b[0m \u001b[0mself\u001b[0m\u001b[0;34m.\u001b[0m\u001b[0mmod\u001b[0m \u001b[0;32mnot\u001b[0m \u001b[0;32min\u001b[0m \u001b[0msys\u001b[0m\u001b[0;34m.\u001b[0m\u001b[0mmodules\u001b[0m\u001b[0;34m:\u001b[0m\u001b[0;34m\u001b[0m\u001b[0m\n\u001b[1;32m    115\u001b[0m             \u001b[0;32mraise\u001b[0m \u001b[0mAttributeError\u001b[0m\u001b[0;34m\u001b[0m\u001b[0m\n\u001b[0;32m--> 116\u001b[0;31m         \u001b[0m_module\u001b[0m \u001b[0;34m=\u001b[0m \u001b[0mself\u001b[0m\u001b[0;34m.\u001b[0m\u001b[0m_resolve\u001b[0m\u001b[0;34m(\u001b[0m\u001b[0;34m)\u001b[0m\u001b[0;34m\u001b[0m\u001b[0m\n\u001b[0m\u001b[1;32m    117\u001b[0m         \u001b[0mvalue\u001b[0m \u001b[0;34m=\u001b[0m \u001b[0mgetattr\u001b[0m\u001b[0;34m(\u001b[0m\u001b[0m_module\u001b[0m\u001b[0;34m,\u001b[0m \u001b[0mattr\u001b[0m\u001b[0;34m)\u001b[0m\u001b[0;34m\u001b[0m\u001b[0m\n\u001b[1;32m    118\u001b[0m         \u001b[0msetattr\u001b[0m\u001b[0;34m(\u001b[0m\u001b[0mself\u001b[0m\u001b[0;34m,\u001b[0m \u001b[0mattr\u001b[0m\u001b[0;34m,\u001b[0m \u001b[0mvalue\u001b[0m\u001b[0;34m)\u001b[0m\u001b[0;34m\u001b[0m\u001b[0m\n",
      "\u001b[0;32m/home/vcvetkov/anaconda3/lib/python3.5/site-packages/seaborn/external/six.py\u001b[0m in \u001b[0;36m_resolve\u001b[0;34m(self)\u001b[0m\n\u001b[1;32m    103\u001b[0m \u001b[0;34m\u001b[0m\u001b[0m\n\u001b[1;32m    104\u001b[0m     \u001b[0;32mdef\u001b[0m \u001b[0m_resolve\u001b[0m\u001b[0;34m(\u001b[0m\u001b[0mself\u001b[0m\u001b[0;34m)\u001b[0m\u001b[0;34m:\u001b[0m\u001b[0;34m\u001b[0m\u001b[0m\n\u001b[0;32m--> 105\u001b[0;31m         \u001b[0;32mreturn\u001b[0m \u001b[0m_import_module\u001b[0m\u001b[0;34m(\u001b[0m\u001b[0mself\u001b[0m\u001b[0;34m.\u001b[0m\u001b[0mmod\u001b[0m\u001b[0;34m)\u001b[0m\u001b[0;34m\u001b[0m\u001b[0m\n\u001b[0m\u001b[1;32m    106\u001b[0m \u001b[0;34m\u001b[0m\u001b[0m\n\u001b[1;32m    107\u001b[0m     \u001b[0;32mdef\u001b[0m \u001b[0m__getattr__\u001b[0m\u001b[0;34m(\u001b[0m\u001b[0mself\u001b[0m\u001b[0;34m,\u001b[0m \u001b[0mattr\u001b[0m\u001b[0;34m)\u001b[0m\u001b[0;34m:\u001b[0m\u001b[0;34m\u001b[0m\u001b[0m\n",
      "\u001b[0;32m/home/vcvetkov/anaconda3/lib/python3.5/site-packages/seaborn/external/six.py\u001b[0m in \u001b[0;36m_import_module\u001b[0;34m(name)\u001b[0m\n\u001b[1;32m     74\u001b[0m \u001b[0;32mdef\u001b[0m \u001b[0m_import_module\u001b[0m\u001b[0;34m(\u001b[0m\u001b[0mname\u001b[0m\u001b[0;34m)\u001b[0m\u001b[0;34m:\u001b[0m\u001b[0;34m\u001b[0m\u001b[0m\n\u001b[1;32m     75\u001b[0m     \u001b[0;34m\"\"\"Import module, returning the module after the last dot.\"\"\"\u001b[0m\u001b[0;34m\u001b[0m\u001b[0m\n\u001b[0;32m---> 76\u001b[0;31m     \u001b[0m__import__\u001b[0m\u001b[0;34m(\u001b[0m\u001b[0mname\u001b[0m\u001b[0;34m)\u001b[0m\u001b[0;34m\u001b[0m\u001b[0m\n\u001b[0m\u001b[1;32m     77\u001b[0m     \u001b[0;32mreturn\u001b[0m \u001b[0msys\u001b[0m\u001b[0;34m.\u001b[0m\u001b[0mmodules\u001b[0m\u001b[0;34m[\u001b[0m\u001b[0mname\u001b[0m\u001b[0;34m]\u001b[0m\u001b[0;34m\u001b[0m\u001b[0m\n\u001b[1;32m     78\u001b[0m \u001b[0;34m\u001b[0m\u001b[0m\n",
      "\u001b[0;32m/home/vcvetkov/anaconda3/lib/python3.5/dbm/gnu.py\u001b[0m in \u001b[0;36m<module>\u001b[0;34m()\u001b[0m\n\u001b[1;32m      1\u001b[0m \u001b[0;34m\"\"\"Provide the _gdbm module as a dbm submodule.\"\"\"\u001b[0m\u001b[0;34m\u001b[0m\u001b[0m\n\u001b[1;32m      2\u001b[0m \u001b[0;34m\u001b[0m\u001b[0m\n\u001b[0;32m----> 3\u001b[0;31m \u001b[0;32mfrom\u001b[0m \u001b[0m_gdbm\u001b[0m \u001b[0;32mimport\u001b[0m \u001b[0;34m*\u001b[0m\u001b[0;34m\u001b[0m\u001b[0m\n\u001b[0m",
      "\u001b[0;31mImportError\u001b[0m: No module named '_gdbm'"
     ]
    }
   ],
   "source": [
    "ddf.columns"
   ]
  },
  {
   "cell_type": "code",
   "execution_count": 11,
   "metadata": {
    "collapsed": false
   },
   "outputs": [
    {
     "data": {
      "text/html": [
       "<div>\n",
       "<style scoped>\n",
       "    .dataframe tbody tr th:only-of-type {\n",
       "        vertical-align: middle;\n",
       "    }\n",
       "\n",
       "    .dataframe tbody tr th {\n",
       "        vertical-align: top;\n",
       "    }\n",
       "\n",
       "    .dataframe thead th {\n",
       "        text-align: right;\n",
       "    }\n",
       "</style>\n",
       "<table border=\"1\" class=\"dataframe\">\n",
       "  <thead>\n",
       "    <tr style=\"text-align: right;\">\n",
       "      <th></th>\n",
       "      <th>Peptide</th>\n",
       "      <th>helix.bend.pref</th>\n",
       "      <th>side.chain.size</th>\n",
       "      <th>extended.str.pref</th>\n",
       "      <th>hydrophobicity</th>\n",
       "      <th>double.bend.pref</th>\n",
       "      <th>partial.spec.vol</th>\n",
       "      <th>flat.ext.pref</th>\n",
       "      <th>occurrence.alpha.reg</th>\n",
       "      <th>pK.C</th>\n",
       "      <th>surrounding.hydrop</th>\n",
       "    </tr>\n",
       "  </thead>\n",
       "  <tbody>\n",
       "    <tr>\n",
       "      <th>0</th>\n",
       "      <td>AAAAAAAAA</td>\n",
       "      <td>-1.560000</td>\n",
       "      <td>-1.670000</td>\n",
       "      <td>-0.970000</td>\n",
       "      <td>-0.270000</td>\n",
       "      <td>-0.930000</td>\n",
       "      <td>-0.780000</td>\n",
       "      <td>-0.200000</td>\n",
       "      <td>-0.080000</td>\n",
       "      <td>0.210000</td>\n",
       "      <td>-0.480000</td>\n",
       "    </tr>\n",
       "    <tr>\n",
       "      <th>1</th>\n",
       "      <td>AAAAAAAAC</td>\n",
       "      <td>-1.373333</td>\n",
       "      <td>-1.583333</td>\n",
       "      <td>-0.812222</td>\n",
       "      <td>-0.356667</td>\n",
       "      <td>-0.905556</td>\n",
       "      <td>-0.425556</td>\n",
       "      <td>-0.008889</td>\n",
       "      <td>-0.147778</td>\n",
       "      <td>0.312222</td>\n",
       "      <td>-0.304444</td>\n",
       "    </tr>\n",
       "    <tr>\n",
       "      <th>2</th>\n",
       "      <td>AAAAAAAAD</td>\n",
       "      <td>-1.322222</td>\n",
       "      <td>-1.508889</td>\n",
       "      <td>-1.037778</td>\n",
       "      <td>-0.150000</td>\n",
       "      <td>-0.928889</td>\n",
       "      <td>-0.676667</td>\n",
       "      <td>-0.346667</td>\n",
       "      <td>-0.018889</td>\n",
       "      <td>0.271111</td>\n",
       "      <td>-0.348889</td>\n",
       "    </tr>\n",
       "    <tr>\n",
       "      <th>3</th>\n",
       "      <td>AAAAAAAAE</td>\n",
       "      <td>-1.547778</td>\n",
       "      <td>-1.463333</td>\n",
       "      <td>-1.041111</td>\n",
       "      <td>-0.110000</td>\n",
       "      <td>-0.972222</td>\n",
       "      <td>-0.648889</td>\n",
       "      <td>-0.173333</td>\n",
       "      <td>-0.028889</td>\n",
       "      <td>0.147778</td>\n",
       "      <td>-0.440000</td>\n",
       "    </tr>\n",
       "    <tr>\n",
       "      <th>4</th>\n",
       "      <td>AAAAAAAAF</td>\n",
       "      <td>-1.410000</td>\n",
       "      <td>-1.375556</td>\n",
       "      <td>-0.902222</td>\n",
       "      <td>-0.398889</td>\n",
       "      <td>-0.802222</td>\n",
       "      <td>-0.783333</td>\n",
       "      <td>-0.103333</td>\n",
       "      <td>0.051111</td>\n",
       "      <td>0.376667</td>\n",
       "      <td>-0.475556</td>\n",
       "    </tr>\n",
       "  </tbody>\n",
       "</table>\n",
       "</div>"
      ],
      "text/plain": [
       "     Peptide  helix.bend.pref  side.chain.size  extended.str.pref  \\\n",
       "0  AAAAAAAAA        -1.560000        -1.670000          -0.970000   \n",
       "1  AAAAAAAAC        -1.373333        -1.583333          -0.812222   \n",
       "2  AAAAAAAAD        -1.322222        -1.508889          -1.037778   \n",
       "3  AAAAAAAAE        -1.547778        -1.463333          -1.041111   \n",
       "4  AAAAAAAAF        -1.410000        -1.375556          -0.902222   \n",
       "\n",
       "   hydrophobicity  double.bend.pref  partial.spec.vol  flat.ext.pref  \\\n",
       "0       -0.270000         -0.930000         -0.780000      -0.200000   \n",
       "1       -0.356667         -0.905556         -0.425556      -0.008889   \n",
       "2       -0.150000         -0.928889         -0.676667      -0.346667   \n",
       "3       -0.110000         -0.972222         -0.648889      -0.173333   \n",
       "4       -0.398889         -0.802222         -0.783333      -0.103333   \n",
       "\n",
       "   occurrence.alpha.reg      pK.C  surrounding.hydrop  \n",
       "0             -0.080000  0.210000           -0.480000  \n",
       "1             -0.147778  0.312222           -0.304444  \n",
       "2             -0.018889  0.271111           -0.348889  \n",
       "3             -0.028889  0.147778           -0.440000  \n",
       "4              0.051111  0.376667           -0.475556  "
      ]
     },
     "execution_count": 11,
     "metadata": {},
     "output_type": "execute_result"
    }
   ],
   "source": [
    "pdf = pd.read_csv('output/kidera/hpeptides_9mers_kidera.csv')\n",
    "pdf.head()"
   ]
  },
  {
   "cell_type": "code",
   "execution_count": null,
   "metadata": {
    "collapsed": false
   },
   "outputs": [
    {
     "data": {
      "text/html": [
       "<div>\n",
       "<style scoped>\n",
       "    .dataframe tbody tr th:only-of-type {\n",
       "        vertical-align: middle;\n",
       "    }\n",
       "\n",
       "    .dataframe tbody tr th {\n",
       "        vertical-align: top;\n",
       "    }\n",
       "\n",
       "    .dataframe thead th {\n",
       "        text-align: right;\n",
       "    }\n",
       "</style>\n",
       "<table border=\"1\" class=\"dataframe\">\n",
       "  <thead>\n",
       "    <tr style=\"text-align: right;\">\n",
       "      <th></th>\n",
       "      <th>helix.bend.pref</th>\n",
       "      <th>side.chain.size</th>\n",
       "      <th>extended.str.pref</th>\n",
       "      <th>hydrophobicity</th>\n",
       "      <th>double.bend.pref</th>\n",
       "      <th>partial.spec.vol</th>\n",
       "      <th>flat.ext.pref</th>\n",
       "      <th>occurrence.alpha.reg</th>\n",
       "      <th>pK.C</th>\n",
       "      <th>surrounding.hydrop</th>\n",
       "    </tr>\n",
       "  </thead>\n",
       "  <tbody>\n",
       "    <tr>\n",
       "      <th>count</th>\n",
       "      <td>1.037935e+07</td>\n",
       "      <td>1.037935e+07</td>\n",
       "      <td>1.037935e+07</td>\n",
       "      <td>1.037935e+07</td>\n",
       "      <td>1.037935e+07</td>\n",
       "      <td>1.037935e+07</td>\n",
       "      <td>1.037935e+07</td>\n",
       "      <td>1.037935e+07</td>\n",
       "      <td>1.037935e+07</td>\n",
       "      <td>1.037935e+07</td>\n",
       "    </tr>\n",
       "    <tr>\n",
       "      <th>mean</th>\n",
       "      <td>-4.935839e-02</td>\n",
       "      <td>-2.163736e-01</td>\n",
       "      <td>-3.445414e-02</td>\n",
       "      <td>1.129689e-01</td>\n",
       "      <td>-1.011847e-01</td>\n",
       "      <td>-2.874578e-01</td>\n",
       "      <td>2.783660e-02</td>\n",
       "      <td>-1.101329e-01</td>\n",
       "      <td>-1.376097e-02</td>\n",
       "      <td>2.526550e-02</td>\n",
       "    </tr>\n",
       "    <tr>\n",
       "      <th>std</th>\n",
       "      <td>4.021847e-01</td>\n",
       "      <td>3.518546e-01</td>\n",
       "      <td>3.675174e-01</td>\n",
       "      <td>3.555814e-01</td>\n",
       "      <td>3.266863e-01</td>\n",
       "      <td>3.265830e-01</td>\n",
       "      <td>3.630587e-01</td>\n",
       "      <td>3.891402e-01</td>\n",
       "      <td>2.983429e-01</td>\n",
       "      <td>3.232411e-01</td>\n",
       "    </tr>\n",
       "    <tr>\n",
       "      <th>min</th>\n",
       "      <td>-1.560000e+00</td>\n",
       "      <td>-1.960000e+00</td>\n",
       "      <td>-1.610000e+00</td>\n",
       "      <td>-1.351111e+00</td>\n",
       "      <td>-1.700000e+00</td>\n",
       "      <td>-2.050000e+00</td>\n",
       "      <td>-1.890000e+00</td>\n",
       "      <td>-2.300000e+00</td>\n",
       "      <td>-1.731111e+00</td>\n",
       "      <td>-2.330000e+00</td>\n",
       "    </tr>\n",
       "    <tr>\n",
       "      <th>25%</th>\n",
       "      <td>-3.277778e-01</td>\n",
       "      <td>-4.477778e-01</td>\n",
       "      <td>-2.833333e-01</td>\n",
       "      <td>-1.255556e-01</td>\n",
       "      <td>-3.211111e-01</td>\n",
       "      <td>-5.033333e-01</td>\n",
       "      <td>-2.100000e-01</td>\n",
       "      <td>-3.555556e-01</td>\n",
       "      <td>-2.088889e-01</td>\n",
       "      <td>-1.800000e-01</td>\n",
       "    </tr>\n",
       "    <tr>\n",
       "      <th>50%</th>\n",
       "      <td>-6.222222e-02</td>\n",
       "      <td>-2.077778e-01</td>\n",
       "      <td>-3.777778e-02</td>\n",
       "      <td>1.066667e-01</td>\n",
       "      <td>-1.055556e-01</td>\n",
       "      <td>-2.888889e-01</td>\n",
       "      <td>4.222222e-02</td>\n",
       "      <td>-1.044444e-01</td>\n",
       "      <td>-7.777778e-03</td>\n",
       "      <td>4.444444e-02</td>\n",
       "    </tr>\n",
       "    <tr>\n",
       "      <th>75%</th>\n",
       "      <td>2.133333e-01</td>\n",
       "      <td>2.444444e-02</td>\n",
       "      <td>2.122222e-01</td>\n",
       "      <td>3.444444e-01</td>\n",
       "      <td>1.144444e-01</td>\n",
       "      <td>-7.333333e-02</td>\n",
       "      <td>2.822222e-01</td>\n",
       "      <td>1.433333e-01</td>\n",
       "      <td>1.888889e-01</td>\n",
       "      <td>2.522222e-01</td>\n",
       "    </tr>\n",
       "    <tr>\n",
       "      <th>max</th>\n",
       "      <td>2.060000e+00</td>\n",
       "      <td>1.404444e+00</td>\n",
       "      <td>1.910000e+00</td>\n",
       "      <td>1.870000e+00</td>\n",
       "      <td>1.897778e+00</td>\n",
       "      <td>2.052222e+00</td>\n",
       "      <td>1.435556e+00</td>\n",
       "      <td>2.360000e+00</td>\n",
       "      <td>1.356667e+00</td>\n",
       "      <td>1.630000e+00</td>\n",
       "    </tr>\n",
       "  </tbody>\n",
       "</table>\n",
       "</div>"
      ],
      "text/plain": [
       "       helix.bend.pref  side.chain.size  extended.str.pref  hydrophobicity  \\\n",
       "count     1.037935e+07     1.037935e+07       1.037935e+07    1.037935e+07   \n",
       "mean     -4.935839e-02    -2.163736e-01      -3.445414e-02    1.129689e-01   \n",
       "std       4.021847e-01     3.518546e-01       3.675174e-01    3.555814e-01   \n",
       "min      -1.560000e+00    -1.960000e+00      -1.610000e+00   -1.351111e+00   \n",
       "25%      -3.277778e-01    -4.477778e-01      -2.833333e-01   -1.255556e-01   \n",
       "50%      -6.222222e-02    -2.077778e-01      -3.777778e-02    1.066667e-01   \n",
       "75%       2.133333e-01     2.444444e-02       2.122222e-01    3.444444e-01   \n",
       "max       2.060000e+00     1.404444e+00       1.910000e+00    1.870000e+00   \n",
       "\n",
       "       double.bend.pref  partial.spec.vol  flat.ext.pref  \\\n",
       "count      1.037935e+07      1.037935e+07   1.037935e+07   \n",
       "mean      -1.011847e-01     -2.874578e-01   2.783660e-02   \n",
       "std        3.266863e-01      3.265830e-01   3.630587e-01   \n",
       "min       -1.700000e+00     -2.050000e+00  -1.890000e+00   \n",
       "25%       -3.211111e-01     -5.033333e-01  -2.100000e-01   \n",
       "50%       -1.055556e-01     -2.888889e-01   4.222222e-02   \n",
       "75%        1.144444e-01     -7.333333e-02   2.822222e-01   \n",
       "max        1.897778e+00      2.052222e+00   1.435556e+00   \n",
       "\n",
       "       occurrence.alpha.reg          pK.C  surrounding.hydrop  \n",
       "count          1.037935e+07  1.037935e+07        1.037935e+07  \n",
       "mean          -1.101329e-01 -1.376097e-02        2.526550e-02  \n",
       "std            3.891402e-01  2.983429e-01        3.232411e-01  \n",
       "min           -2.300000e+00 -1.731111e+00       -2.330000e+00  \n",
       "25%           -3.555556e-01 -2.088889e-01       -1.800000e-01  \n",
       "50%           -1.044444e-01 -7.777778e-03        4.444444e-02  \n",
       "75%            1.433333e-01  1.888889e-01        2.522222e-01  \n",
       "max            2.360000e+00  1.356667e+00        1.630000e+00  "
      ]
     },
     "execution_count": 12,
     "metadata": {},
     "output_type": "execute_result"
    }
   ],
   "source": [
    "pdf.describe()"
   ]
  },
  {
   "cell_type": "code",
   "execution_count": null,
   "metadata": {
    "collapsed": true
   },
   "outputs": [],
   "source": [
    "shapiro(pdf)"
   ]
  },
  {
   "cell_type": "code",
   "execution_count": null,
   "metadata": {
    "collapsed": true
   },
   "outputs": [],
   "source": []
  },
  {
   "cell_type": "code",
   "execution_count": null,
   "metadata": {
    "collapsed": true
   },
   "outputs": [],
   "source": []
  },
  {
   "cell_type": "code",
   "execution_count": null,
   "metadata": {
    "collapsed": true
   },
   "outputs": [],
   "source": []
  }
 ],
 "metadata": {
  "anaconda-cloud": {},
  "kernelspec": {
   "display_name": "Python [conda env:anaconda3]",
   "language": "python",
   "name": "conda-env-anaconda3-py"
  },
  "language_info": {
   "codemirror_mode": {
    "name": "ipython",
    "version": 3
   },
   "file_extension": ".py",
   "mimetype": "text/x-python",
   "name": "python",
   "nbconvert_exporter": "python",
   "pygments_lexer": "ipython3",
   "version": "3.5.4"
  },
  "widgets": {
   "state": {
    "5571ffc82b9d45618b5caf96a0a5739b": {
     "views": [
      {
       "cell_index": 15
      }
     ]
    }
   },
   "version": "1.2.0"
  }
 },
 "nbformat": 4,
 "nbformat_minor": 1
}
