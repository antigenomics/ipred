{
 "cells": [
  {
   "cell_type": "code",
   "execution_count": 1,
   "metadata": {
    "collapsed": false
   },
   "outputs": [],
   "source": [
    "%matplotlib inline\n",
    "\n",
    "#system and time\n",
    "import os\n",
    "import sys\n",
    "import multiprocessing as mp\n",
    "from tqdm import tqdm, tqdm_notebook, tqdm_pandas, trange\n",
    "import time\n",
    "\n",
    "#data manipulation\n",
    "import pandas as pd\n",
    "import numpy as np\n",
    "import networkx as nx\n",
    "import seaborn as sns\n",
    "import matplotlib.pyplot as plt\n",
    "\n",
    "#statistics\n",
    "import itertools\n",
    "from scipy import stats\n",
    "from scipy.stats import shapiro\n",
    "\n",
    "#local modules\n",
    "from modules.kidera import alprop_sequence\n",
    "\n",
    "#jupyter settings\n",
    "import warnings\n",
    "warnings.filterwarnings('ignore')"
   ]
  },
  {
   "cell_type": "code",
   "execution_count": null,
   "metadata": {
    "collapsed": false
   },
   "outputs": [],
   "source": [
    "import dask\n",
    "import dask.dataframe as dd\n",
    "from dask.distributed import Client, progress\n",
    "import time\n",
    "client = Client()\n",
    "client"
   ]
  },
  {
   "cell_type": "code",
   "execution_count": 29,
   "metadata": {
    "collapsed": false
   },
   "outputs": [],
   "source": [
    "df = dd.read_csv('output/k-mers/human_peptides_9mers.txt', header=None)"
   ]
  },
  {
   "cell_type": "code",
   "execution_count": 15,
   "metadata": {
    "collapsed": false
   },
   "outputs": [
    {
     "data": {
      "text/html": [
       "<div>\n",
       "<style scoped>\n",
       "    .dataframe tbody tr th:only-of-type {\n",
       "        vertical-align: middle;\n",
       "    }\n",
       "\n",
       "    .dataframe tbody tr th {\n",
       "        vertical-align: top;\n",
       "    }\n",
       "\n",
       "    .dataframe thead th {\n",
       "        text-align: right;\n",
       "    }\n",
       "</style>\n",
       "<table border=\"1\" class=\"dataframe\">\n",
       "  <thead>\n",
       "    <tr style=\"text-align: right;\">\n",
       "      <th></th>\n",
       "      <th>Peptide</th>\n",
       "    </tr>\n",
       "  </thead>\n",
       "  <tbody>\n",
       "    <tr>\n",
       "      <th>0</th>\n",
       "      <td>AAAAAAAAA</td>\n",
       "    </tr>\n",
       "    <tr>\n",
       "      <th>1</th>\n",
       "      <td>AAAAAAAAC</td>\n",
       "    </tr>\n",
       "    <tr>\n",
       "      <th>2</th>\n",
       "      <td>AAAAAAAAD</td>\n",
       "    </tr>\n",
       "    <tr>\n",
       "      <th>3</th>\n",
       "      <td>AAAAAAAAE</td>\n",
       "    </tr>\n",
       "    <tr>\n",
       "      <th>4</th>\n",
       "      <td>AAAAAAAAF</td>\n",
       "    </tr>\n",
       "  </tbody>\n",
       "</table>\n",
       "</div>"
      ],
      "text/plain": [
       "     Peptide\n",
       "0  AAAAAAAAA\n",
       "1  AAAAAAAAC\n",
       "2  AAAAAAAAD\n",
       "3  AAAAAAAAE\n",
       "4  AAAAAAAAF"
      ]
     },
     "execution_count": 15,
     "metadata": {},
     "output_type": "execute_result"
    }
   ],
   "source": [
    "df.columns = ['Peptide']\n",
    "df.head()"
   ]
  },
  {
   "cell_type": "code",
   "execution_count": 66,
   "metadata": {
    "collapsed": true
   },
   "outputs": [],
   "source": [
    "cols = [\"helix.bend.pref\", \"side.chain.size\",\\\n",
    "        \"extended.str.pref\", \"hydrophobicity\", \"double.bend.pref\", \"partial.spec.vol\",\\\n",
    "        \"flat.ext.pref\", \"occurrence.alpha.reg\", \"pK.C\", \"surrounding.hydrop\"]"
   ]
  },
  {
   "cell_type": "code",
   "execution_count": 65,
   "metadata": {
    "collapsed": false
   },
   "outputs": [],
   "source": [
    "df = df.repartition(npartitions=160)"
   ]
  },
  {
   "cell_type": "code",
   "execution_count": 75,
   "metadata": {
    "collapsed": false
   },
   "outputs": [],
   "source": [
    "df1 = df.Peptide.apply(lambda s: score_sequence(s), \\\n",
    "                     meta=pd.DataFrame(np.random.rand(len(df), len(cols)), columns=cols, dtype=float))\n",
    "distributed = client.compute(df1)\n",
    "progress(distributed)"
   ]
  },
  {
   "cell_type": "code",
   "execution_count": 76,
   "metadata": {
    "collapsed": true
   },
   "outputs": [],
   "source": [
    "res = distributed.result()"
   ]
  },
  {
   "cell_type": "code",
   "execution_count": null,
   "metadata": {
    "collapsed": false
   },
   "outputs": [],
   "source": [
    "res.to_csv('output/kidera/hpeptides_9mers_kidera.csv', index=False)"
   ]
  },
  {
   "cell_type": "code",
   "execution_count": 79,
   "metadata": {
    "collapsed": false
   },
   "outputs": [
    {
     "data": {
      "text/html": [
       "<div>\n",
       "<style scoped>\n",
       "    .dataframe tbody tr th:only-of-type {\n",
       "        vertical-align: middle;\n",
       "    }\n",
       "\n",
       "    .dataframe tbody tr th {\n",
       "        vertical-align: top;\n",
       "    }\n",
       "\n",
       "    .dataframe thead th {\n",
       "        text-align: right;\n",
       "    }\n",
       "</style>\n",
       "<table border=\"1\" class=\"dataframe\">\n",
       "  <thead>\n",
       "    <tr style=\"text-align: right;\">\n",
       "      <th></th>\n",
       "      <th>helix.bend.pref</th>\n",
       "      <th>side.chain.size</th>\n",
       "      <th>extended.str.pref</th>\n",
       "      <th>hydrophobicity</th>\n",
       "      <th>double.bend.pref</th>\n",
       "      <th>partial.spec.vol</th>\n",
       "      <th>flat.ext.pref</th>\n",
       "      <th>occurrence.alpha.reg</th>\n",
       "      <th>pK.C</th>\n",
       "      <th>surrounding.hydrop</th>\n",
       "    </tr>\n",
       "  </thead>\n",
       "  <tbody>\n",
       "    <tr>\n",
       "      <th>0</th>\n",
       "      <td>-1.560000</td>\n",
       "      <td>-1.670000</td>\n",
       "      <td>-0.970000</td>\n",
       "      <td>-0.270000</td>\n",
       "      <td>-0.930000</td>\n",
       "      <td>-0.780000</td>\n",
       "      <td>-0.200000</td>\n",
       "      <td>-0.080000</td>\n",
       "      <td>0.210000</td>\n",
       "      <td>-0.480000</td>\n",
       "    </tr>\n",
       "    <tr>\n",
       "      <th>1</th>\n",
       "      <td>-1.373333</td>\n",
       "      <td>-1.583333</td>\n",
       "      <td>-0.812222</td>\n",
       "      <td>-0.356667</td>\n",
       "      <td>-0.905556</td>\n",
       "      <td>-0.425556</td>\n",
       "      <td>-0.008889</td>\n",
       "      <td>-0.147778</td>\n",
       "      <td>0.312222</td>\n",
       "      <td>-0.304444</td>\n",
       "    </tr>\n",
       "    <tr>\n",
       "      <th>2</th>\n",
       "      <td>-1.322222</td>\n",
       "      <td>-1.508889</td>\n",
       "      <td>-1.037778</td>\n",
       "      <td>-0.150000</td>\n",
       "      <td>-0.928889</td>\n",
       "      <td>-0.676667</td>\n",
       "      <td>-0.346667</td>\n",
       "      <td>-0.018889</td>\n",
       "      <td>0.271111</td>\n",
       "      <td>-0.348889</td>\n",
       "    </tr>\n",
       "    <tr>\n",
       "      <th>3</th>\n",
       "      <td>-1.547778</td>\n",
       "      <td>-1.463333</td>\n",
       "      <td>-1.041111</td>\n",
       "      <td>-0.110000</td>\n",
       "      <td>-0.972222</td>\n",
       "      <td>-0.648889</td>\n",
       "      <td>-0.173333</td>\n",
       "      <td>-0.028889</td>\n",
       "      <td>0.147778</td>\n",
       "      <td>-0.440000</td>\n",
       "    </tr>\n",
       "    <tr>\n",
       "      <th>4</th>\n",
       "      <td>-1.410000</td>\n",
       "      <td>-1.375556</td>\n",
       "      <td>-0.902222</td>\n",
       "      <td>-0.398889</td>\n",
       "      <td>-0.802222</td>\n",
       "      <td>-0.783333</td>\n",
       "      <td>-0.103333</td>\n",
       "      <td>0.051111</td>\n",
       "      <td>0.376667</td>\n",
       "      <td>-0.475556</td>\n",
       "    </tr>\n",
       "  </tbody>\n",
       "</table>\n",
       "</div>"
      ],
      "text/plain": [
       "   helix.bend.pref  side.chain.size  extended.str.pref  hydrophobicity  \\\n",
       "0        -1.560000        -1.670000          -0.970000       -0.270000   \n",
       "1        -1.373333        -1.583333          -0.812222       -0.356667   \n",
       "2        -1.322222        -1.508889          -1.037778       -0.150000   \n",
       "3        -1.547778        -1.463333          -1.041111       -0.110000   \n",
       "4        -1.410000        -1.375556          -0.902222       -0.398889   \n",
       "\n",
       "   double.bend.pref  partial.spec.vol  flat.ext.pref  occurrence.alpha.reg  \\\n",
       "0         -0.930000         -0.780000      -0.200000             -0.080000   \n",
       "1         -0.905556         -0.425556      -0.008889             -0.147778   \n",
       "2         -0.928889         -0.676667      -0.346667             -0.018889   \n",
       "3         -0.972222         -0.648889      -0.173333             -0.028889   \n",
       "4         -0.802222         -0.783333      -0.103333              0.051111   \n",
       "\n",
       "       pK.C  surrounding.hydrop  \n",
       "0  0.210000           -0.480000  \n",
       "1  0.312222           -0.304444  \n",
       "2  0.271111           -0.348889  \n",
       "3  0.147778           -0.440000  \n",
       "4  0.376667           -0.475556  "
      ]
     },
     "execution_count": 79,
     "metadata": {},
     "output_type": "execute_result"
    }
   ],
   "source": [
    "res.head()"
   ]
  },
  {
   "cell_type": "code",
   "execution_count": 82,
   "metadata": {
    "collapsed": false
   },
   "outputs": [
    {
     "data": {
      "text/html": [
       "<div>\n",
       "<style scoped>\n",
       "    .dataframe tbody tr th:only-of-type {\n",
       "        vertical-align: middle;\n",
       "    }\n",
       "\n",
       "    .dataframe tbody tr th {\n",
       "        vertical-align: top;\n",
       "    }\n",
       "\n",
       "    .dataframe thead th {\n",
       "        text-align: right;\n",
       "    }\n",
       "</style>\n",
       "<table border=\"1\" class=\"dataframe\">\n",
       "  <thead>\n",
       "    <tr style=\"text-align: right;\">\n",
       "      <th></th>\n",
       "      <th>helix.bend.pref</th>\n",
       "      <th>side.chain.size</th>\n",
       "      <th>extended.str.pref</th>\n",
       "      <th>hydrophobicity</th>\n",
       "      <th>double.bend.pref</th>\n",
       "      <th>partial.spec.vol</th>\n",
       "      <th>flat.ext.pref</th>\n",
       "      <th>occurrence.alpha.reg</th>\n",
       "      <th>pK.C</th>\n",
       "      <th>surrounding.hydrop</th>\n",
       "    </tr>\n",
       "  </thead>\n",
       "  <tbody>\n",
       "    <tr>\n",
       "      <th>0</th>\n",
       "      <td>-1.560000</td>\n",
       "      <td>-1.670000</td>\n",
       "      <td>-0.970000</td>\n",
       "      <td>-0.270000</td>\n",
       "      <td>-0.930000</td>\n",
       "      <td>-0.780000</td>\n",
       "      <td>-0.200000</td>\n",
       "      <td>-0.080000</td>\n",
       "      <td>0.210000</td>\n",
       "      <td>-0.480000</td>\n",
       "    </tr>\n",
       "    <tr>\n",
       "      <th>1</th>\n",
       "      <td>-1.373333</td>\n",
       "      <td>-1.583333</td>\n",
       "      <td>-0.812222</td>\n",
       "      <td>-0.356667</td>\n",
       "      <td>-0.905556</td>\n",
       "      <td>-0.425556</td>\n",
       "      <td>-0.008889</td>\n",
       "      <td>-0.147778</td>\n",
       "      <td>0.312222</td>\n",
       "      <td>-0.304444</td>\n",
       "    </tr>\n",
       "    <tr>\n",
       "      <th>2</th>\n",
       "      <td>-1.322222</td>\n",
       "      <td>-1.508889</td>\n",
       "      <td>-1.037778</td>\n",
       "      <td>-0.150000</td>\n",
       "      <td>-0.928889</td>\n",
       "      <td>-0.676667</td>\n",
       "      <td>-0.346667</td>\n",
       "      <td>-0.018889</td>\n",
       "      <td>0.271111</td>\n",
       "      <td>-0.348889</td>\n",
       "    </tr>\n",
       "    <tr>\n",
       "      <th>3</th>\n",
       "      <td>-1.547778</td>\n",
       "      <td>-1.463333</td>\n",
       "      <td>-1.041111</td>\n",
       "      <td>-0.110000</td>\n",
       "      <td>-0.972222</td>\n",
       "      <td>-0.648889</td>\n",
       "      <td>-0.173333</td>\n",
       "      <td>-0.028889</td>\n",
       "      <td>0.147778</td>\n",
       "      <td>-0.440000</td>\n",
       "    </tr>\n",
       "    <tr>\n",
       "      <th>4</th>\n",
       "      <td>-1.410000</td>\n",
       "      <td>-1.375556</td>\n",
       "      <td>-0.902222</td>\n",
       "      <td>-0.398889</td>\n",
       "      <td>-0.802222</td>\n",
       "      <td>-0.783333</td>\n",
       "      <td>-0.103333</td>\n",
       "      <td>0.051111</td>\n",
       "      <td>0.376667</td>\n",
       "      <td>-0.475556</td>\n",
       "    </tr>\n",
       "  </tbody>\n",
       "</table>\n",
       "</div>"
      ],
      "text/plain": [
       "   helix.bend.pref  side.chain.size  extended.str.pref  hydrophobicity  \\\n",
       "0        -1.560000        -1.670000          -0.970000       -0.270000   \n",
       "1        -1.373333        -1.583333          -0.812222       -0.356667   \n",
       "2        -1.322222        -1.508889          -1.037778       -0.150000   \n",
       "3        -1.547778        -1.463333          -1.041111       -0.110000   \n",
       "4        -1.410000        -1.375556          -0.902222       -0.398889   \n",
       "\n",
       "   double.bend.pref  partial.spec.vol  flat.ext.pref  occurrence.alpha.reg  \\\n",
       "0         -0.930000         -0.780000      -0.200000             -0.080000   \n",
       "1         -0.905556         -0.425556      -0.008889             -0.147778   \n",
       "2         -0.928889         -0.676667      -0.346667             -0.018889   \n",
       "3         -0.972222         -0.648889      -0.173333             -0.028889   \n",
       "4         -0.802222         -0.783333      -0.103333              0.051111   \n",
       "\n",
       "       pK.C  surrounding.hydrop  \n",
       "0  0.210000           -0.480000  \n",
       "1  0.312222           -0.304444  \n",
       "2  0.271111           -0.348889  \n",
       "3  0.147778           -0.440000  \n",
       "4  0.376667           -0.475556  "
      ]
     },
     "execution_count": 82,
     "metadata": {},
     "output_type": "execute_result"
    }
   ],
   "source": [
    "result = pd.read_csv('output/kidera/hpeptides_9mers_kidera.csv')\n",
    "result.head()"
   ]
  },
  {
   "cell_type": "code",
   "execution_count": 88,
   "metadata": {
    "collapsed": true
   },
   "outputs": [],
   "source": [
    "df = pd.read_csv('output/k-mers/human_peptides_9mers.txt', header=None)\n",
    "df.columns = ['Peptide']"
   ]
  },
  {
   "cell_type": "code",
   "execution_count": 89,
   "metadata": {
    "collapsed": false
   },
   "outputs": [
    {
     "data": {
      "text/html": [
       "<div>\n",
       "<style scoped>\n",
       "    .dataframe tbody tr th:only-of-type {\n",
       "        vertical-align: middle;\n",
       "    }\n",
       "\n",
       "    .dataframe tbody tr th {\n",
       "        vertical-align: top;\n",
       "    }\n",
       "\n",
       "    .dataframe thead th {\n",
       "        text-align: right;\n",
       "    }\n",
       "</style>\n",
       "<table border=\"1\" class=\"dataframe\">\n",
       "  <thead>\n",
       "    <tr style=\"text-align: right;\">\n",
       "      <th></th>\n",
       "      <th>Peptide</th>\n",
       "      <th>helix.bend.pref</th>\n",
       "      <th>side.chain.size</th>\n",
       "      <th>extended.str.pref</th>\n",
       "      <th>hydrophobicity</th>\n",
       "      <th>double.bend.pref</th>\n",
       "      <th>partial.spec.vol</th>\n",
       "      <th>flat.ext.pref</th>\n",
       "      <th>occurrence.alpha.reg</th>\n",
       "      <th>pK.C</th>\n",
       "      <th>surrounding.hydrop</th>\n",
       "    </tr>\n",
       "  </thead>\n",
       "  <tbody>\n",
       "    <tr>\n",
       "      <th>0</th>\n",
       "      <td>AAAAAAAAA</td>\n",
       "      <td>-1.560000</td>\n",
       "      <td>-1.670000</td>\n",
       "      <td>-0.970000</td>\n",
       "      <td>-0.270000</td>\n",
       "      <td>-0.930000</td>\n",
       "      <td>-0.780000</td>\n",
       "      <td>-0.200000</td>\n",
       "      <td>-0.080000</td>\n",
       "      <td>0.210000</td>\n",
       "      <td>-0.480000</td>\n",
       "    </tr>\n",
       "    <tr>\n",
       "      <th>1</th>\n",
       "      <td>AAAAAAAAC</td>\n",
       "      <td>-1.373333</td>\n",
       "      <td>-1.583333</td>\n",
       "      <td>-0.812222</td>\n",
       "      <td>-0.356667</td>\n",
       "      <td>-0.905556</td>\n",
       "      <td>-0.425556</td>\n",
       "      <td>-0.008889</td>\n",
       "      <td>-0.147778</td>\n",
       "      <td>0.312222</td>\n",
       "      <td>-0.304444</td>\n",
       "    </tr>\n",
       "    <tr>\n",
       "      <th>2</th>\n",
       "      <td>AAAAAAAAD</td>\n",
       "      <td>-1.322222</td>\n",
       "      <td>-1.508889</td>\n",
       "      <td>-1.037778</td>\n",
       "      <td>-0.150000</td>\n",
       "      <td>-0.928889</td>\n",
       "      <td>-0.676667</td>\n",
       "      <td>-0.346667</td>\n",
       "      <td>-0.018889</td>\n",
       "      <td>0.271111</td>\n",
       "      <td>-0.348889</td>\n",
       "    </tr>\n",
       "    <tr>\n",
       "      <th>3</th>\n",
       "      <td>AAAAAAAAE</td>\n",
       "      <td>-1.547778</td>\n",
       "      <td>-1.463333</td>\n",
       "      <td>-1.041111</td>\n",
       "      <td>-0.110000</td>\n",
       "      <td>-0.972222</td>\n",
       "      <td>-0.648889</td>\n",
       "      <td>-0.173333</td>\n",
       "      <td>-0.028889</td>\n",
       "      <td>0.147778</td>\n",
       "      <td>-0.440000</td>\n",
       "    </tr>\n",
       "    <tr>\n",
       "      <th>4</th>\n",
       "      <td>AAAAAAAAF</td>\n",
       "      <td>-1.410000</td>\n",
       "      <td>-1.375556</td>\n",
       "      <td>-0.902222</td>\n",
       "      <td>-0.398889</td>\n",
       "      <td>-0.802222</td>\n",
       "      <td>-0.783333</td>\n",
       "      <td>-0.103333</td>\n",
       "      <td>0.051111</td>\n",
       "      <td>0.376667</td>\n",
       "      <td>-0.475556</td>\n",
       "    </tr>\n",
       "  </tbody>\n",
       "</table>\n",
       "</div>"
      ],
      "text/plain": [
       "     Peptide  helix.bend.pref  side.chain.size  extended.str.pref  \\\n",
       "0  AAAAAAAAA        -1.560000        -1.670000          -0.970000   \n",
       "1  AAAAAAAAC        -1.373333        -1.583333          -0.812222   \n",
       "2  AAAAAAAAD        -1.322222        -1.508889          -1.037778   \n",
       "3  AAAAAAAAE        -1.547778        -1.463333          -1.041111   \n",
       "4  AAAAAAAAF        -1.410000        -1.375556          -0.902222   \n",
       "\n",
       "   hydrophobicity  double.bend.pref  partial.spec.vol  flat.ext.pref  \\\n",
       "0       -0.270000         -0.930000         -0.780000      -0.200000   \n",
       "1       -0.356667         -0.905556         -0.425556      -0.008889   \n",
       "2       -0.150000         -0.928889         -0.676667      -0.346667   \n",
       "3       -0.110000         -0.972222         -0.648889      -0.173333   \n",
       "4       -0.398889         -0.802222         -0.783333      -0.103333   \n",
       "\n",
       "   occurrence.alpha.reg      pK.C  surrounding.hydrop  \n",
       "0             -0.080000  0.210000           -0.480000  \n",
       "1             -0.147778  0.312222           -0.304444  \n",
       "2             -0.018889  0.271111           -0.348889  \n",
       "3             -0.028889  0.147778           -0.440000  \n",
       "4              0.051111  0.376667           -0.475556  "
      ]
     },
     "execution_count": 89,
     "metadata": {},
     "output_type": "execute_result"
    }
   ],
   "source": [
    "df = pd.concat([df, result], axis=1)\n",
    "df.head()"
   ]
  },
  {
   "cell_type": "code",
   "execution_count": 4,
   "metadata": {
    "collapsed": false
   },
   "outputs": [
    {
     "name": "stderr",
     "output_type": "stream",
     "text": [
      "Widget Javascript not detected.  It may not be installed properly. Did you enable the widgetsnbextension? If not, then run \"jupyter nbextension enable --py --sys-prefix widgetsnbextension\"\n"
     ]
    }
   ],
   "source": [
    "ddf = dd.read_csv('output/kidera/hpeptides_9mers_kidera.csv')\n",
    "ddf = ddf.repartition(npartitions=100)\n",
    "ddf = client.persist(ddf)\n",
    "progress(ddf)"
   ]
  },
  {
   "cell_type": "code",
   "execution_count": 11,
   "metadata": {
    "collapsed": false
   },
   "outputs": [
    {
     "data": {
      "text/html": [
       "<div>\n",
       "<style scoped>\n",
       "    .dataframe tbody tr th:only-of-type {\n",
       "        vertical-align: middle;\n",
       "    }\n",
       "\n",
       "    .dataframe tbody tr th {\n",
       "        vertical-align: top;\n",
       "    }\n",
       "\n",
       "    .dataframe thead th {\n",
       "        text-align: right;\n",
       "    }\n",
       "</style>\n",
       "<table border=\"1\" class=\"dataframe\">\n",
       "  <thead>\n",
       "    <tr style=\"text-align: right;\">\n",
       "      <th></th>\n",
       "      <th>Peptide</th>\n",
       "      <th>helix.bend.pref</th>\n",
       "      <th>side.chain.size</th>\n",
       "      <th>extended.str.pref</th>\n",
       "      <th>hydrophobicity</th>\n",
       "      <th>double.bend.pref</th>\n",
       "      <th>partial.spec.vol</th>\n",
       "      <th>flat.ext.pref</th>\n",
       "      <th>occurrence.alpha.reg</th>\n",
       "      <th>pK.C</th>\n",
       "      <th>surrounding.hydrop</th>\n",
       "    </tr>\n",
       "  </thead>\n",
       "  <tbody>\n",
       "    <tr>\n",
       "      <th>0</th>\n",
       "      <td>AAAAAAAAA</td>\n",
       "      <td>-1.560000</td>\n",
       "      <td>-1.670000</td>\n",
       "      <td>-0.970000</td>\n",
       "      <td>-0.270000</td>\n",
       "      <td>-0.930000</td>\n",
       "      <td>-0.780000</td>\n",
       "      <td>-0.200000</td>\n",
       "      <td>-0.080000</td>\n",
       "      <td>0.210000</td>\n",
       "      <td>-0.480000</td>\n",
       "    </tr>\n",
       "    <tr>\n",
       "      <th>1</th>\n",
       "      <td>AAAAAAAAC</td>\n",
       "      <td>-1.373333</td>\n",
       "      <td>-1.583333</td>\n",
       "      <td>-0.812222</td>\n",
       "      <td>-0.356667</td>\n",
       "      <td>-0.905556</td>\n",
       "      <td>-0.425556</td>\n",
       "      <td>-0.008889</td>\n",
       "      <td>-0.147778</td>\n",
       "      <td>0.312222</td>\n",
       "      <td>-0.304444</td>\n",
       "    </tr>\n",
       "    <tr>\n",
       "      <th>2</th>\n",
       "      <td>AAAAAAAAD</td>\n",
       "      <td>-1.322222</td>\n",
       "      <td>-1.508889</td>\n",
       "      <td>-1.037778</td>\n",
       "      <td>-0.150000</td>\n",
       "      <td>-0.928889</td>\n",
       "      <td>-0.676667</td>\n",
       "      <td>-0.346667</td>\n",
       "      <td>-0.018889</td>\n",
       "      <td>0.271111</td>\n",
       "      <td>-0.348889</td>\n",
       "    </tr>\n",
       "    <tr>\n",
       "      <th>3</th>\n",
       "      <td>AAAAAAAAE</td>\n",
       "      <td>-1.547778</td>\n",
       "      <td>-1.463333</td>\n",
       "      <td>-1.041111</td>\n",
       "      <td>-0.110000</td>\n",
       "      <td>-0.972222</td>\n",
       "      <td>-0.648889</td>\n",
       "      <td>-0.173333</td>\n",
       "      <td>-0.028889</td>\n",
       "      <td>0.147778</td>\n",
       "      <td>-0.440000</td>\n",
       "    </tr>\n",
       "    <tr>\n",
       "      <th>4</th>\n",
       "      <td>AAAAAAAAF</td>\n",
       "      <td>-1.410000</td>\n",
       "      <td>-1.375556</td>\n",
       "      <td>-0.902222</td>\n",
       "      <td>-0.398889</td>\n",
       "      <td>-0.802222</td>\n",
       "      <td>-0.783333</td>\n",
       "      <td>-0.103333</td>\n",
       "      <td>0.051111</td>\n",
       "      <td>0.376667</td>\n",
       "      <td>-0.475556</td>\n",
       "    </tr>\n",
       "  </tbody>\n",
       "</table>\n",
       "</div>"
      ],
      "text/plain": [
       "     Peptide  helix.bend.pref  side.chain.size  extended.str.pref  \\\n",
       "0  AAAAAAAAA        -1.560000        -1.670000          -0.970000   \n",
       "1  AAAAAAAAC        -1.373333        -1.583333          -0.812222   \n",
       "2  AAAAAAAAD        -1.322222        -1.508889          -1.037778   \n",
       "3  AAAAAAAAE        -1.547778        -1.463333          -1.041111   \n",
       "4  AAAAAAAAF        -1.410000        -1.375556          -0.902222   \n",
       "\n",
       "   hydrophobicity  double.bend.pref  partial.spec.vol  flat.ext.pref  \\\n",
       "0       -0.270000         -0.930000         -0.780000      -0.200000   \n",
       "1       -0.356667         -0.905556         -0.425556      -0.008889   \n",
       "2       -0.150000         -0.928889         -0.676667      -0.346667   \n",
       "3       -0.110000         -0.972222         -0.648889      -0.173333   \n",
       "4       -0.398889         -0.802222         -0.783333      -0.103333   \n",
       "\n",
       "   occurrence.alpha.reg      pK.C  surrounding.hydrop  \n",
       "0             -0.080000  0.210000           -0.480000  \n",
       "1             -0.147778  0.312222           -0.304444  \n",
       "2             -0.018889  0.271111           -0.348889  \n",
       "3             -0.028889  0.147778           -0.440000  \n",
       "4              0.051111  0.376667           -0.475556  "
      ]
     },
     "execution_count": 11,
     "metadata": {},
     "output_type": "execute_result"
    }
   ],
   "source": [
    "pdf = pd.read_csv('output/kidera/hpeptides_9mers_kidera.csv')\n",
    "pdf.head()"
   ]
  },
  {
   "cell_type": "code",
   "execution_count": null,
   "metadata": {
    "collapsed": false
   },
   "outputs": [
    {
     "data": {
      "text/html": [
       "<div>\n",
       "<style scoped>\n",
       "    .dataframe tbody tr th:only-of-type {\n",
       "        vertical-align: middle;\n",
       "    }\n",
       "\n",
       "    .dataframe tbody tr th {\n",
       "        vertical-align: top;\n",
       "    }\n",
       "\n",
       "    .dataframe thead th {\n",
       "        text-align: right;\n",
       "    }\n",
       "</style>\n",
       "<table border=\"1\" class=\"dataframe\">\n",
       "  <thead>\n",
       "    <tr style=\"text-align: right;\">\n",
       "      <th></th>\n",
       "      <th>helix.bend.pref</th>\n",
       "      <th>side.chain.size</th>\n",
       "      <th>extended.str.pref</th>\n",
       "      <th>hydrophobicity</th>\n",
       "      <th>double.bend.pref</th>\n",
       "      <th>partial.spec.vol</th>\n",
       "      <th>flat.ext.pref</th>\n",
       "      <th>occurrence.alpha.reg</th>\n",
       "      <th>pK.C</th>\n",
       "      <th>surrounding.hydrop</th>\n",
       "    </tr>\n",
       "  </thead>\n",
       "  <tbody>\n",
       "    <tr>\n",
       "      <th>count</th>\n",
       "      <td>1.037935e+07</td>\n",
       "      <td>1.037935e+07</td>\n",
       "      <td>1.037935e+07</td>\n",
       "      <td>1.037935e+07</td>\n",
       "      <td>1.037935e+07</td>\n",
       "      <td>1.037935e+07</td>\n",
       "      <td>1.037935e+07</td>\n",
       "      <td>1.037935e+07</td>\n",
       "      <td>1.037935e+07</td>\n",
       "      <td>1.037935e+07</td>\n",
       "    </tr>\n",
       "    <tr>\n",
       "      <th>mean</th>\n",
       "      <td>-4.935839e-02</td>\n",
       "      <td>-2.163736e-01</td>\n",
       "      <td>-3.445414e-02</td>\n",
       "      <td>1.129689e-01</td>\n",
       "      <td>-1.011847e-01</td>\n",
       "      <td>-2.874578e-01</td>\n",
       "      <td>2.783660e-02</td>\n",
       "      <td>-1.101329e-01</td>\n",
       "      <td>-1.376097e-02</td>\n",
       "      <td>2.526550e-02</td>\n",
       "    </tr>\n",
       "    <tr>\n",
       "      <th>std</th>\n",
       "      <td>4.021847e-01</td>\n",
       "      <td>3.518546e-01</td>\n",
       "      <td>3.675174e-01</td>\n",
       "      <td>3.555814e-01</td>\n",
       "      <td>3.266863e-01</td>\n",
       "      <td>3.265830e-01</td>\n",
       "      <td>3.630587e-01</td>\n",
       "      <td>3.891402e-01</td>\n",
       "      <td>2.983429e-01</td>\n",
       "      <td>3.232411e-01</td>\n",
       "    </tr>\n",
       "    <tr>\n",
       "      <th>min</th>\n",
       "      <td>-1.560000e+00</td>\n",
       "      <td>-1.960000e+00</td>\n",
       "      <td>-1.610000e+00</td>\n",
       "      <td>-1.351111e+00</td>\n",
       "      <td>-1.700000e+00</td>\n",
       "      <td>-2.050000e+00</td>\n",
       "      <td>-1.890000e+00</td>\n",
       "      <td>-2.300000e+00</td>\n",
       "      <td>-1.731111e+00</td>\n",
       "      <td>-2.330000e+00</td>\n",
       "    </tr>\n",
       "    <tr>\n",
       "      <th>25%</th>\n",
       "      <td>-3.277778e-01</td>\n",
       "      <td>-4.477778e-01</td>\n",
       "      <td>-2.833333e-01</td>\n",
       "      <td>-1.255556e-01</td>\n",
       "      <td>-3.211111e-01</td>\n",
       "      <td>-5.033333e-01</td>\n",
       "      <td>-2.100000e-01</td>\n",
       "      <td>-3.555556e-01</td>\n",
       "      <td>-2.088889e-01</td>\n",
       "      <td>-1.800000e-01</td>\n",
       "    </tr>\n",
       "    <tr>\n",
       "      <th>50%</th>\n",
       "      <td>-6.222222e-02</td>\n",
       "      <td>-2.077778e-01</td>\n",
       "      <td>-3.777778e-02</td>\n",
       "      <td>1.066667e-01</td>\n",
       "      <td>-1.055556e-01</td>\n",
       "      <td>-2.888889e-01</td>\n",
       "      <td>4.222222e-02</td>\n",
       "      <td>-1.044444e-01</td>\n",
       "      <td>-7.777778e-03</td>\n",
       "      <td>4.444444e-02</td>\n",
       "    </tr>\n",
       "    <tr>\n",
       "      <th>75%</th>\n",
       "      <td>2.133333e-01</td>\n",
       "      <td>2.444444e-02</td>\n",
       "      <td>2.122222e-01</td>\n",
       "      <td>3.444444e-01</td>\n",
       "      <td>1.144444e-01</td>\n",
       "      <td>-7.333333e-02</td>\n",
       "      <td>2.822222e-01</td>\n",
       "      <td>1.433333e-01</td>\n",
       "      <td>1.888889e-01</td>\n",
       "      <td>2.522222e-01</td>\n",
       "    </tr>\n",
       "    <tr>\n",
       "      <th>max</th>\n",
       "      <td>2.060000e+00</td>\n",
       "      <td>1.404444e+00</td>\n",
       "      <td>1.910000e+00</td>\n",
       "      <td>1.870000e+00</td>\n",
       "      <td>1.897778e+00</td>\n",
       "      <td>2.052222e+00</td>\n",
       "      <td>1.435556e+00</td>\n",
       "      <td>2.360000e+00</td>\n",
       "      <td>1.356667e+00</td>\n",
       "      <td>1.630000e+00</td>\n",
       "    </tr>\n",
       "  </tbody>\n",
       "</table>\n",
       "</div>"
      ],
      "text/plain": [
       "       helix.bend.pref  side.chain.size  extended.str.pref  hydrophobicity  \\\n",
       "count     1.037935e+07     1.037935e+07       1.037935e+07    1.037935e+07   \n",
       "mean     -4.935839e-02    -2.163736e-01      -3.445414e-02    1.129689e-01   \n",
       "std       4.021847e-01     3.518546e-01       3.675174e-01    3.555814e-01   \n",
       "min      -1.560000e+00    -1.960000e+00      -1.610000e+00   -1.351111e+00   \n",
       "25%      -3.277778e-01    -4.477778e-01      -2.833333e-01   -1.255556e-01   \n",
       "50%      -6.222222e-02    -2.077778e-01      -3.777778e-02    1.066667e-01   \n",
       "75%       2.133333e-01     2.444444e-02       2.122222e-01    3.444444e-01   \n",
       "max       2.060000e+00     1.404444e+00       1.910000e+00    1.870000e+00   \n",
       "\n",
       "       double.bend.pref  partial.spec.vol  flat.ext.pref  \\\n",
       "count      1.037935e+07      1.037935e+07   1.037935e+07   \n",
       "mean      -1.011847e-01     -2.874578e-01   2.783660e-02   \n",
       "std        3.266863e-01      3.265830e-01   3.630587e-01   \n",
       "min       -1.700000e+00     -2.050000e+00  -1.890000e+00   \n",
       "25%       -3.211111e-01     -5.033333e-01  -2.100000e-01   \n",
       "50%       -1.055556e-01     -2.888889e-01   4.222222e-02   \n",
       "75%        1.144444e-01     -7.333333e-02   2.822222e-01   \n",
       "max        1.897778e+00      2.052222e+00   1.435556e+00   \n",
       "\n",
       "       occurrence.alpha.reg          pK.C  surrounding.hydrop  \n",
       "count          1.037935e+07  1.037935e+07        1.037935e+07  \n",
       "mean          -1.101329e-01 -1.376097e-02        2.526550e-02  \n",
       "std            3.891402e-01  2.983429e-01        3.232411e-01  \n",
       "min           -2.300000e+00 -1.731111e+00       -2.330000e+00  \n",
       "25%           -3.555556e-01 -2.088889e-01       -1.800000e-01  \n",
       "50%           -1.044444e-01 -7.777778e-03        4.444444e-02  \n",
       "75%            1.433333e-01  1.888889e-01        2.522222e-01  \n",
       "max            2.360000e+00  1.356667e+00        1.630000e+00  "
      ]
     },
     "execution_count": 12,
     "metadata": {},
     "output_type": "execute_result"
    }
   ],
   "source": [
    "pdf.describe()"
   ]
  },
  {
   "cell_type": "code",
   "execution_count": null,
   "metadata": {
    "collapsed": true
   },
   "outputs": [],
   "source": [
    "shapiro(pdf)"
   ]
  },
  {
   "cell_type": "code",
   "execution_count": 2,
   "metadata": {
    "collapsed": false
   },
   "outputs": [],
   "source": [
    "import findspark\n",
    "findspark.init(spark_home=\"/home/vcvetkov/Tools/spark-2.2.1-bin-hadoop2.7/\")\n",
    "\n",
    "import pyspark\n",
    "import random"
   ]
  },
  {
   "cell_type": "code",
   "execution_count": 15,
   "metadata": {
    "collapsed": false
   },
   "outputs": [
    {
     "name": "stdout",
     "output_type": "stream",
     "text": [
      "3.1398848\n"
     ]
    }
   ],
   "source": [
    "# pyspark example (estimating pi)\n",
    "sc = pyspark.SparkContext(appName=\"Pi\")\n",
    "num_samples = 100000000\n",
    "\n",
    "def inside(p):     \n",
    "  x, y = random.random(), random.random()\n",
    "  return x*x + y*y < 1\n",
    "\n",
    "count = sc.parallelize(range(0, num_samples)).filter(inside).count()\n",
    "\n",
    "pi = 4 * count / num_samples\n",
    "print(pi)\n",
    "\n",
    "sc.stop()"
   ]
  },
  {
   "cell_type": "code",
   "execution_count": 3,
   "metadata": {
    "collapsed": false
   },
   "outputs": [],
   "source": [
    "sc = pyspark.SparkContext()"
   ]
  },
  {
   "cell_type": "code",
   "execution_count": 7,
   "metadata": {
    "collapsed": false
   },
   "outputs": [
    {
     "ename": "TypeError",
     "evalue": "'DataFrameReader' object is not callable",
     "output_type": "error",
     "traceback": [
      "\u001b[0;31m---------------------------------------------------------------------------\u001b[0m",
      "\u001b[0;31mTypeError\u001b[0m                                 Traceback (most recent call last)",
      "\u001b[0;32m<ipython-input-7-c78b0084dea9>\u001b[0m in \u001b[0;36m<module>\u001b[0;34m()\u001b[0m\n\u001b[1;32m      2\u001b[0m sdf = sqlContext.read(source=\"com.databricks.spark.csv\",\n\u001b[1;32m      3\u001b[0m                       \u001b[0mpath\u001b[0m \u001b[0;34m=\u001b[0m \u001b[0;34m'output/kidera/hpeptides_9mers_kidera.csv'\u001b[0m\u001b[0;34m,\u001b[0m\u001b[0;34m\u001b[0m\u001b[0m\n\u001b[0;32m----> 4\u001b[0;31m                       header = True,inferSchema = True)\n\u001b[0m",
      "\u001b[0;31mTypeError\u001b[0m: 'DataFrameReader' object is not callable"
     ]
    }
   ],
   "source": [
    "sqlContext = pyspark.SQLContext(sc)\n",
    "sdf = sqlContext.read(source=\"com.databricks.spark.csv\",\n",
    "                      path = 'output/kidera/hpeptides_9mers_kidera.csv',\n",
    "                      header = True,inferSchema = True)"
   ]
  },
  {
   "cell_type": "code",
   "execution_count": 8,
   "metadata": {
    "collapsed": false
   },
   "outputs": [],
   "source": [
    "from pyspark.ml.linalg import Vectors\n",
    "# import pyspark.ml.linalg.Vectors.squared_distance as sd\n",
    "Vectors.squared_distance()\n"
   ]
  },
  {
   "cell_type": "code",
   "execution_count": 11,
   "metadata": {
    "collapsed": false
   },
   "outputs": [],
   "source": [
    "df = pd.read_csv(\"data/abelin.csv\")\n",
    "mdf = df.groupby('mhc')"
   ]
  },
  {
   "cell_type": "code",
   "execution_count": 14,
   "metadata": {
    "collapsed": false
   },
   "outputs": [
    {
     "data": {
      "text/plain": [
       "Index(['meas', 'mhc', 'sequence'], dtype='object')"
      ]
     },
     "execution_count": 14,
     "metadata": {},
     "output_type": "execute_result"
    }
   ],
   "source": [
    "df.columns"
   ]
  },
  {
   "cell_type": "code",
   "execution_count": null,
   "metadata": {
    "collapsed": false
   },
   "outputs": [],
   "source": [
    "mdf.get_group('HLA-A*31:01')['sequence']"
   ]
  },
  {
   "cell_type": "code",
   "execution_count": 16,
   "metadata": {
    "collapsed": true
   },
   "outputs": [],
   "source": [
    "for key in mdf.groups.keys():\n",
    "    mdf.get_group(key)['sequence'].to_csv('output/test/'+key+'_testdata.txt', index=False)"
   ]
  },
  {
   "cell_type": "code",
   "execution_count": 18,
   "metadata": {
    "collapsed": true
   },
   "outputs": [],
   "source": [
    "with open('output/test/meta.txt', 'w') as meta:\n",
    "    for key in mdf.groups.keys():\n",
    "        meta.write(key+'\\n')"
   ]
  },
  {
   "cell_type": "markdown",
   "metadata": {},
   "source": [
    "## Analysis"
   ]
  },
  {
   "cell_type": "code",
   "execution_count": 2,
   "metadata": {},
   "outputs": [],
   "source": [
    "idf1 = pd.read_csv('data/immunogenic_peptides.csv')\n",
    "idf2 = pd.read_csv('data/immunogenic_peptides.txt', sep='\\t')\n",
    "idf2 = idf2[idf2['Species']=='Homo']\n",
    "\n",
    "idf1 = idf1.drop(['Epitope Start', 'Epitope End', ' Epitope Source Organism Name'], axis=1)\n",
    "idf1.columns = ['Peptide', 'MHC', 'Length','Immunogenicity']\n",
    "\n",
    "idf2[\"Species\"] = idf2.Peptide.str.len()\n",
    "idf2.columns = ['Peptide', 'MHC', 'Length','Immunogenicity']\n",
    "\n",
    "idf1 = idf1.reset_index(drop=True)\n",
    "idf2 = idf2.reset_index(drop=True)\n",
    "idf = pd.concat([idf1, idf2], axis=0)\n",
    "idf.Immunogenicity = idf.Immunogenicity.map({'immunogenic': 1, 'non-immunogenic': 0,\n",
    "                                             'Positive': 1, 'Negative': 0})\n",
    "idf1 = idf.Peptide.apply(lambda s: alprop_sequence(s))\n",
    "idf = pd.concat([idf, idf1], axis=1)"
   ]
  },
  {
   "cell_type": "code",
   "execution_count": 3,
   "metadata": {},
   "outputs": [
    {
     "data": {
      "text/html": [
       "<div>\n",
       "<table border=\"1\" class=\"dataframe\">\n",
       "  <thead>\n",
       "    <tr style=\"text-align: right;\">\n",
       "      <th></th>\n",
       "      <th>Peptide</th>\n",
       "      <th>MHC</th>\n",
       "      <th>Length</th>\n",
       "      <th>Immunogenicity</th>\n",
       "      <th>alpha</th>\n",
       "      <th>beta</th>\n",
       "      <th>charge</th>\n",
       "      <th>core</th>\n",
       "      <th>hydropathy</th>\n",
       "      <th>pH</th>\n",
       "      <th>...</th>\n",
       "      <th>kf1</th>\n",
       "      <th>kf2</th>\n",
       "      <th>kf3</th>\n",
       "      <th>kf4</th>\n",
       "      <th>kf5</th>\n",
       "      <th>kf6</th>\n",
       "      <th>kf7</th>\n",
       "      <th>kf8</th>\n",
       "      <th>kf9</th>\n",
       "      <th>kf10</th>\n",
       "    </tr>\n",
       "  </thead>\n",
       "  <tbody>\n",
       "    <tr>\n",
       "      <th>0</th>\n",
       "      <td>KLEDLERDL</td>\n",
       "      <td>HLA-A*02:01</td>\n",
       "      <td>9</td>\n",
       "      <td>1</td>\n",
       "      <td>11.05</td>\n",
       "      <td>7.76</td>\n",
       "      <td>-2.0</td>\n",
       "      <td>0.554</td>\n",
       "      <td>-11.0</td>\n",
       "      <td>-4.0</td>\n",
       "      <td>...</td>\n",
       "      <td>-4.98</td>\n",
       "      <td>2.03</td>\n",
       "      <td>-5.96</td>\n",
       "      <td>4.23</td>\n",
       "      <td>-6.27</td>\n",
       "      <td>-6.21</td>\n",
       "      <td>1.99</td>\n",
       "      <td>-1.05</td>\n",
       "      <td>1.92</td>\n",
       "      <td>5.48</td>\n",
       "    </tr>\n",
       "    <tr>\n",
       "      <th>1</th>\n",
       "      <td>DLMGYIPLV</td>\n",
       "      <td>HLA-A*02:01</td>\n",
       "      <td>9</td>\n",
       "      <td>1</td>\n",
       "      <td>8.79</td>\n",
       "      <td>9.48</td>\n",
       "      <td>-1.0</td>\n",
       "      <td>0.511</td>\n",
       "      <td>11.4</td>\n",
       "      <td>-3.0</td>\n",
       "      <td>...</td>\n",
       "      <td>0.53</td>\n",
       "      <td>-1.72</td>\n",
       "      <td>0.77</td>\n",
       "      <td>-4.76</td>\n",
       "      <td>0.92</td>\n",
       "      <td>-4.45</td>\n",
       "      <td>0.07</td>\n",
       "      <td>0.72</td>\n",
       "      <td>-0.38</td>\n",
       "      <td>2.41</td>\n",
       "    </tr>\n",
       "    <tr>\n",
       "      <th>2</th>\n",
       "      <td>QTVTSTPVQGR</td>\n",
       "      <td>HLA-A*68:01</td>\n",
       "      <td>11</td>\n",
       "      <td>1</td>\n",
       "      <td>9.68</td>\n",
       "      <td>11.71</td>\n",
       "      <td>1.0</td>\n",
       "      <td>0.626</td>\n",
       "      <td>-8.0</td>\n",
       "      <td>0.0</td>\n",
       "      <td>...</td>\n",
       "      <td>2.91</td>\n",
       "      <td>-5.14</td>\n",
       "      <td>8.00</td>\n",
       "      <td>4.67</td>\n",
       "      <td>1.97</td>\n",
       "      <td>-0.34</td>\n",
       "      <td>0.91</td>\n",
       "      <td>-6.23</td>\n",
       "      <td>-4.32</td>\n",
       "      <td>-1.91</td>\n",
       "    </tr>\n",
       "    <tr>\n",
       "      <th>3</th>\n",
       "      <td>TTVYPPSSTAK</td>\n",
       "      <td>HLA-A*03:01</td>\n",
       "      <td>11</td>\n",
       "      <td>1</td>\n",
       "      <td>9.29</td>\n",
       "      <td>11.22</td>\n",
       "      <td>1.0</td>\n",
       "      <td>0.626</td>\n",
       "      <td>-6.1</td>\n",
       "      <td>-4.0</td>\n",
       "      <td>...</td>\n",
       "      <td>5.26</td>\n",
       "      <td>-5.00</td>\n",
       "      <td>3.29</td>\n",
       "      <td>1.70</td>\n",
       "      <td>2.15</td>\n",
       "      <td>-5.02</td>\n",
       "      <td>-2.89</td>\n",
       "      <td>-9.42</td>\n",
       "      <td>-2.92</td>\n",
       "      <td>0.85</td>\n",
       "    </tr>\n",
       "    <tr>\n",
       "      <th>4</th>\n",
       "      <td>LITGRLQSL</td>\n",
       "      <td>HLA-A2</td>\n",
       "      <td>9</td>\n",
       "      <td>1</td>\n",
       "      <td>9.30</td>\n",
       "      <td>9.38</td>\n",
       "      <td>1.0</td>\n",
       "      <td>0.579</td>\n",
       "      <td>6.0</td>\n",
       "      <td>1.0</td>\n",
       "      <td>...</td>\n",
       "      <td>-1.57</td>\n",
       "      <td>-2.39</td>\n",
       "      <td>3.65</td>\n",
       "      <td>-0.21</td>\n",
       "      <td>-3.00</td>\n",
       "      <td>-5.40</td>\n",
       "      <td>3.48</td>\n",
       "      <td>-2.81</td>\n",
       "      <td>-0.98</td>\n",
       "      <td>0.03</td>\n",
       "    </tr>\n",
       "  </tbody>\n",
       "</table>\n",
       "<p>5 rows × 29 columns</p>\n",
       "</div>"
      ],
      "text/plain": [
       "       Peptide          MHC  Length  Immunogenicity  alpha   beta  charge  \\\n",
       "0    KLEDLERDL  HLA-A*02:01       9               1  11.05   7.76    -2.0   \n",
       "1    DLMGYIPLV  HLA-A*02:01       9               1   8.79   9.48    -1.0   \n",
       "2  QTVTSTPVQGR  HLA-A*68:01      11               1   9.68  11.71     1.0   \n",
       "3  TTVYPPSSTAK  HLA-A*03:01      11               1   9.29  11.22     1.0   \n",
       "4    LITGRLQSL       HLA-A2       9               1   9.30   9.38     1.0   \n",
       "\n",
       "    core  hydropathy   pH  ...    kf1   kf2   kf3   kf4   kf5   kf6   kf7  \\\n",
       "0  0.554       -11.0 -4.0  ...  -4.98  2.03 -5.96  4.23 -6.27 -6.21  1.99   \n",
       "1  0.511        11.4 -3.0  ...   0.53 -1.72  0.77 -4.76  0.92 -4.45  0.07   \n",
       "2  0.626        -8.0  0.0  ...   2.91 -5.14  8.00  4.67  1.97 -0.34  0.91   \n",
       "3  0.626        -6.1 -4.0  ...   5.26 -5.00  3.29  1.70  2.15 -5.02 -2.89   \n",
       "4  0.579         6.0  1.0  ...  -1.57 -2.39  3.65 -0.21 -3.00 -5.40  3.48   \n",
       "\n",
       "    kf8   kf9  kf10  \n",
       "0 -1.05  1.92  5.48  \n",
       "1  0.72 -0.38  2.41  \n",
       "2 -6.23 -4.32 -1.91  \n",
       "3 -9.42 -2.92  0.85  \n",
       "4 -2.81 -0.98  0.03  \n",
       "\n",
       "[5 rows x 29 columns]"
      ]
     },
     "execution_count": 3,
     "metadata": {},
     "output_type": "execute_result"
    }
   ],
   "source": [
    "idf.head()"
   ]
  },
  {
   "cell_type": "code",
   "execution_count": 4,
   "metadata": {},
   "outputs": [
    {
     "data": {
      "text/plain": [
       "Index(['Peptide', 'MHC', 'Length', 'Immunogenicity', 'alpha', 'beta', 'charge',\n",
       "       'core', 'hydropathy', 'pH', 'polarity', 'rim', 'surface', 'turn',\n",
       "       'volume', 'count', 'strength', 'disorder', 'mjenergy', 'kf1', 'kf2',\n",
       "       'kf3', 'kf4', 'kf5', 'kf6', 'kf7', 'kf8', 'kf9', 'kf10'],\n",
       "      dtype='object')"
      ]
     },
     "execution_count": 4,
     "metadata": {},
     "output_type": "execute_result"
    }
   ],
   "source": [
    "idf.columns"
   ]
  },
  {
   "cell_type": "code",
   "execution_count": 10,
   "metadata": {},
   "outputs": [
    {
     "data": {
      "text/plain": [
       "(9878, 29)"
      ]
     },
     "execution_count": 10,
     "metadata": {},
     "output_type": "execute_result"
    }
   ],
   "source": [
    "idf.shape"
   ]
  },
  {
   "cell_type": "code",
   "execution_count": 9,
   "metadata": {},
   "outputs": [],
   "source": [
    "idf = idf.drop_duplicates('Peptide')"
   ]
  },
  {
   "cell_type": "code",
   "execution_count": 11,
   "metadata": {},
   "outputs": [
    {
     "data": {
      "text/plain": [
       "<matplotlib.axes._subplots.AxesSubplot at 0x7f39e608ee48>"
      ]
     },
     "execution_count": 11,
     "metadata": {},
     "output_type": "execute_result"
    },
    {
     "data": {
      "image/png": "[encoded data removed]",
      "text/plain": [
       "<matplotlib.figure.Figure at 0x7f39e6612ef0>"
      ]
     },
     "metadata": {},
     "output_type": "display_data"
    }
   ],
   "source": [
    "idf[idf['Immunogenicity']==1]['mjenergy'].hist()\n",
    "idf[idf['Immunogenicity']==0]['mjenergy'].hist()"
   ]
  },
  {
   "cell_type": "code",
   "execution_count": 13,
   "metadata": {},
   "outputs": [],
   "source": [
    "features = ['Length', 'mjenergy', 'kf1', 'kf2',\n",
    "       'kf3', 'kf4', 'kf5', 'kf6', 'kf7', 'kf8', 'kf9', 'kf10']"
   ]
  },
  {
   "cell_type": "code",
   "execution_count": 12,
   "metadata": {},
   "outputs": [],
   "source": [
    "from scipy.stats import randint as sp_randint\n",
    "from sklearn.model_selection import RandomizedSearchCV, GridSearchCV\n",
    "from sklearn.model_selection import learning_curve, validation_curve\n",
    "from sklearn.model_selection import train_test_split, cross_val_score\n",
    "from sklearn.model_selection import StratifiedKFold\n",
    "from sklearn.preprocessing import LabelEncoder, StandardScaler\n",
    "from sklearn.decomposition import PCA\n",
    "# Classifiers\n",
    "from sklearn.ensemble import RandomForestClassifier, GradientBoostingClassifier, ExtraTreesClassifier\n",
    "from sklearn.tree import DecisionTreeClassifier\n",
    "# Metrics\n",
    "from sklearn.metrics import roc_auc_score, roc_curve, confusion_matrix, accuracy_score, f1_score"
   ]
  },
  {
   "cell_type": "code",
   "execution_count": 14,
   "metadata": {},
   "outputs": [],
   "source": [
    "skf = StratifiedKFold(n_splits=4)\n",
    "train_index, test_index = next(iter(skf.split(idf[features], idf[\"Immunogenicity\"])))\n",
    "\n",
    "\n",
    "# Removing length from GaussianMixture model decreases roc auc from 0.49 to 0.44\n",
    "X_train = idf[features].iloc[train_index,:]\n",
    "y_train = idf[\"Immunogenicity\"].iloc[train_index]\n",
    "X_test = idf[features].iloc[test_index,:]\n",
    "y_test = idf[\"Immunogenicity\"].iloc[test_index]"
   ]
  },
  {
   "cell_type": "code",
   "execution_count": 15,
   "metadata": {},
   "outputs": [
    {
     "data": {
      "text/html": [
       "<div>\n",
       "<table border=\"1\" class=\"dataframe\">\n",
       "  <thead>\n",
       "    <tr style=\"text-align: right;\">\n",
       "      <th></th>\n",
       "      <th>Importance</th>\n",
       "    </tr>\n",
       "  </thead>\n",
       "  <tbody>\n",
       "    <tr>\n",
       "      <th>kf4</th>\n",
       "      <td>0.332878</td>\n",
       "    </tr>\n",
       "    <tr>\n",
       "      <th>kf7</th>\n",
       "      <td>0.083798</td>\n",
       "    </tr>\n",
       "    <tr>\n",
       "      <th>kf6</th>\n",
       "      <td>0.078887</td>\n",
       "    </tr>\n",
       "    <tr>\n",
       "      <th>kf10</th>\n",
       "      <td>0.066649</td>\n",
       "    </tr>\n",
       "    <tr>\n",
       "      <th>kf8</th>\n",
       "      <td>0.066001</td>\n",
       "    </tr>\n",
       "    <tr>\n",
       "      <th>kf2</th>\n",
       "      <td>0.063965</td>\n",
       "    </tr>\n",
       "    <tr>\n",
       "      <th>kf5</th>\n",
       "      <td>0.062152</td>\n",
       "    </tr>\n",
       "    <tr>\n",
       "      <th>kf3</th>\n",
       "      <td>0.059526</td>\n",
       "    </tr>\n",
       "    <tr>\n",
       "      <th>kf1</th>\n",
       "      <td>0.057913</td>\n",
       "    </tr>\n",
       "    <tr>\n",
       "      <th>kf9</th>\n",
       "      <td>0.056498</td>\n",
       "    </tr>\n",
       "    <tr>\n",
       "      <th>mjenergy</th>\n",
       "      <td>0.055422</td>\n",
       "    </tr>\n",
       "    <tr>\n",
       "      <th>Length</th>\n",
       "      <td>0.016311</td>\n",
       "    </tr>\n",
       "  </tbody>\n",
       "</table>\n",
       "</div>"
      ],
      "text/plain": [
       "          Importance\n",
       "kf4         0.332878\n",
       "kf7         0.083798\n",
       "kf6         0.078887\n",
       "kf10        0.066649\n",
       "kf8         0.066001\n",
       "kf2         0.063965\n",
       "kf5         0.062152\n",
       "kf3         0.059526\n",
       "kf1         0.057913\n",
       "kf9         0.056498\n",
       "mjenergy    0.055422\n",
       "Length      0.016311"
      ]
     },
     "execution_count": 15,
     "metadata": {},
     "output_type": "execute_result"
    }
   ],
   "source": [
    "forest = RandomForestClassifier(100, max_features=None, min_samples_split=3, min_samples_leaf=3,\\\n",
    "                                random_state=42, n_jobs=-1, oob_score=True)\n",
    "forest.fit(X_train, y_train)\n",
    "feats_imp = pd.DataFrame(forest.feature_importances_,\n",
    "                        index=features, \n",
    "                        columns=['Importance']).sort_values(['Importance'], \n",
    "                                                     ascending=False)\n",
    "feats_imp"
   ]
  },
  {
   "cell_type": "code",
   "execution_count": 16,
   "metadata": {},
   "outputs": [
    {
     "data": {
      "image/png": "[encoded data removed]",
      "text/plain": [
       "<matplotlib.figure.Figure at 0x7f39e63c7ef0>"
      ]
     },
     "metadata": {},
     "output_type": "display_data"
    }
   ],
   "source": [
    "f, ax = plt.subplots()\n",
    "plt.title(\"Feature importances\")\n",
    "plt.bar(range(len(feats_imp)), feats_imp['Importance'],\n",
    "       color=\"r\", align=\"center\")\n",
    "plt.xticks(range(len(feats_imp)), feats_imp.index, rotation='vertical')\n",
    "plt.xlim([-1, 11])\n",
    "plt.show()"
   ]
  },
  {
   "cell_type": "code",
   "execution_count": 19,
   "metadata": {},
   "outputs": [
    {
     "name": "stdout",
     "output_type": "stream",
     "text": [
      "                 precision    recall  f1-score   support\n",
      "\n",
      "Non-immunogenic       0.63      0.64      0.63      1193\n",
      "    Immunogenic       0.66      0.65      0.66      1277\n",
      "\n",
      "    avg / total       0.65      0.65      0.65      2470\n",
      "\n"
     ]
    }
   ],
   "source": [
    "from sklearn.metrics import classification_report\n",
    "\n",
    "target_names = ['Non-immunogenic', 'Immunogenic']\n",
    "print(classification_report(y_test, forest.predict(X_test), target_names=target_names))"
   ]
  },
  {
   "cell_type": "code",
   "execution_count": null,
   "metadata": {},
   "outputs": [],
   "source": []
  },
  {
   "cell_type": "code",
   "execution_count": null,
   "metadata": {},
   "outputs": [],
   "source": []
  },
  {
   "cell_type": "code",
   "execution_count": null,
   "metadata": {},
   "outputs": [],
   "source": []
  }
 ],
 "metadata": {
  "anaconda-cloud": {},
  "kernelspec": {
   "display_name": "Python 3",
   "language": "python",
   "name": "python3"
  },
  "language_info": {
   "codemirror_mode": {
    "name": "ipython",
    "version": 3
   },
   "file_extension": ".py",
   "mimetype": "text/x-python",
   "name": "python",
   "nbconvert_exporter": "python",
   "pygments_lexer": "ipython3",
   "version": "3.6.0"
  }
 },
 "nbformat": 4,
 "nbformat_minor": 2
}
