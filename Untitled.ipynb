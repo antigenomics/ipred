{
 "cells": [
  {
   "cell_type": "markdown",
   "metadata": {},
   "source": [
    "Here I am going to find correlation between number of mutual peptides and JS distance of VJ genes of interacting TCRs"
   ]
  },
  {
   "cell_type": "markdown",
   "metadata": {},
   "source": [
    "# Imports"
   ]
  },
  {
   "cell_type": "code",
   "execution_count": 10,
   "metadata": {
    "collapsed": true
   },
   "outputs": [],
   "source": [
    "%matplotlib inline\n",
    "\n",
    "import os\n",
    "from tqdm import tqdm, tqdm_notebook\n",
    "from tqdm import trange\n",
    "from scipy import stats\n",
    "\n",
    "import pandas as pd\n",
    "import numpy as np\n",
    "import networkx as nx\n",
    "import seaborn as sns\n",
    "import matplotlib.pyplot as plt"
   ]
  },
  {
   "cell_type": "markdown",
   "metadata": {},
   "source": [
    "## Some explaratory analysis of metadata"
   ]
  },
  {
   "cell_type": "code",
   "execution_count": 11,
   "metadata": {
    "collapsed": false
   },
   "outputs": [],
   "source": [
    "mdata = pd.read_csv(\"data/hla-overlap/metadata.txt\", sep='\\t') # Reading the metadata"
   ]
  },
  {
   "cell_type": "code",
   "execution_count": 12,
   "metadata": {
    "collapsed": false
   },
   "outputs": [
    {
     "data": {
      "text/plain": [
       "(786, 6)"
      ]
     },
     "execution_count": 12,
     "metadata": {},
     "output_type": "execute_result"
    }
   ],
   "source": [
    "mdata.shape"
   ]
  },
  {
   "cell_type": "code",
   "execution_count": 13,
   "metadata": {
    "collapsed": false
   },
   "outputs": [
    {
     "data": {
      "text/html": [
       "<div>\n",
       "<table border=\"1\" class=\"dataframe\">\n",
       "  <thead>\n",
       "    <tr style=\"text-align: right;\">\n",
       "      <th></th>\n",
       "      <th>sample_id</th>\n",
       "      <th>age</th>\n",
       "      <th>race</th>\n",
       "      <th>sex</th>\n",
       "      <th>cmv</th>\n",
       "      <th>hla</th>\n",
       "    </tr>\n",
       "  </thead>\n",
       "  <tbody>\n",
       "    <tr>\n",
       "      <th>0</th>\n",
       "      <td>HIP08653</td>\n",
       "      <td>52.0</td>\n",
       "      <td>caucasian,non-hispanic or latino</td>\n",
       "      <td>female</td>\n",
       "      <td>+</td>\n",
       "      <td>A*01,A*02,B*07,B*08</td>\n",
       "    </tr>\n",
       "    <tr>\n",
       "      <th>1</th>\n",
       "      <td>HIP13276</td>\n",
       "      <td>53.0</td>\n",
       "      <td>caucasian,non-hispanic or latino</td>\n",
       "      <td>male</td>\n",
       "      <td>-</td>\n",
       "      <td>A*01,A*02,B*07,B*08</td>\n",
       "    </tr>\n",
       "    <tr>\n",
       "      <th>2</th>\n",
       "      <td>HIP14114</td>\n",
       "      <td>57.0</td>\n",
       "      <td>caucasian,non-hispanic or latino</td>\n",
       "      <td>female</td>\n",
       "      <td>-</td>\n",
       "      <td>A*01,A*02,B*07,B*15</td>\n",
       "    </tr>\n",
       "    <tr>\n",
       "      <th>3</th>\n",
       "      <td>HIP03370</td>\n",
       "      <td>41.0</td>\n",
       "      <td>caucasian,non-hispanic or latino</td>\n",
       "      <td>male</td>\n",
       "      <td>+</td>\n",
       "      <td>A*01,A*02,B*07,B*52</td>\n",
       "    </tr>\n",
       "    <tr>\n",
       "      <th>4</th>\n",
       "      <td>HIP13015</td>\n",
       "      <td>39.0</td>\n",
       "      <td>caucasian,non-hispanic or latino</td>\n",
       "      <td>male</td>\n",
       "      <td>-</td>\n",
       "      <td>A*01,A*02,B*07,B*57</td>\n",
       "    </tr>\n",
       "  </tbody>\n",
       "</table>\n",
       "</div>"
      ],
      "text/plain": [
       "  sample_id   age                              race     sex cmv  \\\n",
       "0  HIP08653  52.0  caucasian,non-hispanic or latino  female   +   \n",
       "1  HIP13276  53.0  caucasian,non-hispanic or latino    male   -   \n",
       "2  HIP14114  57.0  caucasian,non-hispanic or latino  female   -   \n",
       "3  HIP03370  41.0  caucasian,non-hispanic or latino    male   +   \n",
       "4  HIP13015  39.0  caucasian,non-hispanic or latino    male   -   \n",
       "\n",
       "                   hla  \n",
       "0  A*01,A*02,B*07,B*08  \n",
       "1  A*01,A*02,B*07,B*08  \n",
       "2  A*01,A*02,B*07,B*15  \n",
       "3  A*01,A*02,B*07,B*52  \n",
       "4  A*01,A*02,B*07,B*57  "
      ]
     },
     "execution_count": 13,
     "metadata": {},
     "output_type": "execute_result"
    }
   ],
   "source": [
    "mdata.head()"
   ]
  },
  {
   "cell_type": "code",
   "execution_count": 14,
   "metadata": {
    "collapsed": false
   },
   "outputs": [
    {
     "data": {
      "text/plain": [
       "<matplotlib.axes._subplots.AxesSubplot at 0x7f87c78937f0>"
      ]
     },
     "execution_count": 14,
     "metadata": {},
     "output_type": "execute_result"
    },
    {
     "data": {
      "image/png": "[encoded data removed]",
      "text/plain": [
       "<matplotlib.figure.Figure at 0x7f87c788dc50>"
      ]
     },
     "metadata": {},
     "output_type": "display_data"
    }
   ],
   "source": [
    "fig = plt.figure(figsize=(10,6))\n",
    "mdata.age.value_counts(sort=False).plot(kind='bar')"
   ]
  },
  {
   "cell_type": "code",
   "execution_count": 15,
   "metadata": {
    "collapsed": false
   },
   "outputs": [
    {
     "data": {
      "text/plain": [
       "caucasian,non-hispanic or latino                    462\n",
       "asian or pacific islander,non-hispanic or latino     46\n",
       "hispanic or latino                                   26\n",
       "black or african american,non-hispanic or latino     11\n",
       "non-hispanic or latino                               10\n",
       "caucasian,hispanic or latino                          3\n",
       "asian or pacific islander,hispanic or latino          1\n",
       "black or african american,hispanic or latino          1\n",
       "Name: race, dtype: int64"
      ]
     },
     "execution_count": 15,
     "metadata": {},
     "output_type": "execute_result"
    }
   ],
   "source": [
    "mdata.race.value_counts()"
   ]
  },
  {
   "cell_type": "code",
   "execution_count": 16,
   "metadata": {
    "collapsed": false
   },
   "outputs": [
    {
     "data": {
      "text/plain": [
       "male      392\n",
       "female    370\n",
       "Name: sex, dtype: int64"
      ]
     },
     "execution_count": 16,
     "metadata": {},
     "output_type": "execute_result"
    }
   ],
   "source": [
    "mdata.sex.value_counts()"
   ]
  },
  {
   "cell_type": "code",
   "execution_count": 17,
   "metadata": {
    "collapsed": false
   },
   "outputs": [
    {
     "data": {
      "text/plain": [
       "-    421\n",
       "+    340\n",
       "Name: cmv, dtype: int64"
      ]
     },
     "execution_count": 17,
     "metadata": {},
     "output_type": "execute_result"
    }
   ],
   "source": [
    "mdata.cmv.value_counts()"
   ]
  },
  {
   "cell_type": "code",
   "execution_count": 41,
   "metadata": {
    "collapsed": false
   },
   "outputs": [
    {
     "data": {
      "text/plain": [
       "array(['A*01', 'A*02', 'A*03', 'A*11', 'A*23', 'A*24', 'A*25', 'A*26',\n",
       "       'A*29', 'A*30', 'A*31', 'A*32', 'A*33', 'A*68', nan, 'A*34', 'A*66',\n",
       "       'A*80', 'A*28', 'A*74', 'A*36', 'A*69', None, 'B*07', 'B*08',\n",
       "       'B*13', 'B*14', 'B*18', 'B*27', 'B*35', 'B*37', 'B*39', 'B*44',\n",
       "       'B*51', 'B*57', 'B*15', 'B*49', 'B*56', 'B*17', 'B*40', 'B*53',\n",
       "       'B*38', 'B*45', 'B*60', 'B*41', 'B*05', 'B*62', 'B*50', 'B*55',\n",
       "       'B*48', 'B*58', 'B*78', 'B*52', 'B*61', 'B*70', 'B*63', 'B*73',\n",
       "       'B*22', 'B*47', 'B*54', 'B*42', 'B*75', 'B*82'], dtype=object)"
      ]
     },
     "execution_count": 41,
     "metadata": {},
     "output_type": "execute_result"
    }
   ],
   "source": [
    "hla = mdata.hla.str.split(',', expand=True)\n",
    "uhla = pd.unique(hla[[0,1,2,3]].values.ravel('K'))\n",
    "uhla"
   ]
  },
  {
   "cell_type": "code",
   "execution_count": 27,
   "metadata": {
    "collapsed": false
   },
   "outputs": [
    {
     "data": {
      "text/html": [
       "<div>\n",
       "<table border=\"1\" class=\"dataframe\">\n",
       "  <thead>\n",
       "    <tr style=\"text-align: right;\">\n",
       "      <th></th>\n",
       "      <th>0</th>\n",
       "    </tr>\n",
       "  </thead>\n",
       "  <tbody>\n",
       "    <tr>\n",
       "      <th>0</th>\n",
       "      <td>HLA-B27:05</td>\n",
       "    </tr>\n",
       "    <tr>\n",
       "      <th>1</th>\n",
       "      <td>HLA-B27:20</td>\n",
       "    </tr>\n",
       "    <tr>\n",
       "      <th>2</th>\n",
       "      <td>HLA-A01:01</td>\n",
       "    </tr>\n",
       "    <tr>\n",
       "      <th>3</th>\n",
       "      <td>HLA-A02:01</td>\n",
       "    </tr>\n",
       "    <tr>\n",
       "      <th>4</th>\n",
       "      <td>HLA-A02:02</td>\n",
       "    </tr>\n",
       "  </tbody>\n",
       "</table>\n",
       "</div>"
      ],
      "text/plain": [
       "            0\n",
       "0  HLA-B27:05\n",
       "1  HLA-B27:20\n",
       "2  HLA-A01:01\n",
       "3  HLA-A02:01\n",
       "4  HLA-A02:02"
      ]
     },
     "execution_count": 27,
     "metadata": {},
     "output_type": "execute_result"
    }
   ],
   "source": [
    "arg = pd.read_csv('bash_code/arguments.txt', header=None)\n",
    "arg.head()"
   ]
  },
  {
   "cell_type": "code",
   "execution_count": 42,
   "metadata": {
    "collapsed": false
   },
   "outputs": [
    {
     "data": {
      "text/html": [
       "<div>\n",
       "<table border=\"1\" class=\"dataframe\">\n",
       "  <thead>\n",
       "    <tr style=\"text-align: right;\">\n",
       "      <th></th>\n",
       "      <th>1</th>\n",
       "    </tr>\n",
       "  </thead>\n",
       "  <tbody>\n",
       "    <tr>\n",
       "      <th>0</th>\n",
       "      <td>A*01</td>\n",
       "    </tr>\n",
       "    <tr>\n",
       "      <th>1</th>\n",
       "      <td>A*02</td>\n",
       "    </tr>\n",
       "    <tr>\n",
       "      <th>2</th>\n",
       "      <td>A*03</td>\n",
       "    </tr>\n",
       "    <tr>\n",
       "      <th>3</th>\n",
       "      <td>A*11</td>\n",
       "    </tr>\n",
       "    <tr>\n",
       "      <th>4</th>\n",
       "      <td>A*23</td>\n",
       "    </tr>\n",
       "  </tbody>\n",
       "</table>\n",
       "</div>"
      ],
      "text/plain": [
       "      1\n",
       "0  A*01\n",
       "1  A*02\n",
       "2  A*03\n",
       "3  A*11\n",
       "4  A*23"
      ]
     },
     "execution_count": 42,
     "metadata": {},
     "output_type": "execute_result"
    }
   ],
   "source": [
    "uhla = pd.DataFrame(uhla, index=range(len(uhla)), columns=[1])\n",
    "uhla.head()"
   ]
  },
  {
   "cell_type": "code",
   "execution_count": 43,
   "metadata": {
    "collapsed": false
   },
   "outputs": [
    {
     "data": {
      "text/html": [
       "<div>\n",
       "<table border=\"1\" class=\"dataframe\">\n",
       "  <thead>\n",
       "    <tr style=\"text-align: right;\">\n",
       "      <th></th>\n",
       "      <th>1</th>\n",
       "    </tr>\n",
       "  </thead>\n",
       "  <tbody>\n",
       "    <tr>\n",
       "      <th>0</th>\n",
       "      <td>HLA-A01:01</td>\n",
       "    </tr>\n",
       "    <tr>\n",
       "      <th>1</th>\n",
       "      <td>HLA-A02:01</td>\n",
       "    </tr>\n",
       "    <tr>\n",
       "      <th>2</th>\n",
       "      <td>HLA-A03:01</td>\n",
       "    </tr>\n",
       "    <tr>\n",
       "      <th>3</th>\n",
       "      <td>HLA-A11:01</td>\n",
       "    </tr>\n",
       "    <tr>\n",
       "      <th>4</th>\n",
       "      <td>HLA-A23:01</td>\n",
       "    </tr>\n",
       "  </tbody>\n",
       "</table>\n",
       "</div>"
      ],
      "text/plain": [
       "            1\n",
       "0  HLA-A01:01\n",
       "1  HLA-A02:01\n",
       "2  HLA-A03:01\n",
       "3  HLA-A11:01\n",
       "4  HLA-A23:01"
      ]
     },
     "execution_count": 43,
     "metadata": {},
     "output_type": "execute_result"
    }
   ],
   "source": [
    "uhla = uhla.apply(lambda x: 'HLA-' + x + ':01')\n",
    "uhla[1] = uhla[1].str.replace(\"*\", \"\")\n",
    "uhla.head()"
   ]
  },
  {
   "cell_type": "code",
   "execution_count": 46,
   "metadata": {
    "collapsed": false
   },
   "outputs": [
    {
     "name": "stdout",
     "output_type": "stream",
     "text": [
      "nan\n",
      "HLA-B75:01\n",
      "HLA-B14:01\n",
      "HLA-B62:01\n",
      "HLA-B44:01\n",
      "HLA-A74:01\n",
      "HLA-B55:01\n",
      "HLA-B50:01\n",
      "HLA-A24:01\n",
      "HLA-B49:01\n",
      "HLA-B56:01\n",
      "HLA-B07:01\n",
      "HLA-B60:01\n",
      "HLA-B47:01\n",
      "HLA-B70:01\n",
      "HLA-B63:01\n",
      "HLA-B82:01\n",
      "HLA-B37:01\n",
      "HLA-A36:01\n",
      "HLA-A29:01\n",
      "HLA-A34:01\n",
      "HLA-A28:01\n",
      "HLA-B41:01\n",
      "HLA-B78:01\n",
      "HLA-B61:01\n",
      "HLA-B52:01\n",
      "HLA-B17:01\n",
      "HLA-B27:01\n",
      "HLA-B05:01\n",
      "HLA-B22:01\n",
      "HLA-B13:01\n"
     ]
    }
   ],
   "source": [
    "for i in set(uhla[1]) - set(arg[0]):\n",
    "    print(i)"
   ]
  },
  {
   "cell_type": "code",
   "execution_count": 48,
   "metadata": {
    "collapsed": false
   },
   "outputs": [
    {
     "name": "stdout",
     "output_type": "stream",
     "text": [
      "/home/vcvetkov/Projects/ipred\n"
     ]
    }
   ],
   "source": [
    "print(os.getcwd())"
   ]
  },
  {
   "cell_type": "markdown",
   "metadata": {},
   "source": [
    "## Checking which alleles were not predicted correctly with netMHCpan"
   ]
  },
  {
   "cell_type": "code",
   "execution_count": 52,
   "metadata": {
    "collapsed": false
   },
   "outputs": [],
   "source": [
    "alleleslist = []\n",
    "emptyalleles = []\n",
    "\n",
    "for file in os.listdir('output/netMHCpan/'):\n",
    "    if os.stat('output/netMHCpan/' + file).st_size == 0:\n",
    "        emptyalleles.append(os.path.basename('output/netMHCpan/' + file))\n",
    "    else:\n",
    "        alleleslist.append(os.path.basename('output/netMHCpan/' + file))"
   ]
  },
  {
   "cell_type": "code",
   "execution_count": 71,
   "metadata": {
    "collapsed": false
   },
   "outputs": [
    {
     "data": {
      "text/plain": [
       "['HLA-B62:01',\n",
       " 'HLA-B75:01',\n",
       " 'HLA-B63:01',\n",
       " 'HLA-B05:01',\n",
       " 'HLA-A28:01',\n",
       " 'HLA-B22:01',\n",
       " 'HLA-B60:01',\n",
       " 'HLA-B17:01',\n",
       " 'HLA-B44:01',\n",
       " 'HLA-B70:01',\n",
       " 'HLA-B61:01',\n",
       " 'HLA-B07:01',\n",
       " 'HLA-A24:01']"
      ]
     },
     "execution_count": 71,
     "metadata": {},
     "output_type": "execute_result"
    }
   ],
   "source": [
    "emptyalleles = [i.split('_')[0] for i in emptyalleles]\n",
    "emptyalleles"
   ]
  },
  {
   "cell_type": "code",
   "execution_count": 80,
   "metadata": {
    "collapsed": false
   },
   "outputs": [
    {
     "data": {
      "text/plain": [
       "['B*56',\n",
       " 'B*27',\n",
       " 'B*14',\n",
       " 'B*47',\n",
       " 'A*34',\n",
       " 'B*41',\n",
       " 'B*78',\n",
       " 'B*82',\n",
       " 'A*74',\n",
       " 'B*37',\n",
       " 'B*52',\n",
       " 'B*55',\n",
       " 'B*13',\n",
       " 'B*50',\n",
       " 'A*36',\n",
       " 'A*29',\n",
       " 'B*49']"
      ]
     },
     "execution_count": 80,
     "metadata": {},
     "output_type": "execute_result"
    }
   ],
   "source": [
    "missingalleles = []\n",
    "import math\n",
    "for k, i in enumerate(set(uhla[1]) - set(arg[0]) - set(emptyalleles)):\n",
    "    if k > 0:\n",
    "        missingalleles.append(i[4] + '*' + i[5:7])\n",
    "missingalleles"
   ]
  },
  {
   "cell_type": "markdown",
   "metadata": {},
   "source": [
    "## DataFrame contains lot's of missing data"
   ]
  },
  {
   "cell_type": "code",
   "execution_count": 64,
   "metadata": {
    "collapsed": false
   },
   "outputs": [
    {
     "data": {
      "text/plain": [
       "sample_id      0\n",
       "age          111\n",
       "race         226\n",
       "sex           24\n",
       "cmv           25\n",
       "hla          160\n",
       "dtype: int64"
      ]
     },
     "execution_count": 64,
     "metadata": {},
     "output_type": "execute_result"
    }
   ],
   "source": [
    "mdata.isnull().sum(axis=0)"
   ]
  },
  {
   "cell_type": "code",
   "execution_count": 65,
   "metadata": {
    "collapsed": true
   },
   "outputs": [],
   "source": [
    "mdata = mdata[mdata.hla.notnull()]"
   ]
  },
  {
   "cell_type": "code",
   "execution_count": 66,
   "metadata": {
    "collapsed": false
   },
   "outputs": [
    {
     "data": {
      "text/plain": [
       "sample_id      0\n",
       "age          108\n",
       "race         212\n",
       "sex           24\n",
       "cmv           25\n",
       "hla            0\n",
       "dtype: int64"
      ]
     },
     "execution_count": 66,
     "metadata": {},
     "output_type": "execute_result"
    }
   ],
   "source": [
    "mdata.isnull().sum(axis=0)"
   ]
  },
  {
   "cell_type": "markdown",
   "metadata": {},
   "source": [
    "## There are few individuals not having incorrectly predicted alleles"
   ]
  },
  {
   "cell_type": "code",
   "execution_count": 84,
   "metadata": {
    "collapsed": false
   },
   "outputs": [
    {
     "data": {
      "text/plain": [
       "(386, 6)"
      ]
     },
     "execution_count": 84,
     "metadata": {},
     "output_type": "execute_result"
    }
   ],
   "source": [
    "mdata[~mdata.hla.str.contains('|'.join(missingalleles))].shape"
   ]
  },
  {
   "cell_type": "code",
   "execution_count": 89,
   "metadata": {
    "collapsed": true
   },
   "outputs": [],
   "source": [
    "cdata = mdata[~mdata.hla.str.contains('|'.join(missingalleles))]"
   ]
  },
  {
   "cell_type": "code",
   "execution_count": 87,
   "metadata": {
    "collapsed": false
   },
   "outputs": [
    {
     "data": {
      "text/plain": [
       "99"
      ]
     },
     "execution_count": 87,
     "metadata": {},
     "output_type": "execute_result"
    }
   ],
   "source": [
    "alleles = []\n",
    "for i in alleleslist:\n",
    "    alleles.append(i[4] + '*' + i[5:7])\n",
    "len(alleles)"
   ]
  },
  {
   "cell_type": "code",
   "execution_count": 90,
   "metadata": {
    "collapsed": false
   },
   "outputs": [
    {
     "data": {
      "text/plain": [
       "(386, 6)"
      ]
     },
     "execution_count": 90,
     "metadata": {},
     "output_type": "execute_result"
    }
   ],
   "source": [
    "cdata[cdata.hla.str.contains('|'.join(alleles))].shape"
   ]
  },
  {
   "cell_type": "code",
   "execution_count": 92,
   "metadata": {
    "collapsed": false
   },
   "outputs": [
    {
     "data": {
      "text/plain": [
       "54"
      ]
     },
     "execution_count": 92,
     "metadata": {},
     "output_type": "execute_result"
    }
   ],
   "source": [
    "sum([True if i[8:10] == \"01\" else False for i in alleleslist])"
   ]
  }
 ],
 "metadata": {
  "anaconda-cloud": {},
  "kernelspec": {
   "display_name": "Python [conda root]",
   "language": "python",
   "name": "conda-root-py"
  },
  "language_info": {
   "codemirror_mode": {
    "name": "ipython",
    "version": 3
   },
   "file_extension": ".py",
   "mimetype": "text/x-python",
   "name": "python",
   "nbconvert_exporter": "python",
   "pygments_lexer": "ipython3",
   "version": "3.5.2"
  }
 },
 "nbformat": 4,
 "nbformat_minor": 1
}
