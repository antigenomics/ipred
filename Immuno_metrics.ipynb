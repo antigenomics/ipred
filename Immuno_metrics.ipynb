{
 "cells": [
  {
   "cell_type": "markdown",
   "metadata": {},
   "source": [
    "### Immuno_metrics\n",
    "\n",
    "In this notebook I am trying to derive an immunological metric"
   ]
  },
  {
   "cell_type": "code",
   "execution_count": 1,
   "metadata": {
    "collapsed": true
   },
   "outputs": [],
   "source": [
    "%matplotlib inline\n",
    "\n",
    "#system and time\n",
    "import os\n",
    "import sys\n",
    "import multiprocessing as mp\n",
    "from tqdm import tqdm, tqdm_notebook, tqdm_pandas\n",
    "from tqdm import trange\n",
    "import time\n",
    "\n",
    "#data manipulation\n",
    "import pandas as pd\n",
    "import numpy as np\n",
    "import networkx as nx\n",
    "import seaborn as sns\n",
    "import matplotlib.pyplot as plt\n",
    "\n",
    "#statistics\n",
    "import itertools\n",
    "from scipy import stats\n",
    "from scipy.stats import shapiro\n",
    "\n",
    "#local modules\n",
    "from modules.kidera import score_positions, score_sequence\n",
    "\n",
    "#jupyter settings\n",
    "import warnings\n",
    "warnings.filterwarnings('ignore')"
   ]
  },
  {
   "cell_type": "code",
   "execution_count": 2,
   "metadata": {
    "collapsed": false
   },
   "outputs": [
    {
     "data": {
      "text/plain": [
       "((6733, 13),\n",
       " (10379346, 12),\n",
       " (10386079, 13),\n",
       " (6733, 13),\n",
       " (10000, 13),\n",
       " (16733, 13))"
      ]
     },
     "execution_count": 2,
     "metadata": {},
     "output_type": "execute_result"
    }
   ],
   "source": [
    "# pdf - human peptidome\n",
    "# idf - immunogenic peptides\n",
    "# tdf - combined df\n",
    "pdf = pd.read_csv('output/kidera/hpeptides_9mers_kidera.csv')\n",
    "idf1 = pd.read_csv('data/immunogenic_peptides.csv')\n",
    "idf2 = pd.read_csv('data/immunogenic_peptides.txt', sep='\\t')\n",
    "idf2 = idf2[idf2['Species']=='Homo']\n",
    "idf1 = idf1[idf1['Length']==9]\n",
    "idf2 = idf2[idf2['Peptide'].str.len()==9]\n",
    "idf1 = idf1.drop(['Epitope Start', 'Epitope End', ' Epitope Source Organism Name', 'Length'], axis=1)\n",
    "idf2 = idf2.drop(['Species'], axis=1)\n",
    "idf1.columns = ['Peptide', 'MHC', 'Immunogenicity']\n",
    "idf1 = idf1.reset_index(drop=True)\n",
    "idf2 = idf2.reset_index(drop=True)\n",
    "idf = pd.concat([idf1, idf2], axis=0)\n",
    "idf.Immunogenicity = idf.Immunogenicity.map({'immunogenic': 1, 'non-immunogenic': 0,\n",
    "                                             'Positive': 1, 'Negative': 0})\n",
    "idf1 = idf.Peptide.apply(lambda s: score_sequence(s))\n",
    "idf = pd.concat([idf, idf1], axis=1)\n",
    "# idf = idf.drop('MHC', axis=1)\n",
    "features = [\"helix.bend.pref\", \"side.chain.size\",\\\n",
    "        \"extended.str.pref\", \"hydrophobicity\", \"double.bend.pref\", \"partial.spec.vol\",\\\n",
    "        \"flat.ext.pref\", \"occurrence.alpha.reg\", \"pK.C\", \"surrounding.hydrop\"]\n",
    "idf.columns = ['Peptide', 'MHC', 'Immunogenicity'] + features\n",
    "pdf['Immunogenicity'] = 2\n",
    "pdf = pdf[['Peptide', 'Immunogenicity'] + features]\n",
    "tdf = pd.concat([idf, pdf], axis=0)\n",
    "\n",
    "# self, noself - self explanatory (pun intended)\n",
    "noself = tdf[(tdf['Immunogenicity']==0) | (tdf['Immunogenicity']==1)]\n",
    "noself = noself.reset_index(drop=True)\n",
    "self = tdf[tdf['Immunogenicity']==2].sample(10000)\n",
    "self = self.reset_index(drop=True)\n",
    "tsne_df = pd.concat([self, noself], axis=0)\n",
    "tsne_df = tsne_df.reset_index(drop=True)\n",
    "idf.shape, pdf.shape, tdf.shape, noself.shape, self.shape, tsne_df.shape"
   ]
  },
  {
   "cell_type": "code",
   "execution_count": 4,
   "metadata": {
    "collapsed": false
   },
   "outputs": [
    {
     "name": "stdout",
     "output_type": "stream",
     "text": [
      "mean helix.bend.pref      is    -0.049    std 0.402\n",
      "mean side.chain.size      is    -0.216    std 0.352\n",
      "mean extended.str.pref    is    -0.034    std 0.368\n",
      "mean hydrophobicity       is    0.113     std 0.356\n",
      "mean double.bend.pref     is    -0.101    std 0.327\n",
      "mean partial.spec.vol     is    -0.287    std 0.327\n",
      "mean flat.ext.pref        is    0.028     std 0.363\n",
      "mean occurrence.alpha.reg is    -0.110    std 0.389\n",
      "mean pK.C                 is    -0.014    std 0.298\n",
      "mean surrounding.hydrop   is    0.025     std 0.323\n"
     ]
    }
   ],
   "source": [
    "center = pdf[features].mean()\n",
    "center_std = pdf[features].std()\n",
    "for i in center.index:\n",
    "    print(\"mean {0:<20} is {1:^12.3f} std {2:>.3f}\".format(i, center[i], center_std[i]))"
   ]
  },
  {
   "cell_type": "code",
   "execution_count": 5,
   "metadata": {
    "collapsed": true
   },
   "outputs": [],
   "source": [
    "cores = mp.cpu_count() #Number of CPU cores on your system\n",
    "partitions = cores #Define as many partitions as you want\n",
    "\n",
    "def np_distance(inds):\n",
    "    return np.linalg.norm(df3[inds[0],:] - df4[inds[1],:])"
   ]
  },
  {
   "cell_type": "code",
   "execution_count": 29,
   "metadata": {
    "collapsed": false
   },
   "outputs": [
    {
     "data": {
      "text/plain": [
       "Index(['Peptide', 'MHC', 'Immunogenicity', 'helix.bend.pref',\n",
       "       'side.chain.size', 'extended.str.pref', 'hydrophobicity',\n",
       "       'double.bend.pref', 'partial.spec.vol', 'flat.ext.pref',\n",
       "       'occurrence.alpha.reg', 'pK.C', 'surrounding.hydrop'],\n",
       "      dtype='object')"
      ]
     },
     "execution_count": 29,
     "metadata": {},
     "output_type": "execute_result"
    }
   ],
   "source": [
    "idf.columns"
   ]
  },
  {
   "cell_type": "code",
   "execution_count": 31,
   "metadata": {
    "collapsed": false
   },
   "outputs": [
    {
     "data": {
      "text/plain": [
       "(810, 13)"
      ]
     },
     "execution_count": 31,
     "metadata": {},
     "output_type": "execute_result"
    }
   ],
   "source": [
    "df3 = idf[idf['Immunogenicity']==1]\n",
    "df3 = df3[df3['MHC']=='HLA-A*02:01']\n",
    "df3.shape"
   ]
  },
  {
   "cell_type": "code",
   "execution_count": 45,
   "metadata": {
    "collapsed": true
   },
   "outputs": [],
   "source": [
    "# df1 = noself[features]\n",
    "# df2 = pdf[features]\n",
    "df3 = df3[features].values\n",
    "df4 = pdf[features].values"
   ]
  },
  {
   "cell_type": "code",
   "execution_count": 37,
   "metadata": {
    "collapsed": false
   },
   "outputs": [
    {
     "name": "stderr",
     "output_type": "stream",
     "text": [
      "100%|██████████| 810/810 [3:05:18<00:00, 13.40s/it]\n"
     ]
    }
   ],
   "source": [
    "# I calculate the distance between kidera factors vectors\n",
    "# for HLA-A*02:01 peptides first as it accounts for most of data\n",
    "dist = []\n",
    "with mp.Pool(cores) as pool:\n",
    "    for j in trange(len(df3)):\n",
    "        imres = np.array(pool.map(np_distance, [(j, i) for i in range(len(pdf))]))\n",
    "        top_ind = np.argpartition(imres, -np.int(len(pdf)*0.05))[-np.int(len(pdf)*0.05):]\n",
    "        dist.append(imres[top_ind].mean())"
   ]
  },
  {
   "cell_type": "code",
   "execution_count": 41,
   "metadata": {
    "collapsed": false
   },
   "outputs": [
    {
     "data": {
      "text/plain": [
       "(86, 13)"
      ]
     },
     "execution_count": 41,
     "metadata": {},
     "output_type": "execute_result"
    }
   ],
   "source": [
    "df3 = idf[idf['Immunogenicity']==0]\n",
    "df3 = df3[df3['MHC']=='HLA-A*02:01']\n",
    "df3.shape"
   ]
  },
  {
   "cell_type": "code",
   "execution_count": null,
   "metadata": {
    "collapsed": false
   },
   "outputs": [],
   "source": [
    "dist1 = []\n",
    "with mp.Pool(cores) as pool:\n",
    "    for j in trange(len(df3)):\n",
    "        imres = np.array(pool.map(np_distance, [(j, i) for i in range(len(pdf))]))\n",
    "        top_ind = np.argpartition(imres, -np.int(len(pdf)*0.05))[-np.int(len(pdf)*0.05):]\n",
    "        dist1.append(imres[top_ind].mean())"
   ]
  },
  {
   "cell_type": "code",
   "execution_count": 42,
   "metadata": {
    "collapsed": true
   },
   "outputs": [],
   "source": [
    "with open('output/prediction/kid_dist.txt', 'w') as file:\n",
    "    for i in dist:\n",
    "        file.write(str(i)+'\\n')"
   ]
  },
  {
   "cell_type": "code",
   "execution_count": null,
   "metadata": {
    "collapsed": true
   },
   "outputs": [],
   "source": [
    "with open('output/prediction/kid_dist1.txt', 'w') as file:\n",
    "    for i in dist1:\n",
    "        file.write(str(i)+'\\n')"
   ]
  },
  {
   "cell_type": "code",
   "execution_count": 26,
   "metadata": {
    "collapsed": false
   },
   "outputs": [],
   "source": [
    "dist=[]\n",
    "with open('output/prediction/kid_dist.txt', 'r') as file:\n",
    "    for line in file:\n",
    "        dist.append(line)\n",
    "\n",
    "dist = list(map(str.strip, dist))\n",
    "dist = [float(i) for i in dist]"
   ]
  },
  {
   "cell_type": "code",
   "execution_count": 27,
   "metadata": {
    "collapsed": false
   },
   "outputs": [
    {
     "data": {
      "text/plain": [
       "<matplotlib.text.Text at 0x7f5104311e80>"
      ]
     },
     "execution_count": 27,
     "metadata": {},
     "output_type": "execute_result"
    },
    {
     "data": {
      "image/png": "[encoded data removed]",
      "text/plain": [
       "<matplotlib.figure.Figure at 0x7f510f93a0b8>"
      ]
     },
     "metadata": {},
     "output_type": "display_data"
    }
   ],
   "source": [
    "values, base = np.histogram(dist, bins=20, density=True)\n",
    "cumulative = np.cumsum(values)\n",
    "# values1, base1 = np.histogram(dist1, bins=20, density=True)\n",
    "# cumulative1 = np.cumsum(values1)\n",
    "plt.plot(base[:-1], cumulative/cumulative[-1], alpha=0.5, color='r', label='Immunogenic')\n",
    "# plt.plot(base1[:-1], cumulative1/cumulative1[-1], alpha=0.5, color='b', label='Non-immunogenic')\n",
    "plt.legend(bbox_to_anchor=[1.3, 1])\n",
    "plt.xlabel(\"Metric\")"
   ]
  },
  {
   "cell_type": "code",
   "execution_count": null,
   "metadata": {
    "collapsed": true
   },
   "outputs": [],
   "source": []
  },
  {
   "cell_type": "code",
   "execution_count": 59,
   "metadata": {
    "collapsed": false
   },
   "outputs": [
    {
     "data": {
      "text/plain": [
       "<matplotlib.text.Text at 0x7f342b0a9828>"
      ]
     },
     "execution_count": 59,
     "metadata": {},
     "output_type": "execute_result"
    },
    {
     "data": {
      "image/png": "[encoded data removed]",
      "text/plain": [
       "<matplotlib.figure.Figure at 0x7f342b2b1160>"
      ]
     },
     "metadata": {},
     "output_type": "display_data"
    }
   ],
   "source": [
    "plt.hist(dist, bins=20, normed=True, cumulative=True, linewidth=1.5,\n",
    "         histtype='step', alpha=0.5, color='r', label='Immunogenic')\n",
    "plt.hist(dist1, bins=20, normed=True, cumulative=True, linewidth=1.5,\n",
    "         histtype='step', alpha=0.5, color='b', label='Non-immunogenic')\n",
    "plt.legend(bbox_to_anchor=[1.3, 1])\n",
    "plt.xlabel(\"Metric\")"
   ]
  },
  {
   "cell_type": "code",
   "execution_count": 79,
   "metadata": {
    "collapsed": false
   },
   "outputs": [
    {
     "data": {
      "image/png": "[encoded data removed]",
      "text/plain": [
       "<matplotlib.figure.Figure at 0x7f341f9ad9b0>"
      ]
     },
     "metadata": {},
     "output_type": "display_data"
    }
   ],
   "source": [
    "plt.boxplot([dist, dist1], labels=['Immunogenic', 'Non-immunogenic']);"
   ]
  },
  {
   "cell_type": "code",
   "execution_count": null,
   "metadata": {
    "collapsed": false
   },
   "outputs": [],
   "source": [
    "cores = mp.cpu_count() #Number of CPU cores on your system\n",
    "partitions = cores #Define as many partitions as you want\n",
    "\n",
    "class Immunodistance:\n",
    "    \n",
    "    def __init__(self, hla, percent, immunogenicity, idf, pdf):\n",
    "        self.percent = percent    \n",
    "        self.idf = idf[(idf['Immunogenicity']==immunogenicity)&(idf['MHC']==hla)][features].values\n",
    "        self.pdf = pdf[features].values\n",
    "    \n",
    "    def distance(self, inds):\n",
    "        return np.linalg.norm(self.idf[inds[0],:] - self.pdf[inds[1],:])\n",
    "\n",
    "    def count_dist(self):\n",
    "        dist = []\n",
    "        percent = self.percent/100\n",
    "        with mp.Pool(cores) as pool:\n",
    "            for j in trange(len(self.idf)):\n",
    "                imres = np.array(pool.map(self.distance, [(j, i) for i in range(len(self.pdf))]))\n",
    "                top_ind = np.argpartition(imres, -np.int(len(self.pdf)*percent))[-np.int(len(self.pdf)*percent):]\n",
    "                dist.append(imres[top_ind].mean())\n",
    "        return dist\n",
    "# This code doesn't work right - it takes 40 minutes for an iteration\n",
    "\n",
    "A0201di = Immunodistance('HLA-A*02:01', 10, 1, idf, pdf)\n",
    "A0201immdist = A0201di.count_dist()\n",
    "A0201di = count_dist('HLA-A*02:01', 1, 10)\n",
    "A0201dn = count_dist('HLA-A*02:01', 0, 10)"
   ]
  },
  {
   "cell_type": "code",
   "execution_count": null,
   "metadata": {
    "collapsed": true
   },
   "outputs": [],
   "source": []
  }
 ],
 "metadata": {
  "anaconda-cloud": {},
  "kernelspec": {
   "display_name": "Python [conda root]",
   "language": "python",
   "name": "conda-root-py"
  },
  "language_info": {
   "codemirror_mode": {
    "name": "ipython",
    "version": 3
   },
   "file_extension": ".py",
   "mimetype": "text/x-python",
   "name": "python",
   "nbconvert_exporter": "python",
   "pygments_lexer": "ipython3",
   "version": "3.5.4"
  }
 },
 "nbformat": 4,
 "nbformat_minor": 1
}
