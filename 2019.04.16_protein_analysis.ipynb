{
 "cells": [
  {
   "cell_type": "code",
   "execution_count": 1,
   "metadata": {
    "collapsed": true
   },
   "outputs": [],
   "source": [
    "%matplotlib inline\n",
    "\n",
    "import os, sys, gc\n",
    "from tqdm import tqdm, tqdm_notebook, tqdm_pandas\n",
    "from tqdm import trange\n",
    "import time\n",
    "from scipy import stats\n",
    "from scipy.stats import shapiro\n",
    "\n",
    "import pandas as pd\n",
    "import numpy as np\n",
    "import networkx as nx\n",
    "import seaborn as sns\n",
    "import matplotlib.pyplot as plt\n",
    "\n",
    "from Bio import SeqIO\n",
    "from collections import Counter\n",
    "\n",
    "from multiprocessing import Pool, Process\n",
    "\n",
    "import itertools\n",
    "from modules.kidera import score_positions, score_sequence\n",
    "\n",
    "from sklearn.decomposition import PCA\n",
    "from sklearn.ensemble import RandomForestClassifier, GradientBoostingClassifier, ExtraTreesClassifier\n",
    "from sklearn.svm import SVC\n",
    "from sklearn.model_selection import train_test_split, cross_val_score, StratifiedKFold\n",
    "from sklearn.metrics import roc_curve, auc\n",
    "\n",
    "from joblib import dump, load\n",
    "\n",
    "import warnings\n",
    "warnings.filterwarnings('ignore')"
   ]
  },
  {
   "cell_type": "code",
   "execution_count": 28,
   "metadata": {
    "collapsed": true
   },
   "outputs": [],
   "source": [
    "aa =   ['A','C','D','E','F','G','H','I','K','L','M','N','P','Q','R','S','T','V','W','Y']\n",
    "ignore = [\"*\", \"U\", \"X\"]\n",
    "viruses = ['CMV_StrainAD169', 'YFV_Strain17D', 'HIV-1_StrainHXB2', 'HCV_StrainIsolateH', 'EBV_StrainAG876']\n",
    "bacteria = ['SHGLsonnei', 'SLMLenteritidis', 'MYPLpneumoniae', 'MYBTsmegmatis', 'SLMLtyphimurium', \n",
    "            'YERSpseudotuberculosis', 'YERSenterocolitica', 'CLMDtrachomatis', 'MYPLsynoviae', 'KLEBpneumoniae',\n",
    "            'CPBTjejuni', 'SHGLflexneri', 'CLOSdificile']\n",
    "kidera = [\"helix.bend.pref\", \"side.chain.size\",\n",
    "           \"extended.str.pref\", \"hydrophobicity\", \"double.bend.pref\", \"partial.spec.vol\",\n",
    "           \"flat.ext.pref\", \"occurrence.alpha.reg\", \"pK.C\", \"surrounding.hydrop\"]"
   ]
  },
  {
   "cell_type": "code",
   "execution_count": 3,
   "metadata": {
    "collapsed": false
   },
   "outputs": [
    {
     "data": {
      "text/plain": [
       "{'CLMDtrachomatis_strain.fasta': 'CLMDtrachomatis',\n",
       " 'CLOSdificile_strain.fasta': 'CLOSdificile',\n",
       " 'CMV_StrainAD169.fasta': 'CMV_StrainAD169',\n",
       " 'CPBTjejuni_strain.fasta': 'CPBTjejuni',\n",
       " 'EBV_StrainAG876.fasta': 'EBV_StrainAG876',\n",
       " 'HCV_StrainIsolateH.fasta': 'HCV_StrainIsolateH',\n",
       " 'HIV-1_StrainHXB2.fasta': 'HIV-1_StrainHXB2',\n",
       " 'KLEBpneumoniae_strain.fasta': 'KLEBpneumoniae',\n",
       " 'MYBTsmegmatis_strain.fasta': 'MYBTsmegmatis',\n",
       " 'MYPLpneumoniae_strain.fasta': 'MYPLpneumoniae',\n",
       " 'MYPLsynoviae_strain.fasta': 'MYPLsynoviae',\n",
       " 'SHGLflexneri_strain.fasta': 'SHGLflexneri',\n",
       " 'SHGLsonnei_strain.fasta': 'SHGLsonnei',\n",
       " 'SLMLenteritidis_strain.fasta': 'SLMLenteritidis',\n",
       " 'SLMLtyphimurium_strain.fasta': 'SLMLtyphimurium',\n",
       " 'UP000005640_9606.fasta': 'Human',\n",
       " 'YERSenterocolitica_strain.fasta': 'YERSenterocolitica',\n",
       " 'YERSpseudotuberculosis_strain.fasta': 'YERSpseudotuberculosis',\n",
       " 'YFV_Strain17D.fasta': 'YFV_Strain17D'}"
      ]
     },
     "execution_count": 3,
     "metadata": {},
     "output_type": "execute_result"
    }
   ],
   "source": [
    "fdict = {}\n",
    "for key in os.listdir(\"data/fasta/\"):\n",
    "    if key.startswith(\"UP0\"):\n",
    "        fdict[key] = \"Human\"\n",
    "    else:\n",
    "        fdict[key] = key.strip(\"strain.fasta\").strip(\"_\")\n",
    "fdict"
   ]
  },
  {
   "cell_type": "code",
   "execution_count": 86,
   "metadata": {
    "collapsed": false
   },
   "outputs": [
    {
     "name": "stdout",
     "output_type": "stream",
     "text": [
      "\n"
     ]
    }
   ],
   "source": [
    "def aa_prot_count(args):\n",
    "    path, species = args\n",
    "    record_dict = SeqIO.index(\"data/fasta/\" + path, \"fasta\")\n",
    "    df = pd.DataFrame(columns=['species', 'protein']+aa)\n",
    "    aa_dict  = Counter()\n",
    "    for key in record_dict.keys():\n",
    "        aa_dict = aa_dict + Counter(record_dict[key].seq)\n",
    "        for amino in list(aa_dict):\n",
    "            if amino in ignore:\n",
    "                del aa_dict[amino]\n",
    "        df1 = pd.DataFrame.from_dict(aa_dict, orient='index').T / sum(aa_dict.values())\n",
    "        df1['species'] = species\n",
    "        df1['protein'] = key\n",
    "        df = pd.concat([df, df1])\n",
    "    return df\n",
    "    \n",
    "with Pool(processes=len(fdict)) as pool:\n",
    "    result = tqdm_notebook(pool.map(aa_prot_count, fdict.items()))\n",
    "\n",
    "df = pd.concat(result, axis=0)\n",
    "df = df.fillna(0)\n",
    "df = df.reset_index(drop=True)"
   ]
  },
  {
   "cell_type": "code",
   "execution_count": 132,
   "metadata": {
    "collapsed": false
   },
   "outputs": [
    {
     "data": {
      "text/html": [
       "<div>\n",
       "<style scoped>\n",
       "    .dataframe tbody tr th:only-of-type {\n",
       "        vertical-align: middle;\n",
       "    }\n",
       "\n",
       "    .dataframe tbody tr th {\n",
       "        vertical-align: top;\n",
       "    }\n",
       "\n",
       "    .dataframe thead th {\n",
       "        text-align: right;\n",
       "    }\n",
       "</style>\n",
       "<table border=\"1\" class=\"dataframe\">\n",
       "  <thead>\n",
       "    <tr style=\"text-align: right;\">\n",
       "      <th></th>\n",
       "      <th>A</th>\n",
       "      <th>C</th>\n",
       "      <th>D</th>\n",
       "      <th>E</th>\n",
       "      <th>F</th>\n",
       "      <th>G</th>\n",
       "      <th>H</th>\n",
       "      <th>I</th>\n",
       "      <th>K</th>\n",
       "      <th>L</th>\n",
       "      <th>...</th>\n",
       "      <th>P</th>\n",
       "      <th>Q</th>\n",
       "      <th>R</th>\n",
       "      <th>S</th>\n",
       "      <th>T</th>\n",
       "      <th>V</th>\n",
       "      <th>W</th>\n",
       "      <th>Y</th>\n",
       "      <th>protein</th>\n",
       "      <th>species</th>\n",
       "    </tr>\n",
       "  </thead>\n",
       "  <tbody>\n",
       "    <tr>\n",
       "      <th>0</th>\n",
       "      <td>0.097595</td>\n",
       "      <td>0.042433</td>\n",
       "      <td>0.060820</td>\n",
       "      <td>0.056577</td>\n",
       "      <td>0.029703</td>\n",
       "      <td>0.065064</td>\n",
       "      <td>0.036775</td>\n",
       "      <td>0.024045</td>\n",
       "      <td>0.019802</td>\n",
       "      <td>0.097595</td>\n",
       "      <td>...</td>\n",
       "      <td>0.045262</td>\n",
       "      <td>0.031117</td>\n",
       "      <td>0.099010</td>\n",
       "      <td>0.083451</td>\n",
       "      <td>0.059406</td>\n",
       "      <td>0.072136</td>\n",
       "      <td>0.008487</td>\n",
       "      <td>0.025460</td>\n",
       "      <td>sp|P16788|UL97_HCMVA</td>\n",
       "      <td>CMV_StrainAD169</td>\n",
       "    </tr>\n",
       "    <tr>\n",
       "      <th>1</th>\n",
       "      <td>0.093590</td>\n",
       "      <td>0.041026</td>\n",
       "      <td>0.058974</td>\n",
       "      <td>0.052564</td>\n",
       "      <td>0.034615</td>\n",
       "      <td>0.065385</td>\n",
       "      <td>0.034615</td>\n",
       "      <td>0.025641</td>\n",
       "      <td>0.021795</td>\n",
       "      <td>0.100000</td>\n",
       "      <td>...</td>\n",
       "      <td>0.047436</td>\n",
       "      <td>0.029487</td>\n",
       "      <td>0.101282</td>\n",
       "      <td>0.084615</td>\n",
       "      <td>0.057692</td>\n",
       "      <td>0.071795</td>\n",
       "      <td>0.008974</td>\n",
       "      <td>0.023077</td>\n",
       "      <td>sp|P16777|UL12_HCMVA</td>\n",
       "      <td>CMV_StrainAD169</td>\n",
       "    </tr>\n",
       "    <tr>\n",
       "      <th>2</th>\n",
       "      <td>0.081778</td>\n",
       "      <td>0.051556</td>\n",
       "      <td>0.059556</td>\n",
       "      <td>0.050667</td>\n",
       "      <td>0.034667</td>\n",
       "      <td>0.071111</td>\n",
       "      <td>0.033778</td>\n",
       "      <td>0.030222</td>\n",
       "      <td>0.026667</td>\n",
       "      <td>0.098667</td>\n",
       "      <td>...</td>\n",
       "      <td>0.048889</td>\n",
       "      <td>0.030222</td>\n",
       "      <td>0.088000</td>\n",
       "      <td>0.078222</td>\n",
       "      <td>0.058667</td>\n",
       "      <td>0.071111</td>\n",
       "      <td>0.011556</td>\n",
       "      <td>0.027556</td>\n",
       "      <td>sp|P16800|CEP2_HCMVA</td>\n",
       "      <td>CMV_StrainAD169</td>\n",
       "    </tr>\n",
       "    <tr>\n",
       "      <th>3</th>\n",
       "      <td>0.080792</td>\n",
       "      <td>0.038523</td>\n",
       "      <td>0.066346</td>\n",
       "      <td>0.049759</td>\n",
       "      <td>0.029963</td>\n",
       "      <td>0.067416</td>\n",
       "      <td>0.042804</td>\n",
       "      <td>0.027287</td>\n",
       "      <td>0.026752</td>\n",
       "      <td>0.093098</td>\n",
       "      <td>...</td>\n",
       "      <td>0.067951</td>\n",
       "      <td>0.040663</td>\n",
       "      <td>0.084002</td>\n",
       "      <td>0.080792</td>\n",
       "      <td>0.058320</td>\n",
       "      <td>0.059390</td>\n",
       "      <td>0.008561</td>\n",
       "      <td>0.028892</td>\n",
       "      <td>sp|P16749|ICP27_HCMVA</td>\n",
       "      <td>CMV_StrainAD169</td>\n",
       "    </tr>\n",
       "    <tr>\n",
       "      <th>4</th>\n",
       "      <td>0.080864</td>\n",
       "      <td>0.036665</td>\n",
       "      <td>0.064289</td>\n",
       "      <td>0.050226</td>\n",
       "      <td>0.029131</td>\n",
       "      <td>0.065796</td>\n",
       "      <td>0.040683</td>\n",
       "      <td>0.030136</td>\n",
       "      <td>0.027122</td>\n",
       "      <td>0.091914</td>\n",
       "      <td>...</td>\n",
       "      <td>0.066801</td>\n",
       "      <td>0.041185</td>\n",
       "      <td>0.081366</td>\n",
       "      <td>0.079859</td>\n",
       "      <td>0.062280</td>\n",
       "      <td>0.059267</td>\n",
       "      <td>0.009543</td>\n",
       "      <td>0.031140</td>\n",
       "      <td>sp|P16744|UL08_HCMVA</td>\n",
       "      <td>CMV_StrainAD169</td>\n",
       "    </tr>\n",
       "  </tbody>\n",
       "</table>\n",
       "<p>5 rows × 22 columns</p>\n",
       "</div>"
      ],
      "text/plain": [
       "          A         C         D         E         F         G         H  \\\n",
       "0  0.097595  0.042433  0.060820  0.056577  0.029703  0.065064  0.036775   \n",
       "1  0.093590  0.041026  0.058974  0.052564  0.034615  0.065385  0.034615   \n",
       "2  0.081778  0.051556  0.059556  0.050667  0.034667  0.071111  0.033778   \n",
       "3  0.080792  0.038523  0.066346  0.049759  0.029963  0.067416  0.042804   \n",
       "4  0.080864  0.036665  0.064289  0.050226  0.029131  0.065796  0.040683   \n",
       "\n",
       "          I         K         L       ...                P         Q  \\\n",
       "0  0.024045  0.019802  0.097595       ...         0.045262  0.031117   \n",
       "1  0.025641  0.021795  0.100000       ...         0.047436  0.029487   \n",
       "2  0.030222  0.026667  0.098667       ...         0.048889  0.030222   \n",
       "3  0.027287  0.026752  0.093098       ...         0.067951  0.040663   \n",
       "4  0.030136  0.027122  0.091914       ...         0.066801  0.041185   \n",
       "\n",
       "          R         S         T         V         W         Y  \\\n",
       "0  0.099010  0.083451  0.059406  0.072136  0.008487  0.025460   \n",
       "1  0.101282  0.084615  0.057692  0.071795  0.008974  0.023077   \n",
       "2  0.088000  0.078222  0.058667  0.071111  0.011556  0.027556   \n",
       "3  0.084002  0.080792  0.058320  0.059390  0.008561  0.028892   \n",
       "4  0.081366  0.079859  0.062280  0.059267  0.009543  0.031140   \n",
       "\n",
       "                 protein          species  \n",
       "0   sp|P16788|UL97_HCMVA  CMV_StrainAD169  \n",
       "1   sp|P16777|UL12_HCMVA  CMV_StrainAD169  \n",
       "2   sp|P16800|CEP2_HCMVA  CMV_StrainAD169  \n",
       "3  sp|P16749|ICP27_HCMVA  CMV_StrainAD169  \n",
       "4   sp|P16744|UL08_HCMVA  CMV_StrainAD169  \n",
       "\n",
       "[5 rows x 22 columns]"
      ]
     },
     "execution_count": 132,
     "metadata": {},
     "output_type": "execute_result"
    }
   ],
   "source": [
    "df.head()"
   ]
  },
  {
   "cell_type": "code",
   "execution_count": 24,
   "metadata": {
    "collapsed": false
   },
   "outputs": [
    {
     "data": {
      "text/html": [
       "<div>\n",
       "<style scoped>\n",
       "    .dataframe tbody tr th:only-of-type {\n",
       "        vertical-align: middle;\n",
       "    }\n",
       "\n",
       "    .dataframe tbody tr th {\n",
       "        vertical-align: top;\n",
       "    }\n",
       "\n",
       "    .dataframe thead th {\n",
       "        text-align: right;\n",
       "    }\n",
       "</style>\n",
       "<table border=\"1\" class=\"dataframe\">\n",
       "  <thead>\n",
       "    <tr style=\"text-align: right;\">\n",
       "      <th></th>\n",
       "      <th>pc1</th>\n",
       "      <th>pc2</th>\n",
       "      <th>species</th>\n",
       "    </tr>\n",
       "  </thead>\n",
       "  <tbody>\n",
       "    <tr>\n",
       "      <th>0</th>\n",
       "      <td>0.042277</td>\n",
       "      <td>0.036992</td>\n",
       "      <td>virus</td>\n",
       "    </tr>\n",
       "    <tr>\n",
       "      <th>1</th>\n",
       "      <td>0.039020</td>\n",
       "      <td>0.036611</td>\n",
       "      <td>virus</td>\n",
       "    </tr>\n",
       "    <tr>\n",
       "      <th>2</th>\n",
       "      <td>0.027458</td>\n",
       "      <td>0.034568</td>\n",
       "      <td>virus</td>\n",
       "    </tr>\n",
       "    <tr>\n",
       "      <th>3</th>\n",
       "      <td>0.026096</td>\n",
       "      <td>0.046994</td>\n",
       "      <td>virus</td>\n",
       "    </tr>\n",
       "    <tr>\n",
       "      <th>4</th>\n",
       "      <td>0.023504</td>\n",
       "      <td>0.043325</td>\n",
       "      <td>virus</td>\n",
       "    </tr>\n",
       "  </tbody>\n",
       "</table>\n",
       "</div>"
      ],
      "text/plain": [
       "        pc1       pc2 species\n",
       "0  0.042277  0.036992   virus\n",
       "1  0.039020  0.036611   virus\n",
       "2  0.027458  0.034568   virus\n",
       "3  0.026096  0.046994   virus\n",
       "4  0.023504  0.043325   virus"
      ]
     },
     "execution_count": 24,
     "metadata": {},
     "output_type": "execute_result"
    }
   ],
   "source": [
    "def group_name(name):\n",
    "    if name in viruses:\n",
    "        return 'virus'\n",
    "    elif name in bacteria:\n",
    "        return 'bacterium'\n",
    "    elif name in 'Human':\n",
    "        return 'human'\n",
    "\n",
    "pca = PCA(n_components=2)\n",
    "\n",
    "pctd = pca.fit_transform(df[aa])\n",
    "pcdf = pd.DataFrame(data = pctd, columns = ['pc1', 'pc2'])\n",
    "pcdf['species'] = df.species\n",
    "\n",
    "pcdf.species = pcdf.species.apply(lambda x: group_name(x))\n",
    "pcdf.head()"
   ]
  },
  {
   "cell_type": "code",
   "execution_count": 26,
   "metadata": {
    "collapsed": false
   },
   "outputs": [
    {
     "data": {
      "image/png": "[encoded data removed]",
      "text/plain": [
       "<matplotlib.figure.Figure at 0x7f9162bd2470>"
      ]
     },
     "metadata": {},
     "output_type": "display_data"
    }
   ],
   "source": [
    "fig = plt.figure(figsize = (6,6))\n",
    "ax = fig.add_subplot(1,1,1) \n",
    "ax.set_xlabel('PC1', fontsize = 15)\n",
    "ax.set_ylabel('PC2', fontsize = 15)\n",
    "ax.set_title('PCA', fontsize = 20)\n",
    "\n",
    "targets = pcdf.species.unique()\n",
    "colours = ['r', 'g', 'b']\n",
    "for target, colour in zip(targets,colours):\n",
    "    indicesToKeep = pcdf['species'] == target\n",
    "    ax.scatter(pcdf.loc[indicesToKeep, 'pc1']\n",
    "               , pcdf.loc[indicesToKeep, 'pc2']\n",
    "               , c = colour\n",
    "               , s = 50)\n",
    "ax.legend(targets)\n",
    "ax.grid()"
   ]
  },
  {
   "cell_type": "code",
   "execution_count": 27,
   "metadata": {
    "collapsed": false
   },
   "outputs": [
    {
     "data": {
      "text/plain": [
       "(70067, 22)"
      ]
     },
     "execution_count": 27,
     "metadata": {},
     "output_type": "execute_result"
    }
   ],
   "source": [
    "df.shape"
   ]
  },
  {
   "cell_type": "code",
   "execution_count": 75,
   "metadata": {
    "collapsed": false
   },
   "outputs": [],
   "source": [
    "def aa_kidera(args):\n",
    "    path, species = args\n",
    "    record_dict = SeqIO.index(\"data/fasta/\" + path, \"fasta\")\n",
    "    df = pd.DataFrame(columns=['species', 'protein']+kidera)\n",
    "    for key in record_dict.keys():\n",
    "        d = score_sequence(record_dict[key].seq, norm=True)\n",
    "        df1 = pd.DataFrame(d).T\n",
    "        df1.columns = kidera\n",
    "        df1['species'] = species\n",
    "        df1['protein'] = key\n",
    "        df = pd.concat([df, df1])\n",
    "    return df\n",
    "    \n",
    "with Pool(processes=len(fdict)) as pool:\n",
    "    result = pool.map(aa_kidera, fdict.items())\n",
    "\n",
    "kdf = pd.concat(result, axis=0)"
   ]
  },
  {
   "cell_type": "code",
   "execution_count": 76,
   "metadata": {
    "collapsed": false
   },
   "outputs": [
    {
     "data": {
      "text/html": [
       "<div>\n",
       "<style scoped>\n",
       "    .dataframe tbody tr th:only-of-type {\n",
       "        vertical-align: middle;\n",
       "    }\n",
       "\n",
       "    .dataframe tbody tr th {\n",
       "        vertical-align: top;\n",
       "    }\n",
       "\n",
       "    .dataframe thead th {\n",
       "        text-align: right;\n",
       "    }\n",
       "</style>\n",
       "<table border=\"1\" class=\"dataframe\">\n",
       "  <thead>\n",
       "    <tr style=\"text-align: right;\">\n",
       "      <th></th>\n",
       "      <th>double.bend.pref</th>\n",
       "      <th>extended.str.pref</th>\n",
       "      <th>flat.ext.pref</th>\n",
       "      <th>helix.bend.pref</th>\n",
       "      <th>hydrophobicity</th>\n",
       "      <th>occurrence.alpha.reg</th>\n",
       "      <th>pK.C</th>\n",
       "      <th>partial.spec.vol</th>\n",
       "      <th>protein</th>\n",
       "      <th>side.chain.size</th>\n",
       "      <th>species</th>\n",
       "      <th>surrounding.hydrop</th>\n",
       "    </tr>\n",
       "  </thead>\n",
       "  <tbody>\n",
       "    <tr>\n",
       "      <th>0</th>\n",
       "      <td>-0.254470</td>\n",
       "      <td>0.036124</td>\n",
       "      <td>-0.008416</td>\n",
       "      <td>-0.087765</td>\n",
       "      <td>0.110863</td>\n",
       "      <td>-0.120184</td>\n",
       "      <td>0.009434</td>\n",
       "      <td>-0.173989</td>\n",
       "      <td>sp|P16788|UL97_HCMVA</td>\n",
       "      <td>-0.276591</td>\n",
       "      <td>CMV_StrainAD169</td>\n",
       "      <td>0.196337</td>\n",
       "    </tr>\n",
       "    <tr>\n",
       "      <th>1</th>\n",
       "      <td>-0.183836</td>\n",
       "      <td>0.127123</td>\n",
       "      <td>0.118082</td>\n",
       "      <td>0.038767</td>\n",
       "      <td>0.008493</td>\n",
       "      <td>-0.136986</td>\n",
       "      <td>0.084110</td>\n",
       "      <td>-0.332877</td>\n",
       "      <td>sp|P16777|UL12_HCMVA</td>\n",
       "      <td>-0.154658</td>\n",
       "      <td>CMV_StrainAD169</td>\n",
       "      <td>0.136712</td>\n",
       "    </tr>\n",
       "    <tr>\n",
       "      <th>2</th>\n",
       "      <td>-0.131913</td>\n",
       "      <td>0.060667</td>\n",
       "      <td>0.090986</td>\n",
       "      <td>0.009333</td>\n",
       "      <td>-0.030928</td>\n",
       "      <td>-0.061536</td>\n",
       "      <td>-0.002058</td>\n",
       "      <td>-0.108986</td>\n",
       "      <td>sp|P16800|CEP2_HCMVA</td>\n",
       "      <td>-0.253826</td>\n",
       "      <td>CMV_StrainAD169</td>\n",
       "      <td>0.202580</td>\n",
       "    </tr>\n",
       "    <tr>\n",
       "      <th>3</th>\n",
       "      <td>-0.073401</td>\n",
       "      <td>-0.115282</td>\n",
       "      <td>-0.065806</td>\n",
       "      <td>0.081250</td>\n",
       "      <td>0.154704</td>\n",
       "      <td>-0.212164</td>\n",
       "      <td>0.058737</td>\n",
       "      <td>-0.173266</td>\n",
       "      <td>sp|P16749|ICP27_HCMVA</td>\n",
       "      <td>-0.231734</td>\n",
       "      <td>CMV_StrainAD169</td>\n",
       "      <td>0.104207</td>\n",
       "    </tr>\n",
       "    <tr>\n",
       "      <th>4</th>\n",
       "      <td>-0.132131</td>\n",
       "      <td>0.164098</td>\n",
       "      <td>-0.048689</td>\n",
       "      <td>-0.002377</td>\n",
       "      <td>0.095410</td>\n",
       "      <td>-0.103689</td>\n",
       "      <td>-0.057705</td>\n",
       "      <td>-0.216967</td>\n",
       "      <td>sp|P16744|UL08_HCMVA</td>\n",
       "      <td>-0.187459</td>\n",
       "      <td>CMV_StrainAD169</td>\n",
       "      <td>-0.177951</td>\n",
       "    </tr>\n",
       "  </tbody>\n",
       "</table>\n",
       "</div>"
      ],
      "text/plain": [
       "   double.bend.pref  extended.str.pref  flat.ext.pref  helix.bend.pref  \\\n",
       "0         -0.254470           0.036124      -0.008416        -0.087765   \n",
       "1         -0.183836           0.127123       0.118082         0.038767   \n",
       "2         -0.131913           0.060667       0.090986         0.009333   \n",
       "3         -0.073401          -0.115282      -0.065806         0.081250   \n",
       "4         -0.132131           0.164098      -0.048689        -0.002377   \n",
       "\n",
       "   hydrophobicity  occurrence.alpha.reg      pK.C  partial.spec.vol  \\\n",
       "0        0.110863             -0.120184  0.009434         -0.173989   \n",
       "1        0.008493             -0.136986  0.084110         -0.332877   \n",
       "2       -0.030928             -0.061536 -0.002058         -0.108986   \n",
       "3        0.154704             -0.212164  0.058737         -0.173266   \n",
       "4        0.095410             -0.103689 -0.057705         -0.216967   \n",
       "\n",
       "                 protein  side.chain.size          species  surrounding.hydrop  \n",
       "0   sp|P16788|UL97_HCMVA        -0.276591  CMV_StrainAD169            0.196337  \n",
       "1   sp|P16777|UL12_HCMVA        -0.154658  CMV_StrainAD169            0.136712  \n",
       "2   sp|P16800|CEP2_HCMVA        -0.253826  CMV_StrainAD169            0.202580  \n",
       "3  sp|P16749|ICP27_HCMVA        -0.231734  CMV_StrainAD169            0.104207  \n",
       "4   sp|P16744|UL08_HCMVA        -0.187459  CMV_StrainAD169           -0.177951  "
      ]
     },
     "execution_count": 76,
     "metadata": {},
     "output_type": "execute_result"
    }
   ],
   "source": [
    "kdf = kdf.reset_index(drop=True)\n",
    "kdf.head()"
   ]
  },
  {
   "cell_type": "code",
   "execution_count": 77,
   "metadata": {
    "collapsed": false
   },
   "outputs": [
    {
     "data": {
      "text/html": [
       "<div>\n",
       "<style scoped>\n",
       "    .dataframe tbody tr th:only-of-type {\n",
       "        vertical-align: middle;\n",
       "    }\n",
       "\n",
       "    .dataframe tbody tr th {\n",
       "        vertical-align: top;\n",
       "    }\n",
       "\n",
       "    .dataframe thead th {\n",
       "        text-align: right;\n",
       "    }\n",
       "</style>\n",
       "<table border=\"1\" class=\"dataframe\">\n",
       "  <thead>\n",
       "    <tr style=\"text-align: right;\">\n",
       "      <th></th>\n",
       "      <th>pc1</th>\n",
       "      <th>pc2</th>\n",
       "      <th>species</th>\n",
       "    </tr>\n",
       "  </thead>\n",
       "  <tbody>\n",
       "    <tr>\n",
       "      <th>0</th>\n",
       "      <td>0.055257</td>\n",
       "      <td>0.168783</td>\n",
       "      <td>virus</td>\n",
       "    </tr>\n",
       "    <tr>\n",
       "      <th>1</th>\n",
       "      <td>-0.011615</td>\n",
       "      <td>0.053773</td>\n",
       "      <td>virus</td>\n",
       "    </tr>\n",
       "    <tr>\n",
       "      <th>2</th>\n",
       "      <td>-0.015979</td>\n",
       "      <td>0.164156</td>\n",
       "      <td>virus</td>\n",
       "    </tr>\n",
       "    <tr>\n",
       "      <th>3</th>\n",
       "      <td>0.201985</td>\n",
       "      <td>0.221497</td>\n",
       "      <td>virus</td>\n",
       "    </tr>\n",
       "    <tr>\n",
       "      <th>4</th>\n",
       "      <td>0.043632</td>\n",
       "      <td>-0.004502</td>\n",
       "      <td>virus</td>\n",
       "    </tr>\n",
       "  </tbody>\n",
       "</table>\n",
       "</div>"
      ],
      "text/plain": [
       "        pc1       pc2 species\n",
       "0  0.055257  0.168783   virus\n",
       "1 -0.011615  0.053773   virus\n",
       "2 -0.015979  0.164156   virus\n",
       "3  0.201985  0.221497   virus\n",
       "4  0.043632 -0.004502   virus"
      ]
     },
     "execution_count": 77,
     "metadata": {},
     "output_type": "execute_result"
    }
   ],
   "source": [
    "def group_name(name):\n",
    "    if name in viruses:\n",
    "        return 'virus'\n",
    "    elif name in bacteria:\n",
    "        return 'bacterium'\n",
    "    elif name in 'Human':\n",
    "        return 'human'\n",
    "\n",
    "pca = PCA(n_components=2)\n",
    "\n",
    "pctd = pca.fit_transform(kdf[kidera])\n",
    "pcdf = pd.DataFrame(data = pctd, columns = ['pc1', 'pc2'])\n",
    "pcdf['species'] = kdf['species']\n",
    "pcdf.species = pcdf.species.apply(lambda x: group_name(x))\n",
    "pcdf.head()"
   ]
  },
  {
   "cell_type": "code",
   "execution_count": 78,
   "metadata": {
    "collapsed": false
   },
   "outputs": [
    {
     "data": {
      "image/png": "[encoded data removed]",
      "text/plain": [
       "<matplotlib.figure.Figure at 0x7f917ef98978>"
      ]
     },
     "metadata": {},
     "output_type": "display_data"
    }
   ],
   "source": [
    "fig = plt.figure(figsize = (6,6))\n",
    "ax = fig.add_subplot(1,1,1) \n",
    "ax.set_xlabel('PC1', fontsize = 15)\n",
    "ax.set_ylabel('PC2', fontsize = 15)\n",
    "ax.set_title('PCA', fontsize = 20)\n",
    "\n",
    "targets = pcdf.species.unique()\n",
    "colours = ['r', 'g', 'b']\n",
    "for target, colour in zip(targets[::-1],colours):\n",
    "    indicesToKeep = pcdf['species'] == target\n",
    "    ax.scatter(pcdf.loc[indicesToKeep, 'pc1']\n",
    "               , pcdf.loc[indicesToKeep, 'pc2']\n",
    "               , c = colour\n",
    "               , s = 50)\n",
    "ax.legend(targets)\n",
    "ax.grid()"
   ]
  },
  {
   "cell_type": "code",
   "execution_count": 79,
   "metadata": {
    "collapsed": false
   },
   "outputs": [],
   "source": [
    "kdf.species = kdf.species.apply(lambda x: group_name(x))"
   ]
  },
  {
   "cell_type": "code",
   "execution_count": 80,
   "metadata": {
    "collapsed": false
   },
   "outputs": [
    {
     "data": {
      "text/plain": [
       "species\n",
       "bacterium    0.072684\n",
       "human        0.093024\n",
       "virus        0.051103\n",
       "Name: hydrophobicity, dtype: float64"
      ]
     },
     "execution_count": 80,
     "metadata": {},
     "output_type": "execute_result"
    }
   ],
   "source": [
    "kdf.groupby('species')['hydrophobicity'].median()"
   ]
  },
  {
   "cell_type": "code",
   "execution_count": 81,
   "metadata": {
    "collapsed": false
   },
   "outputs": [
    {
     "data": {
      "text/plain": [
       "<matplotlib.axes._subplots.AxesSubplot at 0x7f917ead48d0>"
      ]
     },
     "execution_count": 81,
     "metadata": {},
     "output_type": "execute_result"
    },
    {
     "data": {
      "image/png": "[encoded data removed]",
      "text/plain": [
       "<matplotlib.figure.Figure at 0x7f917eacd4a8>"
      ]
     },
     "metadata": {},
     "output_type": "display_data"
    }
   ],
   "source": [
    "sns.boxplot(x='species', y='hydrophobicity', data=kdf)"
   ]
  },
  {
   "cell_type": "code",
   "execution_count": 82,
   "metadata": {
    "collapsed": false
   },
   "outputs": [
    {
     "data": {
      "text/plain": [
       "<matplotlib.axes._subplots.AxesSubplot at 0x7f919f567828>"
      ]
     },
     "execution_count": 82,
     "metadata": {},
     "output_type": "execute_result"
    },
    {
     "data": {
      "image/png": "[encoded data removed]",
      "text/plain": [
       "<matplotlib.figure.Figure at 0x7f9162bd2198>"
      ]
     },
     "metadata": {},
     "output_type": "display_data"
    }
   ],
   "source": [
    "sns.kdeplot(kdf[kdf['species']=='human']['hydrophobicity'])"
   ]
  },
  {
   "cell_type": "code",
   "execution_count": 101,
   "metadata": {
    "collapsed": false
   },
   "outputs": [
    {
     "data": {
      "text/html": [
       "<div>\n",
       "<style scoped>\n",
       "    .dataframe tbody tr th:only-of-type {\n",
       "        vertical-align: middle;\n",
       "    }\n",
       "\n",
       "    .dataframe tbody tr th {\n",
       "        vertical-align: top;\n",
       "    }\n",
       "\n",
       "    .dataframe thead th {\n",
       "        text-align: right;\n",
       "    }\n",
       "</style>\n",
       "<table border=\"1\" class=\"dataframe\">\n",
       "  <thead>\n",
       "    <tr style=\"text-align: right;\">\n",
       "      <th></th>\n",
       "      <th>species</th>\n",
       "      <th>protein</th>\n",
       "    </tr>\n",
       "  </thead>\n",
       "  <tbody>\n",
       "    <tr>\n",
       "      <th>0</th>\n",
       "      <td>0</td>\n",
       "      <td>sp|P16788|UL97_HCMVA</td>\n",
       "    </tr>\n",
       "    <tr>\n",
       "      <th>1</th>\n",
       "      <td>0</td>\n",
       "      <td>sp|P16777|UL12_HCMVA</td>\n",
       "    </tr>\n",
       "    <tr>\n",
       "      <th>2</th>\n",
       "      <td>0</td>\n",
       "      <td>sp|P16800|CEP2_HCMVA</td>\n",
       "    </tr>\n",
       "    <tr>\n",
       "      <th>3</th>\n",
       "      <td>0</td>\n",
       "      <td>sp|P16749|ICP27_HCMVA</td>\n",
       "    </tr>\n",
       "    <tr>\n",
       "      <th>4</th>\n",
       "      <td>0</td>\n",
       "      <td>sp|P16744|UL08_HCMVA</td>\n",
       "    </tr>\n",
       "  </tbody>\n",
       "</table>\n",
       "</div>"
      ],
      "text/plain": [
       "   species                protein\n",
       "0        0   sp|P16788|UL97_HCMVA\n",
       "1        0   sp|P16777|UL12_HCMVA\n",
       "2        0   sp|P16800|CEP2_HCMVA\n",
       "3        0  sp|P16749|ICP27_HCMVA\n",
       "4        0   sp|P16744|UL08_HCMVA"
      ]
     },
     "execution_count": 101,
     "metadata": {},
     "output_type": "execute_result"
    }
   ],
   "source": [
    "fdf = df.copy()\n",
    "fdf.species = fdf.species.apply(lambda x: group_name(x))\n",
    "di = {'virus': 0, 'bacterium': 0, 'human': 1}\n",
    "fdf.replace({'species': di}, inplace=True)\n",
    "fdf[['species', 'protein']].head()"
   ]
  },
  {
   "cell_type": "code",
   "execution_count": 89,
   "metadata": {
    "collapsed": false
   },
   "outputs": [
    {
     "data": {
      "text/html": [
       "<div>\n",
       "<style scoped>\n",
       "    .dataframe tbody tr th:only-of-type {\n",
       "        vertical-align: middle;\n",
       "    }\n",
       "\n",
       "    .dataframe tbody tr th {\n",
       "        vertical-align: top;\n",
       "    }\n",
       "\n",
       "    .dataframe thead th {\n",
       "        text-align: right;\n",
       "    }\n",
       "</style>\n",
       "<table border=\"1\" class=\"dataframe\">\n",
       "  <thead>\n",
       "    <tr style=\"text-align: right;\">\n",
       "      <th></th>\n",
       "      <th>A</th>\n",
       "      <th>C</th>\n",
       "      <th>D</th>\n",
       "      <th>E</th>\n",
       "      <th>F</th>\n",
       "      <th>G</th>\n",
       "      <th>H</th>\n",
       "      <th>I</th>\n",
       "      <th>K</th>\n",
       "      <th>L</th>\n",
       "      <th>...</th>\n",
       "      <th>P</th>\n",
       "      <th>Q</th>\n",
       "      <th>R</th>\n",
       "      <th>S</th>\n",
       "      <th>T</th>\n",
       "      <th>V</th>\n",
       "      <th>W</th>\n",
       "      <th>Y</th>\n",
       "      <th>protein</th>\n",
       "      <th>species</th>\n",
       "    </tr>\n",
       "  </thead>\n",
       "  <tbody>\n",
       "    <tr>\n",
       "      <th>0</th>\n",
       "      <td>0.097595</td>\n",
       "      <td>0.042433</td>\n",
       "      <td>0.060820</td>\n",
       "      <td>0.056577</td>\n",
       "      <td>0.029703</td>\n",
       "      <td>0.065064</td>\n",
       "      <td>0.036775</td>\n",
       "      <td>0.024045</td>\n",
       "      <td>0.019802</td>\n",
       "      <td>0.097595</td>\n",
       "      <td>...</td>\n",
       "      <td>0.045262</td>\n",
       "      <td>0.031117</td>\n",
       "      <td>0.099010</td>\n",
       "      <td>0.083451</td>\n",
       "      <td>0.059406</td>\n",
       "      <td>0.072136</td>\n",
       "      <td>0.008487</td>\n",
       "      <td>0.025460</td>\n",
       "      <td>sp|P16788|UL97_HCMVA</td>\n",
       "      <td>non-human</td>\n",
       "    </tr>\n",
       "    <tr>\n",
       "      <th>1</th>\n",
       "      <td>0.093590</td>\n",
       "      <td>0.041026</td>\n",
       "      <td>0.058974</td>\n",
       "      <td>0.052564</td>\n",
       "      <td>0.034615</td>\n",
       "      <td>0.065385</td>\n",
       "      <td>0.034615</td>\n",
       "      <td>0.025641</td>\n",
       "      <td>0.021795</td>\n",
       "      <td>0.100000</td>\n",
       "      <td>...</td>\n",
       "      <td>0.047436</td>\n",
       "      <td>0.029487</td>\n",
       "      <td>0.101282</td>\n",
       "      <td>0.084615</td>\n",
       "      <td>0.057692</td>\n",
       "      <td>0.071795</td>\n",
       "      <td>0.008974</td>\n",
       "      <td>0.023077</td>\n",
       "      <td>sp|P16777|UL12_HCMVA</td>\n",
       "      <td>non-human</td>\n",
       "    </tr>\n",
       "    <tr>\n",
       "      <th>2</th>\n",
       "      <td>0.081778</td>\n",
       "      <td>0.051556</td>\n",
       "      <td>0.059556</td>\n",
       "      <td>0.050667</td>\n",
       "      <td>0.034667</td>\n",
       "      <td>0.071111</td>\n",
       "      <td>0.033778</td>\n",
       "      <td>0.030222</td>\n",
       "      <td>0.026667</td>\n",
       "      <td>0.098667</td>\n",
       "      <td>...</td>\n",
       "      <td>0.048889</td>\n",
       "      <td>0.030222</td>\n",
       "      <td>0.088000</td>\n",
       "      <td>0.078222</td>\n",
       "      <td>0.058667</td>\n",
       "      <td>0.071111</td>\n",
       "      <td>0.011556</td>\n",
       "      <td>0.027556</td>\n",
       "      <td>sp|P16800|CEP2_HCMVA</td>\n",
       "      <td>non-human</td>\n",
       "    </tr>\n",
       "    <tr>\n",
       "      <th>3</th>\n",
       "      <td>0.080792</td>\n",
       "      <td>0.038523</td>\n",
       "      <td>0.066346</td>\n",
       "      <td>0.049759</td>\n",
       "      <td>0.029963</td>\n",
       "      <td>0.067416</td>\n",
       "      <td>0.042804</td>\n",
       "      <td>0.027287</td>\n",
       "      <td>0.026752</td>\n",
       "      <td>0.093098</td>\n",
       "      <td>...</td>\n",
       "      <td>0.067951</td>\n",
       "      <td>0.040663</td>\n",
       "      <td>0.084002</td>\n",
       "      <td>0.080792</td>\n",
       "      <td>0.058320</td>\n",
       "      <td>0.059390</td>\n",
       "      <td>0.008561</td>\n",
       "      <td>0.028892</td>\n",
       "      <td>sp|P16749|ICP27_HCMVA</td>\n",
       "      <td>non-human</td>\n",
       "    </tr>\n",
       "    <tr>\n",
       "      <th>4</th>\n",
       "      <td>0.080864</td>\n",
       "      <td>0.036665</td>\n",
       "      <td>0.064289</td>\n",
       "      <td>0.050226</td>\n",
       "      <td>0.029131</td>\n",
       "      <td>0.065796</td>\n",
       "      <td>0.040683</td>\n",
       "      <td>0.030136</td>\n",
       "      <td>0.027122</td>\n",
       "      <td>0.091914</td>\n",
       "      <td>...</td>\n",
       "      <td>0.066801</td>\n",
       "      <td>0.041185</td>\n",
       "      <td>0.081366</td>\n",
       "      <td>0.079859</td>\n",
       "      <td>0.062280</td>\n",
       "      <td>0.059267</td>\n",
       "      <td>0.009543</td>\n",
       "      <td>0.031140</td>\n",
       "      <td>sp|P16744|UL08_HCMVA</td>\n",
       "      <td>non-human</td>\n",
       "    </tr>\n",
       "  </tbody>\n",
       "</table>\n",
       "<p>5 rows × 22 columns</p>\n",
       "</div>"
      ],
      "text/plain": [
       "          A         C         D         E         F         G         H  \\\n",
       "0  0.097595  0.042433  0.060820  0.056577  0.029703  0.065064  0.036775   \n",
       "1  0.093590  0.041026  0.058974  0.052564  0.034615  0.065385  0.034615   \n",
       "2  0.081778  0.051556  0.059556  0.050667  0.034667  0.071111  0.033778   \n",
       "3  0.080792  0.038523  0.066346  0.049759  0.029963  0.067416  0.042804   \n",
       "4  0.080864  0.036665  0.064289  0.050226  0.029131  0.065796  0.040683   \n",
       "\n",
       "          I         K         L    ...             P         Q         R  \\\n",
       "0  0.024045  0.019802  0.097595    ...      0.045262  0.031117  0.099010   \n",
       "1  0.025641  0.021795  0.100000    ...      0.047436  0.029487  0.101282   \n",
       "2  0.030222  0.026667  0.098667    ...      0.048889  0.030222  0.088000   \n",
       "3  0.027287  0.026752  0.093098    ...      0.067951  0.040663  0.084002   \n",
       "4  0.030136  0.027122  0.091914    ...      0.066801  0.041185  0.081366   \n",
       "\n",
       "          S         T         V         W         Y                protein  \\\n",
       "0  0.083451  0.059406  0.072136  0.008487  0.025460   sp|P16788|UL97_HCMVA   \n",
       "1  0.084615  0.057692  0.071795  0.008974  0.023077   sp|P16777|UL12_HCMVA   \n",
       "2  0.078222  0.058667  0.071111  0.011556  0.027556   sp|P16800|CEP2_HCMVA   \n",
       "3  0.080792  0.058320  0.059390  0.008561  0.028892  sp|P16749|ICP27_HCMVA   \n",
       "4  0.079859  0.062280  0.059267  0.009543  0.031140   sp|P16744|UL08_HCMVA   \n",
       "\n",
       "     species  \n",
       "0  non-human  \n",
       "1  non-human  \n",
       "2  non-human  \n",
       "3  non-human  \n",
       "4  non-human  \n",
       "\n",
       "[5 rows x 22 columns]"
      ]
     },
     "execution_count": 89,
     "metadata": {},
     "output_type": "execute_result"
    }
   ],
   "source": [
    "fdf.head()"
   ]
  },
  {
   "cell_type": "code",
   "execution_count": 129,
   "metadata": {
    "collapsed": false
   },
   "outputs": [
    {
     "data": {
      "text/plain": [
       "0.99607994377097486"
      ]
     },
     "execution_count": 129,
     "metadata": {},
     "output_type": "execute_result"
    }
   ],
   "source": [
    "from sklearn import svm\n",
    "from sklearn.model_selection import cross_val_score, cross_validate\n",
    "\n",
    "clf = svm.SVC()\n",
    "\n",
    "X_train, X_test, y_train, y_test = train_test_split(fdf[aa].values, fdf['species'].values, test_size=.25)\n",
    "\n",
    "scores = cross_val_score(clf, X=X_train, y=y_train, cv=5)\n",
    "np.mean(scores)"
   ]
  },
  {
   "cell_type": "code",
   "execution_count": 133,
   "metadata": {
    "collapsed": false
   },
   "outputs": [
    {
     "data": {
      "text/plain": [
       "array([ 0.99590905,  0.99590905,  0.99571836,  0.99666952,  0.99619374])"
      ]
     },
     "execution_count": 133,
     "metadata": {},
     "output_type": "execute_result"
    }
   ],
   "source": [
    "scores"
   ]
  },
  {
   "cell_type": "code",
   "execution_count": null,
   "metadata": {
    "collapsed": true
   },
   "outputs": [],
   "source": []
  }
 ],
 "metadata": {
  "anaconda-cloud": {},
  "kernelspec": {
   "display_name": "Python [default]",
   "language": "python",
   "name": "python3"
  },
  "language_info": {
   "codemirror_mode": {
    "name": "ipython",
    "version": 3
   },
   "file_extension": ".py",
   "mimetype": "text/x-python",
   "name": "python",
   "nbconvert_exporter": "python",
   "pygments_lexer": "ipython3",
   "version": "3.5.4"
  },
  "widgets": {
   "state": {
    "c9b1dc78821e4f13844d582afe1b4bbb": {
     "views": [
      {
       "cell_index": 3
      }
     ]
    }
   },
   "version": "1.2.0"
  }
 },
 "nbformat": 4,
 "nbformat_minor": 1
}
