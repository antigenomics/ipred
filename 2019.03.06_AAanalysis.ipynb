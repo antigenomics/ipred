{
 "cells": [
  {
   "cell_type": "code",
   "execution_count": 9,
   "metadata": {
    "collapsed": true
   },
   "outputs": [],
   "source": [
    "%matplotlib inline\n",
    "\n",
    "import os, sys, gc\n",
    "from tqdm import tqdm, tqdm_notebook, tqdm_pandas\n",
    "from tqdm import trange\n",
    "import time\n",
    "from scipy import stats\n",
    "from scipy.stats import shapiro\n",
    "\n",
    "import pandas as pd\n",
    "import numpy as np\n",
    "import networkx as nx\n",
    "import seaborn as sns\n",
    "import matplotlib.pyplot as plt\n",
    "\n",
    "from Bio import SeqIO\n",
    "from collections import Counter\n",
    "\n",
    "from multiprocessing import Pool, Process\n",
    "\n",
    "import itertools\n",
    "from modules.kidera import score_positions, score_sequence\n",
    "\n",
    "import warnings\n",
    "warnings.filterwarnings('ignore')"
   ]
  },
  {
   "cell_type": "code",
   "execution_count": 21,
   "metadata": {
    "collapsed": false
   },
   "outputs": [
    {
     "data": {
      "text/plain": [
       "{'CLMDtrachomatis_strain.fasta': 'CLMDtrachomatis',\n",
       " 'CLOSdificile_strain.fasta': 'CLOSdificile',\n",
       " 'CMV_StrainAD169.fasta': 'CMV_StrainAD169',\n",
       " 'CPBTjejuni_strain.fasta': 'CPBTjejuni',\n",
       " 'EBV_StrainAG876.fasta': 'EBV_StrainAG876',\n",
       " 'HCV_StrainIsolateH.fasta': 'HCV_StrainIsolateH',\n",
       " 'HIV-1_StrainHXB2.fasta': 'HIV-1_StrainHXB2',\n",
       " 'KLEBpneumoniae_strain.fasta': 'KLEBpneumoniae',\n",
       " 'MYBTsmegmatis_strain.fasta': 'MYBTsmegmatis',\n",
       " 'MYPLpneumoniae_strain.fasta': 'MYPLpneumoniae',\n",
       " 'MYPLsynoviae_strain.fasta': 'MYPLsynoviae',\n",
       " 'SHGLflexneri_strain.fasta': 'SHGLflexneri',\n",
       " 'SHGLsonnei_strain.fasta': 'SHGLsonnei',\n",
       " 'SLMLenteritidis_strain.fasta': 'SLMLenteritidis',\n",
       " 'SLMLtyphimurium_strain.fasta': 'SLMLtyphimurium',\n",
       " 'UP000005640_9606.fasta': 'Human',\n",
       " 'YERSenterocolitica_strain.fasta': 'YERSenterocolitica',\n",
       " 'YERSpseudotuberculosis_strain.fasta': 'YERSpseudotuberculosis',\n",
       " 'YFV_Strain17D.fasta': 'YFV_Strain17D'}"
      ]
     },
     "execution_count": 21,
     "metadata": {},
     "output_type": "execute_result"
    }
   ],
   "source": [
    "fdict = {}\n",
    "for key in os.listdir(\"data/fasta/\"):\n",
    "    if key.startswith(\"UP0\"):\n",
    "        fdict[key] = \"Human\"\n",
    "    else:\n",
    "        fdict[key] = key.strip(\"strain.fasta\").strip(\"_\")\n",
    "fdict"
   ]
  },
  {
   "cell_type": "code",
   "execution_count": 62,
   "metadata": {
    "collapsed": false
   },
   "outputs": [],
   "source": [
    "def aa_count(args):\n",
    "    path, species = args\n",
    "    record_dict = SeqIO.index(\"data/fasta/\" + path, \"fasta\")\n",
    "    aa_dict  = Counter()\n",
    "    for key in record_dict.keys():\n",
    "        aa_dict = aa_dict + Counter(record_dict[key].seq)\n",
    "    return pd.DataFrame.from_dict(aa_dict, orient='index', columns=[species]) / sum(aa_dict.values())\n",
    "    \n",
    "with Pool(processes=len(fdict)) as pool:\n",
    "    result = pool.map(aa_count, fdict.items())\n",
    "\n",
    "df = pd.concat(result, axis=1)\n",
    "df = df.drop([\"*\", \"U\", \"X\"])\n",
    "df = df.reset_index()"
   ]
  },
  {
   "cell_type": "code",
   "execution_count": 75,
   "metadata": {
    "collapsed": false
   },
   "outputs": [
    {
     "data": {
      "image/png": "[encoded data removed]",
      "text/plain": [
       "<matplotlib.figure.Figure at 0x7fb52cff1908>"
      ]
     },
     "metadata": {},
     "output_type": "display_data"
    }
   ],
   "source": [
    "def plot_v_hum(df, target, ax1):\n",
    "    pdf = df[['index', 'Human', target]]\n",
    "    tidy = (\n",
    "        pdf.set_index('index')\n",
    "        .stack()  # un-pivots the data \n",
    "        .reset_index()  # moves all data out of the index\n",
    "            )\n",
    "    sns.barplot(x='index', y=0, hue='level_1', data=tidy, ax=ax1)\n",
    "    sns.despine(fig)\n",
    "    ax1.legend(loc='upper right', bbox_to_anchor=(1.1, 1))\n",
    "    \n",
    "fig, ax1 = plt.subplots(figsize=(6, 4))    \n",
    "plot_v_hum(df, fdict[[i for i in fdict.keys()][4]], ax1)"
   ]
  },
  {
   "cell_type": "code",
   "execution_count": null,
   "metadata": {
    "collapsed": true
   },
   "outputs": [],
   "source": []
  },
  {
   "cell_type": "code",
   "execution_count": null,
   "metadata": {
    "collapsed": true
   },
   "outputs": [],
   "source": []
  },
  {
   "cell_type": "code",
   "execution_count": null,
   "metadata": {
    "collapsed": true
   },
   "outputs": [],
   "source": []
  },
  {
   "cell_type": "code",
   "execution_count": null,
   "metadata": {
    "collapsed": true
   },
   "outputs": [],
   "source": []
  },
  {
   "cell_type": "code",
   "execution_count": null,
   "metadata": {
    "collapsed": true
   },
   "outputs": [],
   "source": []
  }
 ],
 "metadata": {
  "anaconda-cloud": {},
  "kernelspec": {
   "display_name": "Python [default]",
   "language": "python",
   "name": "python3"
  },
  "language_info": {
   "codemirror_mode": {
    "name": "ipython",
    "version": 3
   },
   "file_extension": ".py",
   "mimetype": "text/x-python",
   "name": "python",
   "nbconvert_exporter": "python",
   "pygments_lexer": "ipython3",
   "version": "3.5.4"
  }
 },
 "nbformat": 4,
 "nbformat_minor": 1
}
