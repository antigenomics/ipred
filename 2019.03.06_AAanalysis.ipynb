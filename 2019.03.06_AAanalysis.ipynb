{
 "cells": [
  {
   "cell_type": "code",
   "execution_count": 1,
   "metadata": {
    "collapsed": true
   },
   "outputs": [],
   "source": [
    "%matplotlib inline\n",
    "\n",
    "import os, sys, gc\n",
    "from tqdm import tqdm, tqdm_notebook, tqdm_pandas\n",
    "from tqdm import trange\n",
    "import time\n",
    "from scipy import stats\n",
    "from scipy.stats import shapiro\n",
    "\n",
    "import pandas as pd\n",
    "import numpy as np\n",
    "import networkx as nx\n",
    "import seaborn as sns\n",
    "import matplotlib.pyplot as plt\n",
    "\n",
    "from Bio import SeqIO\n",
    "from collections import Counter\n",
    "\n",
    "from multiprocessing import Pool, Process\n",
    "\n",
    "import itertools\n",
    "from modules.kidera import score_positions, score_sequence\n",
    "\n",
    "import warnings\n",
    "warnings.filterwarnings('ignore')"
   ]
  },
  {
   "cell_type": "code",
   "execution_count": 2,
   "metadata": {
    "collapsed": false
   },
   "outputs": [
    {
     "data": {
      "text/plain": [
       "{'CLMDtrachomatis_strain.fasta': 'CLMDtrachomatis',\n",
       " 'CLOSdificile_strain.fasta': 'CLOSdificile',\n",
       " 'CMV_StrainAD169.fasta': 'CMV_StrainAD169',\n",
       " 'CPBTjejuni_strain.fasta': 'CPBTjejuni',\n",
       " 'EBV_StrainAG876.fasta': 'EBV_StrainAG876',\n",
       " 'HCV_StrainIsolateH.fasta': 'HCV_StrainIsolateH',\n",
       " 'HIV-1_StrainHXB2.fasta': 'HIV-1_StrainHXB2',\n",
       " 'KLEBpneumoniae_strain.fasta': 'KLEBpneumoniae',\n",
       " 'MYBTsmegmatis_strain.fasta': 'MYBTsmegmatis',\n",
       " 'MYPLpneumoniae_strain.fasta': 'MYPLpneumoniae',\n",
       " 'MYPLsynoviae_strain.fasta': 'MYPLsynoviae',\n",
       " 'SHGLflexneri_strain.fasta': 'SHGLflexneri',\n",
       " 'SHGLsonnei_strain.fasta': 'SHGLsonnei',\n",
       " 'SLMLenteritidis_strain.fasta': 'SLMLenteritidis',\n",
       " 'SLMLtyphimurium_strain.fasta': 'SLMLtyphimurium',\n",
       " 'UP000005640_9606.fasta': 'Human',\n",
       " 'YERSenterocolitica_strain.fasta': 'YERSenterocolitica',\n",
       " 'YERSpseudotuberculosis_strain.fasta': 'YERSpseudotuberculosis',\n",
       " 'YFV_Strain17D.fasta': 'YFV_Strain17D'}"
      ]
     },
     "execution_count": 2,
     "metadata": {},
     "output_type": "execute_result"
    }
   ],
   "source": [
    "fdict = {}\n",
    "for key in os.listdir(\"data/fasta/\"):\n",
    "    if key.startswith(\"UP0\"):\n",
    "        fdict[key] = \"Human\"\n",
    "    else:\n",
    "        fdict[key] = key.strip(\"strain.fasta\").strip(\"_\")\n",
    "fdict"
   ]
  },
  {
   "cell_type": "code",
   "execution_count": 3,
   "metadata": {
    "collapsed": false
   },
   "outputs": [],
   "source": [
    "def aa_count(args):\n",
    "    path, species = args\n",
    "    record_dict = SeqIO.index(\"data/fasta/\" + path, \"fasta\")\n",
    "    aa_dict  = Counter()\n",
    "    for key in record_dict.keys():\n",
    "        aa_dict = aa_dict + Counter(record_dict[key].seq)\n",
    "    return pd.DataFrame.from_dict(aa_dict, orient='index', columns=[species]) / sum(aa_dict.values())\n",
    "    \n",
    "with Pool(processes=len(fdict)) as pool:\n",
    "    result = pool.map(aa_count, fdict.items())\n",
    "\n",
    "df = pd.concat(result, axis=1)\n",
    "df = df.drop([\"*\", \"U\", \"X\"])\n",
    "df = df.reset_index()"
   ]
  },
  {
   "cell_type": "code",
   "execution_count": 4,
   "metadata": {
    "collapsed": false
   },
   "outputs": [
    {
     "data": {
      "image/png": "[encoded data removed]",
      "text/plain": [
       "<matplotlib.figure.Figure at 0x7fbc949abf98>"
      ]
     },
     "metadata": {},
     "output_type": "display_data"
    }
   ],
   "source": [
    "def plot_v_hum(df, target, ax1):\n",
    "    pdf = df[['index', 'Human', target]]\n",
    "    tidy = (\n",
    "        pdf.set_index('index')\n",
    "        .stack()  # un-pivots the data \n",
    "        .reset_index()  # moves all data out of the index\n",
    "            )\n",
    "    sns.barplot(x='index', y=0, hue='level_1', data=tidy, ax=ax1)\n",
    "    sns.despine(fig)\n",
    "    ax1.legend(loc='upper right', bbox_to_anchor=(1.1, 1))\n",
    "    \n",
    "fig, ax1 = plt.subplots(figsize=(6, 4))    \n",
    "plot_v_hum(df, fdict[[i for i in fdict.keys()][4]], ax1)"
   ]
  },
  {
   "cell_type": "code",
   "execution_count": 5,
   "metadata": {
    "collapsed": false
   },
   "outputs": [
    {
     "data": {
      "text/html": [
       "<div>\n",
       "<style scoped>\n",
       "    .dataframe tbody tr th:only-of-type {\n",
       "        vertical-align: middle;\n",
       "    }\n",
       "\n",
       "    .dataframe tbody tr th {\n",
       "        vertical-align: top;\n",
       "    }\n",
       "\n",
       "    .dataframe thead th {\n",
       "        text-align: right;\n",
       "    }\n",
       "</style>\n",
       "<table border=\"1\" class=\"dataframe\">\n",
       "  <thead>\n",
       "    <tr style=\"text-align: right;\">\n",
       "      <th></th>\n",
       "      <th>index</th>\n",
       "      <th>SHGLsonnei</th>\n",
       "      <th>CPBTjejuni</th>\n",
       "      <th>HIV-1_StrainHXB2</th>\n",
       "      <th>EBV_StrainAG876</th>\n",
       "      <th>CMV_StrainAD169</th>\n",
       "      <th>KLEBpneumoniae</th>\n",
       "      <th>SHGLflexneri</th>\n",
       "      <th>SLMLenteritidis</th>\n",
       "      <th>YERSpseudotuberculosis</th>\n",
       "      <th>HCV_StrainIsolateH</th>\n",
       "      <th>MYBTsmegmatis</th>\n",
       "      <th>MYPLsynoviae</th>\n",
       "      <th>MYPLpneumoniae</th>\n",
       "      <th>Human</th>\n",
       "      <th>CLMDtrachomatis</th>\n",
       "      <th>YFV_Strain17D</th>\n",
       "      <th>CLOSdificile</th>\n",
       "      <th>YERSenterocolitica</th>\n",
       "      <th>SLMLtyphimurium</th>\n",
       "    </tr>\n",
       "  </thead>\n",
       "  <tbody>\n",
       "    <tr>\n",
       "      <th>0</th>\n",
       "      <td>A</td>\n",
       "      <td>0.094127</td>\n",
       "      <td>0.067906</td>\n",
       "      <td>0.063061</td>\n",
       "      <td>0.091078</td>\n",
       "      <td>0.078474</td>\n",
       "      <td>0.103668</td>\n",
       "      <td>0.093315</td>\n",
       "      <td>0.098198</td>\n",
       "      <td>0.092890</td>\n",
       "      <td>0.093602</td>\n",
       "      <td>0.129433</td>\n",
       "      <td>0.058818</td>\n",
       "      <td>0.066509</td>\n",
       "      <td>0.070138</td>\n",
       "      <td>0.075095</td>\n",
       "      <td>0.071533</td>\n",
       "      <td>0.053585</td>\n",
       "      <td>0.094090</td>\n",
       "      <td>0.097446</td>\n",
       "    </tr>\n",
       "    <tr>\n",
       "      <th>1</th>\n",
       "      <td>C</td>\n",
       "      <td>0.011663</td>\n",
       "      <td>0.012137</td>\n",
       "      <td>0.019058</td>\n",
       "      <td>0.019597</td>\n",
       "      <td>0.025485</td>\n",
       "      <td>0.010926</td>\n",
       "      <td>0.012127</td>\n",
       "      <td>0.011516</td>\n",
       "      <td>0.010163</td>\n",
       "      <td>0.033407</td>\n",
       "      <td>0.008109</td>\n",
       "      <td>0.003958</td>\n",
       "      <td>0.007387</td>\n",
       "      <td>0.022992</td>\n",
       "      <td>0.016213</td>\n",
       "      <td>0.018763</td>\n",
       "      <td>0.012451</td>\n",
       "      <td>0.010402</td>\n",
       "      <td>0.011695</td>\n",
       "    </tr>\n",
       "    <tr>\n",
       "      <th>2</th>\n",
       "      <td>D</td>\n",
       "      <td>0.051743</td>\n",
       "      <td>0.052618</td>\n",
       "      <td>0.038117</td>\n",
       "      <td>0.045627</td>\n",
       "      <td>0.048232</td>\n",
       "      <td>0.051485</td>\n",
       "      <td>0.050057</td>\n",
       "      <td>0.052052</td>\n",
       "      <td>0.051875</td>\n",
       "      <td>0.038449</td>\n",
       "      <td>0.063145</td>\n",
       "      <td>0.052661</td>\n",
       "      <td>0.050370</td>\n",
       "      <td>0.047298</td>\n",
       "      <td>0.045143</td>\n",
       "      <td>0.046321</td>\n",
       "      <td>0.057051</td>\n",
       "      <td>0.051163</td>\n",
       "      <td>0.051924</td>\n",
       "    </tr>\n",
       "    <tr>\n",
       "      <th>3</th>\n",
       "      <td>E</td>\n",
       "      <td>0.058531</td>\n",
       "      <td>0.070209</td>\n",
       "      <td>0.071188</td>\n",
       "      <td>0.055024</td>\n",
       "      <td>0.052301</td>\n",
       "      <td>0.054475</td>\n",
       "      <td>0.057833</td>\n",
       "      <td>0.055653</td>\n",
       "      <td>0.054393</td>\n",
       "      <td>0.037189</td>\n",
       "      <td>0.053883</td>\n",
       "      <td>0.063383</td>\n",
       "      <td>0.057727</td>\n",
       "      <td>0.070979</td>\n",
       "      <td>0.066206</td>\n",
       "      <td>0.061566</td>\n",
       "      <td>0.073924</td>\n",
       "      <td>0.054705</td>\n",
       "      <td>0.055683</td>\n",
       "    </tr>\n",
       "    <tr>\n",
       "      <th>4</th>\n",
       "      <td>F</td>\n",
       "      <td>0.038405</td>\n",
       "      <td>0.060078</td>\n",
       "      <td>0.024103</td>\n",
       "      <td>0.037135</td>\n",
       "      <td>0.039115</td>\n",
       "      <td>0.038693</td>\n",
       "      <td>0.038322</td>\n",
       "      <td>0.038609</td>\n",
       "      <td>0.038065</td>\n",
       "      <td>0.028049</td>\n",
       "      <td>0.030963</td>\n",
       "      <td>0.058623</td>\n",
       "      <td>0.055734</td>\n",
       "      <td>0.036522</td>\n",
       "      <td>0.048760</td>\n",
       "      <td>0.034008</td>\n",
       "      <td>0.043393</td>\n",
       "      <td>0.038091</td>\n",
       "      <td>0.038982</td>\n",
       "    </tr>\n",
       "  </tbody>\n",
       "</table>\n",
       "</div>"
      ],
      "text/plain": [
       "  index  SHGLsonnei  CPBTjejuni  HIV-1_StrainHXB2  EBV_StrainAG876  \\\n",
       "0     A    0.094127    0.067906          0.063061         0.091078   \n",
       "1     C    0.011663    0.012137          0.019058         0.019597   \n",
       "2     D    0.051743    0.052618          0.038117         0.045627   \n",
       "3     E    0.058531    0.070209          0.071188         0.055024   \n",
       "4     F    0.038405    0.060078          0.024103         0.037135   \n",
       "\n",
       "   CMV_StrainAD169  KLEBpneumoniae  SHGLflexneri  SLMLenteritidis  \\\n",
       "0         0.078474        0.103668      0.093315         0.098198   \n",
       "1         0.025485        0.010926      0.012127         0.011516   \n",
       "2         0.048232        0.051485      0.050057         0.052052   \n",
       "3         0.052301        0.054475      0.057833         0.055653   \n",
       "4         0.039115        0.038693      0.038322         0.038609   \n",
       "\n",
       "   YERSpseudotuberculosis  HCV_StrainIsolateH  MYBTsmegmatis  MYPLsynoviae  \\\n",
       "0                0.092890            0.093602       0.129433      0.058818   \n",
       "1                0.010163            0.033407       0.008109      0.003958   \n",
       "2                0.051875            0.038449       0.063145      0.052661   \n",
       "3                0.054393            0.037189       0.053883      0.063383   \n",
       "4                0.038065            0.028049       0.030963      0.058623   \n",
       "\n",
       "   MYPLpneumoniae     Human  CLMDtrachomatis  YFV_Strain17D  CLOSdificile  \\\n",
       "0        0.066509  0.070138         0.075095       0.071533      0.053585   \n",
       "1        0.007387  0.022992         0.016213       0.018763      0.012451   \n",
       "2        0.050370  0.047298         0.045143       0.046321      0.057051   \n",
       "3        0.057727  0.070979         0.066206       0.061566      0.073924   \n",
       "4        0.055734  0.036522         0.048760       0.034008      0.043393   \n",
       "\n",
       "   YERSenterocolitica  SLMLtyphimurium  \n",
       "0            0.094090         0.097446  \n",
       "1            0.010402         0.011695  \n",
       "2            0.051163         0.051924  \n",
       "3            0.054705         0.055683  \n",
       "4            0.038091         0.038982  "
      ]
     },
     "execution_count": 5,
     "metadata": {},
     "output_type": "execute_result"
    }
   ],
   "source": [
    "df.head()"
   ]
  },
  {
   "cell_type": "code",
   "execution_count": 6,
   "metadata": {
    "collapsed": true
   },
   "outputs": [],
   "source": [
    "viruses = ['CMV_StrainAD169', 'YFV_Strain17D', 'HIV-1_StrainHXB2', 'HCV_StrainIsolateH', 'EBV_StrainAG876']\n",
    "bacteria = ['SHGLsonnei', 'SLMLenteritidis', 'MYPLpneumoniae', 'MYBTsmegmatis', 'SLMLtyphimurium', \n",
    "            'YERSpseudotuberculosis', 'YERSenterocolitica', 'CLMDtrachomatis', 'MYPLsynoviae', 'KLEBpneumoniae',\n",
    "            'CPBTjejuni', 'SHGLflexneri', 'CLOSdificile']"
   ]
  },
  {
   "cell_type": "markdown",
   "metadata": {},
   "source": [
    "\n",
    "\n",
    "### PCA on total AA frequencies\n",
    "\n",
    "\n",
    "\n",
    "\n",
    "Let's take a look into how different microbes and human are"
   ]
  },
  {
   "cell_type": "code",
   "execution_count": 7,
   "metadata": {
    "collapsed": false
   },
   "outputs": [],
   "source": [
    "data = df.set_index('index').T.reset_index().rename(columns = {'index': 'name'})\n",
    "def group_name(name):\n",
    "    if name in viruses:\n",
    "        return 'virus'\n",
    "    elif name in bacteria:\n",
    "        return 'bacterium'\n",
    "    elif name in 'Human':\n",
    "        return 'human'\n",
    "data.name = data.name.apply(lambda x: group_name(x))"
   ]
  },
  {
   "cell_type": "code",
   "execution_count": 8,
   "metadata": {
    "collapsed": false
   },
   "outputs": [],
   "source": [
    "from sklearn.decomposition import PCA\n",
    "\n",
    "pca = PCA(n_components=2)\n",
    "\n",
    "pctd = pca.fit_transform(data.iloc[:, 1:])\n",
    "pcdf = pd.DataFrame(data = pctd, columns = ['pc1', 'pc2'])\n",
    "pcdf['name'] = data.name"
   ]
  },
  {
   "cell_type": "code",
   "execution_count": 9,
   "metadata": {
    "collapsed": false
   },
   "outputs": [
    {
     "data": {
      "image/png": "[encoded data removed]",
      "text/plain": [
       "<matplotlib.figure.Figure at 0x7fbc65500ba8>"
      ]
     },
     "metadata": {},
     "output_type": "display_data"
    }
   ],
   "source": [
    "fig = plt.figure(figsize = (6,6))\n",
    "ax = fig.add_subplot(1,1,1) \n",
    "ax.set_xlabel('PC1', fontsize = 15)\n",
    "ax.set_ylabel('PC2', fontsize = 15)\n",
    "ax.set_title('PCA', fontsize = 20)\n",
    "\n",
    "targets = pcdf.name.unique()\n",
    "colours = ['r', 'g', 'b']\n",
    "for target, colour in zip(targets,colours):\n",
    "    indicesToKeep = pcdf['name'] == target\n",
    "    ax.scatter(pcdf.loc[indicesToKeep, 'pc1']\n",
    "               , pcdf.loc[indicesToKeep, 'pc2']\n",
    "               , c = colour\n",
    "               , s = 50)\n",
    "ax.legend(targets)\n",
    "ax.grid()"
   ]
  },
  {
   "cell_type": "markdown",
   "metadata": {},
   "source": [
    "### PCA on AA frequencies from different proteins"
   ]
  },
  {
   "cell_type": "code",
   "execution_count": 10,
   "metadata": {
    "collapsed": false
   },
   "outputs": [
    {
     "name": "stderr",
     "output_type": "stream",
     "text": [
      "1it [00:00, 13.36it/s]\n",
      "2it [00:00, 26.79it/s]\n",
      "6it [00:00, 56.74it/s]\n",
      "40it [00:00, 96.23it/s]\n",
      "190it [00:00, 252.38it/s]\n",
      "986it [00:03, 265.02it/s]\n",
      "949it [00:03, 238.38it/s]\n",
      "769it [00:04, 175.54it/s]\n",
      "1713it [00:09, 173.26it/s]\n",
      "3892it [00:15, 257.18it/s]\n",
      "4047it [00:15, 257.59it/s]\n",
      "4815it [00:19, 240.60it/s]\n",
      "4062it [00:21, 185.35it/s]\n",
      "5573it [00:22, 250.54it/s]\n",
      "5761it [00:22, 253.24it/s]\n",
      "6892it [00:27, 247.80it/s]\n",
      "4328it [00:29, 146.51it/s]\n",
      "5205it [00:30, 146.93it/s]\n",
      "21033it [01:40, 209.60it/s]\n"
     ]
    },
    {
     "ename": "KeyboardInterrupt",
     "evalue": "",
     "output_type": "error",
     "traceback": [
      "\u001b[0;31m---------------------------------------------------------------------------\u001b[0m",
      "\u001b[0;31mKeyboardInterrupt\u001b[0m                         Traceback (most recent call last)",
      "\u001b[0;32m<ipython-input-10-d8a8217a9960>\u001b[0m in \u001b[0;36m<module>\u001b[0;34m()\u001b[0m\n\u001b[1;32m     39\u001b[0m     \u001b[0mresult\u001b[0m \u001b[0;34m=\u001b[0m \u001b[0mpool\u001b[0m\u001b[0;34m.\u001b[0m\u001b[0mmap\u001b[0m\u001b[0;34m(\u001b[0m\u001b[0maa_prot_count\u001b[0m\u001b[0;34m,\u001b[0m \u001b[0mfdict\u001b[0m\u001b[0;34m.\u001b[0m\u001b[0mitems\u001b[0m\u001b[0;34m(\u001b[0m\u001b[0;34m)\u001b[0m\u001b[0;34m)\u001b[0m\u001b[0;34m\u001b[0m\u001b[0m\n\u001b[1;32m     40\u001b[0m \u001b[0;34m\u001b[0m\u001b[0m\n\u001b[0;32m---> 41\u001b[0;31m \u001b[0mdf\u001b[0m \u001b[0;34m=\u001b[0m \u001b[0mpd\u001b[0m\u001b[0;34m.\u001b[0m\u001b[0mconcat\u001b[0m\u001b[0;34m(\u001b[0m\u001b[0mresult\u001b[0m\u001b[0;34m,\u001b[0m \u001b[0maxis\u001b[0m\u001b[0;34m=\u001b[0m\u001b[0;36m1\u001b[0m\u001b[0;34m)\u001b[0m\u001b[0;34m\u001b[0m\u001b[0m\n\u001b[0m\u001b[1;32m     42\u001b[0m \u001b[0mdf\u001b[0m \u001b[0;34m=\u001b[0m \u001b[0mdf\u001b[0m\u001b[0;34m.\u001b[0m\u001b[0mfillna\u001b[0m\u001b[0;34m(\u001b[0m\u001b[0;36m0\u001b[0m\u001b[0;34m)\u001b[0m\u001b[0;34m\u001b[0m\u001b[0m\n\u001b[1;32m     43\u001b[0m \u001b[0mdf\u001b[0m \u001b[0;34m=\u001b[0m \u001b[0mdf\u001b[0m\u001b[0;34m.\u001b[0m\u001b[0mreset_index\u001b[0m\u001b[0;34m(\u001b[0m\u001b[0;34m)\u001b[0m\u001b[0;34m\u001b[0m\u001b[0m\n",
      "\u001b[0;32m/home/vcvetkov/anaconda3/lib/python3.5/site-packages/pandas/core/reshape/concat.py\u001b[0m in \u001b[0;36mconcat\u001b[0;34m(objs, axis, join, join_axes, ignore_index, keys, levels, names, verify_integrity, sort, copy)\u001b[0m\n\u001b[1;32m    224\u001b[0m                        \u001b[0mverify_integrity\u001b[0m\u001b[0;34m=\u001b[0m\u001b[0mverify_integrity\u001b[0m\u001b[0;34m,\u001b[0m\u001b[0;34m\u001b[0m\u001b[0m\n\u001b[1;32m    225\u001b[0m                        copy=copy, sort=sort)\n\u001b[0;32m--> 226\u001b[0;31m     \u001b[0;32mreturn\u001b[0m \u001b[0mop\u001b[0m\u001b[0;34m.\u001b[0m\u001b[0mget_result\u001b[0m\u001b[0;34m(\u001b[0m\u001b[0;34m)\u001b[0m\u001b[0;34m\u001b[0m\u001b[0m\n\u001b[0m\u001b[1;32m    227\u001b[0m \u001b[0;34m\u001b[0m\u001b[0m\n\u001b[1;32m    228\u001b[0m \u001b[0;34m\u001b[0m\u001b[0m\n",
      "\u001b[0;32m/home/vcvetkov/anaconda3/lib/python3.5/site-packages/pandas/core/reshape/concat.py\u001b[0m in \u001b[0;36mget_result\u001b[0;34m(self)\u001b[0m\n\u001b[1;32m    415\u001b[0m                     \u001b[0mobj_labels\u001b[0m \u001b[0;34m=\u001b[0m \u001b[0mmgr\u001b[0m\u001b[0;34m.\u001b[0m\u001b[0maxes\u001b[0m\u001b[0;34m[\u001b[0m\u001b[0max\u001b[0m\u001b[0;34m]\u001b[0m\u001b[0;34m\u001b[0m\u001b[0m\n\u001b[1;32m    416\u001b[0m                     \u001b[0;32mif\u001b[0m \u001b[0;32mnot\u001b[0m \u001b[0mnew_labels\u001b[0m\u001b[0;34m.\u001b[0m\u001b[0mequals\u001b[0m\u001b[0;34m(\u001b[0m\u001b[0mobj_labels\u001b[0m\u001b[0;34m)\u001b[0m\u001b[0;34m:\u001b[0m\u001b[0;34m\u001b[0m\u001b[0m\n\u001b[0;32m--> 417\u001b[0;31m                         \u001b[0mindexers\u001b[0m\u001b[0;34m[\u001b[0m\u001b[0max\u001b[0m\u001b[0;34m]\u001b[0m \u001b[0;34m=\u001b[0m \u001b[0mobj_labels\u001b[0m\u001b[0;34m.\u001b[0m\u001b[0mreindex\u001b[0m\u001b[0;34m(\u001b[0m\u001b[0mnew_labels\u001b[0m\u001b[0;34m)\u001b[0m\u001b[0;34m[\u001b[0m\u001b[0;36m1\u001b[0m\u001b[0;34m]\u001b[0m\u001b[0;34m\u001b[0m\u001b[0m\n\u001b[0m\u001b[1;32m    418\u001b[0m \u001b[0;34m\u001b[0m\u001b[0m\n\u001b[1;32m    419\u001b[0m                 \u001b[0mmgrs_indexers\u001b[0m\u001b[0;34m.\u001b[0m\u001b[0mappend\u001b[0m\u001b[0;34m(\u001b[0m\u001b[0;34m(\u001b[0m\u001b[0mobj\u001b[0m\u001b[0;34m.\u001b[0m\u001b[0m_data\u001b[0m\u001b[0;34m,\u001b[0m \u001b[0mindexers\u001b[0m\u001b[0;34m)\u001b[0m\u001b[0;34m)\u001b[0m\u001b[0;34m\u001b[0m\u001b[0m\n",
      "\u001b[0;32m/home/vcvetkov/anaconda3/lib/python3.5/site-packages/pandas/core/indexes/base.py\u001b[0m in \u001b[0;36mreindex\u001b[0;34m(self, target, method, level, limit, tolerance)\u001b[0m\n\u001b[1;32m   3625\u001b[0m                         raise ValueError(\"cannot reindex a non-unique index \"\n\u001b[1;32m   3626\u001b[0m                                          \"with a method or limit\")\n\u001b[0;32m-> 3627\u001b[0;31m                     \u001b[0mindexer\u001b[0m\u001b[0;34m,\u001b[0m \u001b[0mmissing\u001b[0m \u001b[0;34m=\u001b[0m \u001b[0mself\u001b[0m\u001b[0;34m.\u001b[0m\u001b[0mget_indexer_non_unique\u001b[0m\u001b[0;34m(\u001b[0m\u001b[0mtarget\u001b[0m\u001b[0;34m)\u001b[0m\u001b[0;34m\u001b[0m\u001b[0m\n\u001b[0m\u001b[1;32m   3628\u001b[0m \u001b[0;34m\u001b[0m\u001b[0m\n\u001b[1;32m   3629\u001b[0m         \u001b[0;32mif\u001b[0m \u001b[0mpreserve_names\u001b[0m \u001b[0;32mand\u001b[0m \u001b[0mtarget\u001b[0m\u001b[0;34m.\u001b[0m\u001b[0mnlevels\u001b[0m \u001b[0;34m==\u001b[0m \u001b[0;36m1\u001b[0m \u001b[0;32mand\u001b[0m \u001b[0mtarget\u001b[0m\u001b[0;34m.\u001b[0m\u001b[0mname\u001b[0m \u001b[0;34m!=\u001b[0m \u001b[0mself\u001b[0m\u001b[0;34m.\u001b[0m\u001b[0mname\u001b[0m\u001b[0;34m:\u001b[0m\u001b[0;34m\u001b[0m\u001b[0m\n",
      "\u001b[0;32m/home/vcvetkov/anaconda3/lib/python3.5/site-packages/pandas/core/indexes/base.py\u001b[0m in \u001b[0;36mget_indexer_non_unique\u001b[0;34m(self, target)\u001b[0m\n\u001b[1;32m   3374\u001b[0m             \u001b[0mtgt_values\u001b[0m \u001b[0;34m=\u001b[0m \u001b[0mtarget\u001b[0m\u001b[0;34m.\u001b[0m\u001b[0m_ndarray_values\u001b[0m\u001b[0;34m\u001b[0m\u001b[0m\n\u001b[1;32m   3375\u001b[0m \u001b[0;34m\u001b[0m\u001b[0m\n\u001b[0;32m-> 3376\u001b[0;31m         \u001b[0mindexer\u001b[0m\u001b[0;34m,\u001b[0m \u001b[0mmissing\u001b[0m \u001b[0;34m=\u001b[0m \u001b[0mself\u001b[0m\u001b[0;34m.\u001b[0m\u001b[0m_engine\u001b[0m\u001b[0;34m.\u001b[0m\u001b[0mget_indexer_non_unique\u001b[0m\u001b[0;34m(\u001b[0m\u001b[0mtgt_values\u001b[0m\u001b[0;34m)\u001b[0m\u001b[0;34m\u001b[0m\u001b[0m\n\u001b[0m\u001b[1;32m   3377\u001b[0m         \u001b[0;32mreturn\u001b[0m \u001b[0m_ensure_platform_int\u001b[0m\u001b[0;34m(\u001b[0m\u001b[0mindexer\u001b[0m\u001b[0;34m)\u001b[0m\u001b[0;34m,\u001b[0m \u001b[0mmissing\u001b[0m\u001b[0;34m\u001b[0m\u001b[0m\n\u001b[1;32m   3378\u001b[0m \u001b[0;34m\u001b[0m\u001b[0m\n",
      "\u001b[0;32mpandas/_libs/index.pyx\u001b[0m in \u001b[0;36mpandas._libs.index.IndexEngine.get_indexer_non_unique\u001b[0;34m()\u001b[0m\n",
      "\u001b[0;32m/home/vcvetkov/anaconda3/lib/python3.5/site-packages/numpy/core/fromnumeric.py\u001b[0m in \u001b[0;36mresize\u001b[0;34m(a, new_shape)\u001b[0m\n\u001b[1;32m   1152\u001b[0m         \u001b[0mextra\u001b[0m \u001b[0;34m=\u001b[0m \u001b[0mNa\u001b[0m\u001b[0;34m-\u001b[0m\u001b[0mextra\u001b[0m\u001b[0;34m\u001b[0m\u001b[0m\n\u001b[1;32m   1153\u001b[0m \u001b[0;34m\u001b[0m\u001b[0m\n\u001b[0;32m-> 1154\u001b[0;31m     \u001b[0ma\u001b[0m \u001b[0;34m=\u001b[0m \u001b[0mconcatenate\u001b[0m\u001b[0;34m(\u001b[0m\u001b[0;34m(\u001b[0m\u001b[0ma\u001b[0m\u001b[0;34m,\u001b[0m\u001b[0;34m)\u001b[0m\u001b[0;34m*\u001b[0m\u001b[0mn_copies\u001b[0m\u001b[0;34m)\u001b[0m\u001b[0;34m\u001b[0m\u001b[0m\n\u001b[0m\u001b[1;32m   1155\u001b[0m     \u001b[0;32mif\u001b[0m \u001b[0mextra\u001b[0m \u001b[0;34m>\u001b[0m \u001b[0;36m0\u001b[0m\u001b[0;34m:\u001b[0m\u001b[0;34m\u001b[0m\u001b[0m\n\u001b[1;32m   1156\u001b[0m         \u001b[0ma\u001b[0m \u001b[0;34m=\u001b[0m \u001b[0ma\u001b[0m\u001b[0;34m[\u001b[0m\u001b[0;34m:\u001b[0m\u001b[0;34m-\u001b[0m\u001b[0mextra\u001b[0m\u001b[0;34m]\u001b[0m\u001b[0;34m\u001b[0m\u001b[0m\n",
      "\u001b[0;31mKeyboardInterrupt\u001b[0m: "
     ]
    }
   ],
   "source": [
    "def aa_prot_count(args):\n",
    "    path, species = args\n",
    "    record_dict = SeqIO.index(\"data/fasta/\" + path, \"fasta\")\n",
    "    aa =   ['A',\n",
    "            'C',\n",
    "            'D',\n",
    "            'E',\n",
    "            'F',\n",
    "            'G',\n",
    "            'H',\n",
    "            'I',\n",
    "            'K',\n",
    "            'L',\n",
    "            'M',\n",
    "            'N',\n",
    "            'P',\n",
    "            'Q',\n",
    "            'R',\n",
    "            'S',\n",
    "            'T',\n",
    "            'V',\n",
    "            'W',\n",
    "            'Y']\n",
    "    ignore = [\"*\", \"U\", \"X\"]\n",
    "    df = pd.DataFrame(columns=['species', 'protein']+aa)\n",
    "    aa_dict  = Counter()\n",
    "    for key in tqdm(record_dict.keys()):\n",
    "        aa_dict = aa_dict + Counter(record_dict[key].seq)\n",
    "        for amino in list(aa_dict):\n",
    "            if amino in ignore:\n",
    "                del aa_dict[amino]\n",
    "        df1 = pd.DataFrame.from_dict(aa_dict, orient='index').T / sum(aa_dict.values())\n",
    "        df1['species'] = species\n",
    "        df1['protein'] = key\n",
    "        df = pd.concat([df, df1])\n",
    "    return df\n",
    "    \n",
    "with Pool(processes=len(fdict)) as pool:\n",
    "    result = pool.map(aa_prot_count, fdict.items())\n",
    "\n",
    "df = pd.concat(result, axis=1)\n",
    "df = df.fillna(0)\n",
    "df = df.reset_index()"
   ]
  },
  {
   "cell_type": "code",
   "execution_count": 11,
   "metadata": {
    "collapsed": false
   },
   "outputs": [],
   "source": [
    "# aa =   ['A',\n",
    "#         'C',\n",
    "#         'D',\n",
    "#         'E',\n",
    "#         'F',\n",
    "#         'G',\n",
    "#         'H',\n",
    "#         'I',\n",
    "#         'K',\n",
    "#         'L',\n",
    "#         'M',\n",
    "#         'N',\n",
    "#         'P',\n",
    "#         'Q',\n",
    "#         'R',\n",
    "#         'S',\n",
    "#         'T',\n",
    "#         'V',\n",
    "#         'W',\n",
    "#         'Y']\n",
    "# df2 = pd.DataFrame(columns=['species', 'protein']+aa)\n",
    "# df1 = pd.DataFrame.from_dict(Counter('acdefghiklmnp'), orient='index').T\n",
    "# df1['species'] = 'wonder'\n",
    "# df1['protein'] = 'something'\n",
    "# df3 = pd.DataFrame.from_dict(Counter('acdefghiklmnp'), orient='index').T\n",
    "# df3['species'] = 'wonder'\n",
    "# df3['protein'] = 'something'\n",
    "# d = pd.concat([df2, df1, df3])\n",
    "# d"
   ]
  },
  {
   "cell_type": "code",
   "execution_count": null,
   "metadata": {
    "collapsed": true
   },
   "outputs": [],
   "source": []
  },
  {
   "cell_type": "code",
   "execution_count": null,
   "metadata": {
    "collapsed": true
   },
   "outputs": [],
   "source": []
  }
 ],
 "metadata": {
  "anaconda-cloud": {},
  "kernelspec": {
   "display_name": "Python [default]",
   "language": "python",
   "name": "python3"
  },
  "language_info": {
   "codemirror_mode": {
    "name": "ipython",
    "version": 3
   },
   "file_extension": ".py",
   "mimetype": "text/x-python",
   "name": "python",
   "nbconvert_exporter": "python",
   "pygments_lexer": "ipython3",
   "version": "3.5.4"
  }
 },
 "nbformat": 4,
 "nbformat_minor": 1
}
