{
 "cells": [
  {
   "cell_type": "markdown",
   "metadata": {},
   "source": [
    "Here I am going to make some computations in order to understand the importance of each position in peptide epitope for immunogenicity prediction"
   ]
  },
  {
   "cell_type": "code",
   "execution_count": 1,
   "metadata": {},
   "outputs": [],
   "source": [
    "%matplotlib inline\n",
    "\n",
    "import os\n",
    "from tqdm import tqdm, tqdm_notebook, tqdm_pandas\n",
    "from tqdm import trange\n",
    "import time\n",
    "from scipy import stats\n",
    "from scipy.stats import shapiro\n",
    "\n",
    "import pandas as pd\n",
    "import numpy as np\n",
    "import networkx as nx\n",
    "import seaborn as sns\n",
    "import matplotlib.pyplot as plt\n",
    "\n",
    "import itertools\n",
    "from modules.kidera import score_positions, score_sequence\n",
    "\n",
    "from sklearn.ensemble import RandomForestClassifier\n",
    "from sklearn.model_selection import StratifiedKFold\n",
    "from sklearn.metrics import roc_curve, auc, roc_auc_score, f1_score, precision_score, recall_score\n",
    "from sklearn.model_selection import train_test_split, cross_val_score\n",
    "\n",
    "import warnings\n",
    "warnings.filterwarnings('ignore')"
   ]
  },
  {
   "cell_type": "markdown",
   "metadata": {},
   "source": [
    "Reading data"
   ]
  },
  {
   "cell_type": "code",
   "execution_count": 2,
   "metadata": {},
   "outputs": [
    {
     "data": {
      "text/html": [
       "<div>\n",
       "<style scoped>\n",
       "    .dataframe tbody tr th:only-of-type {\n",
       "        vertical-align: middle;\n",
       "    }\n",
       "\n",
       "    .dataframe tbody tr th {\n",
       "        vertical-align: top;\n",
       "    }\n",
       "\n",
       "    .dataframe thead th {\n",
       "        text-align: right;\n",
       "    }\n",
       "</style>\n",
       "<table border=\"1\" class=\"dataframe\">\n",
       "  <thead>\n",
       "    <tr style=\"text-align: right;\">\n",
       "      <th></th>\n",
       "      <th>Peptide</th>\n",
       "      <th>MHC</th>\n",
       "      <th>Length</th>\n",
       "      <th>Immunogenicity</th>\n",
       "    </tr>\n",
       "  </thead>\n",
       "  <tbody>\n",
       "    <tr>\n",
       "      <th>0</th>\n",
       "      <td>KLEDLERDL</td>\n",
       "      <td>HLA-A*02:01</td>\n",
       "      <td>9</td>\n",
       "      <td>1</td>\n",
       "    </tr>\n",
       "    <tr>\n",
       "      <th>1</th>\n",
       "      <td>DLMGYIPLV</td>\n",
       "      <td>HLA-A*02:01</td>\n",
       "      <td>9</td>\n",
       "      <td>1</td>\n",
       "    </tr>\n",
       "    <tr>\n",
       "      <th>2</th>\n",
       "      <td>QTVTSTPVQGR</td>\n",
       "      <td>HLA-A*68:01</td>\n",
       "      <td>11</td>\n",
       "      <td>1</td>\n",
       "    </tr>\n",
       "    <tr>\n",
       "      <th>3</th>\n",
       "      <td>TTVYPPSSTAK</td>\n",
       "      <td>HLA-A*03:01</td>\n",
       "      <td>11</td>\n",
       "      <td>1</td>\n",
       "    </tr>\n",
       "    <tr>\n",
       "      <th>4</th>\n",
       "      <td>LITGRLQSL</td>\n",
       "      <td>HLA-A2</td>\n",
       "      <td>9</td>\n",
       "      <td>1</td>\n",
       "    </tr>\n",
       "  </tbody>\n",
       "</table>\n",
       "</div>"
      ],
      "text/plain": [
       "       Peptide          MHC  Length  Immunogenicity\n",
       "0    KLEDLERDL  HLA-A*02:01       9               1\n",
       "1    DLMGYIPLV  HLA-A*02:01       9               1\n",
       "2  QTVTSTPVQGR  HLA-A*68:01      11               1\n",
       "3  TTVYPPSSTAK  HLA-A*03:01      11               1\n",
       "4    LITGRLQSL       HLA-A2       9               1"
      ]
     },
     "execution_count": 2,
     "metadata": {},
     "output_type": "execute_result"
    }
   ],
   "source": [
    "idf1 = pd.read_csv('data/immunogenic_peptides.csv')\n",
    "idf2 = pd.read_csv('data/immunogenic_peptides.txt', sep='\\t')\n",
    "idf2 = idf2[idf2['Species']=='Homo']\n",
    "\n",
    "idf1 = idf1.drop(['Epitope Start', 'Epitope End', ' Epitope Source Organism Name'], axis=1)\n",
    "idf1.columns = ['Peptide', 'MHC', 'Length','Immunogenicity']\n",
    "\n",
    "idf2[\"Species\"] = idf2.Peptide.str.len()\n",
    "idf2.columns = ['Peptide', 'MHC', 'Length','Immunogenicity']\n",
    "\n",
    "idf1 = idf1.reset_index(drop=True)\n",
    "idf2 = idf2.reset_index(drop=True)\n",
    "idf = pd.concat([idf1, idf2], axis=0)\n",
    "idf.Immunogenicity = idf.Immunogenicity.map({'immunogenic': 1, 'non-immunogenic': 0,\n",
    "                                             'Positive': 1, 'Negative': 0})\n",
    "idf.head()"
   ]
  },
  {
   "cell_type": "code",
   "execution_count": 3,
   "metadata": {},
   "outputs": [],
   "source": [
    "def get_data(df, index):\n",
    "    if index != -1:              \n",
    "        df1 = df.Peptide.apply(\n",
    "            lambda s: score_sequence(\"\".join(list(np.delete(np.array([x for x in s]), index)))))\n",
    "    else:\n",
    "        df1 = df.Peptide.apply(lambda s: score_sequence(s))\n",
    "        \n",
    "    df = pd.concat([df, df1], axis=1)\n",
    "    features = [\"Length\",\"helix.bend.pref\", \"side.chain.size\",\\\n",
    "            \"extended.str.pref\", \"hydrophobicity\", \"double.bend.pref\", \"partial.spec.vol\",\\\n",
    "            \"flat.ext.pref\", \"occurrence.alpha.reg\", \"pK.C\", \"surrounding.hydrop\"]\n",
    "    \n",
    "    df = df.drop([\"MHC\"], axis=1)\n",
    "    df.columns = ['Peptide', 'Length','Immunogenicity'] + features[1:]\n",
    "    df = df[['Peptide', 'Immunogenicity'] + features]\n",
    "\n",
    "    return df"
   ]
  },
  {
   "cell_type": "code",
   "execution_count": 4,
   "metadata": {},
   "outputs": [
    {
     "data": {
      "text/html": [
       "<div>\n",
       "<style scoped>\n",
       "    .dataframe tbody tr th:only-of-type {\n",
       "        vertical-align: middle;\n",
       "    }\n",
       "\n",
       "    .dataframe tbody tr th {\n",
       "        vertical-align: top;\n",
       "    }\n",
       "\n",
       "    .dataframe thead th {\n",
       "        text-align: right;\n",
       "    }\n",
       "</style>\n",
       "<table border=\"1\" class=\"dataframe\">\n",
       "  <thead>\n",
       "    <tr style=\"text-align: right;\">\n",
       "      <th></th>\n",
       "      <th>Peptide</th>\n",
       "      <th>Immunogenicity</th>\n",
       "      <th>Length</th>\n",
       "      <th>helix.bend.pref</th>\n",
       "      <th>side.chain.size</th>\n",
       "      <th>extended.str.pref</th>\n",
       "      <th>hydrophobicity</th>\n",
       "      <th>double.bend.pref</th>\n",
       "      <th>partial.spec.vol</th>\n",
       "      <th>flat.ext.pref</th>\n",
       "      <th>occurrence.alpha.reg</th>\n",
       "      <th>pK.C</th>\n",
       "      <th>surrounding.hydrop</th>\n",
       "    </tr>\n",
       "  </thead>\n",
       "  <tbody>\n",
       "    <tr>\n",
       "      <th>0</th>\n",
       "      <td>KLEDLERDL</td>\n",
       "      <td>1</td>\n",
       "      <td>9</td>\n",
       "      <td>-4.98</td>\n",
       "      <td>2.03</td>\n",
       "      <td>-5.96</td>\n",
       "      <td>4.23</td>\n",
       "      <td>-6.27</td>\n",
       "      <td>-6.21</td>\n",
       "      <td>1.99</td>\n",
       "      <td>-1.05</td>\n",
       "      <td>1.92</td>\n",
       "      <td>5.48</td>\n",
       "    </tr>\n",
       "    <tr>\n",
       "      <th>1</th>\n",
       "      <td>DLMGYIPLV</td>\n",
       "      <td>1</td>\n",
       "      <td>9</td>\n",
       "      <td>0.53</td>\n",
       "      <td>-1.72</td>\n",
       "      <td>0.77</td>\n",
       "      <td>-4.76</td>\n",
       "      <td>0.92</td>\n",
       "      <td>-4.45</td>\n",
       "      <td>0.07</td>\n",
       "      <td>0.72</td>\n",
       "      <td>-0.38</td>\n",
       "      <td>2.41</td>\n",
       "    </tr>\n",
       "    <tr>\n",
       "      <th>2</th>\n",
       "      <td>QTVTSTPVQGR</td>\n",
       "      <td>1</td>\n",
       "      <td>11</td>\n",
       "      <td>2.91</td>\n",
       "      <td>-5.14</td>\n",
       "      <td>8.00</td>\n",
       "      <td>4.67</td>\n",
       "      <td>1.97</td>\n",
       "      <td>-0.34</td>\n",
       "      <td>0.91</td>\n",
       "      <td>-6.23</td>\n",
       "      <td>-4.32</td>\n",
       "      <td>-1.91</td>\n",
       "    </tr>\n",
       "    <tr>\n",
       "      <th>3</th>\n",
       "      <td>TTVYPPSSTAK</td>\n",
       "      <td>1</td>\n",
       "      <td>11</td>\n",
       "      <td>5.26</td>\n",
       "      <td>-5.00</td>\n",
       "      <td>3.29</td>\n",
       "      <td>1.70</td>\n",
       "      <td>2.15</td>\n",
       "      <td>-5.02</td>\n",
       "      <td>-2.89</td>\n",
       "      <td>-9.42</td>\n",
       "      <td>-2.92</td>\n",
       "      <td>0.85</td>\n",
       "    </tr>\n",
       "    <tr>\n",
       "      <th>4</th>\n",
       "      <td>LITGRLQSL</td>\n",
       "      <td>1</td>\n",
       "      <td>9</td>\n",
       "      <td>-1.57</td>\n",
       "      <td>-2.39</td>\n",
       "      <td>3.65</td>\n",
       "      <td>-0.21</td>\n",
       "      <td>-3.00</td>\n",
       "      <td>-5.40</td>\n",
       "      <td>3.48</td>\n",
       "      <td>-2.81</td>\n",
       "      <td>-0.98</td>\n",
       "      <td>0.03</td>\n",
       "    </tr>\n",
       "  </tbody>\n",
       "</table>\n",
       "</div>"
      ],
      "text/plain": [
       "       Peptide  Immunogenicity  Length  helix.bend.pref  side.chain.size  \\\n",
       "0    KLEDLERDL               1       9            -4.98             2.03   \n",
       "1    DLMGYIPLV               1       9             0.53            -1.72   \n",
       "2  QTVTSTPVQGR               1      11             2.91            -5.14   \n",
       "3  TTVYPPSSTAK               1      11             5.26            -5.00   \n",
       "4    LITGRLQSL               1       9            -1.57            -2.39   \n",
       "\n",
       "   extended.str.pref  hydrophobicity  double.bend.pref  partial.spec.vol  \\\n",
       "0              -5.96            4.23             -6.27             -6.21   \n",
       "1               0.77           -4.76              0.92             -4.45   \n",
       "2               8.00            4.67              1.97             -0.34   \n",
       "3               3.29            1.70              2.15             -5.02   \n",
       "4               3.65           -0.21             -3.00             -5.40   \n",
       "\n",
       "   flat.ext.pref  occurrence.alpha.reg  pK.C  surrounding.hydrop  \n",
       "0           1.99                 -1.05  1.92                5.48  \n",
       "1           0.07                  0.72 -0.38                2.41  \n",
       "2           0.91                 -6.23 -4.32               -1.91  \n",
       "3          -2.89                 -9.42 -2.92                0.85  \n",
       "4           3.48                 -2.81 -0.98                0.03  "
      ]
     },
     "execution_count": 4,
     "metadata": {},
     "output_type": "execute_result"
    }
   ],
   "source": [
    "ndf = get_data(idf, -1)\n",
    "\n",
    "feats = [\"helix.bend.pref\", \"side.chain.size\",\\\n",
    "            \"extended.str.pref\", \"hydrophobicity\", \"double.bend.pref\", \"partial.spec.vol\",\\\n",
    "            \"flat.ext.pref\", \"occurrence.alpha.reg\", \"pK.C\", \"surrounding.hydrop\"]\n",
    "ndf.head()"
   ]
  },
  {
   "cell_type": "code",
   "execution_count": 5,
   "metadata": {},
   "outputs": [
    {
     "name": "stdout",
     "output_type": "stream",
     "text": [
      "             precision    recall  f1-score   support\n",
      "\n",
      "    Non-imm       0.65      0.56      0.60      1214\n",
      "        Imm       0.68      0.76      0.72      1537\n",
      "\n",
      "avg / total       0.67      0.67      0.67      2751\n",
      "\n",
      "0.6581406578424132\n"
     ]
    }
   ],
   "source": [
    "from sklearn.metrics import classification_report\n",
    "skf = StratifiedKFold(n_splits=4)\n",
    "train_index, test_index = next(iter(\n",
    "    skf.split(idf[['Peptide', 'MHC', 'Length']], idf[\"Immunogenicity\"])))\n",
    "\n",
    "X_train = get_data(idf.iloc[train_index,:], -1)[feats]\n",
    "y_train = idf[\"Immunogenicity\"].iloc[train_index]\n",
    "X_test = get_data(idf.iloc[test_index,:], -1)[feats]\n",
    "y_test = idf[\"Immunogenicity\"].iloc[test_index]\n",
    "\n",
    "forest = RandomForestClassifier(100, max_features=None, min_samples_split=3, min_samples_leaf=3,\\\n",
    "                                random_state=42, n_jobs=-1, oob_score=True)\n",
    "forest.fit(X_train, y_train)\n",
    "feats_imp = pd.DataFrame(forest.feature_importances_,\n",
    "                        index=feats, \n",
    "                        columns=['Importance']).sort_values(['Importance'], \n",
    "                                                     ascending=False)\n",
    "print(classification_report(y_test, forest.predict(X_test), target_names=['Non-imm', 'Imm']))\n",
    "print(roc_auc_score(y_test, forest.predict(X_test)))"
   ]
  },
  {
   "cell_type": "code",
   "execution_count": 6,
   "metadata": {},
   "outputs": [],
   "source": [
    "scores = []\n",
    "for i in [8, 9, 10, 11]:\n",
    "    score = []\n",
    "    for j in [-1] + [l for l in range(i)]:\n",
    "        test_df = idf.iloc[test_index,:]\n",
    "        X_test = get_data(test_df[test_df['Length']==i], j)[feats]\n",
    "        y_test = test_df[test_df['Length']==i][\"Immunogenicity\"]\n",
    "        \n",
    "        score.append(f1_score(y_test, forest.predict(X_test)))\n",
    "        \n",
    "    scores.append(score)"
   ]
  },
  {
   "cell_type": "code",
   "execution_count": 7,
   "metadata": {},
   "outputs": [
    {
     "data": {
      "image/png": "[encoded data removed]",
      "text/plain": [
       "<matplotlib.figure.Figure at 0x7f6cfa5ab198>"
      ]
     },
     "metadata": {},
     "output_type": "display_data"
    }
   ],
   "source": [
    "def plot_scores(data, ax, i):\n",
    "    ax.scatter(range(len(data)), data)\n",
    "    ax.set_xlabel(\"Peptide's excluded position, 0 - without exclusion\")\n",
    "    ax.set_xticks(range(i))\n",
    "\n",
    "fig, axs = plt.subplots(2, 2)\n",
    "fig.set_size_inches(12, 8)\n",
    "n=0\n",
    "i=9\n",
    "fig.suptitle(\"Model's roc_auc score\")\n",
    "for ax1, ax2 in axs:\n",
    "    plot_scores(scores[n], ax1, i)\n",
    "    n+=1\n",
    "    i+=1\n",
    "    plot_scores(scores[n], ax2, i)\n",
    "    n+=1\n",
    "    i+=1"
   ]
  },
  {
   "cell_type": "code",
   "execution_count": 8,
   "metadata": {},
   "outputs": [
    {
     "data": {
      "image/png": "[encoded data removed]",
      "text/plain": [
       "<matplotlib.figure.Figure at 0x7f6cfa5ab940>"
      ]
     },
     "metadata": {},
     "output_type": "display_data"
    }
   ],
   "source": [
    "def plot_scores(data, ax, i):\n",
    "    ax.scatter(range(len(data)), data)\n",
    "    ax.set_xlabel(\"Peptide's excluded position, 0 - without exclusion\")\n",
    "    ax.set_xticks(range(i))\n",
    "\n",
    "fig, axs = plt.subplots(2, 2)\n",
    "fig.set_size_inches(12, 8)\n",
    "n=0\n",
    "i=9\n",
    "fig.suptitle(\"Model's f1 score\")\n",
    "for ax1, ax2 in axs:\n",
    "    plot_scores(scores[n], ax1, i)\n",
    "    n+=1\n",
    "    i+=1\n",
    "    plot_scores(scores[n], ax2, i)\n",
    "    n+=1\n",
    "    i+=1"
   ]
  },
  {
   "cell_type": "code",
   "execution_count": 9,
   "metadata": {},
   "outputs": [],
   "source": [
    "datasets = []\n",
    "for j in [-1] + [l for l in range(9)]:\n",
    "    test_df = get_data(idf[idf['Length']==9], j)\n",
    "\n",
    "    datasets.append(test_df)"
   ]
  },
  {
   "cell_type": "code",
   "execution_count": 10,
   "metadata": {},
   "outputs": [
    {
     "name": "stdout",
     "output_type": "stream",
     "text": [
      "helix.bend.pref                     20.61             3.34e-05\n",
      "side.chain.size                     44.49             2.18e-10\n",
      "extended.str.pref                   3.128               0.2093\n",
      "hydrophobicity                       26.9            1.441e-06\n",
      "double.bend.pref                     3.01               0.2221\n",
      "partial.spec.vol                    6.606              0.03678\n",
      "flat.ext.pref                       51.89            5.397e-12\n",
      "occurrence.alpha.reg                36.13            1.426e-08\n",
      "pK.C                                23.92            6.405e-06\n",
      "surrounding.hydrop                  139.0            6.441e-31\n"
     ]
    }
   ],
   "source": [
    "from scipy.stats import normaltest\n",
    "\n",
    "for feat in feats:\n",
    "    wtf = normaltest(datasets[0][feat])\n",
    "    print(\"{:<20} {:>20.04} {:>20.04}\".format(feat, wtf.statistic, wtf.pvalue))"
   ]
  },
  {
   "cell_type": "code",
   "execution_count": 11,
   "metadata": {},
   "outputs": [],
   "source": [
    "from sklearn.preprocessing import scale\n",
    "\n",
    "norm_df = datasets[0].copy()\n",
    "\n",
    "for feat in feats:\n",
    "    norm_df[feat] = scale(norm_df[feat])"
   ]
  },
  {
   "cell_type": "code",
   "execution_count": null,
   "metadata": {},
   "outputs": [],
   "source": []
  },
  {
   "cell_type": "code",
   "execution_count": 12,
   "metadata": {},
   "outputs": [
    {
     "name": "stdout",
     "output_type": "stream",
     "text": [
      "helix.bend.pref                     20.61             3.34e-05\n",
      "side.chain.size                     44.49             2.18e-10\n",
      "extended.str.pref                   3.128               0.2093\n",
      "hydrophobicity                       26.9            1.441e-06\n",
      "double.bend.pref                     3.01               0.2221\n",
      "partial.spec.vol                    6.606              0.03678\n",
      "flat.ext.pref                       51.89            5.397e-12\n",
      "occurrence.alpha.reg                36.13            1.426e-08\n",
      "pK.C                                23.92            6.405e-06\n",
      "surrounding.hydrop                  139.0            6.441e-31\n"
     ]
    }
   ],
   "source": [
    "for feat in feats:\n",
    "    wtf = normaltest(norm_df[feat])\n",
    "    print(\"{:<20} {:>20.04} {:>20.04}\".format(feat, wtf.statistic, wtf.pvalue))"
   ]
  },
  {
   "cell_type": "code",
   "execution_count": 13,
   "metadata": {},
   "outputs": [
    {
     "ename": "NameError",
     "evalue": "name 'pylab' is not defined",
     "output_type": "error",
     "traceback": [
      "\u001b[0;31m---------------------------------------------------------------------------\u001b[0m",
      "\u001b[0;31mNameError\u001b[0m                                 Traceback (most recent call last)",
      "\u001b[0;32m<ipython-input-13-4a9f0875f4bb>\u001b[0m in \u001b[0;36m<module>\u001b[0;34m()\u001b[0m\n\u001b[0;32m----> 1\u001b[0;31m \u001b[0mstats\u001b[0m\u001b[0;34m.\u001b[0m\u001b[0mprobplot\u001b[0m\u001b[0;34m(\u001b[0m\u001b[0mnorm_df\u001b[0m\u001b[0;34m[\u001b[0m\u001b[0;34m'double.bend.pref'\u001b[0m\u001b[0;34m]\u001b[0m\u001b[0;34m,\u001b[0m \u001b[0mdist\u001b[0m\u001b[0;34m=\u001b[0m\u001b[0;34m\"norm\"\u001b[0m\u001b[0;34m,\u001b[0m \u001b[0mplot\u001b[0m\u001b[0;34m=\u001b[0m\u001b[0mpylab\u001b[0m\u001b[0;34m)\u001b[0m\u001b[0;34m\u001b[0m\u001b[0m\n\u001b[0m\u001b[1;32m      2\u001b[0m \u001b[0mpylab\u001b[0m\u001b[0;34m.\u001b[0m\u001b[0mshow\u001b[0m\u001b[0;34m(\u001b[0m\u001b[0;34m)\u001b[0m\u001b[0;34m\u001b[0m\u001b[0m\n",
      "\u001b[0;31mNameError\u001b[0m: name 'pylab' is not defined"
     ]
    }
   ],
   "source": [
    "stats.probplot(norm_df['double.bend.pref'], dist=\"norm\", plot=pylab)\n",
    "pylab.show()"
   ]
  },
  {
   "cell_type": "code",
   "execution_count": null,
   "metadata": {},
   "outputs": [],
   "source": [
    "import pylab\n",
    "\n",
    "stats.probplot(datasets[0]['double.bend.pref'], dist=\"norm\", plot=pylab)\n",
    "pylab.show()"
   ]
  },
  {
   "cell_type": "code",
   "execution_count": null,
   "metadata": {},
   "outputs": [],
   "source": []
  },
  {
   "cell_type": "code",
   "execution_count": null,
   "metadata": {},
   "outputs": [],
   "source": []
  }
 ],
 "metadata": {
  "kernelspec": {
   "display_name": "Python 3",
   "language": "python",
   "name": "python3"
  },
  "language_info": {
   "codemirror_mode": {
    "name": "ipython",
    "version": 3
   },
   "file_extension": ".py",
   "mimetype": "text/x-python",
   "name": "python",
   "nbconvert_exporter": "python",
   "pygments_lexer": "ipython3",
   "version": "3.6.0"
  }
 },
 "nbformat": 4,
 "nbformat_minor": 2
}
