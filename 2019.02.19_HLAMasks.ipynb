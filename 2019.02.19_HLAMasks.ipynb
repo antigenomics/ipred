{
 "cells": [
  {
   "cell_type": "code",
   "execution_count": 1,
   "metadata": {
    "collapsed": true
   },
   "outputs": [],
   "source": [
    "%matplotlib inline\n",
    "\n",
    "import os, sys, gc\n",
    "from tqdm import tqdm, tqdm_notebook, tqdm_pandas\n",
    "from tqdm import trange\n",
    "import time\n",
    "from scipy import stats\n",
    "from scipy.stats import shapiro\n",
    "\n",
    "import pandas as pd\n",
    "import numpy as np\n",
    "import networkx as nx\n",
    "import seaborn as sns\n",
    "import matplotlib.pyplot as plt\n",
    "\n",
    "from multiprocessing import Pool, Process\n",
    "\n",
    "import itertools\n",
    "from modules.kidera import score_positions, score_sequence\n",
    "\n",
    "import warnings\n",
    "warnings.filterwarnings('ignore')"
   ]
  },
  {
   "cell_type": "code",
   "execution_count": 12,
   "metadata": {
    "collapsed": true
   },
   "outputs": [],
   "source": [
    "def get_obj_size(obj):\n",
    "    marked = {id(obj)}\n",
    "    obj_q = [obj]\n",
    "    sz = 0\n",
    "\n",
    "    while obj_q:\n",
    "        sz += sum(map(sys.getsizeof, obj_q))\n",
    "\n",
    "        # Lookup all the object reffered to by the object in obj_q.\n",
    "        # See: https://docs.python.org/3.7/library/gc.html#gc.get_referents\n",
    "        all_refr = ((id(o), o) for o in gc.get_referents(*obj_q))\n",
    "\n",
    "        # Filter object that are already marked.\n",
    "        # Using dict notation will prevent repeated objects.\n",
    "        new_refr = {o_id: o for o_id, o in all_refr if o_id not in marked and not isinstance(o, type)}\n",
    "\n",
    "        # The new obj_q will be the ones that were not marked,\n",
    "        # and we will update marked with their ids so we will\n",
    "        # not traverse them again.\n",
    "        obj_q = new_refr.values()\n",
    "        marked.update(new_refr.keys())\n",
    "\n",
    "    return sz"
   ]
  },
  {
   "cell_type": "code",
   "execution_count": 18,
   "metadata": {
    "collapsed": false
   },
   "outputs": [
    {
     "name": "stdout",
     "output_type": "stream",
     "text": [
      "\n"
     ]
    }
   ],
   "source": [
    "# n_str = 5000000\n",
    "# df = pd.DataFrame()\n",
    "# for chunk in tqdm_notebook(pd.read_csv('output/tmp/CMV_nmp.csv', chunksize=n_str)):\n",
    "#     df = pd.concat([df, chunk[chunk[\"%Rank\"] <= 0.5]])"
   ]
  },
  {
   "cell_type": "code",
   "execution_count": 73,
   "metadata": {
    "collapsed": false
   },
   "outputs": [
    {
     "data": {
      "text/plain": [
       "['CMV_nmp.csv',\n",
       " 'HCV_nmp.csv',\n",
       " 'YFV_nmp.csv',\n",
       " 'CLOSdificile_nmp.csv',\n",
       " 'EBV_nmp.csv',\n",
       " 'MYPLsynoviae_nmp.csv',\n",
       " 'YERSpseudotuberculosis_nmp.csv',\n",
       " 'HIV-1_nmp.csv',\n",
       " 'SHGLsonnei_nmp.csv',\n",
       " 'SLMLenteritidis_nmp.csv',\n",
       " 'MYPLpneumoniae_nmp.csv',\n",
       " 'MYBTsmegmatis_nmp.csv',\n",
       " 'CPBTjejuni_nmp.csv',\n",
       " 'CLMDtrachomatis_nmp.csv']"
      ]
     },
     "execution_count": 73,
     "metadata": {},
     "output_type": "execute_result"
    }
   ],
   "source": [
    "folder = 'output/tmp/'\n",
    "infections = [i for i in os.listdir(folder)]\n",
    "viruses = ['CMV_nmp.csv',\n",
    "           'HCV_nmp.csv',\n",
    "           'YFV_nmp.csv',\n",
    "           'EBV_nmp.csv', \n",
    "           'HIV-1_nmp.csv']\n",
    "infections"
   ]
  },
  {
   "cell_type": "code",
   "execution_count": 74,
   "metadata": {
    "collapsed": false
   },
   "outputs": [
    {
     "name": "stdout",
     "output_type": "stream",
     "text": [
      "CMV_nmp.csv\n",
      "HCV_nmp.csv\n",
      "YFV_nmp.csv\n",
      "EBV_nmp.csv\n",
      "HIV-1_nmp.csv\n"
     ]
    }
   ],
   "source": [
    "for infection in infections:\n",
    "    if infection in viruses:\n",
    "        print(infection)"
   ]
  },
  {
   "cell_type": "code",
   "execution_count": 75,
   "metadata": {
    "collapsed": false
   },
   "outputs": [
    {
     "name": "stdout",
     "output_type": "stream",
     "text": [
      "HCV_nmp.csv\n",
      "CLOSdificile_nmp.csv\n",
      "EBV_nmp.csv\n",
      "CLMDtrachomatis_nmp.csv\n",
      "SHGLsonnei_nmp.csv\n",
      "YERSpseudotuberculosis_nmp.csv\n",
      "MYBTsmegmatis_nmp.csv\n",
      "CPBTjejuni_nmp.csv\n",
      "MYPLpneumoniae_nmp.csv\n",
      "HIV-1_nmp.csv\n",
      "MYPLsynoviae_nmp.csv\n",
      "SLMLenteritidis_nmp.csv\n",
      "CMV_nmp.csv\n",
      "YFV_nmp.csv\n",
      "\n",
      "\n",
      "\n",
      "\n",
      "\n",
      "\n",
      "\n",
      "\n",
      "\n",
      "\n",
      "\n",
      "\n",
      "\n",
      "\n"
     ]
    }
   ],
   "source": [
    "def filter_binding(filepath, rank):\n",
    "    print(filepath)\n",
    "    df = pd.DataFrame()\n",
    "    for chunk in tqdm_notebook(pd.read_csv(folder + filepath, chunksize=n_str)):\n",
    "        df = pd.concat([df, chunk[chunk[\"%Rank\"] <= rank]])\n",
    "    return df\n",
    "\n",
    "def filter_(filepath):\n",
    "    if filepath in viruses:\n",
    "        return filter_binding(filepath, rank=2)\n",
    "    else:\n",
    "        return filter_binding(filepath, rank=.5)\n",
    "\n",
    "n_str = 25000000\n",
    "\n",
    "with Pool(processes=len(infections)) as pool:\n",
    "    result = pool.map(filter_, infections)\n",
    "\n",
    "df = pd.concat(result)"
   ]
  },
  {
   "cell_type": "code",
   "execution_count": 14,
   "metadata": {
    "collapsed": false
   },
   "outputs": [
    {
     "data": {
      "text/plain": [
       "2396.6356521844864"
      ]
     },
     "execution_count": 14,
     "metadata": {},
     "output_type": "execute_result"
    }
   ],
   "source": [
    "get_obj_size(df) / 8 / 1024 / 1024"
   ]
  },
  {
   "cell_type": "code",
   "execution_count": 76,
   "metadata": {
    "collapsed": false
   },
   "outputs": [
    {
     "data": {
      "text/plain": [
       "(15690217, 5)"
      ]
     },
     "execution_count": 76,
     "metadata": {},
     "output_type": "execute_result"
    }
   ],
   "source": [
    "df.shape"
   ]
  },
  {
   "cell_type": "code",
   "execution_count": 77,
   "metadata": {
    "collapsed": false
   },
   "outputs": [
    {
     "data": {
      "text/html": [
       "<div>\n",
       "<style scoped>\n",
       "    .dataframe tbody tr th:only-of-type {\n",
       "        vertical-align: middle;\n",
       "    }\n",
       "\n",
       "    .dataframe tbody tr th {\n",
       "        vertical-align: top;\n",
       "    }\n",
       "\n",
       "    .dataframe thead th {\n",
       "        text-align: right;\n",
       "    }\n",
       "</style>\n",
       "<table border=\"1\" class=\"dataframe\">\n",
       "  <thead>\n",
       "    <tr style=\"text-align: right;\">\n",
       "      <th></th>\n",
       "      <th>HLA</th>\n",
       "      <th>Peptide</th>\n",
       "      <th>%Rank</th>\n",
       "      <th>Origin_protein</th>\n",
       "      <th>Origin_name</th>\n",
       "    </tr>\n",
       "  </thead>\n",
       "  <tbody>\n",
       "    <tr>\n",
       "      <th>1116</th>\n",
       "      <td>HLA-C*02:02</td>\n",
       "      <td>FAYDAQEDCLYEL</td>\n",
       "      <td>1.0807</td>\n",
       "      <td>UL29_HCMVA</td>\n",
       "      <td>CMV</td>\n",
       "    </tr>\n",
       "    <tr>\n",
       "      <th>2305</th>\n",
       "      <td>HLA-C*02:02</td>\n",
       "      <td>FVDDVGLYSTALF</td>\n",
       "      <td>1.1146</td>\n",
       "      <td>UL78_HCMVA</td>\n",
       "      <td>CMV</td>\n",
       "    </tr>\n",
       "    <tr>\n",
       "      <th>3067</th>\n",
       "      <td>HLA-C*02:02</td>\n",
       "      <td>MAYSRQPDRAAFY</td>\n",
       "      <td>1.2563</td>\n",
       "      <td>TRM1_HCMVA</td>\n",
       "      <td>CMV</td>\n",
       "    </tr>\n",
       "    <tr>\n",
       "      <th>3562</th>\n",
       "      <td>HLA-C*02:02</td>\n",
       "      <td>FTYDEHLYVVNNL</td>\n",
       "      <td>0.7089</td>\n",
       "      <td>TRM1_HCMVA</td>\n",
       "      <td>CMV</td>\n",
       "    </tr>\n",
       "    <tr>\n",
       "      <th>4432</th>\n",
       "      <td>HLA-C*02:02</td>\n",
       "      <td>FSYGNSVDNLRRL</td>\n",
       "      <td>1.5836</td>\n",
       "      <td>US08_HCMVA</td>\n",
       "      <td>CMV</td>\n",
       "    </tr>\n",
       "  </tbody>\n",
       "</table>\n",
       "</div>"
      ],
      "text/plain": [
       "              HLA        Peptide   %Rank Origin_protein Origin_name\n",
       "1116  HLA-C*02:02  FAYDAQEDCLYEL  1.0807     UL29_HCMVA         CMV\n",
       "2305  HLA-C*02:02  FVDDVGLYSTALF  1.1146     UL78_HCMVA         CMV\n",
       "3067  HLA-C*02:02  MAYSRQPDRAAFY  1.2563     TRM1_HCMVA         CMV\n",
       "3562  HLA-C*02:02  FTYDEHLYVVNNL  0.7089     TRM1_HCMVA         CMV\n",
       "4432  HLA-C*02:02  FSYGNSVDNLRRL  1.5836     US08_HCMVA         CMV"
      ]
     },
     "execution_count": 77,
     "metadata": {},
     "output_type": "execute_result"
    }
   ],
   "source": [
    "df.head()"
   ]
  },
  {
   "cell_type": "code",
   "execution_count": 78,
   "metadata": {
    "collapsed": true
   },
   "outputs": [],
   "source": [
    "df.to_csv('milab_data.csv', index=False)"
   ]
  },
  {
   "cell_type": "code",
   "execution_count": 33,
   "metadata": {
    "collapsed": true
   },
   "outputs": [],
   "source": [
    "aa = {'A': 0, 'C': 1, 'D': 2, 'E': 3, 'F': 4, 'G': 5, 'H': 6, 'I': 7,\\\n",
    "      'K': 8, 'L': 9, 'M': 10, 'N': 11, 'P': 12, 'Q': 13, 'R': 14,\\\n",
    "      'S': 15, 'T': 16, 'V': 17, 'W': 18, 'Y': 19}\n",
    "\n",
    "def count_freq(df, hla):\n",
    "#     data = pd.read_csv(filepath, index_col=False, sep=\" \")\n",
    "#     binding = data[data.ix[:,2] <= 500]\n",
    "    ndf = df[df['Peptide'].str.len()==9]\n",
    "    binding = ndf[ndf['HLA']==hla]\n",
    "    freq = np.zeros((20,9))\n",
    "    for line in binding.ix[:,1]:\n",
    "        for i, a in enumerate(line):\n",
    "            try:\n",
    "                freq[int(aa[a]), i] = freq[aa[a],i]+1\n",
    "            except KeyError:\n",
    "                pass\n",
    "    freq_norm = np.true_divide(freq, 409088)\n",
    "    freq_norm_r = np.round(freq_norm, 2)\n",
    "    aa_df = pd.DataFrame(freq_norm_r, index=[i for i in sorted(aa.keys())], columns=np.arange(1,10))\n",
    "    return aa_df\n",
    "\n",
    "def plot_freq(aa_df, axes):\n",
    "#     fig = plt.figure(figsize=(3, 5))\n",
    "    sns.heatmap(aa_df, ax = axes)\n",
    "#     plt.show()\n",
    "\n",
    "def plot_entr(input_df, axes):\n",
    "    df = pd.DataFrame([stats.entropy(input_df[i], base=2) for i in input_df.columns], columns = ['entropy'])\n",
    "    df['position'] = input_df.columns\n",
    "    clrs = ['grey' if x > 3 else 'red' for x in df['entropy']]\n",
    "#     fig = plt.figure(figsize=(5, 3))\n",
    "    sns.barplot(data=df, x='position', y='entropy', palette = clrs, ax = axes)"
   ]
  },
  {
   "cell_type": "code",
   "execution_count": 24,
   "metadata": {
    "collapsed": false
   },
   "outputs": [
    {
     "data": {
      "text/plain": [
       "array(['HLA-A*01:01', 'HLA-A*02:01', 'HLA-A*02:02', 'HLA-A*02:03',\n",
       "       'HLA-A*02:05', 'HLA-A*02:06', 'HLA-A*02:07', 'HLA-A*02:11',\n",
       "       'HLA-A*02:17', 'HLA-A*03:01', 'HLA-A*11:01', 'HLA-A*23:01',\n",
       "       'HLA-A*24:02', 'HLA-A*24:03', 'HLA-A*25:01', 'HLA-A*26:01',\n",
       "       'HLA-A*29:02', 'HLA-A*30:01', 'HLA-A*30:02', 'HLA-A*31:01',\n",
       "       'HLA-A*32:01', 'HLA-A*33:01', 'HLA-A*33:03', 'HLA-A*68:01',\n",
       "       'HLA-A*68:02', 'HLA-B*07:02', 'HLA-B*08:01', 'HLA-B*14:02',\n",
       "       'HLA-B*15:01', 'HLA-B*15:03', 'HLA-B*15:10', 'HLA-B*27:02',\n",
       "       'HLA-B*27:05', 'HLA-B*35:01', 'HLA-B*35:02', 'HLA-B*35:03',\n",
       "       'HLA-B*35:14', 'HLA-B*37:01', 'HLA-B*38:01', 'HLA-B*39:01',\n",
       "       'HLA-B*39:05', 'HLA-B*39:06', 'HLA-B*40:01', 'HLA-B*40:02',\n",
       "       'HLA-B*40:06', 'HLA-B*41:02', 'HLA-B*42:01', 'HLA-B*44:02',\n",
       "       'HLA-B*44:03', 'HLA-B*45:01', 'HLA-B*48:01', 'HLA-B*50:01',\n",
       "       'HLA-B*51:01', 'HLA-B*52:01', 'HLA-B*53:01', 'HLA-B*55:01',\n",
       "       'HLA-B*55:02', 'HLA-B*57:01', 'HLA-B*57:03', 'HLA-B*58:01',\n",
       "       'HLA-C*02:02', 'HLA-C*03:03', 'HLA-C*03:04', 'HLA-C*04:01',\n",
       "       'HLA-C*06:02', 'HLA-C*07:01', 'HLA-C*08:01', 'HLA-C*08:02'], dtype=object)"
      ]
     },
     "execution_count": 24,
     "metadata": {},
     "output_type": "execute_result"
    }
   ],
   "source": [
    "np.sort(df.HLA.unique())"
   ]
  },
  {
   "cell_type": "code",
   "execution_count": 27,
   "metadata": {
    "collapsed": false
   },
   "outputs": [],
   "source": [
    "A0101 = count_freq(df, 'HLA-A*01:01')\n",
    "A0205 = count_freq(df, 'HLA-A*02:05')"
   ]
  },
  {
   "cell_type": "code",
   "execution_count": 38,
   "metadata": {
    "collapsed": false
   },
   "outputs": [
    {
     "data": {
      "image/png": "[encoded data removed]",
      "text/plain": [
       "<matplotlib.figure.Figure at 0x7fb72b28bda0>"
      ]
     },
     "metadata": {},
     "output_type": "display_data"
    }
   ],
   "source": [
    "# sns.set()\n",
    "# sns.set_style(\"dark\")\n",
    "sns.set_context(\"paper\")\n",
    "figs, axs = plt.subplots(1,2)\n",
    "\n",
    "plot_freq(A0101, axs[0])\n",
    "plot_freq(A0205, axs[1])\n",
    "plt.tight_layout()"
   ]
  },
  {
   "cell_type": "code",
   "execution_count": 32,
   "metadata": {
    "collapsed": false
   },
   "outputs": [
    {
     "data": {
      "image/png": "[encoded data removed]",
      "text/plain": [
       "<matplotlib.figure.Figure at 0x7fb72a415cf8>"
      ]
     },
     "metadata": {},
     "output_type": "display_data"
    }
   ],
   "source": [
    "figs, axs = plt.subplots(1,2)\n",
    "\n",
    "plot_entr(A0101, axs[0])\n",
    "plot_entr(A0205, axs[1])\n",
    "plt.tight_layout()"
   ]
  },
  {
   "cell_type": "code",
   "execution_count": 40,
   "metadata": {
    "collapsed": false
   },
   "outputs": [
    {
     "name": "stdout",
     "output_type": "stream",
     "text": [
      "\n"
     ]
    }
   ],
   "source": [
    "sumentrlist = {}\n",
    "for hla in tqdm_notebook(np.sort(df.HLA.unique())):\n",
    "    entr = 0\n",
    "    freq = count_freq(df, hla)\n",
    "    for col in freq:\n",
    "        entr += stats.entropy(freq[col], base=2)\n",
    "    sumentrlist[hla] = entr"
   ]
  },
  {
   "cell_type": "code",
   "execution_count": 43,
   "metadata": {
    "collapsed": false
   },
   "outputs": [
    {
     "data": {
      "text/html": [
       "<div>\n",
       "<style scoped>\n",
       "    .dataframe tbody tr th:only-of-type {\n",
       "        vertical-align: middle;\n",
       "    }\n",
       "\n",
       "    .dataframe tbody tr th {\n",
       "        vertical-align: top;\n",
       "    }\n",
       "\n",
       "    .dataframe thead th {\n",
       "        text-align: right;\n",
       "    }\n",
       "</style>\n",
       "<table border=\"1\" class=\"dataframe\">\n",
       "  <thead>\n",
       "    <tr style=\"text-align: right;\">\n",
       "      <th></th>\n",
       "      <th>0</th>\n",
       "      <th>name</th>\n",
       "    </tr>\n",
       "  </thead>\n",
       "  <tbody>\n",
       "    <tr>\n",
       "      <th>0</th>\n",
       "      <td>26.354611</td>\n",
       "      <td>HLA-A*01:01</td>\n",
       "    </tr>\n",
       "    <tr>\n",
       "      <th>1</th>\n",
       "      <td>29.793796</td>\n",
       "      <td>HLA-A*02:01</td>\n",
       "    </tr>\n",
       "    <tr>\n",
       "      <th>2</th>\n",
       "      <td>29.774254</td>\n",
       "      <td>HLA-A*02:02</td>\n",
       "    </tr>\n",
       "    <tr>\n",
       "      <th>3</th>\n",
       "      <td>29.461586</td>\n",
       "      <td>HLA-A*02:03</td>\n",
       "    </tr>\n",
       "    <tr>\n",
       "      <th>4</th>\n",
       "      <td>30.809960</td>\n",
       "      <td>HLA-A*02:05</td>\n",
       "    </tr>\n",
       "  </tbody>\n",
       "</table>\n",
       "</div>"
      ],
      "text/plain": [
       "           0         name\n",
       "0  26.354611  HLA-A*01:01\n",
       "1  29.793796  HLA-A*02:01\n",
       "2  29.774254  HLA-A*02:02\n",
       "3  29.461586  HLA-A*02:03\n",
       "4  30.809960  HLA-A*02:05"
      ]
     },
     "execution_count": 43,
     "metadata": {},
     "output_type": "execute_result"
    }
   ],
   "source": [
    "data = pd.DataFrame.from_dict(sumentrlist, orient=\"index\")\n",
    "data['name'] = data.index\n",
    "data = data.replace([np.inf, -np.inf], np.nan).dropna()\n",
    "data = data.sort_values(by='name')\n",
    "data.index = range(len(data))\n",
    "data.head()"
   ]
  },
  {
   "cell_type": "code",
   "execution_count": 44,
   "metadata": {
    "collapsed": false
   },
   "outputs": [
    {
     "data": {
      "image/png": "[encoded data removed]",
      "text/plain": [
       "<matplotlib.figure.Figure at 0x7fb72a479e80>"
      ]
     },
     "metadata": {},
     "output_type": "display_data"
    }
   ],
   "source": [
    "binz = np.arange(0,40,2.5)\n",
    "plt.hist(data[0], bins=binz)\n",
    "plt.title(\"MHC binding entropy\")\n",
    "plt.xlabel(\"Entropy\")\n",
    "plt.ylabel(\"Frequency\")\n",
    "thresh = 30\n",
    "plt.axvline(x=thresh, color='r', linestyle='dashed', linewidth=2)\n",
    "plt.show()"
   ]
  },
  {
   "cell_type": "code",
   "execution_count": 62,
   "metadata": {
    "collapsed": false
   },
   "outputs": [
    {
     "name": "stdout",
     "output_type": "stream",
     "text": [
      "\n"
     ]
    }
   ],
   "source": [
    "anchorpos = {}\n",
    "for hla in tqdm_notebook(np.sort(df.HLA.unique())):\n",
    "    freq = count_freq(df, hla)\n",
    "    pos = np.where(stats.entropy(freq, base=2) < 3)\n",
    "    anchorpos[hla] = [i + 1 for i in pos[0].tolist()]"
   ]
  },
  {
   "cell_type": "code",
   "execution_count": 66,
   "metadata": {
    "collapsed": false
   },
   "outputs": [],
   "source": [
    "anchor_df = pd.DataFrame.from_dict(anchorpos, orient='index')\n",
    "anchor_df.to_csv(\"output/anchorpos.csv\")"
   ]
  },
  {
   "cell_type": "code",
   "execution_count": 71,
   "metadata": {
    "collapsed": false
   },
   "outputs": [
    {
     "data": {
      "text/html": [
       "<div>\n",
       "<style scoped>\n",
       "    .dataframe tbody tr th:only-of-type {\n",
       "        vertical-align: middle;\n",
       "    }\n",
       "\n",
       "    .dataframe tbody tr th {\n",
       "        vertical-align: top;\n",
       "    }\n",
       "\n",
       "    .dataframe thead th {\n",
       "        text-align: right;\n",
       "    }\n",
       "</style>\n",
       "<table border=\"1\" class=\"dataframe\">\n",
       "  <thead>\n",
       "    <tr style=\"text-align: right;\">\n",
       "      <th></th>\n",
       "      <th>Entropy</th>\n",
       "      <th>HLA</th>\n",
       "    </tr>\n",
       "  </thead>\n",
       "  <tbody>\n",
       "    <tr>\n",
       "      <th>0</th>\n",
       "      <td>26.354611</td>\n",
       "      <td>HLA-A*01:01</td>\n",
       "    </tr>\n",
       "    <tr>\n",
       "      <th>32</th>\n",
       "      <td>26.756948</td>\n",
       "      <td>HLA-B*27:05</td>\n",
       "    </tr>\n",
       "  </tbody>\n",
       "</table>\n",
       "</div>"
      ],
      "text/plain": [
       "      Entropy          HLA\n",
       "0   26.354611  HLA-A*01:01\n",
       "32  26.756948  HLA-B*27:05"
      ]
     },
     "execution_count": 71,
     "metadata": {},
     "output_type": "execute_result"
    }
   ],
   "source": [
    "data.columns = [\"Entropy\", \"HLA\"]\n",
    "data[data[\"Entropy\"]<=27.5]"
   ]
  },
  {
   "cell_type": "code",
   "execution_count": 72,
   "metadata": {
    "collapsed": false
   },
   "outputs": [
    {
     "data": {
      "text/plain": [
       "{'HLA-A*01:01': [2, 3, 9],\n",
       " 'HLA-A*02:01': [2, 9],\n",
       " 'HLA-A*02:02': [2, 9],\n",
       " 'HLA-A*02:03': [2, 9],\n",
       " 'HLA-A*02:05': [2, 9],\n",
       " 'HLA-A*02:06': [2, 9],\n",
       " 'HLA-A*02:07': [2, 9],\n",
       " 'HLA-A*02:11': [2, 9],\n",
       " 'HLA-A*02:17': [2, 9],\n",
       " 'HLA-A*03:01': [2, 9],\n",
       " 'HLA-A*11:01': [2, 9],\n",
       " 'HLA-A*23:01': [2, 9],\n",
       " 'HLA-A*24:02': [2, 9],\n",
       " 'HLA-A*24:03': [2, 9],\n",
       " 'HLA-A*25:01': [2, 9],\n",
       " 'HLA-A*26:01': [2, 9],\n",
       " 'HLA-A*29:02': [9],\n",
       " 'HLA-A*30:01': [1, 3, 9],\n",
       " 'HLA-A*30:02': [9],\n",
       " 'HLA-A*31:01': [9],\n",
       " 'HLA-A*32:01': [2, 9],\n",
       " 'HLA-A*33:01': [9],\n",
       " 'HLA-A*33:03': [9],\n",
       " 'HLA-A*68:01': [2, 9],\n",
       " 'HLA-A*68:02': [2, 9],\n",
       " 'HLA-B*07:02': [2, 9],\n",
       " 'HLA-B*08:01': [2, 5, 9],\n",
       " 'HLA-B*14:02': [9],\n",
       " 'HLA-B*15:01': [2, 9],\n",
       " 'HLA-B*15:03': [9],\n",
       " 'HLA-B*15:10': [2, 9],\n",
       " 'HLA-B*27:02': [2, 9],\n",
       " 'HLA-B*27:05': [2, 9],\n",
       " 'HLA-B*35:01': [2, 9],\n",
       " 'HLA-B*35:02': [2, 9],\n",
       " 'HLA-B*35:03': [2, 9],\n",
       " 'HLA-B*35:14': [2, 9],\n",
       " 'HLA-B*37:01': [2, 9],\n",
       " 'HLA-B*38:01': [2, 9],\n",
       " 'HLA-B*39:01': [2, 9],\n",
       " 'HLA-B*39:05': [2, 9],\n",
       " 'HLA-B*39:06': [2, 9],\n",
       " 'HLA-B*40:01': [2, 9],\n",
       " 'HLA-B*40:02': [2, 9],\n",
       " 'HLA-B*40:06': [2, 9],\n",
       " 'HLA-B*41:02': [2, 9],\n",
       " 'HLA-B*42:01': [2, 9],\n",
       " 'HLA-B*44:02': [2, 9],\n",
       " 'HLA-B*44:03': [2, 9],\n",
       " 'HLA-B*45:01': [2, 9],\n",
       " 'HLA-B*48:01': [2, 9],\n",
       " 'HLA-B*50:01': [2, 9],\n",
       " 'HLA-B*51:01': [2, 9],\n",
       " 'HLA-B*52:01': [9],\n",
       " 'HLA-B*53:01': [2, 9],\n",
       " 'HLA-B*55:01': [2, 9],\n",
       " 'HLA-B*55:02': [2, 9],\n",
       " 'HLA-B*57:01': [2, 9],\n",
       " 'HLA-B*57:03': [2, 9],\n",
       " 'HLA-B*58:01': [2, 9],\n",
       " 'HLA-C*02:02': [2, 9],\n",
       " 'HLA-C*03:03': [2, 9],\n",
       " 'HLA-C*03:04': [2, 9],\n",
       " 'HLA-C*04:01': [3, 9],\n",
       " 'HLA-C*06:02': [2, 9],\n",
       " 'HLA-C*07:01': [2, 9],\n",
       " 'HLA-C*08:01': [2, 9],\n",
       " 'HLA-C*08:02': [9]}"
      ]
     },
     "execution_count": 72,
     "metadata": {},
     "output_type": "execute_result"
    }
   ],
   "source": [
    "anchorpos"
   ]
  }
 ],
 "metadata": {
  "anaconda-cloud": {},
  "kernelspec": {
   "display_name": "Python [default]",
   "language": "python",
   "name": "python3"
  },
  "language_info": {
   "codemirror_mode": {
    "name": "ipython",
    "version": 3
   },
   "file_extension": ".py",
   "mimetype": "text/x-python",
   "name": "python",
   "nbconvert_exporter": "python",
   "pygments_lexer": "ipython3",
   "version": "3.5.4"
  },
  "widgets": {
   "state": {
    "0260d85362be4aef90484ac9103fad1a": {
     "views": [
      {
       "cell_index": 5
      }
     ]
    },
    "0d0de8f9f8fe43c69d6dc0afc14b7ab6": {
     "views": [
      {
       "cell_index": 5
      }
     ]
    },
    "149474c8b08d4d79aa3e4da72fe66182": {
     "views": [
      {
       "cell_index": 5
      }
     ]
    },
    "1ff01fcfcb0b4698bf879b39d167d9e3": {
     "views": [
      {
       "cell_index": 5
      }
     ]
    },
    "2a7b80467bd149e78f67fc208cd17121": {
     "views": [
      {
       "cell_index": 5
      }
     ]
    },
    "30e9d828d28a4410aa6c2aea45f34723": {
     "views": [
      {
       "cell_index": 5
      }
     ]
    },
    "3d27e8294ac24521b0f58341ccf78fc6": {
     "views": [
      {
       "cell_index": 5
      }
     ]
    },
    "446fd619ae664e7f8acb98dce5e5bfbb": {
     "views": [
      {
       "cell_index": 5
      }
     ]
    },
    "700a04a488f0487eb182f14bf1c0cae9": {
     "views": [
      {
       "cell_index": 5
      }
     ]
    },
    "7046b12be856406499faab39d3cbe476": {
     "views": [
      {
       "cell_index": 5
      }
     ]
    },
    "9de4aeac2a91467d80a0938501cfc472": {
     "views": [
      {
       "cell_index": 13
      }
     ]
    },
    "a484c70bc03f4ee48b02cf0284cb9bf2": {
     "views": [
      {
       "cell_index": 16
      }
     ]
    },
    "a656c24bce8d4761b1e109f01f4378b7": {
     "views": [
      {
       "cell_index": 5
      }
     ]
    },
    "bcc7e92e46cb4f87b92a20e1d6b95958": {
     "views": [
      {
       "cell_index": 5
      }
     ]
    },
    "d383bc2b4c6648a3a3eac642fe5b845f": {
     "views": [
      {
       "cell_index": 5
      }
     ]
    },
    "d6e09d9a5f9948418448cce05af65149": {
     "views": [
      {
       "cell_index": 5
      }
     ]
    }
   },
   "version": "1.2.0"
  }
 },
 "nbformat": 4,
 "nbformat_minor": 1
}
