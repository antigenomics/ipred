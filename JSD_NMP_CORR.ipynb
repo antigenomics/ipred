{
 "cells": [
  {
   "cell_type": "markdown",
   "metadata": {},
   "source": [
    "Here I am going to find correlation between number of mutual peptides and JS distance of VJ genes of interacting TCRs"
   ]
  },
  {
   "cell_type": "markdown",
   "metadata": {},
   "source": [
    "# Imports"
   ]
  },
  {
   "cell_type": "code",
   "execution_count": 119,
   "metadata": {
    "collapsed": true
   },
   "outputs": [],
   "source": [
    "%matplotlib inline\n",
    "\n",
    "import os\n",
    "from tqdm import tqdm, tqdm_notebook\n",
    "from tqdm import trange\n",
    "from scipy import stats\n",
    "\n",
    "import pandas as pd\n",
    "import numpy as np\n",
    "import networkx as nx\n",
    "import seaborn as sns\n",
    "import matplotlib.pyplot as plt\n",
    "\n",
    "import itertools\n",
    "import warnings\n",
    "warnings.filterwarnings('ignore')"
   ]
  },
  {
   "cell_type": "markdown",
   "metadata": {},
   "source": [
    "## Some explaratory analysis of metadata"
   ]
  },
  {
   "cell_type": "code",
   "execution_count": 2,
   "metadata": {
    "collapsed": false
   },
   "outputs": [],
   "source": [
    "mdata = pd.read_csv(\"data/hla-overlap/metadata.txt\", sep='\\t') # Reading the metadata"
   ]
  },
  {
   "cell_type": "code",
   "execution_count": 3,
   "metadata": {
    "collapsed": false
   },
   "outputs": [
    {
     "data": {
      "text/plain": [
       "(786, 6)"
      ]
     },
     "execution_count": 3,
     "metadata": {},
     "output_type": "execute_result"
    }
   ],
   "source": [
    "mdata.shape"
   ]
  },
  {
   "cell_type": "code",
   "execution_count": 4,
   "metadata": {
    "collapsed": false
   },
   "outputs": [
    {
     "data": {
      "text/html": [
       "<div>\n",
       "<table border=\"1\" class=\"dataframe\">\n",
       "  <thead>\n",
       "    <tr style=\"text-align: right;\">\n",
       "      <th></th>\n",
       "      <th>sample_id</th>\n",
       "      <th>age</th>\n",
       "      <th>race</th>\n",
       "      <th>sex</th>\n",
       "      <th>cmv</th>\n",
       "      <th>hla</th>\n",
       "    </tr>\n",
       "  </thead>\n",
       "  <tbody>\n",
       "    <tr>\n",
       "      <th>0</th>\n",
       "      <td>HIP08653</td>\n",
       "      <td>52.0</td>\n",
       "      <td>caucasian,non-hispanic or latino</td>\n",
       "      <td>female</td>\n",
       "      <td>+</td>\n",
       "      <td>A*01,A*02,B*07,B*08</td>\n",
       "    </tr>\n",
       "    <tr>\n",
       "      <th>1</th>\n",
       "      <td>HIP13276</td>\n",
       "      <td>53.0</td>\n",
       "      <td>caucasian,non-hispanic or latino</td>\n",
       "      <td>male</td>\n",
       "      <td>-</td>\n",
       "      <td>A*01,A*02,B*07,B*08</td>\n",
       "    </tr>\n",
       "    <tr>\n",
       "      <th>2</th>\n",
       "      <td>HIP14114</td>\n",
       "      <td>57.0</td>\n",
       "      <td>caucasian,non-hispanic or latino</td>\n",
       "      <td>female</td>\n",
       "      <td>-</td>\n",
       "      <td>A*01,A*02,B*07,B*15</td>\n",
       "    </tr>\n",
       "    <tr>\n",
       "      <th>3</th>\n",
       "      <td>HIP03370</td>\n",
       "      <td>41.0</td>\n",
       "      <td>caucasian,non-hispanic or latino</td>\n",
       "      <td>male</td>\n",
       "      <td>+</td>\n",
       "      <td>A*01,A*02,B*07,B*52</td>\n",
       "    </tr>\n",
       "    <tr>\n",
       "      <th>4</th>\n",
       "      <td>HIP13015</td>\n",
       "      <td>39.0</td>\n",
       "      <td>caucasian,non-hispanic or latino</td>\n",
       "      <td>male</td>\n",
       "      <td>-</td>\n",
       "      <td>A*01,A*02,B*07,B*57</td>\n",
       "    </tr>\n",
       "  </tbody>\n",
       "</table>\n",
       "</div>"
      ],
      "text/plain": [
       "  sample_id   age                              race     sex cmv  \\\n",
       "0  HIP08653  52.0  caucasian,non-hispanic or latino  female   +   \n",
       "1  HIP13276  53.0  caucasian,non-hispanic or latino    male   -   \n",
       "2  HIP14114  57.0  caucasian,non-hispanic or latino  female   -   \n",
       "3  HIP03370  41.0  caucasian,non-hispanic or latino    male   +   \n",
       "4  HIP13015  39.0  caucasian,non-hispanic or latino    male   -   \n",
       "\n",
       "                   hla  \n",
       "0  A*01,A*02,B*07,B*08  \n",
       "1  A*01,A*02,B*07,B*08  \n",
       "2  A*01,A*02,B*07,B*15  \n",
       "3  A*01,A*02,B*07,B*52  \n",
       "4  A*01,A*02,B*07,B*57  "
      ]
     },
     "execution_count": 4,
     "metadata": {},
     "output_type": "execute_result"
    }
   ],
   "source": [
    "mdata.head()"
   ]
  },
  {
   "cell_type": "code",
   "execution_count": 5,
   "metadata": {
    "collapsed": false
   },
   "outputs": [
    {
     "data": {
      "text/plain": [
       "<matplotlib.axes._subplots.AxesSubplot at 0x7f994780ab38>"
      ]
     },
     "execution_count": 5,
     "metadata": {},
     "output_type": "execute_result"
    },
    {
     "data": {
      "image/png": "[encoded data removed]",
      "text/plain": [
       "<matplotlib.figure.Figure at 0x7f994780a390>"
      ]
     },
     "metadata": {},
     "output_type": "display_data"
    }
   ],
   "source": [
    "fig = plt.figure(figsize=(10,6))\n",
    "mdata.age.value_counts(sort=False).plot(kind='bar')"
   ]
  },
  {
   "cell_type": "code",
   "execution_count": 6,
   "metadata": {
    "collapsed": false
   },
   "outputs": [
    {
     "data": {
      "text/plain": [
       "caucasian,non-hispanic or latino                    462\n",
       "asian or pacific islander,non-hispanic or latino     46\n",
       "hispanic or latino                                   26\n",
       "black or african american,non-hispanic or latino     11\n",
       "non-hispanic or latino                               10\n",
       "caucasian,hispanic or latino                          3\n",
       "asian or pacific islander,hispanic or latino          1\n",
       "black or african american,hispanic or latino          1\n",
       "Name: race, dtype: int64"
      ]
     },
     "execution_count": 6,
     "metadata": {},
     "output_type": "execute_result"
    }
   ],
   "source": [
    "mdata.race.value_counts()"
   ]
  },
  {
   "cell_type": "code",
   "execution_count": 7,
   "metadata": {
    "collapsed": false
   },
   "outputs": [
    {
     "data": {
      "text/plain": [
       "male      392\n",
       "female    370\n",
       "Name: sex, dtype: int64"
      ]
     },
     "execution_count": 7,
     "metadata": {},
     "output_type": "execute_result"
    }
   ],
   "source": [
    "mdata.sex.value_counts()"
   ]
  },
  {
   "cell_type": "code",
   "execution_count": 8,
   "metadata": {
    "collapsed": false
   },
   "outputs": [
    {
     "data": {
      "text/plain": [
       "-    421\n",
       "+    340\n",
       "Name: cmv, dtype: int64"
      ]
     },
     "execution_count": 8,
     "metadata": {},
     "output_type": "execute_result"
    }
   ],
   "source": [
    "mdata.cmv.value_counts()"
   ]
  },
  {
   "cell_type": "code",
   "execution_count": 9,
   "metadata": {
    "collapsed": false
   },
   "outputs": [
    {
     "data": {
      "text/plain": [
       "array(['A*01', 'A*02', 'A*03', 'A*11', 'A*23', 'A*24', 'A*25', 'A*26',\n",
       "       'A*29', 'A*30', 'A*31', 'A*32', 'A*33', 'A*68', nan, 'A*34', 'A*66',\n",
       "       'A*80', 'A*28', 'A*74', 'A*36', 'A*69', None, 'B*07', 'B*08',\n",
       "       'B*13', 'B*14', 'B*18', 'B*27', 'B*35', 'B*37', 'B*39', 'B*44',\n",
       "       'B*51', 'B*57', 'B*15', 'B*49', 'B*56', 'B*17', 'B*40', 'B*53',\n",
       "       'B*38', 'B*45', 'B*60', 'B*41', 'B*05', 'B*62', 'B*50', 'B*55',\n",
       "       'B*48', 'B*58', 'B*78', 'B*52', 'B*61', 'B*70', 'B*63', 'B*73',\n",
       "       'B*22', 'B*47', 'B*54', 'B*42', 'B*75', 'B*82'], dtype=object)"
      ]
     },
     "execution_count": 9,
     "metadata": {},
     "output_type": "execute_result"
    }
   ],
   "source": [
    "hla = mdata.hla.str.split(',', expand=True)\n",
    "uhla = pd.unique(hla[[0,1,2,3]].values.ravel('K'))\n",
    "uhla"
   ]
  },
  {
   "cell_type": "code",
   "execution_count": 10,
   "metadata": {
    "collapsed": false
   },
   "outputs": [
    {
     "data": {
      "text/html": [
       "<div>\n",
       "<table border=\"1\" class=\"dataframe\">\n",
       "  <thead>\n",
       "    <tr style=\"text-align: right;\">\n",
       "      <th></th>\n",
       "      <th>0</th>\n",
       "    </tr>\n",
       "  </thead>\n",
       "  <tbody>\n",
       "    <tr>\n",
       "      <th>0</th>\n",
       "      <td>HLA-B27:05</td>\n",
       "    </tr>\n",
       "    <tr>\n",
       "      <th>1</th>\n",
       "      <td>HLA-B27:20</td>\n",
       "    </tr>\n",
       "    <tr>\n",
       "      <th>2</th>\n",
       "      <td>HLA-A01:01</td>\n",
       "    </tr>\n",
       "    <tr>\n",
       "      <th>3</th>\n",
       "      <td>HLA-A02:01</td>\n",
       "    </tr>\n",
       "    <tr>\n",
       "      <th>4</th>\n",
       "      <td>HLA-A02:02</td>\n",
       "    </tr>\n",
       "  </tbody>\n",
       "</table>\n",
       "</div>"
      ],
      "text/plain": [
       "            0\n",
       "0  HLA-B27:05\n",
       "1  HLA-B27:20\n",
       "2  HLA-A01:01\n",
       "3  HLA-A02:01\n",
       "4  HLA-A02:02"
      ]
     },
     "execution_count": 10,
     "metadata": {},
     "output_type": "execute_result"
    }
   ],
   "source": [
    "arg = pd.read_csv('bash_code/arguments.txt', header=None)\n",
    "arg.head()"
   ]
  },
  {
   "cell_type": "code",
   "execution_count": 11,
   "metadata": {
    "collapsed": false
   },
   "outputs": [
    {
     "data": {
      "text/html": [
       "<div>\n",
       "<table border=\"1\" class=\"dataframe\">\n",
       "  <thead>\n",
       "    <tr style=\"text-align: right;\">\n",
       "      <th></th>\n",
       "      <th>1</th>\n",
       "    </tr>\n",
       "  </thead>\n",
       "  <tbody>\n",
       "    <tr>\n",
       "      <th>0</th>\n",
       "      <td>A*01</td>\n",
       "    </tr>\n",
       "    <tr>\n",
       "      <th>1</th>\n",
       "      <td>A*02</td>\n",
       "    </tr>\n",
       "    <tr>\n",
       "      <th>2</th>\n",
       "      <td>A*03</td>\n",
       "    </tr>\n",
       "    <tr>\n",
       "      <th>3</th>\n",
       "      <td>A*11</td>\n",
       "    </tr>\n",
       "    <tr>\n",
       "      <th>4</th>\n",
       "      <td>A*23</td>\n",
       "    </tr>\n",
       "  </tbody>\n",
       "</table>\n",
       "</div>"
      ],
      "text/plain": [
       "      1\n",
       "0  A*01\n",
       "1  A*02\n",
       "2  A*03\n",
       "3  A*11\n",
       "4  A*23"
      ]
     },
     "execution_count": 11,
     "metadata": {},
     "output_type": "execute_result"
    }
   ],
   "source": [
    "uhla = pd.DataFrame(uhla, index=range(len(uhla)), columns=[1])\n",
    "uhla.head()"
   ]
  },
  {
   "cell_type": "code",
   "execution_count": 12,
   "metadata": {
    "collapsed": false
   },
   "outputs": [
    {
     "data": {
      "text/html": [
       "<div>\n",
       "<table border=\"1\" class=\"dataframe\">\n",
       "  <thead>\n",
       "    <tr style=\"text-align: right;\">\n",
       "      <th></th>\n",
       "      <th>1</th>\n",
       "    </tr>\n",
       "  </thead>\n",
       "  <tbody>\n",
       "    <tr>\n",
       "      <th>0</th>\n",
       "      <td>HLA-A01:01</td>\n",
       "    </tr>\n",
       "    <tr>\n",
       "      <th>1</th>\n",
       "      <td>HLA-A02:01</td>\n",
       "    </tr>\n",
       "    <tr>\n",
       "      <th>2</th>\n",
       "      <td>HLA-A03:01</td>\n",
       "    </tr>\n",
       "    <tr>\n",
       "      <th>3</th>\n",
       "      <td>HLA-A11:01</td>\n",
       "    </tr>\n",
       "    <tr>\n",
       "      <th>4</th>\n",
       "      <td>HLA-A23:01</td>\n",
       "    </tr>\n",
       "  </tbody>\n",
       "</table>\n",
       "</div>"
      ],
      "text/plain": [
       "            1\n",
       "0  HLA-A01:01\n",
       "1  HLA-A02:01\n",
       "2  HLA-A03:01\n",
       "3  HLA-A11:01\n",
       "4  HLA-A23:01"
      ]
     },
     "execution_count": 12,
     "metadata": {},
     "output_type": "execute_result"
    }
   ],
   "source": [
    "uhla = uhla.apply(lambda x: 'HLA-' + x + ':01')\n",
    "uhla[1] = uhla[1].str.replace(\"*\", \"\")\n",
    "uhla.head()"
   ]
  },
  {
   "cell_type": "code",
   "execution_count": 13,
   "metadata": {
    "collapsed": false
   },
   "outputs": [
    {
     "name": "stdout",
     "output_type": "stream",
     "text": [
      "nan\n",
      "HLA-B17:01\n",
      "HLA-B62:01\n",
      "HLA-B75:01\n",
      "HLA-B05:01\n",
      "HLA-A24:01\n",
      "HLA-B27:01\n",
      "HLA-B60:01\n",
      "HLA-B52:01\n",
      "HLA-B13:01\n",
      "HLA-B70:01\n",
      "HLA-B50:01\n",
      "HLA-B49:01\n",
      "HLA-B07:01\n",
      "HLA-B37:01\n",
      "HLA-A34:01\n",
      "HLA-B82:01\n",
      "HLA-A28:01\n",
      "HLA-B55:01\n",
      "HLA-B61:01\n",
      "HLA-B22:01\n",
      "HLA-B78:01\n",
      "HLA-B56:01\n",
      "HLA-A29:01\n",
      "HLA-B41:01\n",
      "HLA-B63:01\n",
      "HLA-B47:01\n",
      "HLA-B44:01\n",
      "HLA-A36:01\n",
      "HLA-B14:01\n",
      "HLA-A74:01\n"
     ]
    }
   ],
   "source": [
    "for i in set(uhla[1]) - set(arg[0]):\n",
    "    print(i)"
   ]
  },
  {
   "cell_type": "code",
   "execution_count": 14,
   "metadata": {
    "collapsed": false
   },
   "outputs": [
    {
     "name": "stdout",
     "output_type": "stream",
     "text": [
      "/home/vcvetkov/Projects/ipred\n"
     ]
    }
   ],
   "source": [
    "print(os.getcwd())"
   ]
  },
  {
   "cell_type": "markdown",
   "metadata": {},
   "source": [
    "## Checking which alleles were not predicted correctly with netMHCpan"
   ]
  },
  {
   "cell_type": "code",
   "execution_count": 15,
   "metadata": {
    "collapsed": false
   },
   "outputs": [],
   "source": [
    "alleleslist = []\n",
    "emptyalleles = []\n",
    "\n",
    "for file in os.listdir('output/netMHCpan/'):\n",
    "    if os.stat('output/netMHCpan/' + file).st_size == 0:\n",
    "        emptyalleles.append(os.path.basename('output/netMHCpan/' + file))\n",
    "    else:\n",
    "        alleleslist.append(os.path.basename('output/netMHCpan/' + file))"
   ]
  },
  {
   "cell_type": "code",
   "execution_count": null,
   "metadata": {
    "collapsed": false
   },
   "outputs": [],
   "source": [
    "alleleslist"
   ]
  },
  {
   "cell_type": "code",
   "execution_count": 17,
   "metadata": {
    "collapsed": false
   },
   "outputs": [
    {
     "data": {
      "text/plain": [
       "['HLA-B62:01',\n",
       " 'HLA-B75:01',\n",
       " 'HLA-B63:01',\n",
       " 'HLA-B05:01',\n",
       " 'HLA-A28:01',\n",
       " 'HLA-B22:01',\n",
       " 'HLA-B60:01',\n",
       " 'HLA-B17:01',\n",
       " 'HLA-B44:01',\n",
       " 'HLA-B70:01',\n",
       " 'HLA-B61:01',\n",
       " 'HLA-B07:01',\n",
       " 'HLA-A24:01']"
      ]
     },
     "execution_count": 17,
     "metadata": {},
     "output_type": "execute_result"
    }
   ],
   "source": [
    "emptyalleles = [i.split('_')[0] for i in emptyalleles]\n",
    "emptyalleles"
   ]
  },
  {
   "cell_type": "code",
   "execution_count": 18,
   "metadata": {
    "collapsed": false
   },
   "outputs": [
    {
     "data": {
      "text/plain": [
       "['A*36',\n",
       " 'B*55',\n",
       " 'B*13',\n",
       " 'B*14',\n",
       " 'B*50',\n",
       " 'B*78',\n",
       " 'B*49',\n",
       " 'B*37',\n",
       " 'B*27',\n",
       " 'B*56',\n",
       " 'A*34',\n",
       " 'B*82',\n",
       " 'B*52',\n",
       " 'B*41',\n",
       " 'A*29',\n",
       " 'A*74',\n",
       " 'B*47']"
      ]
     },
     "execution_count": 18,
     "metadata": {},
     "output_type": "execute_result"
    }
   ],
   "source": [
    "missingalleles = []\n",
    "import math\n",
    "for k, i in enumerate(set(uhla[1]) - set(arg[0]) - set(emptyalleles)):\n",
    "    if k > 0:\n",
    "        missingalleles.append(i[4] + '*' + i[5:7])\n",
    "missingalleles"
   ]
  },
  {
   "cell_type": "markdown",
   "metadata": {},
   "source": [
    "## DataFrame contains lot's of missing data"
   ]
  },
  {
   "cell_type": "code",
   "execution_count": 19,
   "metadata": {
    "collapsed": false
   },
   "outputs": [
    {
     "data": {
      "text/plain": [
       "sample_id      0\n",
       "age          111\n",
       "race         226\n",
       "sex           24\n",
       "cmv           25\n",
       "hla          160\n",
       "dtype: int64"
      ]
     },
     "execution_count": 19,
     "metadata": {},
     "output_type": "execute_result"
    }
   ],
   "source": [
    "mdata.isnull().sum(axis=0)"
   ]
  },
  {
   "cell_type": "code",
   "execution_count": 20,
   "metadata": {
    "collapsed": true
   },
   "outputs": [],
   "source": [
    "mdata = mdata[mdata.hla.notnull()]"
   ]
  },
  {
   "cell_type": "code",
   "execution_count": 21,
   "metadata": {
    "collapsed": false
   },
   "outputs": [
    {
     "data": {
      "text/plain": [
       "sample_id      0\n",
       "age          108\n",
       "race         212\n",
       "sex           24\n",
       "cmv           25\n",
       "hla            0\n",
       "dtype: int64"
      ]
     },
     "execution_count": 21,
     "metadata": {},
     "output_type": "execute_result"
    }
   ],
   "source": [
    "mdata.isnull().sum(axis=0)"
   ]
  },
  {
   "cell_type": "markdown",
   "metadata": {},
   "source": [
    "## There are few individuals not having incorrectly predicted alleles"
   ]
  },
  {
   "cell_type": "code",
   "execution_count": 22,
   "metadata": {
    "collapsed": false
   },
   "outputs": [
    {
     "data": {
      "text/plain": [
       "(386, 6)"
      ]
     },
     "execution_count": 22,
     "metadata": {},
     "output_type": "execute_result"
    }
   ],
   "source": [
    "mdata[~mdata.hla.str.contains('|'.join(missingalleles))].shape"
   ]
  },
  {
   "cell_type": "code",
   "execution_count": 23,
   "metadata": {
    "collapsed": false
   },
   "outputs": [
    {
     "data": {
      "text/plain": [
       "(386, 6)"
      ]
     },
     "execution_count": 23,
     "metadata": {},
     "output_type": "execute_result"
    }
   ],
   "source": [
    "cdata = mdata[~mdata.hla.str.contains('|'.join(missingalleles))]\n",
    "cdata.shape"
   ]
  },
  {
   "cell_type": "code",
   "execution_count": 24,
   "metadata": {
    "collapsed": false
   },
   "outputs": [
    {
     "data": {
      "text/plain": [
       "99"
      ]
     },
     "execution_count": 24,
     "metadata": {},
     "output_type": "execute_result"
    }
   ],
   "source": [
    "alleles = []\n",
    "for i in alleleslist:\n",
    "    alleles.append(i[4] + '*' + i[5:7])\n",
    "len(alleles)"
   ]
  },
  {
   "cell_type": "code",
   "execution_count": 25,
   "metadata": {
    "collapsed": false
   },
   "outputs": [
    {
     "data": {
      "text/plain": [
       "(386, 6)"
      ]
     },
     "execution_count": 25,
     "metadata": {},
     "output_type": "execute_result"
    }
   ],
   "source": [
    "cdata[cdata.hla.str.contains('|'.join(alleles))].shape"
   ]
  },
  {
   "cell_type": "code",
   "execution_count": 26,
   "metadata": {
    "collapsed": false
   },
   "outputs": [
    {
     "data": {
      "text/plain": [
       "54"
      ]
     },
     "execution_count": 26,
     "metadata": {},
     "output_type": "execute_result"
    }
   ],
   "source": [
    "sum([True if i[8:10] == \"01\" else False for i in alleleslist])"
   ]
  },
  {
   "cell_type": "code",
   "execution_count": 27,
   "metadata": {
    "collapsed": false
   },
   "outputs": [
    {
     "data": {
      "text/plain": [
       "54"
      ]
     },
     "execution_count": 27,
     "metadata": {},
     "output_type": "execute_result"
    }
   ],
   "source": [
    "alleles01 = []\n",
    "for i in alleleslist:\n",
    "    if i[8:10] == \"01\":\n",
    "        alleles01.append(i[4] + '*' + i[5:7])\n",
    "len(alleles01)"
   ]
  },
  {
   "cell_type": "code",
   "execution_count": 28,
   "metadata": {
    "collapsed": false
   },
   "outputs": [],
   "source": [
    "alleles_pro_list_df = cdata['hla'].str.split(',', expand = True)\n",
    "alleles_pre_list_df = alleles_pro_list_df[0]\n",
    "for i in range(1, 3):\n",
    "    df = alleles_pro_list_df[i]\n",
    "    alleles_pre_list_df = pd.concat([alleles_pre_list_df, df])\n",
    "ds_alleles = alleles_pre_list_df.drop_duplicates().tolist()"
   ]
  },
  {
   "cell_type": "code",
   "execution_count": 29,
   "metadata": {
    "collapsed": false
   },
   "outputs": [
    {
     "data": {
      "text/plain": [
       "35"
      ]
     },
     "execution_count": 29,
     "metadata": {},
     "output_type": "execute_result"
    }
   ],
   "source": [
    "len(ds_alleles)"
   ]
  },
  {
   "cell_type": "markdown",
   "metadata": {},
   "source": [
    "## Get alleles for which we have 01 predictions (HLA-A01:  _01_  )"
   ]
  },
  {
   "cell_type": "code",
   "execution_count": 30,
   "metadata": {
    "collapsed": false
   },
   "outputs": [
    {
     "data": {
      "text/plain": [
       "27"
      ]
     },
     "execution_count": 30,
     "metadata": {},
     "output_type": "execute_result"
    }
   ],
   "source": [
    "sum([True if i in alleles01 else False for i in ds_alleles])"
   ]
  },
  {
   "cell_type": "code",
   "execution_count": 31,
   "metadata": {
    "collapsed": false
   },
   "outputs": [],
   "source": [
    "incorrect_alleles = sorted(list(set(ds_alleles)-set(alleles01)))"
   ]
  },
  {
   "cell_type": "code",
   "execution_count": 60,
   "metadata": {
    "collapsed": false
   },
   "outputs": [],
   "source": [
    "correct_alleles = sorted(list(set(ds_alleles)&set(alleles01)))"
   ]
  },
  {
   "cell_type": "code",
   "execution_count": 33,
   "metadata": {
    "collapsed": false
   },
   "outputs": [
    {
     "data": {
      "text/plain": [
       "['A*24', 'A*28', 'B*05', 'B*07', 'B*17', 'B*44', 'B*60', 'B*62']"
      ]
     },
     "execution_count": 33,
     "metadata": {},
     "output_type": "execute_result"
    }
   ],
   "source": [
    "incorrect_alleles"
   ]
  },
  {
   "cell_type": "code",
   "execution_count": 34,
   "metadata": {
    "collapsed": false
   },
   "outputs": [
    {
     "data": {
      "text/html": [
       "<div>\n",
       "<table border=\"1\" class=\"dataframe\">\n",
       "  <thead>\n",
       "    <tr style=\"text-align: right;\">\n",
       "      <th></th>\n",
       "      <th>sample_id</th>\n",
       "      <th>age</th>\n",
       "      <th>race</th>\n",
       "      <th>sex</th>\n",
       "      <th>cmv</th>\n",
       "      <th>hla</th>\n",
       "    </tr>\n",
       "  </thead>\n",
       "  <tbody>\n",
       "    <tr>\n",
       "      <th>6</th>\n",
       "      <td>HIP09041</td>\n",
       "      <td>54.0</td>\n",
       "      <td>caucasian,non-hispanic or latino</td>\n",
       "      <td>female</td>\n",
       "      <td>-</td>\n",
       "      <td>A*01,A*02,B*08,B*08</td>\n",
       "    </tr>\n",
       "    <tr>\n",
       "      <th>7</th>\n",
       "      <td>HIP13961</td>\n",
       "      <td>NaN</td>\n",
       "      <td>NaN</td>\n",
       "      <td>NaN</td>\n",
       "      <td>NaN</td>\n",
       "      <td>A*01,A*02,B*08,B*15</td>\n",
       "    </tr>\n",
       "    <tr>\n",
       "      <th>8</th>\n",
       "      <td>HIP17534</td>\n",
       "      <td>55.0</td>\n",
       "      <td>caucasian,non-hispanic or latino</td>\n",
       "      <td>female</td>\n",
       "      <td>+</td>\n",
       "      <td>A*01,A*02,B*08,B*15</td>\n",
       "    </tr>\n",
       "    <tr>\n",
       "      <th>9</th>\n",
       "      <td>HIP13956</td>\n",
       "      <td>53.0</td>\n",
       "      <td>caucasian,non-hispanic or latino</td>\n",
       "      <td>female</td>\n",
       "      <td>+</td>\n",
       "      <td>A*01,A*02,B*08,B*18</td>\n",
       "    </tr>\n",
       "    <tr>\n",
       "      <th>10</th>\n",
       "      <td>HIP16515</td>\n",
       "      <td>33.0</td>\n",
       "      <td>caucasian,non-hispanic or latino</td>\n",
       "      <td>male</td>\n",
       "      <td>+</td>\n",
       "      <td>A*01,A*02,B*08,B*18</td>\n",
       "    </tr>\n",
       "  </tbody>\n",
       "</table>\n",
       "</div>"
      ],
      "text/plain": [
       "   sample_id   age                              race     sex  cmv  \\\n",
       "6   HIP09041  54.0  caucasian,non-hispanic or latino  female    -   \n",
       "7   HIP13961   NaN                               NaN     NaN  NaN   \n",
       "8   HIP17534  55.0  caucasian,non-hispanic or latino  female    +   \n",
       "9   HIP13956  53.0  caucasian,non-hispanic or latino  female    +   \n",
       "10  HIP16515  33.0  caucasian,non-hispanic or latino    male    +   \n",
       "\n",
       "                    hla  \n",
       "6   A*01,A*02,B*08,B*08  \n",
       "7   A*01,A*02,B*08,B*15  \n",
       "8   A*01,A*02,B*08,B*15  \n",
       "9   A*01,A*02,B*08,B*18  \n",
       "10  A*01,A*02,B*08,B*18  "
      ]
     },
     "execution_count": 34,
     "metadata": {},
     "output_type": "execute_result"
    }
   ],
   "source": [
    "tdata = mdata[~mdata.hla.str.contains('|'.join(incorrect_alleles))]\n",
    "tdata.head()"
   ]
  },
  {
   "cell_type": "code",
   "execution_count": 113,
   "metadata": {
    "collapsed": false
   },
   "outputs": [
    {
     "data": {
      "text/html": [
       "<div>\n",
       "<table border=\"1\" class=\"dataframe\">\n",
       "  <thead>\n",
       "    <tr style=\"text-align: right;\">\n",
       "      <th></th>\n",
       "      <th>sample_id_1</th>\n",
       "      <th>sample_id_2</th>\n",
       "      <th>JSD</th>\n",
       "    </tr>\n",
       "  </thead>\n",
       "  <tbody>\n",
       "    <tr>\n",
       "      <th>0</th>\n",
       "      <td>HIP11774</td>\n",
       "      <td>HIP10424</td>\n",
       "      <td>0.018996</td>\n",
       "    </tr>\n",
       "    <tr>\n",
       "      <th>1</th>\n",
       "      <td>Keck0080_MC1</td>\n",
       "      <td>HIP10424</td>\n",
       "      <td>0.036506</td>\n",
       "    </tr>\n",
       "    <tr>\n",
       "      <th>2</th>\n",
       "      <td>HIP14153</td>\n",
       "      <td>HIP10424</td>\n",
       "      <td>0.020520</td>\n",
       "    </tr>\n",
       "    <tr>\n",
       "      <th>3</th>\n",
       "      <td>Keck0081_MC1</td>\n",
       "      <td>HIP10424</td>\n",
       "      <td>0.028761</td>\n",
       "    </tr>\n",
       "    <tr>\n",
       "      <th>4</th>\n",
       "      <td>Keck0019_MC1</td>\n",
       "      <td>HIP10424</td>\n",
       "      <td>0.026061</td>\n",
       "    </tr>\n",
       "  </tbody>\n",
       "</table>\n",
       "</div>"
      ],
      "text/plain": [
       "    sample_id_1 sample_id_2       JSD\n",
       "0      HIP11774    HIP10424  0.018996\n",
       "1  Keck0080_MC1    HIP10424  0.036506\n",
       "2      HIP14153    HIP10424  0.020520\n",
       "3  Keck0081_MC1    HIP10424  0.028761\n",
       "4  Keck0019_MC1    HIP10424  0.026061"
      ]
     },
     "execution_count": 113,
     "metadata": {},
     "output_type": "execute_result"
    }
   ],
   "source": [
    "jsd = pd.read_csv(\"data/hla-overlap/jsd.txt\", sep='\\t')\n",
    "jsd.head()"
   ]
  },
  {
   "cell_type": "code",
   "execution_count": 114,
   "metadata": {
    "collapsed": false
   },
   "outputs": [
    {
     "data": {
      "text/plain": [
       "(26565, 3)"
      ]
     },
     "execution_count": 114,
     "metadata": {},
     "output_type": "execute_result"
    }
   ],
   "source": [
    "jsd = jsd.drop(jsd[~jsd['sample_id_1'].isin(tdata['sample_id'])].index)\n",
    "jsd = jsd.drop(jsd[~jsd['sample_id_2'].isin(tdata['sample_id'])].index)\n",
    "jsd.shape"
   ]
  },
  {
   "cell_type": "code",
   "execution_count": 37,
   "metadata": {
    "collapsed": false
   },
   "outputs": [
    {
     "data": {
      "text/plain": [
       "(True, True)"
      ]
     },
     "execution_count": 37,
     "metadata": {},
     "output_type": "execute_result"
    }
   ],
   "source": [
    "all(jsd['sample_id_1'].isin(tdata['sample_id'])), \\\n",
    "all(jsd['sample_id_2'].isin(tdata['sample_id']))"
   ]
  },
  {
   "cell_type": "code",
   "execution_count": 115,
   "metadata": {
    "collapsed": false
   },
   "outputs": [
    {
     "data": {
      "text/html": [
       "<div>\n",
       "<table border=\"1\" class=\"dataframe\">\n",
       "  <thead>\n",
       "    <tr style=\"text-align: right;\">\n",
       "      <th></th>\n",
       "      <th>sample_id_1</th>\n",
       "      <th>sample_id_2</th>\n",
       "      <th>JSD</th>\n",
       "    </tr>\n",
       "  </thead>\n",
       "  <tbody>\n",
       "    <tr>\n",
       "      <th>0</th>\n",
       "      <td>HIP00602</td>\n",
       "      <td>HIP00169</td>\n",
       "      <td>0.022950</td>\n",
       "    </tr>\n",
       "    <tr>\n",
       "      <th>1</th>\n",
       "      <td>HIP00728</td>\n",
       "      <td>HIP00169</td>\n",
       "      <td>0.024538</td>\n",
       "    </tr>\n",
       "    <tr>\n",
       "      <th>2</th>\n",
       "      <td>HIP00728</td>\n",
       "      <td>HIP00602</td>\n",
       "      <td>0.010451</td>\n",
       "    </tr>\n",
       "    <tr>\n",
       "      <th>3</th>\n",
       "      <td>HIP00775</td>\n",
       "      <td>HIP00169</td>\n",
       "      <td>0.038653</td>\n",
       "    </tr>\n",
       "    <tr>\n",
       "      <th>4</th>\n",
       "      <td>HIP00775</td>\n",
       "      <td>HIP00602</td>\n",
       "      <td>0.016790</td>\n",
       "    </tr>\n",
       "  </tbody>\n",
       "</table>\n",
       "</div>"
      ],
      "text/plain": [
       "  sample_id_1 sample_id_2       JSD\n",
       "0    HIP00602    HIP00169  0.022950\n",
       "1    HIP00728    HIP00169  0.024538\n",
       "2    HIP00728    HIP00602  0.010451\n",
       "3    HIP00775    HIP00169  0.038653\n",
       "4    HIP00775    HIP00602  0.016790"
      ]
     },
     "execution_count": 115,
     "metadata": {},
     "output_type": "execute_result"
    }
   ],
   "source": [
    "jsd = jsd.sort_values(by=['sample_id_1', 'sample_id_2'], ascending=[True, True])\n",
    "jsd.index = range(len(jsd))\n",
    "jsd.head()"
   ]
  },
  {
   "cell_type": "code",
   "execution_count": 39,
   "metadata": {
    "collapsed": false
   },
   "outputs": [
    {
     "data": {
      "text/html": [
       "<div>\n",
       "<table border=\"1\" class=\"dataframe\">\n",
       "  <thead>\n",
       "    <tr style=\"text-align: right;\">\n",
       "      <th></th>\n",
       "      <th>sample_id_1</th>\n",
       "      <th>sample_id_2</th>\n",
       "    </tr>\n",
       "  </thead>\n",
       "  <tbody>\n",
       "    <tr>\n",
       "      <th>0</th>\n",
       "      <td>HIP00602</td>\n",
       "      <td>HIP00169</td>\n",
       "    </tr>\n",
       "    <tr>\n",
       "      <th>1</th>\n",
       "      <td>HIP00728</td>\n",
       "      <td>HIP00169</td>\n",
       "    </tr>\n",
       "    <tr>\n",
       "      <th>2</th>\n",
       "      <td>HIP00728</td>\n",
       "      <td>HIP00602</td>\n",
       "    </tr>\n",
       "    <tr>\n",
       "      <th>3</th>\n",
       "      <td>HIP00775</td>\n",
       "      <td>HIP00169</td>\n",
       "    </tr>\n",
       "    <tr>\n",
       "      <th>4</th>\n",
       "      <td>HIP00775</td>\n",
       "      <td>HIP00602</td>\n",
       "    </tr>\n",
       "  </tbody>\n",
       "</table>\n",
       "</div>"
      ],
      "text/plain": [
       "  sample_id_1 sample_id_2\n",
       "0    HIP00602    HIP00169\n",
       "1    HIP00728    HIP00169\n",
       "2    HIP00728    HIP00602\n",
       "3    HIP00775    HIP00169\n",
       "4    HIP00775    HIP00602"
      ]
     },
     "execution_count": 39,
     "metadata": {},
     "output_type": "execute_result"
    }
   ],
   "source": [
    "nmp = jsd[['sample_id_1', 'sample_id_2']]\n",
    "nmp.head()"
   ]
  },
  {
   "cell_type": "code",
   "execution_count": 40,
   "metadata": {
    "collapsed": false
   },
   "outputs": [
    {
     "data": {
      "text/html": [
       "<div>\n",
       "<table border=\"1\" class=\"dataframe\">\n",
       "  <thead>\n",
       "    <tr style=\"text-align: right;\">\n",
       "      <th></th>\n",
       "      <th>sample_id</th>\n",
       "      <th>age</th>\n",
       "      <th>race</th>\n",
       "      <th>sex</th>\n",
       "      <th>cmv</th>\n",
       "      <th>hla</th>\n",
       "      <th>0</th>\n",
       "      <th>1</th>\n",
       "      <th>2</th>\n",
       "      <th>3</th>\n",
       "    </tr>\n",
       "  </thead>\n",
       "  <tbody>\n",
       "    <tr>\n",
       "      <th>6</th>\n",
       "      <td>HIP09041</td>\n",
       "      <td>54.0</td>\n",
       "      <td>caucasian,non-hispanic or latino</td>\n",
       "      <td>female</td>\n",
       "      <td>-</td>\n",
       "      <td>A*01,A*02,B*08,B*08</td>\n",
       "      <td>A*01</td>\n",
       "      <td>A*02</td>\n",
       "      <td>B*08</td>\n",
       "      <td>B*08</td>\n",
       "    </tr>\n",
       "    <tr>\n",
       "      <th>7</th>\n",
       "      <td>HIP13961</td>\n",
       "      <td>NaN</td>\n",
       "      <td>NaN</td>\n",
       "      <td>NaN</td>\n",
       "      <td>NaN</td>\n",
       "      <td>A*01,A*02,B*08,B*15</td>\n",
       "      <td>A*01</td>\n",
       "      <td>A*02</td>\n",
       "      <td>B*08</td>\n",
       "      <td>B*15</td>\n",
       "    </tr>\n",
       "    <tr>\n",
       "      <th>8</th>\n",
       "      <td>HIP17534</td>\n",
       "      <td>55.0</td>\n",
       "      <td>caucasian,non-hispanic or latino</td>\n",
       "      <td>female</td>\n",
       "      <td>+</td>\n",
       "      <td>A*01,A*02,B*08,B*15</td>\n",
       "      <td>A*01</td>\n",
       "      <td>A*02</td>\n",
       "      <td>B*08</td>\n",
       "      <td>B*15</td>\n",
       "    </tr>\n",
       "    <tr>\n",
       "      <th>9</th>\n",
       "      <td>HIP13956</td>\n",
       "      <td>53.0</td>\n",
       "      <td>caucasian,non-hispanic or latino</td>\n",
       "      <td>female</td>\n",
       "      <td>+</td>\n",
       "      <td>A*01,A*02,B*08,B*18</td>\n",
       "      <td>A*01</td>\n",
       "      <td>A*02</td>\n",
       "      <td>B*08</td>\n",
       "      <td>B*18</td>\n",
       "    </tr>\n",
       "    <tr>\n",
       "      <th>10</th>\n",
       "      <td>HIP16515</td>\n",
       "      <td>33.0</td>\n",
       "      <td>caucasian,non-hispanic or latino</td>\n",
       "      <td>male</td>\n",
       "      <td>+</td>\n",
       "      <td>A*01,A*02,B*08,B*18</td>\n",
       "      <td>A*01</td>\n",
       "      <td>A*02</td>\n",
       "      <td>B*08</td>\n",
       "      <td>B*18</td>\n",
       "    </tr>\n",
       "  </tbody>\n",
       "</table>\n",
       "</div>"
      ],
      "text/plain": [
       "   sample_id   age                              race     sex  cmv  \\\n",
       "6   HIP09041  54.0  caucasian,non-hispanic or latino  female    -   \n",
       "7   HIP13961   NaN                               NaN     NaN  NaN   \n",
       "8   HIP17534  55.0  caucasian,non-hispanic or latino  female    +   \n",
       "9   HIP13956  53.0  caucasian,non-hispanic or latino  female    +   \n",
       "10  HIP16515  33.0  caucasian,non-hispanic or latino    male    +   \n",
       "\n",
       "                    hla     0     1     2     3  \n",
       "6   A*01,A*02,B*08,B*08  A*01  A*02  B*08  B*08  \n",
       "7   A*01,A*02,B*08,B*15  A*01  A*02  B*08  B*15  \n",
       "8   A*01,A*02,B*08,B*15  A*01  A*02  B*08  B*15  \n",
       "9   A*01,A*02,B*08,B*18  A*01  A*02  B*08  B*18  \n",
       "10  A*01,A*02,B*08,B*18  A*01  A*02  B*08  B*18  "
      ]
     },
     "execution_count": 40,
     "metadata": {},
     "output_type": "execute_result"
    }
   ],
   "source": [
    "tdata = pd.concat([tdata, tdata['hla'].apply(lambda x: pd.Series(str.split(str(x), ',')))], axis=1)\n",
    "tdata.head()"
   ]
  },
  {
   "cell_type": "code",
   "execution_count": 41,
   "metadata": {
    "collapsed": false
   },
   "outputs": [
    {
     "data": {
      "text/plain": [
       "sample_id     0\n",
       "age          43\n",
       "race         74\n",
       "sex          11\n",
       "cmv          11\n",
       "hla           0\n",
       "0             0\n",
       "1             0\n",
       "2             0\n",
       "3             0\n",
       "dtype: int64"
      ]
     },
     "execution_count": 41,
     "metadata": {},
     "output_type": "execute_result"
    }
   ],
   "source": [
    "tdata.isnull().sum(axis=0)"
   ]
  },
  {
   "cell_type": "code",
   "execution_count": 42,
   "metadata": {
    "collapsed": false
   },
   "outputs": [
    {
     "data": {
      "text/html": [
       "<div>\n",
       "<table border=\"1\" class=\"dataframe\">\n",
       "  <thead>\n",
       "    <tr style=\"text-align: right;\">\n",
       "      <th></th>\n",
       "      <th>sample_id</th>\n",
       "      <th>0</th>\n",
       "      <th>1</th>\n",
       "      <th>2</th>\n",
       "      <th>3</th>\n",
       "    </tr>\n",
       "  </thead>\n",
       "  <tbody>\n",
       "    <tr>\n",
       "      <th>6</th>\n",
       "      <td>HIP09041</td>\n",
       "      <td>HLA-A01:01</td>\n",
       "      <td>HLA-A02:01</td>\n",
       "      <td>HLA-B08:01</td>\n",
       "      <td>HLA-B08:01</td>\n",
       "    </tr>\n",
       "    <tr>\n",
       "      <th>7</th>\n",
       "      <td>HIP13961</td>\n",
       "      <td>HLA-A01:01</td>\n",
       "      <td>HLA-A02:01</td>\n",
       "      <td>HLA-B08:01</td>\n",
       "      <td>HLA-B15:01</td>\n",
       "    </tr>\n",
       "    <tr>\n",
       "      <th>8</th>\n",
       "      <td>HIP17534</td>\n",
       "      <td>HLA-A01:01</td>\n",
       "      <td>HLA-A02:01</td>\n",
       "      <td>HLA-B08:01</td>\n",
       "      <td>HLA-B15:01</td>\n",
       "    </tr>\n",
       "    <tr>\n",
       "      <th>9</th>\n",
       "      <td>HIP13956</td>\n",
       "      <td>HLA-A01:01</td>\n",
       "      <td>HLA-A02:01</td>\n",
       "      <td>HLA-B08:01</td>\n",
       "      <td>HLA-B18:01</td>\n",
       "    </tr>\n",
       "    <tr>\n",
       "      <th>10</th>\n",
       "      <td>HIP16515</td>\n",
       "      <td>HLA-A01:01</td>\n",
       "      <td>HLA-A02:01</td>\n",
       "      <td>HLA-B08:01</td>\n",
       "      <td>HLA-B18:01</td>\n",
       "    </tr>\n",
       "  </tbody>\n",
       "</table>\n",
       "</div>"
      ],
      "text/plain": [
       "   sample_id           0           1           2           3\n",
       "6   HIP09041  HLA-A01:01  HLA-A02:01  HLA-B08:01  HLA-B08:01\n",
       "7   HIP13961  HLA-A01:01  HLA-A02:01  HLA-B08:01  HLA-B15:01\n",
       "8   HIP17534  HLA-A01:01  HLA-A02:01  HLA-B08:01  HLA-B15:01\n",
       "9   HIP13956  HLA-A01:01  HLA-A02:01  HLA-B08:01  HLA-B18:01\n",
       "10  HIP16515  HLA-A01:01  HLA-A02:01  HLA-B08:01  HLA-B18:01"
      ]
     },
     "execution_count": 42,
     "metadata": {},
     "output_type": "execute_result"
    }
   ],
   "source": [
    "lookup = tdata['sample_id']\n",
    "for i in range(4):\n",
    "    ser = tdata[i].apply(lambda x: \"HLA-\"+x[0]+x[2:4]+':01')\n",
    "    lookup = pd.concat([lookup, ser], axis=1)\n",
    "lookup.head()"
   ]
  },
  {
   "cell_type": "code",
   "execution_count": 92,
   "metadata": {
    "collapsed": false
   },
   "outputs": [
    {
     "name": "stdout",
     "output_type": "stream",
     "text": [
      "\n"
     ]
    }
   ],
   "source": [
    "file_list = [\"HLA-\"+i[0]+i[2:4]+':01' for i in correct_alleles]\n",
    "\n",
    "file_dict = {}\n",
    "for file in tqdm_notebook(alleles01):\n",
    "    file = 'HLA-' + file[0] + file[2:4] + ':01'\n",
    "    df = pd.read_csv(\"output/netMHCpan/\" + file + \"_NMP_9mer_proc.txt\", sep=\" \")\n",
    "    dfb = df[df['Aff(nM)']<=500]\n",
    "    dfp = dfb.Peptide\n",
    "    file_dict[file] = dfp"
   ]
  },
  {
   "cell_type": "code",
   "execution_count": null,
   "metadata": {
    "collapsed": false
   },
   "outputs": [],
   "source": [
    "sorted(file_dict.keys())"
   ]
  },
  {
   "cell_type": "code",
   "execution_count": 95,
   "metadata": {
    "collapsed": false
   },
   "outputs": [],
   "source": [
    "def get_pept(sample_id):\n",
    "    alleles = []\n",
    "    for i in range(4):\n",
    "        alleles.append(lookup[lookup['sample_id']==sample_id][i].tolist())\n",
    "    alleles = [item for sublist in alleles for item in sublist]\n",
    "    pepdata = []\n",
    "    counter = []\n",
    "    try:\n",
    "        for allele in alleles:\n",
    "            if allele not in counter:\n",
    "                pepdata += list(file_dict[allele])\n",
    "                counter.append(allele)\n",
    "    except KeyError:\n",
    "        return []\n",
    "    return pepdata\n",
    "\n",
    "from multiprocessing import Pool\n",
    "\n",
    "def func(data):\n",
    "    return data.index.map(lambda x: \\\n",
    "                          len(set(get_pept(nmp['sample_id_1'].loc[x]))\\\n",
    "                              &set(get_pept(nmp['sample_id_2'].loc[x]))))\n",
    "\n",
    "# http://www.racketracer.com/2016/07/06/pandas-in-parallel/\n",
    "\n",
    "def parallelize_dataframe(df, func):\n",
    "    df_split = np.array_split(df, num_partitions)\n",
    "    pool = Pool(num_cores)\n",
    "    df = list(itertools.chain(pool.map(func, df_split)))\n",
    "    pool.close()\n",
    "    pool.join()\n",
    "    return df\n",
    "\n",
    "num_partitions = 100 #number of partitions to split dataframe\n",
    "num_cores = 40 #number of cores on your machine\n",
    "\n",
    "result = parallelize_dataframe(nmp, func)"
   ]
  },
  {
   "cell_type": "code",
   "execution_count": 96,
   "metadata": {
    "collapsed": false
   },
   "outputs": [
    {
     "data": {
      "text/plain": [
       "26565"
      ]
     },
     "execution_count": 96,
     "metadata": {},
     "output_type": "execute_result"
    }
   ],
   "source": [
    "result = [item for sublist in result for item in sublist]\n",
    "len(result)"
   ]
  },
  {
   "cell_type": "code",
   "execution_count": 97,
   "metadata": {
    "collapsed": false
   },
   "outputs": [
    {
     "data": {
      "text/plain": [
       "23871"
      ]
     },
     "execution_count": 97,
     "metadata": {},
     "output_type": "execute_result"
    }
   ],
   "source": [
    "sum([True if i>0 else False for i in result])"
   ]
  },
  {
   "cell_type": "code",
   "execution_count": 116,
   "metadata": {
    "collapsed": false
   },
   "outputs": [
    {
     "data": {
      "text/html": [
       "<div>\n",
       "<table border=\"1\" class=\"dataframe\">\n",
       "  <thead>\n",
       "    <tr style=\"text-align: right;\">\n",
       "      <th></th>\n",
       "      <th>sample_id_1</th>\n",
       "      <th>sample_id_2</th>\n",
       "      <th>JSD</th>\n",
       "      <th>nmp</th>\n",
       "    </tr>\n",
       "  </thead>\n",
       "  <tbody>\n",
       "    <tr>\n",
       "      <th>0</th>\n",
       "      <td>HIP00602</td>\n",
       "      <td>HIP00169</td>\n",
       "      <td>0.022950</td>\n",
       "      <td>354193</td>\n",
       "    </tr>\n",
       "    <tr>\n",
       "      <th>1</th>\n",
       "      <td>HIP00728</td>\n",
       "      <td>HIP00169</td>\n",
       "      <td>0.024538</td>\n",
       "      <td>340320</td>\n",
       "    </tr>\n",
       "    <tr>\n",
       "      <th>2</th>\n",
       "      <td>HIP00728</td>\n",
       "      <td>HIP00602</td>\n",
       "      <td>0.010451</td>\n",
       "      <td>349198</td>\n",
       "    </tr>\n",
       "    <tr>\n",
       "      <th>3</th>\n",
       "      <td>HIP00775</td>\n",
       "      <td>HIP00169</td>\n",
       "      <td>0.038653</td>\n",
       "      <td>57665</td>\n",
       "    </tr>\n",
       "    <tr>\n",
       "      <th>4</th>\n",
       "      <td>HIP00775</td>\n",
       "      <td>HIP00602</td>\n",
       "      <td>0.016790</td>\n",
       "      <td>60928</td>\n",
       "    </tr>\n",
       "  </tbody>\n",
       "</table>\n",
       "</div>"
      ],
      "text/plain": [
       "  sample_id_1 sample_id_2       JSD     nmp\n",
       "0    HIP00602    HIP00169  0.022950  354193\n",
       "1    HIP00728    HIP00169  0.024538  340320\n",
       "2    HIP00728    HIP00602  0.010451  349198\n",
       "3    HIP00775    HIP00169  0.038653   57665\n",
       "4    HIP00775    HIP00602  0.016790   60928"
      ]
     },
     "execution_count": 116,
     "metadata": {},
     "output_type": "execute_result"
    }
   ],
   "source": [
    "jsd['nmp'] = result\n",
    "jsd = jsd[jsd['nmp']!=0]\n",
    "jsd.head()"
   ]
  },
  {
   "cell_type": "code",
   "execution_count": 117,
   "metadata": {
    "collapsed": false
   },
   "outputs": [
    {
     "name": "stdout",
     "output_type": "stream",
     "text": [
      "JS distance var\t\t\t0.00016813937204644637\n",
      "Number of mutual peptides var\t21634474037.360947\n"
     ]
    }
   ],
   "source": [
    "print('JS distance var', jsd['JSD'].var(), sep='\\t\\t\\t')\n",
    "print('Number of mutual peptides var', jsd['nmp'].var(), sep='\\t')"
   ]
  },
  {
   "cell_type": "code",
   "execution_count": 104,
   "metadata": {
    "collapsed": false
   },
   "outputs": [
    {
     "data": {
      "text/plain": [
       "(0.05584552775777666, 5.8955517655291411e-18)"
      ]
     },
     "execution_count": 104,
     "metadata": {},
     "output_type": "execute_result"
    }
   ],
   "source": [
    "from scipy.stats import pearsonr\n",
    "\n",
    "pearsonr(jsd['JSD'], jsd['nmp'])"
   ]
  },
  {
   "cell_type": "code",
   "execution_count": 120,
   "metadata": {
    "collapsed": false
   },
   "outputs": [
    {
     "data": {
      "image/png": "[encoded data removed]",
      "text/plain": [
       "<matplotlib.figure.Figure at 0x7f990a42d978>"
      ]
     },
     "metadata": {},
     "output_type": "display_data"
    }
   ],
   "source": [
    "g = sns.jointplot(\"JSD\", \"nmp\", data=jsd, kind=\"reg\")"
   ]
  }
 ],
 "metadata": {
  "anaconda-cloud": {},
  "kernelspec": {
   "display_name": "Python [conda root]",
   "language": "python",
   "name": "conda-root-py"
  },
  "language_info": {
   "codemirror_mode": {
    "name": "ipython",
    "version": 3
   },
   "file_extension": ".py",
   "mimetype": "text/x-python",
   "name": "python",
   "nbconvert_exporter": "python",
   "pygments_lexer": "ipython3",
   "version": "3.5.2"
  },
  "widgets": {
   "state": {
    "6c17f40c33984317bf034d7fe07ca2b3": {
     "views": [
      {
       "cell_index": 49
      }
     ]
    }
   },
   "version": "1.2.0"
  }
 },
 "nbformat": 4,
 "nbformat_minor": 1
}
