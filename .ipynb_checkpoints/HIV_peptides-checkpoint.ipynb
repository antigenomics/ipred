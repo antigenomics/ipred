{
 "cells": [
  {
   "cell_type": "code",
   "execution_count": 1,
   "metadata": {
    "collapsed": false
   },
   "outputs": [
    {
     "name": "stderr",
     "output_type": "stream",
     "text": [
      "/home/vts/anaconda3/envs/python2/lib/python2.7/site-packages/matplotlib/font_manager.py:280: UserWarning: Matplotlib is building the font cache using fc-list. This may take a moment.\n",
      "  'Matplotlib is building the font cache using fc-list. '\n"
     ]
    },
    {
     "name": "stdout",
     "output_type": "stream",
     "text": [
      "Populating the interactive namespace from numpy and matplotlib\n"
     ]
    },
    {
     "name": "stderr",
     "output_type": "stream",
     "text": [
      "Using Theano backend.\n",
      "/home/vts/anaconda3/envs/python2/lib/python2.7/site-packages/sklearn/cross_validation.py:44: DeprecationWarning: This module was deprecated in version 0.18 in favor of the model_selection module into which all the refactored classes and functions are moved. Also note that the interface of the new CV iterators are different from that of this module. This module will be removed in 0.20.\n",
      "  \"This module will be removed in 0.20.\", DeprecationWarning)\n",
      "WARNING:root:You will probably get deadlocks on Python earlier than 3.4 if you set n_jobs to anything other than 1.\n"
     ]
    }
   ],
   "source": [
    "%matplotlib inline\n",
    "%pylab inline\n",
    "import os\n",
    "import pandas as pd\n",
    "import numpy as np\n",
    "import matplotlib.pyplot as plt\n",
    "import pylab as pl\n",
    "from __future__ import division\n",
    "from mhcflurry import predict\n",
    "from mhcflurry import class1_allele_specific\n",
    "from sklearn.metrics import confusion_matrix, accuracy_score, roc_auc_score, roc_curve"
   ]
  },
  {
   "cell_type": "code",
   "execution_count": 27,
   "metadata": {
    "collapsed": false
   },
   "outputs": [
    {
     "name": "stdout",
     "output_type": "stream",
     "text": [
      "Reading HIV_peptides.csv\n"
     ]
    }
   ],
   "source": [
    "filepath = \"./data/HIV_peptides.csv\"\n",
    "if os.path.isfile(filepath):\n",
    "    df = pd.read_csv(filepath, sep=\",\")\n",
    "    print(\"Reading {}\".format(os.path.basename(filepath)))\n",
    "else:\n",
    "    print(\"File path is wrong\")"
   ]
  },
  {
   "cell_type": "code",
   "execution_count": 28,
   "metadata": {
    "collapsed": false
   },
   "outputs": [
    {
     "name": "stdout",
     "output_type": "stream",
     "text": [
      "1610\n"
     ]
    },
    {
     "data": {
      "text/html": [
       "<div>\n",
       "<table border=\"1\" class=\"dataframe\">\n",
       "  <thead>\n",
       "    <tr style=\"text-align: right;\">\n",
       "      <th></th>\n",
       "      <th>binder</th>\n",
       "      <th>non_binder</th>\n",
       "      <th>mhc</th>\n",
       "    </tr>\n",
       "  </thead>\n",
       "  <tbody>\n",
       "    <tr>\n",
       "      <th>1</th>\n",
       "      <td>GELDRWEKI</td>\n",
       "      <td>GELDRWkKI</td>\n",
       "      <td>B40</td>\n",
       "    </tr>\n",
       "    <tr>\n",
       "      <th>2</th>\n",
       "      <td>KIRLRPGGK</td>\n",
       "      <td>KIRLRPGGq</td>\n",
       "      <td>A3</td>\n",
       "    </tr>\n",
       "  </tbody>\n",
       "</table>\n",
       "</div>"
      ],
      "text/plain": [
       "      binder non_binder  mhc\n",
       "1  GELDRWEKI  GELDRWkKI  B40\n",
       "2  KIRLRPGGK  KIRLRPGGq   A3"
      ]
     },
     "execution_count": 28,
     "metadata": {},
     "output_type": "execute_result"
    }
   ],
   "source": [
    "df = df.dropna()\n",
    "df = df.drop('Unnamed: 0', 1)\n",
    "df.index = range(1,len(df) + 1)\n",
    "print(len(df))\n",
    "df.head(2)"
   ]
  },
  {
   "cell_type": "code",
   "execution_count": 29,
   "metadata": {
    "collapsed": false
   },
   "outputs": [
    {
     "data": {
      "text/plain": [
       "'GELDRWkKI'"
      ]
     },
     "execution_count": 29,
     "metadata": {},
     "output_type": "execute_result"
    }
   ],
   "source": [
    "df[\"non_binder\"].iloc[0]"
   ]
  },
  {
   "cell_type": "code",
   "execution_count": 30,
   "metadata": {
    "collapsed": false
   },
   "outputs": [
    {
     "name": "stdout",
     "output_type": "stream",
     "text": [
      "3220\n"
     ]
    },
    {
     "data": {
      "text/html": [
       "<div>\n",
       "<table border=\"1\" class=\"dataframe\">\n",
       "  <thead>\n",
       "    <tr style=\"text-align: right;\">\n",
       "      <th></th>\n",
       "      <th>Binding</th>\n",
       "      <th>MHC</th>\n",
       "      <th>Peptide</th>\n",
       "    </tr>\n",
       "  </thead>\n",
       "  <tbody>\n",
       "    <tr>\n",
       "      <th>0</th>\n",
       "      <td>Binder</td>\n",
       "      <td>B40</td>\n",
       "      <td>GELDRWEKI</td>\n",
       "    </tr>\n",
       "    <tr>\n",
       "      <th>1</th>\n",
       "      <td>Non_binder</td>\n",
       "      <td>B40</td>\n",
       "      <td>GELDRWKKI</td>\n",
       "    </tr>\n",
       "    <tr>\n",
       "      <th>2</th>\n",
       "      <td>Binder</td>\n",
       "      <td>A3</td>\n",
       "      <td>KIRLRPGGK</td>\n",
       "    </tr>\n",
       "    <tr>\n",
       "      <th>3</th>\n",
       "      <td>Non_binder</td>\n",
       "      <td>A3</td>\n",
       "      <td>KIRLRPGGQ</td>\n",
       "    </tr>\n",
       "    <tr>\n",
       "      <th>4</th>\n",
       "      <td>Binder</td>\n",
       "      <td>A3</td>\n",
       "      <td>KIRLRPGGK</td>\n",
       "    </tr>\n",
       "  </tbody>\n",
       "</table>\n",
       "</div>"
      ],
      "text/plain": [
       "      Binding  MHC    Peptide\n",
       "0      Binder  B40  GELDRWEKI\n",
       "1  Non_binder  B40  GELDRWKKI\n",
       "2      Binder   A3  KIRLRPGGK\n",
       "3  Non_binder   A3  KIRLRPGGQ\n",
       "4      Binder   A3  KIRLRPGGK"
      ]
     },
     "execution_count": 30,
     "metadata": {},
     "output_type": "execute_result"
    }
   ],
   "source": [
    "#wdf = pd.DataFrame(columns=(\"Peptides\", \"MHC\", \"Binding\"))\n",
    "rows_list = []\n",
    "for i in range(len(df)):\n",
    "    dict1 = {}\n",
    "    dict2 = {}\n",
    "    dict1.update({'Peptide' : df['binder'].iloc[i], 'MHC' : df['mhc'].iloc[i], 'Binding' : 'Binder'})\n",
    "    dict2.update({'Peptide' : df['non_binder'].iloc[i], 'MHC' : df['mhc'].iloc[i], 'Binding' : 'Non_binder'})\n",
    "    rows_list.append(dict1)\n",
    "    rows_list.append(dict2)\n",
    "wdf = pd.DataFrame(rows_list)\n",
    "print(len(wdf))\n",
    "wdf['Peptide'] = wdf['Peptide'].str.upper()\n",
    "wdf.head()"
   ]
  },
  {
   "cell_type": "code",
   "execution_count": 31,
   "metadata": {
    "collapsed": false
   },
   "outputs": [
    {
     "name": "stdout",
     "output_type": "stream",
     "text": [
      "['A*01' 'A*0101' 'A*02' 'A*02, A*03' 'A*0201' 'A*0201, A*3002' 'A*0201, A2'\n",
      " 'A*0202, A2' 'A*0205' 'A*0207' 'A*03' 'A*03, A*11' 'A*0301' 'A*0301, A*11'\n",
      " 'A*0301, A*1101, A3, A*6801' 'A*0301, A*6801' 'A*11' 'A*1101' 'A*23'\n",
      " 'A*23, A*2402, B*0801' 'A*23, A24' 'A*24' 'A*2402' 'A*2501' 'A*2601'\n",
      " 'A*2601, A*2603' 'A*2603' 'A*2902' 'A*3002' 'A*31' 'A*3101' 'A*3201'\n",
      " 'A*33' 'A*6801' 'A*6802' 'A1' 'A11' 'A11, A3' 'A2' 'A2, A3' 'A2, B62'\n",
      " 'A2, B8' 'A2.1' 'A24' 'A24, B*5101' 'A24, B35' 'A25' 'A26' 'A26, B70'\n",
      " 'A29' 'A3' 'A3 supertype, A*6801' 'A3, A30, B42, B62' 'A3, B7' 'A3, Cw3'\n",
      " 'A30' 'A32, B14' 'A3?' 'B*07' 'B*0702' 'B*08' 'B*0801' 'B*13' 'B*1401'\n",
      " 'B*1402' 'B*15' 'B*1501' 'B*1503' 'B*1510' 'B*1510, B70' 'B*1801' 'B*27'\n",
      " 'B*2705' 'B*35' 'B*3501' 'B*37' 'B*3801' 'B*40' 'B*4001' 'B*4001, B50'\n",
      " 'B*4201' 'B*4201, B*4202' 'B*4202' 'B*4402' 'B*4402, B*4403' 'B*4403'\n",
      " 'B*4501' 'B*4801' 'B*51' 'B*5101' 'B*5401' 'B*57' 'B*57, B*58'\n",
      " 'B*57, B*5801' 'B*5701' 'B*5701, B*5703' 'B*5701, B*58' 'B*5701, B*5801'\n",
      " 'B*5702, B*5703, B*5801' 'B*5703' 'B*5703, B*5801' 'B*5801'\n",
      " 'B*5801, B*5802' 'B*81' 'B*8101' 'B13' 'B14' 'B14, B*1402' 'B15'\n",
      " 'B15, B*1516, B63' 'B18' 'B18, B35' 'B18, B35, B49, B53, B7'\n",
      " 'B18, B40, B44' 'B18, B49' 'B18, B53, B7' 'B27' 'B27, B*2705' 'B35' 'B40'\n",
      " 'B42' 'B42, B7' 'B42, B7, B81' 'B44' 'B45' 'B49' 'B51' 'B52' 'B53'\n",
      " 'B53, B58' 'B53, Cw4' 'B55' 'B55, B*5501' 'B57' 'B57, B*5801' 'B57, B58'\n",
      " 'B58' 'B60' 'B62' 'B62, Cw8' 'B7' 'B7 supertype' 'B7, B8' 'B70' 'B8' 'B81'\n",
      " 'Cw*0102' 'Cw*03' 'Cw*0303' 'Cw*0304' 'Cw*0401' 'Cw*05' 'Cw*0701'\n",
      " 'Cw*0702' 'Cw*08' 'Cw*0802' 'Cw*12' 'Cw*1202' 'Cw*1203' 'Cw1' 'Cw3' 'Cw4'\n",
      " 'Cw5' 'Cw7' 'Cw8' 'H-2<sup>d</sup>' 'H-2D<sup>d</sup>' 'H-2K<sup>d</sup>'\n",
      " 'Mamu A*01' 'Mamu-A*01']\n"
     ]
    }
   ],
   "source": [
    "print(unique(wdf['MHC']))"
   ]
  },
  {
   "cell_type": "code",
   "execution_count": 32,
   "metadata": {
    "collapsed": false
   },
   "outputs": [],
   "source": [
    "def f(row):\n",
    "    if len(row['MHC']) == 6 and ',' not in row['MHC']:\n",
    "        return 'HLA-{}'.format(row['MHC'])\n",
    "\n",
    "wdf['MHC'] = wdf.apply(f, axis=1)"
   ]
  },
  {
   "cell_type": "code",
   "execution_count": 33,
   "metadata": {
    "collapsed": false,
    "scrolled": true
   },
   "outputs": [
    {
     "data": {
      "text/html": [
       "<div>\n",
       "<table border=\"1\" class=\"dataframe\">\n",
       "  <thead>\n",
       "    <tr style=\"text-align: right;\">\n",
       "      <th></th>\n",
       "      <th>Binding</th>\n",
       "      <th>MHC</th>\n",
       "      <th>Peptide</th>\n",
       "    </tr>\n",
       "  </thead>\n",
       "  <tbody>\n",
       "    <tr>\n",
       "      <th>8</th>\n",
       "      <td>Binder</td>\n",
       "      <td>HLA-A*0301</td>\n",
       "      <td>KIRLRPGGK</td>\n",
       "    </tr>\n",
       "    <tr>\n",
       "      <th>9</th>\n",
       "      <td>Non_binder</td>\n",
       "      <td>HLA-A*0301</td>\n",
       "      <td>KIRLRPGGR</td>\n",
       "    </tr>\n",
       "    <tr>\n",
       "      <th>26</th>\n",
       "      <td>Binder</td>\n",
       "      <td>HLA-A*0301</td>\n",
       "      <td>RLRPGGKKK</td>\n",
       "    </tr>\n",
       "    <tr>\n",
       "      <th>27</th>\n",
       "      <td>Non_binder</td>\n",
       "      <td>HLA-A*0301</td>\n",
       "      <td>RLRPGGKKQ</td>\n",
       "    </tr>\n",
       "    <tr>\n",
       "      <th>42</th>\n",
       "      <td>Binder</td>\n",
       "      <td>HLA-A*0301</td>\n",
       "      <td>RLRPGGKKK</td>\n",
       "    </tr>\n",
       "  </tbody>\n",
       "</table>\n",
       "</div>"
      ],
      "text/plain": [
       "       Binding         MHC    Peptide\n",
       "8       Binder  HLA-A*0301  KIRLRPGGK\n",
       "9   Non_binder  HLA-A*0301  KIRLRPGGR\n",
       "26      Binder  HLA-A*0301  RLRPGGKKK\n",
       "27  Non_binder  HLA-A*0301  RLRPGGKKQ\n",
       "42      Binder  HLA-A*0301  RLRPGGKKK"
      ]
     },
     "execution_count": 33,
     "metadata": {},
     "output_type": "execute_result"
    }
   ],
   "source": [
    "wdf = wdf.dropna()\n",
    "wdf.head(5)"
   ]
  },
  {
   "cell_type": "code",
   "execution_count": 35,
   "metadata": {
    "collapsed": false
   },
   "outputs": [
    {
     "data": {
      "text/plain": [
       "array(['HLA-A*0101', 'HLA-A*0201', 'HLA-A*0205', 'HLA-A*0207',\n",
       "       'HLA-A*0301', 'HLA-A*1101', 'HLA-A*2402', 'HLA-A*2501',\n",
       "       'HLA-A*2601', 'HLA-A*2603', 'HLA-A*2902', 'HLA-A*3002',\n",
       "       'HLA-A*3101', 'HLA-A*3201', 'HLA-A*6801', 'HLA-A*6802',\n",
       "       'HLA-B*0702', 'HLA-B*0801', 'HLA-B*1401', 'HLA-B*1402',\n",
       "       'HLA-B*1501', 'HLA-B*1503', 'HLA-B*1510', 'HLA-B*1801',\n",
       "       'HLA-B*2705', 'HLA-B*3501', 'HLA-B*3801', 'HLA-B*4001',\n",
       "       'HLA-B*4201', 'HLA-B*4202', 'HLA-B*4402', 'HLA-B*4403',\n",
       "       'HLA-B*4501', 'HLA-B*4801', 'HLA-B*5101', 'HLA-B*5401',\n",
       "       'HLA-B*5701', 'HLA-B*5703', 'HLA-B*5801', 'HLA-B*8101'], dtype=object)"
      ]
     },
     "execution_count": 35,
     "metadata": {},
     "output_type": "execute_result"
    }
   ],
   "source": [
    "unique(wdf['MHC'])"
   ]
  },
  {
   "cell_type": "code",
   "execution_count": 39,
   "metadata": {
    "collapsed": false
   },
   "outputs": [
    {
     "ename": "ValueError",
     "evalue": "No models for allele 'HLA-H'. Alleles with models: H-2-DB H-2-DD H-2-KB H-2-KD H-2-KK H-2-LD HLA-A0101 HLA-A0201 HLA-A0202 HLA-A0203 HLA-A0206 HLA-A0211 HLA-A0212 HLA-A0216 HLA-A0217 HLA-A0219 HLA-A0301 HLA-A1101 HLA-A2301 HLA-A2402 HLA-A2403 HLA-A2501 HLA-A2601 HLA-A2602 HLA-A2603 HLA-A2902 HLA-A3001 HLA-A3002 HLA-A3101 HLA-A3201 HLA-A3301 HLA-A6801 HLA-A6802 HLA-A6901 HLA-A8001 HLA-B0702 HLA-B0801 HLA-B0802 HLA-B0803 HLA-B1402 HLA-B1501 HLA-B1503 HLA-B1509 HLA-B1517 HLA-B1542 HLA-B1801 HLA-B2703 HLA-B2705 HLA-B3501 HLA-B3503 HLA-B3801 HLA-B3901 HLA-B4001 HLA-B4002 HLA-B4201 HLA-B4402 HLA-B4403 HLA-B4501 HLA-B4506 HLA-B4601 HLA-B4801 HLA-B5101 HLA-B5301 HLA-B5401 HLA-B5701 HLA-B5801 HLA-B8301 HLA-C0401 HLA-C0602 HLA-C1402 HLA-EQCA100101 Mamu-A01 Mamu-A02 Mamu-A07 Mamu-A100101 Mamu-A100201 Mamu-A101101 Mamu-A11 Mamu-A2201 Mamu-A2601 Mamu-B01 Mamu-B01704 Mamu-B03 Mamu-B08 Mamu-B17 Mamu-B3901 Mamu-B52 Mamu-B8301 Patr-A0101 Patr-A0301 Patr-A0401 Patr-A0701 Patr-A0901 Patr-B0101 Patr-B1301 Patr-B2401 in models file: /home/vasily/.local/share/mhcflurry/4/0.0.8/models_class1_allele_specific_single/production.csv",
     "output_type": "error",
     "traceback": [
      "\u001b[0;31m---------------------------------------------------------------------------\u001b[0m",
      "\u001b[0;31mValueError\u001b[0m                                Traceback (most recent call last)",
      "\u001b[0;32m<ipython-input-39-8a11cf716b86>\u001b[0m in \u001b[0;36m<module>\u001b[0;34m()\u001b[0m\n\u001b[0;32m----> 1\u001b[0;31m \u001b[0mprediction\u001b[0m \u001b[0;34m=\u001b[0m \u001b[0mpredict\u001b[0m\u001b[0;34m(\u001b[0m\u001b[0malleles\u001b[0m\u001b[0;34m=\u001b[0m\u001b[0;34m'H-2<sup>d</sup>'\u001b[0m\u001b[0;34m,\u001b[0m \u001b[0mpeptides\u001b[0m\u001b[0;34m=\u001b[0m\u001b[0mwdf\u001b[0m\u001b[0;34m[\u001b[0m\u001b[0mwdf\u001b[0m\u001b[0;34m[\u001b[0m\u001b[0;34m'MHC'\u001b[0m\u001b[0;34m]\u001b[0m\u001b[0;34m==\u001b[0m\u001b[0;34m'H-2<sup>d</sup>'\u001b[0m\u001b[0;34m]\u001b[0m\u001b[0;34m[\u001b[0m\u001b[0;34m'Peptide'\u001b[0m\u001b[0;34m]\u001b[0m\u001b[0;34m)\u001b[0m\u001b[0;34m\u001b[0m\u001b[0m\n\u001b[0m",
      "\u001b[0;32m/home/vasily/anaconda2/lib/python2.7/site-packages/mhcflurry/predict.pyc\u001b[0m in \u001b[0;36mpredict\u001b[0;34m(alleles, peptides)\u001b[0m\n\u001b[1;32m     40\u001b[0m     \u001b[0;32mfor\u001b[0m \u001b[0mallele\u001b[0m \u001b[0;32min\u001b[0m \u001b[0malleles\u001b[0m\u001b[0;34m:\u001b[0m\u001b[0;34m\u001b[0m\u001b[0m\n\u001b[1;32m     41\u001b[0m         \u001b[0mallele\u001b[0m \u001b[0;34m=\u001b[0m \u001b[0mnormalize_allele_name\u001b[0m\u001b[0;34m(\u001b[0m\u001b[0mallele\u001b[0m\u001b[0;34m)\u001b[0m\u001b[0;34m\u001b[0m\u001b[0m\n\u001b[0;32m---> 42\u001b[0;31m         \u001b[0mmodel\u001b[0m \u001b[0;34m=\u001b[0m \u001b[0mload\u001b[0m\u001b[0;34m.\u001b[0m\u001b[0mfrom_allele_name\u001b[0m\u001b[0;34m(\u001b[0m\u001b[0mallele\u001b[0m\u001b[0;34m)\u001b[0m\u001b[0;34m\u001b[0m\u001b[0m\n\u001b[0m\u001b[1;32m     43\u001b[0m         \u001b[0;32mfor\u001b[0m \u001b[0mi\u001b[0m\u001b[0;34m,\u001b[0m \u001b[0mic50\u001b[0m \u001b[0;32min\u001b[0m \u001b[0menumerate\u001b[0m\u001b[0;34m(\u001b[0m\u001b[0mmodel\u001b[0m\u001b[0;34m.\u001b[0m\u001b[0mpredict\u001b[0m\u001b[0;34m(\u001b[0m\u001b[0mpeptides\u001b[0m\u001b[0;34m)\u001b[0m\u001b[0;34m)\u001b[0m\u001b[0;34m:\u001b[0m\u001b[0;34m\u001b[0m\u001b[0m\n\u001b[1;32m     44\u001b[0m             \u001b[0mresult_dict\u001b[0m\u001b[0;34m[\u001b[0m\u001b[0;34m\"Allele\"\u001b[0m\u001b[0;34m]\u001b[0m\u001b[0;34m.\u001b[0m\u001b[0mappend\u001b[0m\u001b[0;34m(\u001b[0m\u001b[0mallele\u001b[0m\u001b[0;34m)\u001b[0m\u001b[0;34m\u001b[0m\u001b[0m\n",
      "\u001b[0;32m/home/vasily/anaconda2/lib/python2.7/site-packages/mhcflurry/class1_allele_specific/load.pyc\u001b[0m in \u001b[0;36mfrom_allele_name\u001b[0;34m(allele_name)\u001b[0m\n\u001b[1;32m     43\u001b[0m     \u001b[0mClass1BindingPredictor\u001b[0m\u001b[0;34m\u001b[0m\u001b[0m\n\u001b[1;32m     44\u001b[0m     \"\"\"\n\u001b[0;32m---> 45\u001b[0;31m     \u001b[0;32mreturn\u001b[0m \u001b[0mget_loader_for_downloaded_models\u001b[0m\u001b[0;34m(\u001b[0m\u001b[0;34m)\u001b[0m\u001b[0;34m.\u001b[0m\u001b[0mfrom_allele_name\u001b[0m\u001b[0;34m(\u001b[0m\u001b[0mallele_name\u001b[0m\u001b[0;34m)\u001b[0m\u001b[0;34m\u001b[0m\u001b[0m\n\u001b[0m\u001b[1;32m     46\u001b[0m \u001b[0;34m\u001b[0m\u001b[0m\n\u001b[1;32m     47\u001b[0m \u001b[0;34m\u001b[0m\u001b[0m\n",
      "\u001b[0;32m/home/vasily/anaconda2/lib/python2.7/site-packages/mhcflurry/class1_allele_specific/load.pyc\u001b[0m in \u001b[0;36mfrom_allele_name\u001b[0;34m(self, allele_name)\u001b[0m\n\u001b[1;32m    119\u001b[0m                         \u001b[0mallele_name\u001b[0m\u001b[0;34m,\u001b[0m\u001b[0;34m\u001b[0m\u001b[0m\n\u001b[1;32m    120\u001b[0m                         \u001b[0;34m' '\u001b[0m\u001b[0;34m.\u001b[0m\u001b[0mjoin\u001b[0m\u001b[0;34m(\u001b[0m\u001b[0mself\u001b[0m\u001b[0;34m.\u001b[0m\u001b[0msupported_alleles\u001b[0m\u001b[0;34m)\u001b[0m\u001b[0;34m,\u001b[0m\u001b[0;34m\u001b[0m\u001b[0m\n\u001b[0;32m--> 121\u001b[0;31m                         self.path_to_models_csv))\n\u001b[0m\u001b[1;32m    122\u001b[0m \u001b[0;34m\u001b[0m\u001b[0m\n\u001b[1;32m    123\u001b[0m             \u001b[0mmodel_path\u001b[0m \u001b[0;34m=\u001b[0m \u001b[0mjoin\u001b[0m\u001b[0;34m(\u001b[0m\u001b[0mself\u001b[0m\u001b[0;34m.\u001b[0m\u001b[0mpath\u001b[0m\u001b[0;34m,\u001b[0m \u001b[0;34m\"models\"\u001b[0m\u001b[0;34m,\u001b[0m \u001b[0mpredictor_name\u001b[0m \u001b[0;34m+\u001b[0m \u001b[0;34m\".pickle\"\u001b[0m\u001b[0;34m)\u001b[0m\u001b[0;34m\u001b[0m\u001b[0m\n",
      "\u001b[0;31mValueError\u001b[0m: No models for allele 'HLA-H'. Alleles with models: H-2-DB H-2-DD H-2-KB H-2-KD H-2-KK H-2-LD HLA-A0101 HLA-A0201 HLA-A0202 HLA-A0203 HLA-A0206 HLA-A0211 HLA-A0212 HLA-A0216 HLA-A0217 HLA-A0219 HLA-A0301 HLA-A1101 HLA-A2301 HLA-A2402 HLA-A2403 HLA-A2501 HLA-A2601 HLA-A2602 HLA-A2603 HLA-A2902 HLA-A3001 HLA-A3002 HLA-A3101 HLA-A3201 HLA-A3301 HLA-A6801 HLA-A6802 HLA-A6901 HLA-A8001 HLA-B0702 HLA-B0801 HLA-B0802 HLA-B0803 HLA-B1402 HLA-B1501 HLA-B1503 HLA-B1509 HLA-B1517 HLA-B1542 HLA-B1801 HLA-B2703 HLA-B2705 HLA-B3501 HLA-B3503 HLA-B3801 HLA-B3901 HLA-B4001 HLA-B4002 HLA-B4201 HLA-B4402 HLA-B4403 HLA-B4501 HLA-B4506 HLA-B4601 HLA-B4801 HLA-B5101 HLA-B5301 HLA-B5401 HLA-B5701 HLA-B5801 HLA-B8301 HLA-C0401 HLA-C0602 HLA-C1402 HLA-EQCA100101 Mamu-A01 Mamu-A02 Mamu-A07 Mamu-A100101 Mamu-A100201 Mamu-A101101 Mamu-A11 Mamu-A2201 Mamu-A2601 Mamu-B01 Mamu-B01704 Mamu-B03 Mamu-B08 Mamu-B17 Mamu-B3901 Mamu-B52 Mamu-B8301 Patr-A0101 Patr-A0301 Patr-A0401 Patr-A0701 Patr-A0901 Patr-B0101 Patr-B1301 Patr-B2401 in models file: /home/vasily/.local/share/mhcflurry/4/0.0.8/models_class1_allele_specific_single/production.csv"
     ]
    }
   ],
   "source": [
    "prediction = predict(alleles='H-2<sup>d</sup>', peptides=wdf[wdf['MHC']=='H-2<sup>d</sup>']['Peptide'])"
   ]
  },
  {
   "cell_type": "code",
   "execution_count": 37,
   "metadata": {
    "collapsed": false
   },
   "outputs": [
    {
     "name": "stdout",
     "output_type": "stream",
     "text": [
      "Predictions made\n",
      "Number of warnings is 66\n",
      "                   0\n",
      "Binding       Binder\n",
      "MHC       HLA-B*5703\n",
      "Peptide  KAFSPEVIPMF\n",
      "Binding   Non_binder\n",
      "MHC       HLA-B*5703\n",
      "Peptide  KNFSPEVIPMF\n",
      "Binding       Binder\n",
      "MHC       HLA-B*5703\n",
      "Peptide  KAFSPEVIPMF\n",
      "Binding   Non_binder\n",
      "MHC       HLA-B*5703\n",
      "Peptide  RAFSPEVIPMF\n",
      "Binding       Binder\n",
      "MHC       HLA-B*4202\n",
      "Peptide    TPQDLNMML\n",
      "Binding   Non_binder\n",
      "MHC       HLA-B*4202\n",
      "Peptide    TPQDLNTML\n",
      "Binding       Binder\n",
      "MHC       HLA-B*8101\n",
      "Peptide    TPQDLNTML\n",
      "Binding   Non_binder\n",
      "MHC       HLA-B*8101\n",
      "Peptide    TPEDLNTML\n",
      "Binding       Binder\n",
      "MHC       HLA-B*8101\n",
      "Peptide    TPQDLNTML\n",
      "Binding   Non_binder\n",
      "MHC       HLA-B*8101\n",
      "Peptide    TPQDLNMML\n",
      "...              ...\n",
      "Binding       Binder\n",
      "MHC       HLA-B*8101\n",
      "Peptide    RPQVPLRPM\n",
      "Binding   Non_binder\n",
      "MHC       HLA-B*8101\n",
      "Peptide    RPQVPVRPM\n",
      "Binding       Binder\n",
      "MHC       HLA-B*8101\n",
      "Peptide    RPQVPLRPM\n",
      "Binding   Non_binder\n",
      "MHC       HLA-B*8101\n",
      "Peptide    RPQVPTRPM\n",
      "Binding       Binder\n",
      "MHC       HLA-B*8101\n",
      "Peptide    RPQVPLRPM\n",
      "Binding   Non_binder\n",
      "MHC       HLA-B*8101\n",
      "Peptide    RPQVPMRPM\n",
      "Binding       Binder\n",
      "MHC       HLA-B*8101\n",
      "Peptide    RPQVPLRPM\n",
      "Binding   Non_binder\n",
      "MHC       HLA-B*8101\n",
      "Peptide    RPQMPLRPM\n",
      "Binding       Binder\n",
      "MHC       HLA-B*8101\n",
      "Peptide    RPQVPLRPM\n",
      "Binding   Non_binder\n",
      "MHC       HLA-B*8101\n",
      "Peptide    RPQVPIRPM\n",
      "\n",
      "[198 rows x 1 columns]\n"
     ]
    }
   ],
   "source": [
    "predictions = pd.DataFrame()\n",
    "warning = pd.DataFrame()\n",
    "warnings = 0\n",
    "warning_loc = []\n",
    "for i in range(len(wdf)):\n",
    "    try:\n",
    "        prediction = predict(alleles=wdf[\"MHC\"].iloc[i:i+1].reset_index(drop=True),\n",
    "                                   peptides=wdf[\"Peptide\"].iloc[i:i+1].reset_index(drop=True))\n",
    "        frame = [predictions, prediction]\n",
    "        predictions = pd.concat(frame)\n",
    "    except ValueError:\n",
    "        warnings += 1\n",
    "        frame = [warning, wdf.iloc[i]]\n",
    "        warning = pd.concat(frame)\n",
    "        warning_loc.append(i)\n",
    "if len(predictions):\n",
    "    print(\"Predictions made\")\n",
    "else:\n",
    "    print(\"Something went wrong\")\n",
    "print(\"Number of warnings is {}\".format(warnings))\n",
    "print(warning)"
   ]
  },
  {
   "cell_type": "code",
   "execution_count": 38,
   "metadata": {
    "collapsed": false
   },
   "outputs": [
    {
     "data": {
      "text/html": [
       "<div>\n",
       "<table border=\"1\" class=\"dataframe\">\n",
       "  <thead>\n",
       "    <tr style=\"text-align: right;\">\n",
       "      <th></th>\n",
       "      <th>Allele</th>\n",
       "      <th>Peptide</th>\n",
       "      <th>Prediction</th>\n",
       "    </tr>\n",
       "  </thead>\n",
       "  <tbody>\n",
       "    <tr>\n",
       "      <th>0</th>\n",
       "      <td>HLA-A0301</td>\n",
       "      <td>KIRLRPGGK</td>\n",
       "      <td>44.690437</td>\n",
       "    </tr>\n",
       "    <tr>\n",
       "      <th>0</th>\n",
       "      <td>HLA-A0301</td>\n",
       "      <td>KIRLRPGGR</td>\n",
       "      <td>542.003174</td>\n",
       "    </tr>\n",
       "    <tr>\n",
       "      <th>0</th>\n",
       "      <td>HLA-A0301</td>\n",
       "      <td>RLRPGGKKK</td>\n",
       "      <td>26.093128</td>\n",
       "    </tr>\n",
       "    <tr>\n",
       "      <th>0</th>\n",
       "      <td>HLA-A0301</td>\n",
       "      <td>RLRPGGKKQ</td>\n",
       "      <td>1990.704102</td>\n",
       "    </tr>\n",
       "    <tr>\n",
       "      <th>0</th>\n",
       "      <td>HLA-A0301</td>\n",
       "      <td>RLRPGGKKK</td>\n",
       "      <td>26.093128</td>\n",
       "    </tr>\n",
       "  </tbody>\n",
       "</table>\n",
       "</div>"
      ],
      "text/plain": [
       "      Allele    Peptide   Prediction\n",
       "0  HLA-A0301  KIRLRPGGK    44.690437\n",
       "0  HLA-A0301  KIRLRPGGR   542.003174\n",
       "0  HLA-A0301  RLRPGGKKK    26.093128\n",
       "0  HLA-A0301  RLRPGGKKQ  1990.704102\n",
       "0  HLA-A0301  RLRPGGKKK    26.093128"
      ]
     },
     "execution_count": 38,
     "metadata": {},
     "output_type": "execute_result"
    }
   ],
   "source": [
    "predictions.head(5)"
   ]
  },
  {
   "cell_type": "code",
   "execution_count": 39,
   "metadata": {
    "collapsed": true
   },
   "outputs": [],
   "source": [
    "def coding(col, codeDict):\n",
    "    colCoded = pd.Series(col, copy=True)\n",
    "    for key, value in codeDict.items():\n",
    "        colCoded.replace(key, value, inplace=True)\n",
    "    return colCoded"
   ]
  },
  {
   "cell_type": "code",
   "execution_count": 40,
   "metadata": {
    "collapsed": false
   },
   "outputs": [
    {
     "data": {
      "text/plain": [
       "1    584\n",
       "0    584\n",
       "Name: Binding, dtype: int64"
      ]
     },
     "execution_count": 40,
     "metadata": {},
     "output_type": "execute_result"
    }
   ],
   "source": [
    "true_values = coding(wdf[\"Binding\"], {\"Binder\":1, \"Non_binder\":0})\n",
    "true_values = pd.DataFrame(true_values)\n",
    "true_values.index = range(1,len(true_values) + 1)\n",
    "true_values.drop(true_values.index[warning_loc], inplace=True)\n",
    "true_values[\"Binding\"].value_counts()"
   ]
  },
  {
   "cell_type": "code",
   "execution_count": 41,
   "metadata": {
    "collapsed": false
   },
   "outputs": [
    {
     "data": {
      "text/plain": [
       "1    764\n",
       "0    404\n",
       "Name: Prediction, dtype: int64"
      ]
     },
     "execution_count": 41,
     "metadata": {},
     "output_type": "execute_result"
    }
   ],
   "source": [
    "predicted_values = predictions[\"Prediction\"]\n",
    "predicted_values.index = range(1,len(predicted_values) + 1)\n",
    "predicted_values.columns = [\"Prediction\"]\n",
    "predicted_values = pd.DataFrame(predicted_values)\n",
    "predicted_values[\"Prediction\"] = np.where(predicted_values[\"Prediction\"] <= 500, 1, 0)\n",
    "predicted_values[\"Prediction\"].value_counts()"
   ]
  },
  {
   "cell_type": "code",
   "execution_count": 42,
   "metadata": {
    "collapsed": false
   },
   "outputs": [
    {
     "data": {
      "text/plain": [
       "0.56849315068493156"
      ]
     },
     "execution_count": 42,
     "metadata": {},
     "output_type": "execute_result"
    }
   ],
   "source": [
    "accuracy_score(true_values, predicted_values)"
   ]
  },
  {
   "cell_type": "code",
   "execution_count": 43,
   "metadata": {
    "collapsed": false
   },
   "outputs": [
    {
     "data": {
      "text/plain": [
       "0.56849315068493145"
      ]
     },
     "execution_count": 43,
     "metadata": {},
     "output_type": "execute_result"
    }
   ],
   "source": [
    "roc_auc_score(true_values, predicted_values)"
   ]
  },
  {
   "cell_type": "code",
   "execution_count": 44,
   "metadata": {
    "collapsed": false
   },
   "outputs": [
    {
     "data": {
      "text/plain": [
       "array([[242, 342],\n",
       "       [162, 422]])"
      ]
     },
     "execution_count": 44,
     "metadata": {},
     "output_type": "execute_result"
    }
   ],
   "source": [
    "confusion_matrix(true_values, predicted_values, labels=[0,1])"
   ]
  },
  {
   "cell_type": "code",
   "execution_count": 57,
   "metadata": {
    "collapsed": false
   },
   "outputs": [
    {
     "name": "stdout",
     "output_type": "stream",
     "text": [
      " true negative   0.21 \n",
      " false positive  0.29 \n",
      " false negative  0.14 \n",
      " true positive   0.36\n"
     ]
    }
   ],
   "source": [
    "tn, fp, fn, tp = confusion_matrix(true_values, predicted_values, labels=[0,1]).ravel()\n",
    "ln = len(true_values)\n",
    "print(' true negative   {0:.2} \\n \\\n",
    "false positive  {1:.2} \\n \\\n",
    "false negative  {2:.2} \\n \\\n",
    "true positive   {3:.2}'.format(tn/ln, fp/ln, fn/ln, tp/ln))"
   ]
  }
 ],
 "metadata": {
  "anaconda-cloud": {},
  "kernelspec": {
   "display_name": "Python 2",
   "language": "python",
   "name": "python2"
  },
  "language_info": {
   "codemirror_mode": {
    "name": "ipython",
    "version": 2
   },
   "file_extension": ".py",
   "mimetype": "text/x-python",
   "name": "python",
   "nbconvert_exporter": "python",
   "pygments_lexer": "ipython2",
   "version": "2.7.13"
  }
 },
 "nbformat": 4,
 "nbformat_minor": 1
}
