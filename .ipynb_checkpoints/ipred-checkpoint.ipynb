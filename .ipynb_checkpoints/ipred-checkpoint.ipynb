{
 "cells": [
  {
   "cell_type": "code",
   "execution_count": 1,
   "metadata": {
    "collapsed": false
   },
   "outputs": [
    {
     "name": "stderr",
     "output_type": "stream",
     "text": [
      "Using TensorFlow backend.\n",
      "/home/vasily/anaconda2/lib/python2.7/site-packages/sklearn/cross_validation.py:44: DeprecationWarning: This module was deprecated in version 0.18 in favor of the model_selection module into which all the refactored classes and functions are moved. Also note that the interface of the new CV iterators are different from that of this module. This module will be removed in 0.20.\n",
      "  \"This module will be removed in 0.20.\", DeprecationWarning)\n",
      "WARNING:root:You will probably get deadlocks on Python earlier than 3.4 if you set n_jobs to anything other than 1.\n"
     ]
    }
   ],
   "source": [
    "%matplotlib inline\n",
    "import os\n",
    "import pandas as pd\n",
    "import numpy as np\n",
    "import matplotlib.pyplot as plt\n",
    "from mhcflurry import predict\n",
    "from sklearn.metrics import confusion_matrix, accuracy_score"
   ]
  },
  {
   "cell_type": "code",
   "execution_count": 2,
   "metadata": {
    "collapsed": false
   },
   "outputs": [
    {
     "name": "stdout",
     "output_type": "stream",
     "text": [
      "Reading immunogenic_peptides.txt\n"
     ]
    }
   ],
   "source": [
    "filepath = \"./data/immunogenic_peptides.txt\"\n",
    "if os.path.isfile(filepath):\n",
    "    df = pd.read_csv(filepath, sep=\"\\t\")\n",
    "    print(\"Reading {}\".format(os.path.basename(filepath)))\n",
    "else:\n",
    "    print(\"File path is wrong\")"
   ]
  },
  {
   "cell_type": "code",
   "execution_count": 3,
   "metadata": {
    "collapsed": false
   },
   "outputs": [
    {
     "data": {
      "text/html": [
       "<div>\n",
       "<table border=\"1\" class=\"dataframe\">\n",
       "  <thead>\n",
       "    <tr style=\"text-align: right;\">\n",
       "      <th></th>\n",
       "      <th>Peptide</th>\n",
       "      <th>MHC</th>\n",
       "      <th>Species</th>\n",
       "      <th>Immunogenicity</th>\n",
       "    </tr>\n",
       "  </thead>\n",
       "  <tbody>\n",
       "    <tr>\n",
       "      <th>0</th>\n",
       "      <td>AAFDRKSDAK</td>\n",
       "      <td>HLA-A1101</td>\n",
       "      <td>Homo</td>\n",
       "      <td>immunogenic</td>\n",
       "    </tr>\n",
       "    <tr>\n",
       "      <th>1</th>\n",
       "      <td>AAFEFINSL</td>\n",
       "      <td>H-2-Kb</td>\n",
       "      <td>Mus</td>\n",
       "      <td>immunogenic</td>\n",
       "    </tr>\n",
       "  </tbody>\n",
       "</table>\n",
       "</div>"
      ],
      "text/plain": [
       "      Peptide        MHC Species Immunogenicity\n",
       "0  AAFDRKSDAK  HLA-A1101    Homo    immunogenic\n",
       "1   AAFEFINSL     H-2-Kb     Mus    immunogenic"
      ]
     },
     "execution_count": 3,
     "metadata": {},
     "output_type": "execute_result"
    }
   ],
   "source": [
    "df.head(2)"
   ]
  },
  {
   "cell_type": "code",
   "execution_count": 4,
   "metadata": {
    "collapsed": false
   },
   "outputs": [
    {
     "data": {
      "text/plain": [
       "immunogenic        2167\n",
       "non-immunogenic     341\n",
       "Name: Immunogenicity, dtype: int64"
      ]
     },
     "execution_count": 4,
     "metadata": {},
     "output_type": "execute_result"
    }
   ],
   "source": [
    "df[\"Immunogenicity\"].value_counts()"
   ]
  },
  {
   "cell_type": "code",
   "execution_count": 5,
   "metadata": {
    "collapsed": false
   },
   "outputs": [
    {
     "name": "stderr",
     "output_type": "stream",
     "text": [
      "/home/vasily/anaconda2/lib/python2.7/site-packages/tensorflow/python/ops/gradients.py:90: UserWarning: Converting sparse IndexedSlices to a dense Tensor of unknown shape. This may consume a large amount of memory.\n",
      "  \"Converting sparse IndexedSlices to a dense Tensor of unknown shape. \"\n"
     ]
    },
    {
     "data": {
      "text/html": [
       "<div>\n",
       "<table border=\"1\" class=\"dataframe\">\n",
       "  <thead>\n",
       "    <tr style=\"text-align: right;\">\n",
       "      <th></th>\n",
       "      <th>Allele</th>\n",
       "      <th>Peptide</th>\n",
       "      <th>Prediction</th>\n",
       "    </tr>\n",
       "  </thead>\n",
       "  <tbody>\n",
       "    <tr>\n",
       "      <th>0</th>\n",
       "      <td>HLA-A1101</td>\n",
       "      <td>AAFDRKSDAK</td>\n",
       "      <td>367.609009</td>\n",
       "    </tr>\n",
       "    <tr>\n",
       "      <th>1</th>\n",
       "      <td>HLA-A1101</td>\n",
       "      <td>AAFEFINSL</td>\n",
       "      <td>6281.542969</td>\n",
       "    </tr>\n",
       "  </tbody>\n",
       "</table>\n",
       "</div>"
      ],
      "text/plain": [
       "      Allele     Peptide   Prediction\n",
       "0  HLA-A1101  AAFDRKSDAK   367.609009\n",
       "1  HLA-A1101   AAFEFINSL  6281.542969"
      ]
     },
     "execution_count": 5,
     "metadata": {},
     "output_type": "execute_result"
    }
   ],
   "source": [
    "predict(alleles=df[\"MHC\"].iloc[0:1], peptides=df[\"Peptide\"].iloc[0:10]).head(2)"
   ]
  },
  {
   "cell_type": "code",
   "execution_count": 8,
   "metadata": {
    "collapsed": false
   },
   "outputs": [
    {
     "name": "stdout",
     "output_type": "stream",
     "text": [
      "Predictions made\n",
      "Number of warnings is 1\n",
      "                          0\n",
      "Peptide           NIRQAGVQY\n",
      "MHC               HLA-B1502\n",
      "Species                Homo\n",
      "Immunogenicity  immunogenic\n"
     ]
    }
   ],
   "source": [
    "predictions = pd.DataFrame()\n",
    "warning = pd.DataFrame()\n",
    "warnings = 0\n",
    "warning_loc = []\n",
    "for i in range(len(df)):\n",
    "    try:\n",
    "        prediction = predict(alleles=df[\"MHC\"].iloc[i:i+1].reset_index(drop=True),\n",
    "                                   peptides=df[\"Peptide\"].iloc[i:i+1].reset_index(drop=True))\n",
    "        frame = [predictions, prediction]\n",
    "        predictions = pd.concat(frame)\n",
    "    except ValueError:\n",
    "        warnings += 1\n",
    "        frame = [warning, df.iloc[i]]\n",
    "        warning = pd.concat(frame)\n",
    "        warning_loc.append(i)\n",
    "if len(predictions):\n",
    "    print(\"Predictions made\")\n",
    "else:\n",
    "    print(\"Something went wrong\")\n",
    "print(\"Number of warnings is {}\".format(warnings))\n",
    "print(warning)"
   ]
  },
  {
   "cell_type": "code",
   "execution_count": 9,
   "metadata": {
    "collapsed": false
   },
   "outputs": [
    {
     "data": {
      "text/html": [
       "<div>\n",
       "<table border=\"1\" class=\"dataframe\">\n",
       "  <thead>\n",
       "    <tr style=\"text-align: right;\">\n",
       "      <th></th>\n",
       "      <th>Allele</th>\n",
       "      <th>Peptide</th>\n",
       "      <th>Prediction</th>\n",
       "    </tr>\n",
       "  </thead>\n",
       "  <tbody>\n",
       "    <tr>\n",
       "      <th>0</th>\n",
       "      <td>HLA-A1101</td>\n",
       "      <td>AAFDRKSDAK</td>\n",
       "      <td>367.609009</td>\n",
       "    </tr>\n",
       "    <tr>\n",
       "      <th>0</th>\n",
       "      <td>H-2-KB</td>\n",
       "      <td>AAFEFINSL</td>\n",
       "      <td>4.883403</td>\n",
       "    </tr>\n",
       "  </tbody>\n",
       "</table>\n",
       "</div>"
      ],
      "text/plain": [
       "      Allele     Peptide  Prediction\n",
       "0  HLA-A1101  AAFDRKSDAK  367.609009\n",
       "0     H-2-KB   AAFEFINSL    4.883403"
      ]
     },
     "execution_count": 9,
     "metadata": {},
     "output_type": "execute_result"
    }
   ],
   "source": [
    "predictions.head(2)"
   ]
  },
  {
   "cell_type": "code",
   "execution_count": 10,
   "metadata": {
    "collapsed": false
   },
   "outputs": [],
   "source": [
    "def coding(col, codeDict):\n",
    "    colCoded = pd.Series(col, copy=True)\n",
    "    for key, value in codeDict.items():\n",
    "        colCoded.replace(key, value, inplace=True)\n",
    "    return colCoded"
   ]
  },
  {
   "cell_type": "code",
   "execution_count": 11,
   "metadata": {
    "collapsed": false
   },
   "outputs": [
    {
     "data": {
      "text/plain": [
       "1    2166\n",
       "0     341\n",
       "Name: Immunogenicity, dtype: int64"
      ]
     },
     "execution_count": 11,
     "metadata": {},
     "output_type": "execute_result"
    }
   ],
   "source": [
    "true_values = coding(df[\"Immunogenicity\"], {\"immunogenic\":1, \"non-immunogenic\":0})\n",
    "true_values = pd.DataFrame(true_values)\n",
    "true_values.index = range(1,len(true_values) + 1)\n",
    "true_values.drop(true_values.index[warning_loc], inplace=True)\n",
    "true_values[\"Immunogenicity\"].value_counts()"
   ]
  },
  {
   "cell_type": "code",
   "execution_count": 12,
   "metadata": {
    "collapsed": false
   },
   "outputs": [
    {
     "data": {
      "text/plain": [
       "0    1.334695\n",
       "0    1.419618\n",
       "Name: Prediction, dtype: float64"
      ]
     },
     "execution_count": 12,
     "metadata": {},
     "output_type": "execute_result"
    }
   ],
   "source": [
    "sorted_predictions = predictions[\"Prediction\"].sort_values()\n",
    "sorted_predictions.head(2)"
   ]
  },
  {
   "cell_type": "code",
   "execution_count": 13,
   "metadata": {
    "collapsed": false
   },
   "outputs": [
    {
     "data": {
      "text/plain": [
       "<function matplotlib.pyplot.show>"
      ]
     },
     "execution_count": 13,
     "metadata": {},
     "output_type": "execute_result"
    },
    {
     "data": {
      "image/png": "[encoded data removed]",
      "text/plain": [
       "<matplotlib.figure.Figure at 0x7feab0355d10>"
      ]
     },
     "metadata": {},
     "output_type": "display_data"
    }
   ],
   "source": [
    "sorted_predictions.index = range(1,len(sorted_predictions) + 1)\n",
    "plt.figure()\n",
    "#plt.plot(sorted_predictions.index, sorted_predictions.values)\n",
    "plot = sorted_predictions.hist(bins=30)\n",
    "plot.set_xlim([0,5000])\n",
    "plt.show"
   ]
  },
  {
   "cell_type": "code",
   "execution_count": 14,
   "metadata": {
    "collapsed": false
   },
   "outputs": [
    {
     "data": {
      "text/plain": [
       "0    2218\n",
       "1     289\n",
       "Name: Prediction, dtype: int64"
      ]
     },
     "execution_count": 14,
     "metadata": {},
     "output_type": "execute_result"
    }
   ],
   "source": [
    "sorted_predictions.columns = [\"Prediction\"]\n",
    "sorted_predictions = pd.DataFrame(sorted_predictions)\n",
    "predicted_values = sorted_predictions\n",
    "predicted_values[\"Prediction\"] = np.where(predicted_values[\"Prediction\"] >= 500, 1, 0)\n",
    "predicted_values[\"Prediction\"].value_counts()"
   ]
  },
  {
   "cell_type": "code",
   "execution_count": 15,
   "metadata": {
    "collapsed": false
   },
   "outputs": [
    {
     "data": {
      "text/plain": [
       "0.22816114878340646"
      ]
     },
     "execution_count": 15,
     "metadata": {},
     "output_type": "execute_result"
    }
   ],
   "source": [
    "accuracy_score(true_values, predicted_values)"
   ]
  },
  {
   "cell_type": "code",
   "execution_count": 16,
   "metadata": {
    "collapsed": false
   },
   "outputs": [
    {
     "data": {
      "text/plain": [
       "array([[ 312,   29],\n",
       "       [1906,  260]])"
      ]
     },
     "execution_count": 16,
     "metadata": {},
     "output_type": "execute_result"
    }
   ],
   "source": [
    "confusion_matrix(true_values, predicted_values)"
   ]
  }
 ],
 "metadata": {
  "anaconda-cloud": {},
  "kernelspec": {
   "display_name": "Python [conda root]",
   "language": "python",
   "name": "conda-root-py"
  },
  "language_info": {
   "codemirror_mode": {
    "name": "ipython",
    "version": 2
   },
   "file_extension": ".py",
   "mimetype": "text/x-python",
   "name": "python",
   "nbconvert_exporter": "python",
   "pygments_lexer": "ipython2",
   "version": "2.7.12"
  }
 },
 "nbformat": 4,
 "nbformat_minor": 1
}
