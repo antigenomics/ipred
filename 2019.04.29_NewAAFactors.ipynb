{
 "cells": [
  {
   "cell_type": "code",
   "execution_count": 2,
   "metadata": {
    "collapsed": true
   },
   "outputs": [],
   "source": [
    "# Magics\n",
    "\n",
    "%reload_ext autoreload\n",
    "%autoreload 2\n",
    "%matplotlib inline"
   ]
  },
  {
   "cell_type": "code",
   "execution_count": 118,
   "metadata": {
    "collapsed": false
   },
   "outputs": [],
   "source": [
    "%matplotlib inline\n",
    "\n",
    "import os, sys, gc\n",
    "from tqdm import tqdm, tqdm_notebook, tqdm_pandas\n",
    "from tqdm import trange\n",
    "import time\n",
    "from scipy import stats\n",
    "from scipy.stats import shapiro\n",
    "\n",
    "import pandas as pd\n",
    "import numpy as np\n",
    "import networkx as nx\n",
    "import seaborn as sns\n",
    "import matplotlib.pyplot as plt\n",
    "\n",
    "from Bio import SeqIO\n",
    "from collections import Counter\n",
    "\n",
    "from multiprocessing import Pool, Process\n",
    "\n",
    "import itertools\n",
    "from modules.aa_properties import score_hydrophobicity_sequence, score_positions, score_sequence\n",
    "\n",
    "from sklearn.decomposition import PCA\n",
    "from sklearn.decomposition import PCA\n",
    "from sklearn.ensemble import RandomForestClassifier, GradientBoostingClassifier, ExtraTreesClassifier\n",
    "from sklearn.svm import SVC\n",
    "from sklearn.model_selection import train_test_split, cross_val_score, StratifiedKFold\n",
    "from sklearn.metrics import roc_curve, auc, classification_report\n",
    "from sklearn.model_selection import RandomizedSearchCV\n",
    "\n",
    "from joblib import dump, load\n",
    "\n",
    "import warnings\n",
    "warnings.filterwarnings('ignore')"
   ]
  },
  {
   "cell_type": "code",
   "execution_count": 5,
   "metadata": {
    "collapsed": true
   },
   "outputs": [],
   "source": [
    "aa =   ['A','C','D','E','F','G','H','I','K','L','M','N','P','Q','R','S','T','V','W','Y']\n",
    "ignore = [\"*\", \"U\", \"X\"]\n",
    "viruses = ['CMV_StrainAD169', 'YFV_Strain17D', 'HIV-1_StrainHXB2', 'HCV_StrainIsolateH', 'EBV_StrainAG876']\n",
    "bacteria = ['SHGLsonnei', 'SLMLenteritidis', 'MYPLpneumoniae', 'MYBTsmegmatis', 'SLMLtyphimurium', \n",
    "            'YERSpseudotuberculosis', 'YERSenterocolitica', 'CLMDtrachomatis', 'MYPLsynoviae', 'KLEBpneumoniae',\n",
    "            'CPBTjejuni', 'SHGLflexneri', 'CLOSdificile']\n",
    "kidera = [\"helix.bend.pref\", \"side.chain.size\",\n",
    "           \"extended.str.pref\", \"hydrophobicity\", \"double.bend.pref\", \"partial.spec.vol\",\n",
    "           \"flat.ext.pref\", \"occurrence.alpha.reg\", \"pK.C\", \"surrounding.hydrop\"]"
   ]
  },
  {
   "cell_type": "code",
   "execution_count": 8,
   "metadata": {
    "collapsed": true
   },
   "outputs": [],
   "source": [
    "fdict = {}\n",
    "for key in os.listdir(\"data/fasta/\"):\n",
    "    if key.startswith(\"UP0\"):\n",
    "        fdict[key] = \"Human\"\n",
    "    else:\n",
    "        fdict[key] = key.strip(\"strain.fasta\").strip(\"_\")\n",
    "        \n",
    "def aa_prot_count(args):\n",
    "    path, species = args\n",
    "    record_dict = SeqIO.index(\"data/fasta/\" + path, \"fasta\")\n",
    "    df = pd.DataFrame(columns=['species', 'protein']+aa)\n",
    "    aa_dict  = Counter()\n",
    "    for key in record_dict.keys():\n",
    "        aa_dict = aa_dict + Counter(record_dict[key].seq)\n",
    "        for amino in list(aa_dict):\n",
    "            if amino in ignore:\n",
    "                del aa_dict[amino]\n",
    "        df1 = pd.DataFrame.from_dict(aa_dict, orient='index').T\n",
    "        df1['species'] = species\n",
    "        df1['protein'] = key\n",
    "        df1['prot_len'] = sum(aa_dict.values())\n",
    "        df = pd.concat([df, df1])\n",
    "    return df\n",
    "    \n",
    "def aa_kidera(args):\n",
    "    path, species = args\n",
    "    record_dict = SeqIO.index(\"data/fasta/\" + path, \"fasta\")\n",
    "    df = pd.DataFrame(columns=['species', 'protein']+kidera)\n",
    "    for key in record_dict.keys():\n",
    "        d = score_sequence(record_dict[key].seq, norm=True)\n",
    "        df1 = pd.DataFrame(d).T\n",
    "        df1.columns = kidera\n",
    "        df1['species'] = species\n",
    "        df1['protein'] = key\n",
    "        df = pd.concat([df, df1])\n",
    "    return df\n",
    "\n",
    "def aa_hydrophobicity(args):\n",
    "    path, species = args\n",
    "    record_dict = SeqIO.index(\"data/fasta/\" + path, \"fasta\")\n",
    "    df = pd.DataFrame(columns=['species', 'protein', 'hydrophobicity'])\n",
    "    for key in record_dict.keys():\n",
    "        df1 = pd.DataFrame.from_dict({\n",
    "                'hydrophobicity': score_hydrophobicity_sequence(record_dict[key].seq, norm=True),\n",
    "                'species': species,\n",
    "                'protein': key\n",
    "            }, orient='index').T\n",
    "        df = pd.concat([df, df1])\n",
    "    return df"
   ]
  },
  {
   "cell_type": "code",
   "execution_count": 9,
   "metadata": {
    "collapsed": true
   },
   "outputs": [],
   "source": [
    "with Pool(processes=len(fdict)) as pool:\n",
    "    result = pool.map(aa_prot_count, fdict.items())\n",
    "\n",
    "pdf = pd.concat(result, axis=0)\n",
    "pdf = pdf.fillna(0)\n",
    "pdf = pdf.reset_index(drop=True)"
   ]
  },
  {
   "cell_type": "code",
   "execution_count": 10,
   "metadata": {
    "collapsed": false
   },
   "outputs": [
    {
     "data": {
      "text/html": [
       "<div>\n",
       "<style scoped>\n",
       "    .dataframe tbody tr th:only-of-type {\n",
       "        vertical-align: middle;\n",
       "    }\n",
       "\n",
       "    .dataframe tbody tr th {\n",
       "        vertical-align: top;\n",
       "    }\n",
       "\n",
       "    .dataframe thead th {\n",
       "        text-align: right;\n",
       "    }\n",
       "</style>\n",
       "<table border=\"1\" class=\"dataframe\">\n",
       "  <thead>\n",
       "    <tr style=\"text-align: right;\">\n",
       "      <th></th>\n",
       "      <th>A</th>\n",
       "      <th>C</th>\n",
       "      <th>D</th>\n",
       "      <th>E</th>\n",
       "      <th>F</th>\n",
       "      <th>G</th>\n",
       "      <th>H</th>\n",
       "      <th>I</th>\n",
       "      <th>K</th>\n",
       "      <th>L</th>\n",
       "      <th>...</th>\n",
       "      <th>Q</th>\n",
       "      <th>R</th>\n",
       "      <th>S</th>\n",
       "      <th>T</th>\n",
       "      <th>V</th>\n",
       "      <th>W</th>\n",
       "      <th>Y</th>\n",
       "      <th>prot_len</th>\n",
       "      <th>protein</th>\n",
       "      <th>species</th>\n",
       "    </tr>\n",
       "  </thead>\n",
       "  <tbody>\n",
       "    <tr>\n",
       "      <th>0</th>\n",
       "      <td>20</td>\n",
       "      <td>6</td>\n",
       "      <td>4</td>\n",
       "      <td>16</td>\n",
       "      <td>1</td>\n",
       "      <td>12</td>\n",
       "      <td>2</td>\n",
       "      <td>11</td>\n",
       "      <td>8</td>\n",
       "      <td>15</td>\n",
       "      <td>...</td>\n",
       "      <td>6</td>\n",
       "      <td>5</td>\n",
       "      <td>13</td>\n",
       "      <td>7</td>\n",
       "      <td>10</td>\n",
       "      <td>1</td>\n",
       "      <td>0</td>\n",
       "      <td>153.0</td>\n",
       "      <td>gm04530:IY64_RS10370</td>\n",
       "      <td>SLMLenteritidis</td>\n",
       "    </tr>\n",
       "    <tr>\n",
       "      <th>1</th>\n",
       "      <td>44</td>\n",
       "      <td>9</td>\n",
       "      <td>11</td>\n",
       "      <td>31</td>\n",
       "      <td>3</td>\n",
       "      <td>32</td>\n",
       "      <td>8</td>\n",
       "      <td>20</td>\n",
       "      <td>13</td>\n",
       "      <td>43</td>\n",
       "      <td>...</td>\n",
       "      <td>17</td>\n",
       "      <td>17</td>\n",
       "      <td>23</td>\n",
       "      <td>10</td>\n",
       "      <td>22</td>\n",
       "      <td>4</td>\n",
       "      <td>10</td>\n",
       "      <td>351.0</td>\n",
       "      <td>gm04530:IY64_RS06450</td>\n",
       "      <td>SLMLenteritidis</td>\n",
       "    </tr>\n",
       "    <tr>\n",
       "      <th>2</th>\n",
       "      <td>54</td>\n",
       "      <td>10</td>\n",
       "      <td>14</td>\n",
       "      <td>37</td>\n",
       "      <td>8</td>\n",
       "      <td>36</td>\n",
       "      <td>10</td>\n",
       "      <td>24</td>\n",
       "      <td>23</td>\n",
       "      <td>55</td>\n",
       "      <td>...</td>\n",
       "      <td>22</td>\n",
       "      <td>21</td>\n",
       "      <td>37</td>\n",
       "      <td>15</td>\n",
       "      <td>31</td>\n",
       "      <td>5</td>\n",
       "      <td>11</td>\n",
       "      <td>458.0</td>\n",
       "      <td>gm04530:IY64_RS18645</td>\n",
       "      <td>SLMLenteritidis</td>\n",
       "    </tr>\n",
       "    <tr>\n",
       "      <th>3</th>\n",
       "      <td>66</td>\n",
       "      <td>12</td>\n",
       "      <td>29</td>\n",
       "      <td>54</td>\n",
       "      <td>14</td>\n",
       "      <td>53</td>\n",
       "      <td>13</td>\n",
       "      <td>33</td>\n",
       "      <td>30</td>\n",
       "      <td>78</td>\n",
       "      <td>...</td>\n",
       "      <td>30</td>\n",
       "      <td>23</td>\n",
       "      <td>41</td>\n",
       "      <td>23</td>\n",
       "      <td>39</td>\n",
       "      <td>11</td>\n",
       "      <td>20</td>\n",
       "      <td>631.0</td>\n",
       "      <td>gm04530:IY64_RS14975</td>\n",
       "      <td>SLMLenteritidis</td>\n",
       "    </tr>\n",
       "    <tr>\n",
       "      <th>4</th>\n",
       "      <td>161</td>\n",
       "      <td>31</td>\n",
       "      <td>72</td>\n",
       "      <td>115</td>\n",
       "      <td>43</td>\n",
       "      <td>99</td>\n",
       "      <td>35</td>\n",
       "      <td>84</td>\n",
       "      <td>53</td>\n",
       "      <td>179</td>\n",
       "      <td>...</td>\n",
       "      <td>75</td>\n",
       "      <td>77</td>\n",
       "      <td>98</td>\n",
       "      <td>60</td>\n",
       "      <td>80</td>\n",
       "      <td>20</td>\n",
       "      <td>35</td>\n",
       "      <td>1464.0</td>\n",
       "      <td>gm04530:IY64_RS20270</td>\n",
       "      <td>SLMLenteritidis</td>\n",
       "    </tr>\n",
       "  </tbody>\n",
       "</table>\n",
       "<p>5 rows × 23 columns</p>\n",
       "</div>"
      ],
      "text/plain": [
       "     A   C   D    E   F   G   H   I   K    L       ...          Q   R   S   T  \\\n",
       "0   20   6   4   16   1  12   2  11   8   15       ...          6   5  13   7   \n",
       "1   44   9  11   31   3  32   8  20  13   43       ...         17  17  23  10   \n",
       "2   54  10  14   37   8  36  10  24  23   55       ...         22  21  37  15   \n",
       "3   66  12  29   54  14  53  13  33  30   78       ...         30  23  41  23   \n",
       "4  161  31  72  115  43  99  35  84  53  179       ...         75  77  98  60   \n",
       "\n",
       "    V   W   Y  prot_len               protein          species  \n",
       "0  10   1   0     153.0  gm04530:IY64_RS10370  SLMLenteritidis  \n",
       "1  22   4  10     351.0  gm04530:IY64_RS06450  SLMLenteritidis  \n",
       "2  31   5  11     458.0  gm04530:IY64_RS18645  SLMLenteritidis  \n",
       "3  39  11  20     631.0  gm04530:IY64_RS14975  SLMLenteritidis  \n",
       "4  80  20  35    1464.0  gm04530:IY64_RS20270  SLMLenteritidis  \n",
       "\n",
       "[5 rows x 23 columns]"
      ]
     },
     "execution_count": 10,
     "metadata": {},
     "output_type": "execute_result"
    }
   ],
   "source": [
    "pdf.head()"
   ]
  },
  {
   "cell_type": "code",
   "execution_count": 11,
   "metadata": {
    "collapsed": false
   },
   "outputs": [
    {
     "data": {
      "text/plain": [
       "((70067, 23), (70067, 23))"
      ]
     },
     "execution_count": 11,
     "metadata": {},
     "output_type": "execute_result"
    }
   ],
   "source": [
    "pdf.shape, pdf.drop_duplicates(subset=aa).shape"
   ]
  },
  {
   "cell_type": "code",
   "execution_count": 18,
   "metadata": {
    "collapsed": false
   },
   "outputs": [],
   "source": [
    "def count_aa_freq(row):\n",
    "    return row[aa] / row['prot_len']\n",
    "df = pdf.apply(lambda row: count_aa_freq(row), axis=1)"
   ]
  },
  {
   "cell_type": "code",
   "execution_count": 19,
   "metadata": {
    "collapsed": true
   },
   "outputs": [],
   "source": [
    "df[['protein', 'species']] = pdf[['protein', 'species']]"
   ]
  },
  {
   "cell_type": "code",
   "execution_count": 24,
   "metadata": {
    "collapsed": false
   },
   "outputs": [],
   "source": [
    "def group_name(name):\n",
    "    if name in viruses:\n",
    "        return 'virus'\n",
    "    elif name in bacteria:\n",
    "        return 'bacterium'\n",
    "    elif name in 'Human':\n",
    "        return 'human'\n",
    "\n",
    "def cast_pca(df, n_comp, subset=aa):\n",
    "    pca = PCA(n_components=n_comp)\n",
    "\n",
    "    pctd = pca.fit_transform(df[subset])\n",
    "    pcdf = pd.DataFrame(data = pctd, columns = ['pc' + str(i) for i in range(1,n_comp+1)])\n",
    "    pcdf['species'] = df.species\n",
    "\n",
    "    pcdf.species = pcdf.species.apply(lambda x: group_name(x))\n",
    "    return pcdf, pca"
   ]
  },
  {
   "cell_type": "code",
   "execution_count": 53,
   "metadata": {
    "collapsed": false
   },
   "outputs": [],
   "source": [
    "pcdf, pca = cast_pca(df, 10)"
   ]
  },
  {
   "cell_type": "code",
   "execution_count": 54,
   "metadata": {
    "collapsed": false
   },
   "outputs": [
    {
     "data": {
      "image/png": "[encoded data removed]",
      "text/plain": [
       "<matplotlib.figure.Figure at 0x7f135e25b278>"
      ]
     },
     "metadata": {},
     "output_type": "display_data"
    }
   ],
   "source": [
    "fig, ax = plt.subplots()\n",
    "evr = pca.explained_variance_ratio_\n",
    "plt.plot([i for i in range(1, len(evr)+1)], np.cumsum(evr), 'ro')\n",
    "# padding = 1 + 0.1 *  len(evr)\n",
    "# ax.set_xlim(1 - padding, len(evr) + padding)\n",
    "ax.set_ylim(0, 1.05);"
   ]
  },
  {
   "cell_type": "code",
   "execution_count": 60,
   "metadata": {
    "collapsed": false
   },
   "outputs": [
    {
     "data": {
      "text/plain": [
       "(5, 20)"
      ]
     },
     "execution_count": 60,
     "metadata": {},
     "output_type": "execute_result"
    }
   ],
   "source": [
    "NewAAFactors = pca.components_[:5]\n",
    "NewAAFactors.shape"
   ]
  },
  {
   "cell_type": "code",
   "execution_count": 58,
   "metadata": {
    "collapsed": false
   },
   "outputs": [
    {
     "data": {
      "image/png": "[encoded data removed]",
      "text/plain": [
       "<matplotlib.figure.Figure at 0x7f13737439e8>"
      ]
     },
     "metadata": {},
     "output_type": "display_data"
    }
   ],
   "source": [
    "def plot_pca(pcdf):\n",
    "    fig = plt.figure(figsize = (6,6))\n",
    "    ax = fig.add_subplot(1,1,1) \n",
    "    ax.set_xlabel('PC1', fontsize = 15)\n",
    "    ax.set_ylabel('PC2', fontsize = 15)\n",
    "    ax.set_title('PCA', fontsize = 20)\n",
    "\n",
    "    targets = pcdf.species.unique()\n",
    "    colours = ['r', 'g', 'b']\n",
    "    for target, colour in zip(targets,colours):\n",
    "        indicesToKeep = pcdf['species'] == target\n",
    "        ax.scatter(pcdf.loc[indicesToKeep, 'pc1']\n",
    "                   , pcdf.loc[indicesToKeep, 'pc2']\n",
    "                   , c = colour\n",
    "                   , s = 50)\n",
    "    ax.legend(targets)\n",
    "    ax.grid()\n",
    "    \n",
    "plot_pca(pcdf)"
   ]
  },
  {
   "cell_type": "markdown",
   "metadata": {
    "collapsed": true
   },
   "source": [
    "## Train Classifier"
   ]
  },
  {
   "cell_type": "code",
   "execution_count": 64,
   "metadata": {
    "collapsed": false
   },
   "outputs": [
    {
     "data": {
      "text/plain": [
       "(65660, 22)"
      ]
     },
     "execution_count": 64,
     "metadata": {},
     "output_type": "execute_result"
    }
   ],
   "source": [
    "fdf = df[~df['species'].isin(['SLMLenteritidis', 'EBV_StrainAG876'])]\n",
    "fdf.shape"
   ]
  },
  {
   "cell_type": "code",
   "execution_count": 68,
   "metadata": {
    "collapsed": false
   },
   "outputs": [
    {
     "data": {
      "text/html": [
       "<div>\n",
       "<style scoped>\n",
       "    .dataframe tbody tr th:only-of-type {\n",
       "        vertical-align: middle;\n",
       "    }\n",
       "\n",
       "    .dataframe tbody tr th {\n",
       "        vertical-align: top;\n",
       "    }\n",
       "\n",
       "    .dataframe thead th {\n",
       "        text-align: right;\n",
       "    }\n",
       "</style>\n",
       "<table border=\"1\" class=\"dataframe\">\n",
       "  <thead>\n",
       "    <tr style=\"text-align: right;\">\n",
       "      <th></th>\n",
       "      <th>species</th>\n",
       "      <th>protein</th>\n",
       "    </tr>\n",
       "  </thead>\n",
       "  <tbody>\n",
       "    <tr>\n",
       "      <th>4407</th>\n",
       "      <td>0</td>\n",
       "      <td>msm:MSMEG_0180</td>\n",
       "    </tr>\n",
       "    <tr>\n",
       "      <th>4408</th>\n",
       "      <td>0</td>\n",
       "      <td>msm:MSMEG_2694</td>\n",
       "    </tr>\n",
       "    <tr>\n",
       "      <th>4409</th>\n",
       "      <td>0</td>\n",
       "      <td>msm:MSMEG_0408</td>\n",
       "    </tr>\n",
       "    <tr>\n",
       "      <th>4410</th>\n",
       "      <td>0</td>\n",
       "      <td>msm:MSMEG_2844</td>\n",
       "    </tr>\n",
       "    <tr>\n",
       "      <th>4411</th>\n",
       "      <td>0</td>\n",
       "      <td>msm:MSMEG_6011</td>\n",
       "    </tr>\n",
       "  </tbody>\n",
       "</table>\n",
       "</div>"
      ],
      "text/plain": [
       "      species         protein\n",
       "4407        0  msm:MSMEG_0180\n",
       "4408        0  msm:MSMEG_2694\n",
       "4409        0  msm:MSMEG_0408\n",
       "4410        0  msm:MSMEG_2844\n",
       "4411        0  msm:MSMEG_6011"
      ]
     },
     "execution_count": 68,
     "metadata": {},
     "output_type": "execute_result"
    }
   ],
   "source": [
    "fdf.species = fdf.species.apply(lambda x: group_name(x))\n",
    "di = {'virus': 0, 'bacterium': 0, 'human': 1}\n",
    "fdf.replace({'species': di}, inplace=True)\n",
    "fdf[['species', 'protein']].head()"
   ]
  },
  {
   "cell_type": "code",
   "execution_count": 70,
   "metadata": {
    "collapsed": false
   },
   "outputs": [
    {
     "data": {
      "text/plain": [
       "0.99701493566515853"
      ]
     },
     "execution_count": 70,
     "metadata": {},
     "output_type": "execute_result"
    }
   ],
   "source": [
    "clf = SVC()\n",
    "\n",
    "X_train, X_test, y_train, y_test = train_test_split(pca.transform(fdf[aa]), \n",
    "                                                    fdf['species'].values, \n",
    "                                                    test_size=.25)\n",
    "\n",
    "scores = cross_val_score(clf, X=X_train, y=y_train, cv=5)\n",
    "np.mean(scores)"
   ]
  },
  {
   "cell_type": "code",
   "execution_count": 72,
   "metadata": {
    "collapsed": false
   },
   "outputs": [
    {
     "data": {
      "text/plain": [
       "SVC(C=1.0, cache_size=200, class_weight=None, coef0=0.0,\n",
       "  decision_function_shape='ovr', degree=3, gamma='auto', kernel='rbf',\n",
       "  max_iter=-1, probability=False, random_state=None, shrinking=True,\n",
       "  tol=0.001, verbose=False)"
      ]
     },
     "execution_count": 72,
     "metadata": {},
     "output_type": "execute_result"
    }
   ],
   "source": [
    "clf.fit(X=X_train, y=y_train)"
   ]
  },
  {
   "cell_type": "code",
   "execution_count": 74,
   "metadata": {
    "collapsed": true
   },
   "outputs": [],
   "source": [
    "test_df = df[df['species'].isin(['SLMLenteritidis', 'EBV_StrainAG876', 'Human'])]\n",
    "test_df['species'] = test_df.species.apply(lambda x: group_name(x))\n",
    "test_df.replace({'species': di}, inplace=True)\n",
    "X_ultratest = pca.transform(test_df[aa])\n",
    "y_ultratest = test_df.species"
   ]
  },
  {
   "cell_type": "code",
   "execution_count": 81,
   "metadata": {
    "collapsed": false
   },
   "outputs": [
    {
     "name": "stdout",
     "output_type": "stream",
     "text": [
      "             precision    recall  f1-score   support\n",
      "\n",
      "          0       1.00      0.99      1.00     11081\n",
      "          1       0.99      1.00      0.99      5334\n",
      "\n",
      "avg / total       1.00      1.00      1.00     16415\n",
      "\n"
     ]
    }
   ],
   "source": [
    "print(classification_report(y_test, clf.predict(X_test), labels=[0, 1]))"
   ]
  },
  {
   "cell_type": "code",
   "execution_count": 82,
   "metadata": {
    "collapsed": false
   },
   "outputs": [
    {
     "name": "stdout",
     "output_type": "stream",
     "text": [
      "             precision    recall  f1-score   support\n",
      "\n",
      "          0       1.00      0.98      0.99      4407\n",
      "          1       1.00      1.00      1.00     21033\n",
      "\n",
      "avg / total       1.00      1.00      1.00     25440\n",
      "\n"
     ]
    }
   ],
   "source": [
    "print(classification_report(y_ultratest, clf.predict(X_ultratest), labels=[0, 1]))"
   ]
  },
  {
   "cell_type": "code",
   "execution_count": null,
   "metadata": {
    "collapsed": true
   },
   "outputs": [],
   "source": []
  },
  {
   "cell_type": "code",
   "execution_count": null,
   "metadata": {
    "collapsed": true
   },
   "outputs": [],
   "source": []
  },
  {
   "cell_type": "code",
   "execution_count": null,
   "metadata": {
    "collapsed": true
   },
   "outputs": [],
   "source": []
  },
  {
   "cell_type": "code",
   "execution_count": null,
   "metadata": {
    "collapsed": true
   },
   "outputs": [],
   "source": []
  },
  {
   "cell_type": "code",
   "execution_count": null,
   "metadata": {
    "collapsed": true
   },
   "outputs": [],
   "source": []
  },
  {
   "cell_type": "code",
   "execution_count": null,
   "metadata": {
    "collapsed": true
   },
   "outputs": [],
   "source": []
  },
  {
   "cell_type": "code",
   "execution_count": null,
   "metadata": {
    "collapsed": true
   },
   "outputs": [],
   "source": []
  },
  {
   "cell_type": "code",
   "execution_count": null,
   "metadata": {
    "collapsed": true
   },
   "outputs": [],
   "source": []
  },
  {
   "cell_type": "markdown",
   "metadata": {},
   "source": [
    "## Let's take a look at immunogenic peptides"
   ]
  },
  {
   "cell_type": "code",
   "execution_count": 85,
   "metadata": {
    "collapsed": false
   },
   "outputs": [
    {
     "data": {
      "text/html": [
       "<div>\n",
       "<style scoped>\n",
       "    .dataframe tbody tr th:only-of-type {\n",
       "        vertical-align: middle;\n",
       "    }\n",
       "\n",
       "    .dataframe tbody tr th {\n",
       "        vertical-align: top;\n",
       "    }\n",
       "\n",
       "    .dataframe thead th {\n",
       "        text-align: right;\n",
       "    }\n",
       "</style>\n",
       "<table border=\"1\" class=\"dataframe\">\n",
       "  <thead>\n",
       "    <tr style=\"text-align: right;\">\n",
       "      <th></th>\n",
       "      <th>peptide</th>\n",
       "      <th>Immunogenicity</th>\n",
       "    </tr>\n",
       "  </thead>\n",
       "  <tbody>\n",
       "    <tr>\n",
       "      <th>0</th>\n",
       "      <td>KLEDLERDL</td>\n",
       "      <td>Positive</td>\n",
       "    </tr>\n",
       "    <tr>\n",
       "      <th>1</th>\n",
       "      <td>DLMGYIPLV</td>\n",
       "      <td>Positive</td>\n",
       "    </tr>\n",
       "    <tr>\n",
       "      <th>2</th>\n",
       "      <td>QTVTSTPVQGR</td>\n",
       "      <td>Positive</td>\n",
       "    </tr>\n",
       "    <tr>\n",
       "      <th>3</th>\n",
       "      <td>TTVYPPSSTAK</td>\n",
       "      <td>Positive</td>\n",
       "    </tr>\n",
       "    <tr>\n",
       "      <th>4</th>\n",
       "      <td>LITGRLQSL</td>\n",
       "      <td>Positive</td>\n",
       "    </tr>\n",
       "  </tbody>\n",
       "</table>\n",
       "</div>"
      ],
      "text/plain": [
       "       peptide Immunogenicity\n",
       "0    KLEDLERDL       Positive\n",
       "1    DLMGYIPLV       Positive\n",
       "2  QTVTSTPVQGR       Positive\n",
       "3  TTVYPPSSTAK       Positive\n",
       "4    LITGRLQSL       Positive"
      ]
     },
     "execution_count": 85,
     "metadata": {},
     "output_type": "execute_result"
    }
   ],
   "source": [
    "cdf = pd.read_csv('data/chowell.csv')\n",
    "cdf = cdf[['peptide', 'Immunogenicity']]\n",
    "cdf.head()"
   ]
  },
  {
   "cell_type": "code",
   "execution_count": 88,
   "metadata": {
    "collapsed": false
   },
   "outputs": [],
   "source": [
    "cdf.Immunogenicity = cdf.Immunogenicity.map({'Positive':1,'Negative':0})"
   ]
  },
  {
   "cell_type": "code",
   "execution_count": 101,
   "metadata": {
    "collapsed": false
   },
   "outputs": [
    {
     "data": {
      "text/plain": [
       "(20, 5)"
      ]
     },
     "execution_count": 101,
     "metadata": {},
     "output_type": "execute_result"
    }
   ],
   "source": [
    "factors = pd.DataFrame(NewAAFactors, columns=aa).T\n",
    "factors.shape"
   ]
  },
  {
   "cell_type": "code",
   "execution_count": 127,
   "metadata": {
    "collapsed": false
   },
   "outputs": [
    {
     "data": {
      "text/html": [
       "<div>\n",
       "<style scoped>\n",
       "    .dataframe tbody tr th:only-of-type {\n",
       "        vertical-align: middle;\n",
       "    }\n",
       "\n",
       "    .dataframe tbody tr th {\n",
       "        vertical-align: top;\n",
       "    }\n",
       "\n",
       "    .dataframe thead th {\n",
       "        text-align: right;\n",
       "    }\n",
       "</style>\n",
       "<table border=\"1\" class=\"dataframe\">\n",
       "  <thead>\n",
       "    <tr style=\"text-align: right;\">\n",
       "      <th></th>\n",
       "      <th>peptide</th>\n",
       "      <th>Immunogenicity</th>\n",
       "      <th>0</th>\n",
       "      <th>1</th>\n",
       "      <th>2</th>\n",
       "      <th>3</th>\n",
       "      <th>4</th>\n",
       "    </tr>\n",
       "  </thead>\n",
       "  <tbody>\n",
       "    <tr>\n",
       "      <th>0</th>\n",
       "      <td>KLEDLERDL</td>\n",
       "      <td>1</td>\n",
       "      <td>0.302710</td>\n",
       "      <td>-0.010554</td>\n",
       "      <td>0.072489</td>\n",
       "      <td>-0.338256</td>\n",
       "      <td>-1.510023</td>\n",
       "    </tr>\n",
       "    <tr>\n",
       "      <th>1</th>\n",
       "      <td>DLMGYIPLV</td>\n",
       "      <td>1</td>\n",
       "      <td>-0.346726</td>\n",
       "      <td>-0.708114</td>\n",
       "      <td>0.228596</td>\n",
       "      <td>0.875736</td>\n",
       "      <td>-0.418829</td>\n",
       "    </tr>\n",
       "    <tr>\n",
       "      <th>2</th>\n",
       "      <td>QTVTSTPVQGR</td>\n",
       "      <td>1</td>\n",
       "      <td>-1.013570</td>\n",
       "      <td>1.100734</td>\n",
       "      <td>-0.062157</td>\n",
       "      <td>-0.101876</td>\n",
       "      <td>2.641738</td>\n",
       "    </tr>\n",
       "    <tr>\n",
       "      <th>3</th>\n",
       "      <td>TTVYPPSSTAK</td>\n",
       "      <td>1</td>\n",
       "      <td>-0.187924</td>\n",
       "      <td>1.229382</td>\n",
       "      <td>-1.238565</td>\n",
       "      <td>-1.160793</td>\n",
       "      <td>1.378532</td>\n",
       "    </tr>\n",
       "    <tr>\n",
       "      <th>4</th>\n",
       "      <td>LITGRLQSL</td>\n",
       "      <td>1</td>\n",
       "      <td>-0.254391</td>\n",
       "      <td>0.031282</td>\n",
       "      <td>1.607386</td>\n",
       "      <td>0.461774</td>\n",
       "      <td>-0.485400</td>\n",
       "    </tr>\n",
       "  </tbody>\n",
       "</table>\n",
       "</div>"
      ],
      "text/plain": [
       "       peptide  Immunogenicity         0         1         2         3  \\\n",
       "0    KLEDLERDL               1  0.302710 -0.010554  0.072489 -0.338256   \n",
       "1    DLMGYIPLV               1 -0.346726 -0.708114  0.228596  0.875736   \n",
       "2  QTVTSTPVQGR               1 -1.013570  1.100734 -0.062157 -0.101876   \n",
       "3  TTVYPPSSTAK               1 -0.187924  1.229382 -1.238565 -1.160793   \n",
       "4    LITGRLQSL               1 -0.254391  0.031282  1.607386  0.461774   \n",
       "\n",
       "          4  \n",
       "0 -1.510023  \n",
       "1 -0.418829  \n",
       "2  2.641738  \n",
       "3  1.378532  \n",
       "4 -0.485400  "
      ]
     },
     "execution_count": 127,
     "metadata": {},
     "output_type": "execute_result"
    }
   ],
   "source": [
    "def score_factors(sequence, norm=False):\n",
    "    if norm:\n",
    "        return factors.loc[list(sequence)].sum() / len(sequence)\n",
    "    else:\n",
    "        return factors.loc[list(sequence)].sum()\n",
    "    \n",
    "ndf = pd.concat([cdf, cdf.peptide.apply(lambda s: score_factors(s))], axis=1)\n",
    "ndf.head()"
   ]
  },
  {
   "cell_type": "code",
   "execution_count": 128,
   "metadata": {
    "collapsed": false
   },
   "outputs": [
    {
     "data": {
      "text/plain": [
       "0.60814681842487206"
      ]
     },
     "execution_count": 128,
     "metadata": {},
     "output_type": "execute_result"
    }
   ],
   "source": [
    "fts = ['ft1', 'ft2', 'ft3', 'ft4', 'ft5']\n",
    "ndf.columns = ['peptide', 'immunogenicity'] + fts\n",
    "\n",
    "X_train, X_test, y_train, y_test = train_test_split(ndf[fts].values, ndf.immunogenicity, test_size=.25)\n",
    "clf = RandomForestClassifier(n_estimators=400)\n",
    "\n",
    "scores = cross_val_score(clf, X=X_train, y=y_train, cv=5)\n",
    "np.mean(scores)"
   ]
  },
  {
   "cell_type": "code",
   "execution_count": 129,
   "metadata": {
    "collapsed": false
   },
   "outputs": [
    {
     "data": {
      "text/plain": [
       "array([ 0.61657682,  0.59501348,  0.60444744,  0.61605938,  0.60863698])"
      ]
     },
     "execution_count": 129,
     "metadata": {},
     "output_type": "execute_result"
    }
   ],
   "source": [
    "scores"
   ]
  },
  {
   "cell_type": "code",
   "execution_count": 130,
   "metadata": {
    "collapsed": false
   },
   "outputs": [],
   "source": [
    "n_estimators = [int(x) for x in np.linspace(start = 200, stop = 2000, num = 10)]\n",
    "max_depth = [int(x) for x in np.linspace(10, 110, num = 11)]\n",
    "min_samples_split = [2, 5, 10]\n",
    "min_samples_leaf = [1, 2, 4]\n",
    "bootstrap = [True, False]\n",
    "\n",
    "random_grid = {'n_estimators': n_estimators,\n",
    "               'max_depth': max_depth,\n",
    "               'min_samples_split': min_samples_split,\n",
    "               'min_samples_leaf': min_samples_leaf,\n",
    "               'bootstrap': bootstrap}\n",
    "\n",
    "rf_random = RandomizedSearchCV(estimator = clf, \n",
    "                               param_distributions = random_grid, \n",
    "                               n_iter = 100, cv = 5, verbose=0, random_state=42, n_jobs = -1)"
   ]
  },
  {
   "cell_type": "code",
   "execution_count": 131,
   "metadata": {
    "collapsed": false
   },
   "outputs": [],
   "source": [
    "rf_random.fit(X_train, y_train);"
   ]
  },
  {
   "cell_type": "code",
   "execution_count": 132,
   "metadata": {
    "collapsed": false
   },
   "outputs": [
    {
     "data": {
      "text/plain": [
       "0.62028047464940672"
      ]
     },
     "execution_count": 132,
     "metadata": {},
     "output_type": "execute_result"
    }
   ],
   "source": [
    "rf_random.best_score_"
   ]
  }
 ],
 "metadata": {
  "anaconda-cloud": {},
  "kernelspec": {
   "display_name": "Python [conda root]",
   "language": "python",
   "name": "conda-root-py"
  },
  "language_info": {
   "codemirror_mode": {
    "name": "ipython",
    "version": 3
   },
   "file_extension": ".py",
   "mimetype": "text/x-python",
   "name": "python",
   "nbconvert_exporter": "python",
   "pygments_lexer": "ipython3",
   "version": "3.5.4"
  }
 },
 "nbformat": 4,
 "nbformat_minor": 1
}
