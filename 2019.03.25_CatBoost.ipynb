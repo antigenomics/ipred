{
 "cells": [
  {
   "cell_type": "code",
   "execution_count": 1,
   "metadata": {
    "collapsed": true
   },
   "outputs": [],
   "source": [
    "%matplotlib inline\n",
    "\n",
    "import os, sys, gc\n",
    "from tqdm import tqdm, tqdm_notebook, tqdm_pandas\n",
    "from tqdm import trange\n",
    "import time\n",
    "from scipy import stats\n",
    "from scipy.stats import shapiro\n",
    "\n",
    "import pandas as pd\n",
    "import numpy as np\n",
    "import networkx as nx\n",
    "import seaborn as sns\n",
    "import matplotlib.pyplot as plt\n",
    "\n",
    "from multiprocessing import Pool, Process\n",
    "\n",
    "import itertools\n",
    "from modules.kidera import score_positions, score_sequence\n",
    "\n",
    "from catboost import CatBoostClassifier\n",
    "\n",
    "from sklearn.model_selection import train_test_split, cross_val_score, StratifiedKFold\n",
    "from sklearn.metrics import roc_curve, auc, roc_auc_score, classification_report\n",
    "from sklearn.model_selection import RandomizedSearchCV, StratifiedShuffleSplit\n",
    "\n",
    "from joblib import dump, load\n",
    "\n",
    "import warnings\n",
    "warnings.filterwarnings('ignore')"
   ]
  },
  {
   "cell_type": "code",
   "execution_count": 2,
   "metadata": {
    "collapsed": true
   },
   "outputs": [],
   "source": [
    "path = 'data/dataset.csv'\n",
    "destination = ''\n",
    "num_cores = 40\n",
    "num_partitions = 120\n",
    "features = [\"helix.bend.pref\", \"side.chain.size\",\\\n",
    "        \"extended.str.pref\", \"hydrophobicity\", \"double.bend.pref\", \"partial.spec.vol\",\\\n",
    "        \"flat.ext.pref\", \"occurrence.alpha.reg\", \"pK.C\", \"surrounding.hydrop\"]\n",
    "\n",
    "def parallelize_dataframe(df, func):\n",
    "    df_split = np.array_split(df, num_partitions)\n",
    "    with Pool(num_cores) as pool:\n",
    "        df = pd.concat(pool.map(func, df_split))\n",
    "    return df\n",
    "\n",
    "def score_kidera(df_split):\n",
    "    return df_split.apply(lambda s: score_sequence(s))\n",
    "\n",
    "\"\"\"\n",
    "inds = np.permutation(15000000)\n",
    "inds записываешь в файл\n",
    "итерация один\n",
    "df = pd.read_csv()\n",
    "df = df.loc[inds[:10**6],].reset_index(drop=True)\n",
    "итерация два\n",
    "df = pd.read_csv()\n",
    "df = df.loc[inds[1*10**6:2*10**6],].reset_index(drop=True)\n",
    "\"\"\"\n",
    "\n",
    "def load_data(path):\n",
    "    idf1 = pd.read_csv(path)\n",
    "    idf1 = idf1[['Epitope', 'Immunogenicity']]\n",
    "    np.random.seed(42)\n",
    "    high = 15000000\n",
    "    size = 1000000\n",
    "    low = 30000\n",
    "    rand = np.random.randint(low=low, high=high, size=size)\n",
    "    pos = np.array([i for i in range(low)])\n",
    "    inds = np.concatenate((pos, rand))\n",
    "    idf1 = idf1.iloc[inds].reset_index(drop=True)\n",
    "    idf2 = parallelize_dataframe(idf1.Epitope, score_kidera)\n",
    "#     idf2 = idf1.Epitope.apply(lambda s: score_sequence(s))\n",
    "    idf = pd.concat([idf1, idf2], axis=1)\n",
    "\n",
    "    idf.columns = ['Epitope', 'Immunogenicity'] + features\n",
    "    idf.Immunogenicity = idf.Immunogenicity.map({'immunogenic': 1, 'non-immunogenic': 0,\n",
    "                                             'Positive': 1, 'Negative': 0})\n",
    "    return idf"
   ]
  },
  {
   "cell_type": "code",
   "execution_count": 3,
   "metadata": {
    "collapsed": true
   },
   "outputs": [],
   "source": [
    "idf = load_data(path)"
   ]
  },
  {
   "cell_type": "code",
   "execution_count": 4,
   "metadata": {
    "collapsed": true
   },
   "outputs": [],
   "source": [
    "pos_ind = idf[idf['Immunogenicity']==1].index\n",
    "neg_ind = idf[idf['Immunogenicity']==0].index\n",
    "pos_ind.shape, neg_ind.shape\n",
    "def bootstrap_data():\n",
    "    training_ind = np.append(pos_ind[5000:], np.random.choice(neg_ind, 16586))\n",
    "    data = idf[features].values[training_ind]\n",
    "    target = idf['Immunogenicity'].values[training_ind]\n",
    "    return data, target\n",
    "X_train, y_train = bootstrap_data()"
   ]
  },
  {
   "cell_type": "code",
   "execution_count": 5,
   "metadata": {
    "collapsed": true
   },
   "outputs": [],
   "source": [
    "def make_test_data():\n",
    "    training_ind = np.append(pos_ind[:5000], np.random.choice(neg_ind, 5000))\n",
    "    data = idf[features].values[training_ind]\n",
    "    target = idf['Immunogenicity'].values[training_ind]\n",
    "    return data, target\n",
    "\n",
    "X_test, y_test = make_test_data()"
   ]
  },
  {
   "cell_type": "code",
   "execution_count": 8,
   "metadata": {
    "collapsed": false
   },
   "outputs": [
    {
     "data": {
      "text/plain": [
       "0.73089999999999999"
      ]
     },
     "execution_count": 8,
     "metadata": {},
     "output_type": "execute_result"
    }
   ],
   "source": [
    "clf = CatBoostClassifier(verbose=False)\n",
    "clf.fit(X_train, y_train)\n",
    "roc_auc_score(y_test, clf.predict(X_test)) # It takes forever to predict"
   ]
  },
  {
   "cell_type": "code",
   "execution_count": null,
   "metadata": {
    "collapsed": true
   },
   "outputs": [],
   "source": []
  },
  {
   "cell_type": "code",
   "execution_count": null,
   "metadata": {
    "collapsed": true
   },
   "outputs": [],
   "source": []
  }
 ],
 "metadata": {
  "anaconda-cloud": {},
  "kernelspec": {
   "display_name": "Python [default]",
   "language": "python",
   "name": "python3"
  },
  "language_info": {
   "codemirror_mode": {
    "name": "ipython",
    "version": 3
   },
   "file_extension": ".py",
   "mimetype": "text/x-python",
   "name": "python",
   "nbconvert_exporter": "python",
   "pygments_lexer": "ipython3",
   "version": "3.5.4"
  }
 },
 "nbformat": 4,
 "nbformat_minor": 1
}
