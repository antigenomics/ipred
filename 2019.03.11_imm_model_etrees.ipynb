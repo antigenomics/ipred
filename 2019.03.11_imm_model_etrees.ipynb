{
 "cells": [
  {
   "cell_type": "code",
   "execution_count": 1,
   "metadata": {
    "collapsed": true
   },
   "outputs": [],
   "source": [
    "%matplotlib inline\n",
    "import pandas as pd\n",
    "import numpy as np\n",
    "import networkx as nx\n",
    "import seaborn as sns\n",
    "import matplotlib.pyplot as plt\n",
    "\n",
    "from modules.kidera import score_positions, score_sequence\n",
    "\n",
    "from sklearn.ensemble import RandomForestClassifier, GradientBoostingClassifier, ExtraTreesClassifier\n",
    "from sklearn.svm import SVC\n",
    "from sklearn.model_selection import train_test_split, cross_val_score, StratifiedKFold\n",
    "from sklearn.metrics import roc_curve, auc, classification_report\n",
    "\n",
    "from joblib import dump, load\n",
    "\n",
    "import warnings\n",
    "warnings.filterwarnings('ignore')"
   ]
  },
  {
   "cell_type": "code",
   "execution_count": 2,
   "metadata": {
    "collapsed": false
   },
   "outputs": [
    {
     "data": {
      "text/html": [
       "<div>\n",
       "<style scoped>\n",
       "    .dataframe tbody tr th:only-of-type {\n",
       "        vertical-align: middle;\n",
       "    }\n",
       "\n",
       "    .dataframe tbody tr th {\n",
       "        vertical-align: top;\n",
       "    }\n",
       "\n",
       "    .dataframe thead th {\n",
       "        text-align: right;\n",
       "    }\n",
       "</style>\n",
       "<table border=\"1\" class=\"dataframe\">\n",
       "  <thead>\n",
       "    <tr style=\"text-align: right;\">\n",
       "      <th></th>\n",
       "      <th>Peptide</th>\n",
       "      <th>MHC</th>\n",
       "      <th>Immunogenicity</th>\n",
       "      <th>1</th>\n",
       "      <th>2</th>\n",
       "      <th>3</th>\n",
       "      <th>4</th>\n",
       "      <th>5</th>\n",
       "      <th>6</th>\n",
       "      <th>7</th>\n",
       "      <th>8</th>\n",
       "      <th>9</th>\n",
       "      <th>10</th>\n",
       "    </tr>\n",
       "  </thead>\n",
       "  <tbody>\n",
       "    <tr>\n",
       "      <th>0</th>\n",
       "      <td>KLEDLERDL</td>\n",
       "      <td>HLA-A*02:01</td>\n",
       "      <td>1</td>\n",
       "      <td>-4.98</td>\n",
       "      <td>2.03</td>\n",
       "      <td>-5.96</td>\n",
       "      <td>4.23</td>\n",
       "      <td>-6.27</td>\n",
       "      <td>-6.21</td>\n",
       "      <td>1.99</td>\n",
       "      <td>-1.05</td>\n",
       "      <td>1.92</td>\n",
       "      <td>5.48</td>\n",
       "    </tr>\n",
       "    <tr>\n",
       "      <th>1</th>\n",
       "      <td>DLMGYIPLV</td>\n",
       "      <td>HLA-A*02:01</td>\n",
       "      <td>1</td>\n",
       "      <td>0.53</td>\n",
       "      <td>-1.72</td>\n",
       "      <td>0.77</td>\n",
       "      <td>-4.76</td>\n",
       "      <td>0.92</td>\n",
       "      <td>-4.45</td>\n",
       "      <td>0.07</td>\n",
       "      <td>0.72</td>\n",
       "      <td>-0.38</td>\n",
       "      <td>2.41</td>\n",
       "    </tr>\n",
       "    <tr>\n",
       "      <th>2</th>\n",
       "      <td>QTVTSTPVQGR</td>\n",
       "      <td>HLA-A*68:01</td>\n",
       "      <td>1</td>\n",
       "      <td>2.91</td>\n",
       "      <td>-5.14</td>\n",
       "      <td>8.00</td>\n",
       "      <td>4.67</td>\n",
       "      <td>1.97</td>\n",
       "      <td>-0.34</td>\n",
       "      <td>0.91</td>\n",
       "      <td>-6.23</td>\n",
       "      <td>-4.32</td>\n",
       "      <td>-1.91</td>\n",
       "    </tr>\n",
       "    <tr>\n",
       "      <th>3</th>\n",
       "      <td>TTVYPPSSTAK</td>\n",
       "      <td>HLA-A*03:01</td>\n",
       "      <td>1</td>\n",
       "      <td>5.26</td>\n",
       "      <td>-5.00</td>\n",
       "      <td>3.29</td>\n",
       "      <td>1.70</td>\n",
       "      <td>2.15</td>\n",
       "      <td>-5.02</td>\n",
       "      <td>-2.89</td>\n",
       "      <td>-9.42</td>\n",
       "      <td>-2.92</td>\n",
       "      <td>0.85</td>\n",
       "    </tr>\n",
       "    <tr>\n",
       "      <th>4</th>\n",
       "      <td>LITGRLQSL</td>\n",
       "      <td>HLA-A2</td>\n",
       "      <td>1</td>\n",
       "      <td>-1.57</td>\n",
       "      <td>-2.39</td>\n",
       "      <td>3.65</td>\n",
       "      <td>-0.21</td>\n",
       "      <td>-3.00</td>\n",
       "      <td>-5.40</td>\n",
       "      <td>3.48</td>\n",
       "      <td>-2.81</td>\n",
       "      <td>-0.98</td>\n",
       "      <td>0.03</td>\n",
       "    </tr>\n",
       "  </tbody>\n",
       "</table>\n",
       "</div>"
      ],
      "text/plain": [
       "       Peptide          MHC  Immunogenicity     1     2     3     4     5  \\\n",
       "0    KLEDLERDL  HLA-A*02:01               1 -4.98  2.03 -5.96  4.23 -6.27   \n",
       "1    DLMGYIPLV  HLA-A*02:01               1  0.53 -1.72  0.77 -4.76  0.92   \n",
       "2  QTVTSTPVQGR  HLA-A*68:01               1  2.91 -5.14  8.00  4.67  1.97   \n",
       "3  TTVYPPSSTAK  HLA-A*03:01               1  5.26 -5.00  3.29  1.70  2.15   \n",
       "4    LITGRLQSL       HLA-A2               1 -1.57 -2.39  3.65 -0.21 -3.00   \n",
       "\n",
       "      6     7     8     9    10  \n",
       "0 -6.21  1.99 -1.05  1.92  5.48  \n",
       "1 -4.45  0.07  0.72 -0.38  2.41  \n",
       "2 -0.34  0.91 -6.23 -4.32 -1.91  \n",
       "3 -5.02 -2.89 -9.42 -2.92  0.85  \n",
       "4 -5.40  3.48 -2.81 -0.98  0.03  "
      ]
     },
     "execution_count": 2,
     "metadata": {},
     "output_type": "execute_result"
    }
   ],
   "source": [
    "idf1 = pd.read_csv('data/immunogenic_peptides.csv')\n",
    "idf2 = pd.read_csv('data/immunogenic_peptides.txt', sep='\\t')\n",
    "idf2 = idf2[idf2['Species']=='Homo']\n",
    "\n",
    "idf1 = idf1.drop(['Epitope Start', 'Epitope End', ' Epitope Source Organism Name', 'Length'], axis=1)\n",
    "idf1.columns = ['Peptide', 'MHC', 'Immunogenicity']\n",
    "\n",
    "# idf2[\"Species\"] = idf2.Peptide.str.len()\n",
    "idf2 = idf2.drop('Species', axis=1)\n",
    "idf2.columns = ['Peptide', 'MHC', 'Immunogenicity']\n",
    "\n",
    "idf1 = idf1.reset_index(drop=True)\n",
    "idf2 = idf2.reset_index(drop=True)\n",
    "idf = pd.concat([idf1, idf2], axis=0)\n",
    "idf.Immunogenicity = idf.Immunogenicity.map({'immunogenic': 1, 'non-immunogenic': 0,\n",
    "                                             'Positive': 1, 'Negative': 0})\n",
    "idf1 = idf.Peptide.apply(lambda s: score_sequence(s))\n",
    "idf = pd.concat([idf, idf1], axis=1)\n",
    "features = [\"helix.bend.pref\", \"side.chain.size\",\\\n",
    "        \"extended.str.pref\", \"hydrophobicity\", \"double.bend.pref\", \"partial.spec.vol\",\\\n",
    "        \"flat.ext.pref\", \"occurrence.alpha.reg\", \"pK.C\", \"surrounding.hydrop\"]\n",
    "idf.head()"
   ]
  },
  {
   "cell_type": "code",
   "execution_count": 3,
   "metadata": {
    "collapsed": false
   },
   "outputs": [],
   "source": [
    "X = idf[[1, 2, 3, 4, 5, 6, 7, 8, 9, 10]].values\n",
    "y = idf['Immunogenicity'].values\n",
    "X_train, X_test, y_train, y_test = train_test_split(X, y, test_size=0.2)"
   ]
  },
  {
   "cell_type": "code",
   "execution_count": 4,
   "metadata": {
    "collapsed": false
   },
   "outputs": [
    {
     "name": "stdout",
     "output_type": "stream",
     "text": [
      "RandomForestClassifier 0.826833592661\n",
      "ExtraTreesClassifier 0.834445386491\n"
     ]
    }
   ],
   "source": [
    "rf = RandomForestClassifier(n_estimators=400, min_samples_split=2,\n",
    "                            min_samples_leaf=1, max_depth=None, bootstrap=False, n_jobs=-1)\n",
    "ef = ExtraTreesClassifier(n_estimators=1000, max_depth=50, max_features='auto', min_samples_split=2,\n",
    "                            min_samples_leaf=1, bootstrap=False, n_jobs=-1)\n",
    "clfs = [\n",
    "    rf,\n",
    "    ef\n",
    "]\n",
    "\n",
    "cv = StratifiedKFold(n_splits=10)\n",
    "\n",
    "for clf in clfs:\n",
    "    print(type(clf).__name__, np.mean(cross_val_score(clf, X_train, y_train, cv=cv, scoring=\"roc_auc\", n_jobs=-1)))"
   ]
  },
  {
   "cell_type": "code",
   "execution_count": 5,
   "metadata": {
    "collapsed": false
   },
   "outputs": [
    {
     "data": {
      "text/plain": [
       "RandomForestClassifier(bootstrap=False, class_weight=None, criterion='gini',\n",
       "            max_depth=None, max_features='auto', max_leaf_nodes=None,\n",
       "            min_impurity_decrease=0.0, min_impurity_split=None,\n",
       "            min_samples_leaf=1, min_samples_split=2,\n",
       "            min_weight_fraction_leaf=0.0, n_estimators=400, n_jobs=-1,\n",
       "            oob_score=False, random_state=None, verbose=0,\n",
       "            warm_start=False)"
      ]
     },
     "execution_count": 5,
     "metadata": {},
     "output_type": "execute_result"
    }
   ],
   "source": [
    "rf"
   ]
  },
  {
   "cell_type": "code",
   "execution_count": 6,
   "metadata": {
    "collapsed": true
   },
   "outputs": [],
   "source": [
    "from sklearn.model_selection import validation_curve\n",
    "\n",
    "def plt_validation_curve(clf, pname, prange):\n",
    "    \n",
    "    train_scores, test_scores = validation_curve(\n",
    "        clf, X, y, param_name=pname, param_range=prange,\n",
    "        cv=5, scoring=\"accuracy\", n_jobs=-1)\n",
    "    train_scores_mean = np.mean(train_scores, axis=1)\n",
    "    train_scores_std = np.std(train_scores, axis=1)\n",
    "    test_scores_mean = np.mean(test_scores, axis=1)\n",
    "    test_scores_std = np.std(test_scores, axis=1)\n",
    "\n",
    "    plt.title(\"Validation Curve\")\n",
    "    plt.xlabel(pname)\n",
    "    plt.ylabel(\"Score\")\n",
    "    plt.ylim(0.0, 1.1)\n",
    "    lw = 2\n",
    "    plt.plot(prange, train_scores_mean, label=\"Training score\",\n",
    "                 color=\"darkorange\", lw=lw)\n",
    "    plt.fill_between(prange, train_scores_mean - train_scores_std,\n",
    "                     train_scores_mean + train_scores_std, alpha=0.2,\n",
    "                     color=\"darkorange\", lw=lw)\n",
    "    plt.plot(prange, test_scores_mean, label=\"Cross-validation score\",\n",
    "                 color=\"navy\", lw=lw)\n",
    "    plt.fill_between(prange, test_scores_mean - test_scores_std,\n",
    "                     test_scores_mean + test_scores_std, alpha=0.2,\n",
    "                     color=\"navy\", lw=lw)\n",
    "    plt.legend(loc=\"best\")\n",
    "    plt.show()"
   ]
  },
  {
   "cell_type": "code",
   "execution_count": 7,
   "metadata": {
    "collapsed": false
   },
   "outputs": [
    {
     "data": {
      "image/png": "[encoded data removed]",
      "text/plain": [
       "<matplotlib.figure.Figure at 0x7f5ac84c3cc0>"
      ]
     },
     "metadata": {},
     "output_type": "display_data"
    }
   ],
   "source": [
    "plt_validation_curve(ef, 'max_depth', np.arange(2, 20, 2))"
   ]
  },
  {
   "cell_type": "code",
   "execution_count": 8,
   "metadata": {
    "collapsed": true
   },
   "outputs": [],
   "source": [
    "from sklearn.model_selection import RandomizedSearchCV\n",
    "\n",
    "# Number of trees in random forest\n",
    "n_estimators = [int(x) for x in np.linspace(start = 200, stop = 2000, num = 10)]\n",
    "# Number of features to consider at every split\n",
    "max_features = ['auto', 'sqrt']\n",
    "# Maximum number of levels in tree\n",
    "max_depth = [int(x) for x in np.linspace(10, 110, num = 11)]\n",
    "max_depth.append(None)\n",
    "# Minimum number of samples required to split a node\n",
    "min_samples_split = [2, 5, 10]\n",
    "# Minimum number of samples required at each leaf node\n",
    "min_samples_leaf = [1, 2, 4]\n",
    "# Method of selecting samples for training each tree\n",
    "bootstrap = [True, False]\n",
    "\n",
    "# Create the random grid\n",
    "random_grid = {'n_estimators': n_estimators,\n",
    "               'max_features': max_features,\n",
    "               'max_depth': max_depth,\n",
    "               'min_samples_split': min_samples_split,\n",
    "               'min_samples_leaf': min_samples_leaf,\n",
    "               'bootstrap': bootstrap}"
   ]
  },
  {
   "cell_type": "code",
   "execution_count": 9,
   "metadata": {
    "collapsed": false
   },
   "outputs": [
    {
     "data": {
      "text/plain": [
       "({'bootstrap': True,\n",
       "  'max_depth': 20,\n",
       "  'max_features': 'sqrt',\n",
       "  'min_samples_leaf': 2,\n",
       "  'min_samples_split': 2,\n",
       "  'n_estimators': 1200},\n",
       " 0.74321099875014207)"
      ]
     },
     "execution_count": 9,
     "metadata": {},
     "output_type": "execute_result"
    }
   ],
   "source": [
    "rf_random = RandomizedSearchCV(estimator = rf, param_distributions = random_grid,\n",
    "                               n_iter = 100, cv = 3, verbose=0, random_state=42, n_jobs = -1)\n",
    "\n",
    "# Fit the random search model\n",
    "rf_random.fit(X_train, y_train)\n",
    "\n",
    "rf_random.best_params_, rf_random.best_score_"
   ]
  },
  {
   "cell_type": "code",
   "execution_count": 10,
   "metadata": {
    "collapsed": false
   },
   "outputs": [
    {
     "data": {
      "text/plain": [
       "({'bootstrap': False,\n",
       "  'max_depth': 40,\n",
       "  'max_features': 'auto',\n",
       "  'min_samples_leaf': 1,\n",
       "  'min_samples_split': 2,\n",
       "  'n_estimators': 1400},\n",
       " 0.75025565276673101)"
      ]
     },
     "execution_count": 10,
     "metadata": {},
     "output_type": "execute_result"
    }
   ],
   "source": [
    "ef_random = RandomizedSearchCV(estimator = ef, param_distributions = random_grid,\n",
    "                               n_iter = 100, cv = 3, verbose=0, random_state=42, n_jobs = -1)\n",
    "\n",
    "# Fit the random search model\n",
    "ef_random.fit(X_train, y_train)\n",
    "\n",
    "ef_random.best_params_, ef_random.best_score_"
   ]
  },
  {
   "cell_type": "code",
   "execution_count": 11,
   "metadata": {
    "collapsed": false
   },
   "outputs": [
    {
     "name": "stdout",
     "output_type": "stream",
     "text": [
      "                 precision    recall  f1-score   support\n",
      "\n",
      "Non-immunogenic       0.71      0.71      0.71       972\n",
      "    Immunogenic       0.77      0.77      0.77      1229\n",
      "\n",
      "    avg / total       0.74      0.74      0.74      2201\n",
      "\n"
     ]
    }
   ],
   "source": [
    "rf.fit(X_train, y_train)\n",
    "y_pred = rf.predict(X_test)\n",
    "print(classification_report(y_test, y_pred, target_names=['Non-immunogenic', 'Immunogenic']))"
   ]
  },
  {
   "cell_type": "code",
   "execution_count": 15,
   "metadata": {
    "collapsed": false
   },
   "outputs": [
    {
     "name": "stdout",
     "output_type": "stream",
     "text": [
      "                 precision    recall  f1-score   support\n",
      "\n",
      "Non-immunogenic       0.71      0.71      0.71       972\n",
      "    Immunogenic       0.77      0.77      0.77      1229\n",
      "\n",
      "    avg / total       0.74      0.74      0.74      2201\n",
      "\n"
     ]
    }
   ],
   "source": [
    "ef.fit(X_train, y_train)\n",
    "y_pred = ef_random.predict(X_test)\n",
    "print(classification_report(y_test, y_pred, target_names=['Non-immunogenic', 'Immunogenic']))"
   ]
  },
  {
   "cell_type": "code",
   "execution_count": 19,
   "metadata": {
    "collapsed": false
   },
   "outputs": [
    {
     "data": {
      "text/plain": [
       "['output/imm_prediction_model.joblib']"
      ]
     },
     "execution_count": 19,
     "metadata": {},
     "output_type": "execute_result"
    }
   ],
   "source": [
    "dump(rf, 'output/imm_prediction_model.joblib') "
   ]
  },
  {
   "cell_type": "code",
   "execution_count": null,
   "metadata": {
    "collapsed": true
   },
   "outputs": [],
   "source": []
  },
  {
   "cell_type": "code",
   "execution_count": null,
   "metadata": {
    "collapsed": true
   },
   "outputs": [],
   "source": []
  },
  {
   "cell_type": "code",
   "execution_count": null,
   "metadata": {
    "collapsed": true
   },
   "outputs": [],
   "source": []
  }
 ],
 "metadata": {
  "anaconda-cloud": {},
  "kernelspec": {
   "display_name": "Python [default]",
   "language": "python",
   "name": "python3"
  },
  "language_info": {
   "codemirror_mode": {
    "name": "ipython",
    "version": 3
   },
   "file_extension": ".py",
   "mimetype": "text/x-python",
   "name": "python",
   "nbconvert_exporter": "python",
   "pygments_lexer": "ipython3",
   "version": "3.5.4"
  }
 },
 "nbformat": 4,
 "nbformat_minor": 1
}
