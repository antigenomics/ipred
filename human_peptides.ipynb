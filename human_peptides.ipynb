{
 "cells": [
  {
   "cell_type": "code",
   "execution_count": 21,
   "metadata": {
    "collapsed": false
   },
   "outputs": [
    {
     "name": "stdout",
     "output_type": "stream",
     "text": [
      "Populating the interactive namespace from numpy and matplotlib\n"
     ]
    }
   ],
   "source": [
    "%matplotlib inline\n",
    "%pylab inline\n",
    "import os\n",
    "from tqdm import tqdm\n",
    "\n",
    "import pandas as pd\n",
    "import numpy as np\n",
    "\n",
    "import matplotlib.pyplot as plt\n",
    "import pylab as pl\n",
    "\n",
    "from Bio import SeqIO"
   ]
  },
  {
   "cell_type": "markdown",
   "metadata": {},
   "source": [
    "Loading files:"
   ]
  },
  {
   "cell_type": "code",
   "execution_count": 2,
   "metadata": {
    "collapsed": false
   },
   "outputs": [],
   "source": [
    "record_dict = SeqIO.index(\"data/uniprot_sprot.fasta\", \"fasta\")\n",
    "# record_dict = SeqIO.to_dict(SeqIO.parse(\"data/uniprot_sprot.fasta\", \"fasta\"))"
   ]
  },
  {
   "cell_type": "code",
   "execution_count": 4,
   "metadata": {
    "collapsed": false
   },
   "outputs": [
    {
     "data": {
      "text/plain": [
       "['sp|A6MVV7|PETL_RHDSA',\n",
       " 'sp|Q2A4C9|COAX1_FRATH',\n",
       " 'sp|Q89AI5|TSAB_BUCBP',\n",
       " 'sp|Q9CEF5|PKNB_LACLA',\n",
       " 'sp|Q1CDT5|FIS_YERPN',\n",
       " 'sp|B0TWS7|ATPB_FRAP2',\n",
       " 'sp|Q3AV54|ACCA_SYNS9',\n",
       " 'sp|P24966|CYB_PECTA',\n",
       " 'sp|P39061|COIA1_MOUSE']"
      ]
     },
     "execution_count": 4,
     "metadata": {},
     "output_type": "execute_result"
    }
   ],
   "source": [
    "list(record_dict.keys())[:9]"
   ]
  },
  {
   "cell_type": "code",
   "execution_count": 18,
   "metadata": {
    "collapsed": false
   },
   "outputs": [
    {
     "data": {
      "text/plain": [
       "9"
      ]
     },
     "execution_count": 18,
     "metadata": {},
     "output_type": "execute_result"
    }
   ],
   "source": [
    "i = 2\n",
    "len(record_dict['sp|A6MVV7|PETL_RHDSA'].seq[i:i+9])"
   ]
  },
  {
   "cell_type": "code",
   "execution_count": 24,
   "metadata": {
    "collapsed": false
   },
   "outputs": [],
   "source": [
    "filename = 'output/human_peptides.txt'\n",
    "target = open(filename, 'w')"
   ]
  },
  {
   "cell_type": "code",
   "execution_count": 1,
   "metadata": {
    "collapsed": false
   },
   "outputs": [],
   "source": [
    "# for key in tqdm(record_dict):\n",
    "#     lines = []\n",
    "#     for i in range(len(record_dict[key].seq)-9):\n",
    "#         lines.append(str(record_dict[key].seq[i:i+9]))\n",
    "#     for i in range(len(lines)):\n",
    "#         target.write(lines[i])\n",
    "#         target.write('\\n')"
   ]
  }
 ],
 "metadata": {
  "kernelspec": {
   "display_name": "Python 3",
   "language": "python",
   "name": "python3"
  },
  "language_info": {
   "codemirror_mode": {
    "name": "ipython",
    "version": 3
   },
   "file_extension": ".py",
   "mimetype": "text/x-python",
   "name": "python",
   "nbconvert_exporter": "python",
   "pygments_lexer": "ipython3",
   "version": "3.6.0"
  }
 },
 "nbformat": 4,
 "nbformat_minor": 2
}
