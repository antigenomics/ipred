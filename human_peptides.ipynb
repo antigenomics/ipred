{
 "cells": [
  {
   "cell_type": "code",
   "execution_count": 1,
   "metadata": {
    "collapsed": false
   },
   "outputs": [
    {
     "name": "stderr",
     "output_type": "stream",
     "text": [
      "Using Theano backend.\n",
      "/home/vts/anaconda3/lib/python3.6/site-packages/sklearn/cross_validation.py:44: DeprecationWarning: This module was deprecated in version 0.18 in favor of the model_selection module into which all the refactored classes and functions are moved. Also note that the interface of the new CV iterators are different from that of this module. This module will be removed in 0.20.\n",
      "  \"This module will be removed in 0.20.\", DeprecationWarning)\n"
     ]
    }
   ],
   "source": [
    "%matplotlib inline\n",
    "\n",
    "import os\n",
    "from tqdm import tqdm, tqdm_notebook\n",
    "from tqdm import trange\n",
    "from scipy import stats\n",
    "\n",
    "import pandas as pd\n",
    "import numpy as np\n",
    "import networkx as nx\n",
    "import seaborn as sns\n",
    "\n",
    "import matplotlib.pyplot as plt\n",
    "\n",
    "from Bio import SeqIO\n",
    "\n",
    "from mhcflurry import predict\n",
    "from mhcflurry import class1_allele_specific\n",
    "\n",
    "from __future__ import print_function\n",
    "\n",
    "# from Levenshtein import hamming\n",
    "from multiprocessing import Pool, Process"
   ]
  },
  {
   "cell_type": "code",
   "execution_count": 10,
   "metadata": {
    "collapsed": true
   },
   "outputs": [],
   "source": [
    "! export KERAS_BACKEND=theano"
   ]
  },
  {
   "cell_type": "markdown",
   "metadata": {},
   "source": [
    "Loading files:"
   ]
  },
  {
   "cell_type": "code",
   "execution_count": 4,
   "metadata": {
    "collapsed": false
   },
   "outputs": [],
   "source": [
    "record_dict = SeqIO.index(\"data/UP000005640_9606.fasta\", \"fasta\")"
   ]
  },
  {
   "cell_type": "code",
   "execution_count": 16,
   "metadata": {
    "collapsed": false
   },
   "outputs": [
    {
     "name": "stderr",
     "output_type": "stream",
     "text": [
      "100%|██████████| 21033/21033 [09:11<00:00, 45.85it/s]   \n"
     ]
    }
   ],
   "source": [
    "def get_kmers(length, record_dict):\n",
    "    filename = 'output/peptides_raw.txt'\n",
    "    target = open(filename, 'w+')\n",
    "    for key in tqdm_notebook(record_dict):\n",
    "        lines = []\n",
    "        for i in range(len(record_dict[key].seq)-length):\n",
    "            lines.append(str(record_dict[key].seq[i:i+length]))\n",
    "        for i in range(len(lines)):\n",
    "            target.write(lines[i]+'\\n')\n",
    "    target.close()"
   ]
  },
  {
   "cell_type": "code",
   "execution_count": 18,
   "metadata": {
    "collapsed": false
   },
   "outputs": [
    {
     "data": {
      "text/plain": [
       "(11314571, 1)"
      ]
     },
     "execution_count": 18,
     "metadata": {},
     "output_type": "execute_result"
    }
   ],
   "source": [
    "df = pd.read_csv('output/peptides_raw.txt', index_col=False)\n",
    "df.shape"
   ]
  },
  {
   "cell_type": "code",
   "execution_count": 19,
   "metadata": {
    "collapsed": true
   },
   "outputs": [],
   "source": [
    "! sort output/peptides_raw.txt | uniq > output/human_peptides.txt"
   ]
  },
  {
   "cell_type": "code",
   "execution_count": 2,
   "metadata": {
    "collapsed": false
   },
   "outputs": [
    {
     "data": {
      "text/plain": [
       "(10379345, 1)"
      ]
     },
     "execution_count": 2,
     "metadata": {},
     "output_type": "execute_result"
    }
   ],
   "source": [
    "df = pd.read_csv('output/human_peptides.txt', index_col=False)\n",
    "df.columns = ['Peptide']\n",
    "df.shape"
   ]
  },
  {
   "cell_type": "code",
   "execution_count": 4,
   "metadata": {
    "collapsed": false,
    "scrolled": false
   },
   "outputs": [
    {
     "name": "stdout",
     "output_type": "stream",
     "text": [
      "\n",
      "20445/|/  0%|| 20445/10379346 [01:25<11:58:53, 240.16it/s].........................\n",
      "255 exceptions occured\n"
     ]
    }
   ],
   "source": [
    "file1 = 'output/HLA-A0201.csv'\n",
    "file2 = 'output/human_peptides.txt'\n",
    "exceptions = 0\n",
    "with open(file1, 'w') as output:\n",
    "    output.write('Allele,Peptide,Prediction')\n",
    "    output.write('\\n')\n",
    "    with open(file2, 'r') as peptides:\n",
    "        for line in tqdm_notebook(peptides.readlines()):\n",
    "            s = line.rstrip()\n",
    "            try:\n",
    "                prediction = predict(alleles=['HLA-A0201'], peptides=[s])\n",
    "                output.write('{0},{1},{2}'.format(prediction.Allele.iloc[0], \\\n",
    "                                                prediction.Peptide.iloc[0], prediction.Prediction.iloc[0]))\n",
    "                output.write('\\n')\n",
    "            except KeyError:\n",
    "                exceptions += 1\n",
    "                if (exceptions%10 == 0):\n",
    "                    print(\".\", end='')\n",
    "print('{} exceptions occured'.format(exceptions))"
   ]
  },
  {
   "cell_type": "code",
   "execution_count": 2,
   "metadata": {
    "collapsed": false
   },
   "outputs": [],
   "source": [
    "df = pd.read_csv('output/HLA-A0201.csv', index_col=False)"
   ]
  },
  {
   "cell_type": "code",
   "execution_count": 3,
   "metadata": {
    "collapsed": false
   },
   "outputs": [
    {
     "data": {
      "text/html": [
       "<div>\n",
       "<table border=\"1\" class=\"dataframe\">\n",
       "  <thead>\n",
       "    <tr style=\"text-align: right;\">\n",
       "      <th></th>\n",
       "      <th>Allele</th>\n",
       "      <th>Peptide</th>\n",
       "      <th>Prediction</th>\n",
       "    </tr>\n",
       "  </thead>\n",
       "  <tbody>\n",
       "    <tr>\n",
       "      <th>0</th>\n",
       "      <td>HLA-A0201</td>\n",
       "      <td>AAAAAAAAA</td>\n",
       "      <td>3140.859375</td>\n",
       "    </tr>\n",
       "    <tr>\n",
       "      <th>1</th>\n",
       "      <td>HLA-A0201</td>\n",
       "      <td>AAAAAAAAC</td>\n",
       "      <td>9386.266602</td>\n",
       "    </tr>\n",
       "    <tr>\n",
       "      <th>2</th>\n",
       "      <td>HLA-A0201</td>\n",
       "      <td>AAAAAAAAD</td>\n",
       "      <td>19053.091797</td>\n",
       "    </tr>\n",
       "    <tr>\n",
       "      <th>3</th>\n",
       "      <td>HLA-A0201</td>\n",
       "      <td>AAAAAAAAE</td>\n",
       "      <td>13797.026367</td>\n",
       "    </tr>\n",
       "    <tr>\n",
       "      <th>4</th>\n",
       "      <td>HLA-A0201</td>\n",
       "      <td>AAAAAAAAF</td>\n",
       "      <td>11891.204102</td>\n",
       "    </tr>\n",
       "  </tbody>\n",
       "</table>\n",
       "</div>"
      ],
      "text/plain": [
       "      Allele    Peptide    Prediction\n",
       "0  HLA-A0201  AAAAAAAAA   3140.859375\n",
       "1  HLA-A0201  AAAAAAAAC   9386.266602\n",
       "2  HLA-A0201  AAAAAAAAD  19053.091797\n",
       "3  HLA-A0201  AAAAAAAAE  13797.026367\n",
       "4  HLA-A0201  AAAAAAAAF  11891.204102"
      ]
     },
     "execution_count": 3,
     "metadata": {},
     "output_type": "execute_result"
    }
   ],
   "source": [
    "df.head()"
   ]
  },
  {
   "cell_type": "code",
   "execution_count": 9,
   "metadata": {
    "collapsed": false
   },
   "outputs": [
    {
     "data": {
      "text/plain": [
       "409088"
      ]
     },
     "execution_count": 9,
     "metadata": {},
     "output_type": "execute_result"
    }
   ],
   "source": [
    "len(df[df[\"Prediction\"] <= 500])"
   ]
  },
  {
   "cell_type": "markdown",
   "metadata": {},
   "source": [
    "Code to create sample file"
   ]
  },
  {
   "cell_type": "code",
   "execution_count": 20,
   "metadata": {
    "collapsed": true
   },
   "outputs": [],
   "source": [
    "with open('output/HLA-A0201.csv', 'r') as file:\n",
    "    with open('output/sample100000.txt', 'w') as file1:\n",
    "        for i, line in enumerate(file):\n",
    "            file1.write(line)\n",
    "            if i == 100000:\n",
    "                break"
   ]
  },
  {
   "cell_type": "markdown",
   "metadata": {},
   "source": [
    "Hamming distance"
   ]
  },
  {
   "cell_type": "code",
   "execution_count": 2,
   "metadata": {
    "collapsed": false
   },
   "outputs": [
    {
     "data": {
      "text/plain": [
       "(10379091, 3)"
      ]
     },
     "execution_count": 2,
     "metadata": {},
     "output_type": "execute_result"
    }
   ],
   "source": [
    "data = pd.read_csv('output/HLA-A0201.csv', index_col=False)\n",
    "data.shape"
   ]
  },
  {
   "cell_type": "code",
   "execution_count": 10,
   "metadata": {
    "collapsed": true
   },
   "outputs": [],
   "source": [
    "binding = data[data[\"Prediction\"] <= 500]"
   ]
  },
  {
   "cell_type": "code",
   "execution_count": 26,
   "metadata": {
    "collapsed": false
   },
   "outputs": [
    {
     "data": {
      "text/plain": [
       "count        409088\n",
       "unique       409088\n",
       "top       NLNAGSNVV\n",
       "freq              1\n",
       "Name: Peptide, dtype: object"
      ]
     },
     "execution_count": 26,
     "metadata": {},
     "output_type": "execute_result"
    }
   ],
   "source": [
    "binding['Peptide'].describe()"
   ]
  },
  {
   "cell_type": "code",
   "execution_count": 5,
   "metadata": {
    "collapsed": false
   },
   "outputs": [
    {
     "name": "stderr",
     "output_type": "stream",
     "text": [
      "Process PoolWorker-18:\n",
      "Process PoolWorker-20:\n",
      "Process PoolWorker-19:\n",
      "Process PoolWorker-17:\n",
      "Traceback (most recent call last):\n",
      "Traceback (most recent call last):\n",
      "Traceback (most recent call last):\n",
      "  File \"/home/vcvetkov/anaconda3/envs/python2/lib/python2.7/multiprocessing/process.py\", line 258, in _bootstrap\n"
     ]
    },
    {
     "name": "stdout",
     "output_type": "stream",
     "text": [
      "\n"
     ]
    },
    {
     "name": "stderr",
     "output_type": "stream",
     "text": [
      "  File \"/home/vcvetkov/anaconda3/envs/python2/lib/python2.7/multiprocessing/process.py\", line 258, in _bootstrap\n",
      "    self.run()\n",
      "  File \"/home/vcvetkov/anaconda3/envs/python2/lib/python2.7/multiprocessing/process.py\", line 114, in run\n",
      "    self.run()\n",
      "  File \"/home/vcvetkov/anaconda3/envs/python2/lib/python2.7/multiprocessing/process.py\", line 258, in _bootstrap\n",
      "Traceback (most recent call last):\n",
      "    self._target(*self._args, **self._kwargs)\n",
      "  File \"/home/vcvetkov/anaconda3/envs/python2/lib/python2.7/multiprocessing/process.py\", line 258, in _bootstrap\n",
      "  File \"/home/vcvetkov/anaconda3/envs/python2/lib/python2.7/multiprocessing/process.py\", line 114, in run\n",
      "    self.run()\n",
      "    self.run()\n",
      "    self._target(*self._args, **self._kwargs)\n",
      "  File \"/home/vcvetkov/anaconda3/envs/python2/lib/python2.7/multiprocessing/pool.py\", line 102, in worker\n",
      "  File \"/home/vcvetkov/anaconda3/envs/python2/lib/python2.7/multiprocessing/pool.py\", line 102, in worker\n",
      "  File \"/home/vcvetkov/anaconda3/envs/python2/lib/python2.7/multiprocessing/process.py\", line 114, in run\n",
      "  File \"/home/vcvetkov/anaconda3/envs/python2/lib/python2.7/multiprocessing/process.py\", line 114, in run\n",
      "    task = get()\n",
      "    task = get()\n",
      "    self._target(*self._args, **self._kwargs)\n",
      "    self._target(*self._args, **self._kwargs)\n",
      "  File \"/home/vcvetkov/anaconda3/envs/python2/lib/python2.7/multiprocessing/queues.py\", line 376, in get\n",
      "  File \"/home/vcvetkov/anaconda3/envs/python2/lib/python2.7/multiprocessing/pool.py\", line 102, in worker\n",
      "  File \"/home/vcvetkov/anaconda3/envs/python2/lib/python2.7/multiprocessing/queues.py\", line 376, in get\n",
      "    racquire()\n",
      "    task = get()\n",
      "KeyboardInterrupt\n",
      "  File \"/home/vcvetkov/anaconda3/envs/python2/lib/python2.7/multiprocessing/pool.py\", line 102, in worker\n",
      "  File \"/home/vcvetkov/anaconda3/envs/python2/lib/python2.7/multiprocessing/queues.py\", line 376, in get\n",
      "    racquire()\n",
      "    racquire()\n",
      "    task = get()\n",
      "KeyboardInterrupt\n",
      "KeyboardInterrupt\n",
      "  File \"/home/vcvetkov/anaconda3/envs/python2/lib/python2.7/multiprocessing/queues.py\", line 378, in get\n",
      "    return recv()\n",
      "KeyboardInterrupt\n"
     ]
    },
    {
     "ename": "KeyboardInterrupt",
     "evalue": "",
     "output_type": "error",
     "traceback": [
      "\u001b[0;31m---------------------------------------------------------------------------\u001b[0m",
      "\u001b[0;31mKeyboardInterrupt\u001b[0m                         Traceback (most recent call last)",
      "\u001b[0;32m<ipython-input-5-53edd83f8fc1>\u001b[0m in \u001b[0;36m<module>\u001b[0;34m()\u001b[0m\n\u001b[1;32m     12\u001b[0m \u001b[0;32mfor\u001b[0m \u001b[0mline\u001b[0m \u001b[0;32min\u001b[0m \u001b[0mtqdm_notebook\u001b[0m\u001b[0;34m(\u001b[0m\u001b[0mbinding\u001b[0m\u001b[0;34m[\u001b[0m\u001b[0;34m'Peptide'\u001b[0m\u001b[0;34m]\u001b[0m\u001b[0;34m)\u001b[0m\u001b[0;34m:\u001b[0m\u001b[0;34m\u001b[0m\u001b[0m\n\u001b[1;32m     13\u001b[0m \u001b[0;31m#     result = pool.apply_async(ham_dist_dict, (binding, 1, line,)).get()\u001b[0m\u001b[0;34m\u001b[0m\u001b[0;34m\u001b[0m\u001b[0m\n\u001b[0;32m---> 14\u001b[0;31m     \u001b[0mresult\u001b[0m \u001b[0;34m=\u001b[0m \u001b[0mpool\u001b[0m\u001b[0;34m.\u001b[0m\u001b[0mapply\u001b[0m\u001b[0;34m(\u001b[0m\u001b[0mham_dist_dict\u001b[0m\u001b[0;34m,\u001b[0m \u001b[0;34m(\u001b[0m\u001b[0mbinding\u001b[0m\u001b[0;34m,\u001b[0m \u001b[0;36m1\u001b[0m\u001b[0;34m,\u001b[0m \u001b[0mline\u001b[0m\u001b[0;34m,\u001b[0m\u001b[0;34m)\u001b[0m\u001b[0;34m)\u001b[0m\u001b[0;34m\u001b[0m\u001b[0m\n\u001b[0m\u001b[1;32m     15\u001b[0m \u001b[0;31m#     result = ham_dist_dict(binding, 1, line)\u001b[0m\u001b[0;34m\u001b[0m\u001b[0;34m\u001b[0m\u001b[0m\n\u001b[1;32m     16\u001b[0m     \u001b[0mlist2\u001b[0m\u001b[0;34m.\u001b[0m\u001b[0mappend\u001b[0m\u001b[0;34m(\u001b[0m\u001b[0mresult\u001b[0m\u001b[0;34m)\u001b[0m\u001b[0;34m\u001b[0m\u001b[0m\n",
      "\u001b[0;32m/home/vcvetkov/anaconda3/envs/python2/lib/python2.7/multiprocessing/pool.pyc\u001b[0m in \u001b[0;36mapply\u001b[0;34m(self, func, args, kwds)\u001b[0m\n\u001b[1;32m    242\u001b[0m         '''\n\u001b[1;32m    243\u001b[0m         \u001b[0;32massert\u001b[0m \u001b[0mself\u001b[0m\u001b[0;34m.\u001b[0m\u001b[0m_state\u001b[0m \u001b[0;34m==\u001b[0m \u001b[0mRUN\u001b[0m\u001b[0;34m\u001b[0m\u001b[0m\n\u001b[0;32m--> 244\u001b[0;31m         \u001b[0;32mreturn\u001b[0m \u001b[0mself\u001b[0m\u001b[0;34m.\u001b[0m\u001b[0mapply_async\u001b[0m\u001b[0;34m(\u001b[0m\u001b[0mfunc\u001b[0m\u001b[0;34m,\u001b[0m \u001b[0margs\u001b[0m\u001b[0;34m,\u001b[0m \u001b[0mkwds\u001b[0m\u001b[0;34m)\u001b[0m\u001b[0;34m.\u001b[0m\u001b[0mget\u001b[0m\u001b[0;34m(\u001b[0m\u001b[0;34m)\u001b[0m\u001b[0;34m\u001b[0m\u001b[0m\n\u001b[0m\u001b[1;32m    245\u001b[0m \u001b[0;34m\u001b[0m\u001b[0m\n\u001b[1;32m    246\u001b[0m     \u001b[0;32mdef\u001b[0m \u001b[0mmap\u001b[0m\u001b[0;34m(\u001b[0m\u001b[0mself\u001b[0m\u001b[0;34m,\u001b[0m \u001b[0mfunc\u001b[0m\u001b[0;34m,\u001b[0m \u001b[0miterable\u001b[0m\u001b[0;34m,\u001b[0m \u001b[0mchunksize\u001b[0m\u001b[0;34m=\u001b[0m\u001b[0mNone\u001b[0m\u001b[0;34m)\u001b[0m\u001b[0;34m:\u001b[0m\u001b[0;34m\u001b[0m\u001b[0m\n",
      "\u001b[0;32m/home/vcvetkov/anaconda3/envs/python2/lib/python2.7/multiprocessing/pool.pyc\u001b[0m in \u001b[0;36mget\u001b[0;34m(self, timeout)\u001b[0m\n\u001b[1;32m    559\u001b[0m \u001b[0;34m\u001b[0m\u001b[0m\n\u001b[1;32m    560\u001b[0m     \u001b[0;32mdef\u001b[0m \u001b[0mget\u001b[0m\u001b[0;34m(\u001b[0m\u001b[0mself\u001b[0m\u001b[0;34m,\u001b[0m \u001b[0mtimeout\u001b[0m\u001b[0;34m=\u001b[0m\u001b[0mNone\u001b[0m\u001b[0;34m)\u001b[0m\u001b[0;34m:\u001b[0m\u001b[0;34m\u001b[0m\u001b[0m\n\u001b[0;32m--> 561\u001b[0;31m         \u001b[0mself\u001b[0m\u001b[0;34m.\u001b[0m\u001b[0mwait\u001b[0m\u001b[0;34m(\u001b[0m\u001b[0mtimeout\u001b[0m\u001b[0;34m)\u001b[0m\u001b[0;34m\u001b[0m\u001b[0m\n\u001b[0m\u001b[1;32m    562\u001b[0m         \u001b[0;32mif\u001b[0m \u001b[0;32mnot\u001b[0m \u001b[0mself\u001b[0m\u001b[0;34m.\u001b[0m\u001b[0m_ready\u001b[0m\u001b[0;34m:\u001b[0m\u001b[0;34m\u001b[0m\u001b[0m\n\u001b[1;32m    563\u001b[0m             \u001b[0;32mraise\u001b[0m \u001b[0mTimeoutError\u001b[0m\u001b[0;34m\u001b[0m\u001b[0m\n",
      "\u001b[0;32m/home/vcvetkov/anaconda3/envs/python2/lib/python2.7/multiprocessing/pool.pyc\u001b[0m in \u001b[0;36mwait\u001b[0;34m(self, timeout)\u001b[0m\n\u001b[1;32m    554\u001b[0m         \u001b[0;32mtry\u001b[0m\u001b[0;34m:\u001b[0m\u001b[0;34m\u001b[0m\u001b[0m\n\u001b[1;32m    555\u001b[0m             \u001b[0;32mif\u001b[0m \u001b[0;32mnot\u001b[0m \u001b[0mself\u001b[0m\u001b[0;34m.\u001b[0m\u001b[0m_ready\u001b[0m\u001b[0;34m:\u001b[0m\u001b[0;34m\u001b[0m\u001b[0m\n\u001b[0;32m--> 556\u001b[0;31m                 \u001b[0mself\u001b[0m\u001b[0;34m.\u001b[0m\u001b[0m_cond\u001b[0m\u001b[0;34m.\u001b[0m\u001b[0mwait\u001b[0m\u001b[0;34m(\u001b[0m\u001b[0mtimeout\u001b[0m\u001b[0;34m)\u001b[0m\u001b[0;34m\u001b[0m\u001b[0m\n\u001b[0m\u001b[1;32m    557\u001b[0m         \u001b[0;32mfinally\u001b[0m\u001b[0;34m:\u001b[0m\u001b[0;34m\u001b[0m\u001b[0m\n\u001b[1;32m    558\u001b[0m             \u001b[0mself\u001b[0m\u001b[0;34m.\u001b[0m\u001b[0m_cond\u001b[0m\u001b[0;34m.\u001b[0m\u001b[0mrelease\u001b[0m\u001b[0;34m(\u001b[0m\u001b[0;34m)\u001b[0m\u001b[0;34m\u001b[0m\u001b[0m\n",
      "\u001b[0;32m/home/vcvetkov/anaconda3/envs/python2/lib/python2.7/threading.pyc\u001b[0m in \u001b[0;36mwait\u001b[0;34m(self, timeout)\u001b[0m\n\u001b[1;32m    338\u001b[0m         \u001b[0;32mtry\u001b[0m\u001b[0;34m:\u001b[0m    \u001b[0;31m# restore state no matter what (e.g., KeyboardInterrupt)\u001b[0m\u001b[0;34m\u001b[0m\u001b[0m\n\u001b[1;32m    339\u001b[0m             \u001b[0;32mif\u001b[0m \u001b[0mtimeout\u001b[0m \u001b[0;32mis\u001b[0m \u001b[0mNone\u001b[0m\u001b[0;34m:\u001b[0m\u001b[0;34m\u001b[0m\u001b[0m\n\u001b[0;32m--> 340\u001b[0;31m                 \u001b[0mwaiter\u001b[0m\u001b[0;34m.\u001b[0m\u001b[0macquire\u001b[0m\u001b[0;34m(\u001b[0m\u001b[0;34m)\u001b[0m\u001b[0;34m\u001b[0m\u001b[0m\n\u001b[0m\u001b[1;32m    341\u001b[0m                 \u001b[0;32mif\u001b[0m \u001b[0m__debug__\u001b[0m\u001b[0;34m:\u001b[0m\u001b[0;34m\u001b[0m\u001b[0m\n\u001b[1;32m    342\u001b[0m                     \u001b[0mself\u001b[0m\u001b[0;34m.\u001b[0m\u001b[0m_note\u001b[0m\u001b[0;34m(\u001b[0m\u001b[0;34m\"%s.wait(): got it\"\u001b[0m\u001b[0;34m,\u001b[0m \u001b[0mself\u001b[0m\u001b[0;34m)\u001b[0m\u001b[0;34m\u001b[0m\u001b[0m\n",
      "\u001b[0;31mKeyboardInterrupt\u001b[0m: "
     ]
    }
   ],
   "source": [
    "list2 = []\n",
    "def ham_dist_dict(data, dist, line):\n",
    "    dict_ = dict()\n",
    "    for i, s_line in enumerate(data['Peptide']):\n",
    "        result = hamming(line, s_line)\n",
    "        if result <= dist:\n",
    "            dict_[i] = result\n",
    "    return dict_\n",
    "\n",
    "pool = Pool(processes=4) \n",
    "\n",
    "for line in tqdm_notebook(binding['Peptide']):\n",
    "#     result = pool.apply_async(ham_dist_dict, (binding, 1, line,)).get()\n",
    "    result = pool.apply(ham_dist_dict, (binding, 1, line,))\n",
    "#     result = ham_dist_dict(binding, 1, line)\n",
    "    list2.append(result)\n",
    "\n",
    "# pool.close()\n",
    "# pool.join()"
   ]
  },
  {
   "cell_type": "code",
   "execution_count": null,
   "metadata": {
    "collapsed": false
   },
   "outputs": [],
   "source": [
    "for i, line in enumerate(result):\n",
    "    print(line)\n",
    "    if i == 1:\n",
    "        break"
   ]
  },
  {
   "cell_type": "code",
   "execution_count": 6,
   "metadata": {
    "collapsed": false
   },
   "outputs": [
    {
     "ename": "TypeError",
     "evalue": "'ApplyResult' object is not iterable",
     "output_type": "error",
     "traceback": [
      "\u001b[0;31m---------------------------------------------------------------------------\u001b[0m",
      "\u001b[0;31mTypeError\u001b[0m                                 Traceback (most recent call last)",
      "\u001b[0;32m<ipython-input-6-7ecd5fc33607>\u001b[0m in \u001b[0;36m<module>\u001b[0;34m()\u001b[0m\n\u001b[1;32m      1\u001b[0m \u001b[0medges_list\u001b[0m \u001b[0;34m=\u001b[0m \u001b[0;34m[\u001b[0m\u001b[0;34m]\u001b[0m\u001b[0;34m\u001b[0m\u001b[0m\n\u001b[1;32m      2\u001b[0m \u001b[0;32mfor\u001b[0m \u001b[0mvertex\u001b[0m\u001b[0;34m,\u001b[0m \u001b[0medges\u001b[0m \u001b[0;32min\u001b[0m \u001b[0menumerate\u001b[0m\u001b[0;34m(\u001b[0m\u001b[0mlist2\u001b[0m\u001b[0;34m)\u001b[0m\u001b[0;34m:\u001b[0m\u001b[0;34m\u001b[0m\u001b[0m\n\u001b[0;32m----> 3\u001b[0;31m     \u001b[0;32mfor\u001b[0m \u001b[0mtarget\u001b[0m \u001b[0;32min\u001b[0m \u001b[0medges\u001b[0m\u001b[0;34m:\u001b[0m\u001b[0;34m\u001b[0m\u001b[0m\n\u001b[0m\u001b[1;32m      4\u001b[0m         \u001b[0medges_list\u001b[0m\u001b[0;34m.\u001b[0m\u001b[0mappend\u001b[0m\u001b[0;34m(\u001b[0m\u001b[0;34m(\u001b[0m\u001b[0mvertex\u001b[0m\u001b[0;34m,\u001b[0m \u001b[0mtarget\u001b[0m\u001b[0;34m,\u001b[0m \u001b[0medges\u001b[0m\u001b[0;34m[\u001b[0m\u001b[0mtarget\u001b[0m\u001b[0;34m]\u001b[0m\u001b[0;34m)\u001b[0m\u001b[0;34m)\u001b[0m\u001b[0;34m\u001b[0m\u001b[0m\n",
      "\u001b[0;31mTypeError\u001b[0m: 'ApplyResult' object is not iterable"
     ]
    }
   ],
   "source": [
    "edges_list = []\n",
    "for vertex, edges in enumerate(list2):\n",
    "    for target in edges:\n",
    "        edges_list.append((vertex, target, edges[target]))"
   ]
  },
  {
   "cell_type": "code",
   "execution_count": 12,
   "metadata": {
    "collapsed": false
   },
   "outputs": [],
   "source": [
    "g = nx.Graph()\n",
    "g.add_weighted_edges_from(edges_list)"
   ]
  },
  {
   "cell_type": "code",
   "execution_count": null,
   "metadata": {
    "collapsed": true
   },
   "outputs": [],
   "source": [
    "Gc = max(nx.connected_component_subgraphs(g), key=len)\n",
    "number_of_nodes(Gc)"
   ]
  },
  {
   "cell_type": "markdown",
   "metadata": {},
   "source": [
    "petide-binding preferences"
   ]
  },
  {
   "cell_type": "code",
   "execution_count": 11,
   "metadata": {
    "collapsed": false
   },
   "outputs": [
    {
     "name": "stdout",
     "output_type": "stream",
     "text": [
      "\n"
     ]
    },
    {
     "data": {
      "text/plain": [
       "array([[ 0.08,  0.04,  0.09,  0.09,  0.08,  0.06,  0.08,  0.08,  0.12],\n",
       "       [ 0.01,  0.  ,  0.02,  0.03,  0.03,  0.03,  0.02,  0.02,  0.01],\n",
       "       [ 0.  ,  0.  ,  0.05,  0.07,  0.03,  0.03,  0.03,  0.02,  0.  ],\n",
       "       [ 0.01,  0.  ,  0.03,  0.08,  0.04,  0.03,  0.04,  0.06,  0.  ],\n",
       "       [ 0.11,  0.02,  0.07,  0.04,  0.07,  0.06,  0.08,  0.07,  0.01],\n",
       "       [ 0.06,  0.01,  0.05,  0.08,  0.07,  0.04,  0.04,  0.06,  0.03],\n",
       "       [ 0.02,  0.  ,  0.02,  0.02,  0.03,  0.02,  0.03,  0.02,  0.  ],\n",
       "       [ 0.06,  0.08,  0.07,  0.04,  0.06,  0.08,  0.06,  0.04,  0.11],\n",
       "       [ 0.07,  0.  ,  0.01,  0.03,  0.03,  0.02,  0.02,  0.03,  0.  ],\n",
       "       [ 0.15,  0.55,  0.19,  0.1 ,  0.14,  0.2 ,  0.15,  0.14,  0.28],\n",
       "       [ 0.04,  0.1 ,  0.05,  0.02,  0.02,  0.03,  0.03,  0.02,  0.03],\n",
       "       [ 0.02,  0.  ,  0.03,  0.04,  0.03,  0.04,  0.03,  0.03,  0.  ],\n",
       "       [ 0.  ,  0.  ,  0.04,  0.06,  0.03,  0.06,  0.07,  0.08,  0.01],\n",
       "       [ 0.03,  0.05,  0.04,  0.03,  0.03,  0.03,  0.03,  0.03,  0.  ],\n",
       "       [ 0.04,  0.  ,  0.01,  0.03,  0.04,  0.02,  0.02,  0.03,  0.  ],\n",
       "       [ 0.09,  0.04,  0.07,  0.09,  0.07,  0.07,  0.07,  0.09,  0.04],\n",
       "       [ 0.05,  0.03,  0.04,  0.05,  0.05,  0.06,  0.05,  0.06,  0.04],\n",
       "       [ 0.07,  0.07,  0.06,  0.05,  0.09,  0.09,  0.07,  0.06,  0.31],\n",
       "       [ 0.02,  0.  ,  0.03,  0.01,  0.02,  0.01,  0.02,  0.01,  0.  ],\n",
       "       [ 0.06,  0.  ,  0.04,  0.03,  0.04,  0.02,  0.05,  0.05,  0.  ]])"
      ]
     },
     "execution_count": 11,
     "metadata": {},
     "output_type": "execute_result"
    }
   ],
   "source": [
    "freq = np.zeros((20,9))\n",
    "aa = {'A': 0, 'C': 1, 'D': 2, 'E': 3, 'F': 4, 'G': 5, 'H': 6, 'I': 7,\\\n",
    "      'K': 8, 'L': 9, 'M': 10, 'N': 11, 'P': 12, 'Q': 13, 'R': 14,\\\n",
    "      'S': 15, 'T': 16, 'V': 17, 'W': 18, 'Y': 19}\n",
    "\n",
    "for line in tqdm_notebook(binding['Peptide']):\n",
    "    for i, a in enumerate(line):\n",
    "        try:\n",
    "            freq[int(aa[a]), i] = freq[aa[a],i]+1\n",
    "        except KeyError:\n",
    "            pass\n",
    "freq_norm = np.true_divide(freq, 409088)\n",
    "freq_norm_r = np.round(freq_norm, 2)\n",
    "freq_norm_r"
   ]
  },
  {
   "cell_type": "code",
   "execution_count": 12,
   "metadata": {
    "collapsed": false
   },
   "outputs": [],
   "source": [
    "aa_df = pd.DataFrame(freq_norm_r, index=[i for i in sorted(aa.keys())], columns=np.arange(1,10))"
   ]
  },
  {
   "cell_type": "code",
   "execution_count": 13,
   "metadata": {
    "collapsed": false,
    "scrolled": false
   },
   "outputs": [
    {
     "data": {
      "image/png": "[encoded data removed]",
      "text/plain": [
       "<matplotlib.figure.Figure at 0x7fbc8832fd50>"
      ]
     },
     "metadata": {},
     "output_type": "display_data"
    }
   ],
   "source": [
    "fig = plt.figure(figsize=(6,10))\n",
    "ax = sns.heatmap(aa_df)"
   ]
  },
  {
   "cell_type": "code",
   "execution_count": 5,
   "metadata": {
    "collapsed": false
   },
   "outputs": [
    {
     "name": "stdout",
     "output_type": "stream",
     "text": [
      "\n"
     ]
    },
    {
     "data": {
      "text/plain": [
       "array([[ 0.07,  0.07,  0.07,  0.07,  0.07,  0.07,  0.07,  0.07,  0.07],\n",
       "       [ 0.02,  0.02,  0.02,  0.02,  0.02,  0.02,  0.02,  0.02,  0.02],\n",
       "       [ 0.05,  0.05,  0.05,  0.05,  0.05,  0.05,  0.05,  0.05,  0.05],\n",
       "       [ 0.07,  0.07,  0.07,  0.07,  0.07,  0.07,  0.07,  0.07,  0.07],\n",
       "       [ 0.04,  0.04,  0.04,  0.04,  0.04,  0.04,  0.04,  0.04,  0.04],\n",
       "       [ 0.07,  0.07,  0.07,  0.07,  0.07,  0.07,  0.07,  0.07,  0.07],\n",
       "       [ 0.03,  0.03,  0.03,  0.03,  0.03,  0.03,  0.03,  0.03,  0.03],\n",
       "       [ 0.04,  0.04,  0.04,  0.04,  0.04,  0.04,  0.04,  0.04,  0.04],\n",
       "       [ 0.06,  0.06,  0.06,  0.06,  0.06,  0.06,  0.06,  0.06,  0.06],\n",
       "       [ 0.1 ,  0.1 ,  0.1 ,  0.1 ,  0.1 ,  0.1 ,  0.1 ,  0.1 ,  0.1 ],\n",
       "       [ 0.02,  0.02,  0.02,  0.02,  0.02,  0.02,  0.02,  0.02,  0.02],\n",
       "       [ 0.04,  0.04,  0.04,  0.04,  0.04,  0.04,  0.04,  0.04,  0.04],\n",
       "       [ 0.06,  0.06,  0.06,  0.06,  0.06,  0.06,  0.06,  0.06,  0.06],\n",
       "       [ 0.05,  0.05,  0.05,  0.05,  0.05,  0.05,  0.05,  0.05,  0.05],\n",
       "       [ 0.06,  0.06,  0.06,  0.06,  0.06,  0.06,  0.06,  0.06,  0.06],\n",
       "       [ 0.08,  0.08,  0.08,  0.08,  0.08,  0.08,  0.08,  0.08,  0.08],\n",
       "       [ 0.05,  0.05,  0.05,  0.05,  0.05,  0.05,  0.05,  0.05,  0.05],\n",
       "       [ 0.06,  0.06,  0.06,  0.06,  0.06,  0.06,  0.06,  0.06,  0.06],\n",
       "       [ 0.01,  0.01,  0.01,  0.01,  0.01,  0.01,  0.01,  0.01,  0.01],\n",
       "       [ 0.03,  0.03,  0.03,  0.03,  0.03,  0.03,  0.03,  0.03,  0.03]])"
      ]
     },
     "execution_count": 5,
     "metadata": {},
     "output_type": "execute_result"
    }
   ],
   "source": [
    "freq = np.zeros((20,9))\n",
    "aa = {'A': 0, 'C': 1, 'D': 2, 'E': 3, 'F': 4, 'G': 5, 'H': 6, 'I': 7,\\\n",
    "      'K': 8, 'L': 9, 'M': 10, 'N': 11, 'P': 12, 'Q': 13, 'R': 14,\\\n",
    "      'S': 15, 'T': 16, 'V': 17, 'W': 18, 'Y': 19}\n",
    "\n",
    "for line in tqdm_notebook(data['Peptide']):\n",
    "    for i, a in enumerate(line):\n",
    "        try:\n",
    "            freq[int(aa[a]), i] = freq[aa[a],i]+1\n",
    "        except KeyError:\n",
    "            pass\n",
    "freq_norm = np.true_divide(freq, 10379091)\n",
    "freq_norm_r = np.round(freq_norm, 2)\n",
    "freq_norm_r"
   ]
  },
  {
   "cell_type": "code",
   "execution_count": 9,
   "metadata": {
    "collapsed": false
   },
   "outputs": [
    {
     "data": {
      "image/png": "[encoded data removed]",
      "text/plain": [
       "<matplotlib.figure.Figure at 0x7fbc88343e10>"
      ]
     },
     "metadata": {},
     "output_type": "display_data"
    }
   ],
   "source": [
    "aa_df = pd.DataFrame(freq_norm_r, index=[i for i in sorted(aa.keys())], columns=np.arange(1,10))\n",
    "fig = plt.figure(figsize=(6,10))\n",
    "ax = sns.heatmap(aa_df)"
   ]
  },
  {
   "cell_type": "code",
   "execution_count": 3,
   "metadata": {
    "collapsed": false
   },
   "outputs": [],
   "source": [
    "def make_prediction(file):\n",
    "    file1 = file\n",
    "    file2 = 'output/human_peptides.txt'\n",
    "    exceptions = 0\n",
    "    with open(file1, 'w+') as output:\n",
    "        output.write('Allele,Peptide,Prediction')\n",
    "        output.write('\\n')\n",
    "        with open(file2, 'r') as peptides:\n",
    "            for line in tqdm_notebook(peptides.readlines()):\n",
    "                s = line.rstrip()\n",
    "                try:\n",
    "                    prediction = predict(alleles=[file1.split('/')[1].strip('.csv')], peptides=[s])\n",
    "                    output.write('{0},{1},{2}'.format(prediction.Allele.iloc[0], \\\n",
    "                                                    prediction.Peptide.iloc[0], prediction.Prediction.iloc[0]))\n",
    "                    output.write('\\n')\n",
    "                except KeyError:\n",
    "                    exceptions += 1\n",
    "                    if (exceptions%10 == 0):\n",
    "                        print(\".\", end='')\n",
    "    return '{} exceptions occured'.format(exceptions)\n",
    "\n",
    "aa = {'A': 0, 'C': 1, 'D': 2, 'E': 3, 'F': 4, 'G': 5, 'H': 6, 'I': 7,\\\n",
    "      'K': 8, 'L': 9, 'M': 10, 'N': 11, 'P': 12, 'Q': 13, 'R': 14,\\\n",
    "      'S': 15, 'T': 16, 'V': 17, 'W': 18, 'Y': 19}\n",
    "\n",
    "def count_freq(filepath):\n",
    "    if \"NMP\" in filepath:\n",
    "        data = read_NMP(filepath)\n",
    "    else:\n",
    "        data = pd.read_csv(filepath, index_col=False)\n",
    "    binding = data[data[\"Prediction\"] <= 500]\n",
    "    freq = np.zeros((20,9))\n",
    "    for line in tqdm_notebook(binding['Peptide']):\n",
    "        for i, a in enumerate(line):\n",
    "            try:\n",
    "                freq[int(aa[a]), i] = freq[aa[a],i]+1\n",
    "            except KeyError:\n",
    "                pass\n",
    "    freq_norm = np.true_divide(freq, 409088)\n",
    "    freq_norm_r = np.round(freq_norm, 2)\n",
    "    aa_df = pd.DataFrame(freq_norm_r, index=[i for i in sorted(aa.keys())], columns=np.arange(1,10))\n",
    "    return aa_df\n",
    "\n",
    "def plot_freq(aa_df):\n",
    "    fig = plt.figure(figsize=(6,10))\n",
    "    ax = sns.heatmap(aa_df)\n",
    "\n",
    "def plot_entr(input_df):\n",
    "    sns.set_context(\"notebook\")\n",
    "    df = pd.DataFrame([stats.entropy(input_df[i], base=2) for i in input_df.columns], columns = ['entropy'])\n",
    "    df['position'] = input_df.columns\n",
    "    clrs = ['grey' if x > 3 else 'red' for x in df['entropy']]\n",
    "    sns.barplot(data=df, x='position', y='entropy', palette = clrs)\n",
    "    \n",
    "def read_NMP(filepath):\n",
    "    with open(filepath, \"r\") as file:\n",
    "        d = file.readlines()\n",
    "        data = [x.split() for x in d[44:-5]]\n",
    "        for i, line in tqdm_notebook(enumerate(file)):\n",
    "            if i == 44:\n",
    "                columns = line.split()\n",
    "                break\n",
    "    df = pd.DataFrame(data, columns=columns)\n",
    "    df = df.ix[2:,(\"HLA\", \"Peptide\", \"Aff(nM)\")]\n",
    "    df.columns = ['Allele', 'Peptide', 'Prediction']\n",
    "    df.index = range(len(df))\n",
    "    return df"
   ]
  },
  {
   "cell_type": "code",
   "execution_count": 3,
   "metadata": {
    "collapsed": false
   },
   "outputs": [
    {
     "name": "stdout",
     "output_type": "stream",
     "text": [
      ".........................\n"
     ]
    },
    {
     "data": {
      "text/plain": [
       "'255 exceptions occured'"
      ]
     },
     "execution_count": 3,
     "metadata": {},
     "output_type": "execute_result"
    }
   ],
   "source": [
    "make_prediction('output/HLA-A0217.csv')"
   ]
  },
  {
   "cell_type": "code",
   "execution_count": 4,
   "metadata": {
    "collapsed": false
   },
   "outputs": [
    {
     "name": "stdout",
     "output_type": "stream",
     "text": [
      "\n"
     ]
    },
    {
     "data": {
      "image/png": "[encoded data removed]",
      "text/plain": [
       "<matplotlib.figure.Figure at 0x7fe0965bc8d0>"
      ]
     },
     "metadata": {},
     "output_type": "display_data"
    }
   ],
   "source": [
    "freq_HLA_A0217 = count_freq('output/HLA-A0217.csv')\n",
    "plot_freq(freq_HLA_A0217)\n",
    "# Doesn't really look like\n",
    "# https://link.springer.com/article/10.1007/s002510050538\n",
    "# Although it is tough to compare, coz they didn't bother themselves normalizing the data"
   ]
  },
  {
   "cell_type": "code",
   "execution_count": 5,
   "metadata": {
    "collapsed": false
   },
   "outputs": [
    {
     "data": {
      "image/png": "[encoded data removed]",
      "text/plain": [
       "<matplotlib.figure.Figure at 0x7fe0965bc860>"
      ]
     },
     "metadata": {},
     "output_type": "display_data"
    }
   ],
   "source": [
    "plot_entr(freq_HLA_A0217)"
   ]
  },
  {
   "cell_type": "markdown",
   "metadata": {},
   "source": [
    "<img style=\"float: left;\" src=\"data/HLA-A2anchors.png\">"
   ]
  },
  {
   "cell_type": "code",
   "execution_count": 4,
   "metadata": {
    "collapsed": false
   },
   "outputs": [
    {
     "name": "stdout",
     "output_type": "stream",
     "text": [
      ".........................\n"
     ]
    },
    {
     "data": {
      "text/plain": [
       "'255 exceptions occured'"
      ]
     },
     "execution_count": 4,
     "metadata": {},
     "output_type": "execute_result"
    }
   ],
   "source": [
    "make_prediction('output/HLA-B1402.csv')"
   ]
  },
  {
   "cell_type": "code",
   "execution_count": 6,
   "metadata": {
    "collapsed": false,
    "scrolled": false
   },
   "outputs": [
    {
     "name": "stdout",
     "output_type": "stream",
     "text": [
      "\n"
     ]
    },
    {
     "data": {
      "image/png": "[encoded data removed]",
      "text/plain": [
       "<matplotlib.figure.Figure at 0x7fe07570ef28>"
      ]
     },
     "metadata": {},
     "output_type": "display_data"
    }
   ],
   "source": [
    "freq_HLA_B1402 = count_freq('output/HLA-B1402.csv')\n",
    "plot_freq(freq_HLA_B1402)\n",
    "# http://www.jbc.org/content/269/51/32426.full.pdf"
   ]
  },
  {
   "cell_type": "code",
   "execution_count": 7,
   "metadata": {
    "collapsed": false
   },
   "outputs": [
    {
     "data": {
      "image/png": "[encoded data removed]",
      "text/plain": [
       "<matplotlib.figure.Figure at 0x7fe06bbe6780>"
      ]
     },
     "metadata": {},
     "output_type": "display_data"
    }
   ],
   "source": [
    "plot_entr(freq_HLA_B1402)"
   ]
  },
  {
   "cell_type": "code",
   "execution_count": 8,
   "metadata": {
    "collapsed": false
   },
   "outputs": [
    {
     "name": "stdout",
     "output_type": "stream",
     "text": [
      "\n"
     ]
    },
    {
     "data": {
      "image/png": "[encoded data removed]",
      "text/plain": [
       "<matplotlib.figure.Figure at 0x7fe07156bba8>"
      ]
     },
     "metadata": {},
     "output_type": "display_data"
    }
   ],
   "source": [
    "freq_HLA_A0201 = count_freq('output/HLA-A0201.csv')\n",
    "plot_freq(freq_HLA_A0201)"
   ]
  },
  {
   "cell_type": "code",
   "execution_count": 9,
   "metadata": {
    "collapsed": false
   },
   "outputs": [
    {
     "data": {
      "image/png": "[encoded data removed]",
      "text/plain": [
       "<matplotlib.figure.Figure at 0x7fe0957eb400>"
      ]
     },
     "metadata": {},
     "output_type": "display_data"
    }
   ],
   "source": [
    "plot_entr(freq_HLA_A0201)"
   ]
  },
  {
   "cell_type": "code",
   "execution_count": null,
   "metadata": {
    "collapsed": true
   },
   "outputs": [],
   "source": []
  },
  {
   "cell_type": "code",
   "execution_count": 10,
   "metadata": {
    "collapsed": false
   },
   "outputs": [
    {
     "name": "stdout",
     "output_type": "stream",
     "text": [
      ".........................\n"
     ]
    },
    {
     "data": {
      "text/plain": [
       "'255 exceptions occured'"
      ]
     },
     "execution_count": 10,
     "metadata": {},
     "output_type": "execute_result"
    }
   ],
   "source": [
    "make_prediction('output/HLA-A0202.csv')"
   ]
  },
  {
   "cell_type": "code",
   "execution_count": 13,
   "metadata": {
    "collapsed": false
   },
   "outputs": [
    {
     "name": "stdout",
     "output_type": "stream",
     "text": [
      "\n"
     ]
    },
    {
     "data": {
      "image/png": "[encoded data removed]",
      "text/plain": [
       "<matplotlib.figure.Figure at 0x7fe05e92d9e8>"
      ]
     },
     "metadata": {},
     "output_type": "display_data"
    }
   ],
   "source": [
    "freq_HLA_A0202 = count_freq('output/HLA-A0202.csv')\n",
    "plot_freq(freq_HLA_A0202)"
   ]
  },
  {
   "cell_type": "code",
   "execution_count": 14,
   "metadata": {
    "collapsed": false
   },
   "outputs": [
    {
     "data": {
      "image/png": "[encoded data removed]",
      "text/plain": [
       "<matplotlib.figure.Figure at 0x7fe077c270b8>"
      ]
     },
     "metadata": {},
     "output_type": "display_data"
    }
   ],
   "source": [
    "plot_entr(freq_HLA_A0202)"
   ]
  },
  {
   "cell_type": "code",
   "execution_count": null,
   "metadata": {
    "collapsed": false
   },
   "outputs": [
    {
     "name": "stderr",
     "output_type": "stream",
     "text": [
      "WARNING (theano.gof.compilelock): Overriding existing lock by dead process '10866' (I am process '4936')\n",
      "WARNING:theano.gof.compilelock:Overriding existing lock by dead process '10866' (I am process '4936')\n"
     ]
    }
   ],
   "source": [
    "# make_prediction('output/HLA-A0204.csv') mhcflurry doesn't predict this one\n",
    "# make_prediction('output/HLA-A0205.csv') neither this one\n",
    "make_prediction('output/HLA-A0206.csv')"
   ]
  },
  {
   "cell_type": "code",
   "execution_count": 4,
   "metadata": {
    "collapsed": false
   },
   "outputs": [
    {
     "data": {
      "text/plain": [
       "(581480, 3)"
      ]
     },
     "execution_count": 4,
     "metadata": {},
     "output_type": "execute_result"
    }
   ],
   "source": [
    "df = pd.read_csv('output/HLA-A0206.csv')\n",
    "df.shape"
   ]
  },
  {
   "cell_type": "code",
   "execution_count": 8,
   "metadata": {
    "collapsed": false
   },
   "outputs": [
    {
     "name": "stdout",
     "output_type": "stream",
     "text": [
      "\n"
     ]
    },
    {
     "data": {
      "image/png": "[encoded data removed]",
      "text/plain": [
       "<matplotlib.figure.Figure at 0x7f32f6ed3a58>"
      ]
     },
     "metadata": {},
     "output_type": "display_data"
    }
   ],
   "source": [
    "freq_HLA_A0206 = count_freq('output/HLA-A0206.csv')\n",
    "plot_freq(freq_HLA_A0206)"
   ]
  },
  {
   "cell_type": "code",
   "execution_count": 9,
   "metadata": {
    "collapsed": false
   },
   "outputs": [
    {
     "data": {
      "image/png": "[encoded data removed]",
      "text/plain": [
       "<matplotlib.figure.Figure at 0x7f32f5c6f668>"
      ]
     },
     "metadata": {},
     "output_type": "display_data"
    }
   ],
   "source": [
    "plot_entr(freq_HLA_A0206) # Looks suspiciously"
   ]
  },
  {
   "cell_type": "markdown",
   "metadata": {
    "collapsed": true
   },
   "source": [
    "NetMHCpan predictions"
   ]
  },
  {
   "cell_type": "code",
   "execution_count": null,
   "metadata": {
    "collapsed": true
   },
   "outputs": [],
   "source": [
    "# freq_HLA_A0201 = count_freq('output/HLA-A0201.csv')\n",
    "# plot_freq(freq_HLA_A0201)\n",
    "df = read_NMP(\"output/HLA-A02:01_NMP.txt\")"
   ]
  }
 ],
 "metadata": {
  "kernelspec": {
   "display_name": "Python 3",
   "language": "python",
   "name": "python3"
  },
  "language_info": {
   "codemirror_mode": {
    "name": "ipython",
    "version": 3
   },
   "file_extension": ".py",
   "mimetype": "text/x-python",
   "name": "python",
   "nbconvert_exporter": "python",
   "pygments_lexer": "ipython3",
   "version": "3.6.0"
  }
 },
 "nbformat": 4,
 "nbformat_minor": 2
}
