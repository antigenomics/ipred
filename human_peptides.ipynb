{
 "cells": [
  {
   "cell_type": "code",
   "execution_count": 1,
   "metadata": {
    "collapsed": false
   },
   "outputs": [
    {
     "name": "stdout",
     "output_type": "stream",
     "text": [
      "Populating the interactive namespace from numpy and matplotlib\n"
     ]
    },
    {
     "name": "stderr",
     "output_type": "stream",
     "text": [
      "Using Theano backend.\n",
      "/home/vts/anaconda3/lib/python3.6/site-packages/sklearn/cross_validation.py:44: DeprecationWarning: This module was deprecated in version 0.18 in favor of the model_selection module into which all the refactored classes and functions are moved. Also note that the interface of the new CV iterators are different from that of this module. This module will be removed in 0.20.\n",
      "  \"This module will be removed in 0.20.\", DeprecationWarning)\n"
     ]
    }
   ],
   "source": [
    "%matplotlib inline\n",
    "%pylab inline\n",
    "import os\n",
    "from tqdm import tqdm, tqdm_notebook\n",
    "from tqdm import trange\n",
    "\n",
    "import pandas as pd\n",
    "import numpy as np\n",
    "\n",
    "import matplotlib.pyplot as plt\n",
    "import pylab as pl\n",
    "\n",
    "from Bio import SeqIO\n",
    "\n",
    "from mhcflurry import predict\n",
    "from mhcflurry import class1_allele_specific"
   ]
  },
  {
   "cell_type": "markdown",
   "metadata": {},
   "source": [
    "Loading files:"
   ]
  },
  {
   "cell_type": "code",
   "execution_count": 2,
   "metadata": {
    "collapsed": false
   },
   "outputs": [],
   "source": [
    "record_dict = SeqIO.index(\"data/UP000005640_9606.fasta\", \"fasta\")\n",
    "# record_dict = SeqIO.to_dict(SeqIO.parse(\"data/uniprot_sprot.fasta\", \"fasta\"))"
   ]
  },
  {
   "cell_type": "code",
   "execution_count": 3,
   "metadata": {
    "collapsed": false
   },
   "outputs": [
    {
     "data": {
      "text/plain": [
       "['tr|A0A024R161|A0A024R161_HUMAN',\n",
       " 'tr|A0A075B6F4|A0A075B6F4_HUMAN',\n",
       " 'tr|A0A075B6H5|A0A075B6H5_HUMAN',\n",
       " 'tr|A0A075B6H7|A0A075B6H7_HUMAN',\n",
       " 'tr|A0A075B6H8|A0A075B6H8_HUMAN',\n",
       " 'sp|A0A075B6H9|LV469_HUMAN',\n",
       " 'sp|A0A075B6I0|LV861_HUMAN',\n",
       " 'sp|A0A075B6I1|LV460_HUMAN',\n",
       " 'tr|A0A075B6I3|A0A075B6I3_HUMAN']"
      ]
     },
     "execution_count": 3,
     "metadata": {},
     "output_type": "execute_result"
    }
   ],
   "source": [
    "list(record_dict.keys())[:9]"
   ]
  },
  {
   "cell_type": "code",
   "execution_count": 4,
   "metadata": {
    "collapsed": false
   },
   "outputs": [
    {
     "data": {
      "text/plain": [
       "9"
      ]
     },
     "execution_count": 4,
     "metadata": {},
     "output_type": "execute_result"
    }
   ],
   "source": [
    "i = 2\n",
    "len(record_dict['tr|A0A024R161|A0A024R161_HUMAN'].seq[i:i+9])"
   ]
  },
  {
   "cell_type": "code",
   "execution_count": 5,
   "metadata": {
    "collapsed": false
   },
   "outputs": [],
   "source": [
    "filename = 'output/peptides_raw.txt'\n",
    "target = open(filename, 'w')"
   ]
  },
  {
   "cell_type": "code",
   "execution_count": 6,
   "metadata": {
    "collapsed": false
   },
   "outputs": [
    {
     "name": "stderr",
     "output_type": "stream",
     "text": [
      "100%|██████████| 21033/21033 [11:02<00:00, 31.76it/s]  \n"
     ]
    }
   ],
   "source": [
    "for key in tqdm(record_dict):\n",
    "    lines = []\n",
    "    for i in range(len(record_dict[key].seq)-9):\n",
    "        lines.append(str(record_dict[key].seq[i:i+9]))\n",
    "    for i in range(len(lines)):\n",
    "        target.write(lines[i])\n",
    "        target.write('\\n')"
   ]
  },
  {
   "cell_type": "code",
   "execution_count": 7,
   "metadata": {
    "collapsed": true
   },
   "outputs": [],
   "source": [
    "target.close()"
   ]
  },
  {
   "cell_type": "code",
   "execution_count": 8,
   "metadata": {
    "collapsed": false
   },
   "outputs": [
    {
     "data": {
      "text/plain": [
       "(11314571, 1)"
      ]
     },
     "execution_count": 8,
     "metadata": {},
     "output_type": "execute_result"
    }
   ],
   "source": [
    "df = pd.read_csv('output/peptides_raw.txt', index_col=False)\n",
    "df.shape"
   ]
  },
  {
   "cell_type": "code",
   "execution_count": 9,
   "metadata": {
    "collapsed": true
   },
   "outputs": [],
   "source": [
    "! sort output/peptides_raw.txt | uniq > output/human_peptides.txt"
   ]
  },
  {
   "cell_type": "code",
   "execution_count": 2,
   "metadata": {
    "collapsed": false
   },
   "outputs": [
    {
     "data": {
      "text/plain": [
       "(10379345, 1)"
      ]
     },
     "execution_count": 2,
     "metadata": {},
     "output_type": "execute_result"
    }
   ],
   "source": [
    "df = pd.read_csv('output/human_peptides.txt', index_col=False)\n",
    "df.columns = ['Peptide']\n",
    "df.shape"
   ]
  },
  {
   "cell_type": "code",
   "execution_count": null,
   "metadata": {
    "collapsed": false
   },
   "outputs": [
    {
     "name": "stdout",
     "output_type": "stream",
     "text": [
      "\n"
     ]
    }
   ],
   "source": [
    "file1 = 'output/HLA-A0201.csv'\n",
    "file2 = 'output/human_peptides.txt'\n",
    "exceptions = 0\n",
    "with open(file1, 'w') as output:\n",
    "    output.write('Allele,Peptide,Prediction')\n",
    "    output.write('\\n')\n",
    "    with open(file2, 'r') as file:\n",
    "        for line in tqdm_notebook(file):\n",
    "            s = file.readline()\n",
    "            s = s.rstrip()\n",
    "            try:\n",
    "                prediction = predict(alleles=['HLA-A0201'], peptides=[s])\n",
    "                output.write('{0},{1},{2}'.format(prediction.Allele.iloc[0], \\\n",
    "                                                prediction.Peptide.iloc[0], prediction.Prediction.iloc[0]))\n",
    "                output.write('\\n')\n",
    "            except KeyError:\n",
    "                exceptions += 1\n",
    "                \n",
    "print('{} exceptions occured'.format(exceptions))"
   ]
  },
  {
   "cell_type": "code",
   "execution_count": 49,
   "metadata": {
    "collapsed": false
   },
   "outputs": [
    {
     "data": {
      "text/plain": [
       "Peptide    AEIPHRSGK\n",
       "Name: 139801, dtype: object"
      ]
     },
     "execution_count": 49,
     "metadata": {},
     "output_type": "execute_result"
    }
   ],
   "source": [
    "df.iloc[139801]"
   ]
  }
 ],
 "metadata": {
  "kernelspec": {
   "display_name": "Python 3",
   "language": "python",
   "name": "python3"
  },
  "language_info": {
   "codemirror_mode": {
    "name": "ipython",
    "version": 3
   },
   "file_extension": ".py",
   "mimetype": "text/x-python",
   "name": "python",
   "nbconvert_exporter": "python",
   "pygments_lexer": "ipython3",
   "version": "3.6.0"
  },
  "widgets": {
   "state": {
    "2024d978edcb4d1ebaa7f70e404fb8bd": {
     "views": [
      {
       "cell_index": 11
      }
     ]
    }
   },
   "version": "1.2.0"
  }
 },
 "nbformat": 4,
 "nbformat_minor": 2
}
