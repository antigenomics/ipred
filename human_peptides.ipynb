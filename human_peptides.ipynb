{
 "cells": [
  {
   "cell_type": "code",
   "execution_count": 16,
   "metadata": {
    "collapsed": false
   },
   "outputs": [
    {
     "name": "stdout",
     "output_type": "stream",
     "text": [
      "Populating the interactive namespace from numpy and matplotlib\n"
     ]
    }
   ],
   "source": [
    "%matplotlib inline\n",
    "%pylab inline\n",
    "import os\n",
    "from tqdm import tqdm, tqdm_notebook\n",
    "from tqdm import trange\n",
    "\n",
    "import pandas as pd\n",
    "import numpy as np\n",
    "\n",
    "import matplotlib.pyplot as plt\n",
    "import pylab as pl\n",
    "\n",
    "from Bio import SeqIO\n",
    "\n",
    "from mhcflurry import predict\n",
    "from mhcflurry import class1_allele_specific\n",
    "\n",
    "from __future__ import print_function"
   ]
  },
  {
   "cell_type": "code",
   "execution_count": 2,
   "metadata": {
    "collapsed": true
   },
   "outputs": [],
   "source": [
    "! export KERAS_BACKEND=theano"
   ]
  },
  {
   "cell_type": "markdown",
   "metadata": {},
   "source": [
    "Loading files:"
   ]
  },
  {
   "cell_type": "code",
   "execution_count": 4,
   "metadata": {
    "collapsed": false
   },
   "outputs": [],
   "source": [
    "record_dict = SeqIO.index(\"data/UP000005640_9606.fasta\", \"fasta\")\n",
    "# record_dict = SeqIO.to_dict(SeqIO.parse(\"data/uniprot_sprot.fasta\", \"fasta\"))"
   ]
  },
  {
   "cell_type": "code",
   "execution_count": 5,
   "metadata": {
    "collapsed": false
   },
   "outputs": [
    {
     "data": {
      "text/plain": [
       "['sp|P38646|GRP75_HUMAN',\n",
       " 'sp|P09958|FURIN_HUMAN',\n",
       " 'sp|O60383|GDF9_HUMAN',\n",
       " 'sp|P30511|HLAF_HUMAN',\n",
       " 'sp|P50995|ANX11_HUMAN',\n",
       " 'sp|P15880|RS2_HUMAN',\n",
       " 'sp|Q7RTX7|CTSR4_HUMAN',\n",
       " 'sp|Q9NPZ5|B3GA2_HUMAN',\n",
       " 'tr|Q5TEC6|Q5TEC6_HUMAN']"
      ]
     },
     "execution_count": 5,
     "metadata": {},
     "output_type": "execute_result"
    }
   ],
   "source": [
    "list(record_dict.keys())[:9]"
   ]
  },
  {
   "cell_type": "code",
   "execution_count": 6,
   "metadata": {
    "collapsed": false
   },
   "outputs": [
    {
     "data": {
      "text/plain": [
       "9"
      ]
     },
     "execution_count": 6,
     "metadata": {},
     "output_type": "execute_result"
    }
   ],
   "source": [
    "i = 2\n",
    "len(record_dict['tr|A0A024R161|A0A024R161_HUMAN'].seq[i:i+9])"
   ]
  },
  {
   "cell_type": "code",
   "execution_count": 15,
   "metadata": {
    "collapsed": false
   },
   "outputs": [],
   "source": [
    "filename = 'output/peptides_raw.txt'\n",
    "target = open(filename, 'w+')"
   ]
  },
  {
   "cell_type": "code",
   "execution_count": 16,
   "metadata": {
    "collapsed": false
   },
   "outputs": [
    {
     "name": "stderr",
     "output_type": "stream",
     "text": [
      "100%|██████████| 21033/21033 [09:11<00:00, 45.85it/s]   \n"
     ]
    }
   ],
   "source": [
    "for key in tqdm(record_dict):\n",
    "    lines = []\n",
    "    for i in range(len(record_dict[key].seq)-9):\n",
    "        lines.append(str(record_dict[key].seq[i:i+9]))\n",
    "    for i in range(len(lines)):\n",
    "        target.write(lines[i])\n",
    "        target.write('\\n')"
   ]
  },
  {
   "cell_type": "code",
   "execution_count": 17,
   "metadata": {
    "collapsed": true
   },
   "outputs": [],
   "source": [
    "target.close()"
   ]
  },
  {
   "cell_type": "code",
   "execution_count": 18,
   "metadata": {
    "collapsed": false
   },
   "outputs": [
    {
     "data": {
      "text/plain": [
       "(11314571, 1)"
      ]
     },
     "execution_count": 18,
     "metadata": {},
     "output_type": "execute_result"
    }
   ],
   "source": [
    "df = pd.read_csv('output/peptides_raw.txt', index_col=False)\n",
    "df.shape"
   ]
  },
  {
   "cell_type": "code",
   "execution_count": 19,
   "metadata": {
    "collapsed": true
   },
   "outputs": [],
   "source": [
    "! sort output/peptides_raw.txt | uniq > output/human_peptides.txt"
   ]
  },
  {
   "cell_type": "code",
   "execution_count": 2,
   "metadata": {
    "collapsed": false
   },
   "outputs": [
    {
     "data": {
      "text/plain": [
       "(10379345, 1)"
      ]
     },
     "execution_count": 2,
     "metadata": {},
     "output_type": "execute_result"
    }
   ],
   "source": [
    "df = pd.read_csv('output/human_peptides.txt', index_col=False)\n",
    "df.columns = ['Peptide']\n",
    "df.shape"
   ]
  },
  {
   "cell_type": "code",
   "execution_count": null,
   "metadata": {
    "collapsed": false,
    "scrolled": false
   },
   "outputs": [],
   "source": [
    "file1 = 'output/HLA-A0201.csv'\n",
    "file2 = 'output/human_peptides.txt'\n",
    "exceptions = 0\n",
    "with open(file1, 'w') as output:\n",
    "    output.write('Allele,Peptide,Prediction')\n",
    "    output.write('\\n')\n",
    "    with open(file2, 'r') as peptides:\n",
    "        for line in tqdm_notebook(peptides.readlines()):\n",
    "            s = line.rstrip()\n",
    "            try:\n",
    "                prediction = predict(alleles=['HLA-A0201'], peptides=[s])\n",
    "                output.write('{0},{1},{2}'.format(prediction.Allele.iloc[0], \\\n",
    "                                                prediction.Peptide.iloc[0], prediction.Prediction.iloc[0]))\n",
    "                output.write('\\n')\n",
    "            except KeyError:\n",
    "                exceptions += 1\n",
    "                if (exceptions%10 == 0):\n",
    "                    print(\".\", end='')\n",
    "print('{} exceptions occured'.format(exceptions))"
   ]
  },
  {
   "cell_type": "code",
   "execution_count": 49,
   "metadata": {
    "collapsed": false
   },
   "outputs": [
    {
     "data": {
      "text/plain": [
       "Peptide    AEIPHRSGK\n",
       "Name: 139801, dtype: object"
      ]
     },
     "execution_count": 49,
     "metadata": {},
     "output_type": "execute_result"
    }
   ],
   "source": [
    "df.iloc[139801]"
   ]
  }
 ],
 "metadata": {
  "kernelspec": {
   "display_name": "Python 2",
   "language": "python",
   "name": "python2"
  },
  "language_info": {
   "codemirror_mode": {
    "name": "ipython",
    "version": 2
   },
   "file_extension": ".py",
   "mimetype": "text/x-python",
   "name": "python",
   "nbconvert_exporter": "python",
   "pygments_lexer": "ipython2",
   "version": "2.7.13"
  },
  "widgets": {
   "state": {
    "84fe46de986848dc855f35e303b116fc": {
     "views": [
      {
       "cell_index": 12
      }
     ]
    }
   },
   "version": "1.2.0"
  }
 },
 "nbformat": 4,
 "nbformat_minor": 2
}
