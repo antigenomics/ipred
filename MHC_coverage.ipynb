{
 "cells": [
  {
   "cell_type": "code",
   "execution_count": 1,
   "metadata": {
    "collapsed": true
   },
   "outputs": [],
   "source": [
    "%matplotlib inline\n",
    "import pandas as pd\n",
    "import numpy as np\n",
    "import matplotlib.pyplot as plt\n",
    "import seaborn as sns"
   ]
  },
  {
   "cell_type": "code",
   "execution_count": 2,
   "metadata": {
    "collapsed": false
   },
   "outputs": [
    {
     "data": {
      "text/html": [
       "<div>\n",
       "<table border=\"1\" class=\"dataframe\">\n",
       "  <thead>\n",
       "    <tr style=\"text-align: right;\">\n",
       "      <th></th>\n",
       "      <th>species</th>\n",
       "      <th>mhc</th>\n",
       "      <th>peptide_length</th>\n",
       "      <th>cv</th>\n",
       "      <th>sequence</th>\n",
       "      <th>inequality</th>\n",
       "      <th>meas</th>\n",
       "    </tr>\n",
       "  </thead>\n",
       "  <tbody>\n",
       "    <tr>\n",
       "      <th>0</th>\n",
       "      <td>cow</td>\n",
       "      <td>BoLAHD6</td>\n",
       "      <td>9</td>\n",
       "      <td>TBD</td>\n",
       "      <td>ALFYKDGKL</td>\n",
       "      <td>=</td>\n",
       "      <td>1.000000</td>\n",
       "    </tr>\n",
       "    <tr>\n",
       "      <th>1</th>\n",
       "      <td>cow</td>\n",
       "      <td>BoLAHD6</td>\n",
       "      <td>9</td>\n",
       "      <td>TBD</td>\n",
       "      <td>ALYEKKLAL</td>\n",
       "      <td>=</td>\n",
       "      <td>1.000000</td>\n",
       "    </tr>\n",
       "    <tr>\n",
       "      <th>2</th>\n",
       "      <td>cow</td>\n",
       "      <td>BoLAHD6</td>\n",
       "      <td>9</td>\n",
       "      <td>TBD</td>\n",
       "      <td>AMKDRFQPL</td>\n",
       "      <td>=</td>\n",
       "      <td>4.521706</td>\n",
       "    </tr>\n",
       "    <tr>\n",
       "      <th>3</th>\n",
       "      <td>cow</td>\n",
       "      <td>BoLAHD6</td>\n",
       "      <td>9</td>\n",
       "      <td>TBD</td>\n",
       "      <td>AQRELFFTL</td>\n",
       "      <td>=</td>\n",
       "      <td>1.000000</td>\n",
       "    </tr>\n",
       "    <tr>\n",
       "      <th>4</th>\n",
       "      <td>cow</td>\n",
       "      <td>BoLAHD6</td>\n",
       "      <td>9</td>\n",
       "      <td>TBD</td>\n",
       "      <td>FMKVKFEAL</td>\n",
       "      <td>=</td>\n",
       "      <td>1.576747</td>\n",
       "    </tr>\n",
       "  </tbody>\n",
       "</table>\n",
       "</div>"
      ],
      "text/plain": [
       "  species      mhc  peptide_length   cv   sequence inequality      meas\n",
       "0     cow  BoLAHD6               9  TBD  ALFYKDGKL          =  1.000000\n",
       "1     cow  BoLAHD6               9  TBD  ALYEKKLAL          =  1.000000\n",
       "2     cow  BoLAHD6               9  TBD  AMKDRFQPL          =  4.521706\n",
       "3     cow  BoLAHD6               9  TBD  AQRELFFTL          =  1.000000\n",
       "4     cow  BoLAHD6               9  TBD  FMKVKFEAL          =  1.576747"
      ]
     },
     "execution_count": 2,
     "metadata": {},
     "output_type": "execute_result"
    }
   ],
   "source": [
    "df = pd.read_csv(\"data/bdata.csv\")\n",
    "df.head()"
   ]
  },
  {
   "cell_type": "code",
   "execution_count": 3,
   "metadata": {
    "collapsed": false
   },
   "outputs": [
    {
     "data": {
      "text/plain": [
       "count    179692.000000\n",
       "mean          9.249293\n",
       "std           0.714603\n",
       "min           8.000000\n",
       "25%           9.000000\n",
       "50%           9.000000\n",
       "75%           9.000000\n",
       "max          30.000000\n",
       "Name: peptide_length, dtype: float64"
      ]
     },
     "execution_count": 3,
     "metadata": {},
     "output_type": "execute_result"
    }
   ],
   "source": [
    "df[\"peptide_length\"].describe()"
   ]
  },
  {
   "cell_type": "code",
   "execution_count": 3,
   "metadata": {
    "collapsed": false
   },
   "outputs": [
    {
     "data": {
      "text/html": [
       "<div>\n",
       "<table border=\"1\" class=\"dataframe\">\n",
       "  <thead>\n",
       "    <tr style=\"text-align: right;\">\n",
       "      <th></th>\n",
       "      <th>species</th>\n",
       "      <th>mhc</th>\n",
       "      <th>peptide_length</th>\n",
       "      <th>cv</th>\n",
       "      <th>sequence</th>\n",
       "      <th>inequality</th>\n",
       "      <th>meas</th>\n",
       "    </tr>\n",
       "  </thead>\n",
       "  <tbody>\n",
       "    <tr>\n",
       "      <th>9873</th>\n",
       "      <td>human</td>\n",
       "      <td>HLAA0101</td>\n",
       "      <td>8</td>\n",
       "      <td>TBD</td>\n",
       "      <td>AEMKTDAA</td>\n",
       "      <td>=</td>\n",
       "      <td>29766.651099</td>\n",
       "    </tr>\n",
       "    <tr>\n",
       "      <th>9874</th>\n",
       "      <td>human</td>\n",
       "      <td>HLAA0101</td>\n",
       "      <td>8</td>\n",
       "      <td>TBD</td>\n",
       "      <td>AFPTSCHM</td>\n",
       "      <td>&gt;</td>\n",
       "      <td>70422.535211</td>\n",
       "    </tr>\n",
       "    <tr>\n",
       "      <th>9875</th>\n",
       "      <td>human</td>\n",
       "      <td>HLAA0101</td>\n",
       "      <td>8</td>\n",
       "      <td>TBD</td>\n",
       "      <td>AQFSPQYL</td>\n",
       "      <td>&gt;</td>\n",
       "      <td>87719.298246</td>\n",
       "    </tr>\n",
       "    <tr>\n",
       "      <th>9876</th>\n",
       "      <td>human</td>\n",
       "      <td>HLAA0101</td>\n",
       "      <td>8</td>\n",
       "      <td>TBD</td>\n",
       "      <td>ASFCGSPY</td>\n",
       "      <td>=</td>\n",
       "      <td>51.400000</td>\n",
       "    </tr>\n",
       "    <tr>\n",
       "      <th>9877</th>\n",
       "      <td>human</td>\n",
       "      <td>HLAA0101</td>\n",
       "      <td>8</td>\n",
       "      <td>TBD</td>\n",
       "      <td>CCFHCQVC</td>\n",
       "      <td>&gt;</td>\n",
       "      <td>87719.298246</td>\n",
       "    </tr>\n",
       "  </tbody>\n",
       "</table>\n",
       "</div>"
      ],
      "text/plain": [
       "     species       mhc  peptide_length   cv  sequence inequality          meas\n",
       "9873   human  HLAA0101               8  TBD  AEMKTDAA          =  29766.651099\n",
       "9874   human  HLAA0101               8  TBD  AFPTSCHM          >  70422.535211\n",
       "9875   human  HLAA0101               8  TBD  AQFSPQYL          >  87719.298246\n",
       "9876   human  HLAA0101               8  TBD  ASFCGSPY          =     51.400000\n",
       "9877   human  HLAA0101               8  TBD  CCFHCQVC          >  87719.298246"
      ]
     },
     "execution_count": 3,
     "metadata": {},
     "output_type": "execute_result"
    }
   ],
   "source": [
    "df = df[df['species']=='human']\n",
    "df.head()"
   ]
  },
  {
   "cell_type": "code",
   "execution_count": 4,
   "metadata": {
    "collapsed": false
   },
   "outputs": [
    {
     "data": {
      "text/plain": [
       "count      118.000000\n",
       "mean      1287.567797\n",
       "std       1947.356141\n",
       "min          1.000000\n",
       "25%         36.000000\n",
       "50%        342.000000\n",
       "75%       1753.000000\n",
       "max      11920.000000\n",
       "Name: mhc, dtype: float64"
      ]
     },
     "execution_count": 4,
     "metadata": {},
     "output_type": "execute_result"
    }
   ],
   "source": [
    "df.mhc.value_counts().describe()"
   ]
  },
  {
   "cell_type": "code",
   "execution_count": 5,
   "metadata": {
    "collapsed": false
   },
   "outputs": [
    {
     "data": {
      "text/plain": [
       "HLAA0201    11920\n",
       "HLAA0301     7089\n",
       "HLAA0203     6302\n",
       "HLAA1101     6255\n",
       "HLAA3101     5628\n",
       "Name: mhc, dtype: int64"
      ]
     },
     "execution_count": 5,
     "metadata": {},
     "output_type": "execute_result"
    }
   ],
   "source": [
    "freq = df.mhc.value_counts()\n",
    "freq.head()"
   ]
  },
  {
   "cell_type": "code",
   "execution_count": 6,
   "metadata": {
    "collapsed": false
   },
   "outputs": [
    {
     "data": {
      "text/plain": [
       "<matplotlib.axes._subplots.AxesSubplot at 0x7fbf81d25da0>"
      ]
     },
     "execution_count": 6,
     "metadata": {},
     "output_type": "execute_result"
    },
    {
     "data": {
      "image/png": "[encoded data removed]",
      "text/plain": [
       "<matplotlib.figure.Figure at 0x7fbf81560e10>"
      ]
     },
     "metadata": {},
     "output_type": "display_data"
    }
   ],
   "source": [
    "ax = plt.figure(figsize=(10, 6))\n",
    "freq[freq>500].plot(kind='bar')"
   ]
  }
 ],
 "metadata": {
  "anaconda-cloud": {},
  "kernelspec": {
   "display_name": "Python [conda root]",
   "language": "python",
   "name": "conda-root-py"
  },
  "language_info": {
   "codemirror_mode": {
    "name": "ipython",
    "version": 3
   },
   "file_extension": ".py",
   "mimetype": "text/x-python",
   "name": "python",
   "nbconvert_exporter": "python",
   "pygments_lexer": "ipython3",
   "version": "3.5.2"
  }
 },
 "nbformat": 4,
 "nbformat_minor": 1
}
