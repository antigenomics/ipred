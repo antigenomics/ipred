{
 "cells": [
  {
   "cell_type": "code",
   "execution_count": 18,
   "metadata": {
    "collapsed": false
   },
   "outputs": [
    {
     "name": "stdout",
     "output_type": "stream",
     "text": [
      "Populating the interactive namespace from numpy and matplotlib\n"
     ]
    },
    {
     "name": "stderr",
     "output_type": "stream",
     "text": [
      "/home/vasily/anaconda2/lib/python2.7/site-packages/IPython/core/magics/pylab.py:161: UserWarning: pylab import has clobbered these variables: ['cm', 'plot', 'warnings']\n",
      "`%matplotlib` prevents importing * from pylab and numpy\n",
      "  \"\\n`%matplotlib` prevents importing * from pylab and numpy\"\n"
     ]
    }
   ],
   "source": [
    "%matplotlib inline\n",
    "%pylab inline\n",
    "import os\n",
    "import pandas as pd\n",
    "import numpy as np\n",
    "import matplotlib.pyplot as plt\n",
    "import pylab as pl\n",
    "from __future__ import division\n",
    "from mhcflurry import predict\n",
    "from mhcflurry import class1_allele_specific\n",
    "from sklearn.metrics import confusion_matrix, accuracy_score, roc_auc_score, roc_curve"
   ]
  },
  {
   "cell_type": "code",
   "execution_count": 2,
   "metadata": {
    "collapsed": false
   },
   "outputs": [
    {
     "name": "stdout",
     "output_type": "stream",
     "text": [
      "Reading immunogenic_peptides.txt\n"
     ]
    }
   ],
   "source": [
    "filepath = \"./data/immunogenic_peptides.txt\"\n",
    "if os.path.isfile(filepath):\n",
    "    df = pd.read_csv(filepath, sep=\"\\t\")\n",
    "    print(\"Reading {}\".format(os.path.basename(filepath)))\n",
    "else:\n",
    "    print(\"File path is wrong\")"
   ]
  },
  {
   "cell_type": "code",
   "execution_count": 3,
   "metadata": {
    "collapsed": false
   },
   "outputs": [
    {
     "data": {
      "text/html": [
       "<div>\n",
       "<table border=\"1\" class=\"dataframe\">\n",
       "  <thead>\n",
       "    <tr style=\"text-align: right;\">\n",
       "      <th></th>\n",
       "      <th>Peptide</th>\n",
       "      <th>MHC</th>\n",
       "      <th>Species</th>\n",
       "      <th>Immunogenicity</th>\n",
       "    </tr>\n",
       "  </thead>\n",
       "  <tbody>\n",
       "    <tr>\n",
       "      <th>0</th>\n",
       "      <td>AAFDRKSDAK</td>\n",
       "      <td>HLA-A1101</td>\n",
       "      <td>Homo</td>\n",
       "      <td>immunogenic</td>\n",
       "    </tr>\n",
       "    <tr>\n",
       "      <th>1</th>\n",
       "      <td>AAFEFINSL</td>\n",
       "      <td>H-2-Kb</td>\n",
       "      <td>Mus</td>\n",
       "      <td>immunogenic</td>\n",
       "    </tr>\n",
       "  </tbody>\n",
       "</table>\n",
       "</div>"
      ],
      "text/plain": [
       "      Peptide        MHC Species Immunogenicity\n",
       "0  AAFDRKSDAK  HLA-A1101    Homo    immunogenic\n",
       "1   AAFEFINSL     H-2-Kb     Mus    immunogenic"
      ]
     },
     "execution_count": 3,
     "metadata": {},
     "output_type": "execute_result"
    }
   ],
   "source": [
    "df.head(2)"
   ]
  },
  {
   "cell_type": "code",
   "execution_count": 4,
   "metadata": {
    "collapsed": false
   },
   "outputs": [
    {
     "data": {
      "text/plain": [
       "immunogenic        2167\n",
       "non-immunogenic     341\n",
       "Name: Immunogenicity, dtype: int64"
      ]
     },
     "execution_count": 4,
     "metadata": {},
     "output_type": "execute_result"
    }
   ],
   "source": [
    "df[\"Immunogenicity\"].value_counts()"
   ]
  },
  {
   "cell_type": "code",
   "execution_count": 7,
   "metadata": {
    "collapsed": false
   },
   "outputs": [
    {
     "name": "stdout",
     "output_type": "stream",
     "text": [
      "Predictions made\n",
      "Number of warnings is 1\n",
      "                          0\n",
      "Peptide           NIRQAGVQY\n",
      "MHC               HLA-B1502\n",
      "Species                Homo\n",
      "Immunogenicity  immunogenic\n"
     ]
    }
   ],
   "source": [
    "predictions = pd.DataFrame()\n",
    "warning = pd.DataFrame()\n",
    "warnings = 0\n",
    "warning_loc = []\n",
    "for i in range(len(df)):\n",
    "    try:\n",
    "        prediction = predict(alleles=df[\"MHC\"].iloc[i:i+1].reset_index(drop=True),\n",
    "                                   peptides=df[\"Peptide\"].iloc[i:i+1].reset_index(drop=True))\n",
    "        frame = [predictions, prediction]\n",
    "        predictions = pd.concat(frame)\n",
    "    except ValueError:\n",
    "        warnings += 1\n",
    "        frame = [warning, df.iloc[i]]\n",
    "        warning = pd.concat(frame)\n",
    "        warning_loc.append(i)\n",
    "if len(predictions):\n",
    "    print(\"Predictions made\")\n",
    "else:\n",
    "    print(\"Something went wrong\")\n",
    "print(\"Number of warnings is {}\".format(warnings))\n",
    "print(warning)"
   ]
  },
  {
   "cell_type": "code",
   "execution_count": 8,
   "metadata": {
    "collapsed": false
   },
   "outputs": [
    {
     "data": {
      "text/html": [
       "<div>\n",
       "<table border=\"1\" class=\"dataframe\">\n",
       "  <thead>\n",
       "    <tr style=\"text-align: right;\">\n",
       "      <th></th>\n",
       "      <th>Allele</th>\n",
       "      <th>Peptide</th>\n",
       "      <th>Prediction</th>\n",
       "    </tr>\n",
       "  </thead>\n",
       "  <tbody>\n",
       "    <tr>\n",
       "      <th>0</th>\n",
       "      <td>HLA-A1101</td>\n",
       "      <td>AAFDRKSDAK</td>\n",
       "      <td>367.609009</td>\n",
       "    </tr>\n",
       "    <tr>\n",
       "      <th>0</th>\n",
       "      <td>H-2-KB</td>\n",
       "      <td>AAFEFINSL</td>\n",
       "      <td>4.883403</td>\n",
       "    </tr>\n",
       "    <tr>\n",
       "      <th>0</th>\n",
       "      <td>HLA-B0801</td>\n",
       "      <td>AAHARFVAA</td>\n",
       "      <td>50.025242</td>\n",
       "    </tr>\n",
       "    <tr>\n",
       "      <th>0</th>\n",
       "      <td>H-2-DB</td>\n",
       "      <td>AAIGNMTLL</td>\n",
       "      <td>18.478685</td>\n",
       "    </tr>\n",
       "    <tr>\n",
       "      <th>0</th>\n",
       "      <td>H-2-DB</td>\n",
       "      <td>AAITIATPI</td>\n",
       "      <td>237.135406</td>\n",
       "    </tr>\n",
       "  </tbody>\n",
       "</table>\n",
       "</div>"
      ],
      "text/plain": [
       "      Allele     Peptide  Prediction\n",
       "0  HLA-A1101  AAFDRKSDAK  367.609009\n",
       "0     H-2-KB   AAFEFINSL    4.883403\n",
       "0  HLA-B0801   AAHARFVAA   50.025242\n",
       "0     H-2-DB   AAIGNMTLL   18.478685\n",
       "0     H-2-DB   AAITIATPI  237.135406"
      ]
     },
     "execution_count": 8,
     "metadata": {},
     "output_type": "execute_result"
    }
   ],
   "source": [
    "predictions.head(5)"
   ]
  },
  {
   "cell_type": "code",
   "execution_count": 9,
   "metadata": {
    "collapsed": false
   },
   "outputs": [],
   "source": [
    "def coding(col, codeDict):\n",
    "    colCoded = pd.Series(col, copy=True)\n",
    "    for key, value in codeDict.items():\n",
    "        colCoded.replace(key, value, inplace=True)\n",
    "    return colCoded"
   ]
  },
  {
   "cell_type": "code",
   "execution_count": 10,
   "metadata": {
    "collapsed": false
   },
   "outputs": [
    {
     "data": {
      "text/plain": [
       "1    2166\n",
       "0     341\n",
       "Name: Immunogenicity, dtype: int64"
      ]
     },
     "execution_count": 10,
     "metadata": {},
     "output_type": "execute_result"
    }
   ],
   "source": [
    "true_values = coding(df[\"Immunogenicity\"], {\"immunogenic\":1, \"non-immunogenic\":0})\n",
    "true_values = pd.DataFrame(true_values)\n",
    "true_values.index = range(1,len(true_values) + 1)\n",
    "true_values.drop(true_values.index[warning_loc], inplace=True)\n",
    "true_values[\"Immunogenicity\"].value_counts()"
   ]
  },
  {
   "cell_type": "code",
   "execution_count": 11,
   "metadata": {
    "collapsed": false
   },
   "outputs": [
    {
     "data": {
      "text/plain": [
       "0    1.334695\n",
       "0    1.419618\n",
       "Name: Prediction, dtype: float64"
      ]
     },
     "execution_count": 11,
     "metadata": {},
     "output_type": "execute_result"
    }
   ],
   "source": [
    "sorted_predictions = predictions[\"Prediction\"].sort_values()\n",
    "sorted_predictions.head(2)"
   ]
  },
  {
   "cell_type": "code",
   "execution_count": 12,
   "metadata": {
    "collapsed": false
   },
   "outputs": [
    {
     "data": {
      "text/plain": [
       "<function matplotlib.pyplot.show>"
      ]
     },
     "execution_count": 12,
     "metadata": {},
     "output_type": "execute_result"
    },
    {
     "data": {
      "image/png": "[encoded data removed]",
      "text/plain": [
       "<matplotlib.figure.Figure at 0x7f043c899ed0>"
      ]
     },
     "metadata": {},
     "output_type": "display_data"
    }
   ],
   "source": [
    "sorted_predictions.index = range(1,len(sorted_predictions) + 1)\n",
    "plt.figure()\n",
    "#plt.plot(sorted_predictions.index, sorted_predictions.values)\n",
    "plot = sorted_predictions.hist(bins=50)\n",
    "plot.set_xlim([0,5000])\n",
    "plt.show"
   ]
  },
  {
   "cell_type": "code",
   "execution_count": 13,
   "metadata": {
    "collapsed": false
   },
   "outputs": [
    {
     "data": {
      "text/plain": [
       "1    2218\n",
       "0     289\n",
       "Name: Prediction, dtype: int64"
      ]
     },
     "execution_count": 13,
     "metadata": {},
     "output_type": "execute_result"
    }
   ],
   "source": [
    "#sorted_predictions.columns = [\"Prediction\"]\n",
    "#sorted_predictions = pd.DataFrame(sorted_predictions)\n",
    "predicted_values = predictions[\"Prediction\"]\n",
    "predicted_values.index = range(1,len(predicted_values) + 1)\n",
    "predicted_values.columns = [\"Prediction\"]\n",
    "predicted_values = pd.DataFrame(predicted_values)\n",
    "predicted_values[\"Prediction\"] = np.where(predicted_values[\"Prediction\"] <= 500, 1, 0)\n",
    "predicted_values[\"Prediction\"].value_counts()"
   ]
  },
  {
   "cell_type": "code",
   "execution_count": 14,
   "metadata": {
    "collapsed": false
   },
   "outputs": [
    {
     "data": {
      "text/plain": [
       "0.8165137614678899"
      ]
     },
     "execution_count": 14,
     "metadata": {},
     "output_type": "execute_result"
    }
   ],
   "source": [
    "accuracy_score(true_values, predicted_values)"
   ]
  },
  {
   "cell_type": "code",
   "execution_count": 15,
   "metadata": {
    "collapsed": false
   },
   "outputs": [
    {
     "data": {
      "text/plain": [
       "0.57754201834266172"
      ]
     },
     "execution_count": 15,
     "metadata": {},
     "output_type": "execute_result"
    }
   ],
   "source": [
    "roc_auc_score(true_values, predicted_values)"
   ]
  },
  {
   "cell_type": "code",
   "execution_count": 20,
   "metadata": {
    "collapsed": false
   },
   "outputs": [
    {
     "data": {
      "text/plain": [
       "array([[  85,  256],\n",
       "       [ 204, 1962]])"
      ]
     },
     "execution_count": 20,
     "metadata": {},
     "output_type": "execute_result"
    }
   ],
   "source": [
    "confusion_matrix(true_values, predicted_values, labels=[0,1])\n"
   ]
  },
  {
   "cell_type": "code",
   "execution_count": 21,
   "metadata": {
    "collapsed": false
   },
   "outputs": [
    {
     "data": {
      "text/plain": [
       "0.1021140805743917"
      ]
     },
     "execution_count": 21,
     "metadata": {},
     "output_type": "execute_result"
    }
   ],
   "source": [
    "fn = 256/2507\n",
    "fn"
   ]
  },
  {
   "cell_type": "code",
   "execution_count": null,
   "metadata": {
    "collapsed": false
   },
   "outputs": [],
   "source": [
    "i = 0\n",
    "probabilities = []\n",
    "for x, y in zip(true_values[\"Immunogenicity\"], predicted_values[\"Prediction\"]):\n",
    "    if x == y:\n",
    "        i += 1\n",
    "    probabilities.append(i/len(true_values))"
   ]
  },
  {
   "cell_type": "code",
   "execution_count": null,
   "metadata": {
    "collapsed": false
   },
   "outputs": [],
   "source": [
    "fpr, tpr, thresholds = roc_curve(true_values, probabilities, pos_label=1)\n",
    "plt.figure()\n",
    "lw = 2\n",
    "plt.plot(fpr, tpr, color='darkorange', lw=lw, label='ROC curve')\n",
    "plt.plot([0, 1], [0, 1], color='navy', lw=2, linestyle='--')\n",
    "plt.xlim([0.0, 1.0])\n",
    "plt.ylim([0.0, 1.05])\n",
    "plt.xlabel('False Positive Rate')\n",
    "plt.ylabel('True Positive Rate')\n",
    "plt.show()"
   ]
  }
 ],
 "metadata": {
  "anaconda-cloud": {},
  "kernelspec": {
   "display_name": "Python [conda root]",
   "language": "python",
   "name": "conda-root-py"
  },
  "language_info": {
   "codemirror_mode": {
    "name": "ipython",
    "version": 2
   },
   "file_extension": ".py",
   "mimetype": "text/x-python",
   "name": "python",
   "nbconvert_exporter": "python",
   "pygments_lexer": "ipython2",
   "version": "2.7.12"
  }
 },
 "nbformat": 4,
 "nbformat_minor": 1
}
